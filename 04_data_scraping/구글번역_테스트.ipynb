{
 "cells": [
  {
   "cell_type": "code",
   "execution_count": 30,
   "id": "1b50942f",
   "metadata": {},
   "outputs": [
    {
     "name": "stdout",
     "output_type": "stream",
     "text": [
      "검색할 책을 입력해 주세요. 핀테크\n"
     ]
    },
    {
     "data": {
      "text/plain": [
       "'Fintech'"
      ]
     },
     "execution_count": 30,
     "metadata": {},
     "output_type": "execute_result"
    }
   ],
   "source": [
    "from selenium import webdriver\n",
    "from selenium.webdriver.chrome.service import Service\n",
    "from selenium.webdriver.chrome.options import Options\n",
    "from webdriver_manager.chrome import ChromeDriverManager\n",
    "from selenium.webdriver.common.by import By\n",
    "from selenium.webdriver.common.keys import Keys\n",
    "from selenium.webdriver.support.ui import WebDriverWait\n",
    "from selenium.webdriver.support import expected_conditions as EC\n",
    "import time\n",
    "import pandas as pd\n",
    "from book_dbio import to_book_db\n",
    "\n",
    "\n",
    "def kor2eng(keyword):\n",
    "    options = Options()\n",
    "    options.add_experimental_option(\"detach\", True)\n",
    "    options.add_argument(\"start-maximized\")\n",
    "    options.add_argument(\"Chrome/134.0.0.0\")\n",
    "    options.add_argument(\"lang=ko_KR\")\n",
    "\n",
    "    driver = webdriver.Chrome(\n",
    "        service=Service(ChromeDriverManager().install()),\n",
    "        options=options\n",
    "        )\n",
    "\n",
    "\n",
    "    url = \"https://translate.google.co.kr/?sl=ko&tl=en&op=translate\"\n",
    "    driver.get(url)\n",
    "\n",
    "    wait = WebDriverWait(driver, 10)\n",
    "    search_text_box = wait.until(EC.presence_of_element_located((By.CSS_SELECTOR, \"div > textarea\")))\n",
    "    search_text_box.send_keys(keyword)\n",
    "    search_text_box.send_keys(Keys.ENTER)\n",
    "\n",
    "    translated_box = wait.until(EC.presence_of_element_located((By.CSS_SELECTOR, \"div span.ryNqvb\"))\n",
    "    translated_text = translated_box.text\n",
    "    \n",
    "    return translated_text\n"
   ]
  },
  {
   "cell_type": "code",
   "execution_count": null,
   "id": "2d568038",
   "metadata": {},
   "outputs": [],
   "source": []
  },
  {
   "cell_type": "code",
   "execution_count": null,
   "id": "ba61f1c9",
   "metadata": {},
   "outputs": [],
   "source": []
  },
  {
   "cell_type": "code",
   "execution_count": null,
   "id": "88a16ebf",
   "metadata": {},
   "outputs": [],
   "source": []
  },
  {
   "cell_type": "code",
   "execution_count": null,
   "id": "a96586e6",
   "metadata": {},
   "outputs": [],
   "source": []
  }
 ],
 "metadata": {
  "kernelspec": {
   "display_name": "Python 3 (ipykernel)",
   "language": "python",
   "name": "python3"
  },
  "language_info": {
   "codemirror_mode": {
    "name": "ipython",
    "version": 3
   },
   "file_extension": ".py",
   "mimetype": "text/x-python",
   "name": "python",
   "nbconvert_exporter": "python",
   "pygments_lexer": "ipython3",
   "version": "3.9.21"
  }
 },
 "nbformat": 4,
 "nbformat_minor": 5
}
