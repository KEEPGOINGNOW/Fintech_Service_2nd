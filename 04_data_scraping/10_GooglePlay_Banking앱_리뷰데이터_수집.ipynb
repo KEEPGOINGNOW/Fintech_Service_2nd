{
 "cells": [
  {
   "cell_type": "markdown",
   "id": "f0dbe4ef",
   "metadata": {},
   "source": [
    "# GooglePlay Banking App 리뷰데이터 수집\n",
    "- https://play.google.com/store/apps/details?id=viva.republica.toss\n",
    "- https://play.google.com/store/apps/details?id=com.kakaobank.channel\n",
    "- https://play.google.com/store/apps/details?id=com.kbankwith.smartbank\n",
    "\n",
    "------\n",
    "\n",
    "#### 전체 데이터 몇 만개를 가져오는 것은 의미가 없음\n",
    "- 모든 리뷰에 날짜가 존재하기 때문에 2000개 정도의 데이터를 최신순으로 가져옴\n",
    "1. selenium으로 아래의 링크 접속\n",
    "2. 전체리뷰보기를 찾아 클릭\n",
    "3. 리뷰창이 뜨면 최신순으로 정렬\n",
    "4. 마우스 스크롤을 통해 오늘부터 2년전 날짜가 나올때까지 스크롤 진행\n",
    "5. 리뷰 데이터 수집\n",
    "    - 사용자 닉네임\n",
    "    - 별점\n",
    "    - 리뷰 작성 날짜\n",
    "    - 리뷰 내용\n",
    "    - 답변자 닉네임\n",
    "    - 답변 작성 날짜\n",
    "    - 답변 내용\n",
    "6. csv 파일로 저장 -> DB에 저장\n",
    "7. 수집 코드를 함수화하여 KB, 신한, 하나 리뷰도 저장"
   ]
  },
  {
   "cell_type": "code",
   "execution_count": 13,
   "id": "116a6bc9",
   "metadata": {},
   "outputs": [],
   "source": [
    "driver.quit() "
   ]
  },
  {
   "cell_type": "code",
   "execution_count": 2,
   "id": "b10e18f5",
   "metadata": {},
   "outputs": [],
   "source": [
    "# 토스 구글플레이스토어 페이지 확인\n",
    "from selenium import webdriver\n",
    "from selenium.webdriver.chrome.service import Service\n",
    "from selenium.webdriver.chrome.options import Options\n",
    "from webdriver_manager.chrome import ChromeDriverManager\n",
    "from selenium.webdriver.common.by import By\n",
    "from selenium.webdriver.common.keys import Keys\n",
    "from selenium.webdriver.support.ui import WebDriverWait\n",
    "from selenium.webdriver.support import expected_conditions as EC\n",
    "\n",
    "options = Options()\n",
    "options.add_experimental_option(\"detach\", True)\n",
    "options.add_argument('start_maximized')\n",
    "options.add_argument('Chrome/134.0.0.0')\n",
    "options.add_argument('lang=ko_KR')\n",
    "\n",
    "driver = webdriver.Chrome(service=Service(ChromeDriverManager().install()),options=options)\n",
    "url = 'https://play.google.com/store/apps/details?id=viva.republica.toss'\n",
    "driver.get(url)"
   ]
  },
  {
   "cell_type": "code",
   "execution_count": 3,
   "id": "6686fd69",
   "metadata": {},
   "outputs": [],
   "source": [
    "# 리뷰 데이터 전체 보기 클릭\n",
    "# WebDriverWait(driver, 10).until(EC.presence_of_element_located((By.CSS_SELECTOR, '#tmpInqStrDt')))\n",
    "\n",
    "WebDriverWait(driver, 10)\n",
    "path = '#yDmH0d .wkMJlb .qZmL0 c-wiz:nth-child(5) > section > header > div > div:nth-child(2) > button'\n",
    "driver.find_element(By.CSS_SELECTOR, path).click()"
   ]
  },
  {
   "cell_type": "code",
   "execution_count": 6,
   "id": "20975e8f",
   "metadata": {},
   "outputs": [],
   "source": [
    "# 리뷰 데이터를 최신순으로 정렬\n",
    "\n",
    "WebDriverWait(driver, 10)\n",
    "driver.find_element(By.CSS_SELECTOR, '#sortBy_1 > div.kW9Bj > i').click()\n",
    "\n",
    "path_new = '#yDmH0d .fysCi.Vk3ZVd .JPdR6b.e5Emjc.ah7Sve.qjTEB > div > div > span:nth-child(2)'\n",
    "driver.find_element(By.CSS_SELECTOR, path_new).click()"
   ]
  },
  {
   "cell_type": "code",
   "execution_count": 54,
   "id": "ff1e3a14",
   "metadata": {},
   "outputs": [],
   "source": [
    "import time\n",
    "\n",
    "# 리뷰가 담긴 창을 찾아서 JavaScript로 1000px씩 아래로 스크롤\n",
    "driver.execute_script(\"document.querySelector('.fysCi.Vk3ZVd').scrollBy(0, 1000)\")"
   ]
  },
  {
   "cell_type": "code",
   "execution_count": 132,
   "id": "22ba74d0",
   "metadata": {},
   "outputs": [
    {
     "data": {
      "text/plain": [
       "'1'"
      ]
     },
     "execution_count": 132,
     "metadata": {},
     "output_type": "execute_result"
    }
   ],
   "source": [
    "# 별점\n",
    "driver.find_element(By.CSS_SELECTOR,'div.Jx4nYe > div').get_attribute('aria-label').split()[3][0]"
   ]
  },
  {
   "cell_type": "code",
   "execution_count": 141,
   "id": "30b02218",
   "metadata": {},
   "outputs": [
    {
     "data": {
      "text/plain": [
       "'Young Carlo'"
      ]
     },
     "execution_count": 141,
     "metadata": {},
     "output_type": "execute_result"
    }
   ],
   "source": [
    "# 리뷰 데이터_사용자 닉네임\n",
    "driver.find_element(By.CSS_SELECTOR, \"#yDmH0d .fysCi.Vk3ZVd .odk6He .RHo1pe .c1bOId .YNR7H .gSGphe .X5PpBb\").text"
   ]
  },
  {
   "cell_type": "code",
   "execution_count": 119,
   "id": "8ad433d5",
   "metadata": {},
   "outputs": [
    {
     "data": {
      "text/plain": [
       "'2025년 4월 13일'"
      ]
     },
     "execution_count": 119,
     "metadata": {},
     "output_type": "execute_result"
    }
   ],
   "source": [
    "# 리뷰 데이터_사용자 리뷰 등록 날짜\n",
    "driver.find_element(By.CSS_SELECTOR, \"#yDmH0d .fysCi.Vk3ZVd .odk6He .RHo1pe .c1bOId .Jx4nYe\").text\n",
    "# driver.find_element(By.CSS_SELECTOR, \"div.Jx4nYe > span.bp9Aid\").text"
   ]
  },
  {
   "cell_type": "code",
   "execution_count": 104,
   "id": "bcc589b1",
   "metadata": {},
   "outputs": [
    {
     "data": {
      "text/plain": [
       "'이제 됐네요'"
      ]
     },
     "execution_count": 104,
     "metadata": {},
     "output_type": "execute_result"
    }
   ],
   "source": [
    "# 리뷰 데이터_사용자 리뷰\n",
    "driver.find_element(By.CSS_SELECTOR, \"#yDmH0d .fysCi.Vk3ZVd .odk6He .RHo1pe .h3YV2d\").text"
   ]
  },
  {
   "cell_type": "code",
   "execution_count": 162,
   "id": "ca5e77c1",
   "metadata": {},
   "outputs": [
    {
     "data": {
      "text/plain": [
       "'Viva Republica'"
      ]
     },
     "execution_count": 162,
     "metadata": {},
     "output_type": "execute_result"
    }
   ],
   "source": [
    "# 리뷰 데이터_답변자 닉네임\n",
    "driver.find_element(By.CSS_SELECTOR, \".fysCi.Vk3ZVd .ocpBU .I6j64d\").text"
   ]
  },
  {
   "cell_type": "code",
   "execution_count": 118,
   "id": "739f3d7c",
   "metadata": {},
   "outputs": [
    {
     "data": {
      "text/plain": [
       "'2025년 4월 13일'"
      ]
     },
     "execution_count": 118,
     "metadata": {},
     "output_type": "execute_result"
    }
   ],
   "source": [
    "# 리뷰 데이터_답변자 답변 작성 날짜\n",
    "driver.find_element(By.CSS_SELECTOR, \"#yDmH0d .fysCi.Vk3ZVd .odk6He .RHo1pe .ocpBU .T6E0ze .I9Jtec\").text"
   ]
  },
  {
   "cell_type": "code",
   "execution_count": 89,
   "id": "53cb1415",
   "metadata": {},
   "outputs": [
    {
     "data": {
      "text/plain": [
       "'안녕하세요. 임의수님, 토스팀입니다. 불편한 사항이 잘 해소 되셨을까요? 보다 편리한 토스 사용 경험을 하실 수 있도록 노력 하겠습니다. 다른 문의 사항이 있다면 24시간 운영되는 카카오톡(@toss) 또는 고객센터 1599-4905로 문의 부탁드립니다. 감사합니다.'"
      ]
     },
     "execution_count": 89,
     "metadata": {},
     "output_type": "execute_result"
    }
   ],
   "source": [
    "# 리뷰 데이터_답변자 답변 내용\n",
    "driver.find_element(By.CSS_SELECTOR, \"#yDmH0d .fysCi.Vk3ZVd .odk6He .RHo1pe .ocpBU .ras4vb\").text"
   ]
  },
  {
   "cell_type": "code",
   "execution_count": 92,
   "id": "162c9a1d",
   "metadata": {},
   "outputs": [
    {
     "data": {
      "text/plain": [
       "datetime.datetime(2025, 4, 13, 0, 0)"
      ]
     },
     "execution_count": 92,
     "metadata": {},
     "output_type": "execute_result"
    }
   ],
   "source": [
    "from datetime import datetime, timedelta\n",
    "\n",
    "# 리뷰일을 날짜형 데이터로 변경\n",
    "review_date = driver.find_element(By.CSS_SELECTOR, \"#yDmH0d .fysCi.Vk3ZVd .odk6He .RHo1pe .c1bOId .Jx4nYe\").text\n",
    "review_date = review_date.replace('년 ','-').replace('월 ','-').replace('일','')\n",
    "review_date = datetime.strptime(review_date, '%Y-%m-%d')\n",
    "review_date"
   ]
  },
  {
   "cell_type": "code",
   "execution_count": 71,
   "id": "af9432cf",
   "metadata": {},
   "outputs": [],
   "source": [
    "# 오늘부터 한달 전 날짜 확인\n",
    "today = datetime.today()\n",
    "twoyrago = today - timedelta(days=30)"
   ]
  },
  {
   "cell_type": "code",
   "execution_count": 49,
   "id": "166d944a",
   "metadata": {},
   "outputs": [
    {
     "data": {
      "text/plain": [
       "datetime.datetime(2025, 4, 12, 0, 0)"
      ]
     },
     "execution_count": 49,
     "metadata": {},
     "output_type": "execute_result"
    }
   ],
   "source": [
    "review = driver.find_elements(By.CSS_SELECTOR, \".RHo1pe\")[-1]\n",
    "# print(len(review))\n",
    "end_date = review.find_element(By.CSS_SELECTOR,\"div.Jx4nYe > span.bp9Aid\").text\n",
    "end_date = end_date.replace('년 ','-').replace('월 ','-').replace('일','')\n",
    "end_date = datetime.strptime(end_date, '%Y-%m-%d')\n",
    "end_date"
   ]
  },
  {
   "cell_type": "code",
   "execution_count": 53,
   "id": "ea6f2fa1",
   "metadata": {},
   "outputs": [
    {
     "name": "stdout",
     "output_type": "stream",
     "text": [
      "2025-04-12 00:00:00 2024-04-14 10:12:43.788012\n"
     ]
    },
    {
     "data": {
      "text/plain": [
       "False"
      ]
     },
     "execution_count": 53,
     "metadata": {},
     "output_type": "execute_result"
    }
   ],
   "source": [
    "print(end_date, twoyrago)\n",
    "end_date < twoyrago"
   ]
  },
  {
   "cell_type": "markdown",
   "id": "75314b59",
   "metadata": {},
   "source": [
    "# 개별 코드 합치기\n"
   ]
  },
  {
   "cell_type": "code",
   "execution_count": 111,
   "id": "016621f5",
   "metadata": {},
   "outputs": [
    {
     "name": "stdout",
     "output_type": "stream",
     "text": [
      "현재 리뷰 날짜: 2025-03-14 00:00:00, 리뷰 수: 440\r"
     ]
    }
   ],
   "source": [
    "# 토스 구글플레이스토어 페이지 확인\n",
    "from selenium import webdriver\n",
    "from selenium.webdriver.chrome.service import Service\n",
    "from selenium.webdriver.chrome.options import Options\n",
    "from webdriver_manager.chrome import ChromeDriverManager\n",
    "from selenium.webdriver.common.by import By\n",
    "from selenium.webdriver.common.keys import Keys\n",
    "from selenium.webdriver.support.ui import WebDriverWait\n",
    "from selenium.webdriver.support import expected_conditions as EC\n",
    "\n",
    "options = Options()\n",
    "options.add_experimental_option(\"detach\", True)\n",
    "options.add_argument('start_maximized')\n",
    "options.add_argument('Chrome/134.0.0.0')\n",
    "options.add_argument('lang=ko_KR')\n",
    "\n",
    "driver = webdriver.Chrome(service=Service(ChromeDriverManager().install()),options=options)\n",
    "url = 'https://play.google.com/store/apps/details?id=viva.republica.toss'\n",
    "driver.get(url)\n",
    "\n",
    "# 리뷰 데이터 전체 보기 클릭\n",
    "WebDriverWait(driver, 10)\n",
    "path = '#yDmH0d .wkMJlb .qZmL0 c-wiz:nth-child(5) > section > header > div > div:nth-child(2) > button'\n",
    "driver.find_element(By.CSS_SELECTOR, path).click()\n",
    "\n",
    "# 리뷰 데이터를 최신순으로 정렬\n",
    "WebDriverWait(driver, 10)\n",
    "driver.find_element(By.CSS_SELECTOR, '#sortBy_1 > div.kW9Bj > i').click()\n",
    "path_new = '#yDmH0d .fysCi.Vk3ZVd .JPdR6b.e5Emjc.ah7Sve.qjTEB > div > div > span:nth-child(2)'\n",
    "driver.find_element(By.CSS_SELECTOR, path_new).click()\n",
    "\n",
    "time.sleep(3)\n",
    "\n",
    "# 오늘부터 한달 전 날짜 확인\n",
    "today = datetime.today()\n",
    "end_date = today - timedelta(days=30)\n",
    "current_date = \"\"\n",
    "reviews = \"\"\n",
    "\n",
    "while True:\n",
    "    \n",
    "    try:\n",
    "        # 리뷰가 담긴 창을 찾아서 JavaScript로 1000px씩 아래로 스크롤\n",
    "        driver.execute_script(\"document.querySelector('.fysCi.Vk3ZVd').scrollBy(0, 1000)\")\n",
    "        time.sleep(1)\n",
    "\n",
    "        # 리뷰들 중 가장 마지막 데이터 날짜 추출해 날짜 데이터로 반환\n",
    "        reviews = driver.find_elements(By.CSS_SELECTOR, \".RHo1pe\")\n",
    "        current_date = reviews[-1].find_element(By.CSS_SELECTOR,\"div.Jx4nYe > span.bp9Aid\").text\n",
    "        current_date = current_date.replace('년 ','-').replace('월 ','-').replace('일','')\n",
    "        current_date = datetime.strptime(current_date, '%Y-%m-%d')\n",
    "        print(f\"현재 리뷰 날짜: {current_date}, 리뷰 수: {len(reviews)}\", end='\\r')\n",
    "    except:\n",
    "        reviews = driver.find_elements(By.CSS_SELECTOR, \".RHo1pe\")\n",
    "        print(f\"현재 리뷰 날짜: {current_date}, 리뷰 수: {len(reviews)}\", end='\\r')\n",
    "    \n",
    "    if current_date < end_date:\n",
    "        break\n",
    "        "
   ]
  },
  {
   "cell_type": "code",
   "execution_count": 113,
   "id": "149eb8d7",
   "metadata": {},
   "outputs": [
    {
     "name": "stdout",
     "output_type": "stream",
     "text": [
      "440\n"
     ]
    }
   ],
   "source": [
    "print(len(reviews))"
   ]
  },
  {
   "cell_type": "code",
   "execution_count": 112,
   "id": "8a5e13d1",
   "metadata": {},
   "outputs": [],
   "source": [
    "# !pip install tqdm"
   ]
  },
  {
   "cell_type": "code",
   "execution_count": 177,
   "id": "2c191e76",
   "metadata": {},
   "outputs": [
    {
     "name": "stderr",
     "output_type": "stream",
     "text": [
      "  0%|                                                                                          | 0/440 [00:00<?, ?it/s]\n"
     ]
    },
    {
     "ename": "NoSuchElementException",
     "evalue": "Message: no such element: Unable to locate element: {\"method\":\"css selector\",\"selector\":\"span.I6j64d\"}\n  (Session info: chrome=135.0.7049.85); For documentation on this error, please visit: https://www.selenium.dev/documentation/webdriver/troubleshooting/errors#no-such-element-exception\nStacktrace:\n\tGetHandleVerifier [0x007F80E3+60707]\n\tGetHandleVerifier [0x007F8124+60772]\n\t(No symbol) [0x00620683]\n\t(No symbol) [0x00668660]\n\t(No symbol) [0x006689FB]\n\t(No symbol) [0x0065DD81]\n\t(No symbol) [0x0068D094]\n\t(No symbol) [0x0065DCA4]\n\t(No symbol) [0x0068D2C4]\n\t(No symbol) [0x006AE824]\n\t(No symbol) [0x0068CE46]\n\t(No symbol) [0x0065C5D3]\n\t(No symbol) [0x0065D424]\n\tGetHandleVerifier [0x00A3BBC3+2435075]\n\tGetHandleVerifier [0x00A37163+2416035]\n\tGetHandleVerifier [0x00A5350C+2531660]\n\tGetHandleVerifier [0x0080F1B5+155125]\n\tGetHandleVerifier [0x00815B5D+182173]\n\tGetHandleVerifier [0x007FF9B8+91640]\n\tGetHandleVerifier [0x007FFB60+92064]\n\tGetHandleVerifier [0x007EA620+4704]\n\tBaseThreadInitThunk [0x778FFCC9+25]\n\tRtlGetAppContainerNamedObjectPath [0x77A482AE+286]\n\tRtlGetAppContainerNamedObjectPath [0x77A4827E+238]\n",
     "output_type": "error",
     "traceback": [
      "\u001b[1;31m---------------------------------------------------------------------------\u001b[0m",
      "\u001b[1;31mNoSuchElementException\u001b[0m                    Traceback (most recent call last)",
      "Cell \u001b[1;32mIn[177], line 30\u001b[0m\n\u001b[0;32m     27\u001b[0m     request_date \u001b[38;5;241m=\u001b[39m \u001b[38;5;28;01mNone\u001b[39;00m\n\u001b[0;32m     29\u001b[0m \u001b[38;5;66;03m# 리뷰 데이터_답변자 닉네임\u001b[39;00m\n\u001b[1;32m---> 30\u001b[0m request_name \u001b[38;5;241m=\u001b[39m \u001b[43mreply_section\u001b[49m\u001b[38;5;241;43m.\u001b[39;49m\u001b[43mfind_element\u001b[49m\u001b[43m(\u001b[49m\u001b[43mBy\u001b[49m\u001b[38;5;241;43m.\u001b[39;49m\u001b[43mCSS_SELECTOR\u001b[49m\u001b[43m,\u001b[49m\u001b[43m \u001b[49m\u001b[38;5;124;43m\"\u001b[39;49m\u001b[38;5;124;43mspan.I6j64d\u001b[39;49m\u001b[38;5;124;43m\"\u001b[39;49m\u001b[43m)\u001b[49m\u001b[38;5;241m.\u001b[39mtext\n\u001b[0;32m     33\u001b[0m \u001b[38;5;66;03m# 리뷰 데이터_답변자 답변 내용\u001b[39;00m\n\u001b[0;32m     34\u001b[0m \u001b[38;5;28;01mtry\u001b[39;00m:\n",
      "File \u001b[1;32m~\\miniforge3\\envs\\fintech\\lib\\site-packages\\selenium\\webdriver\\remote\\webelement.py:601\u001b[0m, in \u001b[0;36mWebElement.find_element\u001b[1;34m(self, by, value)\u001b[0m\n\u001b[0;32m    575\u001b[0m \u001b[38;5;250m\u001b[39m\u001b[38;5;124;03m\"\"\"Find an element given a By strategy and locator.\u001b[39;00m\n\u001b[0;32m    576\u001b[0m \n\u001b[0;32m    577\u001b[0m \u001b[38;5;124;03mParameters:\u001b[39;00m\n\u001b[1;32m   (...)\u001b[0m\n\u001b[0;32m    598\u001b[0m \u001b[38;5;124;03m    The first matching `WebElement` found on the page.\u001b[39;00m\n\u001b[0;32m    599\u001b[0m \u001b[38;5;124;03m\"\"\"\u001b[39;00m\n\u001b[0;32m    600\u001b[0m by, value \u001b[38;5;241m=\u001b[39m \u001b[38;5;28mself\u001b[39m\u001b[38;5;241m.\u001b[39m_parent\u001b[38;5;241m.\u001b[39mlocator_converter\u001b[38;5;241m.\u001b[39mconvert(by, value)\n\u001b[1;32m--> 601\u001b[0m \u001b[38;5;28;01mreturn\u001b[39;00m \u001b[38;5;28;43mself\u001b[39;49m\u001b[38;5;241;43m.\u001b[39;49m\u001b[43m_execute\u001b[49m\u001b[43m(\u001b[49m\u001b[43mCommand\u001b[49m\u001b[38;5;241;43m.\u001b[39;49m\u001b[43mFIND_CHILD_ELEMENT\u001b[49m\u001b[43m,\u001b[49m\u001b[43m \u001b[49m\u001b[43m{\u001b[49m\u001b[38;5;124;43m\"\u001b[39;49m\u001b[38;5;124;43musing\u001b[39;49m\u001b[38;5;124;43m\"\u001b[39;49m\u001b[43m:\u001b[49m\u001b[43m \u001b[49m\u001b[43mby\u001b[49m\u001b[43m,\u001b[49m\u001b[43m \u001b[49m\u001b[38;5;124;43m\"\u001b[39;49m\u001b[38;5;124;43mvalue\u001b[39;49m\u001b[38;5;124;43m\"\u001b[39;49m\u001b[43m:\u001b[49m\u001b[43m \u001b[49m\u001b[43mvalue\u001b[49m\u001b[43m}\u001b[49m\u001b[43m)\u001b[49m[\u001b[38;5;124m\"\u001b[39m\u001b[38;5;124mvalue\u001b[39m\u001b[38;5;124m\"\u001b[39m]\n",
      "File \u001b[1;32m~\\miniforge3\\envs\\fintech\\lib\\site-packages\\selenium\\webdriver\\remote\\webelement.py:572\u001b[0m, in \u001b[0;36mWebElement._execute\u001b[1;34m(self, command, params)\u001b[0m\n\u001b[0;32m    570\u001b[0m     params \u001b[38;5;241m=\u001b[39m {}\n\u001b[0;32m    571\u001b[0m params[\u001b[38;5;124m\"\u001b[39m\u001b[38;5;124mid\u001b[39m\u001b[38;5;124m\"\u001b[39m] \u001b[38;5;241m=\u001b[39m \u001b[38;5;28mself\u001b[39m\u001b[38;5;241m.\u001b[39m_id\n\u001b[1;32m--> 572\u001b[0m \u001b[38;5;28;01mreturn\u001b[39;00m \u001b[38;5;28;43mself\u001b[39;49m\u001b[38;5;241;43m.\u001b[39;49m\u001b[43m_parent\u001b[49m\u001b[38;5;241;43m.\u001b[39;49m\u001b[43mexecute\u001b[49m\u001b[43m(\u001b[49m\u001b[43mcommand\u001b[49m\u001b[43m,\u001b[49m\u001b[43m \u001b[49m\u001b[43mparams\u001b[49m\u001b[43m)\u001b[49m\n",
      "File \u001b[1;32m~\\miniforge3\\envs\\fintech\\lib\\site-packages\\selenium\\webdriver\\remote\\webdriver.py:429\u001b[0m, in \u001b[0;36mWebDriver.execute\u001b[1;34m(self, driver_command, params)\u001b[0m\n\u001b[0;32m    427\u001b[0m response \u001b[38;5;241m=\u001b[39m \u001b[38;5;28mself\u001b[39m\u001b[38;5;241m.\u001b[39mcommand_executor\u001b[38;5;241m.\u001b[39mexecute(driver_command, params)\n\u001b[0;32m    428\u001b[0m \u001b[38;5;28;01mif\u001b[39;00m response:\n\u001b[1;32m--> 429\u001b[0m     \u001b[38;5;28;43mself\u001b[39;49m\u001b[38;5;241;43m.\u001b[39;49m\u001b[43merror_handler\u001b[49m\u001b[38;5;241;43m.\u001b[39;49m\u001b[43mcheck_response\u001b[49m\u001b[43m(\u001b[49m\u001b[43mresponse\u001b[49m\u001b[43m)\u001b[49m\n\u001b[0;32m    430\u001b[0m     response[\u001b[38;5;124m\"\u001b[39m\u001b[38;5;124mvalue\u001b[39m\u001b[38;5;124m\"\u001b[39m] \u001b[38;5;241m=\u001b[39m \u001b[38;5;28mself\u001b[39m\u001b[38;5;241m.\u001b[39m_unwrap_value(response\u001b[38;5;241m.\u001b[39mget(\u001b[38;5;124m\"\u001b[39m\u001b[38;5;124mvalue\u001b[39m\u001b[38;5;124m\"\u001b[39m, \u001b[38;5;28;01mNone\u001b[39;00m))\n\u001b[0;32m    431\u001b[0m     \u001b[38;5;28;01mreturn\u001b[39;00m response\n",
      "File \u001b[1;32m~\\miniforge3\\envs\\fintech\\lib\\site-packages\\selenium\\webdriver\\remote\\errorhandler.py:232\u001b[0m, in \u001b[0;36mErrorHandler.check_response\u001b[1;34m(self, response)\u001b[0m\n\u001b[0;32m    230\u001b[0m         alert_text \u001b[38;5;241m=\u001b[39m value[\u001b[38;5;124m\"\u001b[39m\u001b[38;5;124malert\u001b[39m\u001b[38;5;124m\"\u001b[39m]\u001b[38;5;241m.\u001b[39mget(\u001b[38;5;124m\"\u001b[39m\u001b[38;5;124mtext\u001b[39m\u001b[38;5;124m\"\u001b[39m)\n\u001b[0;32m    231\u001b[0m     \u001b[38;5;28;01mraise\u001b[39;00m exception_class(message, screen, stacktrace, alert_text)  \u001b[38;5;66;03m# type: ignore[call-arg]  # mypy is not smart enough here\u001b[39;00m\n\u001b[1;32m--> 232\u001b[0m \u001b[38;5;28;01mraise\u001b[39;00m exception_class(message, screen, stacktrace)\n",
      "\u001b[1;31mNoSuchElementException\u001b[0m: Message: no such element: Unable to locate element: {\"method\":\"css selector\",\"selector\":\"span.I6j64d\"}\n  (Session info: chrome=135.0.7049.85); For documentation on this error, please visit: https://www.selenium.dev/documentation/webdriver/troubleshooting/errors#no-such-element-exception\nStacktrace:\n\tGetHandleVerifier [0x007F80E3+60707]\n\tGetHandleVerifier [0x007F8124+60772]\n\t(No symbol) [0x00620683]\n\t(No symbol) [0x00668660]\n\t(No symbol) [0x006689FB]\n\t(No symbol) [0x0065DD81]\n\t(No symbol) [0x0068D094]\n\t(No symbol) [0x0065DCA4]\n\t(No symbol) [0x0068D2C4]\n\t(No symbol) [0x006AE824]\n\t(No symbol) [0x0068CE46]\n\t(No symbol) [0x0065C5D3]\n\t(No symbol) [0x0065D424]\n\tGetHandleVerifier [0x00A3BBC3+2435075]\n\tGetHandleVerifier [0x00A37163+2416035]\n\tGetHandleVerifier [0x00A5350C+2531660]\n\tGetHandleVerifier [0x0080F1B5+155125]\n\tGetHandleVerifier [0x00815B5D+182173]\n\tGetHandleVerifier [0x007FF9B8+91640]\n\tGetHandleVerifier [0x007FFB60+92064]\n\tGetHandleVerifier [0x007EA620+4704]\n\tBaseThreadInitThunk [0x778FFCC9+25]\n\tRtlGetAppContainerNamedObjectPath [0x77A482AE+286]\n\tRtlGetAppContainerNamedObjectPath [0x77A4827E+238]\n"
     ]
    }
   ],
   "source": [
    "from tqdm import tqdm\n",
    "\n",
    "all_result = []\n",
    "for review in tqdm(reviews):\n",
    "    \n",
    "    # 리뷰일을 날짜형 데이터로 변경\n",
    "    review_date = review.find_element(By.CSS_SELECTOR, \".c1bOId .Jx4nYe\").text\n",
    "    review_date = review_date.replace('년 ','-').replace('월 ','-').replace('일','')\n",
    "    review_date = datetime.strptime(review_date, '%Y-%m-%d')\n",
    "\n",
    "    # 리뷰 데이터_사용자 닉네임\n",
    "    user_name = review.find_element(By.CSS_SELECTOR, \".YNR7H .X5PpBb\").text\n",
    "\n",
    "    # 별점\n",
    "    user_score = review.find_element(By.CSS_SELECTOR,'div.Jx4nYe > div').get_attribute('aria-label').split()[3][0]\n",
    "\n",
    "    # 리뷰 데이터_사용자 리뷰\n",
    "    user_review = review.find_element(By.CSS_SELECTOR, \"div.h3YV2d\").text\n",
    "\n",
    "    # 리뷰 데이터_답변자 답변 작성 날짜\n",
    "    reply_section = review.find_element(By.CSS_SELECTOR, \"div.ocpBU\")\n",
    "    \n",
    "    try:\n",
    "        request_date = reply_section.find_element(By.CSS_SELECTOR, \"span.I9Jtec\").text\n",
    "        request_date = request_date.replace('년 ','-').replace('월 ','-').replace('일','')\n",
    "        request_date = datetime.strptime(request_date, '%Y-%m-%d')\n",
    "    except:\n",
    "        request_date = None\n",
    "\n",
    "    # 리뷰 데이터_답변자 닉네임\n",
    "    request_name = reply_section.find_element(By.CSS_SELECTOR, \"span.I6j64d\").text\n",
    "                \n",
    "\n",
    "    # 리뷰 데이터_답변자 답변 내용\n",
    "    try:\n",
    "        reply = reply_section.find_element(By.CSS_SELECTOR, \"div.ras4vb\").text\n",
    "    except:\n",
    "        reply = None\n",
    "    \n",
    "    result = (review_date, user_name, user_score, user_review, request_date, request_name, reply)\n",
    "    all_result.append(result)\n",
    "\n",
    "result_df = pd.DataFrame(all_result, columns=['리뷰일자', '사용자이름', '별점', '리뷰', '답변일자', '답변자이름', '답변'])\n",
    "display(result_df)\n",
    "\n"
   ]
  },
  {
   "cell_type": "code",
   "execution_count": null,
   "id": "ecbfe466",
   "metadata": {},
   "outputs": [],
   "source": []
  },
  {
   "cell_type": "code",
   "execution_count": null,
   "id": "67b7cbe9",
   "metadata": {},
   "outputs": [],
   "source": []
  },
  {
   "cell_type": "markdown",
   "id": "8c6336f4",
   "metadata": {},
   "source": [
    "1. API를 통한 데이터 수집 : naver, 공공데이터\n",
    "2. requests get\n",
    "3. 정적웹페이지 데이터 수집 : yes24, 상장정보, naver금융 -> requests.get, requests.post\n",
    "4. 동적웹페이지 - naver 책, 하나은행 환율정보, 구글play 리뷰 -> selenium\n",
    "5. 함수화, 모듈화(dbio), 실행파일로 만들고 스케줄러로 자동화\n",
    "\n",
    "#### 데이터 파이프라인 : 수집 / 정제 / 저장 + 분석 / 분석결과까지 자동화 가능(분석 결과가 괜찮게 나옴)\n",
    "#### DB, HTML, CSS, Javascript"
   ]
  },
  {
   "cell_type": "code",
   "execution_count": null,
   "id": "1f517a4b",
   "metadata": {},
   "outputs": [],
   "source": []
  },
  {
   "cell_type": "code",
   "execution_count": null,
   "id": "181dcce4",
   "metadata": {},
   "outputs": [],
   "source": []
  },
  {
   "cell_type": "code",
   "execution_count": null,
   "id": "66bec202",
   "metadata": {},
   "outputs": [],
   "source": []
  },
  {
   "cell_type": "code",
   "execution_count": null,
   "id": "8efc6106",
   "metadata": {},
   "outputs": [],
   "source": []
  },
  {
   "cell_type": "code",
   "execution_count": null,
   "id": "d99fab03",
   "metadata": {},
   "outputs": [],
   "source": []
  },
  {
   "cell_type": "code",
   "execution_count": null,
   "id": "d2a0a46e",
   "metadata": {},
   "outputs": [],
   "source": []
  },
  {
   "cell_type": "code",
   "execution_count": null,
   "id": "f7bdea56",
   "metadata": {},
   "outputs": [],
   "source": []
  }
 ],
 "metadata": {
  "kernelspec": {
   "display_name": "Python 3 (ipykernel)",
   "language": "python",
   "name": "python3"
  },
  "language_info": {
   "codemirror_mode": {
    "name": "ipython",
    "version": 3
   },
   "file_extension": ".py",
   "mimetype": "text/x-python",
   "name": "python",
   "nbconvert_exporter": "python",
   "pygments_lexer": "ipython3",
   "version": "3.9.21"
  }
 },
 "nbformat": 4,
 "nbformat_minor": 5
}
