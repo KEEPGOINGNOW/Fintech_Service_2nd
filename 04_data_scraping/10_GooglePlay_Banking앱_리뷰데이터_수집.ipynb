{
 "cells": [
  {
   "cell_type": "markdown",
   "id": "f0dbe4ef",
   "metadata": {},
   "source": [
    "# GooglePlay Banking App 리뷰데이터 수집\n",
    "- https://play.google.com/store/apps/details?id=viva.republica.toss\n",
    "- https://play.google.com/store/apps/details?id=com.kakaobank.channel\n",
    "- https://play.google.com/store/apps/details?id=com.kbankwith.smartbank\n",
    "\n",
    "------\n",
    "\n",
    "#### 전체 데이터 몇 만개를 가져오는 것은 의미가 없음\n",
    "- 모든 리뷰에 날짜가 존재하기 때문에 2000개 정도의 데이터를 최신순으로 가져옴\n",
    "1. selenium으로 아래의 링크 접속\n",
    "2. 전체리뷰보기를 찾아 클릭\n",
    "3. 리뷰창이 뜨면 최신순으로 정렬\n",
    "4. 마우스 스크롤을 통해 오늘부터 2년전 날짜가 나올때까지 스크롤 진행\n",
    "5. 리뷰 데이터 수집\n",
    "    - 사용자 닉네임\n",
    "    - 별점\n",
    "    - 리뷰 작성 날짜\n",
    "    - 리뷰 내용\n",
    "    - 답변자 닉네임\n",
    "    - 답변 작성 날짜\n",
    "    - 답변 내용\n",
    "6. csv 파일로 저장 -> DB에 저장\n",
    "7. 수집 코드를 함수화하여 KB, 신한, 하나 리뷰도 저장"
   ]
  },
  {
   "cell_type": "code",
   "execution_count": 13,
   "id": "116a6bc9",
   "metadata": {},
   "outputs": [],
   "source": [
    "driver.quit() "
   ]
  },
  {
   "cell_type": "code",
   "execution_count": 66,
   "id": "b10e18f5",
   "metadata": {},
   "outputs": [],
   "source": [
    "# 토스 구글플레이스토어 페이지 확인\n",
    "from selenium import webdriver\n",
    "from selenium.webdriver.chrome.service import Service\n",
    "from selenium.webdriver.chrome.options import Options\n",
    "from webdriver_manager.chrome import ChromeDriverManager\n",
    "from selenium.webdriver.common.by import By\n",
    "from selenium.webdriver.common.keys import Keys\n",
    "from selenium.webdriver.support.ui import WebDriverWait\n",
    "from selenium.webdriver.support import expected_conditions as EC\n",
    "\n",
    "options = Options()\n",
    "options.add_experimental_option(\"detach\", True)\n",
    "options.add_argument('start_maximized')\n",
    "options.add_argument('Chrome/134.0.0.0')\n",
    "options.add_argument('lang=ko_KR')\n",
    "\n",
    "driver = webdriver.Chrome(service=Service(ChromeDriverManager().install()),options=options)\n",
    "url = 'https://play.google.com/store/apps/details?id=viva.republica.toss'\n",
    "driver.get(url)"
   ]
  },
  {
   "cell_type": "code",
   "execution_count": 213,
   "id": "6686fd69",
   "metadata": {},
   "outputs": [],
   "source": [
    "# 리뷰 데이터 전체 보기 클릭\n",
    "# WebDriverWait(driver, 10).until(EC.presence_of_element_located((By.CSS_SELECTOR, '#tmpInqStrDt')))\n",
    "\n",
    "WebDriverWait(driver, 10)\n",
    "path = '#yDmH0d .wkMJlb .qZmL0 c-wiz:nth-child(5) > section > header > div > div:nth-child(2) > button'\n",
    "driver.find_element(By.CSS_SELECTOR, path).click()"
   ]
  },
  {
   "cell_type": "code",
   "execution_count": 214,
   "id": "20975e8f",
   "metadata": {},
   "outputs": [],
   "source": [
    "# 리뷰 데이터를 최신순으로 정렬\n",
    "\n",
    "WebDriverWait(driver, 10)\n",
    "driver.find_element(By.CSS_SELECTOR, '#sortBy_1 > div.kW9Bj > i').click()\n",
    "\n",
    "path_new = '#yDmH0d .fysCi.Vk3ZVd .JPdR6b.e5Emjc.ah7Sve.qjTEB > div > div > span:nth-child(2)'\n",
    "driver.find_element(By.CSS_SELECTOR, path_new).click()"
   ]
  },
  {
   "cell_type": "code",
   "execution_count": 212,
   "id": "ff1e3a14",
   "metadata": {},
   "outputs": [],
   "source": [
    "# 리뷰가 담긴 창을 찾아서 자바스크립트로 1000씩 아래로 스크롤\n",
    "# driver.execute_script('document.querySelect(.)')"
   ]
  },
  {
   "cell_type": "code",
   "execution_count": 217,
   "id": "22ba74d0",
   "metadata": {},
   "outputs": [
    {
     "data": {
      "text/plain": [
       "'5'"
      ]
     },
     "execution_count": 217,
     "metadata": {},
     "output_type": "execute_result"
    }
   ],
   "source": [
    "driver.find_element(By.CSS_SELECTOR, 'div.Jx4nYe > div').get_attribute('aria-label').split()[3][0]"
   ]
  },
  {
   "cell_type": "code",
   "execution_count": null,
   "id": "30b02218",
   "metadata": {},
   "outputs": [],
   "source": [
    "# 리뷰 데이터_사용자 닉네임\n",
    "driver.find_element(By.CSS_SELECTOR, \"#yDmH0d .fysCi.Vk3ZVd .odk6He .RHo1pe .c1bOId .YNR7H .gSGphe .X5PpBb\").text"
   ]
  },
  {
   "cell_type": "code",
   "execution_count": 219,
   "id": "8ad433d5",
   "metadata": {},
   "outputs": [
    {
     "data": {
      "text/plain": [
       "'2025년 3월 22일'"
      ]
     },
     "execution_count": 219,
     "metadata": {},
     "output_type": "execute_result"
    }
   ],
   "source": [
    "# 리뷰 데이터_사용자 리뷰 등록 날짜\n",
    "driver.find_element(By.CSS_SELECTOR, \"#yDmH0d .fysCi.Vk3ZVd .odk6He .RHo1pe .c1bOId .Jx4nYe\").text\n",
    "driver.find_element(By.CSS_SELECTOR, \"div.Jx4nYe > span.bp9Aid\").text"
   ]
  },
  {
   "cell_type": "code",
   "execution_count": 141,
   "id": "31011cc8",
   "metadata": {},
   "outputs": [
    {
     "data": {
      "text/plain": [
       "'카드 충전이 안되는데 무슨'"
      ]
     },
     "execution_count": 141,
     "metadata": {},
     "output_type": "execute_result"
    }
   ],
   "source": [
    "# 리뷰 데이터_사용자 리뷰 등록 날짜\n",
    "driver.find_element(By.CSS_SELECTOR, \"#yDmH0d .fysCi.Vk3ZVd .odk6He .RHo1pe .h3YV2d\").text"
   ]
  },
  {
   "cell_type": "code",
   "execution_count": 146,
   "id": "ca5e77c1",
   "metadata": {},
   "outputs": [
    {
     "data": {
      "text/plain": [
       "'Viva Republica'"
      ]
     },
     "execution_count": 146,
     "metadata": {},
     "output_type": "execute_result"
    }
   ],
   "source": [
    "# 리뷰 데이터_답변자 닉네임\n",
    "driver.find_element(By.CSS_SELECTOR, \"#yDmH0d .fysCi.Vk3ZVd .odk6He .RHo1pe .ocpBU .T6E0ze .I6j64d\").text"
   ]
  },
  {
   "cell_type": "code",
   "execution_count": 148,
   "id": "739f3d7c",
   "metadata": {},
   "outputs": [
    {
     "data": {
      "text/plain": [
       "'2025년 4월 10일'"
      ]
     },
     "execution_count": 148,
     "metadata": {},
     "output_type": "execute_result"
    }
   ],
   "source": [
    "# 리뷰 데이터_답변자 답변 작성 날짜\n",
    "driver.find_element(By.CSS_SELECTOR, \"#yDmH0d .fysCi.Vk3ZVd .odk6He .RHo1pe .ocpBU .T6E0ze .I9Jtec\").text"
   ]
  },
  {
   "cell_type": "code",
   "execution_count": 150,
   "id": "53cb1415",
   "metadata": {},
   "outputs": [
    {
     "data": {
      "text/plain": [
       "'안녕하세요. 유승민 님, 토스팀입니다. 남겨주신 내용만으로는 정확한 확인이 어려운 점 양해 말씀 드립니다. 보다 자세한 확인 및 안내를 위해 24시간 운영되는 카카오톡(@toss) 또는 고객센터 1599-4905 로 편하실 때 문의 부탁 드려도 될까요? 일부 안내의 경우 리뷰를 통한 즉각적인 안내가 어려울 수 있는 점 양해 부탁 드립니다. 감사합니다.'"
      ]
     },
     "execution_count": 150,
     "metadata": {},
     "output_type": "execute_result"
    }
   ],
   "source": [
    "# 리뷰 데이터_답변자 답변 내용\n",
    "driver.find_element(By.CSS_SELECTOR, \"#yDmH0d .fysCi.Vk3ZVd .odk6He .RHo1pe .ocpBU .ras4vb\").text"
   ]
  },
  {
   "cell_type": "code",
   "execution_count": null,
   "id": "162c9a1d",
   "metadata": {},
   "outputs": [],
   "source": []
  },
  {
   "cell_type": "code",
   "execution_count": null,
   "id": "166d944a",
   "metadata": {},
   "outputs": [],
   "source": []
  },
  {
   "cell_type": "code",
   "execution_count": null,
   "id": "ea6f2fa1",
   "metadata": {},
   "outputs": [],
   "source": []
  },
  {
   "cell_type": "code",
   "execution_count": null,
   "id": "7ea42858",
   "metadata": {},
   "outputs": [],
   "source": []
  },
  {
   "cell_type": "code",
   "execution_count": null,
   "id": "149eb8d7",
   "metadata": {},
   "outputs": [],
   "source": []
  }
 ],
 "metadata": {
  "kernelspec": {
   "display_name": "Python 3 (ipykernel)",
   "language": "python",
   "name": "python3"
  },
  "language_info": {
   "codemirror_mode": {
    "name": "ipython",
    "version": 3
   },
   "file_extension": ".py",
   "mimetype": "text/x-python",
   "name": "python",
   "nbconvert_exporter": "python",
   "pygments_lexer": "ipython3",
   "version": "3.9.21"
  }
 },
 "nbformat": 4,
 "nbformat_minor": 5
}
