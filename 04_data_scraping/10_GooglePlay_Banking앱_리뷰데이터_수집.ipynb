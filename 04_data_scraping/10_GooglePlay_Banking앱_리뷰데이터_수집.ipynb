{
 "cells": [
  {
   "cell_type": "markdown",
   "id": "f0dbe4ef",
   "metadata": {},
   "source": [
    "# GooglePlay Banking App 리뷰데이터 수집\n",
    "- https://play.google.com/store/apps/details?id=viva.republica.toss\n",
    "- https://play.google.com/store/apps/details?id=com.kakaobank.channel\n",
    "- https://play.google.com/store/apps/details?id=com.kbankwith.smartbank\n",
    "\n",
    "------\n",
    "\n",
    "#### 전체 데이터 몇 만개를 가져오는 것은 의미가 없음\n",
    "- 모든 리뷰에 날짜가 존재하기 때문에 2000개 정도의 데이터를 최신순으로 가져옴\n",
    "1. selenium으로 아래의 링크 접속\n",
    "2. 전체리뷰보기를 찾아 클릭\n",
    "3. 리뷰창이 뜨면 최신순으로 정렬\n",
    "4. 마우스 스크롤을 통해 오늘부터 2년전 날짜가 나올때까지 스크롤 진행\n",
    "5. 리뷰 데이터 수집\n",
    "    - 사용자 닉네임\n",
    "    - 별점\n",
    "    - 리뷰 작성 날짜\n",
    "    - 리뷰 내용\n",
    "    - 답변자 닉네임\n",
    "    - 답변 작성 날짜\n",
    "    - 답변 내용\n",
    "6. csv 파일로 저장 -> DB에 저장\n",
    "7. 수집 코드를 함수화하여 KB, 신한, 하나 리뷰도 저장"
   ]
  },
  {
   "cell_type": "code",
   "execution_count": 13,
   "id": "116a6bc9",
   "metadata": {},
   "outputs": [],
   "source": [
    "driver.quit() "
   ]
  },
  {
   "cell_type": "markdown",
   "id": "19680b4f",
   "metadata": {},
   "source": [
    "# 데이터 1개 수집"
   ]
  },
  {
   "cell_type": "code",
   "execution_count": null,
   "id": "b10e18f5",
   "metadata": {},
   "outputs": [],
   "source": [
    "# 토스 구글플레이스토어 페이지 확인\n",
    "from selenium import webdriver\n",
    "from selenium.webdriver.chrome.service import Service\n",
    "from selenium.webdriver.chrome.options import Options\n",
    "from webdriver_manager.chrome import ChromeDriverManager\n",
    "from selenium.webdriver.common.by import By\n",
    "from selenium.webdriver.common.keys import Keys\n",
    "from selenium.webdriver.support.ui import WebDriverWait\n",
    "from selenium.webdriver.support import expected_conditions as EC\n",
    "\n",
    "options = Options()\n",
    "options.add_experimental_option(\"detach\", True)\n",
    "options.add_argument('start_maximized')\n",
    "options.add_argument('Chrome/134.0.0.0')\n",
    "options.add_argument('lang=ko_KR')\n",
    "\n",
    "driver = webdriver.Chrome(service=Service(ChromeDriverManager().install()),options=options)\n",
    "url = 'https://play.google.com/store/apps/details?id=viva.republica.toss'\n",
    "driver.get(url)"
   ]
  },
  {
   "cell_type": "code",
   "execution_count": 3,
   "id": "6686fd69",
   "metadata": {},
   "outputs": [],
   "source": [
    "# 리뷰 데이터 전체 보기 클릭\n",
    "# WebDriverWait(driver, 10).until(EC.presence_of_element_located((By.CSS_SELECTOR, '#tmpInqStrDt')))\n",
    "\n",
    "WebDriverWait(driver, 10)\n",
    "path = '#yDmH0d .wkMJlb .qZmL0 c-wiz:nth-child(5) > section > header > div > div:nth-child(2) > button'\n",
    "driver.find_element(By.CSS_SELECTOR, path).click()"
   ]
  },
  {
   "cell_type": "code",
   "execution_count": 6,
   "id": "20975e8f",
   "metadata": {},
   "outputs": [],
   "source": [
    "# 리뷰 데이터를 최신순으로 정렬\n",
    "\n",
    "WebDriverWait(driver, 10)\n",
    "driver.find_element(By.CSS_SELECTOR, '#sortBy_1 > div.kW9Bj > i').click()\n",
    "\n",
    "path_new = '#yDmH0d .fysCi.Vk3ZVd .JPdR6b.e5Emjc.ah7Sve.qjTEB > div > div > span:nth-child(2)'\n",
    "driver.find_element(By.CSS_SELECTOR, path_new).click()"
   ]
  },
  {
   "cell_type": "code",
   "execution_count": 54,
   "id": "ff1e3a14",
   "metadata": {},
   "outputs": [],
   "source": [
    "import time\n",
    "\n",
    "# 리뷰가 담긴 창을 찾아서 JavaScript로 1000px씩 아래로 스크롤\n",
    "driver.execute_script(\"document.querySelector('.fysCi.Vk3ZVd').scrollBy(0, 1000)\")"
   ]
  },
  {
   "cell_type": "code",
   "execution_count": 132,
   "id": "22ba74d0",
   "metadata": {},
   "outputs": [
    {
     "data": {
      "text/plain": [
       "'1'"
      ]
     },
     "execution_count": 132,
     "metadata": {},
     "output_type": "execute_result"
    }
   ],
   "source": [
    "# 별점\n",
    "driver.find_element(By.CSS_SELECTOR,'div.Jx4nYe > div').get_attribute('aria-label').split()[3][0]"
   ]
  },
  {
   "cell_type": "code",
   "execution_count": 141,
   "id": "30b02218",
   "metadata": {},
   "outputs": [
    {
     "data": {
      "text/plain": [
       "'Young Carlo'"
      ]
     },
     "execution_count": 141,
     "metadata": {},
     "output_type": "execute_result"
    }
   ],
   "source": [
    "# 리뷰 데이터_사용자 닉네임\n",
    "driver.find_element(By.CSS_SELECTOR, \"#yDmH0d .fysCi.Vk3ZVd .odk6He .RHo1pe .c1bOId .YNR7H .gSGphe .X5PpBb\").text"
   ]
  },
  {
   "cell_type": "code",
   "execution_count": 20,
   "id": "8ad433d5",
   "metadata": {},
   "outputs": [
    {
     "data": {
      "text/plain": [
       "'2025년 4월 12일'"
      ]
     },
     "execution_count": 20,
     "metadata": {},
     "output_type": "execute_result"
    }
   ],
   "source": [
    "# 리뷰 데이터_사용자 리뷰 등록 날짜\n",
    "driver.find_element(By.CSS_SELECTOR, \"#yDmH0d .fysCi.Vk3ZVd .odk6He .RHo1pe .c1bOId .Jx4nYe\").text\n",
    "driver.find_element(By.CSS_SELECTOR, \"div.Jx4nYe > span.bp9Aid\").text\n",
    "# driver.find_element(By.CSS_SELECTOR, \"div.Jx4nYe > span.bp9Aid\").text"
   ]
  },
  {
   "cell_type": "code",
   "execution_count": 104,
   "id": "bcc589b1",
   "metadata": {},
   "outputs": [
    {
     "data": {
      "text/plain": [
       "'이제 됐네요'"
      ]
     },
     "execution_count": 104,
     "metadata": {},
     "output_type": "execute_result"
    }
   ],
   "source": [
    "# 리뷰 데이터_사용자 리뷰\n",
    "driver.find_element(By.CSS_SELECTOR, \"#yDmH0d .fysCi.Vk3ZVd .odk6He .RHo1pe .h3YV2d\").text"
   ]
  },
  {
   "cell_type": "code",
   "execution_count": 162,
   "id": "ca5e77c1",
   "metadata": {},
   "outputs": [
    {
     "data": {
      "text/plain": [
       "'Viva Republica'"
      ]
     },
     "execution_count": 162,
     "metadata": {},
     "output_type": "execute_result"
    }
   ],
   "source": [
    "# 리뷰 데이터_답변자 닉네임\n",
    "driver.find_element(By.CSS_SELECTOR, \".fysCi.Vk3ZVd .ocpBU .I6j64d\").text"
   ]
  },
  {
   "cell_type": "code",
   "execution_count": 118,
   "id": "739f3d7c",
   "metadata": {},
   "outputs": [
    {
     "data": {
      "text/plain": [
       "'2025년 4월 13일'"
      ]
     },
     "execution_count": 118,
     "metadata": {},
     "output_type": "execute_result"
    }
   ],
   "source": [
    "# 리뷰 데이터_답변자 답변 작성 날짜\n",
    "driver.find_element(By.CSS_SELECTOR, \"#yDmH0d .fysCi.Vk3ZVd .odk6He .RHo1pe .ocpBU .T6E0ze .I9Jtec\").text"
   ]
  },
  {
   "cell_type": "code",
   "execution_count": 89,
   "id": "53cb1415",
   "metadata": {},
   "outputs": [
    {
     "data": {
      "text/plain": [
       "'안녕하세요. 임의수님, 토스팀입니다. 불편한 사항이 잘 해소 되셨을까요? 보다 편리한 토스 사용 경험을 하실 수 있도록 노력 하겠습니다. 다른 문의 사항이 있다면 24시간 운영되는 카카오톡(@toss) 또는 고객센터 1599-4905로 문의 부탁드립니다. 감사합니다.'"
      ]
     },
     "execution_count": 89,
     "metadata": {},
     "output_type": "execute_result"
    }
   ],
   "source": [
    "# 리뷰 데이터_답변자 답변 내용\n",
    "driver.find_element(By.CSS_SELECTOR, \"#yDmH0d .fysCi.Vk3ZVd .odk6He .RHo1pe .ocpBU .ras4vb\").text"
   ]
  },
  {
   "cell_type": "code",
   "execution_count": 92,
   "id": "162c9a1d",
   "metadata": {},
   "outputs": [
    {
     "data": {
      "text/plain": [
       "datetime.datetime(2025, 4, 13, 0, 0)"
      ]
     },
     "execution_count": 92,
     "metadata": {},
     "output_type": "execute_result"
    }
   ],
   "source": [
    "from datetime import datetime, timedelta\n",
    "\n",
    "# 리뷰일을 날짜형 데이터로 변경\n",
    "review_date = driver.find_element(By.CSS_SELECTOR, \"#yDmH0d .fysCi.Vk3ZVd .odk6He .RHo1pe .c1bOId .Jx4nYe\").text\n",
    "review_date = review_date.replace('년 ','-').replace('월 ','-').replace('일','')\n",
    "review_date = datetime.strptime(review_date, '%Y-%m-%d')\n",
    "review_date"
   ]
  },
  {
   "cell_type": "code",
   "execution_count": 71,
   "id": "af9432cf",
   "metadata": {},
   "outputs": [],
   "source": [
    "# 오늘부터 한달 전 날짜 확인\n",
    "today = datetime.today()\n",
    "twoyrago = today - timedelta(days=30)"
   ]
  },
  {
   "cell_type": "code",
   "execution_count": 49,
   "id": "166d944a",
   "metadata": {},
   "outputs": [
    {
     "data": {
      "text/plain": [
       "datetime.datetime(2025, 4, 12, 0, 0)"
      ]
     },
     "execution_count": 49,
     "metadata": {},
     "output_type": "execute_result"
    }
   ],
   "source": [
    "review = driver.find_elements(By.CSS_SELECTOR, \".RHo1pe\")[-1]\n",
    "# print(len(review))\n",
    "end_date = review.find_element(By.CSS_SELECTOR,\"div.Jx4nYe > span.bp9Aid\").text\n",
    "end_date = end_date.replace('년 ','-').replace('월 ','-').replace('일','')\n",
    "end_date = datetime.strptime(end_date, '%Y-%m-%d')\n",
    "end_date"
   ]
  },
  {
   "cell_type": "code",
   "execution_count": 53,
   "id": "ea6f2fa1",
   "metadata": {},
   "outputs": [
    {
     "name": "stdout",
     "output_type": "stream",
     "text": [
      "2025-04-12 00:00:00 2024-04-14 10:12:43.788012\n"
     ]
    },
    {
     "data": {
      "text/plain": [
       "False"
      ]
     },
     "execution_count": 53,
     "metadata": {},
     "output_type": "execute_result"
    }
   ],
   "source": [
    "print(end_date, twoyrago)\n",
    "end_date < twoyrago"
   ]
  },
  {
   "cell_type": "markdown",
   "id": "75314b59",
   "metadata": {},
   "source": [
    "# 개별 코드 합치기\n"
   ]
  },
  {
   "cell_type": "code",
   "execution_count": 7,
   "id": "016621f5",
   "metadata": {},
   "outputs": [
    {
     "name": "stdout",
     "output_type": "stream",
     "text": [
      "현재 리뷰 날짜: 2025-04-12 00:00:00, 리뷰 수: 40\r"
     ]
    }
   ],
   "source": [
    "# 토스 구글플레이스토어 페이지 확인\n",
    "from selenium import webdriver\n",
    "from selenium.webdriver.chrome.service import Service\n",
    "from selenium.webdriver.chrome.options import Options\n",
    "from webdriver_manager.chrome import ChromeDriverManager\n",
    "from selenium.webdriver.common.by import By\n",
    "from selenium.webdriver.common.keys import Keys\n",
    "from selenium.webdriver.support.ui import WebDriverWait\n",
    "from selenium.webdriver.support import expected_conditions as EC\n",
    "import time\n",
    "from datetime import datetime, timedelta\n",
    "\n",
    "options = Options()\n",
    "options.add_experimental_option(\"detach\", True)\n",
    "options.add_argument('start_maximized')\n",
    "options.add_argument('Chrome/134.0.0.0')\n",
    "options.add_argument('lang=ko_KR')\n",
    "\n",
    "driver = webdriver.Chrome(service=Service(ChromeDriverManager().install()),options=options)\n",
    "url = 'https://play.google.com/store/apps/details?id=viva.republica.toss'\n",
    "driver.get(url)\n",
    "\n",
    "# 리뷰 데이터 전체 보기 클릭\n",
    "WebDriverWait(driver, 10)\n",
    "path = '#yDmH0d .wkMJlb .qZmL0 c-wiz:nth-child(5) > section > header > div > div:nth-child(2) > button'\n",
    "driver.find_element(By.CSS_SELECTOR, path).click()\n",
    "\n",
    "# 리뷰 데이터를 최신순으로 정렬\n",
    "WebDriverWait(driver, 10)\n",
    "driver.find_element(By.CSS_SELECTOR, '#sortBy_1 > div.kW9Bj > i').click()\n",
    "path_new = '#yDmH0d .fysCi.Vk3ZVd .JPdR6b.e5Emjc.ah7Sve.qjTEB > div > div > span:nth-child(2)'\n",
    "driver.find_element(By.CSS_SELECTOR, path_new).click()\n",
    "\n",
    "time.sleep(3)\n",
    "\n",
    "# 오늘부터 한달 전 날짜 확인(우선은 3일로 변경)\n",
    "today = datetime.today()\n",
    "end_date = today - timedelta(days=3)\n",
    "current_date = \"\"\n",
    "reviews = \"\"\n",
    "\n",
    "# 최신을 찾아 클릭\n",
    "wait = WebDriverWait(driver, 10)\n",
    "button = wait.until(EC.element_to_be_clickable((By.CSS_SELECTOR, \"span[aria-label*='최신']\")))\n",
    "button.click()\n",
    "\n",
    "while True:\n",
    "    \n",
    "    try:\n",
    "        # 리뷰가 담긴 창을 찾아서 JavaScript로 1000px씩 아래로 스크롤\n",
    "        driver.execute_script(\"document.querySelector('.fysCi.Vk3ZVd').scrollBy(0, 1000)\")\n",
    "        time.sleep(1)\n",
    "\n",
    "        # 리뷰들 중 가장 마지막 데이터 날짜 추출해 날짜 데이터로 반환\n",
    "        reviews = driver.find_elements(By.CSS_SELECTOR, \".RHo1pe\")\n",
    "        current_date = reviews[-1].find_element(By.CSS_SELECTOR,\"div.Jx4nYe > span.bp9Aid\").text\n",
    "        current_date = current_date.replace('년 ','-').replace('월 ','-').replace('일','')\n",
    "        current_date = datetime.strptime(current_date, '%Y-%m-%d')\n",
    "        print(f\"현재 리뷰 날짜: {current_date}, 리뷰 수: {len(reviews)}\", end='\\r')\n",
    "    except:\n",
    "        reviews = driver.find_elements(By.CSS_SELECTOR, \".RHo1pe\")\n",
    "        print(f\"현재 리뷰 날짜: {current_date}, 리뷰 수: {len(reviews)}\", end='\\r')\n",
    "    \n",
    "    if current_date < end_date:\n",
    "        break\n",
    "        "
   ]
  },
  {
   "cell_type": "code",
   "execution_count": 8,
   "id": "149eb8d7",
   "metadata": {},
   "outputs": [
    {
     "name": "stdout",
     "output_type": "stream",
     "text": [
      "40\n"
     ]
    }
   ],
   "source": [
    "print(len(reviews))"
   ]
  },
  {
   "cell_type": "code",
   "execution_count": 112,
   "id": "8a5e13d1",
   "metadata": {},
   "outputs": [],
   "source": [
    "# !pip install tqdm"
   ]
  },
  {
   "cell_type": "code",
   "execution_count": 45,
   "id": "2c191e76",
   "metadata": {},
   "outputs": [],
   "source": [
    "# from tqdm import tqdm\n",
    "\n",
    "# all_result = []\n",
    "# for review in tqdm(reviews):\n",
    "    \n",
    "#     # 리뷰일을 날짜형 데이터로 변경\n",
    "#     review_date = review.find_element(By.CSS_SELECTOR, \"div.Jx4nYe > span.bp9Aid\").text\n",
    "#     review_date = review_date.replace('년 ','-').replace('월 ','-').replace('일','')\n",
    "#     review_date = datetime.strptime(review_date, '%Y-%m-%d')\n",
    "\n",
    "#     # 리뷰 데이터_사용자 닉네임\n",
    "#     user_name = review.find_element(By.CSS_SELECTOR, \".YNR7H .gSGphe .X5PpBb\").text\n",
    "\n",
    "#     # 별점\n",
    "#     user_score = review.find_element(By.CSS_SELECTOR,'div.Jx4nYe > div').get_attribute('aria-label').split()[3][0]\n",
    "\n",
    "#     # 리뷰 데이터_사용자 리뷰\n",
    "#     user_review = review.find_element(By.CSS_SELECTOR, \"div.h3YV2d\").text\n",
    "\n",
    "#     # 리뷰 데이터_답변자 답변 작성 날짜\n",
    "#     try:\n",
    "#         request_date = review.find_element(By.CSS_SELECTOR, \"div.ocpBU .T6E0ze .I9Jtec\").text\n",
    "#         request_date = request_date.replace('년 ','-').replace('월 ','-').replace('일','')\n",
    "#         request_date = datetime.strptime(request_date, '%Y-%m-%d')\n",
    "#     except:\n",
    "#         request_date = None\n",
    "\n",
    "#     # 리뷰 데이터_답변자 닉네임\n",
    "#     request_name = review.find_element(By.CSS_SELECTOR, \"div.ocpBU .T6E0ze .I6j64d\").text\n",
    "                \n",
    "\n",
    "#     # 리뷰 데이터_답변자 답변 내용\n",
    "#     try:\n",
    "#         reply = review.find_element(By.CSS_SELECTOR, \"div.ocpBU .ras4vb\").get_attribute('innerHTML')\n",
    "#     except:\n",
    "#         reply = None\n",
    "    \n",
    "#     result = (review_date, user_name, user_score, user_review, request_date, request_name, reply)\n",
    "#     all_result.append(result)\n",
    "\n",
    "# result_df = pd.DataFrame(all_result, columns=['리뷰일자', '사용자이름', '별점', '리뷰', '답변일자', '답변자이름', '답변'])\n",
    "# display(result_df)\n",
    "\n"
   ]
  },
  {
   "cell_type": "markdown",
   "id": "02053cc4",
   "metadata": {},
   "source": [
    "# 여러 은행 앱의 리뷰 데이터 수집"
   ]
  },
  {
   "cell_type": "code",
   "execution_count": null,
   "id": "500156a2",
   "metadata": {},
   "outputs": [],
   "source": []
  },
  {
   "cell_type": "code",
   "execution_count": 43,
   "id": "c72f76d3",
   "metadata": {},
   "outputs": [
    {
     "name": "stdout",
     "output_type": "stream",
     "text": [
      "viva.republica.toss 현재 리뷰 날짜: 2025-04-12 00:00:00, 리뷰수: 40 \r"
     ]
    },
    {
     "name": "stderr",
     "output_type": "stream",
     "text": [
      "100%|██████████████████████████████████████████████████████████████████████████████████| 40/40 [00:05<00:00,  7.79it/s]\n"
     ]
    },
    {
     "name": "stdout",
     "output_type": "stream",
     "text": [
      "com.shinhan.sbanking 현재 리뷰 날짜: 2025-04-06 00:00:00, 리뷰수: 20 \r"
     ]
    },
    {
     "name": "stderr",
     "output_type": "stream",
     "text": [
      "100%|██████████████████████████████████████████████████████████████████████████████████| 20/20 [00:02<00:00,  7.89it/s]\n"
     ]
    },
    {
     "name": "stdout",
     "output_type": "stream",
     "text": [
      "com.kbstar.kbbank 현재 리뷰 날짜: 2025-04-12 00:00:00, 리뷰수: 20 \r"
     ]
    },
    {
     "name": "stderr",
     "output_type": "stream",
     "text": [
      "100%|██████████████████████████████████████████████████████████████████████████████████| 20/20 [00:02<00:00,  7.93it/s]\n"
     ]
    },
    {
     "name": "stdout",
     "output_type": "stream",
     "text": [
      "com.kebhana.hanapush 현재 리뷰 날짜: 2025-04-03 00:00:00, 리뷰수: 20 \r"
     ]
    },
    {
     "name": "stderr",
     "output_type": "stream",
     "text": [
      "100%|██████████████████████████████████████████████████████████████████████████████████| 20/20 [00:02<00:00,  8.35it/s]\n"
     ]
    },
    {
     "name": "stdout",
     "output_type": "stream",
     "text": [
      "com.wooribank.smart.npib 현재 리뷰 날짜: 2025-04-09 00:00:00, 리뷰수: 20 \r"
     ]
    },
    {
     "name": "stderr",
     "output_type": "stream",
     "text": [
      "100%|██████████████████████████████████████████████████████████████████████████████████| 20/20 [00:02<00:00,  7.68it/s]\n"
     ]
    },
    {
     "name": "stdout",
     "output_type": "stream",
     "text": [
      "com.rainist.banksalad2 현재 리뷰 날짜: 2025-03-22 00:00:00, 리뷰수: 20 \r"
     ]
    },
    {
     "name": "stderr",
     "output_type": "stream",
     "text": [
      "100%|██████████████████████████████████████████████████████████████████████████████████| 20/20 [00:02<00:00,  7.87it/s]\n"
     ]
    }
   ],
   "source": [
    "from selenium import webdriver\n",
    "from selenium.webdriver.common.by import By\n",
    "from selenium.webdriver.chrome.service import Service\n",
    "from selenium.webdriver.chrome.options import Options\n",
    "from selenium.webdriver.support.ui import WebDriverWait\n",
    "from selenium.webdriver.support import expected_conditions as EC\n",
    "from webdriver_manager.chrome import ChromeDriverManager\n",
    "from datetime import datetime, timedelta\n",
    "# import datetime\n",
    "import pandas as pd\n",
    "import time\n",
    "from tqdm import tqdm\n",
    "\n",
    "options = Options()\n",
    "options.add_experimental_option(\"detach\", True)\n",
    "options.add_argument(\"start-maximized\")\n",
    "options.add_argument(\"Chrome/135.0.0.0\")\n",
    "options.add_argument(\"lang=ko_KR\")\n",
    "\n",
    "\n",
    "driver = webdriver.Chrome(\n",
    "    service=Service(ChromeDriverManager().install()),\n",
    "    options=options\n",
    "    )\n",
    "\n",
    "bank_app_list = ['viva.republica.toss', 'com.shinhan.sbanking', \n",
    "                 'com.kbstar.kbbank', 'com.kebhana.hanapush',\n",
    "                 'com.wooribank.smart.npib', 'com.rainist.banksalad2']\n",
    "\n",
    "for bank in bank_app_list:\n",
    "    url = f\"https://play.google.com/store/apps/details?id={bank}\"\n",
    "    driver.get(url)\n",
    "\n",
    "    # 평점 및 리뷰 옆의 -> 버튼 클릭\n",
    "    wait = WebDriverWait(driver, 10)\n",
    "    button = wait.until(EC.element_to_be_clickable((By.CSS_SELECTOR, \"button[aria-label*='평점 및 리뷰 자세히 알아보기']\")))\n",
    "    button.click()\n",
    "\n",
    "    # 최신순으로 리뷰를 정렬하기 위해서 버튼 클릭\n",
    "    wait = WebDriverWait(driver, 10)\n",
    "    button = wait.until(EC.element_to_be_clickable((By.CSS_SELECTOR, \"#sortBy_1\")))\n",
    "    button.click()\n",
    "\n",
    "    time.sleep(1)\n",
    "\n",
    "    # 최신을 찾아 클릭\n",
    "    wait = WebDriverWait(driver, 10)\n",
    "    button = wait.until(EC.element_to_be_clickable((By.CSS_SELECTOR, \"span[aria-label*='최신']\")))\n",
    "    button.click()\n",
    "\n",
    "    time.sleep(3)\n",
    "\n",
    "    # 오늘로부터 1달 전 날짜 만들기(우선은 3일로 변경)\n",
    "    today = datetime.today()\n",
    "    end_date = today - timedelta(days=3)\n",
    "    current_date = \"\"\n",
    "    reviews = \"\"\n",
    "\n",
    "    while True:\n",
    "\n",
    "        try:\n",
    "            # 리뷰가 담긴 창을 찾아서 JavaScript로 1000px씩 아래로 스크롤\n",
    "            driver.execute_script(\"document.querySelector('.fysCi.Vk3ZVd').scrollBy(0, 1000)\")\n",
    "            time.sleep(1)\n",
    "\n",
    "            # 리뷰들 중 가장 마지막 데이터의 날짜 추출해 날짜 데이터로 변환\n",
    "            reviews = driver.find_elements(By.CSS_SELECTOR, \".RHo1pe\")\n",
    "            current_date = reviews[-1].find_element(By.CSS_SELECTOR, \"div.Jx4nYe > span.bp9Aid\").text\n",
    "            current_date = current_date.replace(\"년 \", \"-\").replace(\"월 \", \"-\").replace(\"일\", \"\")\n",
    "            current_date = datetime.strptime(current_date, \"%Y-%m-%d\")\n",
    "            print(f\"{bank} 현재 리뷰 날짜: {current_date}, 리뷰수: {len(reviews)} \", end=\"\\r\")\n",
    "        except:\n",
    "            reviews = driver.find_elements(By.CSS_SELECTOR, \".RHo1pe\")\n",
    "            print(f\"{bank} 현재 리뷰 날짜: {current_date}, 리뷰수: {len(reviews)} \", end=\"\\r\")\n",
    "\n",
    "        if current_date < end_date:\n",
    "            break\n",
    "\n",
    "    ########################################################################\n",
    "    # 리뷰 추출 부분\n",
    "\n",
    "    all_result = []\n",
    "    for review in tqdm(reviews):\n",
    "        # 리뷰일\n",
    "        review_date = review.find_element(By.CSS_SELECTOR, \"div.Jx4nYe > span.bp9Aid\").text\n",
    "        # 리뷰일을 날짜형 데이터로 변경\n",
    "        # datetime.strptime(yyyy-mm-dd, \"%Y-%m-%d\") 날짜형 데이터 타입으로 변환\n",
    "        review_date = review_date.replace(\"년 \", \"-\").replace(\"월 \", \"-\").replace(\"일\", \"\")\n",
    "        review_date = datetime.strptime(review_date, \"%Y-%m-%d\")\n",
    "        # 별점\n",
    "        rating = review.find_element(By.CSS_SELECTOR, \"div.Jx4nYe > div\").get_attribute(\"aria-label\").split()[3][0]\n",
    "        # 사용자리뷰\n",
    "        user_review = review.find_element(By.CSS_SELECTOR, \"div.h3YV2d\").text\n",
    "\n",
    "        try:\n",
    "            # 업체 댓글\n",
    "            reply = review.find_element(By.CSS_SELECTOR, \"div.ocpBU div.ras4vb > div\").get_attribute(\"innerHTML\")\n",
    "        except:\n",
    "            reply = None\n",
    "\n",
    "        result = (review_date, rating, user_review, reply)\n",
    "        all_result.append(result)\n",
    "    result_df = pd.DataFrame(all_result, columns=['리뷰일', '평점', '사용자리뷰', '업체답변'])\n",
    "    result_df.to_csv(f\"./scraping_results/{bank}_review_result.csv\", index=False, encoding=\"utf-8-sig\")\n",
    "driver.close()"
   ]
  },
  {
   "cell_type": "code",
   "execution_count": null,
   "id": "8740c99f",
   "metadata": {},
   "outputs": [],
   "source": []
  },
  {
   "cell_type": "markdown",
   "id": "a2f8203e",
   "metadata": {},
   "source": [
    "# 여러 은행 앱의 리뷰 데이터 수집 함수화 및 DB 저장"
   ]
  },
  {
   "cell_type": "code",
   "execution_count": 2,
   "id": "8cbc6813",
   "metadata": {},
   "outputs": [],
   "source": [
    "from selenium import webdriver\n",
    "from selenium.webdriver.common.by import By\n",
    "from selenium.webdriver.chrome.service import Service\n",
    "from selenium.webdriver.chrome.options import Options\n",
    "from selenium.webdriver.support.ui import WebDriverWait\n",
    "from selenium.webdriver.support import expected_conditions as EC\n",
    "from webdriver_manager.chrome import ChromeDriverManager\n",
    "from datetime import datetime, timedelta\n",
    "# import datetime\n",
    "import pandas as pd\n",
    "import time\n",
    "from tqdm import tqdm\n",
    "from bankdbio import to_bank_db"
   ]
  },
  {
   "cell_type": "code",
   "execution_count": 5,
   "id": "71e22199",
   "metadata": {},
   "outputs": [],
   "source": [
    "def bank_app_reviews(bank, year=1):\n",
    "    options = Options()\n",
    "    options.add_experimental_option(\"detach\", True)\n",
    "    options.add_argument(\"start-maximized\")\n",
    "    options.add_argument(\"Chrome/135.0.0.0\")\n",
    "    options.add_argument(\"lang=ko_KR\")\n",
    "    # 웹브라우저가 백그라운드에서 작동하도록 설정\n",
    "    options.add_argument(\"--headless\")\n",
    "    options.add_argument(\"--no-sandbox\")\n",
    "    options.add_argument(\"--disable-dev-shm-usage\")\n",
    "\n",
    "\n",
    "    driver = webdriver.Chrome(\n",
    "        service=Service(ChromeDriverManager().install()),\n",
    "        options=options\n",
    "        )\n",
    "\n",
    "    url = f\"https://play.google.com/store/apps/details?id={bank}\"\n",
    "    driver.get(url)\n",
    "\n",
    "    # 평점 및 리뷰 옆의 -> 버튼 클릭\n",
    "    wait = WebDriverWait(driver, 10)\n",
    "    button = wait.until(EC.element_to_be_clickable((By.CSS_SELECTOR, \"button[aria-label*='평점 및 리뷰 자세히 알아보기']\")))\n",
    "    button.click()\n",
    "\n",
    "    # 최신순으로 리뷰를 정렬하기 위해서 버튼 클릭\n",
    "    wait = WebDriverWait(driver, 10)\n",
    "    button = wait.until(EC.element_to_be_clickable((By.CSS_SELECTOR, \"#sortBy_1\")))\n",
    "    button.click()\n",
    "\n",
    "    time.sleep(1)\n",
    "\n",
    "    # 최신을 찾아 클릭\n",
    "    wait = WebDriverWait(driver, 10)\n",
    "    button = wait.until(EC.element_to_be_clickable((By.CSS_SELECTOR, \"span[aria-label*='최신']\")))\n",
    "    button.click()\n",
    "\n",
    "    time.sleep(3)\n",
    "\n",
    "    # 오늘로부터 1년 전 날짜 만들기(우선은 3일만 해보기)\n",
    "    today = datetime.today()\n",
    "    end_date = today - timedelta(days=3)\n",
    "#     end_date = today - timedelta(days=year * 365)\n",
    "    current_date = \"\"\n",
    "    reviews = \"\"\n",
    "\n",
    "    while True:\n",
    "\n",
    "        try:\n",
    "            # 리뷰가 담긴 창을 찾아서 JavaScript로 1000px씩 아래로 스크롤\n",
    "            driver.execute_script(\"document.querySelector('.fysCi.Vk3ZVd').scrollBy(0, 1000)\")\n",
    "            time.sleep(1)\n",
    "\n",
    "            # 리뷰들 중 가장 마지막 데이터의 날짜 추출해 날짜 데이터로 변환\n",
    "            reviews = driver.find_elements(By.CSS_SELECTOR, \".RHo1pe\")\n",
    "            current_date = reviews[-1].find_element(By.CSS_SELECTOR, \"div.Jx4nYe > span.bp9Aid\").text\n",
    "            current_date = current_date.replace(\"년 \", \"-\").replace(\"월 \", \"-\").replace(\"일\", \"\")\n",
    "            current_date = datetime.strptime(current_date, \"%Y-%m-%d\")\n",
    "            print(f\"{bank} 현재 리뷰 날짜: {current_date}, 리뷰수: {len(reviews)} \", end=\"\\r\")\n",
    "        except:\n",
    "            reviews = driver.find_elements(By.CSS_SELECTOR, \".RHo1pe\")\n",
    "            print(f\"{bank} 현재 리뷰 날짜: {current_date}, 리뷰수: {len(reviews)} \", end=\"\\r\")\n",
    "\n",
    "        if current_date < end_date:\n",
    "            break\n",
    "     \n",
    "    return driver, reviews"
   ]
  },
  {
   "cell_type": "code",
   "execution_count": 6,
   "id": "3955c9b8",
   "metadata": {},
   "outputs": [],
   "source": [
    "def review_extraction(driver, reviews):    \n",
    "    all_result = []\n",
    "    for review in tqdm(reviews):\n",
    "        # 리뷰일\n",
    "        review_date = review.find_element(By.CSS_SELECTOR, \"div.Jx4nYe > span.bp9Aid\").text\n",
    "        # 리뷰일을 날짜형 데이터로 변경\n",
    "        # datetime.strptime(yyyy-mm-dd, \"%Y-%m-%d\") 날짜형 데이터 타입으로 변환\n",
    "        review_date = review_date.replace(\"년 \", \"-\").replace(\"월 \", \"-\").replace(\"일\", \"\")\n",
    "        review_date = datetime.strptime(review_date, \"%Y-%m-%d\")\n",
    "        # 별점\n",
    "        rating = review.find_element(By.CSS_SELECTOR, \"div.Jx4nYe > div\").get_attribute(\"aria-label\").split()[3][0]\n",
    "        # 사용자리뷰\n",
    "        user_review = review.find_element(By.CSS_SELECTOR, \"div.h3YV2d\").text\n",
    "\n",
    "        try:\n",
    "            # 업체 댓글\n",
    "            reply = review.find_element(By.CSS_SELECTOR, \"div.ocpBU div.ras4vb > div\").get_attribute(\"innerHTML\")\n",
    "        except:\n",
    "            reply = None\n",
    "\n",
    "        result = (review_date, rating, user_review, reply)\n",
    "        all_result.append(result)\n",
    "    result_df = pd.DataFrame(all_result, columns=['리뷰일', '평점', '사용자리뷰', '업체답변'])\n",
    "#     result_df.to_csv(f\"./scraping_results/{bank}_review_result.csv\", index=False, encoding=\"utf-8-sig\")\n",
    "    to_bank_db(bank, result_df)\n",
    "    print(f\"{bank} 리뷰 저장 완료\")\n",
    "    driver.close()  "
   ]
  },
  {
   "cell_type": "code",
   "execution_count": 7,
   "id": "4eac6ce3",
   "metadata": {},
   "outputs": [
    {
     "name": "stdout",
     "output_type": "stream",
     "text": [
      "com.kebhana.hanapush 현재 리뷰 날짜: 2025-04-03 00:00:00, 리뷰수: 20 \r"
     ]
    },
    {
     "name": "stderr",
     "output_type": "stream",
     "text": [
      "100%|██████████████████████████████████████████████████████████████████████████████████| 20/20 [00:05<00:00,  3.63it/s]\n"
     ]
    },
    {
     "name": "stdout",
     "output_type": "stream",
     "text": [
      "com.kebhana.hanapush 리뷰 저장 완료\n",
      "com.wooribank.smart.npib 현재 리뷰 날짜: 2025-04-09 00:00:00, 리뷰수: 20 \r"
     ]
    },
    {
     "name": "stderr",
     "output_type": "stream",
     "text": [
      "100%|██████████████████████████████████████████████████████████████████████████████████| 20/20 [00:05<00:00,  3.72it/s]\n"
     ]
    },
    {
     "name": "stdout",
     "output_type": "stream",
     "text": [
      "com.wooribank.smart.npib 리뷰 저장 완료\n",
      "com.rainist.banksalad2 현재 리뷰 날짜: 2025-03-22 00:00:00, 리뷰수: 20 \r"
     ]
    },
    {
     "name": "stderr",
     "output_type": "stream",
     "text": [
      "100%|██████████████████████████████████████████████████████████████████████████████████| 20/20 [00:06<00:00,  3.01it/s]\n"
     ]
    },
    {
     "name": "stdout",
     "output_type": "stream",
     "text": [
      "com.rainist.banksalad2 리뷰 저장 완료\n"
     ]
    }
   ],
   "source": [
    "\n",
    "bank_app_list = ['viva.republica.toss', 'com.shinhan.sbanking', \n",
    "                 'com.kbstar.kbbank', 'com.kebhana.hanapush',\n",
    "                 'com.wooribank.smart.npib', 'com.rainist.banksalad2']\n",
    "\n",
    "for bank in bank_app_list[3:]:\n",
    "    driver, reviews = bank_app_reviews(bank, 24)\n",
    "    review_extraction(driver, reviews)"
   ]
  },
  {
   "cell_type": "markdown",
   "id": "8c6336f4",
   "metadata": {},
   "source": [
    "1. API를 통한 데이터 수집 : naver, 공공데이터\n",
    "2. requests get\n",
    "3. 정적웹페이지 데이터 수집 : yes24, 상장정보, naver금융 -> requests.get, requests.post\n",
    "4. 동적웹페이지 - naver 책, 하나은행 환율정보, 구글play 리뷰 -> selenium\n",
    "5. 함수화, 모듈화(dbio), 실행파일로 만들고 스케줄러로 자동화\n",
    "\n",
    "#### 데이터 파이프라인 : 수집 / 정제 / 저장 + 분석 / 분석결과까지 자동화 가능(분석 결과가 괜찮게 나옴)\n",
    "#### DB, HTML, CSS, Javascript"
   ]
  },
  {
   "cell_type": "code",
   "execution_count": null,
   "id": "f7bdea56",
   "metadata": {},
   "outputs": [],
   "source": []
  }
 ],
 "metadata": {
  "kernelspec": {
   "display_name": "Python 3 (ipykernel)",
   "language": "python",
   "name": "python3"
  },
  "language_info": {
   "codemirror_mode": {
    "name": "ipython",
    "version": 3
   },
   "file_extension": ".py",
   "mimetype": "text/x-python",
   "name": "python",
   "nbconvert_exporter": "python",
   "pygments_lexer": "ipython3",
   "version": "3.9.21"
  }
 },
 "nbformat": 4,
 "nbformat_minor": 5
}
