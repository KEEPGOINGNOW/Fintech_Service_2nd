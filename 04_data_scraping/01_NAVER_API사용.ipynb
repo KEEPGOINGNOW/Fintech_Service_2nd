{
 "cells": [
  {
   "cell_type": "markdown",
   "id": "288d55ed",
   "metadata": {},
   "source": [
    "# data scraping\n",
    "\n",
    "- 크롤링 : google, naver에서 데이터를 가져오는 것\n",
    "- 스크랩핑 : API 등을 활용하여 데이터를 가져오는 것"
   ]
  },
  {
   "cell_type": "markdown",
   "id": "fd0ccb1c",
   "metadata": {},
   "source": [
    "## 웹에서 자료를 수집하는 방법\n",
    "\n",
    "1. API를 이용해 자료 수집\n",
    "    - naver, google, kakao, 공공데이터에서 제공하는 API를 이용해 자료 수집<br>\n",
    "2. Web 페이지를 직접 스크래이핑 해서 자료 수집 (페이지의 성격에 맞게 자료 수집)\n",
    "    - 정적페이지 수집 : javascript 없이 수집 가능한 사이트\n",
    "    - 동적페이지 수집 : javascript에 의해 콘텐프가 제어, 웹브라우저 제어를 통해 수집"
   ]
  },
  {
   "cell_type": "markdown",
   "id": "6231b801",
   "metadata": {},
   "source": [
    "### API를 이용해 자료 수집\n",
    "naver, google, kakao, 공공데이터에서 제공하는 API를 이용해 자료 수집<br>\n",
    "[네이버 내 애플리케이션에서 API 확인](https://developers.naver.com/apps/#/list)\n",
    "\n",
    "-----\n",
    "\n",
    "[파라미터(블로그)_쿼리 형식 확인](https://developers.naver.com/docs/serviceapi/search/blog/blog.md#%ED%8C%8C%EB%9D%BC%EB%AF%B8%ED%84%B0)\n",
    "| 파라미터  | 타입    | 필수 여부 | 설명                                                                 |\n",
    "|-----------|---------|-----------|----------------------------------------------------------------------|\n",
    "| `query`   | String  | Y         | 검색어. UTF-8로 인코딩되어야 합니다.                                 |\n",
    "| `display` | Integer | N         | 한 번에 표시할 검색 결과 개수 (기본값: 10, 최댓값: 100)              |\n",
    "| `start`   | Integer | N         | 검색 시작 위치 (기본값: 1, 최댓값: 1000)                            |\n",
    "| `sort`    | String  | N         | 검색 결과 정렬 방법<br>- `sim`: 정확도순으로 내림차순 정렬 (기본값)<br>- `date`: 날짜순으로 내림차순 정렬 |\n",
    "\n",
    "\n",
    "[응답(블로그)_XML 형식 또는 JSON 형식으로 반환 확인](https://developers.naver.com/docs/serviceapi/search/blog/blog.md#%EC%9D%91%EB%8B%B5)\n",
    "| 요소                          | 타입      | 설명                                                                                     |\n",
    "|-------------------------------|-----------|------------------------------------------------------------------------------------------|\n",
    "| `rss`                        | -         | RSS 컨테이너. RSS 리더기를 사용해 검색 결과를 확인할 수 있습니다.                        |\n",
    "| `rss/channel`                | -         | 검색 결과를 포함하는 컨테이너. 하위 요소인 `title`, `link`, `description`은 RSS 정보이며, 검색 결과와 상관없습니다. |\n",
    "| `rss/channel/lastBuildDate`  | dateTime  | 검색 결과를 생성한 시간                                                                  |\n",
    "| `rss/channel/total`          | Integer   | 총 검색 결과 개수                                                                        |\n",
    "| `rss/channel/start`          | Integer   | 검색 시작 위치                                                                          |\n",
    "| `rss/channel/display`        | Integer   | 한 번에 표시할 검색 결과 개수                                                            |\n",
    "| `rss/channel/item`           | -         | 개별 검색 결과. JSON 형식에서는 `items` 속성의 JSON 배열로 반환됩니다.                  |\n",
    "| `rss/channel/item/title`     | String    | 블로그 포스트의 제목. 검색어와 일치하는 부분은 `<b>` 태그로 감싸져 있습니다.            |\n",
    "| `rss/channel/item/link`      | String    | 블로그 포스트의 URL                                                                      |\n",
    "| `rss/channel/item/description` | String  | 블로그 포스트의 내용을 요약한 패시지 정보. 검색어와 일치하는 부분은 `<b>` 태그로 감싸져 있습니다. |\n",
    "| `rss/channel/item/bloggername` | String  | 블로그 포스트가 있는 블로그의 이름                                                      |\n",
    "| `rss/channel/item/bloggerlink` | String  | 블로그 포스트가 있는 블로그의 주소                                                      |\n",
    "| `rss/channel/item/postdate`  | dateTime  | 블로그 포스트가 작성된 날짜 |\n",
    "\n",
    "[오류코드(블로그)_오류 코드 확인](https://developers.naver.com/docs/serviceapi/search/blog/blog.md#%EC%98%A4%EB%A5%98-%EC%BD%94%EB%93%9C)\n",
    "| 오류 코드 | HTTP 상태 코드 | 오류 메시지                                   | 설명                                                                 |\n",
    "|-----------|----------------|-----------------------------------------------|----------------------------------------------------------------------|\n",
    "| `SE01`    | 400            | Incorrect query request (잘못된 쿼리요청입니다.) | API 요청 URL의 프로토콜, 파라미터 등에 오류가 있는지 확인합니다.     |\n",
    "| `SE02`    | 400            | Invalid display value (부적절한 display 값입니다.) | display 파라미터의 값이 허용 범위(1~100)인지 확인합니다.            |\n",
    "| `SE03`    | 400            | Invalid start value (부적절한 start 값입니다.)   | start 파라미터의 값이 허용 범위(1~1000)인지 확인합니다.             |\n",
    "| `SE04`    | 400            | Invalid sort value (부적절한 sort 값입니다.)    | sort 파라미터의 값에 오타가 있는지 확인합니다.                      |\n",
    "| `SE06`    | 400            | Malformed encoding (잘못된 형식의 인코딩입니다.) | 검색어를 UTF-8로 인코딩합니다.                                      |\n",
    "| `SE05`    | 404            | Invalid search api (존재하지 않는 검색 api 입니다.) | API 요청 URL에 오타가 있는지 확인합니다.                           |\n",
    "| `SE99`    | 500            | System Error (시스템 에러)                    | 서버 내부에 오류가 발생했습니다. \"개발자 포럼\"에 오류를 신고해 주십시오. |"
   ]
  },
  {
   "cell_type": "markdown",
   "id": "e3b38bfc",
   "metadata": {},
   "source": [
    "- HTTP 프로토콜\n",
    "    - get 방식\n",
    "    - post 방식\n"
   ]
  },
  {
   "cell_type": "code",
   "execution_count": 2,
   "id": "ddbaee98",
   "metadata": {},
   "outputs": [],
   "source": [
    "Client_Id = '5URnX7kyDAZEfTrt0PbY'\n",
    "Client_Secret = 'CircZsk73U'"
   ]
  },
  {
   "cell_type": "code",
   "execution_count": 6,
   "id": "78a9c224",
   "metadata": {},
   "outputs": [
    {
     "name": "stdout",
     "output_type": "stream",
     "text": [
      "파이썬 검색 :  %ED%8C%8C%EC%9D%B4%EC%8D%AC\n"
     ]
    }
   ],
   "source": [
    "import os\n",
    "import sys\n",
    "import urllib.request\n",
    "\n",
    "client_id = Client_Id\n",
    "client_secret = Client_Secret\n",
    "\n",
    "# 블로그 검색 중 파이썬으로 검색한 경우만 확인\n",
    "encText = urllib.parse.quote(\"파이썬\")\n",
    "print(f'파이썬 검색 : ',encText)\n"
   ]
  },
  {
   "cell_type": "code",
   "execution_count": 7,
   "id": "997dc7df",
   "metadata": {},
   "outputs": [
    {
     "name": "stdout",
     "output_type": "stream",
     "text": [
      "https://openapi.naver.com/v1/search/blog?query=%ED%8C%8C%EC%9D%B4%EC%8D%AC\n"
     ]
    }
   ],
   "source": [
    "# 실제 서비스 서버에 접속하는 주소\n",
    "URL = 'https://openapi.naver.com/v1/search/blog?query='\n",
    "\n",
    "# 파이썬으로 검색한 경우의 url 주소 확인\n",
    "url = URL + encText # JSON 결과\n",
    "# url = \"https://openapi.naver.com/v1/search/blog.xml?query=\" + encText # XML 결과\n",
    "print(url)\n"
   ]
  },
  {
   "cell_type": "code",
   "execution_count": 8,
   "id": "3b4dfa40",
   "metadata": {},
   "outputs": [
    {
     "name": "stdout",
     "output_type": "stream",
     "text": [
      "{\n",
      "\t\"lastBuildDate\":\"Wed, 02 Apr 2025 11:08:31 +0900\",\n",
      "\t\"total\":527588,\n",
      "\t\"start\":1,\n",
      "\t\"display\":10,\n",
      "\t\"items\":[\n",
      "\t\t{\n",
      "\t\t\t\"title\":\"대구<b>파이썬<\\/b>학원 실전 기술 익힌 곳\",\n",
      "\t\t\t\"link\":\"https:\\/\\/blog.naver.com\\/xshinerx\\/223787876858\",\n",
      "\t\t\t\"description\":\"그때 힘이 되어 준 대구<b>파이썬<\\/b>학원에 대한 글을 써보려 해요! IT 위주로 학습하는 곳 단순히 구직에... 이 대구<b>파이썬<\\/b>학원은 전직, 현직 강사들이 비전공자도 따라갈 수 있을 정도로 눈높이 교육을 진행해 준다고... \",\n",
      "\t\t\t\"bloggername\":\"▶ 제이의 맛있는 세상 ◀\",\n",
      "\t\t\t\"bloggerlink\":\"blog.naver.com\\/xshinerx\",\n",
      "\t\t\t\"postdate\":\"20250308\"\n",
      "\t\t},\n",
      "\t\t{\n",
      "\t\t\t\"title\":\"대전자바학원 <b>파이썬<\\/b> 앱개발 공부하고 취업까지\",\n",
      "\t\t\t\"link\":\"https:\\/\\/blog.naver.com\\/mamansiri\\/223750243246\",\n",
      "\t\t\t\"description\":\"저는 <b>파이썬<\\/b>부터 시작해 백엔드 개발에 필요한 다양한 과정을 배우기로 결정했어요. <b>파이썬<\\/b>은 최근 많은 사람들이 주목하고 인기 있는 프로그래밍 언어로 특히 생성 AI 앱을 구축하고 싶다면 필수인 언어였고... \",\n",
      "\t\t\t\"bloggername\":\"반짝반짝 너와 나\",\n",
      "\t\t\t\"bloggerlink\":\"blog.naver.com\\/mamansiri\",\n",
      "\t\t\t\"postdate\":\"20250206\"\n",
      "\t\t},\n",
      "\t\t{\n",
      "\t\t\t\"title\":\"<b>파이썬<\\/b> 자격증 시험 종류 및 취득과정\",\n",
      "\t\t\t\"link\":\"https:\\/\\/blog.naver.com\\/hwani-0627\\/223748981099\",\n",
      "\t\t\t\"description\":\"오늘은 <b>파이썬<\\/b> 자격증 시험 종류 및 취득과정에 대해서 자세히 알려드리도록 하겠습니다. <b>파이썬<\\/b> 자격증은? <b>파이썬<\\/b> 자격증 시험은 C, C+, JAVA Script 등 여러 프로그래밍 언어들 중 하나인 Python을 학습하는... \",\n",
      "\t\t\t\"bloggername\":\"화닝의 일본어+교육 교실\",\n",
      "\t\t\t\"bloggerlink\":\"blog.naver.com\\/hwani-0627\",\n",
      "\t\t\t\"postdate\":\"20250205\"\n",
      "\t\t},\n",
      "\t\t{\n",
      "\t\t\t\"title\":\"(<b>파이썬<\\/b> 학습기록)역시 개발공부 바닥도 고인물 투성. 내 길은... \",\n",
      "\t\t\t\"link\":\"https:\\/\\/blog.naver.com\\/currybread0\\/223761299487\",\n",
      "\t\t\t\"description\":\"최근 <b>파이썬<\\/b> 학습에 있어서 꽤나 큰 변화가 있었기에 이를 기록하고자 합니다. &quot;00 하지 마세요&quot; 투성이... 저의 경우에는 인프런 Dave Lee님의 강의 중 '크롤링' 수업을 통해 기본기를 깔짝 맛을 보며 <b>파이썬<\\/b>으로... \",\n",
      "\t\t\t\"bloggername\":\"찰나의 실행과 독서 그리고 성장\",\n",
      "\t\t\t\"bloggerlink\":\"blog.naver.com\\/currybread0\",\n",
      "\t\t\t\"postdate\":\"20250215\"\n",
      "\t\t},\n",
      "\t\t{\n",
      "\t\t\t\"title\":\"<b>파이썬<\\/b> 학원 AI를 개발하는 국비지원\",\n",
      "\t\t\t\"link\":\"https:\\/\\/blog.naver.com\\/newtechm\\/223801070808\",\n",
      "\t\t\t\"description\":\"<b>파이썬<\\/b> 학원 AI를 개발하는 국비지원 최근 <b>파이썬<\\/b>(Python)언어가 개발자 시장에서 엄청난 인기를 누리고 있으며 대부분의 구인 글을 보면 관련 기술 전문가에 대한 비중이 점점 높아지고 있어요 예전에는 잘... \",\n",
      "\t\t\t\"bloggername\":\"법무법인 천선\",\n",
      "\t\t\t\"bloggerlink\":\"blog.naver.com\\/newtechm\",\n",
      "\t\t\t\"postdate\":\"20250318\"\n",
      "\t\t},\n",
      "\t\t{\n",
      "\t\t\t\"title\":\"아나콘다 주피터 노트북 설치 <b>파이썬<\\/b> 프로그래밍 준비하기\",\n",
      "\t\t\t\"link\":\"https:\\/\\/blog.naver.com\\/skdaksdptn\\/223675613694\",\n",
      "\t\t\t\"description\":\"거의 모든 분야에서 생성형 AI에 관한 관심이 늘어나면서 인공지능을 활용한 <b>파이썬<\\/b> 프로그래밍... 아나콘다 (Ananconda) 설치 VS Code, PyCharm과 더불어 3대 <b>파이썬<\\/b> IDE로 통한다. 시스템 리소스를 적게 차지해... \",\n",
      "\t\t\t\"bloggername\":\"짜루의 이것저것 리뷰\",\n",
      "\t\t\t\"bloggerlink\":\"blog.naver.com\\/skdaksdptn\",\n",
      "\t\t\t\"postdate\":\"20241128\"\n",
      "\t\t},\n",
      "\t\t{\n",
      "\t\t\t\"title\":\"<b>파이썬<\\/b>자격증 시험 일정 및 공부방법\",\n",
      "\t\t\t\"link\":\"https:\\/\\/blog.naver.com\\/lunasea883\\/223700486618\",\n",
      "\t\t\t\"description\":\"이번 글에서는 위의 언어 중 <b>파이썬<\\/b>자격증 시험 일정 및 공부방법에 대해 말씀드리려고 합니다. <b>파이썬<\\/b> 장점 <b>파이썬<\\/b>자격증 장점은 다른 분야에 비해 진입이 간단하며 활용 범위가 넓다는 점에 있습니다.... \",\n",
      "\t\t\t\"bloggername\":\"JS 해피하게~★\",\n",
      "\t\t\t\"bloggerlink\":\"blog.naver.com\\/lunasea883\",\n",
      "\t\t\t\"postdate\":\"20241220\"\n",
      "\t\t},\n",
      "\t\t{\n",
      "\t\t\t\"title\":\"안산코딩학원 요즘 대세는 <b>파이썬<\\/b>\",\n",
      "\t\t\t\"link\":\"https:\\/\\/blog.naver.com\\/hoyaup\\/223787933571\",\n",
      "\t\t\t\"description\":\"안산코딩학원 요즘 대세는 <b>파이썬<\\/b> 최근 <b>파이썬<\\/b>(Python)이라는 컴퓨터 언어에 대한 수요가 엄청나게 급증하고 있고 관련 학과를 운영하고 있는 대학교에서도 모두 해당 언어 교육을 집중적으로 운영하고 있어요... \",\n",
      "\t\t\t\"bloggername\":\"Smart Box - JHL\",\n",
      "\t\t\t\"bloggerlink\":\"blog.naver.com\\/hoyaup\",\n",
      "\t\t\t\"postdate\":\"20250307\"\n",
      "\t\t},\n",
      "\t\t{\n",
      "\t\t\t\"title\":\"윤가이코딩! 코딩밸리후기, <b>파이썬<\\/b>기초부터 챗GPT까지\",\n",
      "\t\t\t\"link\":\"https:\\/\\/blog.naver.com\\/sungdevilsh\\/223725619708\",\n",
      "\t\t\t\"description\":\"모바일앱 코딩 실습 <b>파이썬<\\/b>기초와 챗GPT를 심도 있게 배우고 싶은 1인! 출퇴근 시간은 1시간 정도... 지하철에서 짧은 시간에도 앱을 켜서 <b>파이썬<\\/b> 문법을 복습하고, ChatGPT 활용 팁을 간단히 학습할 수 있거든요!... \",\n",
      "\t\t\t\"bloggername\":\"쭈's Diary\",\n",
      "\t\t\t\"bloggerlink\":\"blog.naver.com\\/sungdevilsh\",\n",
      "\t\t\t\"postdate\":\"20250114\"\n",
      "\t\t},\n",
      "\t\t{\n",
      "\t\t\t\"title\":\"잼코딩 <b>파이썬<\\/b> 독학 - 9. 제어문 : 여러 줄 코드 짜기와 주석 처리\",\n",
      "\t\t\t\"link\":\"https:\\/\\/blog.naver.com\\/jamduino\\/223812080841\",\n",
      "\t\t\t\"description\":\"오늘의 포스팅은 잼코딩 <b>파이썬<\\/b> 9. 제어문 : 여러 줄 코드 짜기 \\/ 주석에 해당하는 내용입니다. 잼코딩 <b>파이썬<\\/b> 교재 링크 (무료, 회원가입 필요 없음) 이전 포스팅(잼코딩 <b>파이썬<\\/b> 독학 - 8. 입출력 : 여러 값 한... \",\n",
      "\t\t\t\"bloggername\":\"실적을 만드는 코딩학원 잼코딩학원\",\n",
      "\t\t\t\"bloggerlink\":\"blog.naver.com\\/jamduino\",\n",
      "\t\t\t\"postdate\":\"20250327\"\n",
      "\t\t}\n",
      "\t]\n",
      "}\n"
     ]
    }
   ],
   "source": [
    "# 데이터를 가져오고자 하는 url 지정하여 할당\n",
    "request = urllib.request.Request(url)\n",
    "\n",
    "# 네이버 API에서 요청을 인증하기 위해 client_id, client_secret 추가\n",
    "request.add_header(\"X-Naver-Client-Id\",client_id)\n",
    "request.add_header(\"X-Naver-Client-Secret\",client_secret)\n",
    "\n",
    "# 지정된 request를 HTTP 요청을 보냄\n",
    "# 응답을 rescode에 할당\n",
    "response = urllib.request.urlopen(request)\n",
    "rescode = response.getcode()\n",
    "\n",
    "# rescode가 200인 경우만 정상적으로 수행되고 나머지는 오류 발생\n",
    "if(rescode==200):\n",
    "    response_body = response.read()\n",
    "    print(response_body.decode('utf-8'))\n",
    "else:\n",
    "    print(\"Error Code:\" + rescode)"
   ]
  },
  {
   "cell_type": "markdown",
   "id": "6ea02f42",
   "metadata": {},
   "source": [
    "## 실습_네이버 API 자료 수집"
   ]
  },
  {
   "cell_type": "code",
   "execution_count": 12,
   "id": "5b2fa8c5",
   "metadata": {},
   "outputs": [],
   "source": [
    "# 애플리케이션 -> fintech_book_search(위 URL에서 아이디, 패스워드 확인)\n",
    "import os\n",
    "import sys\n",
    "import urllib.request\n",
    "client_id = \"_loifYh633NryTnmS7ZK\" # 네이버 클라이언트 아이디\n",
    "client_secret = \"7J5zAUYkd9\" # 네이버 클라이언트 패스워드\n",
    "\n",
    "encText = urllib.parse.quote(\"핀테크\") # 검색할 단어의 검색 결과 확인 가능\n",
    "url = \"https://openapi.naver.com/v1/search/blog?query=\" + encText + '&start=101&display=100'# JSON 결과(기본값)\n",
    "# url = \"https://openapi.naver.com/v1/search/blog.xml?query=\" + encText # XML 결과\n",
    "request = urllib.request.Request(url)\n",
    "request.add_header(\"X-Naver-Client-Id\",client_id)\n",
    "request.add_header(\"X-Naver-Client-Secret\",client_secret)\n",
    "response = urllib.request.urlopen(request)\n",
    "rescode = response.getcode()\n",
    "\n",
    "if(rescode==200):\n",
    "    response_body = response.read()\n",
    "    print(response_body.decode('utf-8'))\n",
    "else:\n",
    "    print(\"Error Code:\" + rescode)\n"
   ]
  },
  {
   "cell_type": "markdown",
   "id": "d57a01c6",
   "metadata": {},
   "source": [
    "## URL : http://로 시작하는 웹페이지 접속주소\n",
    "- url : 실제 서비스 서버에 접속하는 주소\n",
    "- parameter : 서비스에 요청하는 값\n",
    "\n",
    "1. URL 주소로 서버에 url과 parameter를 보냄\n",
    "2. 서버로부터 응답을 받음\n",
    "3. 응답코드가 200이면 출력\n",
    "\n",
    "\n",
    "-----\n",
    "- https://search.shopping.naver.com/book/search?bookTabType=ALL&pageIndex=1&pageSize=40&prevQuery=%EB%84%A4%EC%9D%B4%EB%B2%84%EC%B1%85&query=%ED%8C%8C%EC%9D%B4%EC%8D%AC&sort=REL\n",
    "\n",
    "- url : https://search.shopping.naver.com/book/search?\n",
    "- parameter : bookTabType=ALL&pageIndex=1&pageSize=40&prevQuery=%EB%84%A4%EC%9D%B4%EB%B2%84%EC%B1%85&query=%ED%8C%8C%EC%9D%B4%EC%8D%AC&sort=REL"
   ]
  },
  {
   "cell_type": "code",
   "execution_count": 13,
   "id": "85bb4768",
   "metadata": {},
   "outputs": [
    {
     "data": {
      "text/plain": [
       "'%ED%8C%8C%EC%9D%B4%EC%8D%AC'"
      ]
     },
     "execution_count": 13,
     "metadata": {},
     "output_type": "execute_result"
    }
   ],
   "source": [
    "# 찾고자 하는 단어의 파라미터 부분 확인\n",
    "encText"
   ]
  },
  {
   "cell_type": "code",
   "execution_count": 14,
   "id": "017a8650",
   "metadata": {},
   "outputs": [
    {
     "data": {
      "text/plain": [
       "'https://openapi.naver.com/v1/search/blog?query=%ED%8C%8C%EC%9D%B4%EC%8D%AC'"
      ]
     },
     "execution_count": 14,
     "metadata": {},
     "output_type": "execute_result"
    }
   ],
   "source": [
    "url = \"https://openapi.naver.com/v1/search/blog?query=\" + encText\n",
    "url"
   ]
  },
  {
   "cell_type": "code",
   "execution_count": 19,
   "id": "6214c62a",
   "metadata": {},
   "outputs": [],
   "source": [
    "# utf-8로 디코딩하여 문자열로 변환\n",
    "data = response_body.decode('utf-8')\n",
    "# data"
   ]
  },
  {
   "cell_type": "code",
   "execution_count": 20,
   "id": "b761eddd",
   "metadata": {},
   "outputs": [],
   "source": [
    "import json\n",
    "\n",
    "# json 문자열을 딕셔너리로 변환\n",
    "data = json.loads(data)\n",
    "# data"
   ]
  },
  {
   "cell_type": "code",
   "execution_count": 23,
   "id": "15031744",
   "metadata": {},
   "outputs": [
    {
     "name": "stdout",
     "output_type": "stream",
     "text": [
      "딕셔너리 키:  dict_keys(['lastBuildDate', 'total', 'start', 'display', 'items'])\n"
     ]
    }
   ],
   "source": [
    "import json\n",
    "\n",
    "# utf-8로 디코딩하여 문자열로 변환\n",
    "data = response_body.decode('utf-8')\n",
    "\n",
    "# json 문자열을 딕셔너리로 변환\n",
    "data = json.loads(data)\n",
    "\n",
    "# 반복문으로 딕셔너리의 데이터 수집하기 위해 key 확인\n",
    "print('딕셔너리 키: ', data.keys())"
   ]
  },
  {
   "cell_type": "code",
   "execution_count": 25,
   "id": "6706e79c",
   "metadata": {},
   "outputs": [],
   "source": [
    "def text_clean(x):\n",
    "    result = x.replace('<b>','').replace('</b>','')\n",
    "    return result"
   ]
  },
  {
   "cell_type": "code",
   "execution_count": 26,
   "id": "346a2147",
   "metadata": {},
   "outputs": [
    {
     "data": {
      "text/html": [
       "<div>\n",
       "<style scoped>\n",
       "    .dataframe tbody tr th:only-of-type {\n",
       "        vertical-align: middle;\n",
       "    }\n",
       "\n",
       "    .dataframe tbody tr th {\n",
       "        vertical-align: top;\n",
       "    }\n",
       "\n",
       "    .dataframe thead th {\n",
       "        text-align: right;\n",
       "    }\n",
       "</style>\n",
       "<table border=\"1\" class=\"dataframe\">\n",
       "  <thead>\n",
       "    <tr style=\"text-align: right;\">\n",
       "      <th></th>\n",
       "      <th>title</th>\n",
       "      <th>link</th>\n",
       "      <th>description</th>\n",
       "      <th>bloggername</th>\n",
       "      <th>bloggerlink</th>\n",
       "      <th>postdate</th>\n",
       "    </tr>\n",
       "  </thead>\n",
       "  <tbody>\n",
       "    <tr>\n",
       "      <th>0</th>\n",
       "      <td>대구파이썬학원 실전 기술 익힌 곳</td>\n",
       "      <td>https://blog.naver.com/xshinerx/223787876858</td>\n",
       "      <td>그때 힘이 되어 준 대구파이썬학원에 대한 글을 써보려 해요! IT 위주로 학습하는 ...</td>\n",
       "      <td>▶ 제이의 맛있는 세상 ◀</td>\n",
       "      <td>blog.naver.com/xshinerx</td>\n",
       "      <td>20250308</td>\n",
       "    </tr>\n",
       "    <tr>\n",
       "      <th>1</th>\n",
       "      <td>대전자바학원 파이썬 앱개발 공부하고 취업까지</td>\n",
       "      <td>https://blog.naver.com/mamansiri/223750243246</td>\n",
       "      <td>저는 파이썬부터 시작해 백엔드 개발에 필요한 다양한 과정을 배우기로 결정했어요. 파...</td>\n",
       "      <td>반짝반짝 너와 나</td>\n",
       "      <td>blog.naver.com/mamansiri</td>\n",
       "      <td>20250206</td>\n",
       "    </tr>\n",
       "    <tr>\n",
       "      <th>2</th>\n",
       "      <td>파이썬 자격증 시험 종류 및 취득과정</td>\n",
       "      <td>https://blog.naver.com/hwani-0627/223748981099</td>\n",
       "      <td>오늘은 파이썬 자격증 시험 종류 및 취득과정에 대해서 자세히 알려드리도록 하겠습니다...</td>\n",
       "      <td>화닝의 일본어+교육 교실</td>\n",
       "      <td>blog.naver.com/hwani-0627</td>\n",
       "      <td>20250205</td>\n",
       "    </tr>\n",
       "    <tr>\n",
       "      <th>3</th>\n",
       "      <td>(파이썬 학습기록)역시 개발공부 바닥도 고인물 투성. 내 길은...</td>\n",
       "      <td>https://blog.naver.com/currybread0/223761299487</td>\n",
       "      <td>최근 파이썬 학습에 있어서 꽤나 큰 변화가 있었기에 이를 기록하고자 합니다. &amp;qu...</td>\n",
       "      <td>찰나의 실행과 독서 그리고 성장</td>\n",
       "      <td>blog.naver.com/currybread0</td>\n",
       "      <td>20250215</td>\n",
       "    </tr>\n",
       "    <tr>\n",
       "      <th>4</th>\n",
       "      <td>파이썬 학원 AI를 개발하는 국비지원</td>\n",
       "      <td>https://blog.naver.com/newtechm/223801070808</td>\n",
       "      <td>파이썬 학원 AI를 개발하는 국비지원 최근 파이썬(Python)언어가 개발자 시장에...</td>\n",
       "      <td>법무법인 천선</td>\n",
       "      <td>blog.naver.com/newtechm</td>\n",
       "      <td>20250318</td>\n",
       "    </tr>\n",
       "    <tr>\n",
       "      <th>5</th>\n",
       "      <td>아나콘다 주피터 노트북 설치 파이썬 프로그래밍 준비하기</td>\n",
       "      <td>https://blog.naver.com/skdaksdptn/223675613694</td>\n",
       "      <td>거의 모든 분야에서 생성형 AI에 관한 관심이 늘어나면서 인공지능을 활용한 파이썬 ...</td>\n",
       "      <td>짜루의 이것저것 리뷰</td>\n",
       "      <td>blog.naver.com/skdaksdptn</td>\n",
       "      <td>20241128</td>\n",
       "    </tr>\n",
       "    <tr>\n",
       "      <th>6</th>\n",
       "      <td>파이썬자격증 시험 일정 및 공부방법</td>\n",
       "      <td>https://blog.naver.com/lunasea883/223700486618</td>\n",
       "      <td>이번 글에서는 위의 언어 중 파이썬자격증 시험 일정 및 공부방법에 대해 말씀드리려고...</td>\n",
       "      <td>JS 해피하게~★</td>\n",
       "      <td>blog.naver.com/lunasea883</td>\n",
       "      <td>20241220</td>\n",
       "    </tr>\n",
       "    <tr>\n",
       "      <th>7</th>\n",
       "      <td>안산코딩학원 요즘 대세는 파이썬</td>\n",
       "      <td>https://blog.naver.com/hoyaup/223787933571</td>\n",
       "      <td>안산코딩학원 요즘 대세는 파이썬 최근 파이썬(Python)이라는 컴퓨터 언어에 대한...</td>\n",
       "      <td>Smart Box - JHL</td>\n",
       "      <td>blog.naver.com/hoyaup</td>\n",
       "      <td>20250307</td>\n",
       "    </tr>\n",
       "    <tr>\n",
       "      <th>8</th>\n",
       "      <td>윤가이코딩! 코딩밸리후기, 파이썬기초부터 챗GPT까지</td>\n",
       "      <td>https://blog.naver.com/sungdevilsh/223725619708</td>\n",
       "      <td>모바일앱 코딩 실습 파이썬기초와 챗GPT를 심도 있게 배우고 싶은 1인! 출퇴근 시...</td>\n",
       "      <td>쭈's Diary</td>\n",
       "      <td>blog.naver.com/sungdevilsh</td>\n",
       "      <td>20250114</td>\n",
       "    </tr>\n",
       "    <tr>\n",
       "      <th>9</th>\n",
       "      <td>잼코딩 파이썬 독학 - 9. 제어문 : 여러 줄 코드 짜기와 주석 처리</td>\n",
       "      <td>https://blog.naver.com/jamduino/223812080841</td>\n",
       "      <td>오늘의 포스팅은 잼코딩 파이썬 9. 제어문 : 여러 줄 코드 짜기 / 주석에 해당하...</td>\n",
       "      <td>실적을 만드는 코딩학원 잼코딩학원</td>\n",
       "      <td>blog.naver.com/jamduino</td>\n",
       "      <td>20250327</td>\n",
       "    </tr>\n",
       "  </tbody>\n",
       "</table>\n",
       "</div>"
      ],
      "text/plain": [
       "                                     title  \\\n",
       "0                       대구파이썬학원 실전 기술 익힌 곳   \n",
       "1                 대전자바학원 파이썬 앱개발 공부하고 취업까지   \n",
       "2                     파이썬 자격증 시험 종류 및 취득과정   \n",
       "3   (파이썬 학습기록)역시 개발공부 바닥도 고인물 투성. 내 길은...    \n",
       "4                     파이썬 학원 AI를 개발하는 국비지원   \n",
       "5           아나콘다 주피터 노트북 설치 파이썬 프로그래밍 준비하기   \n",
       "6                      파이썬자격증 시험 일정 및 공부방법   \n",
       "7                        안산코딩학원 요즘 대세는 파이썬   \n",
       "8            윤가이코딩! 코딩밸리후기, 파이썬기초부터 챗GPT까지   \n",
       "9  잼코딩 파이썬 독학 - 9. 제어문 : 여러 줄 코드 짜기와 주석 처리   \n",
       "\n",
       "                                              link  \\\n",
       "0     https://blog.naver.com/xshinerx/223787876858   \n",
       "1    https://blog.naver.com/mamansiri/223750243246   \n",
       "2   https://blog.naver.com/hwani-0627/223748981099   \n",
       "3  https://blog.naver.com/currybread0/223761299487   \n",
       "4     https://blog.naver.com/newtechm/223801070808   \n",
       "5   https://blog.naver.com/skdaksdptn/223675613694   \n",
       "6   https://blog.naver.com/lunasea883/223700486618   \n",
       "7       https://blog.naver.com/hoyaup/223787933571   \n",
       "8  https://blog.naver.com/sungdevilsh/223725619708   \n",
       "9     https://blog.naver.com/jamduino/223812080841   \n",
       "\n",
       "                                         description         bloggername  \\\n",
       "0  그때 힘이 되어 준 대구파이썬학원에 대한 글을 써보려 해요! IT 위주로 학습하는 ...      ▶ 제이의 맛있는 세상 ◀   \n",
       "1  저는 파이썬부터 시작해 백엔드 개발에 필요한 다양한 과정을 배우기로 결정했어요. 파...           반짝반짝 너와 나   \n",
       "2  오늘은 파이썬 자격증 시험 종류 및 취득과정에 대해서 자세히 알려드리도록 하겠습니다...       화닝의 일본어+교육 교실   \n",
       "3  최근 파이썬 학습에 있어서 꽤나 큰 변화가 있었기에 이를 기록하고자 합니다. &qu...   찰나의 실행과 독서 그리고 성장   \n",
       "4  파이썬 학원 AI를 개발하는 국비지원 최근 파이썬(Python)언어가 개발자 시장에...             법무법인 천선   \n",
       "5  거의 모든 분야에서 생성형 AI에 관한 관심이 늘어나면서 인공지능을 활용한 파이썬 ...         짜루의 이것저것 리뷰   \n",
       "6  이번 글에서는 위의 언어 중 파이썬자격증 시험 일정 및 공부방법에 대해 말씀드리려고...           JS 해피하게~★   \n",
       "7  안산코딩학원 요즘 대세는 파이썬 최근 파이썬(Python)이라는 컴퓨터 언어에 대한...     Smart Box - JHL   \n",
       "8  모바일앱 코딩 실습 파이썬기초와 챗GPT를 심도 있게 배우고 싶은 1인! 출퇴근 시...           쭈's Diary   \n",
       "9  오늘의 포스팅은 잼코딩 파이썬 9. 제어문 : 여러 줄 코드 짜기 / 주석에 해당하...  실적을 만드는 코딩학원 잼코딩학원   \n",
       "\n",
       "                  bloggerlink  postdate  \n",
       "0     blog.naver.com/xshinerx  20250308  \n",
       "1    blog.naver.com/mamansiri  20250206  \n",
       "2   blog.naver.com/hwani-0627  20250205  \n",
       "3  blog.naver.com/currybread0  20250215  \n",
       "4     blog.naver.com/newtechm  20250318  \n",
       "5   blog.naver.com/skdaksdptn  20241128  \n",
       "6   blog.naver.com/lunasea883  20241220  \n",
       "7       blog.naver.com/hoyaup  20250307  \n",
       "8  blog.naver.com/sungdevilsh  20250114  \n",
       "9     blog.naver.com/jamduino  20250327  "
      ]
     },
     "execution_count": 26,
     "metadata": {},
     "output_type": "execute_result"
    }
   ],
   "source": [
    "result = {}\n",
    "for i in range(len(data['items'])):\n",
    "    for key, value in data['items'][i].items():\n",
    "        value = text_clean(value)\n",
    "        result.setdefault(key, []).append(value)\n",
    "# print(result)\n",
    "\n",
    "import pandas as pd\n",
    "df = pd.DataFrame(result)\n",
    "df"
   ]
  },
  {
   "cell_type": "code",
   "execution_count": null,
   "id": "14c46250",
   "metadata": {},
   "outputs": [],
   "source": []
  },
  {
   "cell_type": "code",
   "execution_count": null,
   "id": "b3142931",
   "metadata": {},
   "outputs": [],
   "source": []
  }
 ],
 "metadata": {
  "kernelspec": {
   "display_name": "Python 3 (ipykernel)",
   "language": "python",
   "name": "python3"
  },
  "language_info": {
   "codemirror_mode": {
    "name": "ipython",
    "version": 3
   },
   "file_extension": ".py",
   "mimetype": "text/x-python",
   "name": "python",
   "nbconvert_exporter": "python",
   "pygments_lexer": "ipython3",
   "version": "3.9.21"
  }
 },
 "nbformat": 4,
 "nbformat_minor": 5
}
