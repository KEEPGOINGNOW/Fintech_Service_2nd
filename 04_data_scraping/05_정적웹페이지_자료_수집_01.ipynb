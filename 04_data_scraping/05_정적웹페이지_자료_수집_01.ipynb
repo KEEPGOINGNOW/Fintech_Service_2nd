{
 "cells": [
  {
   "cell_type": "markdown",
   "id": "6db62eb2",
   "metadata": {},
   "source": [
    "# 정적 웹페이지 수집\n",
    "- 순수 HTML, CSS로 만들어진 페이지\n",
    "- javaScript로 내용을 갱신하지 않는 페이지\n"
   ]
  },
  {
   "cell_type": "markdown",
   "id": "0fff1211",
   "metadata": {},
   "source": [
    "# 네이버 책 수집"
   ]
  },
  {
   "cell_type": "code",
   "execution_count": 61,
   "id": "d3ddf8bf",
   "metadata": {},
   "outputs": [],
   "source": [
    "import time # 너무 빠르게 수집하면 차단 가능성 존재\n",
    "import requests\n",
    "from bs4 import BeautifulSoup as bs"
   ]
  },
  {
   "cell_type": "code",
   "execution_count": 64,
   "id": "667c237b",
   "metadata": {},
   "outputs": [],
   "source": [
    "# 안되면 아무 페이지의 f12 > Network > ctrl + R > all > 맨 처음 것에서 해당 하는 것 불러와서 headers 할당\n",
    "# 네이버는 requests로 데이터 수집이 막힘 \n",
    "headers = {'user-agent': 'Mozilla/5.0 (Windows NT 10.0; Win64; x64) AppleWebKit/537.36 (KHTML, like Gecko) Chrome/134.0.0.0 Safari/537.36',\n",
    "          'cookie': 'NNB=ILUBY7FS7O5WO; NAC=tvl5Bgwc9LEh; _ga=GA1.1.1663768585.1741910344; _gcl_au=1.1.166788566.1741910346; _fbp=fb.1.1741910346384.91605596409296784; _tt_enable_cookie=1; _ttp=01JP8Z532HWQVC6BCVJJBZ6EM9_.tt.1; _ga_9JHCQLWL5X=GS1.1.1741910345.1.1.1741910634.0.0.0; _ga_NFRXYYY5S0=GS1.1.1741910344.1.1.1741910634.0.0.0; _ga_Q7G1QTKPGB=GS1.1.1741910344.1.1.1741910634.0.0.0; NACT=1; nid_inf=2002055042; NID_AUT=MV/HLyZ/lMn9viDjp1D6idrtn+woSJlQJwhBbLB35uTkPC60bQ9CCMiX462Zqek0; NID_JKL=UIMUUOjU/NVc6xUFGFo2kiGuyORJlJkJvG/2jm/pdO8=; SRT30=1743646100; SRT5=1743646100; NID_SES=AAAB0UT1yFJLkYGBcUcd+A6ycC6x1Mq65c5lqSvWjdndo8o0VF16kvhVMQ/y3e6yIXTTCKhxdesr0hNuyZiXAPs7D6k7opThhubVZbBvddiW+owco/Gp8QMPzCKzs76jKvhTYL/dfpjR62uJwICfdJ3Fyn9zIQl9pZAlVP84qlPxT+WFFb8DtVGim2obpx5FqPDOqjh+AUW2yC0cx0btx6nuUbPzrxoxrXgTl6KOxPjEdgYjF3Dvo2bwg3Kid8VoPlCD9PG+swgUHDno1+Eeg68Ujc2ySGeqQwGOmbog6vTCt2YnL13T6+yj7VTiMnA7/rzQF/uSiglYBKzHmuPzUZwAso45X7r6WxjQXxuKmn//GYcCtAJ3B2eFEO2ega5g7j+uF2xfeBQY/M/SxrPlWXLulKJ54v5dMWuwB42+kJlO8K/6wjqD14S4UlbEh0hXYg2e90rdZ3stDzkH3bT08l7vIDogncX15C7QJ+QuxxJQH69TyckioE2EdzVzRfcho+ObZTRNfFB5IVkjdyE+uF7NAIvJ3Ds7QC+FSYaRqWuhohqKer+q2vEaae18ojOJryp2FQAqE+YOtEL8a1CojwoVSpOnrgpOtuES6iMaVO5rH1kNtKPaC2gnnwjqjq1S+n9wNg==; _naver_usersession_=kekFiLfE594kQZNP0HwomgOh; page_uid=i+3xXsqo1aVssjEDT7dssssstfK-402558; BUC=fNuXtAd6mCfDLqRXXkJM6d31ig_8xRmd5OxuTSHXQRk='}\n"
   ]
  },
  {
   "cell_type": "code",
   "execution_count": 86,
   "id": "c9bf2c26",
   "metadata": {},
   "outputs": [],
   "source": [
    "url = 'https://search.shopping.naver.com/book/search'\n",
    "payload = dict(bookTabType='ALL',pageIndex=1,pageSize=40,prevQuery=\"%EB%84%A4%EC%9D%B4%EB%B2%84%20%EB%8F%84%EC%84%9C\",query='%ED%8C%8C%EC%9D%B4%EC%8D%AC',sort='REL')\n",
    "r = requests.get(url, params=payload, headers=headers)\n",
    "# print(r.url)\n",
    "# print(r.status_code)\n",
    "r = r.content\n",
    "\n",
    "response = bs(r,'lxml')\n",
    "# response"
   ]
  },
  {
   "cell_type": "markdown",
   "id": "23cdecc7",
   "metadata": {},
   "source": [
    "# yes24 베스트셀로 자료 수집"
   ]
  },
  {
   "cell_type": "markdown",
   "id": "e5d61b6a",
   "metadata": {},
   "source": [
    "- 도서명\n",
    "- 저자명\n",
    "- 출판사\n",
    "- 출간일\n",
    "- 가격\n",
    "- 회원리뷰 점수\n",
    "- 회원리뷰 건수\n",
    "\n",
    "----\n",
    "\n",
    "- 상세페이지 링크"
   ]
  },
  {
   "cell_type": "code",
   "execution_count": 255,
   "id": "17b472b1",
   "metadata": {},
   "outputs": [
    {
     "name": "stdout",
     "output_type": "stream",
     "text": [
      "https://www.yes24.com/product/category/bestseller?CategoryNumber=001&sumgb=06&PageSize=120\n",
      "200\n"
     ]
    },
    {
     "data": {
      "text/plain": [
       "3"
      ]
     },
     "execution_count": 255,
     "metadata": {},
     "output_type": "execute_result"
    }
   ],
   "source": [
    "url = 'https://www.yes24.com/product/category/bestseller'\n",
    "payload = dict(CategoryNumber='001', sumgb='06', PageSize=120)\n",
    "r = requests.get(url, params=payload)\n",
    "print(r.url)\n",
    "print(r.status_code)\n",
    "\n",
    "soup = bs(r.content, 'lxml')\n",
    "soup"
   ]
  },
  {
   "cell_type": "markdown",
   "id": "a0e4efdf",
   "metadata": {},
   "source": [
    "- 전체 yes24 베스트셀러 페이지 중 책 정보가 들어있는 곳 : ul#yesBestList\n",
    "- ul#yesBestList 아래에 li에 책 1권의 정보가 들어있음"
   ]
  },
  {
   "cell_type": "code",
   "execution_count": 190,
   "id": "01e9beca",
   "metadata": {},
   "outputs": [
    {
     "name": "stdout",
     "output_type": "stream",
     "text": [
      "24\n",
      "['단 한 번의 삶', '듀얼 브레인', '어른의 품격을 채우는 100일 필사 노트', '소년이 온다', '성적 초격차를 만드는 독서력 수업', '어른의 행복은 조용하다', '내면소통 명상수업', '모순', '별별 직업 상담소', '초역 부처의 말', '여학교의 별 4', '넥서스', '하루 한 장 나의 어휘력을 위한 필사 노트', '2025 큰별쌤 최태성의 별별한국사 한국사능력검정시험 심화(1,2,3급) 상', '그릿 GRIT', '별에게', '2025 큰별쌤 최태성의 별별한국사 한국사능력검정시험 심화(1,2,3급) 하', '행동하지 않으면 인생은 바뀌지 않는다', '급류', '스토너', '2025 제16회 젊은작가상 수상작품집', '2025 헝그리스포츠 7일 완성 생활스포츠지도사 2급 필기', '작별하지 않는다', 'ETS 토익 정기시험 기출문제집 1000 Vol. 4 RC']\n"
     ]
    }
   ],
   "source": [
    "# 도서명_내 풀이(노가다라고 볼 수 있음)\n",
    "book_name = soup.select('a.gd_name')\n",
    "book_names = []\n",
    "for name in book_name:\n",
    "#     print(name.text)\n",
    "    book_names.append(name.text)\n",
    "print(len(book_names))\n",
    "print(book_names)"
   ]
  },
  {
   "cell_type": "code",
   "execution_count": 191,
   "id": "bed9b0cb",
   "metadata": {},
   "outputs": [
    {
     "name": "stdout",
     "output_type": "stream",
     "text": [
      "['저자: 김영하', '저자: 이선 몰릭 번역: 신동숙', '저자: 김종원', '저자: 한강', '저자: 김수미', '저자: 태수', '저자: 김주환', '저자: 양귀자', '글그림: 요시타케 신스케', '저자: 코이케 류노스케 번역: 박재현', '글그림: 와야마 야마', '저자: 유발 하라리 번역: 김명주', '저자: 유선경', '저자: 최태성', '저자: 김주환', '글그림: 안녕달', '저자: 최태성', '저자: 브라이언 트레이시 번역: 정지현', '저자: 정대건', '저자: 존 윌리엄스 번역: 김승욱', '저자: 백온유, 강보라, 서장원, 성해나, 성혜령', '저자: 한현근', '저자: 한강', '저자: ETS']\n"
     ]
    }
   ],
   "source": [
    "# 저자_ 내 풀이(노가다한 것)\n",
    "#yesBestList > li:nth-child(1) > div > div.item_info > div.info_row.info_pubGrp > span.authPub.info_auth\n",
    "#yesBestList > li:nth-child(9) > div > div.item_info > div.info_row.info_pubGrp > span.authPub.info_auth\n",
    "#yesBestList > li:nth-child(21) > div > div.item_info > div.info_row.info_pubGrp > span.authPub.info_auth > span > span.moreAuthLi\n",
    "author = soup.select('span.authPub.info_auth')\n",
    "\n",
    "book_author = []\n",
    "for writer in author:\n",
    "#     print(writer.text)\n",
    "    author_list = writer.text.strip()\n",
    "    \n",
    "    if '저/' in writer.text:\n",
    "        name  = author_list.split(' 저/')\n",
    "        wt_name = f\"저자: {name[0]}\"\n",
    "        wt_name2 = f\"번역: {name[1].replace(' 역','')}\"\n",
    "        book_author.append(f\"{wt_name} {wt_name2}\")\n",
    "    \n",
    "    elif '글그림' in writer.text:\n",
    "        wt_name  = f\"글그림: {author_list.split(' 글그림')[0]}\"\n",
    "        book_author.append(f\"{wt_name}\")\n",
    "    \n",
    "    elif '글그림/' in writer.text:\n",
    "        name  = author_list.split(' 글그림/')\n",
    "        wt_name = f\"글그림: {name[0]}\"\n",
    "        wt_name2 = f\"번역: {name[1].replace(' 역','')}\"\n",
    "        book_author.append(f\"{wt_name} {wt_name2}\")\n",
    "    \n",
    "    else:\n",
    "        wt_name = f\"저자: {author_list.split(' 저')[0]}\"\n",
    "        book_author.append(f\"{wt_name}\")\n",
    "\n",
    "print(book_author)\n",
    "    \n"
   ]
  },
  {
   "cell_type": "code",
   "execution_count": 264,
   "id": "12a4f0b8",
   "metadata": {},
   "outputs": [],
   "source": [
    "# 도서명_풀이 확인\n",
    "# 도서에 관한 정보 전부 포함되어 있음(ul#yesBestList > li)\n",
    "# soup.select_one('ul#yesBestList').select('li')\n",
    "book_list = soup.select('ul#yesBestList > li')\n",
    "len(book_list)\n",
    "\n",
    "# 책 제목\n",
    "book_title = book_list[0].select_one('.gd_name').text\n",
    "\n",
    "# 저자명\n",
    "author = book_list[0].select_one('.info_row.info_pubGrp a').text\n",
    "\n",
    "# 출판사\n",
    "#yesBestList > li:nth-child(18) > div > div.item_info > div.info_row.info_pubGrp > span.authPub.info_pub > a\n",
    "publisher = book_list[0].select_one('.authPub.info_pub a').text\n",
    "\n",
    "# 출간일\n",
    "#yesBestList > li:nth-child(19) > div > div.item_info > div.info_row.info_pubGrp > span.authPub.info_date\n",
    "publisher_date = book_list[0].select_one('.authPub.info_date').text\n",
    "\n",
    "# 가격\n",
    "#yesBestList > li:nth-child(19) > div > div.item_info > div.info_row.info_price > strong\n",
    "price = int(book_list[0].select_one('.info_row.info_price em.yes_b').text.replace(',',''))\n",
    "\n",
    "# 회원리뷰 점수\n",
    "#yesBestList > li:nth-child(19) > div > div.item_info > div.info_row.info_rating > span.rating_grade > em\n",
    "rating = float(book_list[0].select_one('.info_rating em.yes_b').text)\n",
    "\n",
    "# 회원리뷰 건수\n",
    "#yesBestList > li:nth-child(19) > div > div.item_info > div.info_row.info_rating > span.rating_rvCount > a > em.txC_blue\n",
    "n_reviews = int(book_list[0].select_one('.info_rating em.txC_blue').text)\n"
   ]
  },
  {
   "cell_type": "code",
   "execution_count": 287,
   "id": "cf1df451",
   "metadata": {},
   "outputs": [
    {
     "name": "stdout",
     "output_type": "stream",
     "text": [
      "book_title 120\n",
      "author 120\n",
      "publisher 120\n",
      "publish_date 120\n",
      "price 120\n",
      "rating 120\n",
      "n_reviews 120\n"
     ]
    }
   ],
   "source": [
    "result = {}\n",
    "book = []\n",
    "\n",
    "for book in book_list:\n",
    "#     print(f\"{len(book)} / {len(book_list)}\", end='\\r')\n",
    "    # 책 제목\n",
    "    book_title = book.select_one('.gd_name').text\n",
    "    \n",
    "    # 저자명\n",
    "    author = book.select_one('.info_row.info_pubGrp a').text\n",
    "    \n",
    "    # 출판사\n",
    "    publisher = book.select_one('.authPub.info_pub a').text\n",
    "    \n",
    "    # 출간일\n",
    "    publish_date = book.select_one('.authPub.info_date').text\n",
    "\n",
    "    # 가격\n",
    "    price = int(book.select_one('.info_row.info_price em.yes_b').text.replace(',',''))\n",
    "\n",
    "    # 회원리뷰 점수\n",
    "    rating = float(book.select_one('.info_rating em.yes_b').text) if book.select_one('.info_rating em.yes_b') != None else 0.0\n",
    "\n",
    "    # 회원리뷰 건수\n",
    "    n_reviews = int(book.select_one('.info_rating em.txC_blue').text.replace(',','')) if book.select_one('.info_rating em.txC_blue') != None else 0\n",
    "    \n",
    "    keys = ['book_title', 'author', 'publisher', 'publish_date', 'price', 'rating', 'n_reviews']\n",
    "    values = [book_title, author, publisher, publish_date, price, rating, n_reviews]\n",
    "    for key, value in zip(keys,values):\n",
    "        result.setdefault(key, []).append(value)\n",
    "    time.sleep(0.1)\n",
    "    \n",
    "for key, value in result.items():\n",
    "    print(f\"{key} {len(value)}\")"
   ]
  },
  {
   "cell_type": "code",
   "execution_count": 303,
   "id": "c645aded",
   "metadata": {},
   "outputs": [
    {
     "name": "stdout",
     "output_type": "stream",
     "text": [
      "\n",
      "정관 스님, 후남 셀만 저\n",
      "베로니크 회거 사진\n",
      "양혜영 역\r\n",
      "                            \n"
     ]
    }
   ],
   "source": [
    "author_name = book_list[28].select_one('.authPub.info_auth').text.split('/')\n",
    "print(author_name[0])\n",
    "print(author_name[1])\n",
    "print(author_name[-1])\n"
   ]
  },
  {
   "cell_type": "code",
   "execution_count": 304,
   "id": "cf4d2519",
   "metadata": {},
   "outputs": [
    {
     "data": {
      "text/plain": [
       "'백온유 강보라 서장원 성해나 성혜령 이희주 현호정'"
      ]
     },
     "execution_count": 304,
     "metadata": {},
     "output_type": "execute_result"
    }
   ],
   "source": [
    "book_list[20].select_one('.authPub.info_auth').text.split('/')[1].replace('\\n',' ').strip('감추기 ')\n"
   ]
  },
  {
   "cell_type": "markdown",
   "id": "2d225f90",
   "metadata": {},
   "source": [
    "## 전체 페이지의 데이터 수집"
   ]
  },
  {
   "cell_type": "code",
   "execution_count": 364,
   "id": "55ff120e",
   "metadata": {},
   "outputs": [
    {
     "name": "stdout",
     "output_type": "stream",
     "text": [
      "https://www.yes24.com/product/category/bestseller?CategoryNumber=001&sumgb=06&PageSize=120\n",
      "200\n"
     ]
    }
   ],
   "source": [
    "url = 'https://www.yes24.com/product/category/bestseller'\n",
    "payload = dict(CategoryNumber='001', sumgb='06', PageSize=10)\n",
    "r = requests.get(url, params=payload)\n",
    "print(r.url)\n",
    "print(r.status_code)\n",
    "time.sleep(0.2)\n",
    "soup = bs(r.content, 'lxml')"
   ]
  },
  {
   "cell_type": "code",
   "execution_count": 293,
   "id": "54565b19",
   "metadata": {},
   "outputs": [
    {
     "data": {
      "text/plain": [
       "120"
      ]
     },
     "execution_count": 293,
     "metadata": {},
     "output_type": "execute_result"
    }
   ],
   "source": [
    "len(soup.select('ul#yesBestList > li'))"
   ]
  },
  {
   "cell_type": "code",
   "execution_count": 363,
   "id": "f84ce7a1",
   "metadata": {},
   "outputs": [
    {
     "name": "stdout",
     "output_type": "stream",
     "text": [
      "맨끝\n"
     ]
    }
   ],
   "source": [
    "#bestContentsWrap > div.bSGoodsPagen > div > div > div\n",
    "#bestContentsWrap > div.bSGoodsPagen > div > div > div > a:nth-child(2)\n",
    "print(soup.select_one('.bSGoodsPagen a:last-child').text)"
   ]
  },
  {
   "cell_type": "code",
   "execution_count": 369,
   "id": "535b6c58",
   "metadata": {},
   "outputs": [
    {
     "name": "stdout",
     "output_type": "stream",
     "text": [
      "9\n",
      "https://www.yes24.com/product/category/bestseller?CategoryNumber=001&sumgb=06&PageSize=120&pageNumber=1\n",
      "200\n",
      "페이지 1: 120개 데이터 수집\n",
      "\n",
      "https://www.yes24.com/product/category/bestseller?CategoryNumber=001&sumgb=06&PageSize=120&pageNumber=2\n",
      "200\n",
      "페이지 2: 120개 데이터 수집\n",
      "\n",
      "https://www.yes24.com/product/category/bestseller?CategoryNumber=001&sumgb=06&PageSize=120&pageNumber=3\n",
      "200\n",
      "페이지 3: 120개 데이터 수집\n",
      "\n",
      "https://www.yes24.com/product/category/bestseller?CategoryNumber=001&sumgb=06&PageSize=120&pageNumber=4\n",
      "200\n",
      "페이지 4: 120개 데이터 수집\n",
      "\n",
      "https://www.yes24.com/product/category/bestseller?CategoryNumber=001&sumgb=06&PageSize=120&pageNumber=5\n",
      "200\n",
      "페이지 5: 120개 데이터 수집\n",
      "\n",
      "https://www.yes24.com/product/category/bestseller?CategoryNumber=001&sumgb=06&PageSize=120&pageNumber=6\n",
      "200\n",
      "페이지 6: 120개 데이터 수집\n",
      "\n",
      "https://www.yes24.com/product/category/bestseller?CategoryNumber=001&sumgb=06&PageSize=120&pageNumber=7\n",
      "200\n",
      "페이지 7: 120개 데이터 수집\n",
      "\n",
      "https://www.yes24.com/product/category/bestseller?CategoryNumber=001&sumgb=06&PageSize=120&pageNumber=8\n",
      "200\n",
      "페이지 8: 120개 데이터 수집\n",
      "\n",
      "https://www.yes24.com/product/category/bestseller?CategoryNumber=001&sumgb=06&PageSize=120&pageNumber=9\n",
      "200\n",
      "페이지 9: 39개 데이터 수집\n",
      "\n",
      "\n",
      "총 999개 데이터 수집\n"
     ]
    },
    {
     "data": {
      "text/html": [
       "<div>\n",
       "<style scoped>\n",
       "    .dataframe tbody tr th:only-of-type {\n",
       "        vertical-align: middle;\n",
       "    }\n",
       "\n",
       "    .dataframe tbody tr th {\n",
       "        vertical-align: top;\n",
       "    }\n",
       "\n",
       "    .dataframe thead th {\n",
       "        text-align: right;\n",
       "    }\n",
       "</style>\n",
       "<table border=\"1\" class=\"dataframe\">\n",
       "  <thead>\n",
       "    <tr style=\"text-align: right;\">\n",
       "      <th></th>\n",
       "      <th>book_title</th>\n",
       "      <th>detail_link</th>\n",
       "      <th>author</th>\n",
       "      <th>publisher</th>\n",
       "      <th>publish_date</th>\n",
       "      <th>price</th>\n",
       "      <th>rating</th>\n",
       "      <th>n_reviews</th>\n",
       "    </tr>\n",
       "  </thead>\n",
       "  <tbody>\n",
       "    <tr>\n",
       "      <th>0</th>\n",
       "      <td>단 한 번의 삶</td>\n",
       "      <td>https://www.yes24.com/product/goods/144021119</td>\n",
       "      <td>\\n김영하 저\\r\\n</td>\n",
       "      <td>복복서가</td>\n",
       "      <td>2025년 04월</td>\n",
       "      <td>15120</td>\n",
       "      <td>9.0</td>\n",
       "      <td>10</td>\n",
       "    </tr>\n",
       "    <tr>\n",
       "      <th>1</th>\n",
       "      <td>듀얼 브레인</td>\n",
       "      <td>https://www.yes24.com/product/goods/142876017</td>\n",
       "      <td>\\n이선 몰릭 저/신동숙 역\\r\\n</td>\n",
       "      <td>상상스퀘어</td>\n",
       "      <td>2025년 03월</td>\n",
       "      <td>18900</td>\n",
       "      <td>8.7</td>\n",
       "      <td>38</td>\n",
       "    </tr>\n",
       "    <tr>\n",
       "      <th>2</th>\n",
       "      <td>어른의 품격을 채우는 100일 필사 노트</td>\n",
       "      <td>https://www.yes24.com/product/goods/142687238</td>\n",
       "      <td>\\n김종원 저\\r\\n</td>\n",
       "      <td>청림Life</td>\n",
       "      <td>2025년 03월</td>\n",
       "      <td>18000</td>\n",
       "      <td>9.9</td>\n",
       "      <td>56</td>\n",
       "    </tr>\n",
       "    <tr>\n",
       "      <th>3</th>\n",
       "      <td>소년이 온다</td>\n",
       "      <td>https://www.yes24.com/product/goods/13137546</td>\n",
       "      <td>\\n한강 저\\r\\n</td>\n",
       "      <td>창비</td>\n",
       "      <td>2014년 05월</td>\n",
       "      <td>13500</td>\n",
       "      <td>9.7</td>\n",
       "      <td>3845</td>\n",
       "    </tr>\n",
       "    <tr>\n",
       "      <th>4</th>\n",
       "      <td>성적 초격차를 만드는 독서력 수업</td>\n",
       "      <td>https://www.yes24.com/product/goods/143494860</td>\n",
       "      <td>\\n김수미 저\\r\\n</td>\n",
       "      <td>빅피시</td>\n",
       "      <td>2025년 03월</td>\n",
       "      <td>17820</td>\n",
       "      <td>9.9</td>\n",
       "      <td>67</td>\n",
       "    </tr>\n",
       "    <tr>\n",
       "      <th>...</th>\n",
       "      <td>...</td>\n",
       "      <td>...</td>\n",
       "      <td>...</td>\n",
       "      <td>...</td>\n",
       "      <td>...</td>\n",
       "      <td>...</td>\n",
       "      <td>...</td>\n",
       "      <td>...</td>\n",
       "    </tr>\n",
       "    <tr>\n",
       "      <th>994</th>\n",
       "      <td>오십의 기술</td>\n",
       "      <td>https://www.yes24.com/product/goods/118182879</td>\n",
       "      <td>\\n이호선 저\\r\\n</td>\n",
       "      <td>카시오페아</td>\n",
       "      <td>2023년 04월</td>\n",
       "      <td>16200</td>\n",
       "      <td>9.2</td>\n",
       "      <td>48</td>\n",
       "    </tr>\n",
       "    <tr>\n",
       "      <th>995</th>\n",
       "      <td>햇빛초 대나무 숲에 새 글이 올라왔습니다</td>\n",
       "      <td>https://www.yes24.com/product/goods/91860106</td>\n",
       "      <td>\\n황지영 글/백두리 그림\\r\\n</td>\n",
       "      <td>우리학교</td>\n",
       "      <td>2020년 08월</td>\n",
       "      <td>13050</td>\n",
       "      <td>9.9</td>\n",
       "      <td>68</td>\n",
       "    </tr>\n",
       "    <tr>\n",
       "      <th>996</th>\n",
       "      <td>처음 읽는 그리스 로마 신화 2</td>\n",
       "      <td>https://www.yes24.com/product/goods/91774327</td>\n",
       "      <td>\\n최설희 글/한현동 그림/정수영 편\\r\\n                      ...</td>\n",
       "      <td>미래엔아이세움</td>\n",
       "      <td>2020년 08월</td>\n",
       "      <td>10800</td>\n",
       "      <td>9.9</td>\n",
       "      <td>84</td>\n",
       "    </tr>\n",
       "    <tr>\n",
       "      <th>997</th>\n",
       "      <td>칵테일, 러브, 좀비</td>\n",
       "      <td>https://www.yes24.com/product/goods/89913383</td>\n",
       "      <td>\\n조예은 저\\r\\n</td>\n",
       "      <td>안전가옥</td>\n",
       "      <td>2020년 04월</td>\n",
       "      <td>11700</td>\n",
       "      <td>9.2</td>\n",
       "      <td>1132</td>\n",
       "    </tr>\n",
       "    <tr>\n",
       "      <th>998</th>\n",
       "      <td>와일드 로봇</td>\n",
       "      <td>https://www.yes24.com/product/goods/76149026</td>\n",
       "      <td>\\n피터 브라운 글그림/엄혜숙 역\\r\\n                        ...</td>\n",
       "      <td>거북이북스</td>\n",
       "      <td>2019년 07월</td>\n",
       "      <td>15120</td>\n",
       "      <td>9.9</td>\n",
       "      <td>86</td>\n",
       "    </tr>\n",
       "  </tbody>\n",
       "</table>\n",
       "<p>999 rows × 8 columns</p>\n",
       "</div>"
      ],
      "text/plain": [
       "                 book_title                                    detail_link  \\\n",
       "0                  단 한 번의 삶  https://www.yes24.com/product/goods/144021119   \n",
       "1                    듀얼 브레인  https://www.yes24.com/product/goods/142876017   \n",
       "2    어른의 품격을 채우는 100일 필사 노트  https://www.yes24.com/product/goods/142687238   \n",
       "3                    소년이 온다   https://www.yes24.com/product/goods/13137546   \n",
       "4        성적 초격차를 만드는 독서력 수업  https://www.yes24.com/product/goods/143494860   \n",
       "..                      ...                                            ...   \n",
       "994                  오십의 기술  https://www.yes24.com/product/goods/118182879   \n",
       "995  햇빛초 대나무 숲에 새 글이 올라왔습니다   https://www.yes24.com/product/goods/91860106   \n",
       "996       처음 읽는 그리스 로마 신화 2   https://www.yes24.com/product/goods/91774327   \n",
       "997             칵테일, 러브, 좀비   https://www.yes24.com/product/goods/89913383   \n",
       "998                  와일드 로봇   https://www.yes24.com/product/goods/76149026   \n",
       "\n",
       "                                                author publisher publish_date  \\\n",
       "0              \\n김영하 저\\r\\n                                  복복서가    2025년 04월   \n",
       "1      \\n이선 몰릭 저/신동숙 역\\r\\n                                 상상스퀘어    2025년 03월   \n",
       "2              \\n김종원 저\\r\\n                                청림Life    2025년 03월   \n",
       "3               \\n한강 저\\r\\n                                    창비    2014년 05월   \n",
       "4              \\n김수미 저\\r\\n                                   빅피시    2025년 03월   \n",
       "..                                                 ...       ...          ...   \n",
       "994            \\n이호선 저\\r\\n                                 카시오페아    2023년 04월   \n",
       "995     \\n황지영 글/백두리 그림\\r\\n                                  우리학교    2020년 08월   \n",
       "996  \\n최설희 글/한현동 그림/정수영 편\\r\\n                      ...   미래엔아이세움    2020년 08월   \n",
       "997            \\n조예은 저\\r\\n                                  안전가옥    2020년 04월   \n",
       "998  \\n피터 브라운 글그림/엄혜숙 역\\r\\n                        ...     거북이북스    2019년 07월   \n",
       "\n",
       "     price  rating  n_reviews  \n",
       "0    15120     9.0         10  \n",
       "1    18900     8.7         38  \n",
       "2    18000     9.9         56  \n",
       "3    13500     9.7       3845  \n",
       "4    17820     9.9         67  \n",
       "..     ...     ...        ...  \n",
       "994  16200     9.2         48  \n",
       "995  13050     9.9         68  \n",
       "996  10800     9.9         84  \n",
       "997  11700     9.2       1132  \n",
       "998  15120     9.9         86  \n",
       "\n",
       "[999 rows x 8 columns]"
      ]
     },
     "metadata": {},
     "output_type": "display_data"
    }
   ],
   "source": [
    "import pandas as pd\n",
    "\n",
    "url = 'https://www.yes24.com/product/category/bestseller'\n",
    "payload = dict(CategoryNumber='001', sumgb='06', PageSize=120)\n",
    "r = requests.get(url, params=payload)\n",
    "soup = bs(r.content, 'lxml')\n",
    "\n",
    "last_page = int(soup.select_one('.bSGoodsPagen a:last-child').text)\n",
    "print(last_page)\n",
    "\n",
    "result_list = []\n",
    "page = 1\n",
    "\n",
    "for idx, page in enumerate(range(1, last_page+1)):\n",
    "#     print(page)\n",
    "    \n",
    "    print(f\"{idx+1} / {last_page} 수집 중\", end = '\\r')\n",
    "    url = 'https://www.yes24.com/product/category/bestseller'\n",
    "    payload = dict(CategoryNumber='001', sumgb='06', PageSize=120, pageNumber= page)\n",
    "    r = requests.get(url, params=payload)\n",
    "    \n",
    "    print(r.url)\n",
    "    print(r.status_code)\n",
    "    time.sleep(0.2)\n",
    "    soup = bs(r.content, 'lxml')\n",
    "    \n",
    "    book_list = soup.select('ul#yesBestList > li')\n",
    "    href_url = 'https://www.yes24.com'\n",
    "    \n",
    "    result = {}\n",
    "    page_data = {'book_title':[], 'detail_link': [], 'author': [], 'publisher': [], 'publish_date': [],\n",
    "        'price': [], 'rating': [], 'n_reviews': []}\n",
    "    \n",
    "    for book in book_list:\n",
    "        page_data['book_title'].append(book.select_one('.gd_name').text)\n",
    "        page_data['detail_link'].append(href_url + book.select_one('.gd_name')['href'])\n",
    "        page_data['author'].append(book.select_one('.authPub.info_auth').text)\n",
    "        page_data['publisher'].append(book.select_one('.authPub.info_pub a').text)\n",
    "        page_data['publish_date'].append(book.select_one('.authPub.info_date').text)\n",
    "        page_data['price'].append(int(book.select_one('.info_row.info_price em.yes_b').text.replace(',','')))\n",
    "        page_data['rating'].append(float(book.select_one('.info_rating em.yes_b').text) if book.select_one('.info_rating em.yes_b') != None else 0.0)\n",
    "        page_data['n_reviews'].append(int(book.select_one('.info_rating em.txC_blue').text.replace(',','')) if book.select_one('.info_rating em.txC_blue') != None else 0)\n",
    "    print(f\"페이지 {page}: {len(page_data['book_title'])}개 데이터 수집\\n\")\n",
    "    result_list.append(pd.DataFrame(page_data))\n",
    "    time.sleep(1)\n",
    "    \n",
    "result_df = pd.concat(result_list, ignore_index=True)\n",
    "\n",
    "print(f\"\\n총 {len(result_df)}개 데이터 수집\")\n",
    "display(result_df)\n",
    "    \n",
    "    "
   ]
  },
  {
   "cell_type": "code",
   "execution_count": null,
   "id": "8679768d",
   "metadata": {},
   "outputs": [],
   "source": [
    "# 출간일\n",
    "    publish_date = book.select_one('.authPub.info_date').text\n",
    "\n",
    "    # 가격\n",
    "    price = int(book.select_one('.info_row.info_price em.yes_b').text.replace(',',''))\n",
    "\n",
    "    # 회원리뷰 점수\n",
    "    rating = float(book.select_one('.info_rating em.yes_b').text) if book.select_one('.info_rating em.yes_b') != None else 0.0\n",
    "\n",
    "    # 회원리뷰 건수\n",
    "    n_reviews = int(book.select_one('.info_rating em.txC_blue').text.replace(',','')) if book.select_one('.info_rating em.txC_blue') != None else 0"
   ]
  },
  {
   "cell_type": "code",
   "execution_count": 340,
   "id": "b5cf9d99",
   "metadata": {},
   "outputs": [
    {
     "name": "stdout",
     "output_type": "stream",
     "text": [
      "['복복서가', '상상스퀘어', '청림Life', '창비', '빅피시', '페이지2북스', '인플루엔셜', '쓰다', '주니어김영사', '포레스트북스', '문학동네', '김영사', '위즈덤하우스', '이투스북 ', '인플루엔셜', '창비', '이투스북 ', '현대지성', '민음사', '알에이치코리아(RHK)', '문학동네', '직업상점', '문학동네', 'YBM(와이비엠)', 'YBM(와이비엠)', '창비', '포레스트북스', '창비', '윌북(willbook)', '대원', '이레미디어', '리디', '리더스북', '상상스퀘어', '메디치미디어', '해커스어학연구소', '문학과지성사', '퍼스트펭귄', '다산북스', '떠오름', '이투스북 ', '카시오페아', '문학동네', '상상스퀘어', '길벗', '대원', '퍼스트펭귄', '에듀윌', '미래엔아이세움', '사람in', '웅진지식하우스', '위즈덤하우스', '더퀘스트', '서삼독', '서울미디어코믹스(서울문화사)', '책읽는곰', '서울미디어코믹스(서울문화사)', '센시오', '미래가치', '아울북', '세계사', '문학과지성사', '터닝페이지', '데이원', '다산책방', '책구루', '다즐링', '사이언스북스', '을유문화사', '길찾기', '해커스어학연구소', '유노북스', '위너스북', '현대지성', '다산어린이', '문학과지성사', '문학동네', '슈크림북', '을유문화사', '휴머니스트', '김영사', '문학동네', '레퍼런스 바이 비(REFERENCE by B)', '창비', '한빛비즈', '대원', '우리학교', '서사원', '대원', '고시넷', '웅진주니어', '아울북', '크리에이티비티', '이든서재', '페이지2북스', '윌마', '규장', '민음사', '웅진주니어', '다산책방', '동양북스(동양books)', '김영사', '인플루엔셜', '해커스어학연구소', '문학동네', '인플루엔셜', '서삼독', '직업상점', '시대고시기획 시대교육', '단꿈아이', '미래엔아이세움', '비룡소', '은행나무', '해커스경찰', '용감한까치', '가치산책컴퍼니', '디앤씨미디어(D&C미디어)', '디앤씨미디어(D&C미디어)', '커리어빅', '휴머니스트']\n"
     ]
    }
   ],
   "source": [
    "book_list = soup.select('ul#yesBestList > li')\n",
    "href_url = 'https://www.yes24.com'\n",
    "\n",
    "result = {}\n",
    "\n",
    "book_title = []\n",
    "detail_link = []\n",
    "author_name = []\n",
    "publisher = []\n",
    "publish_date = []\n",
    "price = []\n",
    "rating = []\n",
    "n_reviews = []\n",
    "\n",
    "\n",
    "for book in book_list:\n",
    "    book_title.append(book.select_one('.gd_name').text)\n",
    "    detail_link.append(href_url + book.select_one('.gd_name')['href'])\n",
    "    author_name.append(book.select_one('.authPub.info_auth').text)\n",
    "    publisher.append(book.select_one('.authPub.info_pub a').text)\n",
    "    publish_date.append(book.select_one('.authPub.info_date').text)\n",
    "    price.append(int(book.select_one('.info_row.info_price em.yes_b').text.replace(',','')))\n",
    "    rating.append(float(book.select_one('.info_rating em.yes_b').text) if book.select_one('.info_rating em.yes_b') != None else 0.0)\n",
    "    n_reviews.append(int(book.select_one('.info_rating em.txC_blue').text.replace(',','')) if book.select_one('.info_rating em.txC_blue') != None else 0)\n",
    "    time.sleep(0.1)\n",
    "\n"
   ]
  },
  {
   "cell_type": "code",
   "execution_count": 374,
   "id": "213b261f",
   "metadata": {},
   "outputs": [
    {
     "data": {
      "text/plain": [
       "'/product/goods/76149026'"
      ]
     },
     "execution_count": 374,
     "metadata": {},
     "output_type": "execute_result"
    }
   ],
   "source": [
    "# 북 새로고침 링크 연결\n",
    "#yesBestList > li:nth-child(1) > div > div.item_info > div.info_row.info_name > a.bgYUI.ico_nWin\n",
    "book.select_one('.gd_name')['href']"
   ]
  },
  {
   "cell_type": "markdown",
   "id": "f753ca28",
   "metadata": {},
   "source": [
    "# 저자, 역자, 글그림, 편저, 공동저자 등 구분하기"
   ]
  },
  {
   "cell_type": "code",
   "execution_count": null,
   "id": "5adb3a2c",
   "metadata": {},
   "outputs": [],
   "source": [
    "# 저자 이름 정리\n",
    "\n",
    "url = 'https://www.yes24.com/product/category/bestseller'\n",
    "payload = dict(CategoryNumber='001', sumgb='06', PageSize=10, pageNumber=150)\n",
    "r = requests.get(url, params=payload)\n",
    "\n",
    "print(r.url)\n",
    "print(r.status_code)\n",
    "time.sleep(0.2)\n",
    "soup = bs(r.content, 'lxml')\n",
    "book_author = []\n",
    "\n",
    "for book in book_list:\n",
    "    author_name = book.select_one('.authPub.info_auth')\n",
    "    if not author_name:\n",
    "        continue\n",
    "    author_text = author_name.text.split()strip()\n",
    "    \n",
    "    if \"정보 더 보기/감추기\" in author_text:\n",
    "        name = author_text.split('/')\n",
    "        if len(name) > 1:\n",
    "            name[1].replace('\\n', ' ').strip('감추기 ').replace('정보 더 보기', '').strip()\n",
    "        else:\n",
    "            continue\n",
    "    else:\n",
    "        author_parts = author_text.split('/')\n",
    "        author_name = author_parts[0].replace(' 저', '').replace(' 글그림', '').strip()\n",
    "        if len(author_parts) > 1:\n",
    "            translator = author_parts[1].replace(' 역', '').strip()\n",
    "            book_author.append(f\"저자:{author_name} 번역:{translator}\")\n",
    "        else:\n",
    "            if '글그림' in author_text:\n",
    "                book_author.append(f\"글그림: {author_name}\")\n",
    "            else:\n",
    "                book_author.append(f\"저자: {author_name}\")\n",
    "print(book_author)"
   ]
  },
  {
   "cell_type": "code",
   "execution_count": null,
   "id": "27a4b8e6",
   "metadata": {},
   "outputs": [],
   "source": []
  },
  {
   "cell_type": "code",
   "execution_count": null,
   "id": "66cbbbad",
   "metadata": {},
   "outputs": [],
   "source": []
  },
  {
   "cell_type": "code",
   "execution_count": null,
   "id": "058bc7be",
   "metadata": {},
   "outputs": [],
   "source": []
  },
  {
   "cell_type": "code",
   "execution_count": null,
   "id": "78f4a71b",
   "metadata": {},
   "outputs": [],
   "source": []
  },
  {
   "cell_type": "code",
   "execution_count": null,
   "id": "9c835c4e",
   "metadata": {},
   "outputs": [],
   "source": []
  },
  {
   "cell_type": "code",
   "execution_count": null,
   "id": "09b592b9",
   "metadata": {},
   "outputs": [],
   "source": []
  },
  {
   "cell_type": "code",
   "execution_count": null,
   "id": "cc9b085e",
   "metadata": {},
   "outputs": [],
   "source": []
  },
  {
   "cell_type": "code",
   "execution_count": null,
   "id": "3f68c890",
   "metadata": {},
   "outputs": [],
   "source": []
  },
  {
   "cell_type": "code",
   "execution_count": null,
   "id": "f2459244",
   "metadata": {},
   "outputs": [],
   "source": []
  },
  {
   "cell_type": "code",
   "execution_count": null,
   "id": "9e9e64c9",
   "metadata": {},
   "outputs": [],
   "source": []
  },
  {
   "cell_type": "code",
   "execution_count": null,
   "id": "c1dd0057",
   "metadata": {},
   "outputs": [],
   "source": []
  },
  {
   "cell_type": "code",
   "execution_count": null,
   "id": "d7bb5e51",
   "metadata": {},
   "outputs": [],
   "source": []
  },
  {
   "cell_type": "code",
   "execution_count": null,
   "id": "350699da",
   "metadata": {},
   "outputs": [],
   "source": []
  },
  {
   "cell_type": "code",
   "execution_count": null,
   "id": "73aa85ad",
   "metadata": {},
   "outputs": [],
   "source": []
  },
  {
   "cell_type": "code",
   "execution_count": null,
   "id": "752de504",
   "metadata": {},
   "outputs": [],
   "source": []
  },
  {
   "cell_type": "code",
   "execution_count": null,
   "id": "792fd94f",
   "metadata": {},
   "outputs": [],
   "source": []
  },
  {
   "cell_type": "code",
   "execution_count": null,
   "id": "936ee113",
   "metadata": {},
   "outputs": [],
   "source": []
  },
  {
   "cell_type": "code",
   "execution_count": null,
   "id": "d980baa1",
   "metadata": {},
   "outputs": [],
   "source": []
  },
  {
   "cell_type": "code",
   "execution_count": null,
   "id": "a1d10735",
   "metadata": {},
   "outputs": [],
   "source": []
  }
 ],
 "metadata": {
  "kernelspec": {
   "display_name": "Python 3 (ipykernel)",
   "language": "python",
   "name": "python3"
  },
  "language_info": {
   "codemirror_mode": {
    "name": "ipython",
    "version": 3
   },
   "file_extension": ".py",
   "mimetype": "text/x-python",
   "name": "python",
   "nbconvert_exporter": "python",
   "pygments_lexer": "ipython3",
   "version": "3.9.21"
  }
 },
 "nbformat": 4,
 "nbformat_minor": 5
}
