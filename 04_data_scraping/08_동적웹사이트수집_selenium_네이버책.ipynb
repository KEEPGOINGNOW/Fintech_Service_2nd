{
 "cells": [
  {
   "cell_type": "markdown",
   "id": "28b83e73",
   "metadata": {},
   "source": [
    "# Selenium 패키지\n",
    "- 웹브라이저를 자동을 제어하는 라이브러리\n",
    "- 원래 다양한 웹브라우저를 자동으로 테스트하는 도구\n",
    "- 코드를 통해 웹브라우저 조작 가능\n",
    "- 동적 웹사이트에서 정보를 가져오는데 활용"
   ]
  },
  {
   "cell_type": "code",
   "execution_count": 1,
   "id": "228cfe4d",
   "metadata": {},
   "outputs": [],
   "source": [
    "# !pip install selenium\n",
    "# !pip install webdriver_manager"
   ]
  },
  {
   "cell_type": "code",
   "execution_count": 2,
   "id": "e0f9c12a",
   "metadata": {},
   "outputs": [],
   "source": [
    "from selenium import webdriver\n",
    "from selenium.webdriver.common.by import By"
   ]
  },
  {
   "cell_type": "code",
   "execution_count": 3,
   "id": "9063e75c",
   "metadata": {},
   "outputs": [
    {
     "name": "stdout",
     "output_type": "stream",
     "text": [
      "4.31.0\n"
     ]
    }
   ],
   "source": [
    "import selenium\n",
    "print(selenium.__version__)"
   ]
  },
  {
   "cell_type": "code",
   "execution_count": 21,
   "id": "b6131ec9",
   "metadata": {},
   "outputs": [],
   "source": [
    "from selenium import webdriver\n",
    "from selenium.webdriver.chrome.service import Service\n",
    "from selenium.webdriver.chrome.options import Options\n",
    "from webdriver_manager.chrome import ChromeDriverManager\n",
    "from selenium.webdriver.common.by import By\n",
    "from selenium.webdriver.common.keys import Keys\n",
    "\n",
    "options = Options()\n",
    "options.add_experimental_option(\"detach\", True)\n",
    "options.add_argument('start_maximized')\n",
    "# options.add_argument('Mozilla/5.0 (Windows NT 10.0; Win64; x64) AppleWebKit/537.36 (KHTML, like Gecko) Chrome/134.0.0.0 Safari/537.36')\n",
    "options.add_argument('lang=ko_KR')\n",
    "\n",
    "driver = webdriver.Chrome(\n",
    "    service=Service(ChromeDriverManager().install()),\n",
    "    options=options\n",
    "    )\n",
    "driver.get(\"https://search.shopping.naver.com/book/search?bookTabType=ALL&pageIndex=1&pageSize=40&prevQuery=%EB%84%A4%EC%9D%B4%EB%B2%84%20%EC%B1%85&query=%ED%8C%8C%EC%9D%B4%EC%8D%AC&sort=REL\")"
   ]
  },
  {
   "cell_type": "markdown",
   "id": "33f4d259",
   "metadata": {},
   "source": [
    "# Selenium에서 원하는 요소 찾기\n",
    "- driver.find_element(By.CSS_SELECTOR, css셀렉터) : 1개의 요소 찾음\n",
    "- driver.find_elements(By.CSS_SELECTOR, css셀렉터) : 여러개의 요소 찾음, list 반환\n",
    "- driver.find_element(By.ID, 'id') : html에서 id 속성 찾음\n",
    "- driver.find_element(By.LINK_TEXT, 'link 포함된 문자') : link에 포함된 문자 찾음\n",
    "- driver.find_element(By.PARTIAL_LINK_TEXT, 'link 포함된 문자') : link에 포함된 문자 찾음"
   ]
  },
  {
   "cell_type": "code",
   "execution_count": 22,
   "id": "51be406b",
   "metadata": {},
   "outputs": [
    {
     "data": {
      "text/plain": [
       "'혼자 만들면서 공부하는 파이썬 (37개 라이브러리와 API로 보고서, 차트, 게임, 맵, AI 챗봇 만들기|저자 직강 유튜브 강의, 오픈 채팅 제공)'"
      ]
     },
     "execution_count": 22,
     "metadata": {},
     "output_type": "execute_result"
    }
   ],
   "source": [
    "driver.find_element(By.CSS_SELECTOR, 'div.bookListItem_title__1mWGq').text"
   ]
  },
  {
   "cell_type": "code",
   "execution_count": 79,
   "id": "15485c87",
   "metadata": {},
   "outputs": [
    {
     "data": {
      "text/plain": [
       "'평점4.4 (5)'"
      ]
     },
     "execution_count": 79,
     "metadata": {},
     "output_type": "execute_result"
    }
   ],
   "source": [
    "driver.find_element(By.CSS_SELECTOR, '.bookListItem_grade__e60mi').text"
   ]
  },
  {
   "cell_type": "code",
   "execution_count": 77,
   "id": "5bbe9462",
   "metadata": {},
   "outputs": [],
   "source": [
    "driver.execute_script(f'window.scrollTo(0,1000)')"
   ]
  },
  {
   "cell_type": "code",
   "execution_count": 78,
   "id": "560ad218",
   "metadata": {},
   "outputs": [],
   "source": [
    "import time\n",
    "\n",
    "y = 0\n",
    "y_step = 1000\n",
    "for scroll_times in range(1,8):\n",
    "    y = y + y_step\n",
    "    driver.execute_script(f\"window.scrollTo({0},{y})\")\n",
    "    time.sleep(2)"
   ]
  },
  {
   "cell_type": "code",
   "execution_count": null,
   "id": "80e33305",
   "metadata": {},
   "outputs": [],
   "source": [
    "html_source = driver.page_source\n",
    "# html_source (html)"
   ]
  },
  {
   "cell_type": "code",
   "execution_count": null,
   "id": "6c079355",
   "metadata": {},
   "outputs": [],
   "source": [
    "from bs4 import BeautifulSoup as bs\n",
    "soup = bs(html_source, 'lxml')\n",
    "# soup.select('div.bookListItem_title__1mWGq')"
   ]
  },
  {
   "cell_type": "code",
   "execution_count": null,
   "id": "5c9fafad",
   "metadata": {},
   "outputs": [],
   "source": [
    "# driver.find_element(By.ID, 'book_list').text"
   ]
  },
  {
   "cell_type": "code",
   "execution_count": null,
   "id": "1806e2e9",
   "metadata": {},
   "outputs": [],
   "source": [
    "# driver.find_element(By.PARTIAL_LINK_TEXT, '파이썬').get_attribute('innerHTML')"
   ]
  },
  {
   "cell_type": "code",
   "execution_count": null,
   "id": "77ae700d",
   "metadata": {},
   "outputs": [],
   "source": []
  },
  {
   "cell_type": "markdown",
   "id": "e53caa5a",
   "metadata": {},
   "source": [
    "# 찾은 요소에서 요소의 속성값 출력\n",
    "- driver.find_element(By.CSS_SELECTOR, 'css셀렉터').get_attribute('속성명')"
   ]
  },
  {
   "cell_type": "code",
   "execution_count": 51,
   "id": "a06772ad",
   "metadata": {},
   "outputs": [],
   "source": [
    "seller_link = \"#book_list > ul > li:nth-child(1) > div > div > div:nth-child(1) > a\""
   ]
  },
  {
   "cell_type": "code",
   "execution_count": 60,
   "id": "8ca60ae0",
   "metadata": {},
   "outputs": [],
   "source": [
    "# driver.find_element(By.CSS_SELECTOR, seller_link).get_attribute('outerHTML')"
   ]
  },
  {
   "cell_type": "code",
   "execution_count": 59,
   "id": "cb3afe6f",
   "metadata": {},
   "outputs": [],
   "source": [
    "# div.info_area > a\n",
    "# for el in driver.find_elements(By.CSS_SELECTOR, 'div.bookListItem_title__1mWGq'):\n",
    "# #     print(el)\n",
    "#     print(el.get_attribute('outerHTML')\n",
    "    "
   ]
  },
  {
   "cell_type": "markdown",
   "id": "b049347a",
   "metadata": {},
   "source": [
    "# 검색창을 찾아 검색어 입력하여 서치 버튼 클릭\n",
    "- 키보드 입력하기\n",
    "    - driver.send_keys('키보드 입력할 키워드')\n",
    "    - driver.send_keys(Keys.ENTER)\n",
    "- 마우스 클릭하기\n",
    "    - driver.clink()\n",
    "    "
   ]
  },
  {
   "cell_type": "code",
   "execution_count": 66,
   "id": "b72a10c4",
   "metadata": {},
   "outputs": [
    {
     "data": {
      "text/plain": [
       "'<input class=\"_searchInput_search_text_83jy9 _nlog_click\" title=\"검색어 입력\" placeholder=\"상품명 또는 브랜드 입력\" maxlength=\"50\" data-shp-page-key=\"100388780\" data-shp-nsc=\"shopping.book\" data-shp-inventory=\"GNB\" data-shp-area=\"GNB.input\" data-shp-area-type=\"action\" data-shp-area-id=\"input\" type=\"text\" value=\"파이썬\">'"
      ]
     },
     "execution_count": 66,
     "metadata": {},
     "output_type": "execute_result"
    }
   ],
   "source": [
    "driver.find_element(By.CSS_SELECTOR, \"._searchInput_search_text_83jy9._nlog_click\").get_attribute('outerHTML')"
   ]
  },
  {
   "cell_type": "code",
   "execution_count": 75,
   "id": "144d8a06",
   "metadata": {},
   "outputs": [],
   "source": [
    "search_box = driver.find_element(By.CSS_SELECTOR, \"._searchInput_search_text_83jy9._nlog_click\")\n",
    "search_box.clear()\n",
    "search_box.send_keys('핀테크')\n",
    "# search_box.send_keys(Keys.ENTER)\n",
    "\n",
    "# 클릭 수행\n",
    "search_button = driver.find_element(By.CSS_SELECTOR, \"._searchInput_button_search_wu9xq._nlog_click\")\n",
    "search_button.click()\n"
   ]
  },
  {
   "cell_type": "code",
   "execution_count": null,
   "id": "140c133b",
   "metadata": {},
   "outputs": [],
   "source": []
  },
  {
   "cell_type": "markdown",
   "id": "17ca095e",
   "metadata": {},
   "source": [
    "# 네이버 도서 책 데이터 수집\n",
    "- 네이버 홈에서 파이썬 검색하기\n",
    "- 파이썬 검색하고 들어간 페이지에서 전체 페이지 데이터 수집 진행(페이지 5장까지 진행)\n",
    "-----\n",
    "### 5페이지 수집 및 마우스 스크롤 필수\n",
    "- 책제목\n",
    "- 상세정보링크\n",
    "- 저자\n",
    "- 출판사\n",
    "- 출간일\n",
    "- 평점\n",
    "- 가격"
   ]
  },
  {
   "cell_type": "code",
   "execution_count": 103,
   "id": "6a22e9ec",
   "metadata": {},
   "outputs": [],
   "source": [
    "options = Options()\n",
    "options.add_experimental_option(\"detach\", True)\n",
    "options.add_argument('start_maximized')\n",
    "# options.add_argument('Mozilla/5.0 (Windows NT 10.0; Win64; x64) AppleWebKit/537.36 (KHTML, like Gecko) Chrome/134.0.0.0 Safari/537.36')\n",
    "options.add_argument('lang=ko_KR')\n",
    "\n",
    "driver = webdriver.Chrome(\n",
    "    service=Service(ChromeDriverManager().install()),\n",
    "    options=options\n",
    "    )\n",
    "url = \"https://search.shopping.naver.com/book/home\"\n",
    "driver.get(url)"
   ]
  },
  {
   "cell_type": "code",
   "execution_count": 104,
   "id": "bc37bab2",
   "metadata": {},
   "outputs": [
    {
     "data": {
      "text/plain": [
       "'<input type=\"text\" class=\"_searchInput_search_text_83jy9 _searchInput_placeholder_AG5yA _nlog_click\" title=\"검색어 입력\" placeholder=\"상품명 또는 브랜드 입력\" maxlength=\"50\" data-shp-page-key=\"100388778\" data-shp-nsc=\"shopping.book\" data-shp-inventory=\"GNB\" data-shp-area=\"GNB.input\" data-shp-area-type=\"action\" data-shp-area-id=\"input\" value=\"\">'"
      ]
     },
     "execution_count": 104,
     "metadata": {},
     "output_type": "execute_result"
    }
   ],
   "source": [
    "driver.find_element(By.CSS_SELECTOR,\"._searchInput_placeholder_AG5yA._nlog_click\").get_attribute('outerHTML')"
   ]
  },
  {
   "cell_type": "code",
   "execution_count": 105,
   "id": "e9c03945",
   "metadata": {},
   "outputs": [],
   "source": [
    "#gnb-gnb > div._gnb_header_area_nfFfz > div > div._gnbContent_gnb_content_JUwjU > div._gnbSearch_gnb_search_ULxKx._gnbSearch_type_price_comparison_YQqay > form > div > div > div > div > input\n",
    "home_search = driver.find_element(By.CSS_SELECTOR,\"._searchInput_placeholder_AG5yA._nlog_click\")\n",
    "home_search.clear()\n",
    "home_search.send_keys('파이썬')\n",
    "home_search.send_keys(Keys.ENTER)"
   ]
  },
  {
   "cell_type": "code",
   "execution_count": 300,
   "id": "e721cf82",
   "metadata": {},
   "outputs": [],
   "source": [
    "# import time\n",
    "\n",
    "# y = 0\n",
    "# y_step = 1000\n",
    "# book_info = []\n",
    "\n",
    "# for scroll_times in range(1,8):\n",
    "#     y = y + y_step\n",
    "#     driver.execute_script(f\"window.scrollTo({0},{scroll_times})\")\n",
    "    \n",
    "#     result = {\n",
    "#         'Book_Name': [],\n",
    "#         'Detail_Links': [],\n",
    "#         'Author': [],\n",
    "#         'Publisher': [],\n",
    "#         'Public_Date': [],\n",
    "#         'Score': [],\n",
    "#         'Price': []\n",
    "#     }\n",
    "    \n",
    "#     # 책제목\n",
    "#     book_names = driver.find_elements(By.CSS_SELECTOR, 'div.bookListItem_title__1mWGq')\n",
    "#     for name in book_names:\n",
    "#         result['Book_Name'].append(name.text)\n",
    "    \n",
    "#     # 상세정보링크\n",
    "#     path = '.bookListItem_item_inner__edK7P > a'\n",
    "#     detail_links = driver.find_elements(By.CSS_SELECTOR, path)\n",
    "#     for detail_link in detail_links:\n",
    "#         result['Detail_Links'].append(detail_link.get_attribute('href'))\n",
    "        \n",
    "#     # 저자\n",
    "#     authors = driver.find_elements(By.CSS_SELECTOR, 'div.bookListItem_detail__VW1kD > div:nth-child(1) > span.bookListItem_define_data__fu2A5')\n",
    "#     for author in authors:\n",
    "#         result['Publisher'].append(author.text)\n",
    "        \n",
    "#     # 출판사\n",
    "#     publishers = driver.find_elements(By.CSS_SELECTOR, '.bookListItem_publish__6XykH .bookListItem_define_data__fu2A5')\n",
    "#     for publisher in publishers:\n",
    "#          result['Author'].append(publisher.text)\n",
    "    \n",
    "#     #출간일\n",
    "#     public_dates = driver.find_elements(By.CSS_SELECTOR, 'div.bookListItem_detail_date__6_wYJ')\n",
    "#     for public_date in public_dates:\n",
    "#         result['Public_Date'].append(public_date.text)\n",
    "        \n",
    "#     #평점\n",
    "#     scores = driver.find_elements(By.CSS_SELECTOR, 'div.bookListItem_grade__e60mi')\n",
    "#     for score in scores:\n",
    "#         if score.text.strip() != None:\n",
    "#             result['Score'].append(float(score.text[2:5]))\n",
    "    \n",
    "#     #가격\n",
    "#     price_containers = driver.find_elements(By.CSS_SELECTOR, '.bookPrice_price__Nv4Ee')\n",
    "#     for container in price_containers:\n",
    "#         prices = container.find_elements(By.TAG_NAME, 'em')\n",
    "#         price_list = [int(price.text.replace(',', '')) for price in prices]\n",
    "#         result['Price'].append(price_list)\n",
    "    \n",
    "#     time.sleep(1)\n",
    "    \n",
    "# print(result)"
   ]
  },
  {
   "cell_type": "code",
   "execution_count": 301,
   "id": "7c0f591b",
   "metadata": {},
   "outputs": [],
   "source": [
    "# for value in result.values():\n",
    "#     print(f\"{len(value)}\")"
   ]
  },
  {
   "cell_type": "code",
   "execution_count": 140,
   "id": "5f2db889",
   "metadata": {},
   "outputs": [],
   "source": [
    "# 책 제목\n",
    "# for name in driver.find_elements(By.CSS_SELECTOR, 'div.bookListItem_title__1mWGq'):\n",
    "#     print(name.text)"
   ]
  },
  {
   "cell_type": "code",
   "execution_count": 139,
   "id": "76430c77",
   "metadata": {},
   "outputs": [],
   "source": [
    "# 상세정보링크\n",
    "#bookListItem_item_box__TV98j linkAnchor _nlog_click _nlog_impression_element\n",
    "# driver.find_elements(By.CSS_SELECTOR, '.bookListItem_item_box__TV98j.linkAnchor._nlog_click._nlog_impression_element')"
   ]
  },
  {
   "cell_type": "code",
   "execution_count": 214,
   "id": "9e404610",
   "metadata": {},
   "outputs": [],
   "source": [
    "# 저자\n",
    "#book_list > ul > li:nth-child(1) > div > a.bookListItem_info_top__DLxpl.linkAnchor._nlog_click._nlog_impression_element > div.bookListItem_text_area__6gSV2 > div.bookListItem_detail__VW1kD > div:nth-child(1) > span.bookListItem_define_data__fu2A5\n",
    "# driver.find_element(By.CSS_SELECTOR, 'div.bookListItem_detail__VW1kD > div:nth-child(1) > span.bookListItem_define_data__fu2A5').text"
   ]
  },
  {
   "cell_type": "code",
   "execution_count": 213,
   "id": "0c7115bc",
   "metadata": {},
   "outputs": [],
   "source": [
    "# #출판사\n",
    "# publishers = driver.find_elements(By.CSS_SELECTOR, 'div.bookListItem_detail_publish__SGgZN > span.bookListItem_define_data__fu2A5') \n",
    "# for publisher in publishers:\n",
    "#     print(publisher.text)\n",
    "\n",
    "#출간일\n",
    "# driver.find_element(By.CSS_SELECTOR, 'div.bookListItem_detail_date__6_wYJ').text\n",
    "\n",
    "#평점\n",
    "# scores = driver.find_elements(By.CSS_SELECTOR, 'div.bookListItem_grade__e60mi')\n",
    "# for score in scores:\n",
    "#     if score.text.strip() != None:\n",
    "#         result['Score'].append(score.text)\n",
    "\n",
    "# #가격\n",
    "# prices = driver.find_elements(By.CSS_SELECTOR, 'div.bookListItem_item_sub__GMKuN span.bookPrice_price__Nv4Ee')\n",
    "# for price in prices:\n",
    "#     result['Price'].append(price.text)"
   ]
  },
  {
   "cell_type": "markdown",
   "id": "d6ab2e00",
   "metadata": {},
   "source": [
    "# 웹페이지가 모두 로딩될 때까지 기다리기\n",
    "- from selenium.webdriver.support.ui import WebDriverWait\n",
    "- from selenium.webdriver.support import expected_conditions as EC\n"
   ]
  },
  {
   "cell_type": "code",
   "execution_count": null,
   "id": "85f06298",
   "metadata": {},
   "outputs": [],
   "source": [
    "from selenium.webdriver.support.ui import WebDriverWait\n",
    "from selenium.webdriver.support import expected_conditions as EC\n",
    "\n",
    "wait = WebDriverWait(driver, 10)\n",
    "button = wait.until(EC.element_to_be_clicable(By.ID, \"submit-button\"))\n",
    "button.click()"
   ]
  },
  {
   "cell_type": "code",
   "execution_count": 212,
   "id": "fe160ed6",
   "metadata": {},
   "outputs": [],
   "source": [
    "from selenium import webdriver\n",
    "from selenium.webdriver.chrome.service import Service\n",
    "from selenium.webdriver.chrome.options import Options\n",
    "from webdriver_manager.chrome import ChromeDriverManager\n",
    "from selenium.webdriver.common.by import By\n",
    "from selenium.webdriver.common.keys import Keys\n",
    "from selenium.webdriver.support.ui import WebDriverWait\n",
    "from selenium.webdriver.support import expected_conditions as EC\n",
    "\n",
    "options = Options()\n",
    "options.add_experimental_option(\"detach\", True)\n",
    "options.add_argument('start_maximized')\n",
    "options.add_argument('Chrome/134.0.0.0')\n",
    "options.add_argument('lang=ko_KR')\n",
    "\n",
    "driver = webdriver.Chrome(\n",
    "    service=Service(ChromeDriverManager().install()),\n",
    "    options=options\n",
    ")\n",
    "\n",
    "url = \"https://search.shopping.naver.com/book/home\"\n",
    "driver.get(url)\n",
    "wait = WebDriverWait(driver, 10)\n",
    "\n",
    "search_text_box = wait.until(EC.presence_of_element_located((By.CSS_SELECTOR,\"._searchInput_placeholder_AG5yA._nlog_click\")))\n",
    "search_text_box.send_keys('파이썬')\n",
    "search_text_box.send_keys(Keys.ENTER)\n"
   ]
  },
  {
   "cell_type": "code",
   "execution_count": 259,
   "id": "17e9d4a2",
   "metadata": {},
   "outputs": [
    {
     "name": "stdout",
     "output_type": "stream",
     "text": [
      "혼자 만들면서 공부하는 파이썬 (37개 라이브러리와 API로 보고서, 차트, 게임, 맵, AI 챗봇 만들기|저자 직강 유튜브 강의, 오픈 채팅 제공) https://cr3.shopping.naver.com/book/adcr?x=PQSPVgp%2FrxBdyXi%2FUy1YUv%2F%2F%2Fw%3D%3DsL6lYDictt4yOWhgbAt1Gk%2FbQRyMdMd37cHyL02GTODGJnnL5Sdl1Om0OnvyPouDNOodz2sUCSJzaZGeyQGIepByjqXvgxCQgAqzFKCxrbpMNOKR6xCS1dOkksYKCMZwWGUcEqhxl496fFvh2kUfn98v%2BjB2erv%2BZ%2Brrs5VHOiTTt4DqiWzfh638rk6r8T8q2rvW58xB1D49unXpRSRrQDP7IntYW81Xs6qvX%2Bsnxc5xra%2BpI6UJu%2BTwtNWUwqdlIAV6pb3IaxDE%2FTyCytk5RTCy8qycwyAjRtSp2e4HAtBhr6kdrp7BvT8OlwZ7P37Yyw5nDbL8fZ%2FGYoIq%2F%2FjqO5XhhwLJwdx%2B2gXINy%2B92DcA52vl52IljN9%2Br7i0bOyrHdXuuPsatgYU9id2jTf8AfUeq7xa2bs6%2FahMzsv2lyyJ5SQWnPur7KfcO%2F%2BCm%2Fk3izfNVo1KcSVSazeZg7M%2BAaaiu8UijwP2ZPqUkQaimIv%2BRn3pOVdeEbmmL3GF6bx2lUcd8sgPslR1l2EsXiWQ6aIYJNVikDzdEqfyVj%2FjNoX6WAHQL7y5m2kfL9Hg2%2BV5YiTTX73NsM9LC0gIh66H4xkZ0ZvuBE4%2BhLZWkgE7ov7wqHVEaBjWga3OskBmXSIPw9zwlWtJiKOUk1I7q41%2FzjQ%3D%3D&nvMid=52859338841&catId=50010920 문현일 한빛미디어 2025.02.14. 5.0 <selenium.webdriver.remote.webelement.WebElement (session=\"e6f3c726bbaced9842474c8dd08728b7\", element=\"f.42323E537DEF5731460990213B79CB1C.d.53EF1E358ABB257C1E8530E4EC91F958.e.2706\")>\n"
     ]
    }
   ],
   "source": [
    "# 책 제목\n",
    "title = driver.find_element(By.CSS_SELECTOR, '.bookListItem_title__1mWGq').text\n",
    "\n",
    "# 상세정보링크\n",
    "detail_link = driver.find_element(By.CSS_SELECTOR, '.bookListItem_item_inner__edK7P > a').get_attribute('href')\n",
    "\n",
    "# 저자\n",
    "author = driver.find_element(By.CSS_SELECTOR, '.bookListItem_detail__VW1kD .bookListItem_define_data__fu2A5').text\n",
    "\n",
    "# 출판사\n",
    "publisher = driver.find_element(By.CSS_SELECTOR, '.bookListItem_publish__6XykH .bookListItem_define_data__fu2A5').text \n",
    "\n",
    "# 출판일\n",
    "pub_date = driver.find_element(By.CSS_SELECTOR, '.bookListItem_detail_date__6_wYJ').text \n",
    "\n",
    "# 평점\n",
    "grade = float(driver.find_element(By.CSS_SELECTOR, 'div.bookListItem_grade__e60mi').text[2:5])\n",
    "\n",
    "#가격\n",
    "prices = int(driver.find_element(By.CSS_SELECTOR, '.bookPrice_price__Nv4Ee > em').text.replace(',',''))\n",
    "\n",
    "print(title, detail_link, author, publisher, pub_date, grade, price)\n"
   ]
  },
  {
   "cell_type": "code",
   "execution_count": null,
   "id": "f975438d",
   "metadata": {},
   "outputs": [],
   "source": [
    "# 페이지 시작부터 끝까지 스크롤하기\n",
    "for scroll in range(0,8001,1000):\n",
    "    driver.execute_script(f\"window.scrollTo({0},{scroll})\")"
   ]
  },
  {
   "cell_type": "markdown",
   "id": "d6088ce8",
   "metadata": {},
   "source": [
    "## 페이지 넘김 버튼 확인\n"
   ]
  },
  {
   "cell_type": "code",
   "execution_count": null,
   "id": "447a24a3",
   "metadata": {},
   "outputs": [],
   "source": [
    "# 페이지 넘김 버튼 찾기 .Paginator_list_paging__XbuO8\n",
    "paginator = driver.find_element(By.CSS_SELECTOR, \".Paginator_list_paging__XbuO8\")"
   ]
  },
  {
   "cell_type": "markdown",
   "id": "d3a999d2",
   "metadata": {},
   "source": [
    "# 코드 합쳐서 5페이지 정보 모두 수집"
   ]
  },
  {
   "cell_type": "code",
   "execution_count": 2,
   "id": "a30a0915",
   "metadata": {},
   "outputs": [
    {
     "ename": "KeyboardInterrupt",
     "evalue": "",
     "output_type": "error",
     "traceback": [
      "\u001b[1;31m---------------------------------------------------------------------------\u001b[0m",
      "\u001b[1;31mKeyboardInterrupt\u001b[0m                         Traceback (most recent call last)",
      "Cell \u001b[1;32mIn[2], line 19\u001b[0m\n\u001b[0;32m     15\u001b[0m options\u001b[38;5;241m.\u001b[39madd_argument(\u001b[38;5;124m\"\u001b[39m\u001b[38;5;124mChrome/135.0.0.0\u001b[39m\u001b[38;5;124m\"\u001b[39m)\n\u001b[0;32m     16\u001b[0m options\u001b[38;5;241m.\u001b[39madd_argument(\u001b[38;5;124m\"\u001b[39m\u001b[38;5;124mlang=ko_KR\u001b[39m\u001b[38;5;124m\"\u001b[39m)\n\u001b[0;32m     18\u001b[0m driver \u001b[38;5;241m=\u001b[39m webdriver\u001b[38;5;241m.\u001b[39mChrome(\n\u001b[1;32m---> 19\u001b[0m     service\u001b[38;5;241m=\u001b[39mService(\u001b[43mChromeDriverManager\u001b[49m\u001b[43m(\u001b[49m\u001b[43m)\u001b[49m\u001b[38;5;241;43m.\u001b[39;49m\u001b[43minstall\u001b[49m\u001b[43m(\u001b[49m\u001b[43m)\u001b[49m),\n\u001b[0;32m     20\u001b[0m     options\u001b[38;5;241m=\u001b[39moptions\n\u001b[0;32m     21\u001b[0m     )\n\u001b[0;32m     22\u001b[0m url \u001b[38;5;241m=\u001b[39m \u001b[38;5;124m\"\u001b[39m\u001b[38;5;124mhttps://search.shopping.naver.com/book/home\u001b[39m\u001b[38;5;124m\"\u001b[39m\n\u001b[0;32m     23\u001b[0m driver\u001b[38;5;241m.\u001b[39mget(url)\n",
      "File \u001b[1;32m~\\miniforge3\\envs\\fintech\\lib\\site-packages\\webdriver_manager\\chrome.py:40\u001b[0m, in \u001b[0;36mChromeDriverManager.install\u001b[1;34m(self)\u001b[0m\n\u001b[0;32m     39\u001b[0m \u001b[38;5;28;01mdef\u001b[39;00m\u001b[38;5;250m \u001b[39m\u001b[38;5;21minstall\u001b[39m(\u001b[38;5;28mself\u001b[39m) \u001b[38;5;241m-\u001b[39m\u001b[38;5;241m>\u001b[39m \u001b[38;5;28mstr\u001b[39m:\n\u001b[1;32m---> 40\u001b[0m     driver_path \u001b[38;5;241m=\u001b[39m \u001b[38;5;28;43mself\u001b[39;49m\u001b[38;5;241;43m.\u001b[39;49m\u001b[43m_get_driver_binary_path\u001b[49m\u001b[43m(\u001b[49m\u001b[38;5;28;43mself\u001b[39;49m\u001b[38;5;241;43m.\u001b[39;49m\u001b[43mdriver\u001b[49m\u001b[43m)\u001b[49m\n\u001b[0;32m     41\u001b[0m     os\u001b[38;5;241m.\u001b[39mchmod(driver_path, \u001b[38;5;241m0o755\u001b[39m)\n\u001b[0;32m     42\u001b[0m     \u001b[38;5;28;01mreturn\u001b[39;00m driver_path\n",
      "File \u001b[1;32m~\\miniforge3\\envs\\fintech\\lib\\site-packages\\webdriver_manager\\core\\manager.py:35\u001b[0m, in \u001b[0;36mDriverManager._get_driver_binary_path\u001b[1;34m(self, driver)\u001b[0m\n\u001b[0;32m     34\u001b[0m \u001b[38;5;28;01mdef\u001b[39;00m\u001b[38;5;250m \u001b[39m\u001b[38;5;21m_get_driver_binary_path\u001b[39m(\u001b[38;5;28mself\u001b[39m, driver):\n\u001b[1;32m---> 35\u001b[0m     binary_path \u001b[38;5;241m=\u001b[39m \u001b[38;5;28;43mself\u001b[39;49m\u001b[38;5;241;43m.\u001b[39;49m\u001b[43m_cache_manager\u001b[49m\u001b[38;5;241;43m.\u001b[39;49m\u001b[43mfind_driver\u001b[49m\u001b[43m(\u001b[49m\u001b[43mdriver\u001b[49m\u001b[43m)\u001b[49m\n\u001b[0;32m     36\u001b[0m     \u001b[38;5;28;01mif\u001b[39;00m binary_path:\n\u001b[0;32m     37\u001b[0m         \u001b[38;5;28;01mreturn\u001b[39;00m binary_path\n",
      "File \u001b[1;32m~\\miniforge3\\envs\\fintech\\lib\\site-packages\\webdriver_manager\\core\\driver_cache.py:103\u001b[0m, in \u001b[0;36mDriverCacheManager.find_driver\u001b[1;34m(self, driver)\u001b[0m\n\u001b[0;32m    101\u001b[0m driver_name \u001b[38;5;241m=\u001b[39m driver\u001b[38;5;241m.\u001b[39mget_name()\n\u001b[0;32m    102\u001b[0m browser_type \u001b[38;5;241m=\u001b[39m driver\u001b[38;5;241m.\u001b[39mget_browser_type()\n\u001b[1;32m--> 103\u001b[0m browser_version \u001b[38;5;241m=\u001b[39m \u001b[38;5;28;43mself\u001b[39;49m\u001b[38;5;241;43m.\u001b[39;49m\u001b[43m_os_system_manager\u001b[49m\u001b[38;5;241;43m.\u001b[39;49m\u001b[43mget_browser_version_from_os\u001b[49m\u001b[43m(\u001b[49m\u001b[43mbrowser_type\u001b[49m\u001b[43m)\u001b[49m\n\u001b[0;32m    104\u001b[0m \u001b[38;5;28;01mif\u001b[39;00m \u001b[38;5;129;01mnot\u001b[39;00m browser_version:\n\u001b[0;32m    105\u001b[0m     \u001b[38;5;28;01mreturn\u001b[39;00m \u001b[38;5;28;01mNone\u001b[39;00m\n",
      "File \u001b[1;32m~\\miniforge3\\envs\\fintech\\lib\\site-packages\\webdriver_manager\\core\\os_manager.py:159\u001b[0m, in \u001b[0;36mOperationSystemManager.get_browser_version_from_os\u001b[1;34m(self, browser_type)\u001b[0m\n\u001b[0;32m    157\u001b[0m     cmd_mapping \u001b[38;5;241m=\u001b[39m cmd_mapping[browser_type][OperationSystemManager\u001b[38;5;241m.\u001b[39mget_os_name()]\n\u001b[0;32m    158\u001b[0m     pattern \u001b[38;5;241m=\u001b[39m PATTERN[browser_type]\n\u001b[1;32m--> 159\u001b[0m     version \u001b[38;5;241m=\u001b[39m \u001b[43mread_version_from_cmd\u001b[49m\u001b[43m(\u001b[49m\u001b[43mcmd_mapping\u001b[49m\u001b[43m,\u001b[49m\u001b[43m \u001b[49m\u001b[43mpattern\u001b[49m\u001b[43m)\u001b[49m\n\u001b[0;32m    160\u001b[0m     \u001b[38;5;28;01mreturn\u001b[39;00m version\n\u001b[0;32m    161\u001b[0m \u001b[38;5;28;01mexcept\u001b[39;00m \u001b[38;5;167;01mException\u001b[39;00m:\n",
      "File \u001b[1;32m~\\miniforge3\\envs\\fintech\\lib\\site-packages\\webdriver_manager\\core\\utils.py:46\u001b[0m, in \u001b[0;36mread_version_from_cmd\u001b[1;34m(cmd, pattern)\u001b[0m\n\u001b[0;32m     38\u001b[0m \u001b[38;5;28;01mdef\u001b[39;00m\u001b[38;5;250m \u001b[39m\u001b[38;5;21mread_version_from_cmd\u001b[39m(cmd, pattern):\n\u001b[0;32m     39\u001b[0m     \u001b[38;5;28;01mwith\u001b[39;00m subprocess\u001b[38;5;241m.\u001b[39mPopen(\n\u001b[0;32m     40\u001b[0m             cmd,\n\u001b[0;32m     41\u001b[0m             stdout\u001b[38;5;241m=\u001b[39msubprocess\u001b[38;5;241m.\u001b[39mPIPE,\n\u001b[1;32m   (...)\u001b[0m\n\u001b[0;32m     44\u001b[0m             shell\u001b[38;5;241m=\u001b[39m\u001b[38;5;28;01mTrue\u001b[39;00m,\n\u001b[0;32m     45\u001b[0m     ) \u001b[38;5;28;01mas\u001b[39;00m stream:\n\u001b[1;32m---> 46\u001b[0m         stdout \u001b[38;5;241m=\u001b[39m \u001b[43mstream\u001b[49m\u001b[38;5;241;43m.\u001b[39;49m\u001b[43mcommunicate\u001b[49m\u001b[43m(\u001b[49m\u001b[43m)\u001b[49m[\u001b[38;5;241m0\u001b[39m]\u001b[38;5;241m.\u001b[39mdecode()\n\u001b[0;32m     47\u001b[0m         version \u001b[38;5;241m=\u001b[39m re\u001b[38;5;241m.\u001b[39msearch(pattern, stdout)\n\u001b[0;32m     48\u001b[0m         version \u001b[38;5;241m=\u001b[39m version\u001b[38;5;241m.\u001b[39mgroup(\u001b[38;5;241m0\u001b[39m) \u001b[38;5;28;01mif\u001b[39;00m version \u001b[38;5;28;01melse\u001b[39;00m \u001b[38;5;28;01mNone\u001b[39;00m\n",
      "File \u001b[1;32m~\\miniforge3\\envs\\fintech\\lib\\subprocess.py:1121\u001b[0m, in \u001b[0;36mPopen.communicate\u001b[1;34m(self, input, timeout)\u001b[0m\n\u001b[0;32m   1119\u001b[0m     \u001b[38;5;28mself\u001b[39m\u001b[38;5;241m.\u001b[39m_stdin_write(\u001b[38;5;28minput\u001b[39m)\n\u001b[0;32m   1120\u001b[0m \u001b[38;5;28;01melif\u001b[39;00m \u001b[38;5;28mself\u001b[39m\u001b[38;5;241m.\u001b[39mstdout:\n\u001b[1;32m-> 1121\u001b[0m     stdout \u001b[38;5;241m=\u001b[39m \u001b[38;5;28;43mself\u001b[39;49m\u001b[38;5;241;43m.\u001b[39;49m\u001b[43mstdout\u001b[49m\u001b[38;5;241;43m.\u001b[39;49m\u001b[43mread\u001b[49m\u001b[43m(\u001b[49m\u001b[43m)\u001b[49m\n\u001b[0;32m   1122\u001b[0m     \u001b[38;5;28mself\u001b[39m\u001b[38;5;241m.\u001b[39mstdout\u001b[38;5;241m.\u001b[39mclose()\n\u001b[0;32m   1123\u001b[0m \u001b[38;5;28;01melif\u001b[39;00m \u001b[38;5;28mself\u001b[39m\u001b[38;5;241m.\u001b[39mstderr:\n",
      "\u001b[1;31mKeyboardInterrupt\u001b[0m: "
     ]
    }
   ],
   "source": [
    "from selenium import webdriver\n",
    "from selenium.webdriver.chrome.service import Service\n",
    "from selenium.webdriver.chrome.options import Options\n",
    "from webdriver_manager.chrome import ChromeDriverManager\n",
    "from selenium.webdriver.common.by import By\n",
    "from selenium.webdriver.common.keys import Keys\n",
    "from selenium.webdriver.support.ui import WebDriverWait\n",
    "from selenium.webdriver.support import expected_conditions as EC\n",
    "import time\n",
    "import pandas as pd\n",
    "\n",
    "options = Options()\n",
    "options.add_experimental_option(\"detach\", True)\n",
    "options.add_argument(\"start-maximized\")\n",
    "options.add_argument(\"Chrome/135.0.0.0\")\n",
    "options.add_argument(\"lang=ko_KR\")\n",
    "\n",
    "driver = webdriver.Chrome(\n",
    "    service=Service(ChromeDriverManager().install()),\n",
    "    options=options\n",
    "    )\n",
    "url = \"https://search.shopping.naver.com/book/home\"\n",
    "driver.get(url)\n",
    "wait = WebDriverWait(driver, 10)\n",
    "search_text_box = wait.until(EC.presence_of_element_located((By.CSS_SELECTOR, \"._searchInput_search_text_83jy9._searchInput_placeholder_AG5yA._nlog_click\")))\n",
    "search_text_box.send_keys(f\"{keyword}\")\n",
    "search_text_box.send_keys(Keys.ENTER)\n",
    "\n",
    "for num in range(1, 6):\n",
    "    # 페이지 시작부터 끝까지 스크롤하기\n",
    "    for scroll in range(0, 8001, 1000):\n",
    "        driver.execute_script(f\"window.scrollTo({0}, {scroll})\")\n",
    "        time.sleep(2)\n",
    "\n",
    "    # 책 목록 전체 가져오기 find_elements\n",
    "    book_list = driver.find_elements(By.CSS_SELECTOR, \".bookListItem_item_book__RbpgP\")\n",
    "\n",
    "    # 반복문을 이용해 전체 40개 책 자료 추출하기\n",
    "    for book in book_list:\n",
    "        # 책 제목  bookListItem_title__1mWGq\n",
    "        title = book.find_element(By.CSS_SELECTOR, \".bookListItem_title__1mWGq\").text\n",
    "        #세부링크 bookListItem_item_inner__edK7P\n",
    "        detail_link = book.find_element(By.CSS_SELECTOR, \".bookListItem_item_inner__edK7P > a\").get_attribute(\"href\")\n",
    "        # 저자 .bookListItem_define_item__jqcW8.bookListItem_define_data__fu2A5\n",
    "        author = book.find_element(By.CSS_SELECTOR, \".bookListItem_define_item__jqcW8 > .bookListItem_define_data__fu2A5\").text\n",
    "        # 출판사 .bookListItem_define_item__jqcW8 bookListItem_publish__6XykH.bookListItem_define_data__fu2A5\n",
    "        publisher = book.find_element(By.CSS_SELECTOR, \".bookListItem_publish__6XykH .bookListItem_define_data__fu2A5\").text\n",
    "        try:\n",
    "            # 출간일 .bookListItem_detail_date__6_wYJ\n",
    "            pub_date = book.find_element(By.CSS_SELECTOR, \".bookListItem_detail_date__6_wYJ\").text\n",
    "        except Exception:\n",
    "            pub_date = \"Unknown\"\n",
    "        try:\n",
    "            # 평점 .bookListItem_grade__e60mi\n",
    "            grade = float(book.find_element(By.CSS_SELECTOR, \".bookListItem_grade__e60mi\").text[2:5])\n",
    "        except Exception:\n",
    "            grade = 0.0\n",
    "        try:    \n",
    "            # 가격 .bookPrice_price__Nv4Ee > em\n",
    "            price = int(book.find_element(By.CSS_SELECTOR, \".bookPrice_price__Nv4Ee > em\").text.replace(\",\", \"\"))\n",
    "        except Exception:\n",
    "            price = 0\n",
    "\n",
    "        temp = (title, detail_link, author, publisher, pub_date, grade, price)\n",
    "        columns = (\"title\", \"detail_link\", \"author\", \"publisher\", \"pub_date\", \"grade\", \"price\")\n",
    "        result = pd.DataFrame([temp], columns=columns)\n",
    "        # 데이터프레임을 CSV로 저장하되 내용 추가하면서 저장하기(mode = 'a' -> append 역할)\n",
    "        result.to_csv(\"./scraping_results/네이버책_selenium.csv\", mode=\"a\", header=False, index=False, encoding=\"utf-8-sig\")\n",
    "        \n",
    "    # 페이지 넘김 버튼 찾기 .Paginator_list_paging__XbuO8\n",
    "    paginator = driver.find_element(By.CSS_SELECTOR, \".Paginator_list_paging__XbuO8\")\n",
    "    paginator.find_element(By.LINK_TEXT, f\"{num+1}\").click()\n"
   ]
  },
  {
   "cell_type": "code",
   "execution_count": 1,
   "id": "81da2d72",
   "metadata": {},
   "outputs": [],
   "source": [
    "from  book_dbid import *"
   ]
  },
  {
   "cell_type": "code",
   "execution_count": 2,
   "id": "555edc41",
   "metadata": {},
   "outputs": [
    {
     "name": "stdout",
     "output_type": "stream",
     "text": [
      "검색할 책의 키워드를 입력해주세요: 파이썬\n"
     ]
    }
   ],
   "source": [
    "keyword = input('검색할 책의 키워드를 입력해주세요: ')"
   ]
  },
  {
   "cell_type": "code",
   "execution_count": 3,
   "id": "5b7861db",
   "metadata": {},
   "outputs": [
    {
     "name": "stdout",
     "output_type": "stream",
     "text": [
      "파이썬_book_info 테이블이 MySQL DB에 저장되었습니다.\n"
     ]
    }
   ],
   "source": [
    "keyword = input('검색할 책의 키워드를 입력해주세요: ')\n",
    "driver = book_page(keyword)\n",
    "all_results = pd.DataFrame()\n",
    "\n",
    "for num in range(1, 6):\n",
    "    scroll_page(driver)\n",
    "    result = book_info_collect(driver)\n",
    "    all_results = pd.concat([all_results, result], ignore_index=True)\n",
    "    \n",
    "    if num < 5:\n",
    "        pagenavigator(driver, num)\n",
    "\n",
    "save_csv(all_results)\n",
    "save_MySQL_table(keyword, all_results)\n",
    "driver.quit()\n",
    "\n"
   ]
  },
  {
   "cell_type": "code",
   "execution_count": 1,
   "id": "0d5540d4",
   "metadata": {},
   "outputs": [],
   "source": [
    "from book_dbio import to_book_db"
   ]
  },
  {
   "cell_type": "code",
   "execution_count": 1,
   "id": "92ea0a40",
   "metadata": {},
   "outputs": [
    {
     "name": "stdout",
     "output_type": "stream",
     "text": [
      "검색할 책을 입력해 주세요. 머신러닝\n",
      "1 / 5 페이지 작업중\n"
     ]
    },
    {
     "name": "stderr",
     "output_type": "stream",
     "text": [
      "C:\\fintech\\04_data_scraping\\book_dbio.py:86: UserWarning: The provided table name 'Machine learning_book_info' is not found exactly as such in the database after writing the table, possibly due to case sensitivity issues. Consider using lower case table names.\n",
      "  result.to_sql(f'{keyword}_book_info', con=conn, if_exists='append', index=False)\n"
     ]
    },
    {
     "name": "stdout",
     "output_type": "stream",
     "text": [
      "Machine learning_book_info 테이블이 MySQL DB에 저장되었습니다.\n",
      "Machine learning_book_info 테이블이 MySQL DB에 저장되었습니다.\n",
      "Machine learning_book_info 테이블이 MySQL DB에 저장되었습니다.\n",
      "Machine learning_book_info 테이블이 MySQL DB에 저장되었습니다.\n",
      "Machine learning_book_info 테이블이 MySQL DB에 저장되었습니다.\n",
      "Machine learning_book_info 테이블이 MySQL DB에 저장되었습니다.\n",
      "Machine learning_book_info 테이블이 MySQL DB에 저장되었습니다.\n",
      "Machine learning_book_info 테이블이 MySQL DB에 저장되었습니다.\n",
      "Machine learning_book_info 테이블이 MySQL DB에 저장되었습니다.\n",
      "Machine learning_book_info 테이블이 MySQL DB에 저장되었습니다.\n",
      "Machine learning_book_info 테이블이 MySQL DB에 저장되었습니다.\n",
      "Machine learning_book_info 테이블이 MySQL DB에 저장되었습니다.\n",
      "Machine learning_book_info 테이블이 MySQL DB에 저장되었습니다.\n",
      "Machine learning_book_info 테이블이 MySQL DB에 저장되었습니다.\n",
      "Machine learning_book_info 테이블이 MySQL DB에 저장되었습니다.\n",
      "Machine learning_book_info 테이블이 MySQL DB에 저장되었습니다.\n",
      "Machine learning_book_info 테이블이 MySQL DB에 저장되었습니다.\n",
      "Machine learning_book_info 테이블이 MySQL DB에 저장되었습니다.\n",
      "Machine learning_book_info 테이블이 MySQL DB에 저장되었습니다.\n",
      "Machine learning_book_info 테이블이 MySQL DB에 저장되었습니다.\n",
      "Machine learning_book_info 테이블이 MySQL DB에 저장되었습니다.\n",
      "Machine learning_book_info 테이블이 MySQL DB에 저장되었습니다.\n",
      "Machine learning_book_info 테이블이 MySQL DB에 저장되었습니다.\n",
      "Machine learning_book_info 테이블이 MySQL DB에 저장되었습니다.\n",
      "Machine learning_book_info 테이블이 MySQL DB에 저장되었습니다.\n",
      "Machine learning_book_info 테이블이 MySQL DB에 저장되었습니다.\n",
      "Machine learning_book_info 테이블이 MySQL DB에 저장되었습니다.\n",
      "Machine learning_book_info 테이블이 MySQL DB에 저장되었습니다.\n",
      "Machine learning_book_info 테이블이 MySQL DB에 저장되었습니다.\n",
      "Machine learning_book_info 테이블이 MySQL DB에 저장되었습니다.\n",
      "Machine learning_book_info 테이블이 MySQL DB에 저장되었습니다.\n",
      "Machine learning_book_info 테이블이 MySQL DB에 저장되었습니다.\n",
      "Machine learning_book_info 테이블이 MySQL DB에 저장되었습니다.\n",
      "Machine learning_book_info 테이블이 MySQL DB에 저장되었습니다.\n",
      "Machine learning_book_info 테이블이 MySQL DB에 저장되었습니다.\n",
      "Machine learning_book_info 테이블이 MySQL DB에 저장되었습니다.\n",
      "Machine learning_book_info 테이블이 MySQL DB에 저장되었습니다.\n",
      "Machine learning_book_info 테이블이 MySQL DB에 저장되었습니다.\n",
      "Machine learning_book_info 테이블이 MySQL DB에 저장되었습니다.\n",
      "Machine learning_book_info 테이블이 MySQL DB에 저장되었습니다.\n",
      "2 / 5 페이지 작업중\n",
      "Machine learning_book_info 테이블이 MySQL DB에 저장되었습니다.\n",
      "Machine learning_book_info 테이블이 MySQL DB에 저장되었습니다.\n",
      "Machine learning_book_info 테이블이 MySQL DB에 저장되었습니다.\n",
      "Machine learning_book_info 테이블이 MySQL DB에 저장되었습니다.\n",
      "Machine learning_book_info 테이블이 MySQL DB에 저장되었습니다.\n",
      "Machine learning_book_info 테이블이 MySQL DB에 저장되었습니다.\n",
      "Machine learning_book_info 테이블이 MySQL DB에 저장되었습니다.\n",
      "Machine learning_book_info 테이블이 MySQL DB에 저장되었습니다.\n",
      "Machine learning_book_info 테이블이 MySQL DB에 저장되었습니다.\n",
      "Machine learning_book_info 테이블이 MySQL DB에 저장되었습니다.\n",
      "Machine learning_book_info 테이블이 MySQL DB에 저장되었습니다.\n",
      "Machine learning_book_info 테이블이 MySQL DB에 저장되었습니다.\n",
      "Machine learning_book_info 테이블이 MySQL DB에 저장되었습니다.\n",
      "Machine learning_book_info 테이블이 MySQL DB에 저장되었습니다.\n",
      "Machine learning_book_info 테이블이 MySQL DB에 저장되었습니다.\n",
      "Machine learning_book_info 테이블이 MySQL DB에 저장되었습니다.\n",
      "Machine learning_book_info 테이블이 MySQL DB에 저장되었습니다.\n",
      "Machine learning_book_info 테이블이 MySQL DB에 저장되었습니다.\n",
      "Machine learning_book_info 테이블이 MySQL DB에 저장되었습니다.\n",
      "Machine learning_book_info 테이블이 MySQL DB에 저장되었습니다.\n",
      "Machine learning_book_info 테이블이 MySQL DB에 저장되었습니다.\n",
      "Machine learning_book_info 테이블이 MySQL DB에 저장되었습니다.\n",
      "Machine learning_book_info 테이블이 MySQL DB에 저장되었습니다.\n",
      "Machine learning_book_info 테이블이 MySQL DB에 저장되었습니다.\n",
      "Machine learning_book_info 테이블이 MySQL DB에 저장되었습니다.\n",
      "Machine learning_book_info 테이블이 MySQL DB에 저장되었습니다.\n",
      "Machine learning_book_info 테이블이 MySQL DB에 저장되었습니다.\n",
      "Machine learning_book_info 테이블이 MySQL DB에 저장되었습니다.\n",
      "Machine learning_book_info 테이블이 MySQL DB에 저장되었습니다.\n",
      "Machine learning_book_info 테이블이 MySQL DB에 저장되었습니다.\n",
      "Machine learning_book_info 테이블이 MySQL DB에 저장되었습니다.\n",
      "Machine learning_book_info 테이블이 MySQL DB에 저장되었습니다.\n",
      "Machine learning_book_info 테이블이 MySQL DB에 저장되었습니다.\n",
      "Machine learning_book_info 테이블이 MySQL DB에 저장되었습니다.\n",
      "Machine learning_book_info 테이블이 MySQL DB에 저장되었습니다.\n",
      "Machine learning_book_info 테이블이 MySQL DB에 저장되었습니다.\n",
      "Machine learning_book_info 테이블이 MySQL DB에 저장되었습니다.\n",
      "Machine learning_book_info 테이블이 MySQL DB에 저장되었습니다.\n",
      "Machine learning_book_info 테이블이 MySQL DB에 저장되었습니다.\n",
      "Machine learning_book_info 테이블이 MySQL DB에 저장되었습니다.\n",
      "3 / 5 페이지 작업중\n",
      "Machine learning_book_info 테이블이 MySQL DB에 저장되었습니다.\n",
      "Machine learning_book_info 테이블이 MySQL DB에 저장되었습니다.\n",
      "Machine learning_book_info 테이블이 MySQL DB에 저장되었습니다.\n",
      "Machine learning_book_info 테이블이 MySQL DB에 저장되었습니다.\n",
      "Machine learning_book_info 테이블이 MySQL DB에 저장되었습니다.\n",
      "Machine learning_book_info 테이블이 MySQL DB에 저장되었습니다.\n",
      "Machine learning_book_info 테이블이 MySQL DB에 저장되었습니다.\n",
      "Machine learning_book_info 테이블이 MySQL DB에 저장되었습니다.\n",
      "Machine learning_book_info 테이블이 MySQL DB에 저장되었습니다.\n",
      "Machine learning_book_info 테이블이 MySQL DB에 저장되었습니다.\n",
      "Machine learning_book_info 테이블이 MySQL DB에 저장되었습니다.\n",
      "Machine learning_book_info 테이블이 MySQL DB에 저장되었습니다.\n",
      "Machine learning_book_info 테이블이 MySQL DB에 저장되었습니다.\n",
      "Machine learning_book_info 테이블이 MySQL DB에 저장되었습니다.\n",
      "Machine learning_book_info 테이블이 MySQL DB에 저장되었습니다.\n",
      "Machine learning_book_info 테이블이 MySQL DB에 저장되었습니다.\n",
      "Machine learning_book_info 테이블이 MySQL DB에 저장되었습니다.\n",
      "Machine learning_book_info 테이블이 MySQL DB에 저장되었습니다.\n",
      "Machine learning_book_info 테이블이 MySQL DB에 저장되었습니다.\n",
      "Machine learning_book_info 테이블이 MySQL DB에 저장되었습니다.\n",
      "Machine learning_book_info 테이블이 MySQL DB에 저장되었습니다.\n",
      "Machine learning_book_info 테이블이 MySQL DB에 저장되었습니다.\n",
      "Machine learning_book_info 테이블이 MySQL DB에 저장되었습니다.\n",
      "Machine learning_book_info 테이블이 MySQL DB에 저장되었습니다.\n",
      "Machine learning_book_info 테이블이 MySQL DB에 저장되었습니다.\n",
      "Machine learning_book_info 테이블이 MySQL DB에 저장되었습니다.\n",
      "Machine learning_book_info 테이블이 MySQL DB에 저장되었습니다.\n",
      "Machine learning_book_info 테이블이 MySQL DB에 저장되었습니다.\n",
      "Machine learning_book_info 테이블이 MySQL DB에 저장되었습니다.\n",
      "Machine learning_book_info 테이블이 MySQL DB에 저장되었습니다.\n",
      "Machine learning_book_info 테이블이 MySQL DB에 저장되었습니다.\n",
      "Machine learning_book_info 테이블이 MySQL DB에 저장되었습니다.\n",
      "Machine learning_book_info 테이블이 MySQL DB에 저장되었습니다.\n",
      "Machine learning_book_info 테이블이 MySQL DB에 저장되었습니다.\n",
      "Machine learning_book_info 테이블이 MySQL DB에 저장되었습니다.\n",
      "Machine learning_book_info 테이블이 MySQL DB에 저장되었습니다.\n",
      "Machine learning_book_info 테이블이 MySQL DB에 저장되었습니다.\n",
      "Machine learning_book_info 테이블이 MySQL DB에 저장되었습니다.\n",
      "Machine learning_book_info 테이블이 MySQL DB에 저장되었습니다.\n",
      "Machine learning_book_info 테이블이 MySQL DB에 저장되었습니다.\n",
      "4 / 5 페이지 작업중\n",
      "Machine learning_book_info 테이블이 MySQL DB에 저장되었습니다.\n",
      "Machine learning_book_info 테이블이 MySQL DB에 저장되었습니다.\n",
      "Machine learning_book_info 테이블이 MySQL DB에 저장되었습니다.\n",
      "Machine learning_book_info 테이블이 MySQL DB에 저장되었습니다.\n",
      "Machine learning_book_info 테이블이 MySQL DB에 저장되었습니다.\n",
      "Machine learning_book_info 테이블이 MySQL DB에 저장되었습니다.\n",
      "Machine learning_book_info 테이블이 MySQL DB에 저장되었습니다.\n",
      "Machine learning_book_info 테이블이 MySQL DB에 저장되었습니다.\n",
      "Machine learning_book_info 테이블이 MySQL DB에 저장되었습니다.\n",
      "Machine learning_book_info 테이블이 MySQL DB에 저장되었습니다.\n",
      "Machine learning_book_info 테이블이 MySQL DB에 저장되었습니다.\n",
      "Machine learning_book_info 테이블이 MySQL DB에 저장되었습니다.\n",
      "Machine learning_book_info 테이블이 MySQL DB에 저장되었습니다.\n",
      "Machine learning_book_info 테이블이 MySQL DB에 저장되었습니다.\n",
      "Machine learning_book_info 테이블이 MySQL DB에 저장되었습니다.\n",
      "Machine learning_book_info 테이블이 MySQL DB에 저장되었습니다.\n",
      "Machine learning_book_info 테이블이 MySQL DB에 저장되었습니다.\n",
      "Machine learning_book_info 테이블이 MySQL DB에 저장되었습니다.\n",
      "Machine learning_book_info 테이블이 MySQL DB에 저장되었습니다.\n",
      "Machine learning_book_info 테이블이 MySQL DB에 저장되었습니다.\n",
      "Machine learning_book_info 테이블이 MySQL DB에 저장되었습니다.\n",
      "Machine learning_book_info 테이블이 MySQL DB에 저장되었습니다.\n",
      "Machine learning_book_info 테이블이 MySQL DB에 저장되었습니다.\n",
      "Machine learning_book_info 테이블이 MySQL DB에 저장되었습니다.\n",
      "Machine learning_book_info 테이블이 MySQL DB에 저장되었습니다.\n",
      "Machine learning_book_info 테이블이 MySQL DB에 저장되었습니다.\n",
      "Machine learning_book_info 테이블이 MySQL DB에 저장되었습니다.\n",
      "Machine learning_book_info 테이블이 MySQL DB에 저장되었습니다.\n",
      "Machine learning_book_info 테이블이 MySQL DB에 저장되었습니다.\n",
      "Machine learning_book_info 테이블이 MySQL DB에 저장되었습니다.\n",
      "Machine learning_book_info 테이블이 MySQL DB에 저장되었습니다.\n",
      "Machine learning_book_info 테이블이 MySQL DB에 저장되었습니다.\n",
      "Machine learning_book_info 테이블이 MySQL DB에 저장되었습니다.\n",
      "Machine learning_book_info 테이블이 MySQL DB에 저장되었습니다.\n",
      "Machine learning_book_info 테이블이 MySQL DB에 저장되었습니다.\n",
      "Machine learning_book_info 테이블이 MySQL DB에 저장되었습니다.\n",
      "Machine learning_book_info 테이블이 MySQL DB에 저장되었습니다.\n",
      "Machine learning_book_info 테이블이 MySQL DB에 저장되었습니다.\n",
      "Machine learning_book_info 테이블이 MySQL DB에 저장되었습니다.\n",
      "Machine learning_book_info 테이블이 MySQL DB에 저장되었습니다.\n"
     ]
    },
    {
     "name": "stdout",
     "output_type": "stream",
     "text": [
      "5 / 5 페이지 작업중\n",
      "Machine learning_book_info 테이블이 MySQL DB에 저장되었습니다.\n",
      "Machine learning_book_info 테이블이 MySQL DB에 저장되었습니다.\n",
      "Machine learning_book_info 테이블이 MySQL DB에 저장되었습니다.\n",
      "Machine learning_book_info 테이블이 MySQL DB에 저장되었습니다.\n",
      "Machine learning_book_info 테이블이 MySQL DB에 저장되었습니다.\n",
      "Machine learning_book_info 테이블이 MySQL DB에 저장되었습니다.\n",
      "Machine learning_book_info 테이블이 MySQL DB에 저장되었습니다.\n",
      "Machine learning_book_info 테이블이 MySQL DB에 저장되었습니다.\n",
      "Machine learning_book_info 테이블이 MySQL DB에 저장되었습니다.\n",
      "Machine learning_book_info 테이블이 MySQL DB에 저장되었습니다.\n",
      "Machine learning_book_info 테이블이 MySQL DB에 저장되었습니다.\n",
      "Machine learning_book_info 테이블이 MySQL DB에 저장되었습니다.\n",
      "Machine learning_book_info 테이블이 MySQL DB에 저장되었습니다.\n",
      "Machine learning_book_info 테이블이 MySQL DB에 저장되었습니다.\n",
      "Machine learning_book_info 테이블이 MySQL DB에 저장되었습니다.\n",
      "Machine learning_book_info 테이블이 MySQL DB에 저장되었습니다.\n",
      "Machine learning_book_info 테이블이 MySQL DB에 저장되었습니다.\n",
      "Machine learning_book_info 테이블이 MySQL DB에 저장되었습니다.\n",
      "Machine learning_book_info 테이블이 MySQL DB에 저장되었습니다.\n",
      "Machine learning_book_info 테이블이 MySQL DB에 저장되었습니다.\n",
      "Machine learning_book_info 테이블이 MySQL DB에 저장되었습니다.\n",
      "Machine learning_book_info 테이블이 MySQL DB에 저장되었습니다.\n",
      "Machine learning_book_info 테이블이 MySQL DB에 저장되었습니다.\n",
      "Machine learning_book_info 테이블이 MySQL DB에 저장되었습니다.\n",
      "Machine learning_book_info 테이블이 MySQL DB에 저장되었습니다.\n",
      "Machine learning_book_info 테이블이 MySQL DB에 저장되었습니다.\n",
      "Machine learning_book_info 테이블이 MySQL DB에 저장되었습니다.\n",
      "Machine learning_book_info 테이블이 MySQL DB에 저장되었습니다.\n",
      "Machine learning_book_info 테이블이 MySQL DB에 저장되었습니다.\n",
      "Machine learning_book_info 테이블이 MySQL DB에 저장되었습니다.\n",
      "Machine learning_book_info 테이블이 MySQL DB에 저장되었습니다.\n",
      "Machine learning_book_info 테이블이 MySQL DB에 저장되었습니다.\n",
      "Machine learning_book_info 테이블이 MySQL DB에 저장되었습니다.\n",
      "Machine learning_book_info 테이블이 MySQL DB에 저장되었습니다.\n",
      "Machine learning_book_info 테이블이 MySQL DB에 저장되었습니다.\n",
      "Machine learning_book_info 테이블이 MySQL DB에 저장되었습니다.\n",
      "Machine learning_book_info 테이블이 MySQL DB에 저장되었습니다.\n",
      "Machine learning_book_info 테이블이 MySQL DB에 저장되었습니다.\n",
      "Machine learning_book_info 테이블이 MySQL DB에 저장되었습니다.\n",
      "Machine learning_book_info 테이블이 MySQL DB에 저장되었습니다.\n",
      "40/40 DB 저장완료\r"
     ]
    }
   ],
   "source": [
    "from selenium import webdriver\n",
    "from selenium.webdriver.chrome.service import Service\n",
    "from selenium.webdriver.chrome.options import Options\n",
    "from webdriver_manager.chrome import ChromeDriverManager\n",
    "from selenium.webdriver.common.by import By\n",
    "from selenium.webdriver.common.keys import Keys\n",
    "from selenium.webdriver.support.ui import WebDriverWait\n",
    "from selenium.webdriver.support import expected_conditions as EC\n",
    "import time\n",
    "import pandas as pd\n",
    "from book_dbio import to_book_db\n",
    "from translate import kor2eng\n",
    "\n",
    "\n",
    "keyword = input(\"검색할 책을 입력해 주세요. \")\n",
    "keyword = kor2eng(keyword)\n",
    "\n",
    "options = Options()\n",
    "options.add_experimental_option(\"detach\", True)\n",
    "options.add_argument(\"start-maximized\")\n",
    "options.add_argument(\"Chrome/135.0.0.0\")\n",
    "options.add_argument(\"lang=ko_KR\")\n",
    "\n",
    "driver = webdriver.Chrome(\n",
    "    service=Service(ChromeDriverManager().install()),\n",
    "    options=options\n",
    "    )\n",
    "\n",
    "\n",
    "url = \"https://search.shopping.naver.com/book/home\"\n",
    "driver.get(url)\n",
    "wait = WebDriverWait(driver, 10)\n",
    "search_text_box = wait.until(EC.presence_of_element_located((By.CSS_SELECTOR, \"._searchInput_search_text_83jy9._searchInput_placeholder_AG5yA._nlog_click\")))\n",
    "search_text_box.send_keys(keyword)\n",
    "search_text_box.send_keys(Keys.ENTER)\n",
    "\n",
    "for num in range(1, 6):\n",
    "    print(f\"{num} / {len(range(1,6))} 페이지 작업중\", end=\"\\n\")\n",
    "    \n",
    "    # 페이지 시작부터 끝까지 스크롤하기\n",
    "    for scroll in range(0, 8001, 1000):\n",
    "        driver.execute_script(f\"window.scrollTo({0}, {scroll})\")\n",
    "        time.sleep(1)\n",
    "        \n",
    "    # 책 목록 전체 가져오기 find_elements\n",
    "    book_list = driver.find_elements(By.CSS_SELECTOR, \".bookListItem_item_book__RbpgP\")\n",
    "\n",
    "    # 반복문을 이용해 전체 40개 책 자료 추출하기\n",
    "    for idx, book in enumerate(book_list):\n",
    "        try:\n",
    "           # 책 제목  bookListItem_title__1mWGq\n",
    "            title = book.find_element(By.CSS_SELECTOR, \".bookListItem_title__1mWGq\").text\n",
    "        except Exception:\n",
    "            title = \"Unknown\"\n",
    "        try:\n",
    "           #세부링크 bookListItem_item_inner__edK7P\n",
    "            detail_link = book.find_element(By.CSS_SELECTOR, \".bookListItem_item_inner__edK7P > a\").get_attribute(\"href\")\n",
    "        except Exception:\n",
    "            detail_link = \"Unknown\"\n",
    "        try:\n",
    "            # 저자 .bookListItem_define_item__jqcW8.bookListItem_define_data__fu2A5\n",
    "            author = book.find_element(By.CSS_SELECTOR, \".bookListItem_define_item__jqcW8 > .bookListItem_define_data__fu2A5\").text\n",
    "        except Exception:\n",
    "            author = \"Unknown\"\n",
    "        try:\n",
    "           # 출판사 .bookListItem_define_item__jqcW8 bookListItem_publish__6XykH.bookListItem_define_data__fu2A5\n",
    "            publisher = book.find_element(By.CSS_SELECTOR, \".bookListItem_publish__6XykH .bookListItem_define_data__fu2A5\").text\n",
    "        except Exception:\n",
    "            publisher = \"Unknown\"\n",
    "        try:\n",
    "            # 출간일 .bookListItem_detail_date__6_wYJ\n",
    "            pub_date = book.find_element(By.CSS_SELECTOR, \".bookListItem_detail_date__6_wYJ\").text\n",
    "        except Exception:\n",
    "            pub_date = \"Unknown\"\n",
    "        try:\n",
    "            # 평점 .bookListItem_grade__e60mi\n",
    "            grade = float(book.find_element(By.CSS_SELECTOR, \".bookListItem_grade__e60mi\").text[2:5])\n",
    "        except Exception:\n",
    "            grade = 0.0\n",
    "        try:    \n",
    "            # 가격 .bookPrice_price__Nv4Ee > em\n",
    "            price = int(book.find_element(By.CSS_SELECTOR, \".bookPrice_price__Nv4Ee > em\").text.replace(\",\", \"\"))\n",
    "        except Exception:\n",
    "            price = 0\n",
    "\n",
    "        temp = (title, detail_link, author, publisher, pub_date, grade, price)\n",
    "        columns = (\"title\", \"detail_link\", \"author\", \"publisher\", \"pub_date\", \"grade\", \"price\")\n",
    "        result = pd.DataFrame([temp], columns=columns)\n",
    "        \n",
    "        # 데이터프레임을 CSV로 저장하되 내용 추가하면서 저장하기\n",
    "        to_book_db(keyword, result)\n",
    "        \n",
    "#         result.to_csv(\"./scraping_results/네이버책_selenium.csv\", mode=\"a\", header=False, index=False, encoding=\"utf-8-sig\")\n",
    "        print(f\"{idx+1}/{len(book_list)} DB 저장완료\", end=\"\\r\")\n",
    "    \n",
    "    # 페이지 넘김 버튼 찾기 .Paginator_list_paging__XbuO8\n",
    "    paginator = driver.find_element(By.CSS_SELECTOR, \".Paginator_list_paging__XbuO8\")\n",
    "    paginator.find_element(By.LINK_TEXT, f\"{num+1}\").click()\n",
    "    "
   ]
  },
  {
   "cell_type": "code",
   "execution_count": null,
   "id": "68804d2f",
   "metadata": {},
   "outputs": [],
   "source": []
  },
  {
   "cell_type": "code",
   "execution_count": null,
   "id": "07444e56",
   "metadata": {},
   "outputs": [],
   "source": []
  },
  {
   "cell_type": "code",
   "execution_count": null,
   "id": "1c92f717",
   "metadata": {},
   "outputs": [],
   "source": []
  },
  {
   "cell_type": "code",
   "execution_count": null,
   "id": "42d8c09a",
   "metadata": {},
   "outputs": [],
   "source": []
  },
  {
   "cell_type": "code",
   "execution_count": null,
   "id": "a6669646",
   "metadata": {},
   "outputs": [],
   "source": []
  }
 ],
 "metadata": {
  "kernelspec": {
   "display_name": "Python 3 (ipykernel)",
   "language": "python",
   "name": "python3"
  },
  "language_info": {
   "codemirror_mode": {
    "name": "ipython",
    "version": 3
   },
   "file_extension": ".py",
   "mimetype": "text/x-python",
   "name": "python",
   "nbconvert_exporter": "python",
   "pygments_lexer": "ipython3",
   "version": "3.9.21"
  }
 },
 "nbformat": 4,
 "nbformat_minor": 5
}
