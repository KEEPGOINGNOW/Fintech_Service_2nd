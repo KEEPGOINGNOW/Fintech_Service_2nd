{
 "cells": [
  {
   "cell_type": "markdown",
   "id": "28b83e73",
   "metadata": {},
   "source": [
    "# Selenium 패키지\n",
    "- 웹브라이저를 자동을 제어하는 라이브러리\n",
    "- 원래 다양한 웹브라우저를 자동으로 테스트하는 도구\n",
    "- 코드를 통해 웹브라우저 조작 가능\n",
    "- 동적 웹사이트에서 정보를 가져오는데 활용"
   ]
  },
  {
   "cell_type": "code",
   "execution_count": 1,
   "id": "228cfe4d",
   "metadata": {},
   "outputs": [],
   "source": [
    "# !pip install selenium\n",
    "# !pip install webdriver_manager"
   ]
  },
  {
   "cell_type": "code",
   "execution_count": 2,
   "id": "e0f9c12a",
   "metadata": {},
   "outputs": [],
   "source": [
    "from selenium import webdriver\n",
    "from selenium.webdriver.common.by import By"
   ]
  },
  {
   "cell_type": "code",
   "execution_count": 3,
   "id": "9063e75c",
   "metadata": {},
   "outputs": [
    {
     "name": "stdout",
     "output_type": "stream",
     "text": [
      "4.31.0\n"
     ]
    }
   ],
   "source": [
    "import selenium\n",
    "print(selenium.__version__)"
   ]
  },
  {
   "cell_type": "code",
   "execution_count": 21,
   "id": "b6131ec9",
   "metadata": {},
   "outputs": [],
   "source": [
    "from selenium import webdriver\n",
    "from selenium.webdriver.chrome.service import Service\n",
    "from selenium.webdriver.chrome.options import Options\n",
    "from webdriver_manager.chrome import ChromeDriverManager\n",
    "from selenium.webdriver.common.by import By\n",
    "from selenium.webdriver.common.keys import Keys\n",
    "\n",
    "options = Options()\n",
    "options.add_experimental_option(\"detach\", True)\n",
    "options.add_argument('start_maximized')\n",
    "# options.add_argument('Mozilla/5.0 (Windows NT 10.0; Win64; x64) AppleWebKit/537.36 (KHTML, like Gecko) Chrome/134.0.0.0 Safari/537.36')\n",
    "options.add_argument('lang=ko_KR')\n",
    "\n",
    "driver = webdriver.Chrome(\n",
    "    service=Service(ChromeDriverManager().install()),\n",
    "    options=options\n",
    "    )\n",
    "driver.get(\"https://search.shopping.naver.com/book/search?bookTabType=ALL&pageIndex=1&pageSize=40&prevQuery=%EB%84%A4%EC%9D%B4%EB%B2%84%20%EC%B1%85&query=%ED%8C%8C%EC%9D%B4%EC%8D%AC&sort=REL\")"
   ]
  },
  {
   "cell_type": "markdown",
   "id": "33f4d259",
   "metadata": {},
   "source": [
    "# Selenium에서 원하는 요소 찾기\n",
    "- driver.find_element(By.CSS_SELECTOR, css셀렉터) : 1개의 요소 찾음\n",
    "- driver.find_elements(By.CSS_SELECTOR, css셀렉터) : 여러개의 요소 찾음, list 반환\n",
    "- driver.find_element(By.ID, 'id') : html에서 id 속성 찾음\n",
    "- driver.find_element(By.LINK_TEXT, 'link 포함된 문자') : link에 포함된 문자 찾음\n",
    "- driver.find_element(By.PARTIAL_LINK_TEXT, 'link 포함된 문자') : link에 포함된 문자 찾음"
   ]
  },
  {
   "cell_type": "code",
   "execution_count": 22,
   "id": "51be406b",
   "metadata": {},
   "outputs": [
    {
     "data": {
      "text/plain": [
       "'혼자 만들면서 공부하는 파이썬 (37개 라이브러리와 API로 보고서, 차트, 게임, 맵, AI 챗봇 만들기|저자 직강 유튜브 강의, 오픈 채팅 제공)'"
      ]
     },
     "execution_count": 22,
     "metadata": {},
     "output_type": "execute_result"
    }
   ],
   "source": [
    "driver.find_element(By.CSS_SELECTOR, 'div.bookListItem_title__1mWGq').text"
   ]
  },
  {
   "cell_type": "code",
   "execution_count": 79,
   "id": "15485c87",
   "metadata": {},
   "outputs": [
    {
     "data": {
      "text/plain": [
       "'평점4.4 (5)'"
      ]
     },
     "execution_count": 79,
     "metadata": {},
     "output_type": "execute_result"
    }
   ],
   "source": [
    "driver.find_element(By.CSS_SELECTOR, '.bookListItem_grade__e60mi').text"
   ]
  },
  {
   "cell_type": "code",
   "execution_count": 77,
   "id": "5bbe9462",
   "metadata": {},
   "outputs": [],
   "source": [
    "driver.execute_script(f'window.scrollTo(0,1000)')"
   ]
  },
  {
   "cell_type": "code",
   "execution_count": 78,
   "id": "560ad218",
   "metadata": {},
   "outputs": [],
   "source": [
    "import time\n",
    "\n",
    "y = 0\n",
    "y_step = 1000\n",
    "for scroll_times in range(1,8):\n",
    "    y = y + y_step\n",
    "    driver.execute_script(f\"window.scrollTo({0},{y})\")\n",
    "    time.sleep(2)"
   ]
  },
  {
   "cell_type": "code",
   "execution_count": null,
   "id": "80e33305",
   "metadata": {},
   "outputs": [],
   "source": [
    "html_source = driver.page_source\n",
    "# html_source (html)"
   ]
  },
  {
   "cell_type": "code",
   "execution_count": null,
   "id": "6c079355",
   "metadata": {},
   "outputs": [],
   "source": [
    "from bs4 import BeautifulSoup as bs\n",
    "soup = bs(html_source, 'lxml')\n",
    "# soup.select('div.bookListItem_title__1mWGq')"
   ]
  },
  {
   "cell_type": "code",
   "execution_count": null,
   "id": "5c9fafad",
   "metadata": {},
   "outputs": [],
   "source": [
    "# driver.find_element(By.ID, 'book_list').text"
   ]
  },
  {
   "cell_type": "code",
   "execution_count": null,
   "id": "1806e2e9",
   "metadata": {},
   "outputs": [],
   "source": [
    "# driver.find_element(By.PARTIAL_LINK_TEXT, '파이썬').get_attribute('innerHTML')"
   ]
  },
  {
   "cell_type": "code",
   "execution_count": null,
   "id": "77ae700d",
   "metadata": {},
   "outputs": [],
   "source": []
  },
  {
   "cell_type": "markdown",
   "id": "e53caa5a",
   "metadata": {},
   "source": [
    "# 찾은 요소에서 요소의 속성값 출력\n",
    "- driver.find_element(By.CSS_SELECTOR, 'css셀렉터').get_attribute('속성명')"
   ]
  },
  {
   "cell_type": "code",
   "execution_count": 51,
   "id": "a06772ad",
   "metadata": {},
   "outputs": [],
   "source": [
    "seller_link = \"#book_list > ul > li:nth-child(1) > div > div > div:nth-child(1) > a\""
   ]
  },
  {
   "cell_type": "code",
   "execution_count": 60,
   "id": "8ca60ae0",
   "metadata": {},
   "outputs": [],
   "source": [
    "# driver.find_element(By.CSS_SELECTOR, seller_link).get_attribute('outerHTML')"
   ]
  },
  {
   "cell_type": "code",
   "execution_count": 59,
   "id": "cb3afe6f",
   "metadata": {},
   "outputs": [],
   "source": [
    "# div.info_area > a\n",
    "# for el in driver.find_elements(By.CSS_SELECTOR, 'div.bookListItem_title__1mWGq'):\n",
    "# #     print(el)\n",
    "#     print(el.get_attribute('outerHTML')\n",
    "    "
   ]
  },
  {
   "cell_type": "markdown",
   "id": "b049347a",
   "metadata": {},
   "source": [
    "# 검색창을 찾아 검색어 입력하여 서치 버튼 클릭\n",
    "- 키보드 입력하기\n",
    "    - driver.send_keys('키보드 입력할 키워드')\n",
    "    - driver.send_keys(Keys.ENTER)\n",
    "- 마우스 클릭하기\n",
    "    - driver.clink()\n",
    "    "
   ]
  },
  {
   "cell_type": "code",
   "execution_count": 66,
   "id": "b72a10c4",
   "metadata": {},
   "outputs": [
    {
     "data": {
      "text/plain": [
       "'<input class=\"_searchInput_search_text_83jy9 _nlog_click\" title=\"검색어 입력\" placeholder=\"상품명 또는 브랜드 입력\" maxlength=\"50\" data-shp-page-key=\"100388780\" data-shp-nsc=\"shopping.book\" data-shp-inventory=\"GNB\" data-shp-area=\"GNB.input\" data-shp-area-type=\"action\" data-shp-area-id=\"input\" type=\"text\" value=\"파이썬\">'"
      ]
     },
     "execution_count": 66,
     "metadata": {},
     "output_type": "execute_result"
    }
   ],
   "source": [
    "driver.find_element(By.CSS_SELECTOR, \"._searchInput_search_text_83jy9._nlog_click\").get_attribute('outerHTML')"
   ]
  },
  {
   "cell_type": "code",
   "execution_count": 75,
   "id": "144d8a06",
   "metadata": {},
   "outputs": [],
   "source": [
    "search_box = driver.find_element(By.CSS_SELECTOR, \"._searchInput_search_text_83jy9._nlog_click\")\n",
    "search_box.clear()\n",
    "search_box.send_keys('핀테크')\n",
    "# search_box.send_keys(Keys.ENTER)\n",
    "\n",
    "# 클릭 수행\n",
    "search_button = driver.find_element(By.CSS_SELECTOR, \"._searchInput_button_search_wu9xq._nlog_click\")\n",
    "search_button.click()\n"
   ]
  },
  {
   "cell_type": "code",
   "execution_count": null,
   "id": "140c133b",
   "metadata": {},
   "outputs": [],
   "source": []
  },
  {
   "cell_type": "markdown",
   "id": "17ca095e",
   "metadata": {},
   "source": [
    "# 네이버 도서 책 데이터 수집\n",
    "- 네이버 홈에서 파이썬 검색하기\n",
    "- 파이썬 검색하고 들어간 페이지에서 전체 페이지 데이터 수집 진행(페이지 5장까지 진행)\n",
    "-----\n",
    "### 5페이지 수집 및 마우스 스크롤 필수\n",
    "- 책제목\n",
    "- 상세정보링크\n",
    "- 저자\n",
    "- 출판사\n",
    "- 출간일\n",
    "- 평점\n",
    "- 가격"
   ]
  },
  {
   "cell_type": "code",
   "execution_count": 103,
   "id": "6a22e9ec",
   "metadata": {},
   "outputs": [],
   "source": [
    "options = Options()\n",
    "options.add_experimental_option(\"detach\", True)\n",
    "options.add_argument('start_maximized')\n",
    "# options.add_argument('Mozilla/5.0 (Windows NT 10.0; Win64; x64) AppleWebKit/537.36 (KHTML, like Gecko) Chrome/134.0.0.0 Safari/537.36')\n",
    "options.add_argument('lang=ko_KR')\n",
    "\n",
    "driver = webdriver.Chrome(\n",
    "    service=Service(ChromeDriverManager().install()),\n",
    "    options=options\n",
    "    )\n",
    "url = \"https://search.shopping.naver.com/book/home\"\n",
    "driver.get(url)"
   ]
  },
  {
   "cell_type": "code",
   "execution_count": 104,
   "id": "bc37bab2",
   "metadata": {},
   "outputs": [
    {
     "data": {
      "text/plain": [
       "'<input type=\"text\" class=\"_searchInput_search_text_83jy9 _searchInput_placeholder_AG5yA _nlog_click\" title=\"검색어 입력\" placeholder=\"상품명 또는 브랜드 입력\" maxlength=\"50\" data-shp-page-key=\"100388778\" data-shp-nsc=\"shopping.book\" data-shp-inventory=\"GNB\" data-shp-area=\"GNB.input\" data-shp-area-type=\"action\" data-shp-area-id=\"input\" value=\"\">'"
      ]
     },
     "execution_count": 104,
     "metadata": {},
     "output_type": "execute_result"
    }
   ],
   "source": [
    "driver.find_element(By.CSS_SELECTOR,\"._searchInput_placeholder_AG5yA._nlog_click\").get_attribute('outerHTML')"
   ]
  },
  {
   "cell_type": "code",
   "execution_count": 105,
   "id": "e9c03945",
   "metadata": {},
   "outputs": [],
   "source": [
    "#gnb-gnb > div._gnb_header_area_nfFfz > div > div._gnbContent_gnb_content_JUwjU > div._gnbSearch_gnb_search_ULxKx._gnbSearch_type_price_comparison_YQqay > form > div > div > div > div > input\n",
    "home_search = driver.find_element(By.CSS_SELECTOR,\"._searchInput_placeholder_AG5yA._nlog_click\")\n",
    "home_search.clear()\n",
    "home_search.send_keys('파이썬')\n",
    "home_search.send_keys(Keys.ENTER)"
   ]
  },
  {
   "cell_type": "code",
   "execution_count": 300,
   "id": "e721cf82",
   "metadata": {},
   "outputs": [],
   "source": [
    "# import time\n",
    "\n",
    "# y = 0\n",
    "# y_step = 1000\n",
    "# book_info = []\n",
    "\n",
    "# for scroll_times in range(1,8):\n",
    "#     y = y + y_step\n",
    "#     driver.execute_script(f\"window.scrollTo({0},{scroll_times})\")\n",
    "    \n",
    "#     result = {\n",
    "#         'Book_Name': [],\n",
    "#         'Detail_Links': [],\n",
    "#         'Author': [],\n",
    "#         'Publisher': [],\n",
    "#         'Public_Date': [],\n",
    "#         'Score': [],\n",
    "#         'Price': []\n",
    "#     }\n",
    "    \n",
    "#     # 책제목\n",
    "#     book_names = driver.find_elements(By.CSS_SELECTOR, 'div.bookListItem_title__1mWGq')\n",
    "#     for name in book_names:\n",
    "#         result['Book_Name'].append(name.text)\n",
    "    \n",
    "#     # 상세정보링크\n",
    "#     path = '.bookListItem_item_inner__edK7P > a'\n",
    "#     detail_links = driver.find_elements(By.CSS_SELECTOR, path)\n",
    "#     for detail_link in detail_links:\n",
    "#         result['Detail_Links'].append(detail_link.get_attribute('href'))\n",
    "        \n",
    "#     # 저자\n",
    "#     authors = driver.find_elements(By.CSS_SELECTOR, 'div.bookListItem_detail__VW1kD > div:nth-child(1) > span.bookListItem_define_data__fu2A5')\n",
    "#     for author in authors:\n",
    "#         result['Publisher'].append(author.text)\n",
    "        \n",
    "#     # 출판사\n",
    "#     publishers = driver.find_elements(By.CSS_SELECTOR, '.bookListItem_publish__6XykH .bookListItem_define_data__fu2A5')\n",
    "#     for publisher in publishers:\n",
    "#          result['Author'].append(publisher.text)\n",
    "    \n",
    "#     #출간일\n",
    "#     public_dates = driver.find_elements(By.CSS_SELECTOR, 'div.bookListItem_detail_date__6_wYJ')\n",
    "#     for public_date in public_dates:\n",
    "#         result['Public_Date'].append(public_date.text)\n",
    "        \n",
    "#     #평점\n",
    "#     scores = driver.find_elements(By.CSS_SELECTOR, 'div.bookListItem_grade__e60mi')\n",
    "#     for score in scores:\n",
    "#         if score.text.strip() != None:\n",
    "#             result['Score'].append(float(score.text[2:5]))\n",
    "    \n",
    "#     #가격\n",
    "#     price_containers = driver.find_elements(By.CSS_SELECTOR, '.bookPrice_price__Nv4Ee')\n",
    "#     for container in price_containers:\n",
    "#         prices = container.find_elements(By.TAG_NAME, 'em')\n",
    "#         price_list = [int(price.text.replace(',', '')) for price in prices]\n",
    "#         result['Price'].append(price_list)\n",
    "    \n",
    "#     time.sleep(1)\n",
    "    \n",
    "# print(result)"
   ]
  },
  {
   "cell_type": "code",
   "execution_count": 301,
   "id": "7c0f591b",
   "metadata": {},
   "outputs": [],
   "source": [
    "# for value in result.values():\n",
    "#     print(f\"{len(value)}\")"
   ]
  },
  {
   "cell_type": "code",
   "execution_count": 140,
   "id": "5f2db889",
   "metadata": {},
   "outputs": [],
   "source": [
    "# 책 제목\n",
    "# for name in driver.find_elements(By.CSS_SELECTOR, 'div.bookListItem_title__1mWGq'):\n",
    "#     print(name.text)"
   ]
  },
  {
   "cell_type": "code",
   "execution_count": 139,
   "id": "76430c77",
   "metadata": {},
   "outputs": [],
   "source": [
    "# 상세정보링크\n",
    "#bookListItem_item_box__TV98j linkAnchor _nlog_click _nlog_impression_element\n",
    "# driver.find_elements(By.CSS_SELECTOR, '.bookListItem_item_box__TV98j.linkAnchor._nlog_click._nlog_impression_element')"
   ]
  },
  {
   "cell_type": "code",
   "execution_count": 214,
   "id": "9e404610",
   "metadata": {},
   "outputs": [],
   "source": [
    "# 저자\n",
    "#book_list > ul > li:nth-child(1) > div > a.bookListItem_info_top__DLxpl.linkAnchor._nlog_click._nlog_impression_element > div.bookListItem_text_area__6gSV2 > div.bookListItem_detail__VW1kD > div:nth-child(1) > span.bookListItem_define_data__fu2A5\n",
    "# driver.find_element(By.CSS_SELECTOR, 'div.bookListItem_detail__VW1kD > div:nth-child(1) > span.bookListItem_define_data__fu2A5').text"
   ]
  },
  {
   "cell_type": "code",
   "execution_count": 213,
   "id": "0c7115bc",
   "metadata": {},
   "outputs": [],
   "source": [
    "# #출판사\n",
    "# publishers = driver.find_elements(By.CSS_SELECTOR, 'div.bookListItem_detail_publish__SGgZN > span.bookListItem_define_data__fu2A5') \n",
    "# for publisher in publishers:\n",
    "#     print(publisher.text)\n",
    "\n",
    "#출간일\n",
    "# driver.find_element(By.CSS_SELECTOR, 'div.bookListItem_detail_date__6_wYJ').text\n",
    "\n",
    "#평점\n",
    "# scores = driver.find_elements(By.CSS_SELECTOR, 'div.bookListItem_grade__e60mi')\n",
    "# for score in scores:\n",
    "#     if score.text.strip() != None:\n",
    "#         result['Score'].append(score.text)\n",
    "\n",
    "# #가격\n",
    "# prices = driver.find_elements(By.CSS_SELECTOR, 'div.bookListItem_item_sub__GMKuN span.bookPrice_price__Nv4Ee')\n",
    "# for price in prices:\n",
    "#     result['Price'].append(price.text)"
   ]
  },
  {
   "cell_type": "markdown",
   "id": "d6ab2e00",
   "metadata": {},
   "source": [
    "# 웹페이지가 모두 로딩될 때까지 기다리기\n",
    "- from selenium.webdriver.support.ui import WebDriverWait\n",
    "- from selenium.webdriver.support import expected_conditions as EC\n"
   ]
  },
  {
   "cell_type": "code",
   "execution_count": null,
   "id": "85f06298",
   "metadata": {},
   "outputs": [],
   "source": [
    "from selenium.webdriver.support.ui import WebDriverWait\n",
    "from selenium.webdriver.support import expected_conditions as EC\n",
    "\n"
   ]
  },
  {
   "cell_type": "code",
   "execution_count": 212,
   "id": "fe160ed6",
   "metadata": {},
   "outputs": [],
   "source": [
    "from selenium import webdriver\n",
    "from selenium.webdriver.chrome.service import Service\n",
    "from selenium.webdriver.chrome.options import Options\n",
    "from webdriver_manager.chrome import ChromeDriverManager\n",
    "from selenium.webdriver.common.by import By\n",
    "from selenium.webdriver.common.keys import Keys\n",
    "from selenium.webdriver.support.ui import WebDriverWait\n",
    "from selenium.webdriver.support import expected_conditions as EC\n",
    "\n",
    "options = Options()\n",
    "options.add_experimental_option(\"detach\", True)\n",
    "options.add_argument('start_maximized')\n",
    "options.add_argument('Chrome/134.0.0.0')\n",
    "options.add_argument('lang=ko_KR')\n",
    "\n",
    "driver = webdriver.Chrome(\n",
    "    service=Service(ChromeDriverManager().install()),\n",
    "    options=options\n",
    ")\n",
    "\n",
    "url = \"https://search.shopping.naver.com/book/home\"\n",
    "driver.get(url)\n",
    "wait = WebDriverWait(driver, 10)\n",
    "\n",
    "search_text_box = wait.until(EC.presence_of_element_located((By.CSS_SELECTOR,\"._searchInput_placeholder_AG5yA._nlog_click\")))\n",
    "search_text_box.send_keys('파이썬')\n",
    "search_text_box.send_keys(Keys.ENTER)\n"
   ]
  },
  {
   "cell_type": "code",
   "execution_count": 259,
   "id": "17e9d4a2",
   "metadata": {},
   "outputs": [
    {
     "name": "stdout",
     "output_type": "stream",
     "text": [
      "혼자 만들면서 공부하는 파이썬 (37개 라이브러리와 API로 보고서, 차트, 게임, 맵, AI 챗봇 만들기|저자 직강 유튜브 강의, 오픈 채팅 제공) https://cr3.shopping.naver.com/book/adcr?x=PQSPVgp%2FrxBdyXi%2FUy1YUv%2F%2F%2Fw%3D%3DsL6lYDictt4yOWhgbAt1Gk%2FbQRyMdMd37cHyL02GTODGJnnL5Sdl1Om0OnvyPouDNOodz2sUCSJzaZGeyQGIepByjqXvgxCQgAqzFKCxrbpMNOKR6xCS1dOkksYKCMZwWGUcEqhxl496fFvh2kUfn98v%2BjB2erv%2BZ%2Brrs5VHOiTTt4DqiWzfh638rk6r8T8q2rvW58xB1D49unXpRSRrQDP7IntYW81Xs6qvX%2Bsnxc5xra%2BpI6UJu%2BTwtNWUwqdlIAV6pb3IaxDE%2FTyCytk5RTCy8qycwyAjRtSp2e4HAtBhr6kdrp7BvT8OlwZ7P37Yyw5nDbL8fZ%2FGYoIq%2F%2FjqO5XhhwLJwdx%2B2gXINy%2B92DcA52vl52IljN9%2Br7i0bOyrHdXuuPsatgYU9id2jTf8AfUeq7xa2bs6%2FahMzsv2lyyJ5SQWnPur7KfcO%2F%2BCm%2Fk3izfNVo1KcSVSazeZg7M%2BAaaiu8UijwP2ZPqUkQaimIv%2BRn3pOVdeEbmmL3GF6bx2lUcd8sgPslR1l2EsXiWQ6aIYJNVikDzdEqfyVj%2FjNoX6WAHQL7y5m2kfL9Hg2%2BV5YiTTX73NsM9LC0gIh66H4xkZ0ZvuBE4%2BhLZWkgE7ov7wqHVEaBjWga3OskBmXSIPw9zwlWtJiKOUk1I7q41%2FzjQ%3D%3D&nvMid=52859338841&catId=50010920 문현일 한빛미디어 2025.02.14. 5.0 <selenium.webdriver.remote.webelement.WebElement (session=\"e6f3c726bbaced9842474c8dd08728b7\", element=\"f.42323E537DEF5731460990213B79CB1C.d.53EF1E358ABB257C1E8530E4EC91F958.e.2706\")>\n"
     ]
    }
   ],
   "source": [
    "# 책 제목\n",
    "title = driver.find_element(By.CSS_SELECTOR, '.bookListItem_title__1mWGq').text\n",
    "\n",
    "# 상세정보링크\n",
    "detail_link = driver.find_element(By.CSS_SELECTOR, '.bookListItem_item_inner__edK7P > a').get_attribute('href')\n",
    "\n",
    "# 저자\n",
    "author = driver.find_element(By.CSS_SELECTOR, '.bookListItem_detail__VW1kD .bookListItem_define_data__fu2A5').text\n",
    "\n",
    "# 출판사\n",
    "publisher = driver.find_element(By.CSS_SELECTOR, '.bookListItem_publish__6XykH .bookListItem_define_data__fu2A5').text \n",
    "\n",
    "# 출판일\n",
    "pub_date = driver.find_element(By.CSS_SELECTOR, '.bookListItem_detail_date__6_wYJ').text \n",
    "\n",
    "# 평점\n",
    "grade = float(driver.find_element(By.CSS_SELECTOR, 'div.bookListItem_grade__e60mi').text[2:5])\n",
    "\n",
    "#가격\n",
    "prices = int(driver.find_element(By.CSS_SELECTOR, '.bookPrice_price__Nv4Ee > em').text.replace(',',''))\n",
    "\n",
    "print(title, detail_link, author, publisher, pub_date, grade, price)\n"
   ]
  },
  {
   "cell_type": "code",
   "execution_count": null,
   "id": "f975438d",
   "metadata": {},
   "outputs": [],
   "source": [
    "# 페이지 시작부터 끝까지 스크롤하기\n",
    "for scroll in range(0,8001,1000):\n",
    "    driver.execute_script(f\"window.scrollTo({0},{scroll})\")"
   ]
  },
  {
   "cell_type": "markdown",
   "id": "d6088ce8",
   "metadata": {},
   "source": [
    "## 페이지 넘김 버튼 확인\n"
   ]
  },
  {
   "cell_type": "code",
   "execution_count": null,
   "id": "447a24a3",
   "metadata": {},
   "outputs": [],
   "source": [
    "# 페이지 넘김 버튼 찾기 .Paginator_list_paging__XbuO8\n",
    "paginator = driver.find_element(By.CSS_SELECTOR, \".Paginator_list_paging__XbuO8\")"
   ]
  },
  {
   "cell_type": "markdown",
   "id": "d3a999d2",
   "metadata": {},
   "source": [
    "# 코드 합쳐서 5페이지 정보 모두 수집"
   ]
  },
  {
   "cell_type": "code",
   "execution_count": 303,
   "id": "a30a0915",
   "metadata": {},
   "outputs": [],
   "source": [
    "from selenium import webdriver\n",
    "from selenium.webdriver.chrome.service import Service\n",
    "from selenium.webdriver.chrome.options import Options\n",
    "from webdriver_manager.chrome import ChromeDriverManager\n",
    "from selenium.webdriver.common.by import By\n",
    "from selenium.webdriver.common.keys import Keys\n",
    "from selenium.webdriver.support.ui import WebDriverWait\n",
    "from selenium.webdriver.support import expected_conditions as EC\n",
    "import time\n",
    "import pandas as pd\n",
    "\n",
    "options = Options()\n",
    "options.add_experimental_option(\"detach\", True)\n",
    "options.add_argument(\"start-maximized\")\n",
    "options.add_argument(\"Chrome/135.0.0.0\")\n",
    "options.add_argument(\"lang=ko_KR\")\n",
    "\n",
    "driver = webdriver.Chrome(\n",
    "    service=Service(ChromeDriverManager().install()),\n",
    "    options=options\n",
    "    )\n",
    "url = \"https://search.shopping.naver.com/book/home\"\n",
    "driver.get(url)\n",
    "wait = WebDriverWait(driver, 10)\n",
    "search_text_box = wait.until(EC.presence_of_element_located((By.CSS_SELECTOR, \"._searchInput_search_text_83jy9._searchInput_placeholder_AG5yA._nlog_click\")))\n",
    "search_text_box.send_keys(f\"{keyword}\")\n",
    "search_text_box.send_keys(Keys.ENTER)\n",
    "\n",
    "for num in range(1, 6):\n",
    "    # 페이지 시작부터 끝까지 스크롤하기\n",
    "    for scroll in range(0, 8001, 1000):\n",
    "        driver.execute_script(f\"window.scrollTo({0}, {scroll})\")\n",
    "        time.sleep(2)\n",
    "\n",
    "    # 책 목록 전체 가져오기 find_elements\n",
    "    book_list = driver.find_elements(By.CSS_SELECTOR, \".bookListItem_item_book__RbpgP\")\n",
    "\n",
    "    # 반복문을 이용해 전체 40개 책 자료 추출하기\n",
    "    for book in book_list:\n",
    "        # 책 제목  bookListItem_title__1mWGq\n",
    "        title = book.find_element(By.CSS_SELECTOR, \".bookListItem_title__1mWGq\").text\n",
    "        #세부링크 bookListItem_item_inner__edK7P\n",
    "        detail_link = book.find_element(By.CSS_SELECTOR, \".bookListItem_item_inner__edK7P > a\").get_attribute(\"href\")\n",
    "        # 저자 .bookListItem_define_item__jqcW8.bookListItem_define_data__fu2A5\n",
    "        author = book.find_element(By.CSS_SELECTOR, \".bookListItem_define_item__jqcW8 > .bookListItem_define_data__fu2A5\").text\n",
    "        # 출판사 .bookListItem_define_item__jqcW8 bookListItem_publish__6XykH.bookListItem_define_data__fu2A5\n",
    "        publisher = book.find_element(By.CSS_SELECTOR, \".bookListItem_publish__6XykH .bookListItem_define_data__fu2A5\").text\n",
    "        # 출간일 .bookListItem_detail_date__6_wYJ\n",
    "        pub_date = book.find_element(By.CSS_SELECTOR, \".bookListItem_detail_date__6_wYJ\").text\n",
    "        try:\n",
    "            # 평점 .bookListItem_grade__e60mi\n",
    "            grade = float(book.find_element(By.CSS_SELECTOR, \".bookListItem_grade__e60mi\").text[2:5])\n",
    "        except Exception:\n",
    "            grade = 0.0\n",
    "        try:    \n",
    "            # 가격 .bookPrice_price__Nv4Ee > em\n",
    "            price = int(book.find_element(By.CSS_SELECTOR, \".bookPrice_price__Nv4Ee > em\").text.replace(\",\", \"\"))\n",
    "        except Exception:\n",
    "            price = 0\n",
    "\n",
    "        temp = (title, detail_link, author, publisher, pub_date, grade, price)\n",
    "        columns = (\"title\", \"detail_link\", \"author\", \"publisher\", \"pub_date\", \"grade\", \"price\")\n",
    "        result = pd.DataFrame([temp], columns=columns)\n",
    "        # 데이터프레임을 CSV로 저장하되 내용 추가하면서 저장하기\n",
    "        result.to_csv(\"./scraping_results/네이버책_selenium.csv\", mode=\"a\", header=False, index=False, encoding=\"utf-8-sig\")\n",
    "        \n",
    "    # 페이지 넘김 버튼 찾기 .Paginator_list_paging__XbuO8\n",
    "    paginator = driver.find_element(By.CSS_SELECTOR, \".Paginator_list_paging__XbuO8\")\n",
    "    paginator.find_element(By.LINK_TEXT, f\"{num+1}\").click()\n"
   ]
  },
  {
   "cell_type": "code",
   "execution_count": 1,
   "id": "81da2d72",
   "metadata": {},
   "outputs": [],
   "source": [
    "from  book_dbid import *"
   ]
  },
  {
   "cell_type": "code",
   "execution_count": 2,
   "id": "555edc41",
   "metadata": {},
   "outputs": [
    {
     "name": "stdout",
     "output_type": "stream",
     "text": [
      "검색할 책의 키워드를 입력해주세요: 파이썬\n"
     ]
    }
   ],
   "source": [
    "keyword = input('검색할 책의 키워드를 입력해주세요: ')"
   ]
  },
  {
   "cell_type": "code",
   "execution_count": 3,
   "id": "5b7861db",
   "metadata": {},
   "outputs": [
    {
     "name": "stdout",
     "output_type": "stream",
     "text": [
      "파이썬_book_info 테이블이 MySQL DB에 저장되었습니다.\n"
     ]
    }
   ],
   "source": [
    "keyword = input('검색할 책의 키워드를 입력해주세요: ')\n",
    "driver = book_page(keyword)\n",
    "all_results = pd.DataFrame()\n",
    "\n",
    "for num in range(1, 6):\n",
    "    scroll_page(driver)\n",
    "    result = book_info_collect(driver)\n",
    "    all_results = pd.concat([all_results, result], ignore_index=True)\n",
    "    \n",
    "    if num < 5:\n",
    "        pagenavigator(driver, num)\n",
    "\n",
    "save_csv(all_results)\n",
    "save_MySQL_table(keyword, all_results)\n",
    "driver.quit()\n",
    "\n"
   ]
  },
  {
   "cell_type": "code",
   "execution_count": null,
   "id": "92ea0a40",
   "metadata": {},
   "outputs": [],
   "source": []
  },
  {
   "cell_type": "code",
   "execution_count": null,
   "id": "68804d2f",
   "metadata": {},
   "outputs": [],
   "source": []
  },
  {
   "cell_type": "code",
   "execution_count": null,
   "id": "07444e56",
   "metadata": {},
   "outputs": [],
   "source": []
  },
  {
   "cell_type": "code",
   "execution_count": null,
   "id": "1c92f717",
   "metadata": {},
   "outputs": [],
   "source": []
  },
  {
   "cell_type": "code",
   "execution_count": null,
   "id": "42d8c09a",
   "metadata": {},
   "outputs": [],
   "source": []
  },
  {
   "cell_type": "code",
   "execution_count": null,
   "id": "a6669646",
   "metadata": {},
   "outputs": [],
   "source": []
  }
 ],
 "metadata": {
  "kernelspec": {
   "display_name": "Python 3 (ipykernel)",
   "language": "python",
   "name": "python3"
  },
  "language_info": {
   "codemirror_mode": {
    "name": "ipython",
    "version": 3
   },
   "file_extension": ".py",
   "mimetype": "text/x-python",
   "name": "python",
   "nbconvert_exporter": "python",
   "pygments_lexer": "ipython3",
   "version": "3.9.21"
  }
 },
 "nbformat": 4,
 "nbformat_minor": 5
}
