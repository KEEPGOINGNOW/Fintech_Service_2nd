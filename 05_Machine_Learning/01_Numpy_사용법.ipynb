{
 "cells": [
  {
   "cell_type": "markdown",
   "id": "dd133629",
   "metadata": {},
   "source": [
    "# 데이터 분석\n",
    "- 인공지능(AI)\n",
    "    - 머신러닝(ML)\n",
    "    - 딥러닝(DL)\n",
    "\n",
    "----------\n",
    "- 머신러닝_데이터 분석\n",
    "    - 지도학습 : 데이터에 정답이 포함된 경우\n",
    "        - 분류분석, 회귀분석 등\n",
    "    - 비지도학습 : 데이터에 정답이 없는 경우\n",
    "        - 군집분석\n",
    "-------\n",
    "- 딥러닝_데이터 분석\n",
    "    - 자연어 분석(NLP)\n",
    "        - 언어 분석 -> 금융권 신용평가, 연체여부 확인, 금융사기 등 \n",
    "        - 긍정적 / 부정적 여부 확인\n",
    "    - 이미지 분석\n",
    "        - 얼굴인증(얼굴 이미지 = 서버의 얼굴 이미지와 동일 여부 확인), 생체인증\n",
    "        - 퀀트 투자 : 주가와 같은 시계열 데이터의 흐름을 이미지로 인식하여 패턴 파악 및 자동화"
   ]
  },
  {
   "cell_type": "markdown",
   "id": "15ceb111",
   "metadata": {},
   "source": [
    "# Numpy\n",
    "- https://numpy.org/numpy-tutorials/\n",
    "- numpy : Nemerical Python 과학적, 산업적 연상을 위한 패키지\n",
    "- 다차원 배열, 행렬 연산에 주로 사용\n",
    "- numpy는 python의 .list와 비슷한 자료형\n",
    "- 순서가 있는 자료형\n",
    "- 파이썬의 list와의 차이는 자료형이 1가지만 들어간다\n"
   ]
  },
  {
   "cell_type": "markdown",
   "id": "60a0949c",
   "metadata": {},
   "source": [
    "## 차원\n",
    "- 0차원 = 점, 스칼라(a = 10)\n",
    "- 1차원 = 선 ----- 벡터, 배열, list, tuple\n",
    "    - 벡터는 방향을 가진 데이터\n",
    "    - [1,2,3,4]\n",
    "- 2차원 = 면, 가로/세로, DB 테이블, DataFrame, matrix\n",
    "- 3차원 = 입체, 가로(x)/세로(y)/깊이(z), 정육면체\n",
    "- 4차원 = 3차원 요소가 2개 이상\n",
    "- 5차원 = 4차원 요소가 2개 이상\n",
    "\n",
    "------------\n",
    "\n",
    "- Excel : 기본적으로 2차원(가로/세로)\n",
    "    - 하나의 셀 = 스칼라\n",
    "    - 행 벡터(가로), 열 벡터(세로)"
   ]
  },
  {
   "cell_type": "code",
   "execution_count": 1,
   "id": "5d53235d",
   "metadata": {},
   "outputs": [
    {
     "name": "stdout",
     "output_type": "stream",
     "text": [
      "[1 2 3 4 5]\n",
      "10\n"
     ]
    }
   ],
   "source": [
    "import numpy as np\n",
    "\n",
    "# 1차원 데이터\n",
    "a = np.array([1,2,3,4,5])\n",
    "print(a)\n",
    "\n",
    "# 스칼라\n",
    "s = 10\n",
    "print(s)"
   ]
  },
  {
   "cell_type": "code",
   "execution_count": 9,
   "id": "851344b1",
   "metadata": {},
   "outputs": [],
   "source": [
    "# 1차원 데이터\n",
    "a = np.array([1,2,3,4,5])\n",
    "print(a)"
   ]
  },
  {
   "cell_type": "code",
   "execution_count": 10,
   "id": "98a752e6",
   "metadata": {},
   "outputs": [],
   "source": [
    "# 스칼라\n",
    "s = 10\n",
    "print(s)"
   ]
  },
  {
   "cell_type": "markdown",
   "id": "d600deb8",
   "metadata": {},
   "source": [
    "- 차원을 출력하는 메서드 : .ndim\n",
    "- 차원의 형태를 출력하는 메서드 : .shape"
   ]
  },
  {
   "cell_type": "code",
   "execution_count": 11,
   "id": "dfd0a2cc",
   "metadata": {},
   "outputs": [
    {
     "data": {
      "text/plain": [
       "1"
      ]
     },
     "execution_count": 11,
     "metadata": {},
     "output_type": "execute_result"
    }
   ],
   "source": [
    "# ndarray는 벡터이므로 1차원\n",
    "a.ndim"
   ]
  },
  {
   "cell_type": "code",
   "execution_count": 99,
   "id": "5a3d6056",
   "metadata": {},
   "outputs": [
    {
     "data": {
      "text/plain": [
       "(3, 5)"
      ]
     },
     "execution_count": 99,
     "metadata": {},
     "output_type": "execute_result"
    }
   ],
   "source": [
    "# 방향이 없는 벡터\n",
    "a.shape"
   ]
  },
  {
   "cell_type": "code",
   "execution_count": 100,
   "id": "a4d4a6cc",
   "metadata": {},
   "outputs": [
    {
     "name": "stdout",
     "output_type": "stream",
     "text": [
      "2\n",
      "(3, 5)\n"
     ]
    }
   ],
   "source": [
    "# 차원을 출력하는 메서드 : .ndim\n",
    "# 차원의 형태를 출력하는 메서드 : .shape\n",
    "\n",
    "# ndarray는 벡터이므로 1차원\n",
    "print(a.ndim)\n",
    "\n",
    "# 방향이 없는 벡터\n",
    "print(a.shape)"
   ]
  },
  {
   "cell_type": "code",
   "execution_count": 104,
   "id": "eff88b83",
   "metadata": {},
   "outputs": [
    {
     "name": "stdout",
     "output_type": "stream",
     "text": [
      "[[1]\n",
      " [2]\n",
      " [3]\n",
      " [4]\n",
      " [5]]\n",
      "2\n",
      "(5, 1)\n"
     ]
    }
   ],
   "source": [
    "# 새로 방향을 가진 1차원 데이터\n",
    "a2 = np.array([[1],[2],[3],[4],[5]])\n",
    "print(a2)\n"
   ]
  },
  {
   "cell_type": "code",
   "execution_count": 102,
   "id": "41f3a67f",
   "metadata": {},
   "outputs": [
    {
     "name": "stdout",
     "output_type": "stream",
     "text": [
      "2\n",
      "(5, 1)\n"
     ]
    }
   ],
   "source": [
    "# 1차원 데이터의 차원과 차원 형태 출력\n",
    "print(a2.ndim)\n",
    "print(a2.shape)"
   ]
  },
  {
   "cell_type": "code",
   "execution_count": 106,
   "id": "02740ae6",
   "metadata": {},
   "outputs": [
    {
     "name": "stdout",
     "output_type": "stream",
     "text": [
      "[[1 2 3 4 5]]\n",
      "2\n",
      "(1, 5)\n"
     ]
    }
   ],
   "source": [
    "# 행벡터\n",
    "a3 = np.array([[1,2,3,4,5]])\n",
    "print(a3)\n",
    "\n",
    "# 2차원 데이터의 차원과 차원 형태 출력\n",
    "print(a3.ndim)\n",
    "print(a3.shape)"
   ]
  },
  {
   "cell_type": "code",
   "execution_count": 37,
   "id": "55713166",
   "metadata": {},
   "outputs": [],
   "source": [
    "# 2차원 데이터\n",
    "c = np.array([[1,2,3,4,5], [6,7,8,9,10]])"
   ]
  },
  {
   "cell_type": "code",
   "execution_count": 18,
   "id": "92335e7b",
   "metadata": {},
   "outputs": [
    {
     "name": "stdout",
     "output_type": "stream",
     "text": [
      "2\n",
      "(2, 5)\n"
     ]
    }
   ],
   "source": [
    "print(c.ndim)\n",
    "print(c.shape) # (행, 열) : 2개(2차원)"
   ]
  },
  {
   "cell_type": "code",
   "execution_count": 49,
   "id": "a5e9a9c3",
   "metadata": {},
   "outputs": [],
   "source": [
    "# 3차원 데이터\n",
    "d = np.array([[[1,2,3,4,5], [6,7,8,9,10]], [[1,2,3,4,5], [6,7,8,9,10]],\n",
    "             [[1,2,3,4,5], [6,7,8,9,10]], [[1,2,3,4,5], [6,7,8,9,10]]])"
   ]
  },
  {
   "cell_type": "code",
   "execution_count": 50,
   "id": "c64e4143",
   "metadata": {},
   "outputs": [
    {
     "name": "stdout",
     "output_type": "stream",
     "text": [
      "3\n",
      "(4, 2, 5)\n"
     ]
    }
   ],
   "source": [
    "print(d.ndim)\n",
    "print(d.shape) # ((행/열)2차원 데이터의 수, 행, 열) : 3개(3차원)"
   ]
  },
  {
   "cell_type": "code",
   "execution_count": 35,
   "id": "fbfe3db3",
   "metadata": {},
   "outputs": [],
   "source": [
    "# 4차원 데이터\n",
    "e = np.array([[[[1,2,3,4,5], [6,7,8,9,10]], [[1,2,3,4,5], [6,7,8,9,10]]],\n",
    "             [[[1,2,3,4,5], [6,7,8,9,10]], [[1,2,3,4,5], [6,7,8,9,10]]]])"
   ]
  },
  {
   "cell_type": "code",
   "execution_count": 29,
   "id": "008346ea",
   "metadata": {},
   "outputs": [
    {
     "name": "stdout",
     "output_type": "stream",
     "text": [
      "4\n",
      "(2, 2, 2, 5)\n"
     ]
    }
   ],
   "source": [
    "print(e.ndim)\n",
    "print(e.shape) # (3차원 데이터의 수,(행/열)2차원 데이터의 수, 행, 열) : 4개(4차원)"
   ]
  },
  {
   "cell_type": "code",
   "execution_count": 34,
   "id": "17a6ddab",
   "metadata": {},
   "outputs": [],
   "source": [
    "# 5차원 데이터\n",
    "f = np.array([[[[[1,2,3,4,5], [6,7,8,9,10]], [[1,2,3,4,5], [6,7,8,9,10]]],\n",
    "             [[[1,2,3,4,5], [6,7,8,9,10]], [[1,2,3,4,5], [6,7,8,9,10]]]],\n",
    "             [[[[1,2,3,4,5], [6,7,8,9,10]], [[1,2,3,4,5], [6,7,8,9,10]]],\n",
    "             [[[1,2,3,4,5], [6,7,8,9,10]], [[1,2,3,4,5], [6,7,8,9,10]]]]])"
   ]
  },
  {
   "cell_type": "code",
   "execution_count": 51,
   "id": "07982330",
   "metadata": {},
   "outputs": [
    {
     "name": "stdout",
     "output_type": "stream",
     "text": [
      "5\n",
      "(2, 2, 2, 2, 5)\n"
     ]
    }
   ],
   "source": [
    "print(f.ndim)\n",
    "print(f.shape) # (4차원 데이터의 수, 3차원 데이터의 수,(행/열)2차원 데이터의 수, 행, 열) : 5개(5차원)"
   ]
  },
  {
   "cell_type": "code",
   "execution_count": 59,
   "id": "6e19f08a",
   "metadata": {},
   "outputs": [
    {
     "data": {
      "text/plain": [
       "array([1, 2, 3, 4, 5])"
      ]
     },
     "execution_count": 59,
     "metadata": {},
     "output_type": "execute_result"
    }
   ],
   "source": [
    "f[0][0][0][0]"
   ]
  },
  {
   "cell_type": "markdown",
   "id": "ddccb852",
   "metadata": {},
   "source": [
    "# Numpy 사용 이유\n",
    "- 행렬 연산이 쉽고 빠르기 때문"
   ]
  },
  {
   "cell_type": "code",
   "execution_count": 65,
   "id": "1382ae37",
   "metadata": {},
   "outputs": [
    {
     "name": "stdout",
     "output_type": "stream",
     "text": [
      "15\n",
      "25\n"
     ]
    }
   ],
   "source": [
    "# 스칼라 연산\n",
    "a = 10\n",
    "b = 5\n",
    "scalar = a + b\n",
    "print(scalar)\n",
    "print(scalar + 10)"
   ]
  },
  {
   "cell_type": "code",
   "execution_count": 67,
   "id": "927709ca",
   "metadata": {},
   "outputs": [
    {
     "name": "stdout",
     "output_type": "stream",
     "text": [
      "[10, 20, 30, 40, 50]\n"
     ]
    }
   ],
   "source": [
    "# 1차원 데이터 벡터의 연산\n",
    "b1 = [1,2,3,4,5]\n",
    "\n",
    "# 리스트의 요소에 10을 곱한 후 다시 리스트로 만드세요\n",
    "\n",
    "result = []\n",
    "for num in b1:\n",
    "    result.append(num*10)\n",
    "print(result)"
   ]
  },
  {
   "cell_type": "code",
   "execution_count": 69,
   "id": "63dd5171",
   "metadata": {},
   "outputs": [
    {
     "data": {
      "text/plain": [
       "[10, 20, 30, 40, 50]"
      ]
     },
     "execution_count": 69,
     "metadata": {},
     "output_type": "execute_result"
    }
   ],
   "source": [
    "result2 = [num*10 for num in b1]\n",
    "result2"
   ]
  },
  {
   "cell_type": "code",
   "execution_count": 77,
   "id": "1b267081",
   "metadata": {},
   "outputs": [
    {
     "name": "stdout",
     "output_type": "stream",
     "text": [
      "[[1 2 3]\n",
      " [1 2 3]] 2 (2, 3)\n"
     ]
    }
   ],
   "source": [
    "# 2차원 데이터 계산 *10\n",
    "second = np.array([[1,2,3], [1,2,3]])\n",
    "print(second, second.ndim, second.shape)"
   ]
  },
  {
   "cell_type": "code",
   "execution_count": 102,
   "id": "dc2689c4",
   "metadata": {},
   "outputs": [
    {
     "name": "stdout",
     "output_type": "stream",
     "text": [
      "[[np.int64(10), np.int64(20), np.int64(30)], [np.int64(10), np.int64(20), np.int64(30)]]\n"
     ]
    }
   ],
   "source": [
    "result = []\n",
    "for num in second:\n",
    "#     print(num)\n",
    "    mid_result = []\n",
    "    for number in num:\n",
    "        mid_result.append(number * 10)\n",
    "    result.append(mid_result)\n",
    "print(result)\n"
   ]
  },
  {
   "cell_type": "code",
   "execution_count": 103,
   "id": "8c52a67f",
   "metadata": {},
   "outputs": [
    {
     "name": "stdout",
     "output_type": "stream",
     "text": [
      "2\n",
      "(2, 3)\n"
     ]
    }
   ],
   "source": [
    "result = np.array(result)\n",
    "print(result.ndim)\n",
    "print(result.shape)"
   ]
  },
  {
   "cell_type": "code",
   "execution_count": 80,
   "id": "8feefba5",
   "metadata": {},
   "outputs": [
    {
     "name": "stdout",
     "output_type": "stream",
     "text": [
      "[[[1 2 3]\n",
      "  [1 2 3]]\n",
      "\n",
      " [[1 2 3]\n",
      "  [1 2 3]]] 3 (2, 2, 3)\n"
     ]
    }
   ],
   "source": [
    "# 3차원 데이터의 요소에 10 곱셈\n",
    "third = np.array([[[1,2,3],[1,2,3]],[[1,2,3], [1,2,3]]])\n",
    "print(third, third.ndim, third.shape)"
   ]
  },
  {
   "cell_type": "code",
   "execution_count": 104,
   "id": "3e2390fe",
   "metadata": {},
   "outputs": [
    {
     "name": "stdout",
     "output_type": "stream",
     "text": [
      "[[[np.int64(10), np.int64(20), np.int64(30)], [np.int64(10), np.int64(20), np.int64(30)]], [[np.int64(10), np.int64(20), np.int64(30)], [np.int64(10), np.int64(20), np.int64(30)]]]\n"
     ]
    }
   ],
   "source": [
    "result = []\n",
    "\n",
    "for num1 in third:\n",
    "#     print(num1)\n",
    "    num1_result = []\n",
    "    for num2 in num1:\n",
    "#         print(num2)\n",
    "        num2_result = []\n",
    "        for num3 in num2:\n",
    "            num2_result.append(num3 * 10)\n",
    "        num1_result.append(num2_result)\n",
    "    result.append(num1_result)\n",
    "print(result)\n"
   ]
  },
  {
   "cell_type": "code",
   "execution_count": 105,
   "id": "7d67eec6",
   "metadata": {},
   "outputs": [
    {
     "name": "stdout",
     "output_type": "stream",
     "text": [
      "3\n",
      "(2, 2, 3)\n"
     ]
    }
   ],
   "source": [
    "result = np.array(result)\n",
    "print(result.ndim)\n",
    "print(result.shape)"
   ]
  },
  {
   "cell_type": "code",
   "execution_count": 111,
   "id": "acc6dc57",
   "metadata": {},
   "outputs": [
    {
     "name": "stdout",
     "output_type": "stream",
     "text": [
      "4 (2, 2, 2, 3)\n"
     ]
    }
   ],
   "source": [
    "# 4차원 데이터 요소에 10 곱셈\n",
    "forth = np.array([[[[1,2,3],[1,2,3]],[[1,2,3], [1,2,3]]],\n",
    "                 [[[1,2,3],[1,2,3]],[[1,2,3], [1,2,3]]]])\n",
    "print(forth.ndim, forth.shape)"
   ]
  },
  {
   "cell_type": "code",
   "execution_count": 108,
   "id": "60f11187",
   "metadata": {},
   "outputs": [
    {
     "data": {
      "text/plain": [
       "array([[[[10, 20, 30],\n",
       "         [10, 20, 30]],\n",
       "\n",
       "        [[10, 20, 30],\n",
       "         [10, 20, 30]]],\n",
       "\n",
       "\n",
       "       [[[10, 20, 30],\n",
       "         [10, 20, 30]],\n",
       "\n",
       "        [[10, 20, 30],\n",
       "         [10, 20, 30]]]])"
      ]
     },
     "execution_count": 108,
     "metadata": {},
     "output_type": "execute_result"
    }
   ],
   "source": [
    "forth * 10"
   ]
  },
  {
   "cell_type": "code",
   "execution_count": 110,
   "id": "7322a51b",
   "metadata": {},
   "outputs": [
    {
     "name": "stdout",
     "output_type": "stream",
     "text": [
      "5 (2, 2, 2, 2, 3)\n"
     ]
    }
   ],
   "source": [
    "# 5차원 데이터 요소에 10 곱셈\n",
    "fifth = np.array([[[[[1,2,3],[1,2,3]],[[1,2,3], [1,2,3]]],\n",
    "                 [[[1,2,3],[1,2,3]],[[1,2,3], [1,2,3]]]],\n",
    "                 [[[[1,2,3],[1,2,3]],[[1,2,3], [1,2,3]]],\n",
    "                 [[[1,2,3],[1,2,3]],[[1,2,3], [1,2,3]]]]])\n",
    "print(fifth.ndim, fifth.shape)"
   ]
  },
  {
   "cell_type": "code",
   "execution_count": 113,
   "id": "e0f66d9c",
   "metadata": {},
   "outputs": [
    {
     "data": {
      "text/plain": [
       "array([[[[[10, 20, 30],\n",
       "          [10, 20, 30]],\n",
       "\n",
       "         [[10, 20, 30],\n",
       "          [10, 20, 30]]],\n",
       "\n",
       "\n",
       "        [[[10, 20, 30],\n",
       "          [10, 20, 30]],\n",
       "\n",
       "         [[10, 20, 30],\n",
       "          [10, 20, 30]]]],\n",
       "\n",
       "\n",
       "\n",
       "       [[[[10, 20, 30],\n",
       "          [10, 20, 30]],\n",
       "\n",
       "         [[10, 20, 30],\n",
       "          [10, 20, 30]]],\n",
       "\n",
       "\n",
       "        [[[10, 20, 30],\n",
       "          [10, 20, 30]],\n",
       "\n",
       "         [[10, 20, 30],\n",
       "          [10, 20, 30]]]]])"
      ]
     },
     "execution_count": 113,
     "metadata": {},
     "output_type": "execute_result"
    }
   ],
   "source": [
    "fifth * 10"
   ]
  },
  {
   "cell_type": "markdown",
   "id": "00762d0c",
   "metadata": {},
   "source": [
    "# Numpy에서 자주 사용하는 메서드\n",
    "- .ndim : 몇 차원인지 확인\n",
    "- .shape : 몇 차원, 몇행, 몇열로 되어 있는지 구조 확인\n",
    "- .size : 배열 안에 있는 요소의 총 개수가 몇 개인지 확인\n",
    "- .dtype : 데이터 타입이 무엇인지 확인"
   ]
  },
  {
   "cell_type": "code",
   "execution_count": 114,
   "id": "383b94e5",
   "metadata": {},
   "outputs": [
    {
     "name": "stdout",
     "output_type": "stream",
     "text": [
      "5\n",
      "(2, 2, 2, 2, 3)\n",
      "48\n",
      "int64\n"
     ]
    }
   ],
   "source": [
    "print(fifth.ndim)\n",
    "print(fifth.shape)\n",
    "print(fifth.size)\n",
    "print(fifth.dtype)"
   ]
  },
  {
   "cell_type": "code",
   "execution_count": 119,
   "id": "b703a5a4",
   "metadata": {},
   "outputs": [],
   "source": [
    "# fifth / 2\n"
   ]
  },
  {
   "cell_type": "markdown",
   "id": "b540b0de",
   "metadata": {},
   "source": [
    "# ndarray 생성\n",
    "- numpy의 기본 자료형 ndarray\n",
    "- np.array(리스트/튜플)\n",
    "- 자료형은 반드시 1가지만 넣기\n"
   ]
  },
  {
   "cell_type": "code",
   "execution_count": 121,
   "id": "8f0d1240",
   "metadata": {},
   "outputs": [
    {
     "data": {
      "text/plain": [
       "array([1, 2, 3, 4, 5])"
      ]
     },
     "execution_count": 121,
     "metadata": {},
     "output_type": "execute_result"
    }
   ],
   "source": [
    "np.array([1,2,3,4,5])"
   ]
  },
  {
   "cell_type": "code",
   "execution_count": 122,
   "id": "aba145ba",
   "metadata": {},
   "outputs": [
    {
     "name": "stdout",
     "output_type": "stream",
     "text": [
      "1 2 3 4 5\n"
     ]
    }
   ],
   "source": [
    "print(*[1,2,3,4,5])"
   ]
  },
  {
   "cell_type": "code",
   "execution_count": 123,
   "id": "76480c30",
   "metadata": {},
   "outputs": [
    {
     "data": {
      "text/plain": [
       "array([1, 2, 3, 4, 5])"
      ]
     },
     "execution_count": 123,
     "metadata": {},
     "output_type": "execute_result"
    }
   ],
   "source": [
    "e = np.array((1,2,3,4,5))\n",
    "e"
   ]
  },
  {
   "cell_type": "code",
   "execution_count": 131,
   "id": "b6d972e6",
   "metadata": {},
   "outputs": [
    {
     "data": {
      "text/plain": [
       "dtype('float64')"
      ]
     },
     "execution_count": 131,
     "metadata": {},
     "output_type": "execute_result"
    }
   ],
   "source": [
    "e = np.array((1,2,3.14,4,5))\n",
    "e.dtype"
   ]
  },
  {
   "cell_type": "code",
   "execution_count": 127,
   "id": "652f184a",
   "metadata": {},
   "outputs": [
    {
     "name": "stdout",
     "output_type": "stream",
     "text": [
      "['True' '1' '2' '3.14' '4' '5']\n"
     ]
    },
    {
     "data": {
      "text/plain": [
       "dtype('<U32')"
      ]
     },
     "execution_count": 127,
     "metadata": {},
     "output_type": "execute_result"
    }
   ],
   "source": [
    "e3 = np.array((True, 1,2,3.14, '4',5))\n",
    "print(e3)\n",
    "e3.dtype"
   ]
  },
  {
   "cell_type": "markdown",
   "id": "f461821f",
   "metadata": {},
   "source": [
    "- np.arange(시작, 끝, step)\n"
   ]
  },
  {
   "cell_type": "code",
   "execution_count": 134,
   "id": "582026b3",
   "metadata": {},
   "outputs": [
    {
     "data": {
      "text/plain": [
       "array([1, 3, 5, 7, 9])"
      ]
     },
     "execution_count": 134,
     "metadata": {},
     "output_type": "execute_result"
    }
   ],
   "source": [
    "a = np.arange(1,11,2)\n",
    "a"
   ]
  },
  {
   "cell_type": "code",
   "execution_count": 135,
   "id": "538d307a",
   "metadata": {},
   "outputs": [
    {
     "data": {
      "text/plain": [
       "array([  1,   2,   3,   4,   5,   6,   7,   8,   9,  10,  11,  12,  13,\n",
       "        14,  15,  16,  17,  18,  19,  20,  21,  22,  23,  24,  25,  26,\n",
       "        27,  28,  29,  30,  31,  32,  33,  34,  35,  36,  37,  38,  39,\n",
       "        40,  41,  42,  43,  44,  45,  46,  47,  48,  49,  50,  51,  52,\n",
       "        53,  54,  55,  56,  57,  58,  59,  60,  61,  62,  63,  64,  65,\n",
       "        66,  67,  68,  69,  70,  71,  72,  73,  74,  75,  76,  77,  78,\n",
       "        79,  80,  81,  82,  83,  84,  85,  86,  87,  88,  89,  90,  91,\n",
       "        92,  93,  94,  95,  96,  97,  98,  99, 100])"
      ]
     },
     "execution_count": 135,
     "metadata": {},
     "output_type": "execute_result"
    }
   ],
   "source": [
    "a3 = np.arange(1,101)\n",
    "a3"
   ]
  },
  {
   "cell_type": "code",
   "execution_count": 137,
   "id": "ef177f66",
   "metadata": {},
   "outputs": [
    {
     "name": "stdout",
     "output_type": "stream",
     "text": [
      "1\n",
      "(100,)\n",
      "2\n",
      "(20, 5)\n"
     ]
    }
   ],
   "source": [
    "# .reshape(행, 열) : 벡터를 원하는 크기의 matrix 또는 다차원 배열로 변환\n",
    "print(a3.ndim)\n",
    "print(a3.shape)\n",
    "\n",
    "a4 = a3.reshape(20,5)\n",
    "print(a4.ndim)\n",
    "print(a4.shape)"
   ]
  },
  {
   "cell_type": "code",
   "execution_count": 141,
   "id": "eba123e6",
   "metadata": {},
   "outputs": [
    {
     "name": "stdout",
     "output_type": "stream",
     "text": [
      "3\n",
      "(5, 4, 5)\n"
     ]
    }
   ],
   "source": [
    "a5 = a3.reshape(5,4,5)\n",
    "print(a5.ndim)\n",
    "print(a5.shape)"
   ]
  },
  {
   "cell_type": "code",
   "execution_count": 144,
   "id": "3670a884",
   "metadata": {},
   "outputs": [
    {
     "name": "stdout",
     "output_type": "stream",
     "text": [
      "2\n",
      "(4, 25)\n"
     ]
    },
    {
     "data": {
      "text/plain": [
       "array([[  1,   2,   3,   4,   5,   6,   7,   8,   9,  10,  11,  12,  13,\n",
       "         14,  15,  16,  17,  18,  19,  20,  21,  22,  23,  24,  25],\n",
       "       [ 26,  27,  28,  29,  30,  31,  32,  33,  34,  35,  36,  37,  38,\n",
       "         39,  40,  41,  42,  43,  44,  45,  46,  47,  48,  49,  50],\n",
       "       [ 51,  52,  53,  54,  55,  56,  57,  58,  59,  60,  61,  62,  63,\n",
       "         64,  65,  66,  67,  68,  69,  70,  71,  72,  73,  74,  75],\n",
       "       [ 76,  77,  78,  79,  80,  81,  82,  83,  84,  85,  86,  87,  88,\n",
       "         89,  90,  91,  92,  93,  94,  95,  96,  97,  98,  99, 100]])"
      ]
     },
     "execution_count": 144,
     "metadata": {},
     "output_type": "execute_result"
    }
   ],
   "source": [
    "a6 = a3.reshape(4, 25)\n",
    "print(a6.ndim)\n",
    "print(a6.shape)\n",
    "a6"
   ]
  },
  {
   "cell_type": "code",
   "execution_count": 145,
   "id": "645145b9",
   "metadata": {},
   "outputs": [
    {
     "data": {
      "text/plain": [
       "array([[[[ 0,  1],\n",
       "         [ 2,  3]],\n",
       "\n",
       "        [[ 4,  5],\n",
       "         [ 6,  7]]],\n",
       "\n",
       "\n",
       "       [[[ 8,  9],\n",
       "         [10, 11]],\n",
       "\n",
       "        [[12, 13],\n",
       "         [14, 15]]],\n",
       "\n",
       "\n",
       "       [[[16, 17],\n",
       "         [18, 19]],\n",
       "\n",
       "        [[20, 21],\n",
       "         [22, 23]]]])"
      ]
     },
     "execution_count": 145,
     "metadata": {},
     "output_type": "execute_result"
    }
   ],
   "source": [
    "# flatten() : 다차원 배열을 1차원으로 펼쳐줌\n",
    "a7 = np.arange(24)\n",
    "a7 = a7.reshape(3,2,2,2)\n",
    "a7"
   ]
  },
  {
   "cell_type": "code",
   "execution_count": 150,
   "id": "6ab4d639",
   "metadata": {},
   "outputs": [
    {
     "name": "stdout",
     "output_type": "stream",
     "text": [
      "1\n",
      "(24,)\n"
     ]
    }
   ],
   "source": [
    "a72 = a7.flatten()\n",
    "print(a72.ndim)\n",
    "print(a72.shape)"
   ]
  },
  {
   "cell_type": "code",
   "execution_count": 153,
   "id": "f5ef0f0f",
   "metadata": {},
   "outputs": [
    {
     "data": {
      "text/plain": [
       "array([[[[23, 22],\n",
       "         [21, 20]],\n",
       "\n",
       "        [[19, 18],\n",
       "         [17, 16]]],\n",
       "\n",
       "\n",
       "       [[[15, 14],\n",
       "         [13, 12]],\n",
       "\n",
       "        [[11, 10],\n",
       "         [ 9,  8]]],\n",
       "\n",
       "\n",
       "       [[[ 7,  6],\n",
       "         [ 5,  4]],\n",
       "\n",
       "        [[ 3,  2],\n",
       "         [ 1,  0]]]])"
      ]
     },
     "execution_count": 153,
     "metadata": {},
     "output_type": "execute_result"
    }
   ],
   "source": [
    "# np.flip() : 행렬의 순서 뒤집는 경우\n",
    "a73 = a72.reshape(3,2,2,2)\n",
    "np.flip(a73)"
   ]
  },
  {
   "cell_type": "code",
   "execution_count": 155,
   "id": "8e9b480a",
   "metadata": {},
   "outputs": [
    {
     "data": {
      "text/plain": [
       "array([[[16, 17],\n",
       "        [18, 19]],\n",
       "\n",
       "       [[20, 21],\n",
       "        [22, 23]]])"
      ]
     },
     "execution_count": 155,
     "metadata": {},
     "output_type": "execute_result"
    }
   ],
   "source": [
    "a73[-1]"
   ]
  },
  {
   "cell_type": "code",
   "execution_count": 23,
   "id": "42e039e0",
   "metadata": {},
   "outputs": [
    {
     "data": {
      "text/plain": [
       "array([ 1.,  2.,  3.,  4.,  5.,  6.,  7.,  8.,  9., 10.])"
      ]
     },
     "execution_count": 23,
     "metadata": {},
     "output_type": "execute_result"
    }
   ],
   "source": [
    "# np.linspace(시작, 끝, 구간 수) : 정해진 숫자 범위 안에서 균등한 구간을 나누는 경우\n",
    "np.linspace(1,10, 10)"
   ]
  },
  {
   "cell_type": "code",
   "execution_count": 163,
   "id": "804d947a",
   "metadata": {},
   "outputs": [
    {
     "data": {
      "text/plain": [
       "array([0.        , 0.08333333, 0.16666667, 0.25      , 0.33333333,\n",
       "       0.41666667, 0.5       , 0.58333333, 0.66666667, 0.75      ,\n",
       "       0.83333333, 0.91666667, 1.        ])"
      ]
     },
     "execution_count": 163,
     "metadata": {},
     "output_type": "execute_result"
    }
   ],
   "source": [
    "np.linspace(0,1, 13)"
   ]
  },
  {
   "cell_type": "code",
   "execution_count": 14,
   "id": "6d550304",
   "metadata": {},
   "outputs": [
    {
     "data": {
      "text/plain": [
       "array([ 5. ,  7. , 11. ,  1. ,  3. ,  2. , 54. ,  0. ,  0.5, 68. ])"
      ]
     },
     "execution_count": 14,
     "metadata": {},
     "output_type": "execute_result"
    }
   ],
   "source": [
    "# 정렬, .sort(), sorted()\n",
    "f =np.array([5,7,11,1,3,2,54,0,0.5,68])\n",
    "f"
   ]
  },
  {
   "cell_type": "code",
   "execution_count": 15,
   "id": "dd4115ba",
   "metadata": {},
   "outputs": [
    {
     "data": {
      "text/plain": [
       "array([ 0. ,  0.5,  1. ,  2. ,  3. ,  5. ,  7. , 11. , 54. , 68. ])"
      ]
     },
     "execution_count": 15,
     "metadata": {},
     "output_type": "execute_result"
    }
   ],
   "source": [
    "f.sort() # 저장하지 않아도 자동으로 저장되메\n",
    "f"
   ]
  },
  {
   "cell_type": "code",
   "execution_count": 16,
   "id": "2ab9adfd",
   "metadata": {},
   "outputs": [
    {
     "data": {
      "text/plain": [
       "[np.float64(0.0),\n",
       " np.float64(0.5),\n",
       " np.float64(1.0),\n",
       " np.float64(2.0),\n",
       " np.float64(3.0),\n",
       " np.float64(5.0),\n",
       " np.float64(7.0),\n",
       " np.float64(11.0),\n",
       " np.float64(54.0),\n",
       " np.float64(68.0)]"
      ]
     },
     "execution_count": 16,
     "metadata": {},
     "output_type": "execute_result"
    }
   ],
   "source": [
    "# 저장하고 싶지 않다면 sorted 활용\n",
    "sorted(f)"
   ]
  },
  {
   "cell_type": "code",
   "execution_count": 17,
   "id": "69edaf5a",
   "metadata": {},
   "outputs": [
    {
     "data": {
      "text/plain": [
       "[np.float64(68.0),\n",
       " np.float64(54.0),\n",
       " np.float64(11.0),\n",
       " np.float64(7.0),\n",
       " np.float64(5.0),\n",
       " np.float64(3.0),\n",
       " np.float64(2.0),\n",
       " np.float64(1.0),\n",
       " np.float64(0.5),\n",
       " np.float64(0.0)]"
      ]
     },
     "execution_count": 17,
     "metadata": {},
     "output_type": "execute_result"
    }
   ],
   "source": [
    "sorted(f, reverse=True)"
   ]
  },
  {
   "cell_type": "code",
   "execution_count": 18,
   "id": "85426ded",
   "metadata": {},
   "outputs": [
    {
     "data": {
      "text/plain": [
       "array([[ 0. ,  0.5,  1. ,  2. ,  3. ],\n",
       "       [ 5. ,  7. , 11. , 54. , 68. ]])"
      ]
     },
     "execution_count": 18,
     "metadata": {},
     "output_type": "execute_result"
    }
   ],
   "source": [
    "f = f.reshape(2,5)\n",
    "f.sort()\n",
    "f"
   ]
  },
  {
   "cell_type": "code",
   "execution_count": 19,
   "id": "331030d8",
   "metadata": {},
   "outputs": [],
   "source": [
    "arr = np.array([[[5, 2, 8], [1, 6, 7]],[[4, 9, 3], [0, 2, 1]]])"
   ]
  },
  {
   "cell_type": "code",
   "execution_count": 22,
   "id": "d6624792",
   "metadata": {
    "scrolled": true
   },
   "outputs": [
    {
     "name": "stdout",
     "output_type": "stream",
     "text": [
      "[[[5 2 8]\n",
      "  [1 6 7]]\n",
      "\n",
      " [[4 9 3]\n",
      "  [0 2 1]]]\n"
     ]
    },
    {
     "data": {
      "text/plain": [
       "array([[[4, 2, 3],\n",
       "        [0, 2, 1]],\n",
       "\n",
       "       [[5, 9, 8],\n",
       "        [1, 6, 7]]])"
      ]
     },
     "execution_count": 22,
     "metadata": {},
     "output_type": "execute_result"
    }
   ],
   "source": [
    "# axis=0 2차원 배열\n",
    "# np.sort() 함수의 axis 기본값은 -1\n",
    "print(arr)\n",
    "np.sort(arr, axis=0)"
   ]
  },
  {
   "cell_type": "code",
   "execution_count": 21,
   "id": "77fa3011",
   "metadata": {},
   "outputs": [
    {
     "name": "stdout",
     "output_type": "stream",
     "text": [
      "[ 5.   0.5 -7.  42.  10.   0. ]\n"
     ]
    }
   ],
   "source": [
    "# argsort() : 자료 중 값이 작은 것에서 큰 순으로 원래 인덱스 출력\n",
    "g = np.array([5,0.5, -7, 42,10,0])\n",
    "print(g)"
   ]
  },
  {
   "cell_type": "code",
   "execution_count": 181,
   "id": "edce69e9",
   "metadata": {},
   "outputs": [
    {
     "data": {
      "text/plain": [
       "array([2, 5, 1, 0, 4, 3])"
      ]
     },
     "execution_count": 181,
     "metadata": {},
     "output_type": "execute_result"
    }
   ],
   "source": [
    "# 2,5,1,0,4,3\n",
    "s = g.argsort()\n",
    "s"
   ]
  },
  {
   "cell_type": "code",
   "execution_count": 184,
   "id": "490be9f6",
   "metadata": {},
   "outputs": [
    {
     "data": {
      "text/plain": [
       "array([42. , 10. ,  5. ,  0.5,  0. , -7. ])"
      ]
     },
     "execution_count": 184,
     "metadata": {},
     "output_type": "execute_result"
    }
   ],
   "source": [
    "g[s][::-1]"
   ]
  },
  {
   "cell_type": "markdown",
   "id": "5ebac32c",
   "metadata": {},
   "source": [
    "- np.where(조건, 참, 거짓) 3항 연산\n"
   ]
  },
  {
   "cell_type": "code",
   "execution_count": 24,
   "id": "915e1c44",
   "metadata": {},
   "outputs": [
    {
     "data": {
      "text/plain": [
       "array([ 1,  2,  3,  4,  5,  6,  7,  8,  9, 10])"
      ]
     },
     "execution_count": 24,
     "metadata": {},
     "output_type": "execute_result"
    }
   ],
   "source": [
    "num = np.arange(1,11)\n",
    "num"
   ]
  },
  {
   "cell_type": "code",
   "execution_count": 25,
   "id": "0ac56b09",
   "metadata": {},
   "outputs": [
    {
     "data": {
      "text/plain": [
       "array(['홀수', '짝수', '홀수', '짝수', '홀수', '짝수', '홀수', '짝수', '홀수', '짝수'],\n",
       "      dtype='<U2')"
      ]
     },
     "execution_count": 25,
     "metadata": {},
     "output_type": "execute_result"
    }
   ],
   "source": [
    "np.where(num % 2 == 0, '짝수', '홀수')"
   ]
  },
  {
   "cell_type": "code",
   "execution_count": 27,
   "id": "e197a0c5",
   "metadata": {},
   "outputs": [
    {
     "name": "stdout",
     "output_type": "stream",
     "text": [
      "['홀수', '짝수', '홀수', '짝수', '홀수', '짝수', '홀수', '짝수', '홀수', '짝수']\n"
     ]
    }
   ],
   "source": [
    "result = []\n",
    "for i in num:\n",
    "    if i % 2 == 0:\n",
    "        result.append('짝수')\n",
    "    else:\n",
    "        result.append('홀수')\n",
    "print(result)"
   ]
  },
  {
   "cell_type": "markdown",
   "id": "4f3dcfba",
   "metadata": {},
   "source": [
    "# np.concatenate() : 배열 합치기"
   ]
  },
  {
   "cell_type": "code",
   "execution_count": 33,
   "id": "571fe16e",
   "metadata": {},
   "outputs": [
    {
     "name": "stdout",
     "output_type": "stream",
     "text": [
      "[[1 2]\n",
      " [3 4]] (2, 2) 2\n",
      "[[5 6]\n",
      " [7 8]] (2, 2) 2\n"
     ]
    }
   ],
   "source": [
    "# 2차원 배열 할당\n",
    "a = np.array([[1,2], [3,4]])\n",
    "b = np.array([[5,6], [7,8]])\n",
    "\n",
    "print(a, a.shape, a.ndim)\n",
    "print(b, b.shape, b.ndim)"
   ]
  },
  {
   "cell_type": "markdown",
   "id": "9f5c4b1c",
   "metadata": {},
   "source": [
    "- np.concatenate((a,b))\n",
    "- 합치는 기본 방향\n",
    "    - axis=0 : 행이 들어나서 아래로 붙음\n",
    "    - axis=1은 열이 늘어나서 옆(오른쪽)으로 붙음\n"
   ]
  },
  {
   "cell_type": "code",
   "execution_count": 35,
   "id": "7ac531ba",
   "metadata": {},
   "outputs": [
    {
     "name": "stdout",
     "output_type": "stream",
     "text": [
      "[[1 2]\n",
      " [3 4]\n",
      " [5 6]\n",
      " [7 8]]\n"
     ]
    }
   ],
   "source": [
    "# 2개의 2차원 배열을 합침(배열은 튜플 형식으로 넣음)\n",
    "axis0 = np.concatenate((a,b))\n",
    "print(axis0)"
   ]
  },
  {
   "cell_type": "code",
   "execution_count": 36,
   "id": "dcb0a698",
   "metadata": {},
   "outputs": [
    {
     "name": "stdout",
     "output_type": "stream",
     "text": [
      "[[1 2 5 6]\n",
      " [3 4 7 8]]\n"
     ]
    }
   ],
   "source": [
    "axis1 = np.concatenate((a,b), axis=1)\n",
    "print(axis1)"
   ]
  },
  {
   "cell_type": "markdown",
   "id": "d3f0a1dd",
   "metadata": {},
   "source": [
    "# 합치는 방향의 모양이 일치하지 않으면 합치지 X"
   ]
  },
  {
   "cell_type": "code",
   "execution_count": 37,
   "id": "39f9e197",
   "metadata": {},
   "outputs": [
    {
     "name": "stdout",
     "output_type": "stream",
     "text": [
      "[5 6] (2,) 1\n"
     ]
    }
   ],
   "source": [
    "# 1차원 배열 할당\n",
    "c = np.array([5,6])\n",
    "print(c, c.shape, c.ndim)"
   ]
  },
  {
   "cell_type": "code",
   "execution_count": 47,
   "id": "30f12f55",
   "metadata": {},
   "outputs": [],
   "source": [
    "# 차원이 맞지 않다면 합쳐지지 않음(오류 발생)\n",
    "# np.concatenate((a,c))"
   ]
  },
  {
   "cell_type": "code",
   "execution_count": 66,
   "id": "e2cc4e76",
   "metadata": {},
   "outputs": [
    {
     "name": "stdout",
     "output_type": "stream",
     "text": [
      "[[7 8 9]]\n"
     ]
    }
   ],
   "source": [
    "d = np.array([[7,8,9]])\n",
    "print(d)"
   ]
  },
  {
   "cell_type": "code",
   "execution_count": 67,
   "id": "e47b7a82",
   "metadata": {},
   "outputs": [
    {
     "name": "stdout",
     "output_type": "stream",
     "text": [
      "[[1 2]\n",
      " [3 4]]\n"
     ]
    }
   ],
   "source": [
    "print(a)"
   ]
  },
  {
   "cell_type": "code",
   "execution_count": 68,
   "id": "7ec22ac6",
   "metadata": {},
   "outputs": [],
   "source": [
    "# a는 2행 2열, d는 1행 3열이므로 맞지 않아 합쳐지지 않음(오류 발생)\n",
    "# np.concatenate((a,d), axis=1)"
   ]
  },
  {
   "cell_type": "code",
   "execution_count": 69,
   "id": "bfa70c8b",
   "metadata": {},
   "outputs": [
    {
     "name": "stdout",
     "output_type": "stream",
     "text": [
      "[[1 2 3]\n",
      " [4 5 6]] 2 (2, 3)\n"
     ]
    }
   ],
   "source": [
    "e = np.array([[1,2,3], [4,5,6]])\n",
    "print(e, e.ndim, e.shape)"
   ]
  },
  {
   "cell_type": "code",
   "execution_count": 70,
   "id": "2a0eaeb6",
   "metadata": {},
   "outputs": [
    {
     "data": {
      "text/plain": [
       "array([[7, 8, 9],\n",
       "       [1, 2, 3],\n",
       "       [4, 5, 6]])"
      ]
     },
     "execution_count": 70,
     "metadata": {},
     "output_type": "execute_result"
    }
   ],
   "source": [
    "np.concatenate((d,e))"
   ]
  },
  {
   "cell_type": "code",
   "execution_count": 71,
   "id": "6e8ff5be",
   "metadata": {},
   "outputs": [
    {
     "name": "stdout",
     "output_type": "stream",
     "text": [
      "[[1 2]\n",
      " [3 4]\n",
      " [5 6]] 2 (3, 2)\n"
     ]
    }
   ],
   "source": [
    "f = np.array([[1,2],[3,4],[5,6]])\n",
    "print(f, f.ndim, f.shape)"
   ]
  },
  {
   "cell_type": "code",
   "execution_count": 82,
   "id": "ce12fb6c",
   "metadata": {},
   "outputs": [],
   "source": [
    "# e는 2행 3열, f는 3행 2열으므로 맞지 않아 합쳐지지 않음(오류 발생)\n",
    "# np.concatenate((e,f), axis=1)"
   ]
  },
  {
   "cell_type": "code",
   "execution_count": 77,
   "id": "6602c2cf",
   "metadata": {},
   "outputs": [
    {
     "name": "stdout",
     "output_type": "stream",
     "text": [
      "[[1 2]\n",
      " [3 4]\n",
      " [5 6]]\n",
      "(3, 2)\n",
      "\n",
      "[[1 3 5]\n",
      " [2 4 6]]\n",
      "(2, 3)\n"
     ]
    }
   ],
   "source": [
    "# 전치행렬 : 행과 열을 바꿈\n",
    "print(f)\n",
    "print(f.shape)\n",
    "print()\n",
    "print(f.T)\n",
    "print(f.T.shape)"
   ]
  },
  {
   "cell_type": "markdown",
   "id": "6eeb4359",
   "metadata": {},
   "source": [
    "# 전치 행렬 만들기 \n",
    "- .T\n",
    "- .transpose()"
   ]
  },
  {
   "cell_type": "code",
   "execution_count": 84,
   "id": "0f43c550",
   "metadata": {},
   "outputs": [
    {
     "data": {
      "text/plain": [
       "array([[1, 2, 3, 1, 3, 5],\n",
       "       [4, 5, 6, 2, 4, 6]])"
      ]
     },
     "execution_count": 84,
     "metadata": {},
     "output_type": "execute_result"
    }
   ],
   "source": [
    "# f를 전치행렬로 변환하면 2행 3열로 변환되어 합치는 것 가능\n",
    "np.concatenate((e,f.T), axis=1)"
   ]
  },
  {
   "cell_type": "code",
   "execution_count": 88,
   "id": "a4f23283",
   "metadata": {},
   "outputs": [
    {
     "name": "stdout",
     "output_type": "stream",
     "text": [
      "[[1 4]\n",
      " [2 5]\n",
      " [3 6]]\n",
      "\n",
      "[[1 4]\n",
      " [2 5]\n",
      " [3 6]]\n"
     ]
    }
   ],
   "source": [
    "print(e.T)\n",
    "print()\n",
    "print(e.transpose())"
   ]
  },
  {
   "cell_type": "markdown",
   "id": "6934d010",
   "metadata": {},
   "source": [
    "# 브로드 캐스팅\n",
    "- 벡터와 스칼라, 혹은 매트릭스와 벡터를 연산할 때 자동으로 행렬 크기를 맞춰주는 것\n"
   ]
  },
  {
   "cell_type": "code",
   "execution_count": 96,
   "id": "88cfdd3b",
   "metadata": {},
   "outputs": [
    {
     "name": "stdout",
     "output_type": "stream",
     "text": [
      "[[ 1  2  3  4  5]\n",
      " [ 6  7  8  9 10]\n",
      " [11 12 13 14 15]] 2 (3, 5)\n"
     ]
    }
   ],
   "source": [
    "a = np.arange(1,16).reshape(3,5)\n",
    "print(a, a.ndim, a.shape)"
   ]
  },
  {
   "cell_type": "code",
   "execution_count": 93,
   "id": "7c3a0cde",
   "metadata": {},
   "outputs": [
    {
     "data": {
      "text/plain": [
       "array([[11, 12, 13, 14, 15],\n",
       "       [16, 17, 18, 19, 20],\n",
       "       [21, 22, 23, 24, 25]])"
      ]
     },
     "execution_count": 93,
     "metadata": {},
     "output_type": "execute_result"
    }
   ],
   "source": [
    "# 동일한 행과 열의 데열에 각각 10이 들어가 있음\n",
    "# 해당 행과 열에 맞는 데이터끼리 더해서 표현\n",
    "a + 10"
   ]
  },
  {
   "cell_type": "code",
   "execution_count": 95,
   "id": "ecaf03de",
   "metadata": {},
   "outputs": [
    {
     "name": "stdout",
     "output_type": "stream",
     "text": [
      "[10 20 30 40 50] 1 (5,)\n"
     ]
    }
   ],
   "source": [
    "b = np.array([10, 20, 30, 40, 50])\n",
    "print(b, b.ndim, b.shape)"
   ]
  },
  {
   "cell_type": "code",
   "execution_count": 98,
   "id": "10817e87",
   "metadata": {},
   "outputs": [
    {
     "data": {
      "text/plain": [
       "array([[11, 22, 33, 44, 55],\n",
       "       [16, 27, 38, 49, 60],\n",
       "       [21, 32, 43, 54, 65]])"
      ]
     },
     "execution_count": 98,
     "metadata": {},
     "output_type": "execute_result"
    }
   ],
   "source": [
    "# 1행 5열짜리 b 배열이 3번 반복하여 a의 각 행의 데이터와 더해짐\n",
    "a + b"
   ]
  },
  {
   "cell_type": "code",
   "execution_count": null,
   "id": "2f40237f",
   "metadata": {},
   "outputs": [],
   "source": []
  },
  {
   "cell_type": "code",
   "execution_count": null,
   "id": "a6fb4692",
   "metadata": {},
   "outputs": [],
   "source": []
  },
  {
   "cell_type": "code",
   "execution_count": null,
   "id": "ba381d01",
   "metadata": {},
   "outputs": [],
   "source": []
  }
 ],
 "metadata": {
  "kernelspec": {
   "display_name": "Python 3 (ipykernel)",
   "language": "python",
   "name": "python3"
  },
  "language_info": {
   "codemirror_mode": {
    "name": "ipython",
    "version": 3
   },
   "file_extension": ".py",
   "mimetype": "text/x-python",
   "name": "python",
   "nbconvert_exporter": "python",
   "pygments_lexer": "ipython3",
   "version": "3.9.21"
  }
 },
 "nbformat": 4,
 "nbformat_minor": 5
}
