{
 "cells": [
  {
   "cell_type": "markdown",
   "id": "dd133629",
   "metadata": {},
   "source": [
    "# 데이터 분석\n",
    "- 인공지능(AI)\n",
    "    - 머신러닝(ML)\n",
    "    - 딥러닝(DL)\n",
    "\n",
    "----------\n",
    "- 머신러닝_데이터 분석\n",
    "    - 지도학습 : 데이터에 정답이 포함된 경우\n",
    "        - 분류분석, 회귀분석 등\n",
    "    - 비지도학습 : 데이터에 정답이 없는 경우\n",
    "        - 군집분석\n",
    "-------\n",
    "- 딥러닝_데이터 분석\n",
    "    - 자연어 분석(NLP)\n",
    "        - 언어 분석 -> 금융권 신용평가, 연체여부 확인, 금융사기 등 \n",
    "        - 긍정적 / 부정적 여부 확인\n",
    "    - 이미지 분석\n",
    "        - 얼굴인증(얼굴 이미지 = 서버의 얼굴 이미지와 동일 여부 확인), 생체인증\n",
    "        - 퀀트 투자 : 주가와 같은 시계열 데이터의 흐름을 이미지로 인식하여 패턴 파악 및 자동화"
   ]
  },
  {
   "cell_type": "markdown",
   "id": "15ceb111",
   "metadata": {},
   "source": [
    "# Numpy\n",
    "- https://numpy.org/numpy-tutorials/\n",
    "- numpy : Nemerical Python 과학적, 산업적 연상을 위한 패키지\n",
    "- 다차원 배열, 행렬 연산에 주로 사용\n",
    "- numpy는 python의 .list와 비슷한 자료형\n",
    "- 순서가 있는 자료형\n",
    "- 파이썬의 list와의 차이는 자료형이 1가지만 들어간다\n"
   ]
  },
  {
   "cell_type": "markdown",
   "id": "60a0949c",
   "metadata": {},
   "source": [
    "## 차원\n",
    "- 0차원 = 점, 스칼라(a = 10)\n",
    "- 1차원 = 선 ----- 벡터, 배열, list, tuple\n",
    "    - 벡터는 방향을 가진 데이터\n",
    "    - [1,2,3,4]\n",
    "- 2차원 = 면, 가로/세로, DB 테이블, DataFrame, matrix\n",
    "- 3차원 = 입체, 가로(x)/세로(y)/깊이(z), 정육면체\n",
    "- 4차원 = 3차원 요소가 2개 이상\n",
    "- 5차원 = 4차원 요소가 2개 이상\n",
    "\n",
    "------------\n",
    "\n",
    "- Excel : 기본적으로 2차원(가로/세로)\n",
    "    - 하나의 셀 = 스칼라\n",
    "    - 행 벡터(가로), 열 벡터(세로)"
   ]
  },
  {
   "cell_type": "code",
   "execution_count": 2,
   "id": "5d53235d",
   "metadata": {},
   "outputs": [],
   "source": [
    "import numpy as np"
   ]
  },
  {
   "cell_type": "code",
   "execution_count": 9,
   "id": "851344b1",
   "metadata": {},
   "outputs": [],
   "source": [
    "# 1차원 데이터\n",
    "a = np.array([1,2,3,4,5])"
   ]
  },
  {
   "cell_type": "code",
   "execution_count": 10,
   "id": "98a752e6",
   "metadata": {},
   "outputs": [],
   "source": [
    "# 스칼라\n",
    "s = 10"
   ]
  },
  {
   "cell_type": "markdown",
   "id": "d600deb8",
   "metadata": {},
   "source": [
    "- 차원을 출력하는 메서드 : .ndim\n",
    "- 차원의 형태를 출력하는 메서드 : .shape"
   ]
  },
  {
   "cell_type": "code",
   "execution_count": 11,
   "id": "dfd0a2cc",
   "metadata": {},
   "outputs": [
    {
     "data": {
      "text/plain": [
       "1"
      ]
     },
     "execution_count": 11,
     "metadata": {},
     "output_type": "execute_result"
    }
   ],
   "source": [
    "# ndarray는 벡터이므로 1차원\n",
    "a.ndim"
   ]
  },
  {
   "cell_type": "code",
   "execution_count": 38,
   "id": "5a3d6056",
   "metadata": {},
   "outputs": [
    {
     "data": {
      "text/plain": [
       "(5,)"
      ]
     },
     "execution_count": 38,
     "metadata": {},
     "output_type": "execute_result"
    }
   ],
   "source": [
    "# 방향이 없는 벡터\n",
    "a.shape"
   ]
  },
  {
   "cell_type": "code",
   "execution_count": 42,
   "id": "eff88b83",
   "metadata": {},
   "outputs": [
    {
     "data": {
      "text/plain": [
       "array([[1],\n",
       "       [2],\n",
       "       [3],\n",
       "       [4],\n",
       "       [5]])"
      ]
     },
     "execution_count": 42,
     "metadata": {},
     "output_type": "execute_result"
    }
   ],
   "source": [
    "# 새로 방향을 가진 1차원 데이터\n",
    "a2 = np.array([[1],[2],[3],[4],[5]])\n",
    "a2"
   ]
  },
  {
   "cell_type": "code",
   "execution_count": 48,
   "id": "41f3a67f",
   "metadata": {},
   "outputs": [
    {
     "name": "stdout",
     "output_type": "stream",
     "text": [
      "2\n",
      "(5, 1)\n"
     ]
    }
   ],
   "source": [
    "print(a2.ndim)\n",
    "print(a2.shape)"
   ]
  },
  {
   "cell_type": "code",
   "execution_count": 47,
   "id": "02740ae6",
   "metadata": {},
   "outputs": [
    {
     "data": {
      "text/plain": [
       "(1, 5)"
      ]
     },
     "execution_count": 47,
     "metadata": {},
     "output_type": "execute_result"
    }
   ],
   "source": [
    "# 열벡터\n",
    "a3 = np.array([[1,2,3,4,5]])\n",
    "a3.shape"
   ]
  },
  {
   "cell_type": "code",
   "execution_count": 37,
   "id": "55713166",
   "metadata": {},
   "outputs": [],
   "source": [
    "# 2차원 데이터\n",
    "c = np.array([[1,2,3,4,5], [6,7,8,9,10]])"
   ]
  },
  {
   "cell_type": "code",
   "execution_count": 18,
   "id": "92335e7b",
   "metadata": {},
   "outputs": [
    {
     "name": "stdout",
     "output_type": "stream",
     "text": [
      "2\n",
      "(2, 5)\n"
     ]
    }
   ],
   "source": [
    "print(c.ndim)\n",
    "print(c.shape) # (행, 열) : 2개(2차원)"
   ]
  },
  {
   "cell_type": "code",
   "execution_count": 49,
   "id": "a5e9a9c3",
   "metadata": {},
   "outputs": [],
   "source": [
    "# 3차원 데이터\n",
    "d = np.array([[[1,2,3,4,5], [6,7,8,9,10]], [[1,2,3,4,5], [6,7,8,9,10]],\n",
    "             [[1,2,3,4,5], [6,7,8,9,10]], [[1,2,3,4,5], [6,7,8,9,10]]])"
   ]
  },
  {
   "cell_type": "code",
   "execution_count": 50,
   "id": "c64e4143",
   "metadata": {},
   "outputs": [
    {
     "name": "stdout",
     "output_type": "stream",
     "text": [
      "3\n",
      "(4, 2, 5)\n"
     ]
    }
   ],
   "source": [
    "print(d.ndim)\n",
    "print(d.shape) # ((행/열)2차원 데이터의 수, 행, 열) : 3개(3차원)"
   ]
  },
  {
   "cell_type": "code",
   "execution_count": 35,
   "id": "fbfe3db3",
   "metadata": {},
   "outputs": [],
   "source": [
    "# 4차원 데이터\n",
    "e = np.array([[[[1,2,3,4,5], [6,7,8,9,10]], [[1,2,3,4,5], [6,7,8,9,10]]],\n",
    "             [[[1,2,3,4,5], [6,7,8,9,10]], [[1,2,3,4,5], [6,7,8,9,10]]]])"
   ]
  },
  {
   "cell_type": "code",
   "execution_count": 29,
   "id": "008346ea",
   "metadata": {},
   "outputs": [
    {
     "name": "stdout",
     "output_type": "stream",
     "text": [
      "4\n",
      "(2, 2, 2, 5)\n"
     ]
    }
   ],
   "source": [
    "print(e.ndim)\n",
    "print(e.shape) # (3차원 데이터의 수,(행/열)2차원 데이터의 수, 행, 열) : 4개(4차원)"
   ]
  },
  {
   "cell_type": "code",
   "execution_count": 34,
   "id": "17a6ddab",
   "metadata": {},
   "outputs": [],
   "source": [
    "# 5차원 데이터\n",
    "f = np.array([[[[[1,2,3,4,5], [6,7,8,9,10]], [[1,2,3,4,5], [6,7,8,9,10]]],\n",
    "             [[[1,2,3,4,5], [6,7,8,9,10]], [[1,2,3,4,5], [6,7,8,9,10]]]],\n",
    "             [[[[1,2,3,4,5], [6,7,8,9,10]], [[1,2,3,4,5], [6,7,8,9,10]]],\n",
    "             [[[1,2,3,4,5], [6,7,8,9,10]], [[1,2,3,4,5], [6,7,8,9,10]]]]])"
   ]
  },
  {
   "cell_type": "code",
   "execution_count": 51,
   "id": "07982330",
   "metadata": {},
   "outputs": [
    {
     "name": "stdout",
     "output_type": "stream",
     "text": [
      "5\n",
      "(2, 2, 2, 2, 5)\n"
     ]
    }
   ],
   "source": [
    "print(f.ndim)\n",
    "print(f.shape) # (4차원 데이터의 수, 3차원 데이터의 수,(행/열)2차원 데이터의 수, 행, 열) : 5개(5차원)"
   ]
  },
  {
   "cell_type": "code",
   "execution_count": 59,
   "id": "6e19f08a",
   "metadata": {},
   "outputs": [
    {
     "data": {
      "text/plain": [
       "array([1, 2, 3, 4, 5])"
      ]
     },
     "execution_count": 59,
     "metadata": {},
     "output_type": "execute_result"
    }
   ],
   "source": [
    "f[0][0][0][0]"
   ]
  },
  {
   "cell_type": "markdown",
   "id": "ddccb852",
   "metadata": {},
   "source": [
    "# Numpy 사용 이유\n",
    "- 행렬 연산이 쉽고 빠르기 때문"
   ]
  },
  {
   "cell_type": "code",
   "execution_count": 65,
   "id": "1382ae37",
   "metadata": {},
   "outputs": [
    {
     "name": "stdout",
     "output_type": "stream",
     "text": [
      "15\n",
      "25\n"
     ]
    }
   ],
   "source": [
    "# 스칼라 연산\n",
    "a = 10\n",
    "b = 5\n",
    "scalar = a + b\n",
    "print(scalar)\n",
    "print(scalar + 10)"
   ]
  },
  {
   "cell_type": "code",
   "execution_count": 67,
   "id": "927709ca",
   "metadata": {},
   "outputs": [
    {
     "name": "stdout",
     "output_type": "stream",
     "text": [
      "[10, 20, 30, 40, 50]\n"
     ]
    }
   ],
   "source": [
    "# 1차원 데이터 벡터의 연산\n",
    "b1 = [1,2,3,4,5]\n",
    "\n",
    "# 리스트의 요소에 10을 곱한 후 다시 리스트로 만드세요\n",
    "\n",
    "result = []\n",
    "for num in b1:\n",
    "    result.append(num*10)\n",
    "print(result)"
   ]
  },
  {
   "cell_type": "code",
   "execution_count": 69,
   "id": "63dd5171",
   "metadata": {},
   "outputs": [
    {
     "data": {
      "text/plain": [
       "[10, 20, 30, 40, 50]"
      ]
     },
     "execution_count": 69,
     "metadata": {},
     "output_type": "execute_result"
    }
   ],
   "source": [
    "result2 = [num*10 for num in b1]\n",
    "result2"
   ]
  },
  {
   "cell_type": "code",
   "execution_count": 77,
   "id": "1b267081",
   "metadata": {},
   "outputs": [
    {
     "name": "stdout",
     "output_type": "stream",
     "text": [
      "[[1 2 3]\n",
      " [1 2 3]] 2 (2, 3)\n"
     ]
    }
   ],
   "source": [
    "# 2차원 데이터 계산 *10\n",
    "second = np.array([[1,2,3], [1,2,3]])\n",
    "print(second, second.ndim, second.shape)"
   ]
  },
  {
   "cell_type": "code",
   "execution_count": 102,
   "id": "dc2689c4",
   "metadata": {},
   "outputs": [
    {
     "name": "stdout",
     "output_type": "stream",
     "text": [
      "[[np.int64(10), np.int64(20), np.int64(30)], [np.int64(10), np.int64(20), np.int64(30)]]\n"
     ]
    }
   ],
   "source": [
    "result = []\n",
    "for num in second:\n",
    "#     print(num)\n",
    "    mid_result = []\n",
    "    for number in num:\n",
    "        mid_result.append(number * 10)\n",
    "    result.append(mid_result)\n",
    "print(result)\n"
   ]
  },
  {
   "cell_type": "code",
   "execution_count": 103,
   "id": "8c52a67f",
   "metadata": {},
   "outputs": [
    {
     "name": "stdout",
     "output_type": "stream",
     "text": [
      "2\n",
      "(2, 3)\n"
     ]
    }
   ],
   "source": [
    "result = np.array(result)\n",
    "print(result.ndim)\n",
    "print(result.shape)"
   ]
  },
  {
   "cell_type": "code",
   "execution_count": 80,
   "id": "8feefba5",
   "metadata": {},
   "outputs": [
    {
     "name": "stdout",
     "output_type": "stream",
     "text": [
      "[[[1 2 3]\n",
      "  [1 2 3]]\n",
      "\n",
      " [[1 2 3]\n",
      "  [1 2 3]]] 3 (2, 2, 3)\n"
     ]
    }
   ],
   "source": [
    "# 3차원 데이터의 요소에 10 곱셈\n",
    "third = np.array([[[1,2,3],[1,2,3]],[[1,2,3], [1,2,3]]])\n",
    "print(third, third.ndim, third.shape)"
   ]
  },
  {
   "cell_type": "code",
   "execution_count": 104,
   "id": "3e2390fe",
   "metadata": {},
   "outputs": [
    {
     "name": "stdout",
     "output_type": "stream",
     "text": [
      "[[[np.int64(10), np.int64(20), np.int64(30)], [np.int64(10), np.int64(20), np.int64(30)]], [[np.int64(10), np.int64(20), np.int64(30)], [np.int64(10), np.int64(20), np.int64(30)]]]\n"
     ]
    }
   ],
   "source": [
    "result = []\n",
    "\n",
    "for num1 in third:\n",
    "#     print(num1)\n",
    "    num1_result = []\n",
    "    for num2 in num1:\n",
    "#         print(num2)\n",
    "        num2_result = []\n",
    "        for num3 in num2:\n",
    "            num2_result.append(num3 * 10)\n",
    "        num1_result.append(num2_result)\n",
    "    result.append(num1_result)\n",
    "print(result)\n"
   ]
  },
  {
   "cell_type": "code",
   "execution_count": 105,
   "id": "7d67eec6",
   "metadata": {},
   "outputs": [
    {
     "name": "stdout",
     "output_type": "stream",
     "text": [
      "3\n",
      "(2, 2, 3)\n"
     ]
    }
   ],
   "source": [
    "result = np.array(result)\n",
    "print(result.ndim)\n",
    "print(result.shape)"
   ]
  },
  {
   "cell_type": "code",
   "execution_count": 111,
   "id": "acc6dc57",
   "metadata": {},
   "outputs": [
    {
     "name": "stdout",
     "output_type": "stream",
     "text": [
      "4 (2, 2, 2, 3)\n"
     ]
    }
   ],
   "source": [
    "# 4차원 데이터 요소에 10 곱셈\n",
    "forth = np.array([[[[1,2,3],[1,2,3]],[[1,2,3], [1,2,3]]],\n",
    "                 [[[1,2,3],[1,2,3]],[[1,2,3], [1,2,3]]]])\n",
    "print(forth.ndim, forth.shape)"
   ]
  },
  {
   "cell_type": "code",
   "execution_count": 108,
   "id": "60f11187",
   "metadata": {},
   "outputs": [
    {
     "data": {
      "text/plain": [
       "array([[[[10, 20, 30],\n",
       "         [10, 20, 30]],\n",
       "\n",
       "        [[10, 20, 30],\n",
       "         [10, 20, 30]]],\n",
       "\n",
       "\n",
       "       [[[10, 20, 30],\n",
       "         [10, 20, 30]],\n",
       "\n",
       "        [[10, 20, 30],\n",
       "         [10, 20, 30]]]])"
      ]
     },
     "execution_count": 108,
     "metadata": {},
     "output_type": "execute_result"
    }
   ],
   "source": [
    "forth * 10"
   ]
  },
  {
   "cell_type": "code",
   "execution_count": 110,
   "id": "7322a51b",
   "metadata": {},
   "outputs": [
    {
     "name": "stdout",
     "output_type": "stream",
     "text": [
      "5 (2, 2, 2, 2, 3)\n"
     ]
    }
   ],
   "source": [
    "# 5차원 데이터 요소에 10 곱셈\n",
    "fifth = np.array([[[[[1,2,3],[1,2,3]],[[1,2,3], [1,2,3]]],\n",
    "                 [[[1,2,3],[1,2,3]],[[1,2,3], [1,2,3]]]],\n",
    "                 [[[[1,2,3],[1,2,3]],[[1,2,3], [1,2,3]]],\n",
    "                 [[[1,2,3],[1,2,3]],[[1,2,3], [1,2,3]]]]])\n",
    "print(fifth.ndim, fifth.shape)"
   ]
  },
  {
   "cell_type": "code",
   "execution_count": 113,
   "id": "e0f66d9c",
   "metadata": {},
   "outputs": [
    {
     "data": {
      "text/plain": [
       "array([[[[[10, 20, 30],\n",
       "          [10, 20, 30]],\n",
       "\n",
       "         [[10, 20, 30],\n",
       "          [10, 20, 30]]],\n",
       "\n",
       "\n",
       "        [[[10, 20, 30],\n",
       "          [10, 20, 30]],\n",
       "\n",
       "         [[10, 20, 30],\n",
       "          [10, 20, 30]]]],\n",
       "\n",
       "\n",
       "\n",
       "       [[[[10, 20, 30],\n",
       "          [10, 20, 30]],\n",
       "\n",
       "         [[10, 20, 30],\n",
       "          [10, 20, 30]]],\n",
       "\n",
       "\n",
       "        [[[10, 20, 30],\n",
       "          [10, 20, 30]],\n",
       "\n",
       "         [[10, 20, 30],\n",
       "          [10, 20, 30]]]]])"
      ]
     },
     "execution_count": 113,
     "metadata": {},
     "output_type": "execute_result"
    }
   ],
   "source": [
    "fifth * 10"
   ]
  },
  {
   "cell_type": "markdown",
   "id": "00762d0c",
   "metadata": {},
   "source": [
    "# Numpy에서 자주 사용하는 메서드\n",
    "- .ndim : 몇 차원인지 확인\n",
    "- .shape : 몇 차원, 몇행, 몇열로 되어 있는지 구조 확인\n",
    "- .size : 배열 안에 있는 요소의 총 개수가 몇 개인지 확인\n",
    "- .dtype : 데이터 타입이 무엇인지 확인"
   ]
  },
  {
   "cell_type": "code",
   "execution_count": 114,
   "id": "383b94e5",
   "metadata": {},
   "outputs": [
    {
     "name": "stdout",
     "output_type": "stream",
     "text": [
      "5\n",
      "(2, 2, 2, 2, 3)\n",
      "48\n",
      "int64\n"
     ]
    }
   ],
   "source": [
    "print(fifth.ndim)\n",
    "print(fifth.shape)\n",
    "print(fifth.size)\n",
    "print(fifth.dtype)"
   ]
  },
  {
   "cell_type": "code",
   "execution_count": 119,
   "id": "b703a5a4",
   "metadata": {},
   "outputs": [],
   "source": [
    "# fifth / 2\n"
   ]
  },
  {
   "cell_type": "markdown",
   "id": "b540b0de",
   "metadata": {},
   "source": [
    "# ndarray 생성\n",
    "- numpy의 기본 자료형 ndarray\n",
    "- np.array(리스트/튜플)\n",
    "- 자료형은 반드시 1가지만 넣기\n"
   ]
  },
  {
   "cell_type": "code",
   "execution_count": 121,
   "id": "8f0d1240",
   "metadata": {},
   "outputs": [
    {
     "data": {
      "text/plain": [
       "array([1, 2, 3, 4, 5])"
      ]
     },
     "execution_count": 121,
     "metadata": {},
     "output_type": "execute_result"
    }
   ],
   "source": [
    "np.array([1,2,3,4,5])"
   ]
  },
  {
   "cell_type": "code",
   "execution_count": 122,
   "id": "aba145ba",
   "metadata": {},
   "outputs": [
    {
     "name": "stdout",
     "output_type": "stream",
     "text": [
      "1 2 3 4 5\n"
     ]
    }
   ],
   "source": [
    "print(*[1,2,3,4,5])"
   ]
  },
  {
   "cell_type": "code",
   "execution_count": 123,
   "id": "76480c30",
   "metadata": {},
   "outputs": [
    {
     "data": {
      "text/plain": [
       "array([1, 2, 3, 4, 5])"
      ]
     },
     "execution_count": 123,
     "metadata": {},
     "output_type": "execute_result"
    }
   ],
   "source": [
    "e = np.array((1,2,3,4,5))\n",
    "e"
   ]
  },
  {
   "cell_type": "code",
   "execution_count": 131,
   "id": "b6d972e6",
   "metadata": {},
   "outputs": [
    {
     "data": {
      "text/plain": [
       "dtype('float64')"
      ]
     },
     "execution_count": 131,
     "metadata": {},
     "output_type": "execute_result"
    }
   ],
   "source": [
    "e = np.array((1,2,3.14,4,5))\n",
    "e.dtype"
   ]
  },
  {
   "cell_type": "code",
   "execution_count": 127,
   "id": "652f184a",
   "metadata": {},
   "outputs": [
    {
     "name": "stdout",
     "output_type": "stream",
     "text": [
      "['True' '1' '2' '3.14' '4' '5']\n"
     ]
    },
    {
     "data": {
      "text/plain": [
       "dtype('<U32')"
      ]
     },
     "execution_count": 127,
     "metadata": {},
     "output_type": "execute_result"
    }
   ],
   "source": [
    "e3 = np.array((True, 1,2,3.14, '4',5))\n",
    "print(e3)\n",
    "e3.dtype"
   ]
  },
  {
   "cell_type": "markdown",
   "id": "f461821f",
   "metadata": {},
   "source": [
    "- np.arange(시작, 끝, step)\n"
   ]
  },
  {
   "cell_type": "code",
   "execution_count": 134,
   "id": "582026b3",
   "metadata": {},
   "outputs": [
    {
     "data": {
      "text/plain": [
       "array([1, 3, 5, 7, 9])"
      ]
     },
     "execution_count": 134,
     "metadata": {},
     "output_type": "execute_result"
    }
   ],
   "source": [
    "a = np.arange(1,11,2)\n",
    "a"
   ]
  },
  {
   "cell_type": "code",
   "execution_count": 135,
   "id": "538d307a",
   "metadata": {},
   "outputs": [
    {
     "data": {
      "text/plain": [
       "array([  1,   2,   3,   4,   5,   6,   7,   8,   9,  10,  11,  12,  13,\n",
       "        14,  15,  16,  17,  18,  19,  20,  21,  22,  23,  24,  25,  26,\n",
       "        27,  28,  29,  30,  31,  32,  33,  34,  35,  36,  37,  38,  39,\n",
       "        40,  41,  42,  43,  44,  45,  46,  47,  48,  49,  50,  51,  52,\n",
       "        53,  54,  55,  56,  57,  58,  59,  60,  61,  62,  63,  64,  65,\n",
       "        66,  67,  68,  69,  70,  71,  72,  73,  74,  75,  76,  77,  78,\n",
       "        79,  80,  81,  82,  83,  84,  85,  86,  87,  88,  89,  90,  91,\n",
       "        92,  93,  94,  95,  96,  97,  98,  99, 100])"
      ]
     },
     "execution_count": 135,
     "metadata": {},
     "output_type": "execute_result"
    }
   ],
   "source": [
    "a3 = np.arange(1,101)\n",
    "a3"
   ]
  },
  {
   "cell_type": "code",
   "execution_count": 137,
   "id": "ef177f66",
   "metadata": {},
   "outputs": [
    {
     "name": "stdout",
     "output_type": "stream",
     "text": [
      "1\n",
      "(100,)\n",
      "2\n",
      "(20, 5)\n"
     ]
    }
   ],
   "source": [
    "# .reshape(행, 열) : 벡터를 원하는 크기의 matrix 또는 다차원 배열로 변환\n",
    "print(a3.ndim)\n",
    "print(a3.shape)\n",
    "\n",
    "a4 = a3.reshape(20,5)\n",
    "print(a4.ndim)\n",
    "print(a4.shape)"
   ]
  },
  {
   "cell_type": "code",
   "execution_count": 141,
   "id": "eba123e6",
   "metadata": {},
   "outputs": [
    {
     "name": "stdout",
     "output_type": "stream",
     "text": [
      "3\n",
      "(5, 4, 5)\n"
     ]
    }
   ],
   "source": [
    "a5 = a3.reshape(5,4,5)\n",
    "print(a5.ndim)\n",
    "print(a5.shape)"
   ]
  },
  {
   "cell_type": "code",
   "execution_count": 144,
   "id": "3670a884",
   "metadata": {},
   "outputs": [
    {
     "name": "stdout",
     "output_type": "stream",
     "text": [
      "2\n",
      "(4, 25)\n"
     ]
    },
    {
     "data": {
      "text/plain": [
       "array([[  1,   2,   3,   4,   5,   6,   7,   8,   9,  10,  11,  12,  13,\n",
       "         14,  15,  16,  17,  18,  19,  20,  21,  22,  23,  24,  25],\n",
       "       [ 26,  27,  28,  29,  30,  31,  32,  33,  34,  35,  36,  37,  38,\n",
       "         39,  40,  41,  42,  43,  44,  45,  46,  47,  48,  49,  50],\n",
       "       [ 51,  52,  53,  54,  55,  56,  57,  58,  59,  60,  61,  62,  63,\n",
       "         64,  65,  66,  67,  68,  69,  70,  71,  72,  73,  74,  75],\n",
       "       [ 76,  77,  78,  79,  80,  81,  82,  83,  84,  85,  86,  87,  88,\n",
       "         89,  90,  91,  92,  93,  94,  95,  96,  97,  98,  99, 100]])"
      ]
     },
     "execution_count": 144,
     "metadata": {},
     "output_type": "execute_result"
    }
   ],
   "source": [
    "a6 = a3.reshape(4, 25)\n",
    "print(a6.ndim)\n",
    "print(a6.shape)\n",
    "a6"
   ]
  },
  {
   "cell_type": "code",
   "execution_count": 145,
   "id": "645145b9",
   "metadata": {},
   "outputs": [
    {
     "data": {
      "text/plain": [
       "array([[[[ 0,  1],\n",
       "         [ 2,  3]],\n",
       "\n",
       "        [[ 4,  5],\n",
       "         [ 6,  7]]],\n",
       "\n",
       "\n",
       "       [[[ 8,  9],\n",
       "         [10, 11]],\n",
       "\n",
       "        [[12, 13],\n",
       "         [14, 15]]],\n",
       "\n",
       "\n",
       "       [[[16, 17],\n",
       "         [18, 19]],\n",
       "\n",
       "        [[20, 21],\n",
       "         [22, 23]]]])"
      ]
     },
     "execution_count": 145,
     "metadata": {},
     "output_type": "execute_result"
    }
   ],
   "source": [
    "# flatten() : 다차원 배열을 1차원으로 펼쳐줌\n",
    "a7 = np.arange(24)\n",
    "a7 = a7.reshape(3,2,2,2)\n",
    "a7"
   ]
  },
  {
   "cell_type": "code",
   "execution_count": 150,
   "id": "6ab4d639",
   "metadata": {},
   "outputs": [
    {
     "name": "stdout",
     "output_type": "stream",
     "text": [
      "1\n",
      "(24,)\n"
     ]
    }
   ],
   "source": [
    "a72 = a7.flatten()\n",
    "print(a72.ndim)\n",
    "print(a72.shape)"
   ]
  },
  {
   "cell_type": "code",
   "execution_count": 153,
   "id": "f5ef0f0f",
   "metadata": {},
   "outputs": [
    {
     "data": {
      "text/plain": [
       "array([[[[23, 22],\n",
       "         [21, 20]],\n",
       "\n",
       "        [[19, 18],\n",
       "         [17, 16]]],\n",
       "\n",
       "\n",
       "       [[[15, 14],\n",
       "         [13, 12]],\n",
       "\n",
       "        [[11, 10],\n",
       "         [ 9,  8]]],\n",
       "\n",
       "\n",
       "       [[[ 7,  6],\n",
       "         [ 5,  4]],\n",
       "\n",
       "        [[ 3,  2],\n",
       "         [ 1,  0]]]])"
      ]
     },
     "execution_count": 153,
     "metadata": {},
     "output_type": "execute_result"
    }
   ],
   "source": [
    "# np.flip() : 행렬의 순서 뒤집는 경우\n",
    "a73 = a72.reshape(3,2,2,2)\n",
    "np.flip(a73)"
   ]
  },
  {
   "cell_type": "code",
   "execution_count": 155,
   "id": "8e9b480a",
   "metadata": {},
   "outputs": [
    {
     "data": {
      "text/plain": [
       "array([[[16, 17],\n",
       "        [18, 19]],\n",
       "\n",
       "       [[20, 21],\n",
       "        [22, 23]]])"
      ]
     },
     "execution_count": 155,
     "metadata": {},
     "output_type": "execute_result"
    }
   ],
   "source": [
    "a73[-1]"
   ]
  },
  {
   "cell_type": "code",
   "execution_count": 160,
   "id": "42e039e0",
   "metadata": {},
   "outputs": [
    {
     "data": {
      "text/plain": [
       "array([ 1.        ,  1.01672862,  1.03345725,  1.05018587,  1.0669145 ,\n",
       "        1.08364312,  1.10037175,  1.11710037,  1.133829  ,  1.15055762,\n",
       "        1.16728625,  1.18401487,  1.20074349,  1.21747212,  1.23420074,\n",
       "        1.25092937,  1.26765799,  1.28438662,  1.30111524,  1.31784387,\n",
       "        1.33457249,  1.35130112,  1.36802974,  1.38475836,  1.40148699,\n",
       "        1.41821561,  1.43494424,  1.45167286,  1.46840149,  1.48513011,\n",
       "        1.50185874,  1.51858736,  1.53531599,  1.55204461,  1.56877323,\n",
       "        1.58550186,  1.60223048,  1.61895911,  1.63568773,  1.65241636,\n",
       "        1.66914498,  1.68587361,  1.70260223,  1.71933086,  1.73605948,\n",
       "        1.7527881 ,  1.76951673,  1.78624535,  1.80297398,  1.8197026 ,\n",
       "        1.83643123,  1.85315985,  1.86988848,  1.8866171 ,  1.90334572,\n",
       "        1.92007435,  1.93680297,  1.9535316 ,  1.97026022,  1.98698885,\n",
       "        2.00371747,  2.0204461 ,  2.03717472,  2.05390335,  2.07063197,\n",
       "        2.08736059,  2.10408922,  2.12081784,  2.13754647,  2.15427509,\n",
       "        2.17100372,  2.18773234,  2.20446097,  2.22118959,  2.23791822,\n",
       "        2.25464684,  2.27137546,  2.28810409,  2.30483271,  2.32156134,\n",
       "        2.33828996,  2.35501859,  2.37174721,  2.38847584,  2.40520446,\n",
       "        2.42193309,  2.43866171,  2.45539033,  2.47211896,  2.48884758,\n",
       "        2.50557621,  2.52230483,  2.53903346,  2.55576208,  2.57249071,\n",
       "        2.58921933,  2.60594796,  2.62267658,  2.6394052 ,  2.65613383,\n",
       "        2.67286245,  2.68959108,  2.7063197 ,  2.72304833,  2.73977695,\n",
       "        2.75650558,  2.7732342 ,  2.78996283,  2.80669145,  2.82342007,\n",
       "        2.8401487 ,  2.85687732,  2.87360595,  2.89033457,  2.9070632 ,\n",
       "        2.92379182,  2.94052045,  2.95724907,  2.9739777 ,  2.99070632,\n",
       "        3.00743494,  3.02416357,  3.04089219,  3.05762082,  3.07434944,\n",
       "        3.09107807,  3.10780669,  3.12453532,  3.14126394,  3.15799257,\n",
       "        3.17472119,  3.19144981,  3.20817844,  3.22490706,  3.24163569,\n",
       "        3.25836431,  3.27509294,  3.29182156,  3.30855019,  3.32527881,\n",
       "        3.34200743,  3.35873606,  3.37546468,  3.39219331,  3.40892193,\n",
       "        3.42565056,  3.44237918,  3.45910781,  3.47583643,  3.49256506,\n",
       "        3.50929368,  3.5260223 ,  3.54275093,  3.55947955,  3.57620818,\n",
       "        3.5929368 ,  3.60966543,  3.62639405,  3.64312268,  3.6598513 ,\n",
       "        3.67657993,  3.69330855,  3.71003717,  3.7267658 ,  3.74349442,\n",
       "        3.76022305,  3.77695167,  3.7936803 ,  3.81040892,  3.82713755,\n",
       "        3.84386617,  3.8605948 ,  3.87732342,  3.89405204,  3.91078067,\n",
       "        3.92750929,  3.94423792,  3.96096654,  3.97769517,  3.99442379,\n",
       "        4.01115242,  4.02788104,  4.04460967,  4.06133829,  4.07806691,\n",
       "        4.09479554,  4.11152416,  4.12825279,  4.14498141,  4.16171004,\n",
       "        4.17843866,  4.19516729,  4.21189591,  4.22862454,  4.24535316,\n",
       "        4.26208178,  4.27881041,  4.29553903,  4.31226766,  4.32899628,\n",
       "        4.34572491,  4.36245353,  4.37918216,  4.39591078,  4.41263941,\n",
       "        4.42936803,  4.44609665,  4.46282528,  4.4795539 ,  4.49628253,\n",
       "        4.51301115,  4.52973978,  4.5464684 ,  4.56319703,  4.57992565,\n",
       "        4.59665428,  4.6133829 ,  4.63011152,  4.64684015,  4.66356877,\n",
       "        4.6802974 ,  4.69702602,  4.71375465,  4.73048327,  4.7472119 ,\n",
       "        4.76394052,  4.78066914,  4.79739777,  4.81412639,  4.83085502,\n",
       "        4.84758364,  4.86431227,  4.88104089,  4.89776952,  4.91449814,\n",
       "        4.93122677,  4.94795539,  4.96468401,  4.98141264,  4.99814126,\n",
       "        5.01486989,  5.03159851,  5.04832714,  5.06505576,  5.08178439,\n",
       "        5.09851301,  5.11524164,  5.13197026,  5.14869888,  5.16542751,\n",
       "        5.18215613,  5.19888476,  5.21561338,  5.23234201,  5.24907063,\n",
       "        5.26579926,  5.28252788,  5.29925651,  5.31598513,  5.33271375,\n",
       "        5.34944238,  5.366171  ,  5.38289963,  5.39962825,  5.41635688,\n",
       "        5.4330855 ,  5.44981413,  5.46654275,  5.48327138,  5.5       ,\n",
       "        5.51672862,  5.53345725,  5.55018587,  5.5669145 ,  5.58364312,\n",
       "        5.60037175,  5.61710037,  5.633829  ,  5.65055762,  5.66728625,\n",
       "        5.68401487,  5.70074349,  5.71747212,  5.73420074,  5.75092937,\n",
       "        5.76765799,  5.78438662,  5.80111524,  5.81784387,  5.83457249,\n",
       "        5.85130112,  5.86802974,  5.88475836,  5.90148699,  5.91821561,\n",
       "        5.93494424,  5.95167286,  5.96840149,  5.98513011,  6.00185874,\n",
       "        6.01858736,  6.03531599,  6.05204461,  6.06877323,  6.08550186,\n",
       "        6.10223048,  6.11895911,  6.13568773,  6.15241636,  6.16914498,\n",
       "        6.18587361,  6.20260223,  6.21933086,  6.23605948,  6.2527881 ,\n",
       "        6.26951673,  6.28624535,  6.30297398,  6.3197026 ,  6.33643123,\n",
       "        6.35315985,  6.36988848,  6.3866171 ,  6.40334572,  6.42007435,\n",
       "        6.43680297,  6.4535316 ,  6.47026022,  6.48698885,  6.50371747,\n",
       "        6.5204461 ,  6.53717472,  6.55390335,  6.57063197,  6.58736059,\n",
       "        6.60408922,  6.62081784,  6.63754647,  6.65427509,  6.67100372,\n",
       "        6.68773234,  6.70446097,  6.72118959,  6.73791822,  6.75464684,\n",
       "        6.77137546,  6.78810409,  6.80483271,  6.82156134,  6.83828996,\n",
       "        6.85501859,  6.87174721,  6.88847584,  6.90520446,  6.92193309,\n",
       "        6.93866171,  6.95539033,  6.97211896,  6.98884758,  7.00557621,\n",
       "        7.02230483,  7.03903346,  7.05576208,  7.07249071,  7.08921933,\n",
       "        7.10594796,  7.12267658,  7.1394052 ,  7.15613383,  7.17286245,\n",
       "        7.18959108,  7.2063197 ,  7.22304833,  7.23977695,  7.25650558,\n",
       "        7.2732342 ,  7.28996283,  7.30669145,  7.32342007,  7.3401487 ,\n",
       "        7.35687732,  7.37360595,  7.39033457,  7.4070632 ,  7.42379182,\n",
       "        7.44052045,  7.45724907,  7.4739777 ,  7.49070632,  7.50743494,\n",
       "        7.52416357,  7.54089219,  7.55762082,  7.57434944,  7.59107807,\n",
       "        7.60780669,  7.62453532,  7.64126394,  7.65799257,  7.67472119,\n",
       "        7.69144981,  7.70817844,  7.72490706,  7.74163569,  7.75836431,\n",
       "        7.77509294,  7.79182156,  7.80855019,  7.82527881,  7.84200743,\n",
       "        7.85873606,  7.87546468,  7.89219331,  7.90892193,  7.92565056,\n",
       "        7.94237918,  7.95910781,  7.97583643,  7.99256506,  8.00929368,\n",
       "        8.0260223 ,  8.04275093,  8.05947955,  8.07620818,  8.0929368 ,\n",
       "        8.10966543,  8.12639405,  8.14312268,  8.1598513 ,  8.17657993,\n",
       "        8.19330855,  8.21003717,  8.2267658 ,  8.24349442,  8.26022305,\n",
       "        8.27695167,  8.2936803 ,  8.31040892,  8.32713755,  8.34386617,\n",
       "        8.3605948 ,  8.37732342,  8.39405204,  8.41078067,  8.42750929,\n",
       "        8.44423792,  8.46096654,  8.47769517,  8.49442379,  8.51115242,\n",
       "        8.52788104,  8.54460967,  8.56133829,  8.57806691,  8.59479554,\n",
       "        8.61152416,  8.62825279,  8.64498141,  8.66171004,  8.67843866,\n",
       "        8.69516729,  8.71189591,  8.72862454,  8.74535316,  8.76208178,\n",
       "        8.77881041,  8.79553903,  8.81226766,  8.82899628,  8.84572491,\n",
       "        8.86245353,  8.87918216,  8.89591078,  8.91263941,  8.92936803,\n",
       "        8.94609665,  8.96282528,  8.9795539 ,  8.99628253,  9.01301115,\n",
       "        9.02973978,  9.0464684 ,  9.06319703,  9.07992565,  9.09665428,\n",
       "        9.1133829 ,  9.13011152,  9.14684015,  9.16356877,  9.1802974 ,\n",
       "        9.19702602,  9.21375465,  9.23048327,  9.2472119 ,  9.26394052,\n",
       "        9.28066914,  9.29739777,  9.31412639,  9.33085502,  9.34758364,\n",
       "        9.36431227,  9.38104089,  9.39776952,  9.41449814,  9.43122677,\n",
       "        9.44795539,  9.46468401,  9.48141264,  9.49814126,  9.51486989,\n",
       "        9.53159851,  9.54832714,  9.56505576,  9.58178439,  9.59851301,\n",
       "        9.61524164,  9.63197026,  9.64869888,  9.66542751,  9.68215613,\n",
       "        9.69888476,  9.71561338,  9.73234201,  9.74907063,  9.76579926,\n",
       "        9.78252788,  9.79925651,  9.81598513,  9.83271375,  9.84944238,\n",
       "        9.866171  ,  9.88289963,  9.89962825,  9.91635688,  9.9330855 ,\n",
       "        9.94981413,  9.96654275,  9.98327138, 10.        ])"
      ]
     },
     "execution_count": 160,
     "metadata": {},
     "output_type": "execute_result"
    }
   ],
   "source": [
    "# np.linspace(시작, 끝, 구간 수) : 정해진 숫자 범위 안에서 균등한 구간을 나누는 경우\n",
    "np.linspace(1,10, 539)"
   ]
  },
  {
   "cell_type": "code",
   "execution_count": 163,
   "id": "804d947a",
   "metadata": {},
   "outputs": [
    {
     "data": {
      "text/plain": [
       "array([0.        , 0.08333333, 0.16666667, 0.25      , 0.33333333,\n",
       "       0.41666667, 0.5       , 0.58333333, 0.66666667, 0.75      ,\n",
       "       0.83333333, 0.91666667, 1.        ])"
      ]
     },
     "execution_count": 163,
     "metadata": {},
     "output_type": "execute_result"
    }
   ],
   "source": [
    "np.linspace(0,1, 13)"
   ]
  },
  {
   "cell_type": "code",
   "execution_count": 164,
   "id": "6d550304",
   "metadata": {},
   "outputs": [
    {
     "data": {
      "text/plain": [
       "array([ 5. ,  7. , 11. ,  1. ,  3. ,  2. , 54. ,  0. ,  0.5, 68. ])"
      ]
     },
     "execution_count": 164,
     "metadata": {},
     "output_type": "execute_result"
    }
   ],
   "source": [
    "# 정렬, .sort(), sorted()\n",
    "f =np.array([5,7,11,1,3,2,54,0,0.5,68])\n",
    "f"
   ]
  },
  {
   "cell_type": "code",
   "execution_count": 167,
   "id": "dd4115ba",
   "metadata": {},
   "outputs": [
    {
     "data": {
      "text/plain": [
       "array([ 0. ,  0.5,  1. ,  2. ,  3. ,  5. ,  7. , 11. , 54. , 68. ])"
      ]
     },
     "execution_count": 167,
     "metadata": {},
     "output_type": "execute_result"
    }
   ],
   "source": [
    "f.sort() # 저장하지 않아도 자동으로 저장되메\n",
    "f"
   ]
  },
  {
   "cell_type": "code",
   "execution_count": 169,
   "id": "2ab9adfd",
   "metadata": {},
   "outputs": [
    {
     "data": {
      "text/plain": [
       "[np.float64(0.0),\n",
       " np.float64(0.5),\n",
       " np.float64(1.0),\n",
       " np.float64(2.0),\n",
       " np.float64(3.0),\n",
       " np.float64(5.0),\n",
       " np.float64(7.0),\n",
       " np.float64(11.0),\n",
       " np.float64(54.0),\n",
       " np.float64(68.0)]"
      ]
     },
     "execution_count": 169,
     "metadata": {},
     "output_type": "execute_result"
    }
   ],
   "source": [
    "# 저장하고 싶지 않다면 sorted 활용\n",
    "sorted(f)"
   ]
  },
  {
   "cell_type": "code",
   "execution_count": 171,
   "id": "69edaf5a",
   "metadata": {},
   "outputs": [
    {
     "data": {
      "text/plain": [
       "[np.float64(68.0),\n",
       " np.float64(54.0),\n",
       " np.float64(11.0),\n",
       " np.float64(7.0),\n",
       " np.float64(5.0),\n",
       " np.float64(3.0),\n",
       " np.float64(2.0),\n",
       " np.float64(1.0),\n",
       " np.float64(0.5),\n",
       " np.float64(0.0)]"
      ]
     },
     "execution_count": 171,
     "metadata": {},
     "output_type": "execute_result"
    }
   ],
   "source": [
    "sorted(f, reverse=True)"
   ]
  },
  {
   "cell_type": "code",
   "execution_count": 178,
   "id": "85426ded",
   "metadata": {},
   "outputs": [
    {
     "data": {
      "text/plain": [
       "array([[ 0. ,  0.5,  1. ,  2. ,  3. ],\n",
       "       [ 5. ,  7. , 11. , 54. , 68. ]])"
      ]
     },
     "execution_count": 178,
     "metadata": {},
     "output_type": "execute_result"
    }
   ],
   "source": [
    "f = f.reshape(2,5)\n",
    "f.sort()\n",
    "f"
   ]
  },
  {
   "cell_type": "code",
   "execution_count": 179,
   "id": "77fa3011",
   "metadata": {},
   "outputs": [
    {
     "name": "stdout",
     "output_type": "stream",
     "text": [
      "[ 5.   0.5 -7.  42.  10.   0. ]\n"
     ]
    }
   ],
   "source": [
    "# argsort() : 자료 중 값이 작은 것에서 큰 순으로 원래 인덱스 출력\n",
    "g = np.array([5,0.5, -7, 42,10,0])\n",
    "print(g)"
   ]
  },
  {
   "cell_type": "code",
   "execution_count": 181,
   "id": "edce69e9",
   "metadata": {},
   "outputs": [
    {
     "data": {
      "text/plain": [
       "array([2, 5, 1, 0, 4, 3])"
      ]
     },
     "execution_count": 181,
     "metadata": {},
     "output_type": "execute_result"
    }
   ],
   "source": [
    "# 2,5,1,0,4,3\n",
    "s = g.argsort()\n",
    "s"
   ]
  },
  {
   "cell_type": "code",
   "execution_count": 184,
   "id": "490be9f6",
   "metadata": {},
   "outputs": [
    {
     "data": {
      "text/plain": [
       "array([42. , 10. ,  5. ,  0.5,  0. , -7. ])"
      ]
     },
     "execution_count": 184,
     "metadata": {},
     "output_type": "execute_result"
    }
   ],
   "source": [
    "g[s][::-1]"
   ]
  },
  {
   "cell_type": "code",
   "execution_count": null,
   "id": "bf4f5d06",
   "metadata": {},
   "outputs": [],
   "source": []
  },
  {
   "cell_type": "code",
   "execution_count": null,
   "id": "40cd3ca8",
   "metadata": {},
   "outputs": [],
   "source": []
  },
  {
   "cell_type": "code",
   "execution_count": null,
   "id": "ba381d01",
   "metadata": {},
   "outputs": [],
   "source": []
  }
 ],
 "metadata": {
  "kernelspec": {
   "display_name": "Python 3 (ipykernel)",
   "language": "python",
   "name": "python3"
  },
  "language_info": {
   "codemirror_mode": {
    "name": "ipython",
    "version": 3
   },
   "file_extension": ".py",
   "mimetype": "text/x-python",
   "name": "python",
   "nbconvert_exporter": "python",
   "pygments_lexer": "ipython3",
   "version": "3.9.21"
  }
 },
 "nbformat": 4,
 "nbformat_minor": 5
}
