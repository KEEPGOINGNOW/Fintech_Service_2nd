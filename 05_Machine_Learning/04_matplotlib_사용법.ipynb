{
 "cells": [
  {
   "cell_type": "markdown",
   "id": "3fd47e6b",
   "metadata": {},
   "source": [
    "# Matplotlib : 그래프 그리는 경우 사용\n",
    "- https://matplotlib.org/stable/users/getting_started/\n",
    "- pip install matplotlib / conda install matplotlib\n",
    "- pip install seaborn\n",
    "- pip install koreanize-matplotlib"
   ]
  },
  {
   "cell_type": "markdown",
   "id": "a6a51f1e",
   "metadata": {},
   "source": [
    "# Seaborn\n",
    "- https://seaborn.pydata.org/tutorial.html"
   ]
  },
  {
   "cell_type": "markdown",
   "id": "ff29bb84",
   "metadata": {},
   "source": [
    "# Plotly\n",
    "- https://plotly.com/python/"
   ]
  },
  {
   "cell_type": "code",
   "execution_count": null,
   "id": "eff7fb0a",
   "metadata": {},
   "outputs": [],
   "source": []
  },
  {
   "cell_type": "code",
   "execution_count": null,
   "id": "69a30ce7",
   "metadata": {},
   "outputs": [],
   "source": []
  },
  {
   "cell_type": "code",
   "execution_count": null,
   "id": "4ace165a",
   "metadata": {},
   "outputs": [],
   "source": []
  }
 ],
 "metadata": {
  "kernelspec": {
   "display_name": "Python 3 (ipykernel)",
   "language": "python",
   "name": "python3"
  },
  "language_info": {
   "codemirror_mode": {
    "name": "ipython",
    "version": 3
   },
   "file_extension": ".py",
   "mimetype": "text/x-python",
   "name": "python",
   "nbconvert_exporter": "python",
   "pygments_lexer": "ipython3",
   "version": "3.9.21"
  }
 },
 "nbformat": 4,
 "nbformat_minor": 5
}
