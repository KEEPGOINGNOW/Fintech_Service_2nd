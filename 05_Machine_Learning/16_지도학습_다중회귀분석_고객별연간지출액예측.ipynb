{
 "cells": [
  {
   "cell_type": "markdown",
   "id": "c9ce1e61",
   "metadata": {},
   "source": [
    "# 지도학습_다중회귀분석_고객별연간지출액예측"
   ]
  },
  {
   "cell_type": "code",
   "execution_count": 36,
   "id": "e49aca42",
   "metadata": {},
   "outputs": [],
   "source": [
    "import pandas as pd\n",
    "import numpy as np\n",
    "import matplotlib.pyplot as plt\n",
    "import koreanize_matplotlib\n",
    "import seaborn as sns"
   ]
  },
  {
   "cell_type": "code",
   "execution_count": 10,
   "id": "0865ecee",
   "metadata": {},
   "outputs": [
    {
     "data": {
      "text/html": [
       "<div>\n",
       "<style scoped>\n",
       "    .dataframe tbody tr th:only-of-type {\n",
       "        vertical-align: middle;\n",
       "    }\n",
       "\n",
       "    .dataframe tbody tr th {\n",
       "        vertical-align: top;\n",
       "    }\n",
       "\n",
       "    .dataframe thead th {\n",
       "        text-align: right;\n",
       "    }\n",
       "</style>\n",
       "<table border=\"1\" class=\"dataframe\">\n",
       "  <thead>\n",
       "    <tr style=\"text-align: right;\">\n",
       "      <th></th>\n",
       "      <th>Email</th>\n",
       "      <th>Address</th>\n",
       "      <th>Avatar</th>\n",
       "      <th>Avg. Session Length</th>\n",
       "      <th>Time on App</th>\n",
       "      <th>Time on Website</th>\n",
       "      <th>Length of Membership</th>\n",
       "      <th>Yearly Amount Spent</th>\n",
       "    </tr>\n",
       "  </thead>\n",
       "  <tbody>\n",
       "    <tr>\n",
       "      <th>0</th>\n",
       "      <td>mstephenson@fernandez.com</td>\n",
       "      <td>835 Frank Tunnel\\nWrightmouth, MI 82180-9605</td>\n",
       "      <td>Violet</td>\n",
       "      <td>34.497268</td>\n",
       "      <td>12.655651</td>\n",
       "      <td>39.577668</td>\n",
       "      <td>4.082621</td>\n",
       "      <td>587.951054</td>\n",
       "    </tr>\n",
       "    <tr>\n",
       "      <th>1</th>\n",
       "      <td>hduke@hotmail.com</td>\n",
       "      <td>4547 Archer Common\\nDiazchester, CA 06566-8576</td>\n",
       "      <td>DarkGreen</td>\n",
       "      <td>31.926272</td>\n",
       "      <td>11.109461</td>\n",
       "      <td>37.268959</td>\n",
       "      <td>2.664034</td>\n",
       "      <td>392.204933</td>\n",
       "    </tr>\n",
       "    <tr>\n",
       "      <th>2</th>\n",
       "      <td>pallen@yahoo.com</td>\n",
       "      <td>24645 Valerie Unions Suite 582\\nCobbborough, D...</td>\n",
       "      <td>Bisque</td>\n",
       "      <td>33.000915</td>\n",
       "      <td>11.330278</td>\n",
       "      <td>37.110597</td>\n",
       "      <td>4.104543</td>\n",
       "      <td>487.547505</td>\n",
       "    </tr>\n",
       "    <tr>\n",
       "      <th>3</th>\n",
       "      <td>riverarebecca@gmail.com</td>\n",
       "      <td>1414 David Throughway\\nPort Jason, OH 22070-1220</td>\n",
       "      <td>SaddleBrown</td>\n",
       "      <td>34.305557</td>\n",
       "      <td>13.717514</td>\n",
       "      <td>36.721283</td>\n",
       "      <td>3.120179</td>\n",
       "      <td>581.852344</td>\n",
       "    </tr>\n",
       "    <tr>\n",
       "      <th>4</th>\n",
       "      <td>mstephens@davidson-herman.com</td>\n",
       "      <td>14023 Rodriguez Passage\\nPort Jacobville, PR 3...</td>\n",
       "      <td>MediumAquaMarine</td>\n",
       "      <td>33.330673</td>\n",
       "      <td>12.795189</td>\n",
       "      <td>37.536653</td>\n",
       "      <td>4.446308</td>\n",
       "      <td>599.406092</td>\n",
       "    </tr>\n",
       "    <tr>\n",
       "      <th>...</th>\n",
       "      <td>...</td>\n",
       "      <td>...</td>\n",
       "      <td>...</td>\n",
       "      <td>...</td>\n",
       "      <td>...</td>\n",
       "      <td>...</td>\n",
       "      <td>...</td>\n",
       "      <td>...</td>\n",
       "    </tr>\n",
       "    <tr>\n",
       "      <th>495</th>\n",
       "      <td>lewisjessica@craig-evans.com</td>\n",
       "      <td>4483 Jones Motorway Suite 872\\nLake Jamiefurt,...</td>\n",
       "      <td>Tan</td>\n",
       "      <td>33.237660</td>\n",
       "      <td>13.566160</td>\n",
       "      <td>36.417985</td>\n",
       "      <td>3.746573</td>\n",
       "      <td>573.847438</td>\n",
       "    </tr>\n",
       "    <tr>\n",
       "      <th>496</th>\n",
       "      <td>katrina56@gmail.com</td>\n",
       "      <td>172 Owen Divide Suite 497\\nWest Richard, CA 19320</td>\n",
       "      <td>PaleVioletRed</td>\n",
       "      <td>34.702529</td>\n",
       "      <td>11.695736</td>\n",
       "      <td>37.190268</td>\n",
       "      <td>3.576526</td>\n",
       "      <td>529.049004</td>\n",
       "    </tr>\n",
       "    <tr>\n",
       "      <th>497</th>\n",
       "      <td>dale88@hotmail.com</td>\n",
       "      <td>0787 Andrews Ranch Apt. 633\\nSouth Chadburgh, ...</td>\n",
       "      <td>Cornsilk</td>\n",
       "      <td>32.646777</td>\n",
       "      <td>11.499409</td>\n",
       "      <td>38.332576</td>\n",
       "      <td>4.958264</td>\n",
       "      <td>551.620145</td>\n",
       "    </tr>\n",
       "    <tr>\n",
       "      <th>498</th>\n",
       "      <td>cwilson@hotmail.com</td>\n",
       "      <td>680 Jennifer Lodge Apt. 808\\nBrendachester, TX...</td>\n",
       "      <td>Teal</td>\n",
       "      <td>33.322501</td>\n",
       "      <td>12.391423</td>\n",
       "      <td>36.840086</td>\n",
       "      <td>2.336485</td>\n",
       "      <td>456.469510</td>\n",
       "    </tr>\n",
       "    <tr>\n",
       "      <th>499</th>\n",
       "      <td>hannahwilson@davidson.com</td>\n",
       "      <td>49791 Rachel Heights Apt. 898\\nEast Drewboroug...</td>\n",
       "      <td>DarkMagenta</td>\n",
       "      <td>33.715981</td>\n",
       "      <td>12.418808</td>\n",
       "      <td>35.771016</td>\n",
       "      <td>2.735160</td>\n",
       "      <td>497.778642</td>\n",
       "    </tr>\n",
       "  </tbody>\n",
       "</table>\n",
       "<p>500 rows × 8 columns</p>\n",
       "</div>"
      ],
      "text/plain": [
       "                             Email  \\\n",
       "0        mstephenson@fernandez.com   \n",
       "1                hduke@hotmail.com   \n",
       "2                 pallen@yahoo.com   \n",
       "3          riverarebecca@gmail.com   \n",
       "4    mstephens@davidson-herman.com   \n",
       "..                             ...   \n",
       "495   lewisjessica@craig-evans.com   \n",
       "496            katrina56@gmail.com   \n",
       "497             dale88@hotmail.com   \n",
       "498            cwilson@hotmail.com   \n",
       "499      hannahwilson@davidson.com   \n",
       "\n",
       "                                               Address            Avatar  \\\n",
       "0         835 Frank Tunnel\\nWrightmouth, MI 82180-9605            Violet   \n",
       "1       4547 Archer Common\\nDiazchester, CA 06566-8576         DarkGreen   \n",
       "2    24645 Valerie Unions Suite 582\\nCobbborough, D...            Bisque   \n",
       "3     1414 David Throughway\\nPort Jason, OH 22070-1220       SaddleBrown   \n",
       "4    14023 Rodriguez Passage\\nPort Jacobville, PR 3...  MediumAquaMarine   \n",
       "..                                                 ...               ...   \n",
       "495  4483 Jones Motorway Suite 872\\nLake Jamiefurt,...               Tan   \n",
       "496  172 Owen Divide Suite 497\\nWest Richard, CA 19320     PaleVioletRed   \n",
       "497  0787 Andrews Ranch Apt. 633\\nSouth Chadburgh, ...          Cornsilk   \n",
       "498  680 Jennifer Lodge Apt. 808\\nBrendachester, TX...              Teal   \n",
       "499  49791 Rachel Heights Apt. 898\\nEast Drewboroug...       DarkMagenta   \n",
       "\n",
       "     Avg. Session Length  Time on App  Time on Website  Length of Membership  \\\n",
       "0              34.497268    12.655651        39.577668              4.082621   \n",
       "1              31.926272    11.109461        37.268959              2.664034   \n",
       "2              33.000915    11.330278        37.110597              4.104543   \n",
       "3              34.305557    13.717514        36.721283              3.120179   \n",
       "4              33.330673    12.795189        37.536653              4.446308   \n",
       "..                   ...          ...              ...                   ...   \n",
       "495            33.237660    13.566160        36.417985              3.746573   \n",
       "496            34.702529    11.695736        37.190268              3.576526   \n",
       "497            32.646777    11.499409        38.332576              4.958264   \n",
       "498            33.322501    12.391423        36.840086              2.336485   \n",
       "499            33.715981    12.418808        35.771016              2.735160   \n",
       "\n",
       "     Yearly Amount Spent  \n",
       "0             587.951054  \n",
       "1             392.204933  \n",
       "2             487.547505  \n",
       "3             581.852344  \n",
       "4             599.406092  \n",
       "..                   ...  \n",
       "495           573.847438  \n",
       "496           529.049004  \n",
       "497           551.620145  \n",
       "498           456.469510  \n",
       "499           497.778642  \n",
       "\n",
       "[500 rows x 8 columns]"
      ]
     },
     "execution_count": 10,
     "metadata": {},
     "output_type": "execute_result"
    }
   ],
   "source": [
    "data = pd.read_csv('./data/ecommerce.csv')\n",
    "data"
   ]
  },
  {
   "cell_type": "code",
   "execution_count": 11,
   "id": "abc9c4ef",
   "metadata": {},
   "outputs": [
    {
     "name": "stdout",
     "output_type": "stream",
     "text": [
      "<class 'pandas.core.frame.DataFrame'>\n",
      "RangeIndex: 500 entries, 0 to 499\n",
      "Data columns (total 8 columns):\n",
      " #   Column                Non-Null Count  Dtype  \n",
      "---  ------                --------------  -----  \n",
      " 0   Email                 500 non-null    object \n",
      " 1   Address               500 non-null    object \n",
      " 2   Avatar                500 non-null    object \n",
      " 3   Avg. Session Length   500 non-null    float64\n",
      " 4   Time on App           500 non-null    float64\n",
      " 5   Time on Website       500 non-null    float64\n",
      " 6   Length of Membership  500 non-null    float64\n",
      " 7   Yearly Amount Spent   500 non-null    float64\n",
      "dtypes: float64(5), object(3)\n",
      "memory usage: 31.4+ KB\n"
     ]
    }
   ],
   "source": [
    "data.info()"
   ]
  },
  {
   "cell_type": "code",
   "execution_count": 12,
   "id": "a31b1697",
   "metadata": {},
   "outputs": [
    {
     "data": {
      "text/html": [
       "<div>\n",
       "<style scoped>\n",
       "    .dataframe tbody tr th:only-of-type {\n",
       "        vertical-align: middle;\n",
       "    }\n",
       "\n",
       "    .dataframe tbody tr th {\n",
       "        vertical-align: top;\n",
       "    }\n",
       "\n",
       "    .dataframe thead th {\n",
       "        text-align: right;\n",
       "    }\n",
       "</style>\n",
       "<table border=\"1\" class=\"dataframe\">\n",
       "  <thead>\n",
       "    <tr style=\"text-align: right;\">\n",
       "      <th></th>\n",
       "      <th>Avg. Session Length</th>\n",
       "      <th>Time on App</th>\n",
       "      <th>Time on Website</th>\n",
       "      <th>Length of Membership</th>\n",
       "      <th>Yearly Amount Spent</th>\n",
       "    </tr>\n",
       "  </thead>\n",
       "  <tbody>\n",
       "    <tr>\n",
       "      <th>count</th>\n",
       "      <td>500.000000</td>\n",
       "      <td>500.000000</td>\n",
       "      <td>500.000000</td>\n",
       "      <td>500.000000</td>\n",
       "      <td>500.000000</td>\n",
       "    </tr>\n",
       "    <tr>\n",
       "      <th>mean</th>\n",
       "      <td>33.053194</td>\n",
       "      <td>12.052488</td>\n",
       "      <td>37.060445</td>\n",
       "      <td>3.533462</td>\n",
       "      <td>499.314038</td>\n",
       "    </tr>\n",
       "    <tr>\n",
       "      <th>std</th>\n",
       "      <td>0.992563</td>\n",
       "      <td>0.994216</td>\n",
       "      <td>1.010489</td>\n",
       "      <td>0.999278</td>\n",
       "      <td>79.314782</td>\n",
       "    </tr>\n",
       "    <tr>\n",
       "      <th>min</th>\n",
       "      <td>29.532429</td>\n",
       "      <td>8.508152</td>\n",
       "      <td>33.913847</td>\n",
       "      <td>0.269901</td>\n",
       "      <td>256.670582</td>\n",
       "    </tr>\n",
       "    <tr>\n",
       "      <th>25%</th>\n",
       "      <td>32.341822</td>\n",
       "      <td>11.388153</td>\n",
       "      <td>36.349257</td>\n",
       "      <td>2.930450</td>\n",
       "      <td>445.038277</td>\n",
       "    </tr>\n",
       "    <tr>\n",
       "      <th>50%</th>\n",
       "      <td>33.082008</td>\n",
       "      <td>11.983231</td>\n",
       "      <td>37.069367</td>\n",
       "      <td>3.533975</td>\n",
       "      <td>498.887875</td>\n",
       "    </tr>\n",
       "    <tr>\n",
       "      <th>75%</th>\n",
       "      <td>33.711985</td>\n",
       "      <td>12.753850</td>\n",
       "      <td>37.716432</td>\n",
       "      <td>4.126502</td>\n",
       "      <td>549.313828</td>\n",
       "    </tr>\n",
       "    <tr>\n",
       "      <th>max</th>\n",
       "      <td>36.139662</td>\n",
       "      <td>15.126994</td>\n",
       "      <td>40.005182</td>\n",
       "      <td>6.922689</td>\n",
       "      <td>765.518462</td>\n",
       "    </tr>\n",
       "  </tbody>\n",
       "</table>\n",
       "</div>"
      ],
      "text/plain": [
       "       Avg. Session Length  Time on App  Time on Website  \\\n",
       "count           500.000000   500.000000       500.000000   \n",
       "mean             33.053194    12.052488        37.060445   \n",
       "std               0.992563     0.994216         1.010489   \n",
       "min              29.532429     8.508152        33.913847   \n",
       "25%              32.341822    11.388153        36.349257   \n",
       "50%              33.082008    11.983231        37.069367   \n",
       "75%              33.711985    12.753850        37.716432   \n",
       "max              36.139662    15.126994        40.005182   \n",
       "\n",
       "       Length of Membership  Yearly Amount Spent  \n",
       "count            500.000000           500.000000  \n",
       "mean               3.533462           499.314038  \n",
       "std                0.999278            79.314782  \n",
       "min                0.269901           256.670582  \n",
       "25%                2.930450           445.038277  \n",
       "50%                3.533975           498.887875  \n",
       "75%                4.126502           549.313828  \n",
       "max                6.922689           765.518462  "
      ]
     },
     "execution_count": 12,
     "metadata": {},
     "output_type": "execute_result"
    }
   ],
   "source": [
    "data.describe()"
   ]
  },
  {
   "cell_type": "code",
   "execution_count": 6,
   "id": "c7f466dc",
   "metadata": {},
   "outputs": [
    {
     "data": {
      "text/plain": [
       "Email                   0\n",
       "Address                 0\n",
       "Avatar                  0\n",
       "Avg. Session Length     0\n",
       "Time on App             0\n",
       "Time on Website         0\n",
       "Length of Membership    0\n",
       "Yearly Amount Spent     0\n",
       "dtype: int64"
      ]
     },
     "execution_count": 6,
     "metadata": {},
     "output_type": "execute_result"
    }
   ],
   "source": [
    "# 결측치 탐지/처리와 중복값 확인\n",
    "data.isna().sum()"
   ]
  },
  {
   "cell_type": "code",
   "execution_count": 9,
   "id": "dd8b7831",
   "metadata": {},
   "outputs": [
    {
     "data": {
      "text/html": [
       "<div>\n",
       "<style scoped>\n",
       "    .dataframe tbody tr th:only-of-type {\n",
       "        vertical-align: middle;\n",
       "    }\n",
       "\n",
       "    .dataframe tbody tr th {\n",
       "        vertical-align: top;\n",
       "    }\n",
       "\n",
       "    .dataframe thead th {\n",
       "        text-align: right;\n",
       "    }\n",
       "</style>\n",
       "<table border=\"1\" class=\"dataframe\">\n",
       "  <thead>\n",
       "    <tr style=\"text-align: right;\">\n",
       "      <th></th>\n",
       "      <th>Email</th>\n",
       "      <th>Address</th>\n",
       "      <th>Avatar</th>\n",
       "      <th>Avg. Session Length</th>\n",
       "      <th>Time on App</th>\n",
       "      <th>Time on Website</th>\n",
       "      <th>Length of Membership</th>\n",
       "      <th>Yearly Amount Spent</th>\n",
       "    </tr>\n",
       "  </thead>\n",
       "  <tbody>\n",
       "  </tbody>\n",
       "</table>\n",
       "</div>"
      ],
      "text/plain": [
       "Empty DataFrame\n",
       "Columns: [Email, Address, Avatar, Avg. Session Length, Time on App, Time on Website, Length of Membership, Yearly Amount Spent]\n",
       "Index: []"
      ]
     },
     "execution_count": 9,
     "metadata": {},
     "output_type": "execute_result"
    }
   ],
   "source": [
    "# 중복값이 없음\n",
    "data[data.duplicated()]"
   ]
  },
  {
   "cell_type": "code",
   "execution_count": 14,
   "id": "687a39b5",
   "metadata": {},
   "outputs": [
    {
     "data": {
      "text/plain": [
       "Index(['Avg. Session Length', 'Time on App', 'Time on Website',\n",
       "       'Length of Membership', 'Yearly Amount Spent'],\n",
       "      dtype='object')"
      ]
     },
     "execution_count": 14,
     "metadata": {},
     "output_type": "execute_result"
    }
   ],
   "source": [
    "# 이상치 탐지 및 확인\n",
    "data_num = data.select_dtypes(exclude='object')\n",
    "data_num.columns"
   ]
  },
  {
   "cell_type": "code",
   "execution_count": null,
   "id": "772bdfba",
   "metadata": {},
   "outputs": [],
   "source": [
    "# 이상치 확인하기 위한 박스 플롯 확인\n",
    "sns.boxplot(data_num)"
   ]
  },
  {
   "cell_type": "code",
   "execution_count": 56,
   "id": "660e0c88",
   "metadata": {},
   "outputs": [
    {
     "name": "stdout",
     "output_type": "stream",
     "text": [
      "============================== Avg. Session Length ==============================\n",
      "count    500.000000\n",
      "mean      33.053194\n",
      "std        0.992563\n",
      "min       29.532429\n",
      "25%       32.341822\n",
      "50%       33.082008\n",
      "75%       33.711985\n",
      "max       36.139662\n",
      "Name: Avg. Session Length, dtype: float64\n",
      "\n"
     ]
    },
    {
     "data": {
      "image/png": "[encoded data removed]",
      "text/plain": [
       "<Figure size 640x480 with 1 Axes>"
      ]
     },
     "metadata": {},
     "output_type": "display_data"
    },
    {
     "name": "stdout",
     "output_type": "stream",
     "text": [
      "\n"
     ]
    },
    {
     "data": {
      "image/png": "[encoded data removed]",
      "text/plain": [
       "<Figure size 640x480 with 1 Axes>"
      ]
     },
     "metadata": {},
     "output_type": "display_data"
    },
    {
     "name": "stdout",
     "output_type": "stream",
     "text": [
      "\n",
      "============================== Time on App ==============================\n",
      "count    500.000000\n",
      "mean      12.052488\n",
      "std        0.994216\n",
      "min        8.508152\n",
      "25%       11.388153\n",
      "50%       11.983231\n",
      "75%       12.753850\n",
      "max       15.126994\n",
      "Name: Time on App, dtype: float64\n",
      "\n"
     ]
    },
    {
     "data": {
      "image/png": "[encoded data removed]",
      "text/plain": [
       "<Figure size 640x480 with 1 Axes>"
      ]
     },
     "metadata": {},
     "output_type": "display_data"
    },
    {
     "name": "stdout",
     "output_type": "stream",
     "text": [
      "\n"
     ]
    },
    {
     "data": {
      "image/png": "[encoded data removed]",
      "text/plain": [
       "<Figure size 640x480 with 1 Axes>"
      ]
     },
     "metadata": {},
     "output_type": "display_data"
    },
    {
     "name": "stdout",
     "output_type": "stream",
     "text": [
      "\n",
      "============================== Time on Website ==============================\n",
      "count    500.000000\n",
      "mean      37.060445\n",
      "std        1.010489\n",
      "min       33.913847\n",
      "25%       36.349257\n",
      "50%       37.069367\n",
      "75%       37.716432\n",
      "max       40.005182\n",
      "Name: Time on Website, dtype: float64\n",
      "\n"
     ]
    },
    {
     "data": {
      "image/png": "[encoded data removed]",
      "text/plain": [
       "<Figure size 640x480 with 1 Axes>"
      ]
     },
     "metadata": {},
     "output_type": "display_data"
    },
    {
     "name": "stdout",
     "output_type": "stream",
     "text": [
      "\n"
     ]
    },
    {
     "data": {
      "image/png": "[encoded data removed]",
      "text/plain": [
       "<Figure size 640x480 with 1 Axes>"
      ]
     },
     "metadata": {},
     "output_type": "display_data"
    },
    {
     "name": "stdout",
     "output_type": "stream",
     "text": [
      "\n",
      "============================== Length of Membership ==============================\n",
      "count    500.000000\n",
      "mean       3.533462\n",
      "std        0.999278\n",
      "min        0.269901\n",
      "25%        2.930450\n",
      "50%        3.533975\n",
      "75%        4.126502\n",
      "max        6.922689\n",
      "Name: Length of Membership, dtype: float64\n",
      "\n"
     ]
    },
    {
     "data": {
      "image/png": "[encoded data removed]",
      "text/plain": [
       "<Figure size 640x480 with 1 Axes>"
      ]
     },
     "metadata": {},
     "output_type": "display_data"
    },
    {
     "name": "stdout",
     "output_type": "stream",
     "text": [
      "\n"
     ]
    },
    {
     "data": {
      "image/png": "[encoded data removed]",
      "text/plain": [
       "<Figure size 640x480 with 1 Axes>"
      ]
     },
     "metadata": {},
     "output_type": "display_data"
    },
    {
     "name": "stdout",
     "output_type": "stream",
     "text": [
      "\n",
      "============================== Yearly Amount Spent ==============================\n",
      "count    500.000000\n",
      "mean     499.314038\n",
      "std       79.314782\n",
      "min      256.670582\n",
      "25%      445.038277\n",
      "50%      498.887875\n",
      "75%      549.313828\n",
      "max      765.518462\n",
      "Name: Yearly Amount Spent, dtype: float64\n",
      "\n"
     ]
    },
    {
     "data": {
      "image/png": "[encoded data removed]",
      "text/plain": [
       "<Figure size 640x480 with 1 Axes>"
      ]
     },
     "metadata": {},
     "output_type": "display_data"
    },
    {
     "name": "stdout",
     "output_type": "stream",
     "text": [
      "\n"
     ]
    },
    {
     "data": {
      "image/png": "[encoded data removed]",
      "text/plain": [
       "<Figure size 640x480 with 1 Axes>"
      ]
     },
     "metadata": {},
     "output_type": "display_data"
    },
    {
     "name": "stdout",
     "output_type": "stream",
     "text": [
      "\n"
     ]
    }
   ],
   "source": [
    "# 수치형 데이터 각 컬럼 확인\n",
    "# 박스 플럿에서는 이상치 값이 보이지만 각 컬럼이 정규 분포로 고르게 분포되어 있으므로 이상치라고 보기는 어렵다\n",
    "for col in data_num:\n",
    "#     print(col)\n",
    "    print('='*30, col,'='*30)\n",
    "    print(data_num[col].describe(), end='\\n\\n')\n",
    "    \n",
    "    sns.histplot(data_num[col])\n",
    "    plt.show()\n",
    "    print()\n",
    "    \n",
    "    sns.boxplot(data_num[col])\n",
    "    plt.show()\n",
    "    print()\n",
    "    "
   ]
  },
  {
   "cell_type": "code",
   "execution_count": 24,
   "id": "975ffd79",
   "metadata": {},
   "outputs": [],
   "source": [
    "# 문자형 컬럼 확인\n",
    "data_obj = data.select_dtypes(include='object')"
   ]
  },
  {
   "cell_type": "code",
   "execution_count": 57,
   "id": "8b5c0258",
   "metadata": {
    "scrolled": true
   },
   "outputs": [
    {
     "name": "stdout",
     "output_type": "stream",
     "text": [
      "============================== Email ==============================\n",
      "Email의 unique 값의 수 : 500\n",
      "\n",
      "\n"
     ]
    },
    {
     "data": {
      "image/png": "[encoded data removed]",
      "text/plain": [
       "<Figure size 640x480 with 1 Axes>"
      ]
     },
     "metadata": {},
     "output_type": "display_data"
    },
    {
     "name": "stdout",
     "output_type": "stream",
     "text": [
      "\n",
      "============================== Address ==============================\n",
      "Address의 unique 값의 수 : 500\n",
      "\n",
      "\n"
     ]
    },
    {
     "data": {
      "image/png": "[encoded data removed]",
      "text/plain": [
       "<Figure size 640x480 with 1 Axes>"
      ]
     },
     "metadata": {},
     "output_type": "display_data"
    },
    {
     "name": "stdout",
     "output_type": "stream",
     "text": [
      "\n",
      "============================== Avatar ==============================\n",
      "Avatar의 unique 값의 수 : 138\n",
      "\n",
      "\n"
     ]
    },
    {
     "data": {
      "image/png": "[encoded data removed]",
      "text/plain": [
       "<Figure size 640x480 with 1 Axes>"
      ]
     },
     "metadata": {},
     "output_type": "display_data"
    },
    {
     "name": "stdout",
     "output_type": "stream",
     "text": [
      "\n"
     ]
    }
   ],
   "source": [
    "# 문자형 컬럼 구성 확인\n",
    "for col in data_obj:\n",
    "#     print(col)\n",
    "    print('='*30, col,'='*30)\n",
    "    print(f'{col}의 unique 값의 수 : {data_obj[col].nunique()}', end='\\n\\n')\n",
    "    print()\n",
    "    \n",
    "    sns.barplot(data_obj[col].value_counts())\n",
    "    plt.show()\n",
    "    print()\n",
    "    "
   ]
  },
  {
   "cell_type": "code",
   "execution_count": 60,
   "id": "a7a598dc",
   "metadata": {},
   "outputs": [
    {
     "data": {
      "text/plain": [
       "<Axes: >"
      ]
     },
     "execution_count": 60,
     "metadata": {},
     "output_type": "execute_result"
    },
    {
     "data": {
      "image/png": "[encoded data removed]",
      "text/plain": [
       "<Figure size 640x480 with 2 Axes>"
      ]
     },
     "metadata": {},
     "output_type": "display_data"
    }
   ],
   "source": [
    "sns.heatmap(data_num.corr(), annot=True, linewidth=1)"
   ]
  },
  {
   "cell_type": "markdown",
   "id": "aa3f45a5",
   "metadata": {},
   "source": [
    "# 회귀 모델 적용\n",
    "- 데이터 홀드아웃, 스케일링, 분석"
   ]
  },
  {
   "cell_type": "code",
   "execution_count": 96,
   "id": "ef5f0388",
   "metadata": {},
   "outputs": [],
   "source": [
    "X = data.drop(['Yearly Amount Spent', 'Email', 'Address', 'Avatar'], axis=1)\n",
    "y = data['Yearly Amount Spent']"
   ]
  },
  {
   "cell_type": "code",
   "execution_count": 64,
   "id": "4ae3746c",
   "metadata": {},
   "outputs": [],
   "source": [
    "from sklearn.model_selection import train_test_split"
   ]
  },
  {
   "cell_type": "code",
   "execution_count": 122,
   "id": "cfe4af7d",
   "metadata": {},
   "outputs": [],
   "source": [
    "X_train, X_test, y_train, y_test = train_test_split(X, y, test_size=0.2, random_state=42)"
   ]
  },
  {
   "cell_type": "markdown",
   "id": "c858b251",
   "metadata": {},
   "source": [
    "## StandardScaler 적용"
   ]
  },
  {
   "cell_type": "code",
   "execution_count": 110,
   "id": "8d8a3393",
   "metadata": {},
   "outputs": [],
   "source": [
    "from sklearn.preprocessing import StandardScaler"
   ]
  },
  {
   "cell_type": "code",
   "execution_count": 123,
   "id": "fa9cca67",
   "metadata": {},
   "outputs": [],
   "source": [
    "ss = StandardScaler()\n",
    "ss.fit(X_train)\n",
    "ss_X_train = ss.transform(X_train)\n",
    "ss_X_test = ss.transform(X_test)"
   ]
  },
  {
   "cell_type": "code",
   "execution_count": 124,
   "id": "81967920",
   "metadata": {},
   "outputs": [
    {
     "data": {
      "text/html": [
       "<div>\n",
       "<style scoped>\n",
       "    .dataframe tbody tr th:only-of-type {\n",
       "        vertical-align: middle;\n",
       "    }\n",
       "\n",
       "    .dataframe tbody tr th {\n",
       "        vertical-align: top;\n",
       "    }\n",
       "\n",
       "    .dataframe thead th {\n",
       "        text-align: right;\n",
       "    }\n",
       "</style>\n",
       "<table border=\"1\" class=\"dataframe\">\n",
       "  <thead>\n",
       "    <tr style=\"text-align: right;\">\n",
       "      <th></th>\n",
       "      <th>Avg. Session Length</th>\n",
       "      <th>Time on App</th>\n",
       "      <th>Time on Website</th>\n",
       "      <th>Length of Membership</th>\n",
       "    </tr>\n",
       "  </thead>\n",
       "  <tbody>\n",
       "    <tr>\n",
       "      <th>249</th>\n",
       "      <td>0.728756</td>\n",
       "      <td>-0.140376</td>\n",
       "      <td>-0.173216</td>\n",
       "      <td>0.065197</td>\n",
       "    </tr>\n",
       "    <tr>\n",
       "      <th>433</th>\n",
       "      <td>1.233670</td>\n",
       "      <td>-0.235492</td>\n",
       "      <td>-0.700765</td>\n",
       "      <td>-1.413095</td>\n",
       "    </tr>\n",
       "    <tr>\n",
       "      <th>19</th>\n",
       "      <td>-0.449465</td>\n",
       "      <td>1.935961</td>\n",
       "      <td>0.166982</td>\n",
       "      <td>0.483620</td>\n",
       "    </tr>\n",
       "    <tr>\n",
       "      <th>322</th>\n",
       "      <td>0.206170</td>\n",
       "      <td>-1.328388</td>\n",
       "      <td>-0.860896</td>\n",
       "      <td>0.505068</td>\n",
       "    </tr>\n",
       "    <tr>\n",
       "      <th>332</th>\n",
       "      <td>0.084123</td>\n",
       "      <td>-0.321354</td>\n",
       "      <td>0.899668</td>\n",
       "      <td>-1.342230</td>\n",
       "    </tr>\n",
       "    <tr>\n",
       "      <th>...</th>\n",
       "      <td>...</td>\n",
       "      <td>...</td>\n",
       "      <td>...</td>\n",
       "      <td>...</td>\n",
       "    </tr>\n",
       "    <tr>\n",
       "      <th>106</th>\n",
       "      <td>-0.780032</td>\n",
       "      <td>0.133039</td>\n",
       "      <td>-0.854333</td>\n",
       "      <td>0.208220</td>\n",
       "    </tr>\n",
       "    <tr>\n",
       "      <th>270</th>\n",
       "      <td>0.958189</td>\n",
       "      <td>0.900460</td>\n",
       "      <td>1.607973</td>\n",
       "      <td>-0.284756</td>\n",
       "    </tr>\n",
       "    <tr>\n",
       "      <th>348</th>\n",
       "      <td>-1.265871</td>\n",
       "      <td>-1.173271</td>\n",
       "      <td>-2.088751</td>\n",
       "      <td>-0.428040</td>\n",
       "    </tr>\n",
       "    <tr>\n",
       "      <th>435</th>\n",
       "      <td>-0.812250</td>\n",
       "      <td>2.079565</td>\n",
       "      <td>0.002649</td>\n",
       "      <td>0.188979</td>\n",
       "    </tr>\n",
       "    <tr>\n",
       "      <th>102</th>\n",
       "      <td>-0.644256</td>\n",
       "      <td>-0.610102</td>\n",
       "      <td>0.550390</td>\n",
       "      <td>-0.955676</td>\n",
       "    </tr>\n",
       "  </tbody>\n",
       "</table>\n",
       "<p>400 rows × 4 columns</p>\n",
       "</div>"
      ],
      "text/plain": [
       "     Avg. Session Length  Time on App  Time on Website  Length of Membership\n",
       "249             0.728756    -0.140376        -0.173216              0.065197\n",
       "433             1.233670    -0.235492        -0.700765             -1.413095\n",
       "19             -0.449465     1.935961         0.166982              0.483620\n",
       "322             0.206170    -1.328388        -0.860896              0.505068\n",
       "332             0.084123    -0.321354         0.899668             -1.342230\n",
       "..                   ...          ...              ...                   ...\n",
       "106            -0.780032     0.133039        -0.854333              0.208220\n",
       "270             0.958189     0.900460         1.607973             -0.284756\n",
       "348            -1.265871    -1.173271        -2.088751             -0.428040\n",
       "435            -0.812250     2.079565         0.002649              0.188979\n",
       "102            -0.644256    -0.610102         0.550390             -0.955676\n",
       "\n",
       "[400 rows x 4 columns]"
      ]
     },
     "execution_count": 124,
     "metadata": {},
     "output_type": "execute_result"
    }
   ],
   "source": [
    "X_train = pd.DataFrame(ss_X_train, columns=X.columns, index=X_train.index)\n",
    "X_train"
   ]
  },
  {
   "cell_type": "code",
   "execution_count": 125,
   "id": "fd868034",
   "metadata": {},
   "outputs": [
    {
     "data": {
      "text/html": [
       "<div>\n",
       "<style scoped>\n",
       "    .dataframe tbody tr th:only-of-type {\n",
       "        vertical-align: middle;\n",
       "    }\n",
       "\n",
       "    .dataframe tbody tr th {\n",
       "        vertical-align: top;\n",
       "    }\n",
       "\n",
       "    .dataframe thead th {\n",
       "        text-align: right;\n",
       "    }\n",
       "</style>\n",
       "<table border=\"1\" class=\"dataframe\">\n",
       "  <thead>\n",
       "    <tr style=\"text-align: right;\">\n",
       "      <th></th>\n",
       "      <th>Avg. Session Length</th>\n",
       "      <th>Time on App</th>\n",
       "      <th>Time on Website</th>\n",
       "      <th>Length of Membership</th>\n",
       "    </tr>\n",
       "  </thead>\n",
       "  <tbody>\n",
       "    <tr>\n",
       "      <th>361</th>\n",
       "      <td>-0.997132</td>\n",
       "      <td>-1.713455</td>\n",
       "      <td>1.991749</td>\n",
       "      <td>-0.130046</td>\n",
       "    </tr>\n",
       "    <tr>\n",
       "      <th>73</th>\n",
       "      <td>-0.256010</td>\n",
       "      <td>0.761003</td>\n",
       "      <td>0.010579</td>\n",
       "      <td>0.276169</td>\n",
       "    </tr>\n",
       "    <tr>\n",
       "      <th>374</th>\n",
       "      <td>-1.635907</td>\n",
       "      <td>-1.960221</td>\n",
       "      <td>1.006187</td>\n",
       "      <td>0.652866</td>\n",
       "    </tr>\n",
       "    <tr>\n",
       "      <th>155</th>\n",
       "      <td>-0.620106</td>\n",
       "      <td>1.402969</td>\n",
       "      <td>0.214506</td>\n",
       "      <td>-0.610417</td>\n",
       "    </tr>\n",
       "    <tr>\n",
       "      <th>104</th>\n",
       "      <td>-1.694561</td>\n",
       "      <td>-1.065741</td>\n",
       "      <td>1.036687</td>\n",
       "      <td>-0.135598</td>\n",
       "    </tr>\n",
       "    <tr>\n",
       "      <th>...</th>\n",
       "      <td>...</td>\n",
       "      <td>...</td>\n",
       "      <td>...</td>\n",
       "      <td>...</td>\n",
       "    </tr>\n",
       "    <tr>\n",
       "      <th>347</th>\n",
       "      <td>0.718270</td>\n",
       "      <td>-0.754847</td>\n",
       "      <td>0.800082</td>\n",
       "      <td>1.529081</td>\n",
       "    </tr>\n",
       "    <tr>\n",
       "      <th>86</th>\n",
       "      <td>0.827716</td>\n",
       "      <td>0.460923</td>\n",
       "      <td>0.129021</td>\n",
       "      <td>-0.874853</td>\n",
       "    </tr>\n",
       "    <tr>\n",
       "      <th>75</th>\n",
       "      <td>-1.025263</td>\n",
       "      <td>0.180722</td>\n",
       "      <td>1.682520</td>\n",
       "      <td>-0.435901</td>\n",
       "    </tr>\n",
       "    <tr>\n",
       "      <th>438</th>\n",
       "      <td>-0.924682</td>\n",
       "      <td>-2.014653</td>\n",
       "      <td>0.158072</td>\n",
       "      <td>-0.032122</td>\n",
       "    </tr>\n",
       "    <tr>\n",
       "      <th>15</th>\n",
       "      <td>-2.355355</td>\n",
       "      <td>0.580114</td>\n",
       "      <td>-0.794020</td>\n",
       "      <td>-0.204771</td>\n",
       "    </tr>\n",
       "  </tbody>\n",
       "</table>\n",
       "<p>100 rows × 4 columns</p>\n",
       "</div>"
      ],
      "text/plain": [
       "     Avg. Session Length  Time on App  Time on Website  Length of Membership\n",
       "361            -0.997132    -1.713455         1.991749             -0.130046\n",
       "73             -0.256010     0.761003         0.010579              0.276169\n",
       "374            -1.635907    -1.960221         1.006187              0.652866\n",
       "155            -0.620106     1.402969         0.214506             -0.610417\n",
       "104            -1.694561    -1.065741         1.036687             -0.135598\n",
       "..                   ...          ...              ...                   ...\n",
       "347             0.718270    -0.754847         0.800082              1.529081\n",
       "86              0.827716     0.460923         0.129021             -0.874853\n",
       "75             -1.025263     0.180722         1.682520             -0.435901\n",
       "438            -0.924682    -2.014653         0.158072             -0.032122\n",
       "15             -2.355355     0.580114        -0.794020             -0.204771\n",
       "\n",
       "[100 rows x 4 columns]"
      ]
     },
     "execution_count": 125,
     "metadata": {},
     "output_type": "execute_result"
    }
   ],
   "source": [
    "X_test = pd.DataFrame(ss_X_test, columns=X.columns, index=X_test.index)\n",
    "X_test"
   ]
  },
  {
   "cell_type": "markdown",
   "id": "6bc89726",
   "metadata": {},
   "source": [
    "## 다중선형 회귀분석"
   ]
  },
  {
   "cell_type": "code",
   "execution_count": 126,
   "id": "e8bc97e2",
   "metadata": {},
   "outputs": [],
   "source": [
    "# statsmodels의 python 문법\n",
    "import statsmodels.api as sm\n",
    "from sklearn.feature_selection import SequentialFeatureSelector\n",
    "from sklearn.linear_model import LinearRegression"
   ]
  },
  {
   "cell_type": "code",
   "execution_count": 127,
   "id": "da2a733e",
   "metadata": {},
   "outputs": [],
   "source": [
    "# 절편항 추가\n",
    "X_train_const = sm.add_constant(X_train)\n",
    "X_test_const = sm.add_constant(X_test)"
   ]
  },
  {
   "cell_type": "code",
   "execution_count": 128,
   "id": "9b5feb8f",
   "metadata": {},
   "outputs": [
    {
     "data": {
      "text/html": [
       "<div>\n",
       "<style scoped>\n",
       "    .dataframe tbody tr th:only-of-type {\n",
       "        vertical-align: middle;\n",
       "    }\n",
       "\n",
       "    .dataframe tbody tr th {\n",
       "        vertical-align: top;\n",
       "    }\n",
       "\n",
       "    .dataframe thead th {\n",
       "        text-align: right;\n",
       "    }\n",
       "</style>\n",
       "<table border=\"1\" class=\"dataframe\">\n",
       "  <thead>\n",
       "    <tr style=\"text-align: right;\">\n",
       "      <th></th>\n",
       "      <th>const</th>\n",
       "      <th>Avg. Session Length</th>\n",
       "      <th>Time on App</th>\n",
       "      <th>Time on Website</th>\n",
       "      <th>Length of Membership</th>\n",
       "    </tr>\n",
       "  </thead>\n",
       "  <tbody>\n",
       "    <tr>\n",
       "      <th>249</th>\n",
       "      <td>1.0</td>\n",
       "      <td>0.728756</td>\n",
       "      <td>-0.140376</td>\n",
       "      <td>-0.173216</td>\n",
       "      <td>0.065197</td>\n",
       "    </tr>\n",
       "    <tr>\n",
       "      <th>433</th>\n",
       "      <td>1.0</td>\n",
       "      <td>1.233670</td>\n",
       "      <td>-0.235492</td>\n",
       "      <td>-0.700765</td>\n",
       "      <td>-1.413095</td>\n",
       "    </tr>\n",
       "  </tbody>\n",
       "</table>\n",
       "</div>"
      ],
      "text/plain": [
       "     const  Avg. Session Length  Time on App  Time on Website  \\\n",
       "249    1.0             0.728756    -0.140376        -0.173216   \n",
       "433    1.0             1.233670    -0.235492        -0.700765   \n",
       "\n",
       "     Length of Membership  \n",
       "249              0.065197  \n",
       "433             -1.413095  "
      ]
     },
     "execution_count": 128,
     "metadata": {},
     "output_type": "execute_result"
    }
   ],
   "source": [
    "X_train_const.head(2)"
   ]
  },
  {
   "cell_type": "code",
   "execution_count": 129,
   "id": "5403100b",
   "metadata": {},
   "outputs": [
    {
     "data": {
      "text/html": [
       "<div>\n",
       "<style scoped>\n",
       "    .dataframe tbody tr th:only-of-type {\n",
       "        vertical-align: middle;\n",
       "    }\n",
       "\n",
       "    .dataframe tbody tr th {\n",
       "        vertical-align: top;\n",
       "    }\n",
       "\n",
       "    .dataframe thead th {\n",
       "        text-align: right;\n",
       "    }\n",
       "</style>\n",
       "<table border=\"1\" class=\"dataframe\">\n",
       "  <thead>\n",
       "    <tr style=\"text-align: right;\">\n",
       "      <th></th>\n",
       "      <th>const</th>\n",
       "      <th>Avg. Session Length</th>\n",
       "      <th>Time on App</th>\n",
       "      <th>Time on Website</th>\n",
       "      <th>Length of Membership</th>\n",
       "    </tr>\n",
       "  </thead>\n",
       "  <tbody>\n",
       "    <tr>\n",
       "      <th>361</th>\n",
       "      <td>1.0</td>\n",
       "      <td>-0.997132</td>\n",
       "      <td>-1.713455</td>\n",
       "      <td>1.991749</td>\n",
       "      <td>-0.130046</td>\n",
       "    </tr>\n",
       "    <tr>\n",
       "      <th>73</th>\n",
       "      <td>1.0</td>\n",
       "      <td>-0.256010</td>\n",
       "      <td>0.761003</td>\n",
       "      <td>0.010579</td>\n",
       "      <td>0.276169</td>\n",
       "    </tr>\n",
       "  </tbody>\n",
       "</table>\n",
       "</div>"
      ],
      "text/plain": [
       "     const  Avg. Session Length  Time on App  Time on Website  \\\n",
       "361    1.0            -0.997132    -1.713455         1.991749   \n",
       "73     1.0            -0.256010     0.761003         0.010579   \n",
       "\n",
       "     Length of Membership  \n",
       "361             -0.130046  \n",
       "73               0.276169  "
      ]
     },
     "execution_count": 129,
     "metadata": {},
     "output_type": "execute_result"
    }
   ],
   "source": [
    "X_test_const.head(2)"
   ]
  },
  {
   "cell_type": "code",
   "execution_count": 130,
   "id": "de878db1",
   "metadata": {},
   "outputs": [
    {
     "name": "stdout",
     "output_type": "stream",
     "text": [
      "                             OLS Regression Results                            \n",
      "===============================================================================\n",
      "Dep. Variable:     Yearly Amount Spent   R-squared:                       0.985\n",
      "Model:                             OLS   Adj. R-squared:                  0.985\n",
      "Method:                  Least Squares   F-statistic:                     6676.\n",
      "Date:                 Wed, 07 May 2025   Prob (F-statistic):               0.00\n",
      "Time:                         16:43:35   Log-Likelihood:                -1480.1\n",
      "No. Observations:                  400   AIC:                             2970.\n",
      "Df Residuals:                      395   BIC:                             2990.\n",
      "Df Model:                            4                                         \n",
      "Covariance Type:             nonrobust                                         \n",
      "========================================================================================\n",
      "                           coef    std err          t      P>|t|      [0.025      0.975]\n",
      "----------------------------------------------------------------------------------------\n",
      "const                  501.9922      0.493   1019.205      0.000     501.024     502.960\n",
      "Avg. Session Length     25.2504      0.493     51.212      0.000      24.281      26.220\n",
      "Time on App             38.7035      0.495     78.180      0.000      37.730      39.677\n",
      "Time on Website          0.3155      0.495      0.638      0.524      -0.657       1.288\n",
      "Length of Membership    63.5432      0.494    128.620      0.000      62.572      64.514\n",
      "==============================================================================\n",
      "Omnibus:                        0.388   Durbin-Watson:                   2.034\n",
      "Prob(Omnibus):                  0.824   Jarque-Bera (JB):                0.248\n",
      "Skew:                          -0.048   Prob(JB):                        0.884\n",
      "Kurtosis:                       3.075   Cond. No.                         1.11\n",
      "==============================================================================\n",
      "\n",
      "Notes:\n",
      "[1] Standard Errors assume that the covariance matrix of the errors is correctly specified.\n"
     ]
    }
   ],
   "source": [
    "lr = sm.OLS(y_train, X_train_const).fit()\n",
    "print(lr.summary())"
   ]
  },
  {
   "cell_type": "code",
   "execution_count": null,
   "id": "0e373a10",
   "metadata": {},
   "outputs": [],
   "source": []
  },
  {
   "cell_type": "markdown",
   "id": "e4a47ae0",
   "metadata": {},
   "source": [
    "# 회귀분석 지표\n",
    "- MSE(Mean_squared_error) : 평균제곱오차 - 회귀선과 데이터 간의 오차\n",
    "- RMSE(Root_Mean_squared_error) : 루트평균제곱오차 - 단위를 다시 원위치 시킨 오차"
   ]
  },
  {
   "cell_type": "code",
   "execution_count": 119,
   "id": "e76052e0",
   "metadata": {},
   "outputs": [],
   "source": [
    "from sklearn.metrics import mean_squared_error"
   ]
  },
  {
   "cell_type": "code",
   "execution_count": 131,
   "id": "57b847dc",
   "metadata": {},
   "outputs": [],
   "source": [
    "# 회귀 분석 모델로 예측\n",
    "pred = lr.predict(X_test_const)"
   ]
  },
  {
   "cell_type": "code",
   "execution_count": 133,
   "id": "58f83353",
   "metadata": {},
   "outputs": [
    {
     "name": "stdout",
     "output_type": "stream",
     "text": [
      "mean_squared_error:  109.8637411839406\n",
      "root_mean_squared_error:  10.481590584636503\n"
     ]
    }
   ],
   "source": [
    "print('mean_squared_error: ',mean_squared_error(y_test, pred))\n",
    "print('root_mean_squared_error: ',np.sqrt(mean_squared_error(y_test, pred)))"
   ]
  },
  {
   "cell_type": "code",
   "execution_count": 139,
   "id": "f7cf8ffd",
   "metadata": {},
   "outputs": [
    {
     "data": {
      "image/png": "[encoded data removed]",
      "text/plain": [
       "<Figure size 1000x600 with 1 Axes>"
      ]
     },
     "metadata": {},
     "output_type": "display_data"
    }
   ],
   "source": [
    "# 산점도와 회귀선 그리기\n",
    "plt.figure(figsize=(10,6))\n",
    "sns.scatterplot(x = y_test, y=pred, label='data_points')\n",
    "sns.regplot(x=y_test, y=pred, scatter=False, label='regression line', color='red')\n",
    "plt.xlabel('실제 Yearly Amount Spent')\n",
    "plt.ylabel('예측 Yearly Amount Spent')\n",
    "plt.show()"
   ]
  },
  {
   "cell_type": "markdown",
   "id": "a765f889",
   "metadata": {},
   "source": [
    "# R 문법으로 statsmodels 회귀분석"
   ]
  },
  {
   "cell_type": "code",
   "execution_count": 140,
   "id": "c84e9b61",
   "metadata": {},
   "outputs": [],
   "source": [
    "# import statsmodels.api as sm - 파이썬 방식\n",
    "from statsmodels.formula.api import ols"
   ]
  },
  {
   "cell_type": "code",
   "execution_count": 143,
   "id": "87fcfeb8",
   "metadata": {},
   "outputs": [],
   "source": [
    "# X_train"
   ]
  },
  {
   "cell_type": "code",
   "execution_count": 144,
   "id": "dc03c2a9",
   "metadata": {},
   "outputs": [],
   "source": [
    "# X_test"
   ]
  },
  {
   "cell_type": "code",
   "execution_count": 145,
   "id": "1ef4cf5d",
   "metadata": {},
   "outputs": [
    {
     "data": {
      "text/html": [
       "<div>\n",
       "<style scoped>\n",
       "    .dataframe tbody tr th:only-of-type {\n",
       "        vertical-align: middle;\n",
       "    }\n",
       "\n",
       "    .dataframe tbody tr th {\n",
       "        vertical-align: top;\n",
       "    }\n",
       "\n",
       "    .dataframe thead th {\n",
       "        text-align: right;\n",
       "    }\n",
       "</style>\n",
       "<table border=\"1\" class=\"dataframe\">\n",
       "  <thead>\n",
       "    <tr style=\"text-align: right;\">\n",
       "      <th></th>\n",
       "      <th>Avg. Session Length</th>\n",
       "      <th>Time on App</th>\n",
       "      <th>Time on Website</th>\n",
       "      <th>Length of Membership</th>\n",
       "      <th>Yearly Amount Spent</th>\n",
       "    </tr>\n",
       "  </thead>\n",
       "  <tbody>\n",
       "    <tr>\n",
       "      <th>249</th>\n",
       "      <td>0.728756</td>\n",
       "      <td>-0.140376</td>\n",
       "      <td>-0.173216</td>\n",
       "      <td>0.065197</td>\n",
       "      <td>518.786483</td>\n",
       "    </tr>\n",
       "    <tr>\n",
       "      <th>433</th>\n",
       "      <td>1.233670</td>\n",
       "      <td>-0.235492</td>\n",
       "      <td>-0.700765</td>\n",
       "      <td>-1.413095</td>\n",
       "      <td>434.144202</td>\n",
       "    </tr>\n",
       "    <tr>\n",
       "      <th>19</th>\n",
       "      <td>-0.449465</td>\n",
       "      <td>1.935961</td>\n",
       "      <td>0.166982</td>\n",
       "      <td>0.483620</td>\n",
       "      <td>605.061039</td>\n",
       "    </tr>\n",
       "    <tr>\n",
       "      <th>322</th>\n",
       "      <td>0.206170</td>\n",
       "      <td>-1.328388</td>\n",
       "      <td>-0.860896</td>\n",
       "      <td>0.505068</td>\n",
       "      <td>478.262126</td>\n",
       "    </tr>\n",
       "    <tr>\n",
       "      <th>332</th>\n",
       "      <td>0.084123</td>\n",
       "      <td>-0.321354</td>\n",
       "      <td>0.899668</td>\n",
       "      <td>-1.342230</td>\n",
       "      <td>424.202827</td>\n",
       "    </tr>\n",
       "    <tr>\n",
       "      <th>...</th>\n",
       "      <td>...</td>\n",
       "      <td>...</td>\n",
       "      <td>...</td>\n",
       "      <td>...</td>\n",
       "      <td>...</td>\n",
       "    </tr>\n",
       "    <tr>\n",
       "      <th>106</th>\n",
       "      <td>-0.780032</td>\n",
       "      <td>0.133039</td>\n",
       "      <td>-0.854333</td>\n",
       "      <td>0.208220</td>\n",
       "      <td>494.551861</td>\n",
       "    </tr>\n",
       "    <tr>\n",
       "      <th>270</th>\n",
       "      <td>0.958189</td>\n",
       "      <td>0.900460</td>\n",
       "      <td>1.607973</td>\n",
       "      <td>-0.284756</td>\n",
       "      <td>540.995739</td>\n",
       "    </tr>\n",
       "    <tr>\n",
       "      <th>348</th>\n",
       "      <td>-1.265871</td>\n",
       "      <td>-1.173271</td>\n",
       "      <td>-2.088751</td>\n",
       "      <td>-0.428040</td>\n",
       "      <td>392.810345</td>\n",
       "    </tr>\n",
       "    <tr>\n",
       "      <th>435</th>\n",
       "      <td>-0.812250</td>\n",
       "      <td>2.079565</td>\n",
       "      <td>0.002649</td>\n",
       "      <td>0.188979</td>\n",
       "      <td>571.216005</td>\n",
       "    </tr>\n",
       "    <tr>\n",
       "      <th>102</th>\n",
       "      <td>-0.644256</td>\n",
       "      <td>-0.610102</td>\n",
       "      <td>0.550390</td>\n",
       "      <td>-0.955676</td>\n",
       "      <td>420.737673</td>\n",
       "    </tr>\n",
       "  </tbody>\n",
       "</table>\n",
       "<p>400 rows × 5 columns</p>\n",
       "</div>"
      ],
      "text/plain": [
       "     Avg. Session Length  Time on App  Time on Website  Length of Membership  \\\n",
       "249             0.728756    -0.140376        -0.173216              0.065197   \n",
       "433             1.233670    -0.235492        -0.700765             -1.413095   \n",
       "19             -0.449465     1.935961         0.166982              0.483620   \n",
       "322             0.206170    -1.328388        -0.860896              0.505068   \n",
       "332             0.084123    -0.321354         0.899668             -1.342230   \n",
       "..                   ...          ...              ...                   ...   \n",
       "106            -0.780032     0.133039        -0.854333              0.208220   \n",
       "270             0.958189     0.900460         1.607973             -0.284756   \n",
       "348            -1.265871    -1.173271        -2.088751             -0.428040   \n",
       "435            -0.812250     2.079565         0.002649              0.188979   \n",
       "102            -0.644256    -0.610102         0.550390             -0.955676   \n",
       "\n",
       "     Yearly Amount Spent  \n",
       "249           518.786483  \n",
       "433           434.144202  \n",
       "19            605.061039  \n",
       "322           478.262126  \n",
       "332           424.202827  \n",
       "..                   ...  \n",
       "106           494.551861  \n",
       "270           540.995739  \n",
       "348           392.810345  \n",
       "435           571.216005  \n",
       "102           420.737673  \n",
       "\n",
       "[400 rows x 5 columns]"
      ]
     },
     "execution_count": 145,
     "metadata": {},
     "output_type": "execute_result"
    }
   ],
   "source": [
    "# 과적합 방지 -> 제약조건 \n",
    "train_data = pd.concat([X_train, y_train], axis=1)\n",
    "train_data"
   ]
  },
  {
   "cell_type": "code",
   "execution_count": 147,
   "id": "1dc5ac7a",
   "metadata": {
    "scrolled": false
   },
   "outputs": [
    {
     "data": {
      "text/html": [
       "<div>\n",
       "<style scoped>\n",
       "    .dataframe tbody tr th:only-of-type {\n",
       "        vertical-align: middle;\n",
       "    }\n",
       "\n",
       "    .dataframe tbody tr th {\n",
       "        vertical-align: top;\n",
       "    }\n",
       "\n",
       "    .dataframe thead th {\n",
       "        text-align: right;\n",
       "    }\n",
       "</style>\n",
       "<table border=\"1\" class=\"dataframe\">\n",
       "  <thead>\n",
       "    <tr style=\"text-align: right;\">\n",
       "      <th></th>\n",
       "      <th>Avg. Session Length</th>\n",
       "      <th>Time on App</th>\n",
       "      <th>Time on Website</th>\n",
       "      <th>Length of Membership</th>\n",
       "      <th>Yearly Amount Spent</th>\n",
       "    </tr>\n",
       "  </thead>\n",
       "  <tbody>\n",
       "    <tr>\n",
       "      <th>361</th>\n",
       "      <td>-0.997132</td>\n",
       "      <td>-1.713455</td>\n",
       "      <td>1.991749</td>\n",
       "      <td>-0.130046</td>\n",
       "      <td>401.033135</td>\n",
       "    </tr>\n",
       "    <tr>\n",
       "      <th>73</th>\n",
       "      <td>-0.256010</td>\n",
       "      <td>0.761003</td>\n",
       "      <td>0.010579</td>\n",
       "      <td>0.276169</td>\n",
       "      <td>534.777188</td>\n",
       "    </tr>\n",
       "    <tr>\n",
       "      <th>374</th>\n",
       "      <td>-1.635907</td>\n",
       "      <td>-1.960221</td>\n",
       "      <td>1.006187</td>\n",
       "      <td>0.652866</td>\n",
       "      <td>418.602742</td>\n",
       "    </tr>\n",
       "    <tr>\n",
       "      <th>155</th>\n",
       "      <td>-0.620106</td>\n",
       "      <td>1.402969</td>\n",
       "      <td>0.214506</td>\n",
       "      <td>-0.610417</td>\n",
       "      <td>503.978379</td>\n",
       "    </tr>\n",
       "    <tr>\n",
       "      <th>104</th>\n",
       "      <td>-1.694561</td>\n",
       "      <td>-1.065741</td>\n",
       "      <td>1.036687</td>\n",
       "      <td>-0.135598</td>\n",
       "      <td>410.069611</td>\n",
       "    </tr>\n",
       "    <tr>\n",
       "      <th>...</th>\n",
       "      <td>...</td>\n",
       "      <td>...</td>\n",
       "      <td>...</td>\n",
       "      <td>...</td>\n",
       "      <td>...</td>\n",
       "    </tr>\n",
       "    <tr>\n",
       "      <th>347</th>\n",
       "      <td>0.718270</td>\n",
       "      <td>-0.754847</td>\n",
       "      <td>0.800082</td>\n",
       "      <td>1.529081</td>\n",
       "      <td>593.156401</td>\n",
       "    </tr>\n",
       "    <tr>\n",
       "      <th>86</th>\n",
       "      <td>0.827716</td>\n",
       "      <td>0.460923</td>\n",
       "      <td>0.129021</td>\n",
       "      <td>-0.874853</td>\n",
       "      <td>487.379306</td>\n",
       "    </tr>\n",
       "    <tr>\n",
       "      <th>75</th>\n",
       "      <td>-1.025263</td>\n",
       "      <td>0.180722</td>\n",
       "      <td>1.682520</td>\n",
       "      <td>-0.435901</td>\n",
       "      <td>478.719357</td>\n",
       "    </tr>\n",
       "    <tr>\n",
       "      <th>438</th>\n",
       "      <td>-0.924682</td>\n",
       "      <td>-2.014653</td>\n",
       "      <td>0.158072</td>\n",
       "      <td>-0.032122</td>\n",
       "      <td>392.992256</td>\n",
       "    </tr>\n",
       "    <tr>\n",
       "      <th>15</th>\n",
       "      <td>-2.355355</td>\n",
       "      <td>0.580114</td>\n",
       "      <td>-0.794020</td>\n",
       "      <td>-0.204771</td>\n",
       "      <td>461.780742</td>\n",
       "    </tr>\n",
       "  </tbody>\n",
       "</table>\n",
       "<p>100 rows × 5 columns</p>\n",
       "</div>"
      ],
      "text/plain": [
       "     Avg. Session Length  Time on App  Time on Website  Length of Membership  \\\n",
       "361            -0.997132    -1.713455         1.991749             -0.130046   \n",
       "73             -0.256010     0.761003         0.010579              0.276169   \n",
       "374            -1.635907    -1.960221         1.006187              0.652866   \n",
       "155            -0.620106     1.402969         0.214506             -0.610417   \n",
       "104            -1.694561    -1.065741         1.036687             -0.135598   \n",
       "..                   ...          ...              ...                   ...   \n",
       "347             0.718270    -0.754847         0.800082              1.529081   \n",
       "86              0.827716     0.460923         0.129021             -0.874853   \n",
       "75             -1.025263     0.180722         1.682520             -0.435901   \n",
       "438            -0.924682    -2.014653         0.158072             -0.032122   \n",
       "15             -2.355355     0.580114        -0.794020             -0.204771   \n",
       "\n",
       "     Yearly Amount Spent  \n",
       "361           401.033135  \n",
       "73            534.777188  \n",
       "374           418.602742  \n",
       "155           503.978379  \n",
       "104           410.069611  \n",
       "..                   ...  \n",
       "347           593.156401  \n",
       "86            487.379306  \n",
       "75            478.719357  \n",
       "438           392.992256  \n",
       "15            461.780742  \n",
       "\n",
       "[100 rows x 5 columns]"
      ]
     },
     "execution_count": 147,
     "metadata": {},
     "output_type": "execute_result"
    }
   ],
   "source": [
    "test_data = pd.concat([X_test, y_test], axis=1)\n",
    "test_data"
   ]
  },
  {
   "cell_type": "code",
   "execution_count": 156,
   "id": "a9ecde9b",
   "metadata": {},
   "outputs": [],
   "source": [
    "train_data.columns = ['AvgSessionLength', 'TimeonApp', 'TimeonWebsite','LengthofMembership', 'YearlyAmountSpent']"
   ]
  },
  {
   "cell_type": "code",
   "execution_count": 159,
   "id": "d2daccbe",
   "metadata": {},
   "outputs": [],
   "source": [
    "test_data.columns = ['AvgSessionLength', 'TimeonApp', 'TimeonWebsite','LengthofMembership', 'YearlyAmountSpent']"
   ]
  },
  {
   "cell_type": "code",
   "execution_count": 161,
   "id": "b44270d7",
   "metadata": {},
   "outputs": [
    {
     "name": "stdout",
     "output_type": "stream",
     "text": [
      "                            OLS Regression Results                            \n",
      "==============================================================================\n",
      "Dep. Variable:      YearlyAmountSpent   R-squared:                       0.985\n",
      "Model:                            OLS   Adj. R-squared:                  0.985\n",
      "Method:                 Least Squares   F-statistic:                     6676.\n",
      "Date:                Wed, 07 May 2025   Prob (F-statistic):               0.00\n",
      "Time:                        17:28:03   Log-Likelihood:                -1480.1\n",
      "No. Observations:                 400   AIC:                             2970.\n",
      "Df Residuals:                     395   BIC:                             2990.\n",
      "Df Model:                           4                                         \n",
      "Covariance Type:            nonrobust                                         \n",
      "======================================================================================\n",
      "                         coef    std err          t      P>|t|      [0.025      0.975]\n",
      "--------------------------------------------------------------------------------------\n",
      "Intercept            501.9922      0.493   1019.205      0.000     501.024     502.960\n",
      "AvgSessionLength      25.2504      0.493     51.212      0.000      24.281      26.220\n",
      "TimeonApp             38.7035      0.495     78.180      0.000      37.730      39.677\n",
      "TimeonWebsite          0.3155      0.495      0.638      0.524      -0.657       1.288\n",
      "LengthofMembership    63.5432      0.494    128.620      0.000      62.572      64.514\n",
      "==============================================================================\n",
      "Omnibus:                        0.388   Durbin-Watson:                   2.034\n",
      "Prob(Omnibus):                  0.824   Jarque-Bera (JB):                0.248\n",
      "Skew:                          -0.048   Prob(JB):                        0.884\n",
      "Kurtosis:                       3.075   Cond. No.                         1.11\n",
      "==============================================================================\n",
      "\n",
      "Notes:\n",
      "[1] Standard Errors assume that the covariance matrix of the errors is correctly specified.\n"
     ]
    }
   ],
   "source": [
    "model = ols('YearlyAmountSpent ~ AvgSessionLength + TimeonApp + TimeonWebsite + LengthofMembership', data=train_data).fit()\n",
    "print(model.summary())"
   ]
  },
  {
   "cell_type": "code",
   "execution_count": 163,
   "id": "053e0b3d",
   "metadata": {},
   "outputs": [
    {
     "data": {
      "text/plain": [
       "'AvgSessionLength+TimeonApp+TimeonWebsite+LengthofMembership'"
      ]
     },
     "execution_count": 163,
     "metadata": {},
     "output_type": "execute_result"
    }
   ],
   "source": [
    "'+'.join(train_data.columns[:-1])"
   ]
  },
  {
   "cell_type": "code",
   "execution_count": 164,
   "id": "05f0189e",
   "metadata": {},
   "outputs": [
    {
     "name": "stdout",
     "output_type": "stream",
     "text": [
      "                            OLS Regression Results                            \n",
      "==============================================================================\n",
      "Dep. Variable:      YearlyAmountSpent   R-squared:                       0.985\n",
      "Model:                            OLS   Adj. R-squared:                  0.985\n",
      "Method:                 Least Squares   F-statistic:                     6676.\n",
      "Date:                Wed, 07 May 2025   Prob (F-statistic):               0.00\n",
      "Time:                        17:30:49   Log-Likelihood:                -1480.1\n",
      "No. Observations:                 400   AIC:                             2970.\n",
      "Df Residuals:                     395   BIC:                             2990.\n",
      "Df Model:                           4                                         \n",
      "Covariance Type:            nonrobust                                         \n",
      "======================================================================================\n",
      "                         coef    std err          t      P>|t|      [0.025      0.975]\n",
      "--------------------------------------------------------------------------------------\n",
      "Intercept            501.9922      0.493   1019.205      0.000     501.024     502.960\n",
      "AvgSessionLength      25.2504      0.493     51.212      0.000      24.281      26.220\n",
      "TimeonApp             38.7035      0.495     78.180      0.000      37.730      39.677\n",
      "TimeonWebsite          0.3155      0.495      0.638      0.524      -0.657       1.288\n",
      "LengthofMembership    63.5432      0.494    128.620      0.000      62.572      64.514\n",
      "==============================================================================\n",
      "Omnibus:                        0.388   Durbin-Watson:                   2.034\n",
      "Prob(Omnibus):                  0.824   Jarque-Bera (JB):                0.248\n",
      "Skew:                          -0.048   Prob(JB):                        0.884\n",
      "Kurtosis:                       3.075   Cond. No.                         1.11\n",
      "==============================================================================\n",
      "\n",
      "Notes:\n",
      "[1] Standard Errors assume that the covariance matrix of the errors is correctly specified.\n"
     ]
    }
   ],
   "source": [
    "model = ols('YearlyAmountSpent ~ ' + '+'.join(train_data.columns[:-1]), data=train_data).fit()\n",
    "print(model.summary())"
   ]
  },
  {
   "cell_type": "markdown",
   "id": "d8098bcf",
   "metadata": {},
   "source": [
    "# 사이킷런을 이용한 회귀분석"
   ]
  },
  {
   "cell_type": "code",
   "execution_count": 165,
   "id": "0294a2cd",
   "metadata": {},
   "outputs": [],
   "source": [
    "from sklearn.linear_model import LinearRegression"
   ]
  },
  {
   "cell_type": "code",
   "execution_count": 167,
   "id": "aee7a288",
   "metadata": {},
   "outputs": [
    {
     "name": "stdout",
     "output_type": "stream",
     "text": [
      "mse:  109.86374118394042\n",
      "rmse:  10.481590584636495\n"
     ]
    }
   ],
   "source": [
    "slr = LinearRegression()\n",
    "slr.fit(X_train, y_train)\n",
    "pred3 = slr.predict(X_test)\n",
    "\n",
    "print('mse: ',mean_squared_error(y_test, pred3))\n",
    "print('rmse: ',np.sqrt(mean_squared_error(y_test, pred3)))"
   ]
  },
  {
   "cell_type": "code",
   "execution_count": 168,
   "id": "93a73359",
   "metadata": {},
   "outputs": [
    {
     "name": "stdout",
     "output_type": "stream",
     "text": [
      "y절편 = 501.9921512124531\n"
     ]
    }
   ],
   "source": [
    "# y 절편\n",
    "print('y절편 =', slr.intercept_)"
   ]
  },
  {
   "cell_type": "code",
   "execution_count": 169,
   "id": "eaa6de83",
   "metadata": {},
   "outputs": [
    {
     "name": "stdout",
     "output_type": "stream",
     "text": [
      "각 변수의 회귀 계수:  [25.25038131 38.70350139  0.31546926 63.54321107]\n"
     ]
    }
   ],
   "source": [
    "print('각 변수의 회귀 계수: ', slr.coef_)"
   ]
  },
  {
   "cell_type": "code",
   "execution_count": 170,
   "id": "2cc611ef",
   "metadata": {},
   "outputs": [
    {
     "name": "stdout",
     "output_type": "stream",
     "text": [
      "각 변수의 이름:  ['Avg. Session Length' 'Time on App' 'Time on Website'\n",
      " 'Length of Membership']\n"
     ]
    }
   ],
   "source": [
    "print('각 변수의 이름: ', slr.feature_names_in_)"
   ]
  },
  {
   "cell_type": "code",
   "execution_count": 172,
   "id": "5d4158f3",
   "metadata": {},
   "outputs": [
    {
     "data": {
      "text/html": [
       "<div>\n",
       "<style scoped>\n",
       "    .dataframe tbody tr th:only-of-type {\n",
       "        vertical-align: middle;\n",
       "    }\n",
       "\n",
       "    .dataframe tbody tr th {\n",
       "        vertical-align: top;\n",
       "    }\n",
       "\n",
       "    .dataframe thead th {\n",
       "        text-align: right;\n",
       "    }\n",
       "</style>\n",
       "<table border=\"1\" class=\"dataframe\">\n",
       "  <thead>\n",
       "    <tr style=\"text-align: right;\">\n",
       "      <th></th>\n",
       "      <th>feature</th>\n",
       "      <th>coef</th>\n",
       "    </tr>\n",
       "  </thead>\n",
       "  <tbody>\n",
       "    <tr>\n",
       "      <th>0</th>\n",
       "      <td>Avg. Session Length</td>\n",
       "      <td>25.250381</td>\n",
       "    </tr>\n",
       "    <tr>\n",
       "      <th>1</th>\n",
       "      <td>Time on App</td>\n",
       "      <td>38.703501</td>\n",
       "    </tr>\n",
       "    <tr>\n",
       "      <th>2</th>\n",
       "      <td>Time on Website</td>\n",
       "      <td>0.315469</td>\n",
       "    </tr>\n",
       "    <tr>\n",
       "      <th>3</th>\n",
       "      <td>Length of Membership</td>\n",
       "      <td>63.543211</td>\n",
       "    </tr>\n",
       "  </tbody>\n",
       "</table>\n",
       "</div>"
      ],
      "text/plain": [
       "                feature       coef\n",
       "0   Avg. Session Length  25.250381\n",
       "1           Time on App  38.703501\n",
       "2       Time on Website   0.315469\n",
       "3  Length of Membership  63.543211"
      ]
     },
     "execution_count": 172,
     "metadata": {},
     "output_type": "execute_result"
    }
   ],
   "source": [
    "model_coef = pd.DataFrame(dict(feature=slr.feature_names_in_, coef=slr.coef_))\n",
    "model_coef"
   ]
  },
  {
   "cell_type": "markdown",
   "id": "f148d367",
   "metadata": {},
   "source": [
    "### $ R^2$ 값 출력"
   ]
  },
  {
   "cell_type": "code",
   "execution_count": 173,
   "id": "3bb02a85",
   "metadata": {},
   "outputs": [
    {
     "name": "stdout",
     "output_type": "stream",
     "text": [
      "r2 =  0.9778130629184126\n"
     ]
    }
   ],
   "source": [
    "r2 = slr.score(X_test, y_test)\n",
    "print('r2 = ', r2)"
   ]
  },
  {
   "cell_type": "code",
   "execution_count": null,
   "id": "8a47c6b9",
   "metadata": {},
   "outputs": [],
   "source": []
  },
  {
   "cell_type": "code",
   "execution_count": null,
   "id": "57c03237",
   "metadata": {},
   "outputs": [],
   "source": []
  },
  {
   "cell_type": "code",
   "execution_count": null,
   "id": "4f8fc511",
   "metadata": {},
   "outputs": [],
   "source": []
  },
  {
   "cell_type": "code",
   "execution_count": null,
   "id": "a26601fd",
   "metadata": {},
   "outputs": [],
   "source": []
  },
  {
   "cell_type": "code",
   "execution_count": null,
   "id": "fdf84da0",
   "metadata": {},
   "outputs": [],
   "source": []
  },
  {
   "cell_type": "code",
   "execution_count": null,
   "id": "01be5a05",
   "metadata": {},
   "outputs": [],
   "source": []
  },
  {
   "cell_type": "code",
   "execution_count": null,
   "id": "e8c0416b",
   "metadata": {},
   "outputs": [],
   "source": []
  },
  {
   "cell_type": "code",
   "execution_count": null,
   "id": "f98b80b7",
   "metadata": {},
   "outputs": [],
   "source": []
  },
  {
   "cell_type": "code",
   "execution_count": null,
   "id": "918c351e",
   "metadata": {},
   "outputs": [],
   "source": []
  }
 ],
 "metadata": {
  "kernelspec": {
   "display_name": "Python 3 (ipykernel)",
   "language": "python",
   "name": "python3"
  },
  "language_info": {
   "codemirror_mode": {
    "name": "ipython",
    "version": 3
   },
   "file_extension": ".py",
   "mimetype": "text/x-python",
   "name": "python",
   "nbconvert_exporter": "python",
   "pygments_lexer": "ipython3",
   "version": "3.9.21"
  }
 },
 "nbformat": 4,
 "nbformat_minor": 5
}
