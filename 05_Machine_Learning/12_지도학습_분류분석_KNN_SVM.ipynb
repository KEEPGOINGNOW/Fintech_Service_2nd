{
 "cells": [
  {
   "cell_type": "markdown",
   "id": "17e6ea48",
   "metadata": {},
   "source": [
    "# KNN_SVM_프로모션효율_예측분석"
   ]
  },
  {
   "cell_type": "markdown",
   "id": "4df871d3",
   "metadata": {},
   "source": [
    "### KNN과 SVM 모델임 어떤 모델인지 공부하여 작성하기"
   ]
  },
  {
   "cell_type": "code",
   "execution_count": 2,
   "id": "32a6acbb",
   "metadata": {},
   "outputs": [],
   "source": [
    "import pandas as pd\n",
    "import numpy as np\n",
    "import matplotlib.pyplot as plt\n",
    "import koreanize_matplotlib\n",
    "import seaborn as sns"
   ]
  },
  {
   "cell_type": "markdown",
   "id": "55ed2d2d",
   "metadata": {},
   "source": [
    "# 쇼핑몰 고객 데이터 : 프로모션 쿠폰 발행하고 사용 여부 데이터 수집\n",
    "- mem : 고객ID, 최근 방문일, 사는 지역, 추천여부, 주요접속채널, 쿠폰 사용여부(Target)\n",
    "- tran : 고객ID, 구매수량, 총 구매금액\n",
    "- 전통적 마케팅 분석 기법인 RFM 기법을 활용해 고객 데이터에서 파생변수 생성 후 분석\n",
    "    - R(Recency) : 현재일 - 최근 구매일\n",
    "    - F(Frequency) : 구매빈도\n",
    "    - M(Monetary) : 구매금액\n",
    "- 종속변수 : conversion \n",
    "    - 고객이 프로모션에 반응 했는가?(1(yes)/0(no))"
   ]
  },
  {
   "cell_type": "markdown",
   "id": "a781434c",
   "metadata": {},
   "source": [
    "## 데이터 불러오기 및 확인"
   ]
  },
  {
   "cell_type": "code",
   "execution_count": 3,
   "id": "18a7e3ba",
   "metadata": {},
   "outputs": [],
   "source": [
    "mem = pd.read_csv('./data/member.csv')\n",
    "tran = pd.read_csv('./data/transaction.csv')"
   ]
  },
  {
   "cell_type": "code",
   "execution_count": 4,
   "id": "3f9e1167",
   "metadata": {},
   "outputs": [
    {
     "data": {
      "text/html": [
       "<div>\n",
       "<style scoped>\n",
       "    .dataframe tbody tr th:only-of-type {\n",
       "        vertical-align: middle;\n",
       "    }\n",
       "\n",
       "    .dataframe tbody tr th {\n",
       "        vertical-align: top;\n",
       "    }\n",
       "\n",
       "    .dataframe thead th {\n",
       "        text-align: right;\n",
       "    }\n",
       "</style>\n",
       "<table border=\"1\" class=\"dataframe\">\n",
       "  <thead>\n",
       "    <tr style=\"text-align: right;\">\n",
       "      <th></th>\n",
       "      <th>id</th>\n",
       "      <th>recency</th>\n",
       "      <th>zip_code</th>\n",
       "      <th>is_referral</th>\n",
       "      <th>channel</th>\n",
       "      <th>conversion</th>\n",
       "    </tr>\n",
       "  </thead>\n",
       "  <tbody>\n",
       "    <tr>\n",
       "      <th>0</th>\n",
       "      <td>906145</td>\n",
       "      <td>10</td>\n",
       "      <td>Surburban</td>\n",
       "      <td>0</td>\n",
       "      <td>Phone</td>\n",
       "      <td>0</td>\n",
       "    </tr>\n",
       "    <tr>\n",
       "      <th>1</th>\n",
       "      <td>184478</td>\n",
       "      <td>6</td>\n",
       "      <td>Rural</td>\n",
       "      <td>1</td>\n",
       "      <td>Web</td>\n",
       "      <td>0</td>\n",
       "    </tr>\n",
       "  </tbody>\n",
       "</table>\n",
       "</div>"
      ],
      "text/plain": [
       "       id  recency   zip_code  is_referral channel  conversion\n",
       "0  906145       10  Surburban            0   Phone           0\n",
       "1  184478        6      Rural            1     Web           0"
      ]
     },
     "execution_count": 4,
     "metadata": {},
     "output_type": "execute_result"
    }
   ],
   "source": [
    "mem.head(2)\n",
    "# mem.sample(10)"
   ]
  },
  {
   "cell_type": "code",
   "execution_count": 5,
   "id": "68480a1d",
   "metadata": {},
   "outputs": [
    {
     "data": {
      "text/html": [
       "<div>\n",
       "<style scoped>\n",
       "    .dataframe tbody tr th:only-of-type {\n",
       "        vertical-align: middle;\n",
       "    }\n",
       "\n",
       "    .dataframe tbody tr th {\n",
       "        vertical-align: top;\n",
       "    }\n",
       "\n",
       "    .dataframe thead th {\n",
       "        text-align: right;\n",
       "    }\n",
       "</style>\n",
       "<table border=\"1\" class=\"dataframe\">\n",
       "  <thead>\n",
       "    <tr style=\"text-align: right;\">\n",
       "      <th></th>\n",
       "      <th>id</th>\n",
       "      <th>num_item</th>\n",
       "      <th>total_amount</th>\n",
       "    </tr>\n",
       "  </thead>\n",
       "  <tbody>\n",
       "    <tr>\n",
       "      <th>0</th>\n",
       "      <td>906145</td>\n",
       "      <td>5</td>\n",
       "      <td>34000</td>\n",
       "    </tr>\n",
       "    <tr>\n",
       "      <th>1</th>\n",
       "      <td>906145</td>\n",
       "      <td>1</td>\n",
       "      <td>27000</td>\n",
       "    </tr>\n",
       "    <tr>\n",
       "      <th>2</th>\n",
       "      <td>906145</td>\n",
       "      <td>4</td>\n",
       "      <td>33000</td>\n",
       "    </tr>\n",
       "    <tr>\n",
       "      <th>3</th>\n",
       "      <td>184478</td>\n",
       "      <td>4</td>\n",
       "      <td>29000</td>\n",
       "    </tr>\n",
       "    <tr>\n",
       "      <th>4</th>\n",
       "      <td>394235</td>\n",
       "      <td>4</td>\n",
       "      <td>33000</td>\n",
       "    </tr>\n",
       "  </tbody>\n",
       "</table>\n",
       "</div>"
      ],
      "text/plain": [
       "       id  num_item  total_amount\n",
       "0  906145         5         34000\n",
       "1  906145         1         27000\n",
       "2  906145         4         33000\n",
       "3  184478         4         29000\n",
       "4  394235         4         33000"
      ]
     },
     "execution_count": 5,
     "metadata": {},
     "output_type": "execute_result"
    }
   ],
   "source": [
    "tran.head()"
   ]
  },
  {
   "cell_type": "markdown",
   "id": "5217c83c",
   "metadata": {},
   "source": [
    "## 데이터 타입 및 기초 통계량 확인"
   ]
  },
  {
   "cell_type": "code",
   "execution_count": 8,
   "id": "7179d61c",
   "metadata": {},
   "outputs": [
    {
     "name": "stdout",
     "output_type": "stream",
     "text": [
      "<class 'pandas.core.frame.DataFrame'>\n",
      "RangeIndex: 64000 entries, 0 to 63999\n",
      "Data columns (total 6 columns):\n",
      " #   Column       Non-Null Count  Dtype \n",
      "---  ------       --------------  ----- \n",
      " 0   id           64000 non-null  int64 \n",
      " 1   recency      64000 non-null  int64 \n",
      " 2   zip_code     64000 non-null  object\n",
      " 3   is_referral  64000 non-null  int64 \n",
      " 4   channel      64000 non-null  object\n",
      " 5   conversion   64000 non-null  int64 \n",
      "dtypes: int64(4), object(2)\n",
      "memory usage: 2.9+ MB\n",
      "None\n",
      "\n",
      "====================================================================================================\n",
      "\n"
     ]
    },
    {
     "data": {
      "text/html": [
       "<div>\n",
       "<style scoped>\n",
       "    .dataframe tbody tr th:only-of-type {\n",
       "        vertical-align: middle;\n",
       "    }\n",
       "\n",
       "    .dataframe tbody tr th {\n",
       "        vertical-align: top;\n",
       "    }\n",
       "\n",
       "    .dataframe thead th {\n",
       "        text-align: right;\n",
       "    }\n",
       "</style>\n",
       "<table border=\"1\" class=\"dataframe\">\n",
       "  <thead>\n",
       "    <tr style=\"text-align: right;\">\n",
       "      <th></th>\n",
       "      <th>id</th>\n",
       "      <th>recency</th>\n",
       "      <th>is_referral</th>\n",
       "      <th>conversion</th>\n",
       "    </tr>\n",
       "  </thead>\n",
       "  <tbody>\n",
       "    <tr>\n",
       "      <th>count</th>\n",
       "      <td>64000.000000</td>\n",
       "      <td>64000.000000</td>\n",
       "      <td>64000.000000</td>\n",
       "      <td>64000.000000</td>\n",
       "    </tr>\n",
       "    <tr>\n",
       "      <th>mean</th>\n",
       "      <td>550694.137797</td>\n",
       "      <td>5.763734</td>\n",
       "      <td>0.502250</td>\n",
       "      <td>0.146781</td>\n",
       "    </tr>\n",
       "    <tr>\n",
       "      <th>std</th>\n",
       "      <td>259105.689773</td>\n",
       "      <td>3.507592</td>\n",
       "      <td>0.499999</td>\n",
       "      <td>0.353890</td>\n",
       "    </tr>\n",
       "    <tr>\n",
       "      <th>min</th>\n",
       "      <td>100001.000000</td>\n",
       "      <td>1.000000</td>\n",
       "      <td>0.000000</td>\n",
       "      <td>0.000000</td>\n",
       "    </tr>\n",
       "    <tr>\n",
       "      <th>25%</th>\n",
       "      <td>326772.000000</td>\n",
       "      <td>2.000000</td>\n",
       "      <td>0.000000</td>\n",
       "      <td>0.000000</td>\n",
       "    </tr>\n",
       "    <tr>\n",
       "      <th>50%</th>\n",
       "      <td>551300.000000</td>\n",
       "      <td>6.000000</td>\n",
       "      <td>1.000000</td>\n",
       "      <td>0.000000</td>\n",
       "    </tr>\n",
       "    <tr>\n",
       "      <th>75%</th>\n",
       "      <td>774914.500000</td>\n",
       "      <td>9.000000</td>\n",
       "      <td>1.000000</td>\n",
       "      <td>0.000000</td>\n",
       "    </tr>\n",
       "    <tr>\n",
       "      <th>max</th>\n",
       "      <td>999997.000000</td>\n",
       "      <td>12.000000</td>\n",
       "      <td>1.000000</td>\n",
       "      <td>1.000000</td>\n",
       "    </tr>\n",
       "  </tbody>\n",
       "</table>\n",
       "</div>"
      ],
      "text/plain": [
       "                  id       recency   is_referral    conversion\n",
       "count   64000.000000  64000.000000  64000.000000  64000.000000\n",
       "mean   550694.137797      5.763734      0.502250      0.146781\n",
       "std    259105.689773      3.507592      0.499999      0.353890\n",
       "min    100001.000000      1.000000      0.000000      0.000000\n",
       "25%    326772.000000      2.000000      0.000000      0.000000\n",
       "50%    551300.000000      6.000000      1.000000      0.000000\n",
       "75%    774914.500000      9.000000      1.000000      0.000000\n",
       "max    999997.000000     12.000000      1.000000      1.000000"
      ]
     },
     "execution_count": 8,
     "metadata": {},
     "output_type": "execute_result"
    }
   ],
   "source": [
    "print(mem.info())\n",
    "print()\n",
    "print('='*100)\n",
    "print()\n",
    "\n",
    "mem.describe()"
   ]
  },
  {
   "cell_type": "code",
   "execution_count": 9,
   "id": "d8e5b3de",
   "metadata": {},
   "outputs": [
    {
     "name": "stdout",
     "output_type": "stream",
     "text": [
      "<class 'pandas.core.frame.DataFrame'>\n",
      "RangeIndex: 196836 entries, 0 to 196835\n",
      "Data columns (total 3 columns):\n",
      " #   Column        Non-Null Count   Dtype\n",
      "---  ------        --------------   -----\n",
      " 0   id            196836 non-null  int64\n",
      " 1   num_item      196836 non-null  int64\n",
      " 2   total_amount  196836 non-null  int64\n",
      "dtypes: int64(3)\n",
      "memory usage: 4.5 MB\n",
      "None\n",
      "\n",
      "====================================================================================================\n",
      "\n"
     ]
    },
    {
     "data": {
      "text/html": [
       "<div>\n",
       "<style scoped>\n",
       "    .dataframe tbody tr th:only-of-type {\n",
       "        vertical-align: middle;\n",
       "    }\n",
       "\n",
       "    .dataframe tbody tr th {\n",
       "        vertical-align: top;\n",
       "    }\n",
       "\n",
       "    .dataframe thead th {\n",
       "        text-align: right;\n",
       "    }\n",
       "</style>\n",
       "<table border=\"1\" class=\"dataframe\">\n",
       "  <thead>\n",
       "    <tr style=\"text-align: right;\">\n",
       "      <th></th>\n",
       "      <th>id</th>\n",
       "      <th>num_item</th>\n",
       "      <th>total_amount</th>\n",
       "    </tr>\n",
       "  </thead>\n",
       "  <tbody>\n",
       "    <tr>\n",
       "      <th>count</th>\n",
       "      <td>196836.000000</td>\n",
       "      <td>196836.000000</td>\n",
       "      <td>196836.000000</td>\n",
       "    </tr>\n",
       "    <tr>\n",
       "      <th>mean</th>\n",
       "      <td>550557.552932</td>\n",
       "      <td>3.078365</td>\n",
       "      <td>21837.102969</td>\n",
       "    </tr>\n",
       "    <tr>\n",
       "      <th>std</th>\n",
       "      <td>259254.795613</td>\n",
       "      <td>1.478408</td>\n",
       "      <td>8218.005565</td>\n",
       "    </tr>\n",
       "    <tr>\n",
       "      <th>min</th>\n",
       "      <td>100001.000000</td>\n",
       "      <td>1.000000</td>\n",
       "      <td>8000.000000</td>\n",
       "    </tr>\n",
       "    <tr>\n",
       "      <th>25%</th>\n",
       "      <td>326719.000000</td>\n",
       "      <td>2.000000</td>\n",
       "      <td>15000.000000</td>\n",
       "    </tr>\n",
       "    <tr>\n",
       "      <th>50%</th>\n",
       "      <td>550918.000000</td>\n",
       "      <td>3.000000</td>\n",
       "      <td>22000.000000</td>\n",
       "    </tr>\n",
       "    <tr>\n",
       "      <th>75%</th>\n",
       "      <td>774916.000000</td>\n",
       "      <td>4.000000</td>\n",
       "      <td>29000.000000</td>\n",
       "    </tr>\n",
       "    <tr>\n",
       "      <th>max</th>\n",
       "      <td>999997.000000</td>\n",
       "      <td>6.000000</td>\n",
       "      <td>38000.000000</td>\n",
       "    </tr>\n",
       "  </tbody>\n",
       "</table>\n",
       "</div>"
      ],
      "text/plain": [
       "                  id       num_item   total_amount\n",
       "count  196836.000000  196836.000000  196836.000000\n",
       "mean   550557.552932       3.078365   21837.102969\n",
       "std    259254.795613       1.478408    8218.005565\n",
       "min    100001.000000       1.000000    8000.000000\n",
       "25%    326719.000000       2.000000   15000.000000\n",
       "50%    550918.000000       3.000000   22000.000000\n",
       "75%    774916.000000       4.000000   29000.000000\n",
       "max    999997.000000       6.000000   38000.000000"
      ]
     },
     "execution_count": 9,
     "metadata": {},
     "output_type": "execute_result"
    }
   ],
   "source": [
    "# 전체 데이터가 숫자형 데이터로 확인\n",
    "# 고객ID, 구매수량, 총 구매금액\n",
    "print(tran.info())\n",
    "print()\n",
    "print('='*100)\n",
    "print()\n",
    "\n",
    "tran.describe()"
   ]
  },
  {
   "cell_type": "markdown",
   "id": "bef994f8",
   "metadata": {},
   "source": [
    "## 결측치 탐지"
   ]
  },
  {
   "cell_type": "code",
   "execution_count": 31,
   "id": "49cf9477",
   "metadata": {},
   "outputs": [
    {
     "data": {
      "text/plain": [
       "id             0\n",
       "recency        0\n",
       "zip_code       0\n",
       "is_referral    0\n",
       "channel        0\n",
       "conversion     0\n",
       "dtype: int64"
      ]
     },
     "execution_count": 31,
     "metadata": {},
     "output_type": "execute_result"
    }
   ],
   "source": [
    "mem.isna().sum()"
   ]
  },
  {
   "cell_type": "code",
   "execution_count": 32,
   "id": "568464cb",
   "metadata": {},
   "outputs": [
    {
     "data": {
      "text/plain": [
       "id              0\n",
       "num_item        0\n",
       "total_amount    0\n",
       "dtype: int64"
      ]
     },
     "execution_count": 32,
     "metadata": {},
     "output_type": "execute_result"
    }
   ],
   "source": [
    "tran.isna().sum()"
   ]
  },
  {
   "cell_type": "markdown",
   "id": "b90e7461",
   "metadata": {},
   "source": [
    "## 이상치 탐색 및 처리"
   ]
  },
  {
   "cell_type": "code",
   "execution_count": 56,
   "id": "7e5faa12",
   "metadata": {},
   "outputs": [
    {
     "data": {
      "text/plain": [
       "<Axes: >"
      ]
     },
     "execution_count": 56,
     "metadata": {},
     "output_type": "execute_result"
    },
    {
     "data": {
      "image/png": "[encoded data removed]",
      "text/plain": [
       "<Figure size 640x480 with 1 Axes>"
      ]
     },
     "metadata": {},
     "output_type": "display_data"
    }
   ],
   "source": [
    "# mem_num의 이상치 확인\n",
    "mem_num.plot(kind='box')"
   ]
  },
  {
   "cell_type": "code",
   "execution_count": 61,
   "id": "85986130",
   "metadata": {
    "scrolled": false
   },
   "outputs": [
    {
     "data": {
      "text/plain": [
       "<Axes: >"
      ]
     },
     "execution_count": 61,
     "metadata": {},
     "output_type": "execute_result"
    },
    {
     "data": {
      "image/png": "[encoded data removed]",
      "text/plain": [
       "<Figure size 640x480 with 1 Axes>"
      ]
     },
     "metadata": {},
     "output_type": "display_data"
    }
   ],
   "source": [
    "# 이상치 없는 것으로 확인\n",
    "tran.plot(kind='box')"
   ]
  },
  {
   "cell_type": "markdown",
   "id": "520ae46a",
   "metadata": {},
   "source": [
    "## EDA(탐색적 데이터 분석)"
   ]
  },
  {
   "cell_type": "code",
   "execution_count": 70,
   "id": "6388f622",
   "metadata": {},
   "outputs": [],
   "source": [
    "## 하나의 데이터셋으로 함침\n",
    "data = pd.merge(tran, mem, how='left', on='id')"
   ]
  },
  {
   "cell_type": "code",
   "execution_count": 72,
   "id": "9fd1c72b",
   "metadata": {},
   "outputs": [
    {
     "data": {
      "text/plain": [
       "id              0\n",
       "num_item        0\n",
       "total_amount    0\n",
       "recency         0\n",
       "zip_code        0\n",
       "is_referral     0\n",
       "channel         0\n",
       "conversion      0\n",
       "dtype: int64"
      ]
     },
     "execution_count": 72,
     "metadata": {},
     "output_type": "execute_result"
    }
   ],
   "source": [
    "data.isna().sum()"
   ]
  },
  {
   "cell_type": "code",
   "execution_count": 77,
   "id": "a0c2df0e",
   "metadata": {},
   "outputs": [
    {
     "data": {
      "text/plain": [
       "1882"
      ]
     },
     "execution_count": 77,
     "metadata": {},
     "output_type": "execute_result"
    }
   ],
   "source": [
    "len(data[data.duplicated() == True])"
   ]
  },
  {
   "cell_type": "code",
   "execution_count": 79,
   "id": "3a64cdac",
   "metadata": {},
   "outputs": [
    {
     "data": {
      "text/plain": [
       "0.9561259119266801"
      ]
     },
     "execution_count": 79,
     "metadata": {},
     "output_type": "execute_result"
    }
   ],
   "source": [
    "# 0.95% 이므로 drop 진행\n",
    "1882 / len(data) * 100"
   ]
  },
  {
   "cell_type": "code",
   "execution_count": 82,
   "id": "759eedb3",
   "metadata": {},
   "outputs": [],
   "source": [
    "data = data.drop_duplicates() "
   ]
  },
  {
   "cell_type": "code",
   "execution_count": 62,
   "id": "91bc2c20",
   "metadata": {},
   "outputs": [
    {
     "name": "stderr",
     "output_type": "stream",
     "text": [
      "C:\\Users\\Admin\\miniforge3\\envs\\fintech\\lib\\site-packages\\tqdm\\auto.py:21: TqdmWarning: IProgress not found. Please update jupyter and ipywidgets. See https://ipywidgets.readthedocs.io/en/stable/user_install.html\n",
      "  from .autonotebook import tqdm as notebook_tqdm\n"
     ]
    },
    {
     "data": {
      "text/html": [
       "\n",
       "            <div>\n",
       "                <ins><a href=\"https://ydata.ai/register\">Upgrade to ydata-sdk</a></ins>\n",
       "                <p>\n",
       "                    Improve your data and profiling with ydata-sdk, featuring data quality scoring, redundancy detection, outlier identification, text validation, and synthetic data generation.\n",
       "                </p>\n",
       "            </div>\n",
       "            "
      ],
      "text/plain": [
       "<IPython.core.display.HTML object>"
      ]
     },
     "metadata": {},
     "output_type": "display_data"
    }
   ],
   "source": [
    "from ydata_profiling import ProfileReport"
   ]
  },
  {
   "cell_type": "code",
   "execution_count": 137,
   "id": "c187a90b",
   "metadata": {},
   "outputs": [],
   "source": [
    "profile = ProfileReport(data, title=\"Profiling Report\")"
   ]
  },
  {
   "cell_type": "code",
   "execution_count": 138,
   "id": "1d99a6a7",
   "metadata": {},
   "outputs": [],
   "source": [
    "# profile.to_file(\"conversion_eda.html\")"
   ]
  },
  {
   "cell_type": "code",
   "execution_count": 89,
   "id": "dcd22451",
   "metadata": {},
   "outputs": [
    {
     "name": "stdout",
     "output_type": "stream",
     "text": [
      "<class 'pandas.core.frame.DataFrame'>\n",
      "Index: 194954 entries, 0 to 196835\n",
      "Data columns (total 8 columns):\n",
      " #   Column        Non-Null Count   Dtype \n",
      "---  ------        --------------   ----- \n",
      " 0   id            194954 non-null  int64 \n",
      " 1   num_item      194954 non-null  int64 \n",
      " 2   total_amount  194954 non-null  int64 \n",
      " 3   recency       194954 non-null  int64 \n",
      " 4   zip_code      194954 non-null  object\n",
      " 5   is_referral   194954 non-null  int64 \n",
      " 6   channel       194954 non-null  object\n",
      " 7   conversion    194954 non-null  int64 \n",
      "dtypes: int64(6), object(2)\n",
      "memory usage: 17.4+ MB\n"
     ]
    }
   ],
   "source": [
    "data.info()"
   ]
  },
  {
   "cell_type": "code",
   "execution_count": 92,
   "id": "775a4dbe",
   "metadata": {},
   "outputs": [],
   "source": [
    "data_obj = data.select_dtypes(include='object')\n",
    "data_num =  data.select_dtypes(exclude='object')"
   ]
  },
  {
   "cell_type": "code",
   "execution_count": 98,
   "id": "67b59966",
   "metadata": {
    "scrolled": true
   },
   "outputs": [
    {
     "name": "stdout",
     "output_type": "stream",
     "text": [
      "zip_code\n",
      "zip_code의 unique 수 : 3\n",
      "zip_code\n",
      "Surburban    28776\n",
      "Urban        25661\n",
      "Rural         9563\n",
      "Name: count, dtype: int64\n",
      "\n"
     ]
    },
    {
     "data": {
      "image/png": "[encoded data removed]",
      "text/plain": [
       "<Figure size 640x480 with 1 Axes>"
      ]
     },
     "metadata": {},
     "output_type": "display_data"
    },
    {
     "name": "stdout",
     "output_type": "stream",
     "text": [
      "           conversion\n",
      "zip_code             \n",
      "Rural        0.211234\n",
      "Surburban    0.159559\n",
      "Urban        0.157544\n",
      "\n",
      "\n",
      "channel\n",
      "channel의 unique 수 : 3\n",
      "channel\n",
      "Web             28217\n",
      "Phone           28021\n",
      "Multichannel     7762\n",
      "Name: count, dtype: int64\n",
      "\n"
     ]
    },
    {
     "data": {
      "image/png": "[encoded data removed]",
      "text/plain": [
       "<Figure size 640x480 with 1 Axes>"
      ]
     },
     "metadata": {},
     "output_type": "display_data"
    },
    {
     "name": "stdout",
     "output_type": "stream",
     "text": [
      "              conversion\n",
      "channel                 \n",
      "Multichannel    0.196306\n",
      "Web             0.180705\n",
      "Phone           0.144050\n",
      "\n",
      "\n"
     ]
    }
   ],
   "source": [
    "for col in data_obj:\n",
    "    print(col)\n",
    "    print(f\"{col}의 unique 수 : {mem_obj[col].nunique()}\", end='\\n')\n",
    "    print(mem_obj[col].value_counts())\n",
    "    print()\n",
    "    \n",
    "    # 시각화\n",
    "    mem_obj[col].value_counts().plot(kind='bar')\n",
    "    plt.show()\n",
    "    \n",
    "    print(data[[col, 'conversion']].groupby(col).mean().sort_values(by='conversion', ascending=False), end='\\n\\n')\n",
    "    print()"
   ]
  },
  {
   "cell_type": "code",
   "execution_count": 112,
   "id": "29d6db26",
   "metadata": {
    "scrolled": true
   },
   "outputs": [
    {
     "name": "stdout",
     "output_type": "stream",
     "text": [
      "id\n",
      "count    194954.000000\n",
      "mean     550522.933672\n",
      "std      259219.615642\n",
      "min      100001.000000\n",
      "25%      326731.000000\n",
      "50%      550835.000000\n",
      "75%      774844.000000\n",
      "max      999997.000000\n",
      "Name: id, dtype: float64\n",
      "\n",
      "\n"
     ]
    },
    {
     "data": {
      "image/png": "[encoded data removed]",
      "text/plain": [
       "<Figure size 640x480 with 1 Axes>"
      ]
     },
     "metadata": {},
     "output_type": "display_data"
    },
    {
     "name": "stdout",
     "output_type": "stream",
     "text": [
      "        conversion\n",
      "id                \n",
      "525469         1.0\n",
      "506857         1.0\n",
      "481242         1.0\n",
      "491300         1.0\n",
      "226128         1.0\n",
      "...            ...\n",
      "999932         0.0\n",
      "999981         0.0\n",
      "999990         0.0\n",
      "999995         0.0\n",
      "999997         0.0\n",
      "\n",
      "[64000 rows x 1 columns]\n",
      "\n",
      "num_item\n",
      "count    194954.000000\n",
      "mean          3.078731\n",
      "std           1.478383\n",
      "min           1.000000\n",
      "25%           2.000000\n",
      "50%           3.000000\n",
      "75%           4.000000\n",
      "max           6.000000\n",
      "Name: num_item, dtype: float64\n",
      "\n",
      "\n"
     ]
    },
    {
     "data": {
      "image/png": "[encoded data removed]",
      "text/plain": [
       "<Figure size 640x480 with 1 Axes>"
      ]
     },
     "metadata": {},
     "output_type": "display_data"
    },
    {
     "name": "stdout",
     "output_type": "stream",
     "text": [
      "          conversion\n",
      "num_item            \n",
      "6           1.000000\n",
      "4           0.144318\n",
      "2           0.143941\n",
      "1           0.143308\n",
      "3           0.141957\n",
      "5           0.141090\n",
      "\n",
      "total_amount\n",
      "count    194954.000000\n",
      "mean      21834.699468\n",
      "std        8218.316453\n",
      "min        8000.000000\n",
      "25%       15000.000000\n",
      "50%       22000.000000\n",
      "75%       29000.000000\n",
      "max       38000.000000\n",
      "Name: total_amount, dtype: float64\n",
      "\n",
      "\n"
     ]
    },
    {
     "data": {
      "image/png": "[encoded data removed]",
      "text/plain": [
       "<Figure size 640x480 with 1 Axes>"
      ]
     },
     "metadata": {},
     "output_type": "display_data"
    },
    {
     "name": "stdout",
     "output_type": "stream",
     "text": [
      "              conversion\n",
      "total_amount            \n",
      "37000           1.000000\n",
      "36000           1.000000\n",
      "38000           1.000000\n",
      "34000           0.165760\n",
      "9000            0.164616\n",
      "35000           0.162413\n",
      "14000           0.162033\n",
      "27000           0.162005\n",
      "11000           0.160209\n",
      "19000           0.159699\n",
      "24000           0.159582\n",
      "18000           0.159299\n",
      "21000           0.158199\n",
      "16000           0.157566\n",
      "12000           0.157391\n",
      "22000           0.157181\n",
      "30000           0.156883\n",
      "31000           0.156880\n",
      "23000           0.156736\n",
      "17000           0.156723\n",
      "13000           0.156620\n",
      "15000           0.156525\n",
      "25000           0.156517\n",
      "32000           0.154505\n",
      "20000           0.154191\n",
      "10000           0.154104\n",
      "26000           0.152189\n",
      "33000           0.151546\n",
      "28000           0.151528\n",
      "29000           0.148478\n",
      "8000            0.000000\n",
      "\n",
      "recency\n",
      "count    194954.000000\n",
      "mean          5.754481\n",
      "std           3.509296\n",
      "min           1.000000\n",
      "25%           2.000000\n",
      "50%           5.000000\n",
      "75%           9.000000\n",
      "max          12.000000\n",
      "Name: recency, dtype: float64\n",
      "\n",
      "\n"
     ]
    },
    {
     "data": {
      "image/png": "[encoded data removed]",
      "text/plain": [
       "<Figure size 640x480 with 1 Axes>"
      ]
     },
     "metadata": {},
     "output_type": "display_data"
    },
    {
     "name": "stdout",
     "output_type": "stream",
     "text": [
      "         conversion\n",
      "recency            \n",
      "1          0.218190\n",
      "2          0.202224\n",
      "3          0.187919\n",
      "4          0.168835\n",
      "5          0.163830\n",
      "6          0.159345\n",
      "7          0.151011\n",
      "8          0.146590\n",
      "12         0.142200\n",
      "11         0.135693\n",
      "9          0.130244\n",
      "10         0.127223\n",
      "\n",
      "is_referral\n",
      "count    194954.000000\n",
      "mean          0.501488\n",
      "std           0.499999\n",
      "min           0.000000\n",
      "25%           0.000000\n",
      "50%           1.000000\n",
      "75%           1.000000\n",
      "max           1.000000\n",
      "Name: is_referral, dtype: float64\n",
      "\n",
      "\n"
     ]
    },
    {
     "data": {
      "image/png": "[encoded data removed]",
      "text/plain": [
       "<Figure size 640x480 with 1 Axes>"
      ]
     },
     "metadata": {},
     "output_type": "display_data"
    },
    {
     "name": "stdout",
     "output_type": "stream",
     "text": [
      "             conversion\n",
      "is_referral            \n",
      "0              0.195561\n",
      "1              0.137725\n",
      "\n",
      "conversion\n",
      "count    194954.000000\n",
      "mean          0.166557\n",
      "std           0.372581\n",
      "min           0.000000\n",
      "25%           0.000000\n",
      "50%           0.000000\n",
      "75%           0.000000\n",
      "max           1.000000\n",
      "Name: conversion, dtype: float64\n",
      "\n",
      "\n"
     ]
    },
    {
     "data": {
      "image/png": "[encoded data removed]",
      "text/plain": [
       "<Figure size 640x480 with 1 Axes>"
      ]
     },
     "metadata": {},
     "output_type": "display_data"
    }
   ],
   "source": [
    "important_cols = []\n",
    "for col in data_num:\n",
    "    print(col)\n",
    "    print(data[col].describe(), end='\\n\\n')\n",
    "    print()\n",
    "    \n",
    "    # 시각화\n",
    "    data[col].value_counts().plot(kind='hist')\n",
    "    plt.show()\n",
    "    \n",
    "    if col != 'conversion':\n",
    "        print(data[[col, 'conversion']].groupby(col).mean().sort_values(by='conversion', ascending=False), end='\\n\\n')\n",
    "        ratio_result = data[[col, 'conversion']].groupby(col).mean().sort_values(by='conversion', ascending=False)\n",
    "        important_cols.append(ratio_result[ratio_result['conversion'] > 0.4].index)\n",
    "    else:\n",
    "        pass"
   ]
  },
  {
   "cell_type": "code",
   "execution_count": 129,
   "id": "2922f862",
   "metadata": {},
   "outputs": [],
   "source": [
    "final_col = []\n",
    "for col in important_cols:\n",
    "#     print(col)\n",
    "   if len(col) > 0:\n",
    "        final_col.append(col.name)"
   ]
  },
  {
   "cell_type": "code",
   "execution_count": 128,
   "id": "625a0c82",
   "metadata": {},
   "outputs": [
    {
     "data": {
      "text/plain": [
       "Index(['id', 'num_item', 'total_amount', 'recency', 'zip_code', 'is_referral',\n",
       "       'channel', 'conversion'],\n",
       "      dtype='object')"
      ]
     },
     "execution_count": 128,
     "metadata": {},
     "output_type": "execute_result"
    }
   ],
   "source": [
    "# conversion와 영향을 조금이라도 주고 받음 \n",
    "data.columns"
   ]
  },
  {
   "cell_type": "code",
   "execution_count": 132,
   "id": "8631fb39",
   "metadata": {},
   "outputs": [],
   "source": [
    "data = data.drop(['recency', 'zip_code', 'is_referral','channel'], axis=1)"
   ]
  },
  {
   "cell_type": "code",
   "execution_count": 133,
   "id": "384a0d38",
   "metadata": {},
   "outputs": [
    {
     "data": {
      "text/html": [
       "<div>\n",
       "<style scoped>\n",
       "    .dataframe tbody tr th:only-of-type {\n",
       "        vertical-align: middle;\n",
       "    }\n",
       "\n",
       "    .dataframe tbody tr th {\n",
       "        vertical-align: top;\n",
       "    }\n",
       "\n",
       "    .dataframe thead th {\n",
       "        text-align: right;\n",
       "    }\n",
       "</style>\n",
       "<table border=\"1\" class=\"dataframe\">\n",
       "  <thead>\n",
       "    <tr style=\"text-align: right;\">\n",
       "      <th></th>\n",
       "      <th>id</th>\n",
       "      <th>num_item</th>\n",
       "      <th>total_amount</th>\n",
       "      <th>conversion</th>\n",
       "    </tr>\n",
       "  </thead>\n",
       "  <tbody>\n",
       "    <tr>\n",
       "      <th>0</th>\n",
       "      <td>906145</td>\n",
       "      <td>5</td>\n",
       "      <td>34000</td>\n",
       "      <td>0</td>\n",
       "    </tr>\n",
       "    <tr>\n",
       "      <th>1</th>\n",
       "      <td>906145</td>\n",
       "      <td>1</td>\n",
       "      <td>27000</td>\n",
       "      <td>0</td>\n",
       "    </tr>\n",
       "    <tr>\n",
       "      <th>2</th>\n",
       "      <td>906145</td>\n",
       "      <td>4</td>\n",
       "      <td>33000</td>\n",
       "      <td>0</td>\n",
       "    </tr>\n",
       "    <tr>\n",
       "      <th>3</th>\n",
       "      <td>184478</td>\n",
       "      <td>4</td>\n",
       "      <td>29000</td>\n",
       "      <td>0</td>\n",
       "    </tr>\n",
       "    <tr>\n",
       "      <th>4</th>\n",
       "      <td>394235</td>\n",
       "      <td>4</td>\n",
       "      <td>33000</td>\n",
       "      <td>0</td>\n",
       "    </tr>\n",
       "    <tr>\n",
       "      <th>...</th>\n",
       "      <td>...</td>\n",
       "      <td>...</td>\n",
       "      <td>...</td>\n",
       "      <td>...</td>\n",
       "    </tr>\n",
       "    <tr>\n",
       "      <th>196831</th>\n",
       "      <td>536246</td>\n",
       "      <td>5</td>\n",
       "      <td>24000</td>\n",
       "      <td>1</td>\n",
       "    </tr>\n",
       "    <tr>\n",
       "      <th>196832</th>\n",
       "      <td>927617</td>\n",
       "      <td>5</td>\n",
       "      <td>26000</td>\n",
       "      <td>1</td>\n",
       "    </tr>\n",
       "    <tr>\n",
       "      <th>196833</th>\n",
       "      <td>927617</td>\n",
       "      <td>3</td>\n",
       "      <td>22000</td>\n",
       "      <td>1</td>\n",
       "    </tr>\n",
       "    <tr>\n",
       "      <th>196834</th>\n",
       "      <td>927617</td>\n",
       "      <td>3</td>\n",
       "      <td>18000</td>\n",
       "      <td>1</td>\n",
       "    </tr>\n",
       "    <tr>\n",
       "      <th>196835</th>\n",
       "      <td>927617</td>\n",
       "      <td>3</td>\n",
       "      <td>20000</td>\n",
       "      <td>1</td>\n",
       "    </tr>\n",
       "  </tbody>\n",
       "</table>\n",
       "<p>194954 rows × 4 columns</p>\n",
       "</div>"
      ],
      "text/plain": [
       "            id  num_item  total_amount  conversion\n",
       "0       906145         5         34000           0\n",
       "1       906145         1         27000           0\n",
       "2       906145         4         33000           0\n",
       "3       184478         4         29000           0\n",
       "4       394235         4         33000           0\n",
       "...        ...       ...           ...         ...\n",
       "196831  536246         5         24000           1\n",
       "196832  927617         5         26000           1\n",
       "196833  927617         3         22000           1\n",
       "196834  927617         3         18000           1\n",
       "196835  927617         3         20000           1\n",
       "\n",
       "[194954 rows x 4 columns]"
      ]
     },
     "execution_count": 133,
     "metadata": {},
     "output_type": "execute_result"
    }
   ],
   "source": [
    "data"
   ]
  },
  {
   "cell_type": "markdown",
   "id": "d50fbd18",
   "metadata": {},
   "source": [
    "### 컬럼 확인\n",
    "문자형 데이터는 0.2가 최대치여서 제외, 그나마 주요하게 영향을 주고 받은 id, num_item, total_amount, conversion을 선정"
   ]
  },
  {
   "cell_type": "markdown",
   "id": "ae79b2c1",
   "metadata": {},
   "source": [
    "## 홀드아웃(훈련데이터, 테스트 데이터로 분리)"
   ]
  },
  {
   "cell_type": "code",
   "execution_count": 135,
   "id": "dc63b3de",
   "metadata": {},
   "outputs": [],
   "source": [
    "X = data.drop('conversion', axis=1)\n",
    "y = data['conversion']"
   ]
  },
  {
   "cell_type": "code",
   "execution_count": 156,
   "id": "f2566eb6",
   "metadata": {},
   "outputs": [],
   "source": [
    "from sklearn.model_selection import train_test_split, GridSearchCV, RandomizedSearchCV\n",
    "from sklearn.tree import DecisionTreeClassifier\n",
    "from sklearn.ensemble import RandomForestClassifier\n",
    "from xgboost import XGBClassifier\n",
    "from lightgbm import LGBMClassifier\n",
    "from catboost import CatBoostClassifier\n",
    "from sklearn.neighbors import KNeighborsClassifier\n",
    "from sklearn.svm       import SVC\n",
    "from sklearn.metrics import classification_report, roc_auc_score"
   ]
  },
  {
   "cell_type": "code",
   "execution_count": 144,
   "id": "99d6f8e1",
   "metadata": {},
   "outputs": [],
   "source": [
    "X_train, X_test, y_train, y_test = train_test_split(X, y, test_size=0.3, stratify=y,random_state=40)"
   ]
  },
  {
   "cell_type": "code",
   "execution_count": 157,
   "id": "5cf1cf41",
   "metadata": {},
   "outputs": [
    {
     "name": "stdout",
     "output_type": "stream",
     "text": [
      "136467 58487\n",
      "136467 58487\n"
     ]
    }
   ],
   "source": [
    "print(len(X_train), len(X_test))\n",
    "print(len(y_train), len(y_test))"
   ]
  },
  {
   "cell_type": "markdown",
   "id": "b35216b8",
   "metadata": {},
   "source": [
    "## KNN 분석"
   ]
  },
  {
   "cell_type": "code",
   "execution_count": 161,
   "id": "024356fe",
   "metadata": {},
   "outputs": [
    {
     "name": "stdout",
     "output_type": "stream",
     "text": [
      "              precision    recall  f1-score   support\n",
      "\n",
      "           0       0.85      0.97      0.90     48746\n",
      "           1       0.43      0.12      0.19      9741\n",
      "\n",
      "    accuracy                           0.83     58487\n",
      "   macro avg       0.64      0.54      0.55     58487\n",
      "weighted avg       0.78      0.83      0.78     58487\n",
      "\n"
     ]
    }
   ],
   "source": [
    "knc = KNeighborsClassifier(n_jobs=10)\n",
    "knc.fit(X_train, y_train)\n",
    "pred = knc.predict(X_test)\n",
    "\n",
    "print(classification_report(y_test, pred))"
   ]
  },
  {
   "cell_type": "code",
   "execution_count": 162,
   "id": "0369c402",
   "metadata": {
    "scrolled": true
   },
   "outputs": [
    {
     "name": "stdout",
     "output_type": "stream",
     "text": [
      "============================== test_result_5 ==============================\n",
      "              precision    recall  f1-score   support\n",
      "\n",
      "           0       0.85      0.97      0.90     48746\n",
      "           1       0.43      0.12      0.19      9741\n",
      "\n",
      "    accuracy                           0.83     58487\n",
      "   macro avg       0.64      0.54      0.55     58487\n",
      "weighted avg       0.78      0.83      0.78     58487\n",
      "\n",
      "============================== test_result_6 ==============================\n",
      "              precision    recall  f1-score   support\n",
      "\n",
      "           0       0.84      0.99      0.91     48746\n",
      "           1       0.68      0.09      0.16      9741\n",
      "\n",
      "    accuracy                           0.84     58487\n",
      "   macro avg       0.76      0.54      0.53     58487\n",
      "weighted avg       0.82      0.84      0.79     58487\n",
      "\n",
      "============================== test_result_7 ==============================\n",
      "              precision    recall  f1-score   support\n",
      "\n",
      "           0       0.85      0.98      0.91     48746\n",
      "           1       0.55      0.10      0.17      9741\n",
      "\n",
      "    accuracy                           0.84     58487\n",
      "   macro avg       0.70      0.54      0.54     58487\n",
      "weighted avg       0.80      0.84      0.79     58487\n",
      "\n",
      "============================== test_result_8 ==============================\n",
      "              precision    recall  f1-score   support\n",
      "\n",
      "           0       0.84      1.00      0.91     48746\n",
      "           1       0.77      0.08      0.14      9741\n",
      "\n",
      "    accuracy                           0.84     58487\n",
      "   macro avg       0.81      0.54      0.53     58487\n",
      "weighted avg       0.83      0.84      0.79     58487\n",
      "\n",
      "============================== test_result_9 ==============================\n",
      "              precision    recall  f1-score   support\n",
      "\n",
      "           0       0.84      0.99      0.91     48746\n",
      "           1       0.67      0.09      0.15      9741\n",
      "\n",
      "    accuracy                           0.84     58487\n",
      "   macro avg       0.76      0.54      0.53     58487\n",
      "weighted avg       0.82      0.84      0.79     58487\n",
      "\n",
      "============================== test_result_10 ==============================\n",
      "              precision    recall  f1-score   support\n",
      "\n",
      "           0       0.84      1.00      0.91     48746\n",
      "           1       0.85      0.07      0.14      9741\n",
      "\n",
      "    accuracy                           0.84     58487\n",
      "   macro avg       0.85      0.54      0.52     58487\n",
      "weighted avg       0.84      0.84      0.78     58487\n",
      "\n"
     ]
    }
   ],
   "source": [
    "for i in range(5,11):\n",
    "    print('='*30, f\"test_result_{i}\", '='*30)\n",
    "    knc = KNeighborsClassifier(n_neighbors=i, n_jobs=10)\n",
    "    knc.fit(X_train, y_train)\n",
    "    pred = knc.predict(X_test)\n",
    "\n",
    "    print(classification_report(y_test, pred))"
   ]
  },
  {
   "cell_type": "markdown",
   "id": "95bcf7e1",
   "metadata": {},
   "source": [
    "## SVM 분석"
   ]
  },
  {
   "cell_type": "code",
   "execution_count": 11,
   "id": "5e731ce3",
   "metadata": {},
   "outputs": [],
   "source": [
    "# svc = SVC(class_weight='balanced', n_components=1000,,random_state=40)\n",
    "# svc.fit(X_train, y_train)\n",
    "# pred = svc.predict(X_test)\n",
    "\n",
    "# print(classification_report(y_test, pred))"
   ]
  },
  {
   "cell_type": "markdown",
   "id": "b16e20d2",
   "metadata": {},
   "source": [
    "## DecisionTree 분석"
   ]
  },
  {
   "cell_type": "code",
   "execution_count": 151,
   "id": "3b192441",
   "metadata": {},
   "outputs": [
    {
     "name": "stdout",
     "output_type": "stream",
     "text": [
      "              precision    recall  f1-score   support\n",
      "\n",
      "           0       0.91      0.91      0.91     48746\n",
      "           1       0.55      0.52      0.54      9741\n",
      "\n",
      "    accuracy                           0.85     58487\n",
      "   macro avg       0.73      0.72      0.72     58487\n",
      "weighted avg       0.85      0.85      0.85     58487\n",
      "\n"
     ]
    }
   ],
   "source": [
    "dtc = DecisionTreeClassifier(class_weight='balanced', random_state=40)\n",
    "dtc.fit(X_train, y_train)\n",
    "pred = dtc.predict(X_test)\n",
    "\n",
    "print(classification_report(y_test, pred))"
   ]
  },
  {
   "cell_type": "code",
   "execution_count": 150,
   "id": "56324082",
   "metadata": {
    "scrolled": true
   },
   "outputs": [],
   "source": [
    "# depth가 올라가면 판별하는 것이 늘어남, 동시에 정확도도 증가됨\n",
    "# for i in range(1,30):\n",
    "#     print('='*30, f\"test_result_{i}\", '='*30)\n",
    "#     dtc = DecisionTreeClassifier(max_depth=i,class_weight='balanced', random_state=40)\n",
    "#     dtc.fit(X_train, y_train)\n",
    "#     pred = dtc.predict(X_test)\n",
    "\n",
    "#     print(classification_report(y_test, pred))"
   ]
  },
  {
   "cell_type": "code",
   "execution_count": null,
   "id": "c935f26c",
   "metadata": {},
   "outputs": [],
   "source": []
  },
  {
   "cell_type": "code",
   "execution_count": null,
   "id": "0144ee9e",
   "metadata": {},
   "outputs": [],
   "source": []
  },
  {
   "cell_type": "code",
   "execution_count": null,
   "id": "46bdfd20",
   "metadata": {},
   "outputs": [],
   "source": []
  },
  {
   "cell_type": "code",
   "execution_count": null,
   "id": "ca608b29",
   "metadata": {},
   "outputs": [],
   "source": []
  },
  {
   "cell_type": "code",
   "execution_count": null,
   "id": "e82b87ff",
   "metadata": {},
   "outputs": [],
   "source": []
  },
  {
   "cell_type": "code",
   "execution_count": null,
   "id": "e0294aa2",
   "metadata": {},
   "outputs": [],
   "source": []
  }
 ],
 "metadata": {
  "kernelspec": {
   "display_name": "Python 3 (ipykernel)",
   "language": "python",
   "name": "python3"
  },
  "language_info": {
   "codemirror_mode": {
    "name": "ipython",
    "version": 3
   },
   "file_extension": ".py",
   "mimetype": "text/x-python",
   "name": "python",
   "nbconvert_exporter": "python",
   "pygments_lexer": "ipython3",
   "version": "3.9.21"
  }
 },
 "nbformat": 4,
 "nbformat_minor": 5
}
