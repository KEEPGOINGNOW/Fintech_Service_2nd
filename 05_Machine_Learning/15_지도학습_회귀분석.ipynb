{
 "cells": [
  {
   "cell_type": "markdown",
   "id": "50874333",
   "metadata": {},
   "source": [
    "# 회귀분석\n",
    "- 지도학습\n",
    "- 종속변수(target)가 수치형 자료인 경우 활용\n",
    "- 집값, 보험료, 몸무게와 같이 연속적인 숫자로 이루어진 값을 예측\n",
    "- 회귀 => 평균으로 돌아간다\n"
   ]
  },
  {
   "cell_type": "markdown",
   "id": "5ec3c6c5",
   "metadata": {},
   "source": [
    "### 단순 선형 회귀분석 / 다중 선형 회귀분석\n",
    "- 단순 선형 회귀분석 : 독립변수 1, 종속변수 1\n",
    "- 다중 선형 회귀분석 : 독립변수 n, 종속변수 1"
   ]
  },
  {
   "cell_type": "markdown",
   "id": "b6a1194c",
   "metadata": {},
   "source": [
    "# 1. 단순 회귀 분석 : 자동차 배기량과 연비 회귀 분석"
   ]
  },
  {
   "cell_type": "code",
   "execution_count": 1,
   "id": "b450a13e",
   "metadata": {},
   "outputs": [],
   "source": [
    "import pandas as pd\n",
    "import numpy as np\n",
    "import matplotlib.pyplot as plt\n",
    "import seaborn as sns\n",
    "import statsmodels.api as sm\n",
    "import koreanize_matplotlib"
   ]
  },
  {
   "cell_type": "code",
   "execution_count": 6,
   "id": "c8b8f9b0",
   "metadata": {},
   "outputs": [
    {
     "name": "stdout",
     "output_type": "stream",
     "text": [
      "                            OLS Regression Results                            \n",
      "==============================================================================\n",
      "Dep. Variable:                      y   R-squared:                       0.964\n",
      "Model:                            OLS   Adj. R-squared:                  0.958\n",
      "Method:                 Least Squares   F-statistic:                     159.8\n",
      "Date:                Wed, 07 May 2025   Prob (F-statistic):           1.50e-05\n",
      "Time:                        14:14:32   Log-Likelihood:                -4.0046\n",
      "No. Observations:                   8   AIC:                             12.01\n",
      "Df Residuals:                       6   BIC:                             12.17\n",
      "Df Model:                           1                                         \n",
      "Covariance Type:            nonrobust                                         \n",
      "==============================================================================\n",
      "                 coef    std err          t      P>|t|      [0.025      0.975]\n",
      "------------------------------------------------------------------------------\n",
      "const         16.7982      0.482     34.841      0.000      15.618      17.978\n",
      "x1            -2.4278      0.192    -12.640      0.000      -2.898      -1.958\n",
      "==============================================================================\n",
      "Omnibus:                        1.309   Durbin-Watson:                   2.036\n",
      "Prob(Omnibus):                  0.520   Jarque-Bera (JB):                0.678\n",
      "Skew:                           0.215   Prob(JB):                        0.712\n",
      "Kurtosis:                       1.640   Cond. No.                         8.49\n",
      "==============================================================================\n",
      "\n",
      "Notes:\n",
      "[1] Standard Errors assume that the covariance matrix of the errors is correctly specified.\n"
     ]
    },
    {
     "name": "stderr",
     "output_type": "stream",
     "text": [
      "C:\\Users\\Admin\\miniforge3\\envs\\fintech\\lib\\site-packages\\scipy\\stats\\_axis_nan_policy.py:531: UserWarning: kurtosistest only valid for n>=20 ... continuing anyway, n=8\n",
      "  res = hypotest_fun_out(*samples, **kwds)\n"
     ]
    }
   ],
   "source": [
    "# X는 자동차 배기량, y는 연비\n",
    "X = np.array([1, 1.4, 2, 2.2, 2.4, 3, 3.3, 3.6])\n",
    "y = np.array([15, 13, 12, 11, 10.5, 10, 9, 8])\n",
    "\n",
    "# 상수 추가 y절편 추가\n",
    "X_with_const = sm.add_constant(X)\n",
    "\n",
    "# 모델 훈련\n",
    "model = sm.OLS(y, X_with_const).fit()\n",
    "y_pred = model.predict(X_with_const)\n",
    "\n",
    "print(model.summary())"
   ]
  },
  {
   "cell_type": "code",
   "execution_count": 11,
   "id": "c950a191",
   "metadata": {},
   "outputs": [
    {
     "data": {
      "image/png": "[encoded data removed]",
      "text/plain": [
       "<Figure size 640x480 with 1 Axes>"
      ]
     },
     "metadata": {},
     "output_type": "display_data"
    }
   ],
   "source": [
    "plt.scatter(X, y)\n",
    "plt.plot(X, y_pred, color='red')\n",
    "plt.title('단순 선형 회귀분석, 엔진 배기량과 연비의 관계')\n",
    "plt.xlabel('배기량')\n",
    "plt.ylabel('연비')\n",
    "plt.show()"
   ]
  },
  {
   "cell_type": "markdown",
   "id": "6eb0f173",
   "metadata": {},
   "source": [
    "- R-qeuared(설명력) : 0.967로 약 96%를 설명\n",
    "- p-value / Prob(F-statistic) : 1.50e-05로 매우 작다 -> 0.05 이하이므로 통계적으로 유의미 하다\n",
    "- X1의 회귀 계수(coefficent / coef) : -2.4278\n",
    "- y 절편(상수항) : 16.7982\n",
    "- 따라서 추정되는 회귀식 : **y(연비) = -2.4278 * X1 + 16.7982**"
   ]
  },
  {
   "cell_type": "markdown",
   "id": "6d30af67",
   "metadata": {},
   "source": [
    "# 다중 회귀 분석\n",
    "- 독립변수가 여러 개인 데이터"
   ]
  },
  {
   "cell_type": "code",
   "execution_count": 17,
   "id": "3d485005",
   "metadata": {},
   "outputs": [],
   "source": [
    "# 데이터\n",
    "yard = np.array([31, 31, 27, 39, 30, 32, 28, 23, 28, 35])\n",
    "area = np.array([58, 51, 47, 35, 48, 42, 43, 56, 41, 41])\n",
    "park = np.array([1, 1, 5, 5, 2, 4, 5, 1, 1, 3])\n",
    "dist = np.array([492, 426, 400, 125, 443, 412, 201, 362, 192, 423])\n",
    "price = np.array([12631,12084,12220,15649,11486,12276,15527,12666,13180,10169])"
   ]
  },
  {
   "cell_type": "code",
   "execution_count": 18,
   "id": "5a3b8e34",
   "metadata": {},
   "outputs": [
    {
     "name": "stdout",
     "output_type": "stream",
     "text": [
      "yard 10\n",
      "area 10\n",
      "park 10\n",
      "dist 10\n",
      "price 10\n"
     ]
    }
   ],
   "source": [
    "print('yard', len(yard))\n",
    "print('area', len(area))\n",
    "print('park', len(park))\n",
    "print('dist', len(dist))\n",
    "print('price', len(price))\n"
   ]
  },
  {
   "cell_type": "code",
   "execution_count": 21,
   "id": "35b2753e",
   "metadata": {},
   "outputs": [],
   "source": [
    "# 독립 변수와 종속 변수 설정\n",
    "X = pd.DataFrame(dict(yard = yard, area = area, park = park, dist = dist))\n",
    "y = price"
   ]
  },
  {
   "cell_type": "code",
   "execution_count": 22,
   "id": "e4cb639e",
   "metadata": {},
   "outputs": [
    {
     "data": {
      "text/html": [
       "<div>\n",
       "<style scoped>\n",
       "    .dataframe tbody tr th:only-of-type {\n",
       "        vertical-align: middle;\n",
       "    }\n",
       "\n",
       "    .dataframe tbody tr th {\n",
       "        vertical-align: top;\n",
       "    }\n",
       "\n",
       "    .dataframe thead th {\n",
       "        text-align: right;\n",
       "    }\n",
       "</style>\n",
       "<table border=\"1\" class=\"dataframe\">\n",
       "  <thead>\n",
       "    <tr style=\"text-align: right;\">\n",
       "      <th></th>\n",
       "      <th>const</th>\n",
       "      <th>yard</th>\n",
       "      <th>area</th>\n",
       "      <th>park</th>\n",
       "      <th>dist</th>\n",
       "    </tr>\n",
       "  </thead>\n",
       "  <tbody>\n",
       "    <tr>\n",
       "      <th>0</th>\n",
       "      <td>1.0</td>\n",
       "      <td>31</td>\n",
       "      <td>58</td>\n",
       "      <td>1</td>\n",
       "      <td>492</td>\n",
       "    </tr>\n",
       "    <tr>\n",
       "      <th>1</th>\n",
       "      <td>1.0</td>\n",
       "      <td>31</td>\n",
       "      <td>51</td>\n",
       "      <td>1</td>\n",
       "      <td>426</td>\n",
       "    </tr>\n",
       "    <tr>\n",
       "      <th>2</th>\n",
       "      <td>1.0</td>\n",
       "      <td>27</td>\n",
       "      <td>47</td>\n",
       "      <td>5</td>\n",
       "      <td>400</td>\n",
       "    </tr>\n",
       "    <tr>\n",
       "      <th>3</th>\n",
       "      <td>1.0</td>\n",
       "      <td>39</td>\n",
       "      <td>35</td>\n",
       "      <td>5</td>\n",
       "      <td>125</td>\n",
       "    </tr>\n",
       "    <tr>\n",
       "      <th>4</th>\n",
       "      <td>1.0</td>\n",
       "      <td>30</td>\n",
       "      <td>48</td>\n",
       "      <td>2</td>\n",
       "      <td>443</td>\n",
       "    </tr>\n",
       "    <tr>\n",
       "      <th>5</th>\n",
       "      <td>1.0</td>\n",
       "      <td>32</td>\n",
       "      <td>42</td>\n",
       "      <td>4</td>\n",
       "      <td>412</td>\n",
       "    </tr>\n",
       "    <tr>\n",
       "      <th>6</th>\n",
       "      <td>1.0</td>\n",
       "      <td>28</td>\n",
       "      <td>43</td>\n",
       "      <td>5</td>\n",
       "      <td>201</td>\n",
       "    </tr>\n",
       "    <tr>\n",
       "      <th>7</th>\n",
       "      <td>1.0</td>\n",
       "      <td>23</td>\n",
       "      <td>56</td>\n",
       "      <td>1</td>\n",
       "      <td>362</td>\n",
       "    </tr>\n",
       "    <tr>\n",
       "      <th>8</th>\n",
       "      <td>1.0</td>\n",
       "      <td>28</td>\n",
       "      <td>41</td>\n",
       "      <td>1</td>\n",
       "      <td>192</td>\n",
       "    </tr>\n",
       "    <tr>\n",
       "      <th>9</th>\n",
       "      <td>1.0</td>\n",
       "      <td>35</td>\n",
       "      <td>41</td>\n",
       "      <td>3</td>\n",
       "      <td>423</td>\n",
       "    </tr>\n",
       "  </tbody>\n",
       "</table>\n",
       "</div>"
      ],
      "text/plain": [
       "   const  yard  area  park  dist\n",
       "0    1.0    31    58     1   492\n",
       "1    1.0    31    51     1   426\n",
       "2    1.0    27    47     5   400\n",
       "3    1.0    39    35     5   125\n",
       "4    1.0    30    48     2   443\n",
       "5    1.0    32    42     4   412\n",
       "6    1.0    28    43     5   201\n",
       "7    1.0    23    56     1   362\n",
       "8    1.0    28    41     1   192\n",
       "9    1.0    35    41     3   423"
      ]
     },
     "execution_count": 22,
     "metadata": {},
     "output_type": "execute_result"
    }
   ],
   "source": [
    "X = sm.add_constant(X)\n",
    "X"
   ]
  },
  {
   "cell_type": "code",
   "execution_count": 24,
   "id": "0325e185",
   "metadata": {},
   "outputs": [
    {
     "name": "stdout",
     "output_type": "stream",
     "text": [
      "                            OLS Regression Results                            \n",
      "==============================================================================\n",
      "Dep. Variable:                      y   R-squared:                       0.918\n",
      "Model:                            OLS   Adj. R-squared:                  0.853\n",
      "Method:                 Least Squares   F-statistic:                     14.07\n",
      "Date:                Wed, 07 May 2025   Prob (F-statistic):            0.00627\n",
      "Time:                        14:46:35   Log-Likelihood:                -75.420\n",
      "No. Observations:                  10   AIC:                             160.8\n",
      "Df Residuals:                       5   BIC:                             162.4\n",
      "Df Model:                           4                                         \n",
      "Covariance Type:            nonrobust                                         \n",
      "==============================================================================\n",
      "                 coef    std err          t      P>|t|      [0.025      0.975]\n",
      "------------------------------------------------------------------------------\n",
      "const       3045.6891   4084.218      0.746      0.489   -7453.127    1.35e+04\n",
      "yard         117.9225     65.779      1.793      0.133     -51.169     287.014\n",
      "area         230.5629     61.193      3.768      0.013      73.262     387.864\n",
      "park         436.8012    155.508      2.809      0.038      37.056     836.546\n",
      "dist         -16.4464      2.489     -6.609      0.001     -22.844     -10.049\n",
      "==============================================================================\n",
      "Omnibus:                        0.082   Durbin-Watson:                   1.486\n",
      "Prob(Omnibus):                  0.960   Jarque-Bera (JB):                0.272\n",
      "Skew:                          -0.148   Prob(JB):                        0.873\n",
      "Kurtosis:                       2.247   Cond. No.                     7.44e+03\n",
      "==============================================================================\n",
      "\n",
      "Notes:\n",
      "[1] Standard Errors assume that the covariance matrix of the errors is correctly specified.\n",
      "[2] The condition number is large, 7.44e+03. This might indicate that there are\n",
      "strong multicollinearity or other numerical problems.\n"
     ]
    },
    {
     "name": "stderr",
     "output_type": "stream",
     "text": [
      "C:\\Users\\Admin\\miniforge3\\envs\\fintech\\lib\\site-packages\\scipy\\stats\\_axis_nan_policy.py:531: UserWarning: kurtosistest only valid for n>=20 ... continuing anyway, n=10\n",
      "  res = hypotest_fun_out(*samples, **kwds)\n"
     ]
    }
   ],
   "source": [
    "# 훈련\n",
    "model = sm.OLS(y, X).fit()\n",
    "print(model.summary())"
   ]
  },
  {
   "cell_type": "markdown",
   "id": "8ebbc534",
   "metadata": {},
   "source": [
    "- 1차 분석 결과에서는 yard는 p-vlaue가 0.05 보다 크기 때문에 분석에서 제외"
   ]
  },
  {
   "cell_type": "code",
   "execution_count": 26,
   "id": "d811815f",
   "metadata": {},
   "outputs": [
    {
     "data": {
      "text/html": [
       "<div>\n",
       "<style scoped>\n",
       "    .dataframe tbody tr th:only-of-type {\n",
       "        vertical-align: middle;\n",
       "    }\n",
       "\n",
       "    .dataframe tbody tr th {\n",
       "        vertical-align: top;\n",
       "    }\n",
       "\n",
       "    .dataframe thead th {\n",
       "        text-align: right;\n",
       "    }\n",
       "</style>\n",
       "<table border=\"1\" class=\"dataframe\">\n",
       "  <thead>\n",
       "    <tr style=\"text-align: right;\">\n",
       "      <th></th>\n",
       "      <th>const</th>\n",
       "      <th>area</th>\n",
       "      <th>park</th>\n",
       "      <th>dist</th>\n",
       "    </tr>\n",
       "  </thead>\n",
       "  <tbody>\n",
       "    <tr>\n",
       "      <th>0</th>\n",
       "      <td>1.0</td>\n",
       "      <td>58</td>\n",
       "      <td>1</td>\n",
       "      <td>492</td>\n",
       "    </tr>\n",
       "    <tr>\n",
       "      <th>1</th>\n",
       "      <td>1.0</td>\n",
       "      <td>51</td>\n",
       "      <td>1</td>\n",
       "      <td>426</td>\n",
       "    </tr>\n",
       "    <tr>\n",
       "      <th>2</th>\n",
       "      <td>1.0</td>\n",
       "      <td>47</td>\n",
       "      <td>5</td>\n",
       "      <td>400</td>\n",
       "    </tr>\n",
       "    <tr>\n",
       "      <th>3</th>\n",
       "      <td>1.0</td>\n",
       "      <td>35</td>\n",
       "      <td>5</td>\n",
       "      <td>125</td>\n",
       "    </tr>\n",
       "    <tr>\n",
       "      <th>4</th>\n",
       "      <td>1.0</td>\n",
       "      <td>48</td>\n",
       "      <td>2</td>\n",
       "      <td>443</td>\n",
       "    </tr>\n",
       "    <tr>\n",
       "      <th>5</th>\n",
       "      <td>1.0</td>\n",
       "      <td>42</td>\n",
       "      <td>4</td>\n",
       "      <td>412</td>\n",
       "    </tr>\n",
       "    <tr>\n",
       "      <th>6</th>\n",
       "      <td>1.0</td>\n",
       "      <td>43</td>\n",
       "      <td>5</td>\n",
       "      <td>201</td>\n",
       "    </tr>\n",
       "    <tr>\n",
       "      <th>7</th>\n",
       "      <td>1.0</td>\n",
       "      <td>56</td>\n",
       "      <td>1</td>\n",
       "      <td>362</td>\n",
       "    </tr>\n",
       "    <tr>\n",
       "      <th>8</th>\n",
       "      <td>1.0</td>\n",
       "      <td>41</td>\n",
       "      <td>1</td>\n",
       "      <td>192</td>\n",
       "    </tr>\n",
       "    <tr>\n",
       "      <th>9</th>\n",
       "      <td>1.0</td>\n",
       "      <td>41</td>\n",
       "      <td>3</td>\n",
       "      <td>423</td>\n",
       "    </tr>\n",
       "  </tbody>\n",
       "</table>\n",
       "</div>"
      ],
      "text/plain": [
       "   const  area  park  dist\n",
       "0    1.0    58     1   492\n",
       "1    1.0    51     1   426\n",
       "2    1.0    47     5   400\n",
       "3    1.0    35     5   125\n",
       "4    1.0    48     2   443\n",
       "5    1.0    42     4   412\n",
       "6    1.0    43     5   201\n",
       "7    1.0    56     1   362\n",
       "8    1.0    41     1   192\n",
       "9    1.0    41     3   423"
      ]
     },
     "execution_count": 26,
     "metadata": {},
     "output_type": "execute_result"
    }
   ],
   "source": [
    "# 독립 변수와 종속 변수 설정\n",
    "X2 = pd.DataFrame(dict(area = area, park = park, dist = dist))\n",
    "X2 = X2[['area', 'park', 'dist']]\n",
    "X2_const = sm.add_constant(X2)\n",
    "X2_const"
   ]
  },
  {
   "cell_type": "code",
   "execution_count": 27,
   "id": "fac84a51",
   "metadata": {},
   "outputs": [
    {
     "name": "stdout",
     "output_type": "stream",
     "text": [
      "                            OLS Regression Results                            \n",
      "==============================================================================\n",
      "Dep. Variable:                      y   R-squared:                       0.866\n",
      "Model:                            OLS   Adj. R-squared:                  0.799\n",
      "Method:                 Least Squares   F-statistic:                     12.92\n",
      "Date:                Wed, 07 May 2025   Prob (F-statistic):            0.00499\n",
      "Time:                        14:48:55   Log-Likelihood:                -77.902\n",
      "No. Observations:                  10   AIC:                             163.8\n",
      "Df Residuals:                       6   BIC:                             165.0\n",
      "Df Model:                           3                                         \n",
      "Covariance Type:            nonrobust                                         \n",
      "==============================================================================\n",
      "                 coef    std err          t      P>|t|      [0.025      0.975]\n",
      "------------------------------------------------------------------------------\n",
      "const       9242.3046   2545.393      3.631      0.011    3013.953    1.55e+04\n",
      "area         162.9508     56.381      2.890      0.028      24.990     300.911\n",
      "park         410.1137    181.112      2.264      0.064     -33.052     853.280\n",
      "dist         -14.7588      2.695     -5.476      0.002     -21.354      -8.163\n",
      "==============================================================================\n",
      "Omnibus:                        2.891   Durbin-Watson:                   1.549\n",
      "Prob(Omnibus):                  0.236   Jarque-Bera (JB):                1.036\n",
      "Skew:                          -0.261   Prob(JB):                        0.596\n",
      "Kurtosis:                       1.512   Cond. No.                     3.96e+03\n",
      "==============================================================================\n",
      "\n",
      "Notes:\n",
      "[1] Standard Errors assume that the covariance matrix of the errors is correctly specified.\n",
      "[2] The condition number is large, 3.96e+03. This might indicate that there are\n",
      "strong multicollinearity or other numerical problems.\n"
     ]
    },
    {
     "name": "stderr",
     "output_type": "stream",
     "text": [
      "C:\\Users\\Admin\\miniforge3\\envs\\fintech\\lib\\site-packages\\scipy\\stats\\_axis_nan_policy.py:531: UserWarning: kurtosistest only valid for n>=20 ... continuing anyway, n=10\n",
      "  res = hypotest_fun_out(*samples, **kwds)\n"
     ]
    }
   ],
   "source": [
    "# 훈련\n",
    "model2 = sm.OLS(y, X2_const).fit()\n",
    "print(model2.summary())"
   ]
  },
  {
   "cell_type": "code",
   "execution_count": 28,
   "id": "e91346b8",
   "metadata": {},
   "outputs": [
    {
     "data": {
      "text/html": [
       "<div>\n",
       "<style scoped>\n",
       "    .dataframe tbody tr th:only-of-type {\n",
       "        vertical-align: middle;\n",
       "    }\n",
       "\n",
       "    .dataframe tbody tr th {\n",
       "        vertical-align: top;\n",
       "    }\n",
       "\n",
       "    .dataframe thead th {\n",
       "        text-align: right;\n",
       "    }\n",
       "</style>\n",
       "<table border=\"1\" class=\"dataframe\">\n",
       "  <thead>\n",
       "    <tr style=\"text-align: right;\">\n",
       "      <th></th>\n",
       "      <th>const</th>\n",
       "      <th>area</th>\n",
       "      <th>dist</th>\n",
       "    </tr>\n",
       "  </thead>\n",
       "  <tbody>\n",
       "    <tr>\n",
       "      <th>0</th>\n",
       "      <td>1.0</td>\n",
       "      <td>58</td>\n",
       "      <td>492</td>\n",
       "    </tr>\n",
       "    <tr>\n",
       "      <th>1</th>\n",
       "      <td>1.0</td>\n",
       "      <td>51</td>\n",
       "      <td>426</td>\n",
       "    </tr>\n",
       "    <tr>\n",
       "      <th>2</th>\n",
       "      <td>1.0</td>\n",
       "      <td>47</td>\n",
       "      <td>400</td>\n",
       "    </tr>\n",
       "    <tr>\n",
       "      <th>3</th>\n",
       "      <td>1.0</td>\n",
       "      <td>35</td>\n",
       "      <td>125</td>\n",
       "    </tr>\n",
       "    <tr>\n",
       "      <th>4</th>\n",
       "      <td>1.0</td>\n",
       "      <td>48</td>\n",
       "      <td>443</td>\n",
       "    </tr>\n",
       "    <tr>\n",
       "      <th>5</th>\n",
       "      <td>1.0</td>\n",
       "      <td>42</td>\n",
       "      <td>412</td>\n",
       "    </tr>\n",
       "    <tr>\n",
       "      <th>6</th>\n",
       "      <td>1.0</td>\n",
       "      <td>43</td>\n",
       "      <td>201</td>\n",
       "    </tr>\n",
       "    <tr>\n",
       "      <th>7</th>\n",
       "      <td>1.0</td>\n",
       "      <td>56</td>\n",
       "      <td>362</td>\n",
       "    </tr>\n",
       "    <tr>\n",
       "      <th>8</th>\n",
       "      <td>1.0</td>\n",
       "      <td>41</td>\n",
       "      <td>192</td>\n",
       "    </tr>\n",
       "    <tr>\n",
       "      <th>9</th>\n",
       "      <td>1.0</td>\n",
       "      <td>41</td>\n",
       "      <td>423</td>\n",
       "    </tr>\n",
       "  </tbody>\n",
       "</table>\n",
       "</div>"
      ],
      "text/plain": [
       "   const  area  dist\n",
       "0    1.0    58   492\n",
       "1    1.0    51   426\n",
       "2    1.0    47   400\n",
       "3    1.0    35   125\n",
       "4    1.0    48   443\n",
       "5    1.0    42   412\n",
       "6    1.0    43   201\n",
       "7    1.0    56   362\n",
       "8    1.0    41   192\n",
       "9    1.0    41   423"
      ]
     },
     "execution_count": 28,
     "metadata": {},
     "output_type": "execute_result"
    }
   ],
   "source": [
    "# park의 p-value가 0.64이므로 유의하지 않음\n",
    "X3_const = X2_const.drop('park', axis=1)\n",
    "X3_const"
   ]
  },
  {
   "cell_type": "code",
   "execution_count": 30,
   "id": "df505139",
   "metadata": {},
   "outputs": [
    {
     "name": "stdout",
     "output_type": "stream",
     "text": [
      "                            OLS Regression Results                            \n",
      "==============================================================================\n",
      "Dep. Variable:                      y   R-squared:                       0.751\n",
      "Model:                            OLS   Adj. R-squared:                  0.680\n",
      "Method:                 Least Squares   F-statistic:                     10.58\n",
      "Date:                Wed, 07 May 2025   Prob (F-statistic):            0.00766\n",
      "Time:                        15:03:34   Log-Likelihood:                -80.990\n",
      "No. Observations:                  10   AIC:                             168.0\n",
      "Df Residuals:                       7   BIC:                             168.9\n",
      "Df Model:                           2                                         \n",
      "Covariance Type:            nonrobust                                         \n",
      "==============================================================================\n",
      "                 coef    std err          t      P>|t|      [0.025      0.975]\n",
      "------------------------------------------------------------------------------\n",
      "const       1.351e+04   2158.546      6.258      0.000    8403.439    1.86e+04\n",
      "area          92.9476     59.448      1.564      0.162     -47.624     233.520\n",
      "dist         -14.4217      3.393     -4.250      0.004     -22.445      -6.398\n",
      "==============================================================================\n",
      "Omnibus:                        1.636   Durbin-Watson:                   0.940\n",
      "Prob(Omnibus):                  0.441   Jarque-Bera (JB):                0.935\n",
      "Skew:                          -0.412   Prob(JB):                        0.626\n",
      "Kurtosis:                       1.749   Cond. No.                     2.66e+03\n",
      "==============================================================================\n",
      "\n",
      "Notes:\n",
      "[1] Standard Errors assume that the covariance matrix of the errors is correctly specified.\n",
      "[2] The condition number is large, 2.66e+03. This might indicate that there are\n",
      "strong multicollinearity or other numerical problems.\n"
     ]
    },
    {
     "name": "stderr",
     "output_type": "stream",
     "text": [
      "C:\\Users\\Admin\\miniforge3\\envs\\fintech\\lib\\site-packages\\scipy\\stats\\_axis_nan_policy.py:531: UserWarning: kurtosistest only valid for n>=20 ... continuing anyway, n=10\n",
      "  res = hypotest_fun_out(*samples, **kwds)\n"
     ]
    }
   ],
   "source": [
    "# 훈련\n",
    "# 다중 회귀 분석을 하는 경우 각각의 컬럼이 유의미한지 지속적으로 확인하면서 진행\n",
    "model3 = sm.OLS(y, X3_const).fit()\n",
    "print(model3.summary())"
   ]
  },
  {
   "cell_type": "markdown",
   "id": "f9ee3e23",
   "metadata": {},
   "source": [
    "## 다중 회귀분석의 회귀식\n",
    "- y = (92.9476 * area) + (-14.4217 * dist) + 1.351e+04\n",
    "- 모델의 설명력은 R-squared가 아닌 Adj. R-squared을 확인 : 0.680\n",
    "- 모델의 p-value : 0.00766(0.05 보다 작음 -> 유의하지 않다)"
   ]
  },
  {
   "cell_type": "markdown",
   "id": "3745e47b",
   "metadata": {},
   "source": [
    "# 변수 선택 \n",
    "- 전진선택법 : 독립변수 1부터 시작해서 변수를 1개씩 추가\n",
    "- 후진제거법 : 모든 독립변수를 다 포함 -> 변수를 1개씩 제거\n",
    "- 다중선택법 : 전진 + 후진\n",
    "- AIC : 변수를 선택하는 지표"
   ]
  },
  {
   "cell_type": "code",
   "execution_count": 33,
   "id": "02f21db1",
   "metadata": {},
   "outputs": [],
   "source": [
    "from sklearn.feature_selection import SequentialFeatureSelector\n",
    "from sklearn.linear_model import LinearRegression"
   ]
  },
  {
   "cell_type": "code",
   "execution_count": 31,
   "id": "b4ef6692",
   "metadata": {},
   "outputs": [],
   "source": [
    "# 데이터 생성\n",
    "yard = np.array([31, 31, 27, 39, 30, 32, 28, 23, 28, 35])\n",
    "area = np.array([58, 51, 47, 35, 48, 42, 43, 56, 41, 41])\n",
    "park = np.array([1, 1, 5, 5, 2, 4, 5, 1, 1, 3])\n",
    "dist = np.array([492, 426, 400, 125, 443, 412, 201, 362, 192, 423])\n",
    "popul = np.array([4412, 2061, 4407, 1933, 4029, 4180, 3444, 1683, 3020, 4459])\n",
    "price = np.array([12631, 12084, 12220, 15649, 11486, 12276, 15527, 12666, 13180, 10169])\n",
    "\n",
    "# 데이터프레임 생성\n",
    "data = pd.DataFrame({'yard': yard, 'area': area, 'park': park, 'dist': dist, 'popul': popul, 'price': price})"
   ]
  },
  {
   "cell_type": "code",
   "execution_count": 34,
   "id": "3e666f05",
   "metadata": {},
   "outputs": [],
   "source": [
    "# 독립변수와 종속변수 설정\n",
    "X = data.drop('price', axis=1)\n",
    "y = data['price']"
   ]
  },
  {
   "cell_type": "code",
   "execution_count": 35,
   "id": "9d16a86e",
   "metadata": {},
   "outputs": [
    {
     "data": {
      "text/html": [
       "<div>\n",
       "<style scoped>\n",
       "    .dataframe tbody tr th:only-of-type {\n",
       "        vertical-align: middle;\n",
       "    }\n",
       "\n",
       "    .dataframe tbody tr th {\n",
       "        vertical-align: top;\n",
       "    }\n",
       "\n",
       "    .dataframe thead th {\n",
       "        text-align: right;\n",
       "    }\n",
       "</style>\n",
       "<table border=\"1\" class=\"dataframe\">\n",
       "  <thead>\n",
       "    <tr style=\"text-align: right;\">\n",
       "      <th></th>\n",
       "      <th>yard</th>\n",
       "      <th>area</th>\n",
       "      <th>park</th>\n",
       "      <th>dist</th>\n",
       "      <th>popul</th>\n",
       "    </tr>\n",
       "  </thead>\n",
       "  <tbody>\n",
       "    <tr>\n",
       "      <th>0</th>\n",
       "      <td>31</td>\n",
       "      <td>58</td>\n",
       "      <td>1</td>\n",
       "      <td>492</td>\n",
       "      <td>4412</td>\n",
       "    </tr>\n",
       "    <tr>\n",
       "      <th>1</th>\n",
       "      <td>31</td>\n",
       "      <td>51</td>\n",
       "      <td>1</td>\n",
       "      <td>426</td>\n",
       "      <td>2061</td>\n",
       "    </tr>\n",
       "    <tr>\n",
       "      <th>2</th>\n",
       "      <td>27</td>\n",
       "      <td>47</td>\n",
       "      <td>5</td>\n",
       "      <td>400</td>\n",
       "      <td>4407</td>\n",
       "    </tr>\n",
       "    <tr>\n",
       "      <th>3</th>\n",
       "      <td>39</td>\n",
       "      <td>35</td>\n",
       "      <td>5</td>\n",
       "      <td>125</td>\n",
       "      <td>1933</td>\n",
       "    </tr>\n",
       "    <tr>\n",
       "      <th>4</th>\n",
       "      <td>30</td>\n",
       "      <td>48</td>\n",
       "      <td>2</td>\n",
       "      <td>443</td>\n",
       "      <td>4029</td>\n",
       "    </tr>\n",
       "    <tr>\n",
       "      <th>5</th>\n",
       "      <td>32</td>\n",
       "      <td>42</td>\n",
       "      <td>4</td>\n",
       "      <td>412</td>\n",
       "      <td>4180</td>\n",
       "    </tr>\n",
       "    <tr>\n",
       "      <th>6</th>\n",
       "      <td>28</td>\n",
       "      <td>43</td>\n",
       "      <td>5</td>\n",
       "      <td>201</td>\n",
       "      <td>3444</td>\n",
       "    </tr>\n",
       "    <tr>\n",
       "      <th>7</th>\n",
       "      <td>23</td>\n",
       "      <td>56</td>\n",
       "      <td>1</td>\n",
       "      <td>362</td>\n",
       "      <td>1683</td>\n",
       "    </tr>\n",
       "    <tr>\n",
       "      <th>8</th>\n",
       "      <td>28</td>\n",
       "      <td>41</td>\n",
       "      <td>1</td>\n",
       "      <td>192</td>\n",
       "      <td>3020</td>\n",
       "    </tr>\n",
       "    <tr>\n",
       "      <th>9</th>\n",
       "      <td>35</td>\n",
       "      <td>41</td>\n",
       "      <td>3</td>\n",
       "      <td>423</td>\n",
       "      <td>4459</td>\n",
       "    </tr>\n",
       "  </tbody>\n",
       "</table>\n",
       "</div>"
      ],
      "text/plain": [
       "   yard  area  park  dist  popul\n",
       "0    31    58     1   492   4412\n",
       "1    31    51     1   426   2061\n",
       "2    27    47     5   400   4407\n",
       "3    39    35     5   125   1933\n",
       "4    30    48     2   443   4029\n",
       "5    32    42     4   412   4180\n",
       "6    28    43     5   201   3444\n",
       "7    23    56     1   362   1683\n",
       "8    28    41     1   192   3020\n",
       "9    35    41     3   423   4459"
      ]
     },
     "execution_count": 35,
     "metadata": {},
     "output_type": "execute_result"
    }
   ],
   "source": [
    "X"
   ]
  },
  {
   "cell_type": "code",
   "execution_count": 36,
   "id": "2b1e5aa7",
   "metadata": {},
   "outputs": [
    {
     "data": {
      "text/plain": [
       "0    12631\n",
       "1    12084\n",
       "2    12220\n",
       "3    15649\n",
       "4    11486\n",
       "5    12276\n",
       "6    15527\n",
       "7    12666\n",
       "8    13180\n",
       "9    10169\n",
       "Name: price, dtype: int64"
      ]
     },
     "execution_count": 36,
     "metadata": {},
     "output_type": "execute_result"
    }
   ],
   "source": [
    "y"
   ]
  },
  {
   "cell_type": "code",
   "execution_count": 40,
   "id": "f010f162",
   "metadata": {},
   "outputs": [
    {
     "name": "stdout",
     "output_type": "stream",
     "text": [
      "Index(['yard', 'park'], dtype='object')\n"
     ]
    }
   ],
   "source": [
    "# 전진 선택법을 사용한 회귀분석\n",
    "model = LinearRegression()\n",
    "sfs = SequentialFeatureSelector(model, direction='forward') # 기본은 전진선택법\n",
    "sfs.fit(X, y)\n",
    "\n",
    "selected_features = X.columns[sfs.get_support()]\n",
    "print(selected_features)\n"
   ]
  },
  {
   "cell_type": "code",
   "execution_count": 42,
   "id": "cb9171f8",
   "metadata": {},
   "outputs": [],
   "source": [
    "# 최종 선택된 변수로 회귀분석\n",
    "X_selected = sm.add_constant(data[selected_features])"
   ]
  },
  {
   "cell_type": "code",
   "execution_count": 43,
   "id": "49840a88",
   "metadata": {},
   "outputs": [
    {
     "name": "stdout",
     "output_type": "stream",
     "text": [
      "                            OLS Regression Results                            \n",
      "==============================================================================\n",
      "Dep. Variable:                  price   R-squared:                       0.194\n",
      "Model:                            OLS   Adj. R-squared:                 -0.036\n",
      "Method:                 Least Squares   F-statistic:                    0.8433\n",
      "Date:                Wed, 07 May 2025   Prob (F-statistic):              0.470\n",
      "Time:                        15:23:40   Log-Likelihood:                -86.871\n",
      "No. Observations:                  10   AIC:                             179.7\n",
      "Df Residuals:                       7   BIC:                             180.6\n",
      "Df Model:                           2                                         \n",
      "Covariance Type:            nonrobust                                         \n",
      "==============================================================================\n",
      "                 coef    std err          t      P>|t|      [0.025      0.975]\n",
      "------------------------------------------------------------------------------\n",
      "const        1.22e+04   3990.829      3.056      0.018    2758.393    2.16e+04\n",
      "yard         -19.4302    137.385     -0.141      0.892    -344.295     305.435\n",
      "park         422.9550    335.385      1.261      0.248    -370.105    1216.015\n",
      "==============================================================================\n",
      "Omnibus:                        0.446   Durbin-Watson:                   2.392\n",
      "Prob(Omnibus):                  0.800   Jarque-Bera (JB):                0.503\n",
      "Skew:                          -0.245   Prob(JB):                        0.778\n",
      "Kurtosis:                       2.017   Cond. No.                         227.\n",
      "==============================================================================\n",
      "\n",
      "Notes:\n",
      "[1] Standard Errors assume that the covariance matrix of the errors is correctly specified.\n"
     ]
    },
    {
     "name": "stderr",
     "output_type": "stream",
     "text": [
      "C:\\Users\\Admin\\miniforge3\\envs\\fintech\\lib\\site-packages\\scipy\\stats\\_axis_nan_policy.py:531: UserWarning: kurtosistest only valid for n>=20 ... continuing anyway, n=10\n",
      "  res = hypotest_fun_out(*samples, **kwds)\n"
     ]
    }
   ],
   "source": [
    "final_model = sm.OLS(y, X_selected).fit()\n",
    "print(final_model.summary())"
   ]
  },
  {
   "cell_type": "code",
   "execution_count": null,
   "id": "9083e6c1",
   "metadata": {},
   "outputs": [],
   "source": []
  },
  {
   "cell_type": "code",
   "execution_count": null,
   "id": "9ec993b0",
   "metadata": {},
   "outputs": [],
   "source": []
  }
 ],
 "metadata": {
  "kernelspec": {
   "display_name": "Python 3 (ipykernel)",
   "language": "python",
   "name": "python3"
  },
  "language_info": {
   "codemirror_mode": {
    "name": "ipython",
    "version": 3
   },
   "file_extension": ".py",
   "mimetype": "text/x-python",
   "name": "python",
   "nbconvert_exporter": "python",
   "pygments_lexer": "ipython3",
   "version": "3.9.21"
  }
 },
 "nbformat": 4,
 "nbformat_minor": 5
}
