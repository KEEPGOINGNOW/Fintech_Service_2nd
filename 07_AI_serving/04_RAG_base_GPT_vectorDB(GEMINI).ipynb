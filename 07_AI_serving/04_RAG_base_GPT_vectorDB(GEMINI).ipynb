{
 "cells": [
  {
   "cell_type": "markdown",
   "id": "823f6efe",
   "metadata": {},
   "source": [
    "## RAG(Retrieval-Augmented Generation): 검색 증강 생성\n",
    "* RAG는 미리 지정한 텍스트를 데이터베이스로 준비해 두었다가 사용자가 입력하면 그 입력 내용과 연관성이 높은 텍스트를 데이터베이스에서 검색해 프롬프트에 추가해 보다 정확한 답변을 할 수 있게 하는 기법\n",
    "* 질문에 더 정확하고 풍부한 답변을 주기 위해 정보 검색과 답변 생성을 결합한 기술\n",
    "* 정보 검색 단계: 사용자가 질문을 하면, 외부 데이터베이스나 문서에서 관련 정보 검색\n",
    "* 답변 생성 단계: 찾은 정보를 바탕으로 AI 모델이 답변 생성\n",
    "\n",
    "# 임베딩과 벡터 DB\n",
    "* 지정한 텍스트를 데이터베이스에 저장하기 위해서는 먼저 문자를 숫자로 변환하는 임베딩(embedding)이 필요하며\n",
    "* 데이터를 저장하는 데이터베이스는 RDBMS가 아닌 벡터 검색에 특화된 vectorDB를 이용해야 한다.\n",
    "\n",
    "최근 인공지능과 NLP 애플리케이션에서 **Vector Database (vectordb)**는 빠르게 인기를 얻고 있다. 이는 텍스트, 이미지, 오디오 등의 데이터를 벡터 형식으로 저장하고 검색할 수 있는 데이터베이스로, 특히 **임베딩 벡터**를 사용해 의미 기반 검색을 수행한다.\n",
    "\n",
    "### 대표적인 Vector Database\n",
    "1. **FAISS (Facebook AI Similarity Search)**:\n",
    "   - **Facebook AI**에서 개발한 오픈 소스 라이브러리.\n",
    "   - 매우 빠른 유사도 검색과 군집화 기능을 제공.\n",
    "   - GPU 가속을 지원해 대량의 데이터를 효율적으로 처리할 수 있음.\n",
    "\n",
    "2. **Milvus**:\n",
    "   - **Zilliz**에서 개발한 오픈 소스 vectordb로, 높은 성능과 확장성을 자랑함.\n",
    "   - 벡터 검색과 혼합 검색(hybrid search)을 지원해 다양한 유형의 데이터를 처리할 수 있음.\n",
    "   - 분산 시스템을 통해 대규모 데이터셋에서도 효율적인 검색이 가능.\n",
    "\n",
    "3. **Weaviate**:\n",
    "   - 의미론적 검색을 위해 설계된 오픈 소스 vectordb.\n",
    "   - 데이터베이스 내에서 벡터를 자동으로 생성하거나 기존의 임베딩을 사용할 수 있음.\n",
    "   - 다양한 NLP 모델과의 통합을 지원.\n",
    "\n",
    "4. **Pinecone**:\n",
    "   - 클라우드 기반 벡터 데이터베이스 서비스로, 사용자가 인프라를 직접 관리할 필요 없이 벡터 검색 기능을 제공.\n",
    "   - 쉽게 확장 가능하고 API 기반으로 간편하게 벡터 데이터를 관리할 수 있음.\n",
    "   - 지리적으로 분산된 클러스터를 제공해 글로벌 검색 성능을 최적화함.\n",
    "\n",
    "### Vector Database의 특징\n",
    "- **의미 기반 검색**: 단순한 키워드 매칭이 아닌, 벡터 간의 거리(예: 코사인 유사도)를 이용해 데이터의 의미적 유사성을 파악.\n",
    "- **빠른 검색 속도**: 수백만에서 수십억 개의 벡터에 대한 검색을 실시간으로 처리할 수 있음.\n",
    "- **확장성**: 많은 vectordb는 분산 처리와 클러스터링을 통해 대규모 데이터를 효율적으로 관리할 수 있음.\n",
    "\n",
    "### 주요 사용 사례\n",
    "- **추천 시스템**: 사용자 선호도를 분석하고 유사한 제품이나 콘텐츠를 추천.\n",
    "- **챗봇 및 QA 시스템**: 의미적으로 유사한 질문과 답변을 매칭하여 더 자연스러운 대화와 검색을 가능하게 함.\n",
    "- **이미지 검색**: 이미지의 특징 벡터를 사용해 시각적 유사도를 기반으로 검색.\n",
    "- **문서 검색**: 임베딩 벡터를 사용하여 의미적으로 관련된 문서나 내용을 빠르게 찾음.\n",
    "\n",
    "Vector Database는 AI와 NLP 애플리케이션의 핵심 기술로 자리잡고 있으며, 데이터의 의미를 기반으로 한 고속 검색과 처리가 필요할 때 필수적이다.\n"
   ]
  },
  {
   "cell_type": "code",
   "execution_count": 1,
   "id": "9702b410",
   "metadata": {},
   "outputs": [],
   "source": [
    "import os\n",
    "import pandas as pd\n",
    "from google import genai"
   ]
  },
  {
   "cell_type": "code",
   "execution_count": 2,
   "id": "d9deb913",
   "metadata": {},
   "outputs": [
    {
     "name": "stdout",
     "output_type": "stream",
     "text": [
      "1. 손님 맞이\n",
      "손님이 호텔에 도착하면 친절한 미소와 함께 예의 바르고 활기찬 인사말을 건네는 것이 좋다. '어서 오세요' 또는 '어서 오세요' 등 상황에 맞는 표현을 사용해야 한다. 고객의 이름을 알고 있는 경우, 개인화된 인사말을 통해 고객의 만족도를 높일 수 있다.\n",
      "\n",
      "2. 체크인과 체크아웃\n",
      "체크인 시간은 오후 3시, 체크아웃 시간은 오전 11시이다. 일찍 체크인하거나 늦게 체크아웃을 원하는 고객에 대해서는 객실의 공실 상황을 확인하여 가능한 한 대응해 주어야 한다. 만약 그것이 어렵다면, 짐을 일시적으로 보관할 수 있는 서비스를 제안한다.\n",
      "\n",
      "3. Wi-Fi 및 주차장 안내\n",
      "모든 객실에 무료 와이파이가 제공된다. 연결 방법과 비밀번호를 확실히 설명해 줄 수 있도록 하자. 또한, 180대의 무료 주차장이 마련되어 있다. 주차장의 위치, 이용 방법, 개방 시간 등을 정확하게 안내할 수 있도록 한다.\n",
      "\n",
      "4. 배리어 프리 대응\n",
      "유니버설 룸의 배치와 시설, 특징을 이해하고 필요한 경우 고객에게 설명할 수 있도록 한다. 휠체어를 이용하는 고객이 있을 경우, 관내의 장애인 편의시설에 대해 안내하고 필요한 경우 도움을 줄 수 있도록 한다.\n",
      "\n",
      "5. 반려동물 대응\n",
      "반려동물을 동반한 고객에게는 정중하게, 그러나 분명하게 반려동물을 동반할 수 없음을 알려주어야 한다. 이때 인근의 반려동물 동반 가능 호텔을 소개하여 고객의 불편을 덜어주어야 한다. 인근의 반려동물 호텔 정보를 항상 최신 상태로 유지해야 한다.\n",
      "\n",
      "6. 룸 서비스\n",
      "오후 11시까지 룸서비스가 제공된다. 룸서비스 메뉴의 내용을 숙지하여 고객의 문의에 적절히 대응할 수 있도록 한다. 또한, 음식에 대한 알레르기 정보나 특별한 식단 제한에 대응할 수 있도록 주방과의 협력도 중요하다.\n",
      "\n",
      "7. 금연 정책 및 흡연실 안내\n",
      "모든 객실은 금연입니다. 그러나 흡연자 고객의 요구를 충족시키기 위해 1층에 흡연실을 마련한다. 이 정보를 명확하게 전달하고, 흡연실 위치와 이용 시간을 고객에게 안내해 주어야 한다.\n",
      "\n",
      "8. 취소 정책\n",
      "취소 수수료는 전날까지 연락 시 숙박 요금의 30%, 당일 취소 시 50%, 연락 없이 취소할 경우 100%를 부과한다. 이 정책은 모든 예약에 적용되며, 예약 시 고객에게 이 사실을 명확히 알려야 한다.\n",
      "\n",
      "9. 결제 방법\n",
      "체크아웃 시 프런트에서 현금, 신용카드, 직불카드로 결제한다. 또한 인터넷 예약을 이용하는 고객은 예약 시 카드 결제를 선택할 수 있다. 다양한 결제 방법을 제공하여 투숙객의 편의를 도모하는 것이 좋다.\n",
      "\n",
      "10. 항상 존중을 실천한다.\n",
      "고객 한 사람 한 사람을 존중하는 태도로 대하자. 고객에 대한 예의, 배려, 전문성은 호텔의 품질을 결정짓는 중요한 요소이다. 고객이 편안하게 지낼 수 있도록 최선을 다하는 것을 잊지 말아야 한다.\n"
     ]
    }
   ],
   "source": [
    "with open('./data/hotel_data.txt', 'r', encoding='utf-8') as f:\n",
    "    data = f.read()\n",
    "print(data)"
   ]
  },
  {
   "cell_type": "code",
   "execution_count": 3,
   "id": "3d94cafb",
   "metadata": {},
   "outputs": [],
   "source": [
    "## 텍스트 -> 각각의 항목에 맞춰서 내용을 따로 나누기(기존의 하나의 문장을 나누기)\n",
    "data = data.split('\\n\\n')"
   ]
  },
  {
   "cell_type": "code",
   "execution_count": 4,
   "id": "37999844",
   "metadata": {},
   "outputs": [
    {
     "data": {
      "text/plain": [
       "['1. 손님 맞이',\n",
       " \"손님이 호텔에 도착하면 친절한 미소와 함께 예의 바르고 활기찬 인사말을 건네는 것이 좋다. '어서 오세요' 또는 '어서 오세요' 등 상황에 맞는 표현을 사용해야 한다. 고객의 이름을 알고 있는 경우, 개인화된 인사말을 통해 고객의 만족도를 높일 수 있다.\"]"
      ]
     },
     "execution_count": 4,
     "metadata": {},
     "output_type": "execute_result"
    }
   ],
   "source": [
    "# 카테고리와 카테고리에 맞는 메뉴얼로 만듦\n",
    "data[0].split('\\n')"
   ]
  },
  {
   "cell_type": "code",
   "execution_count": 5,
   "id": "60bfe410",
   "metadata": {},
   "outputs": [],
   "source": [
    "text2df = {}\n",
    "for content in data:\n",
    "    temp = content.split('\\n')\n",
    "    text2df.setdefault('title', []).append(temp[0])\n",
    "    text2df.setdefault('content', []).append(temp[1])\n",
    "    \n",
    "#     print(content)\n",
    "#     print(content.split('\\n')[0]) # 메뉴얼 제목만 나옴\n",
    "#     print(content.split('\\n')[1]) # 메뉴얼 내용만 나옴"
   ]
  },
  {
   "cell_type": "code",
   "execution_count": 6,
   "id": "e7f3d044",
   "metadata": {},
   "outputs": [
    {
     "data": {
      "text/html": [
       "<div>\n",
       "<style scoped>\n",
       "    .dataframe tbody tr th:only-of-type {\n",
       "        vertical-align: middle;\n",
       "    }\n",
       "\n",
       "    .dataframe tbody tr th {\n",
       "        vertical-align: top;\n",
       "    }\n",
       "\n",
       "    .dataframe thead th {\n",
       "        text-align: right;\n",
       "    }\n",
       "</style>\n",
       "<table border=\"1\" class=\"dataframe\">\n",
       "  <thead>\n",
       "    <tr style=\"text-align: right;\">\n",
       "      <th></th>\n",
       "      <th>title</th>\n",
       "      <th>content</th>\n",
       "    </tr>\n",
       "  </thead>\n",
       "  <tbody>\n",
       "    <tr>\n",
       "      <th>0</th>\n",
       "      <td>1. 손님 맞이</td>\n",
       "      <td>손님이 호텔에 도착하면 친절한 미소와 함께 예의 바르고 활기찬 인사말을 건네는 것이...</td>\n",
       "    </tr>\n",
       "    <tr>\n",
       "      <th>1</th>\n",
       "      <td>2. 체크인과 체크아웃</td>\n",
       "      <td>체크인 시간은 오후 3시, 체크아웃 시간은 오전 11시이다. 일찍 체크인하거나 늦게...</td>\n",
       "    </tr>\n",
       "    <tr>\n",
       "      <th>2</th>\n",
       "      <td>3. Wi-Fi 및 주차장 안내</td>\n",
       "      <td>모든 객실에 무료 와이파이가 제공된다. 연결 방법과 비밀번호를 확실히 설명해 줄 수...</td>\n",
       "    </tr>\n",
       "    <tr>\n",
       "      <th>3</th>\n",
       "      <td>4. 배리어 프리 대응</td>\n",
       "      <td>유니버설 룸의 배치와 시설, 특징을 이해하고 필요한 경우 고객에게 설명할 수 있도록...</td>\n",
       "    </tr>\n",
       "    <tr>\n",
       "      <th>4</th>\n",
       "      <td>5. 반려동물 대응</td>\n",
       "      <td>반려동물을 동반한 고객에게는 정중하게, 그러나 분명하게 반려동물을 동반할 수 없음을...</td>\n",
       "    </tr>\n",
       "    <tr>\n",
       "      <th>5</th>\n",
       "      <td>6. 룸 서비스</td>\n",
       "      <td>오후 11시까지 룸서비스가 제공된다. 룸서비스 메뉴의 내용을 숙지하여 고객의 문의에...</td>\n",
       "    </tr>\n",
       "    <tr>\n",
       "      <th>6</th>\n",
       "      <td>7. 금연 정책 및 흡연실 안내</td>\n",
       "      <td>모든 객실은 금연입니다. 그러나 흡연자 고객의 요구를 충족시키기 위해 1층에 흡연실...</td>\n",
       "    </tr>\n",
       "    <tr>\n",
       "      <th>7</th>\n",
       "      <td>8. 취소 정책</td>\n",
       "      <td>취소 수수료는 전날까지 연락 시 숙박 요금의 30%, 당일 취소 시 50%, 연락 ...</td>\n",
       "    </tr>\n",
       "    <tr>\n",
       "      <th>8</th>\n",
       "      <td>9. 결제 방법</td>\n",
       "      <td>체크아웃 시 프런트에서 현금, 신용카드, 직불카드로 결제한다. 또한 인터넷 예약을 ...</td>\n",
       "    </tr>\n",
       "    <tr>\n",
       "      <th>9</th>\n",
       "      <td>10. 항상 존중을 실천한다.</td>\n",
       "      <td>고객 한 사람 한 사람을 존중하는 태도로 대하자. 고객에 대한 예의, 배려, 전문성...</td>\n",
       "    </tr>\n",
       "  </tbody>\n",
       "</table>\n",
       "</div>"
      ],
      "text/plain": [
       "               title                                            content\n",
       "0           1. 손님 맞이  손님이 호텔에 도착하면 친절한 미소와 함께 예의 바르고 활기찬 인사말을 건네는 것이...\n",
       "1       2. 체크인과 체크아웃  체크인 시간은 오후 3시, 체크아웃 시간은 오전 11시이다. 일찍 체크인하거나 늦게...\n",
       "2  3. Wi-Fi 및 주차장 안내  모든 객실에 무료 와이파이가 제공된다. 연결 방법과 비밀번호를 확실히 설명해 줄 수...\n",
       "3       4. 배리어 프리 대응  유니버설 룸의 배치와 시설, 특징을 이해하고 필요한 경우 고객에게 설명할 수 있도록...\n",
       "4         5. 반려동물 대응  반려동물을 동반한 고객에게는 정중하게, 그러나 분명하게 반려동물을 동반할 수 없음을...\n",
       "5           6. 룸 서비스  오후 11시까지 룸서비스가 제공된다. 룸서비스 메뉴의 내용을 숙지하여 고객의 문의에...\n",
       "6  7. 금연 정책 및 흡연실 안내  모든 객실은 금연입니다. 그러나 흡연자 고객의 요구를 충족시키기 위해 1층에 흡연실...\n",
       "7           8. 취소 정책  취소 수수료는 전날까지 연락 시 숙박 요금의 30%, 당일 취소 시 50%, 연락 ...\n",
       "8           9. 결제 방법  체크아웃 시 프런트에서 현금, 신용카드, 직불카드로 결제한다. 또한 인터넷 예약을 ...\n",
       "9   10. 항상 존중을 실천한다.  고객 한 사람 한 사람을 존중하는 태도로 대하자. 고객에 대한 예의, 배려, 전문성..."
      ]
     },
     "execution_count": 6,
     "metadata": {},
     "output_type": "execute_result"
    }
   ],
   "source": [
    "df = pd.DataFrame(text2df)\n",
    "df"
   ]
  },
  {
   "cell_type": "markdown",
   "id": "bd719df3",
   "metadata": {},
   "source": [
    "# 텍스트 임베딩\n",
    "- tiktoken : OpenAI의 GPT 모델에서 사용하는 토큰화 라이브러리\n",
    "    - 토큰 : LLM에서 사용하는 단위(약 1.5단어 정도)\n",
    "    - 입력된 텍스트를 모델이 이해할 수 있는 토큰 단위로 불리하거나 토큰 수를 계산 시 사용\n",
    "    - 텍스트의 길이를 정확히 파악하고 모델의 입출력 제한을 관리"
   ]
  },
  {
   "cell_type": "code",
   "execution_count": 32,
   "id": "01a0a1b7",
   "metadata": {},
   "outputs": [],
   "source": [
    "# !pip install tiktoken"
   ]
  },
  {
   "cell_type": "code",
   "execution_count": 33,
   "id": "b464d886",
   "metadata": {},
   "outputs": [],
   "source": [
    "import tiktoken\n",
    "from openai import OpenAI"
   ]
  },
  {
   "cell_type": "code",
   "execution_count": 36,
   "id": "bf99e1ff",
   "metadata": {},
   "outputs": [],
   "source": [
    "# client = OpenAI()\n",
    "\n",
    "# # 임배딩 매개변수 설정\n",
    "# embadding_model = 'text-embedding-3-small'\n",
    "# embedding_encoding = 'cl100k_base'\n",
    "# max_tokens = 100\n",
    "\n",
    "# tokenizer = tiktoken.get_encoding(embedding_encoding)\n",
    "# df['n_tokens'] = df['content'].apply(lambda x: len(tokenizer.encode(x)))\n",
    "# df"
   ]
  },
  {
   "cell_type": "code",
   "execution_count": 47,
   "id": "e51af75e",
   "metadata": {},
   "outputs": [],
   "source": [
    "# content를 임베딩\n",
    "def get_embedding(text,model):\n",
    "    text = text.replace('\\n', '')\n",
    "    return client.embeddings.create(input=[text], model=model).data[0].embedding\n",
    "    "
   ]
  },
  {
   "cell_type": "code",
   "execution_count": null,
   "id": "d85da291",
   "metadata": {},
   "outputs": [],
   "source": [
    "df['embeddings'] = df['content'].apply(lambda x: get_embedding(x, model=embedding_model))\n",
    "df"
   ]
  },
  {
   "cell_type": "code",
   "execution_count": null,
   "id": "6e14005a",
   "metadata": {},
   "outputs": [],
   "source": []
  },
  {
   "cell_type": "code",
   "execution_count": null,
   "id": "e4e5cba6",
   "metadata": {},
   "outputs": [],
   "source": []
  },
  {
   "cell_type": "code",
   "execution_count": null,
   "id": "7786f2d5",
   "metadata": {},
   "outputs": [],
   "source": []
  },
  {
   "cell_type": "markdown",
   "id": "4fcdfbd9",
   "metadata": {},
   "source": [
    "## RAG 이용한 GPT 생성\n"
   ]
  },
  {
   "cell_type": "code",
   "execution_count": 48,
   "id": "c3922e0f",
   "metadata": {},
   "outputs": [],
   "source": [
    "def create_context(question, df, max_len=1800):\n",
    "    # 질문 벡터화\n",
    "    q_embeddings = client.embeddings.create(input=[question], model=embedding_model).data[0]['embedding']\n",
    "    # 질문 RAG 비교 후 코사인 유사도 산출 후 distance 컬럼에 저장\n",
    "    df['distances'] = distances_from_embeddings(q_embeddings, df['embeddings'].apply(eval).apply(np.array).value)\n",
    "    \n",
    "    # 컨텍스트 저장 위한 리스트\n",
    "    returns = []\n",
    "    \n",
    "    # 컨텍스트 현재 길이\n",
    "    cur_len = 0\n",
    "    \n",
    "    # 학습 데이터 유사도 순으로 정렬하고 토큰 개수 한도까지 컨텍스트에 추가\n",
    "    for _, row in df.sort_values('distances', ascending=True).iterrows():\n",
    "        # 텍스트 길이를 현재 길이 더하기\n",
    "        cur_len += row['n_tokens'] + 4\n",
    "        \n",
    "        # 텍스트 너무 길면 종료\n",
    "        if cur_len > max_len:\n",
    "            break\n",
    "        \n",
    "        # 컨텍스트 목록에 텍스트 추가\n",
    "        returns.append(row['text'])\n",
    "    \n",
    "return \"\\n\\n###\\n\\n\".join(returns)\n",
    "\n",
    "\n",
    "def answer_question(question, conversation_history):\n",
    "    \n",
    "    # RAG 데이터 불러오기\n",
    "    df = pd.read_csv('embedding.csv')\n",
    "    \n",
    "    # 질문과 RAG 데이터 비교해 컨텍스트 생성\n",
    "    context = create_context(question, df, max_len=200)\n",
    "    \n",
    "    # 프롬프트 생성하고 대화 기록에 추가\n",
    "    prompt = f\"당신은 어느 호텔의 직원입니다. 문맥에 따라 고객의 질문에 정중하게 답해주세요.\\n\n",
    "                컨텍스트가 질문에 대답할 수 없는 경우 '모르겠습니다'라고 대답하세요.\\n\n",
    "                \\n컨텍스트: {context}\\n\\n---\\n\\n질문: {question}\\n답변:\"\n",
    "    conversation_history.append({'role': \"user\", 'content': prompt})\n",
    "    \n",
    "    try:\n",
    "        # GPT에서 답변 생성\n",
    "        response = client.chat.completions.create(\n",
    "                    model = 'gpt-4o-mini',\n",
    "                    message=conversation_history,\n",
    "                    temperature=1)\n",
    "        return reponse.choices[0].message.content.strip()\n",
    "    \n",
    "    except Exception as e:\n",
    "        print(e)\n",
    "        return '오류'\n",
    "\n",
    "\n",
    "def distance_from_embeddings:\n",
    "    distance_metrics = {\n",
    "        'cosine' : spatial.distance.cosine,\n",
    "        'L1' : spatial.distance.cityblock,\n",
    "        'L2' : spatial.distance.eucliden,\n",
    "        'Linf' : spatial.distance.chebyshev\n",
    "    }\n",
    "    \n",
    "    distance = [distance_metrics[distance_metrics](query_embedding, embedding) for embedding in embedding]\n",
    "    return distance\n"
   ]
  },
  {
   "cell_type": "markdown",
   "id": "c0b2589b",
   "metadata": {},
   "source": [
    "## 실행 부분\n"
   ]
  },
  {
   "cell_type": "code",
   "execution_count": null,
   "id": "7682c8ce",
   "metadata": {},
   "outputs": [],
   "source": [
    "# !pip install faiss-cpu"
   ]
  },
  {
   "cell_type": "code",
   "execution_count": null,
   "id": "647ccfdb",
   "metadata": {},
   "outputs": [],
   "source": []
  },
  {
   "cell_type": "code",
   "execution_count": null,
   "id": "5ae146a2",
   "metadata": {},
   "outputs": [],
   "source": []
  },
  {
   "cell_type": "code",
   "execution_count": null,
   "id": "224f363f",
   "metadata": {},
   "outputs": [],
   "source": []
  },
  {
   "cell_type": "code",
   "execution_count": null,
   "id": "26c068b0",
   "metadata": {},
   "outputs": [],
   "source": []
  },
  {
   "cell_type": "code",
   "execution_count": null,
   "id": "730c9d1a",
   "metadata": {},
   "outputs": [],
   "source": []
  },
  {
   "cell_type": "code",
   "execution_count": null,
   "id": "bc47e77f",
   "metadata": {},
   "outputs": [],
   "source": []
  },
  {
   "cell_type": "markdown",
   "id": "8d11efbe",
   "metadata": {},
   "source": [
    "## Gemini 활용 구현\n",
    "---\n",
    "\n",
    "### 텍스트 임베딩\n",
    "- tiktoken : OpenAI의 GPT 모델에서 사용하는 토큰화 라이브러리\n",
    "    - 토큰 : LLM에서 사용하는 단위(약 1.5단어 정도)\n",
    "    - 입력된 텍스트를 모델이 이해할 수 있는 토큰 단위로 불리하거나 토큰 수를 계산 시 사용\n",
    "    - 텍스트의 길이를 정확히 파악하고 모델의 입출력 제한을 관리\n"
   ]
  },
  {
   "cell_type": "code",
   "execution_count": 7,
   "id": "7f56700d",
   "metadata": {},
   "outputs": [],
   "source": [
    "# !pip install pandas google-generativeai"
   ]
  },
  {
   "cell_type": "code",
   "execution_count": 8,
   "id": "510eb299",
   "metadata": {},
   "outputs": [
    {
     "name": "stderr",
     "output_type": "stream",
     "text": [
      "C:\\Users\\Admin\\miniforge3\\envs\\ai_seving\\Lib\\site-packages\\tqdm\\auto.py:21: TqdmWarning: IProgress not found. Please update jupyter and ipywidgets. See https://ipywidgets.readthedocs.io/en/stable/user_install.html\n",
      "  from .autonotebook import tqdm as notebook_tqdm\n"
     ]
    },
    {
     "data": {
      "text/html": [
       "<div>\n",
       "<style scoped>\n",
       "    .dataframe tbody tr th:only-of-type {\n",
       "        vertical-align: middle;\n",
       "    }\n",
       "\n",
       "    .dataframe tbody tr th {\n",
       "        vertical-align: top;\n",
       "    }\n",
       "\n",
       "    .dataframe thead th {\n",
       "        text-align: right;\n",
       "    }\n",
       "</style>\n",
       "<table border=\"1\" class=\"dataframe\">\n",
       "  <thead>\n",
       "    <tr style=\"text-align: right;\">\n",
       "      <th></th>\n",
       "      <th>title</th>\n",
       "      <th>content</th>\n",
       "      <th>n_tokens</th>\n",
       "    </tr>\n",
       "  </thead>\n",
       "  <tbody>\n",
       "    <tr>\n",
       "      <th>0</th>\n",
       "      <td>1. 손님 맞이</td>\n",
       "      <td>손님이 호텔에 도착하면 친절한 미소와 함께 예의 바르고 활기찬 인사말을 건네는 것이...</td>\n",
       "      <td>92</td>\n",
       "    </tr>\n",
       "    <tr>\n",
       "      <th>1</th>\n",
       "      <td>2. 체크인과 체크아웃</td>\n",
       "      <td>체크인 시간은 오후 3시, 체크아웃 시간은 오전 11시이다. 일찍 체크인하거나 늦게...</td>\n",
       "      <td>95</td>\n",
       "    </tr>\n",
       "    <tr>\n",
       "      <th>2</th>\n",
       "      <td>3. Wi-Fi 및 주차장 안내</td>\n",
       "      <td>모든 객실에 무료 와이파이가 제공된다. 연결 방법과 비밀번호를 확실히 설명해 줄 수...</td>\n",
       "      <td>81</td>\n",
       "    </tr>\n",
       "    <tr>\n",
       "      <th>3</th>\n",
       "      <td>4. 배리어 프리 대응</td>\n",
       "      <td>유니버설 룸의 배치와 시설, 특징을 이해하고 필요한 경우 고객에게 설명할 수 있도록...</td>\n",
       "      <td>72</td>\n",
       "    </tr>\n",
       "    <tr>\n",
       "      <th>4</th>\n",
       "      <td>5. 반려동물 대응</td>\n",
       "      <td>반려동물을 동반한 고객에게는 정중하게, 그러나 분명하게 반려동물을 동반할 수 없음을...</td>\n",
       "      <td>94</td>\n",
       "    </tr>\n",
       "    <tr>\n",
       "      <th>5</th>\n",
       "      <td>6. 룸 서비스</td>\n",
       "      <td>오후 11시까지 룸서비스가 제공된다. 룸서비스 메뉴의 내용을 숙지하여 고객의 문의에...</td>\n",
       "      <td>84</td>\n",
       "    </tr>\n",
       "    <tr>\n",
       "      <th>6</th>\n",
       "      <td>7. 금연 정책 및 흡연실 안내</td>\n",
       "      <td>모든 객실은 금연입니다. 그러나 흡연자 고객의 요구를 충족시키기 위해 1층에 흡연실...</td>\n",
       "      <td>71</td>\n",
       "    </tr>\n",
       "    <tr>\n",
       "      <th>7</th>\n",
       "      <td>8. 취소 정책</td>\n",
       "      <td>취소 수수료는 전날까지 연락 시 숙박 요금의 30%, 당일 취소 시 50%, 연락 ...</td>\n",
       "      <td>80</td>\n",
       "    </tr>\n",
       "    <tr>\n",
       "      <th>8</th>\n",
       "      <td>9. 결제 방법</td>\n",
       "      <td>체크아웃 시 프런트에서 현금, 신용카드, 직불카드로 결제한다. 또한 인터넷 예약을 ...</td>\n",
       "      <td>73</td>\n",
       "    </tr>\n",
       "    <tr>\n",
       "      <th>9</th>\n",
       "      <td>10. 항상 존중을 실천한다.</td>\n",
       "      <td>고객 한 사람 한 사람을 존중하는 태도로 대하자. 고객에 대한 예의, 배려, 전문성...</td>\n",
       "      <td>73</td>\n",
       "    </tr>\n",
       "  </tbody>\n",
       "</table>\n",
       "</div>"
      ],
      "text/plain": [
       "               title                                            content  \\\n",
       "0           1. 손님 맞이  손님이 호텔에 도착하면 친절한 미소와 함께 예의 바르고 활기찬 인사말을 건네는 것이...   \n",
       "1       2. 체크인과 체크아웃  체크인 시간은 오후 3시, 체크아웃 시간은 오전 11시이다. 일찍 체크인하거나 늦게...   \n",
       "2  3. Wi-Fi 및 주차장 안내  모든 객실에 무료 와이파이가 제공된다. 연결 방법과 비밀번호를 확실히 설명해 줄 수...   \n",
       "3       4. 배리어 프리 대응  유니버설 룸의 배치와 시설, 특징을 이해하고 필요한 경우 고객에게 설명할 수 있도록...   \n",
       "4         5. 반려동물 대응  반려동물을 동반한 고객에게는 정중하게, 그러나 분명하게 반려동물을 동반할 수 없음을...   \n",
       "5           6. 룸 서비스  오후 11시까지 룸서비스가 제공된다. 룸서비스 메뉴의 내용을 숙지하여 고객의 문의에...   \n",
       "6  7. 금연 정책 및 흡연실 안내  모든 객실은 금연입니다. 그러나 흡연자 고객의 요구를 충족시키기 위해 1층에 흡연실...   \n",
       "7           8. 취소 정책  취소 수수료는 전날까지 연락 시 숙박 요금의 30%, 당일 취소 시 50%, 연락 ...   \n",
       "8           9. 결제 방법  체크아웃 시 프런트에서 현금, 신용카드, 직불카드로 결제한다. 또한 인터넷 예약을 ...   \n",
       "9   10. 항상 존중을 실천한다.  고객 한 사람 한 사람을 존중하는 태도로 대하자. 고객에 대한 예의, 배려, 전문성...   \n",
       "\n",
       "   n_tokens  \n",
       "0        92  \n",
       "1        95  \n",
       "2        81  \n",
       "3        72  \n",
       "4        94  \n",
       "5        84  \n",
       "6        71  \n",
       "7        80  \n",
       "8        73  \n",
       "9        73  "
      ]
     },
     "execution_count": 8,
     "metadata": {},
     "output_type": "execute_result"
    }
   ],
   "source": [
    "import google.generativeai as genai\n",
    "\n",
    "api_key = os.getenv('GEMINAI_API_KEY')\n",
    "genai.configure(api_key=api_key)\n",
    "\n",
    "# 'gemini-1.5-flash' 모델을 사용하여 텍스트 토큰 수를 계산합니다.\n",
    "# count_tokens API 호출에 요금이 청구되지 않며 할당량 제한도 없음\n",
    "generation_model = genai.GenerativeModel('gemini-1.5-flash')\n",
    "token_counting_model = generation_model\n",
    "\n",
    "df['n_tokens'] = df['content'].apply(lambda text:token_counting_model.count_tokens(contents=[{\"text\": text}]).total_tokens)\n",
    "df\n"
   ]
  },
  {
   "cell_type": "code",
   "execution_count": 9,
   "id": "25ab8a75",
   "metadata": {},
   "outputs": [],
   "source": [
    "# content를 임베딩\n",
    "def get_embedding(text,model):\n",
    "    text = text.replace('\\n', ' ')\n",
    "    response = genai.embed_content(model=model, content=text, task_type=\"RETRIEVAL_DOCUMENT\")\n",
    "    return response['embedding']"
   ]
  },
  {
   "cell_type": "code",
   "execution_count": 10,
   "id": "873ed254",
   "metadata": {
    "scrolled": false
   },
   "outputs": [
    {
     "data": {
      "text/html": [
       "<div>\n",
       "<style scoped>\n",
       "    .dataframe tbody tr th:only-of-type {\n",
       "        vertical-align: middle;\n",
       "    }\n",
       "\n",
       "    .dataframe tbody tr th {\n",
       "        vertical-align: top;\n",
       "    }\n",
       "\n",
       "    .dataframe thead th {\n",
       "        text-align: right;\n",
       "    }\n",
       "</style>\n",
       "<table border=\"1\" class=\"dataframe\">\n",
       "  <thead>\n",
       "    <tr style=\"text-align: right;\">\n",
       "      <th></th>\n",
       "      <th>title</th>\n",
       "      <th>content</th>\n",
       "      <th>n_tokens</th>\n",
       "      <th>embeddings</th>\n",
       "    </tr>\n",
       "  </thead>\n",
       "  <tbody>\n",
       "    <tr>\n",
       "      <th>0</th>\n",
       "      <td>1. 손님 맞이</td>\n",
       "      <td>손님이 호텔에 도착하면 친절한 미소와 함께 예의 바르고 활기찬 인사말을 건네는 것이...</td>\n",
       "      <td>92</td>\n",
       "      <td>[0.047990974, 0.0022215373, -0.049586423, -0.0...</td>\n",
       "    </tr>\n",
       "    <tr>\n",
       "      <th>1</th>\n",
       "      <td>2. 체크인과 체크아웃</td>\n",
       "      <td>체크인 시간은 오후 3시, 체크아웃 시간은 오전 11시이다. 일찍 체크인하거나 늦게...</td>\n",
       "      <td>95</td>\n",
       "      <td>[0.045965537, -0.0012585014, -0.05666608, -0.0...</td>\n",
       "    </tr>\n",
       "    <tr>\n",
       "      <th>2</th>\n",
       "      <td>3. Wi-Fi 및 주차장 안내</td>\n",
       "      <td>모든 객실에 무료 와이파이가 제공된다. 연결 방법과 비밀번호를 확실히 설명해 줄 수...</td>\n",
       "      <td>81</td>\n",
       "      <td>[0.049213726, -0.01923195, -0.05040864, -0.014...</td>\n",
       "    </tr>\n",
       "    <tr>\n",
       "      <th>3</th>\n",
       "      <td>4. 배리어 프리 대응</td>\n",
       "      <td>유니버설 룸의 배치와 시설, 특징을 이해하고 필요한 경우 고객에게 설명할 수 있도록...</td>\n",
       "      <td>72</td>\n",
       "      <td>[0.05669855, 0.0067103114, -0.04471087, -0.001...</td>\n",
       "    </tr>\n",
       "    <tr>\n",
       "      <th>4</th>\n",
       "      <td>5. 반려동물 대응</td>\n",
       "      <td>반려동물을 동반한 고객에게는 정중하게, 그러나 분명하게 반려동물을 동반할 수 없음을...</td>\n",
       "      <td>94</td>\n",
       "      <td>[0.0566528, 0.0057623824, -0.04597638, -0.0022...</td>\n",
       "    </tr>\n",
       "    <tr>\n",
       "      <th>5</th>\n",
       "      <td>6. 룸 서비스</td>\n",
       "      <td>오후 11시까지 룸서비스가 제공된다. 룸서비스 메뉴의 내용을 숙지하여 고객의 문의에...</td>\n",
       "      <td>84</td>\n",
       "      <td>[0.038001366, -0.0011839091, -0.055285856, -0....</td>\n",
       "    </tr>\n",
       "    <tr>\n",
       "      <th>6</th>\n",
       "      <td>7. 금연 정책 및 흡연실 안내</td>\n",
       "      <td>모든 객실은 금연입니다. 그러나 흡연자 고객의 요구를 충족시키기 위해 1층에 흡연실...</td>\n",
       "      <td>71</td>\n",
       "      <td>[0.04873405, -0.0057860888, -0.053273458, -0.0...</td>\n",
       "    </tr>\n",
       "    <tr>\n",
       "      <th>7</th>\n",
       "      <td>8. 취소 정책</td>\n",
       "      <td>취소 수수료는 전날까지 연락 시 숙박 요금의 30%, 당일 취소 시 50%, 연락 ...</td>\n",
       "      <td>80</td>\n",
       "      <td>[0.047183372, -0.0153624965, -0.044350553, -0....</td>\n",
       "    </tr>\n",
       "    <tr>\n",
       "      <th>8</th>\n",
       "      <td>9. 결제 방법</td>\n",
       "      <td>체크아웃 시 프런트에서 현금, 신용카드, 직불카드로 결제한다. 또한 인터넷 예약을 ...</td>\n",
       "      <td>73</td>\n",
       "      <td>[0.05647212, 0.0022469126, -0.046772905, -0.00...</td>\n",
       "    </tr>\n",
       "    <tr>\n",
       "      <th>9</th>\n",
       "      <td>10. 항상 존중을 실천한다.</td>\n",
       "      <td>고객 한 사람 한 사람을 존중하는 태도로 대하자. 고객에 대한 예의, 배려, 전문성...</td>\n",
       "      <td>73</td>\n",
       "      <td>[0.05795362, 0.003422032, -0.047266956, -0.005...</td>\n",
       "    </tr>\n",
       "  </tbody>\n",
       "</table>\n",
       "</div>"
      ],
      "text/plain": [
       "               title                                            content  \\\n",
       "0           1. 손님 맞이  손님이 호텔에 도착하면 친절한 미소와 함께 예의 바르고 활기찬 인사말을 건네는 것이...   \n",
       "1       2. 체크인과 체크아웃  체크인 시간은 오후 3시, 체크아웃 시간은 오전 11시이다. 일찍 체크인하거나 늦게...   \n",
       "2  3. Wi-Fi 및 주차장 안내  모든 객실에 무료 와이파이가 제공된다. 연결 방법과 비밀번호를 확실히 설명해 줄 수...   \n",
       "3       4. 배리어 프리 대응  유니버설 룸의 배치와 시설, 특징을 이해하고 필요한 경우 고객에게 설명할 수 있도록...   \n",
       "4         5. 반려동물 대응  반려동물을 동반한 고객에게는 정중하게, 그러나 분명하게 반려동물을 동반할 수 없음을...   \n",
       "5           6. 룸 서비스  오후 11시까지 룸서비스가 제공된다. 룸서비스 메뉴의 내용을 숙지하여 고객의 문의에...   \n",
       "6  7. 금연 정책 및 흡연실 안내  모든 객실은 금연입니다. 그러나 흡연자 고객의 요구를 충족시키기 위해 1층에 흡연실...   \n",
       "7           8. 취소 정책  취소 수수료는 전날까지 연락 시 숙박 요금의 30%, 당일 취소 시 50%, 연락 ...   \n",
       "8           9. 결제 방법  체크아웃 시 프런트에서 현금, 신용카드, 직불카드로 결제한다. 또한 인터넷 예약을 ...   \n",
       "9   10. 항상 존중을 실천한다.  고객 한 사람 한 사람을 존중하는 태도로 대하자. 고객에 대한 예의, 배려, 전문성...   \n",
       "\n",
       "   n_tokens                                         embeddings  \n",
       "0        92  [0.047990974, 0.0022215373, -0.049586423, -0.0...  \n",
       "1        95  [0.045965537, -0.0012585014, -0.05666608, -0.0...  \n",
       "2        81  [0.049213726, -0.01923195, -0.05040864, -0.014...  \n",
       "3        72  [0.05669855, 0.0067103114, -0.04471087, -0.001...  \n",
       "4        94  [0.0566528, 0.0057623824, -0.04597638, -0.0022...  \n",
       "5        84  [0.038001366, -0.0011839091, -0.055285856, -0....  \n",
       "6        71  [0.04873405, -0.0057860888, -0.053273458, -0.0...  \n",
       "7        80  [0.047183372, -0.0153624965, -0.044350553, -0....  \n",
       "8        73  [0.05647212, 0.0022469126, -0.046772905, -0.00...  \n",
       "9        73  [0.05795362, 0.003422032, -0.047266956, -0.005...  "
      ]
     },
     "execution_count": 10,
     "metadata": {},
     "output_type": "execute_result"
    }
   ],
   "source": [
    "# 임배딩 매개변수 설정\n",
    "embedding_model = 'embedding-001'\n",
    "df['embeddings'] = df['content'].apply(lambda x: get_embedding(x, model=embedding_model))\n",
    "df"
   ]
  },
  {
   "cell_type": "code",
   "execution_count": 11,
   "id": "aa7d4255",
   "metadata": {},
   "outputs": [],
   "source": [
    "df.to_csv('embedding.csv', index=False, encoding='utf-8')"
   ]
  },
  {
   "cell_type": "code",
   "execution_count": 18,
   "id": "2cdd0b8b",
   "metadata": {},
   "outputs": [],
   "source": [
    "# !pip install scipy"
   ]
  },
  {
   "cell_type": "code",
   "execution_count": 17,
   "id": "5d0ffc6c",
   "metadata": {},
   "outputs": [],
   "source": [
    "import numpy as np\n",
    "from numpy.linalg import norm\n",
    "from scipy import spatial\n",
    "import ast\n",
    "import gradio as gr"
   ]
  },
  {
   "cell_type": "code",
   "execution_count": 13,
   "id": "84486b5e",
   "metadata": {},
   "outputs": [],
   "source": [
    "def create_context(question, df, max_len=1800):\n",
    "    \n",
    "    # 질문 벡터화\n",
    "    q_embeddings_response = genai.embed_content(model=embedding_model, content=question, task_type=\"RETRIEVAL_QUERY\")\n",
    "    q_embeddings = np.array(q_embeddings_response['embedding'])\n",
    "    \n",
    "    # 질문 RAG 비교 후 코사인 유사도 산출 후 distances 컬럼에 저장\n",
    "    # 두 벡터 간 코사인 유사도 계산 함수\n",
    "    def cosine_similarity(vec1, vec2):\n",
    "        if not isinstance(vec1, np.ndarray):\n",
    "            vec1 = np.array(vec1)\n",
    "        if not isinstance(vec2, np.ndarray):\n",
    "            vec2 = np.array(vec2)\n",
    "\n",
    "        if norm(vec1) == 0 or norm(vec2) == 0:\n",
    "            return 0.0\n",
    "\n",
    "        return np.dot(vec1, vec2) / (norm(vec1) * norm(vec2))\n",
    "    \n",
    "    # 코사인 유사도 산출 후 distances 컬럼에 저장\n",
    "    df['distances'] = df['embeddings'].apply(lambda doc_emb: cosine_similarity(q_embeddings, np.array(doc_emb)))\n",
    "    \n",
    "    # 최종 컨텍스트에 포함될 문서들을 저장할 리스트\n",
    "    returns = []\n",
    "    \n",
    "    # 현재 컨텍스트의 총 토큰 길이\n",
    "    cur_len = 0\n",
    "    \n",
    "    # 유사도 내림차순 정렬\n",
    "    sorted_df = df.sort_values('distances', ascending=False)\n",
    "    \n",
    "    for _, row in sorted_df.iterrows():\n",
    "        \n",
    "        # 최대 길이 초과하면 중단\n",
    "        if cur_len + row['n_tokens'] + 4 > max_len:\n",
    "            break\n",
    "        \n",
    "        # 초과하지 않으면 현재 길이를 업데이트하고 문서 내용을 컨텍스트 리스트에 추가\n",
    "        cur_len += row['n_tokens'] + 4\n",
    "        returns.append(row['content'])\n",
    "    \n",
    "    return \"\\n\\n###\\n\\n\".join(returns)\n"
   ]
  },
  {
   "cell_type": "code",
   "execution_count": 37,
   "id": "c92212b2",
   "metadata": {},
   "outputs": [],
   "source": [
    "def answer_question(question, conversation_history):\n",
    "    \n",
    "    # RAG 데이터 불러오기\n",
    "    df = pd.read_csv('embedding.csv')\n",
    "    \n",
    "    # 문자열을 파이썬 리터럴로 평가\n",
    "    df['embeddings'] = df['embeddings'].apply(ast.literal_eval)\n",
    "    \n",
    "    # NumPy 배열로 다시 변환\n",
    "    df['embeddings'] = df['embeddings'].apply(np.array)\n",
    "    \n",
    "    # 질문과 RAG 데이터 비교해 컨텍스트 생성\n",
    "    context = create_context(question, df, max_len=200)\n",
    "    \n",
    "    # Gemini API의 contents 형식에 맞게 대화 기록을 변환\n",
    "    gemini_formatted_history = []\n",
    "    \n",
    "    for entry in conversation_history:\n",
    "        role = \"model\" if entry['role'] == \"assistant\" else entry['role']\n",
    "        gemini_formatted_history.append({'role': role, 'parts': [{'text': entry['content']}]})\n",
    "        \n",
    "    # 프롬프트 생성하고 대화 기록에 추가\n",
    "    prompt = (\n",
    "        f\"당신은 어느 호텔의 직원입니다. 문맥에 따라 고객의 질문에 정중하게 답해주세요.\\n\"\n",
    "        f\"컨텍스트가 질문에 대답할 수 없는 경우 '모르겠습니다'라고 대답하세요.\\n\\n\"\n",
    "        f\"컨텍스트: {context}\\n\\n---\\n\\n질문: {question}\\n답변:\"\n",
    "    )\n",
    "    gemini_formatted_history.append({'role': \"user\", 'parts': [{'text': prompt}]})\n",
    "    \n",
    "    try:\n",
    "        # gemini에서 답변 생성\n",
    "        response = generation_model.generate_content(\n",
    "            contents=gemini_formatted_history,\n",
    "            generation_config=genai.types.GenerationConfig(temperature=0.6)\n",
    "        )\n",
    "        return response.text.strip()\n",
    "    except Exception as e:\n",
    "        print(f\"Gemini 답변 생성 중 오류 발생: {e}\")\n",
    "        return '죄송합니다. 현재 질문에 답변할 수 없습니다.'\n",
    "    "
   ]
  },
  {
   "cell_type": "code",
   "execution_count": 38,
   "id": "ac961712",
   "metadata": {},
   "outputs": [],
   "source": [
    "def distance_from_embeddings(query_embedding: np.ndarray, \n",
    "                             document_embeddings: list[np.ndarray], \n",
    "                             metric: str = 'cosine') -> list[float]:\n",
    "    distance_metrics = {\n",
    "        'cosine': spatial.distance.cosine,\n",
    "        'L1': spatial.distance.cityblock,\n",
    "        'L2': spatial.distance.euclidean,\n",
    "        'Linf': spatial.distance.chebyshev}\n",
    "    \n",
    "    if metric not in distance_metrics:\n",
    "        raise ValueError(f\"지원하지 않는 거리 지표 '{metric}'입니다. 'cosine', 'L1', 'L2', 'Linf' 중 하나를 선택하세요.\")\n",
    "    selected_distance_func = distance_metrics[metric]\n",
    "    query_embedding = np.array(query_embedding)\n",
    "    distances = [selected_distance_func(query_embedding, np.array(doc_emb)) for doc_emb in document_embeddings]\n",
    "\n",
    "    return distances\n",
    "    "
   ]
  },
  {
   "cell_type": "markdown",
   "id": "8c8086ce",
   "metadata": {},
   "source": [
    "## 실행 부분"
   ]
  },
  {
   "cell_type": "code",
   "execution_count": 39,
   "id": "968c4947",
   "metadata": {},
   "outputs": [],
   "source": [
    "def chat_interface(message, history):\n",
    "    conversation_history_formatted  = []\n",
    "    for human_msg, ai_msg in history:\n",
    "        conversation_history_formatted.append({\"role\": \"user\", \"content\": human_msg})\n",
    "        conversation_history_formatted.append({\"role\": \"assistant\", \"content\": ai_msg})\n",
    "    bot_message = answer_question(message, conversation_history_formatted)\n",
    "    return bot_message"
   ]
  },
  {
   "cell_type": "code",
   "execution_count": 40,
   "id": "b91f76e7",
   "metadata": {},
   "outputs": [
    {
     "name": "stderr",
     "output_type": "stream",
     "text": [
      "C:\\Users\\Admin\\AppData\\Local\\Temp\\ipykernel_17944\\681431327.py:3: UserWarning: You have not specified a value for the `type` parameter. Defaulting to the 'tuples' format for chatbot messages, but this is deprecated and will be removed in a future version of Gradio. Please set type='messages' instead, which uses openai-style dictionaries with 'role' and 'content' keys.\n",
      "  chatbot=gr.Chatbot(height=500),\n",
      "C:\\Users\\Admin\\miniforge3\\envs\\ai_seving\\Lib\\site-packages\\gradio\\chat_interface.py:322: UserWarning: The gr.ChatInterface was not provided with a type, so the type of the gr.Chatbot, 'tuples', will be used.\n",
      "  warnings.warn(\n"
     ]
    },
    {
     "name": "stdout",
     "output_type": "stream",
     "text": [
      "* Running on local URL:  http://127.0.0.1:7868\n",
      "* Running on public URL: https://c96072ebf92d55b89a.gradio.live\n",
      "\n",
      "This share link expires in 1 week. For free permanent hosting and GPU upgrades, run `gradio deploy` from the terminal in the working directory to deploy to Hugging Face Spaces (https://huggingface.co/spaces)\n"
     ]
    },
    {
     "data": {
      "text/html": [
       "<div><iframe src=\"https://c96072ebf92d55b89a.gradio.live\" width=\"100%\" height=\"500\" allow=\"autoplay; camera; microphone; clipboard-read; clipboard-write;\" frameborder=\"0\" allowfullscreen></iframe></div>"
      ],
      "text/plain": [
       "<IPython.core.display.HTML object>"
      ]
     },
     "metadata": {},
     "output_type": "display_data"
    },
    {
     "data": {
      "text/plain": []
     },
     "execution_count": 40,
     "metadata": {},
     "output_type": "execute_result"
    }
   ],
   "source": [
    "demo = gr.ChatInterface(\n",
    "    fn=chat_interface,\n",
    "    chatbot=gr.Chatbot(height=500),\n",
    "    textbox=gr.Textbox(placeholder=\"궁금한 점을 입력하세요...\", container=False, scale=7),\n",
    "    title=\"🏨 호텔 챗봇\",\n",
    "    description=\"호텔에 대해 궁금한 점이 있으시면 무엇이든 물어보세요! (예: 입실 시간, 조식 시간, 수영장 위치)\", # UI 설명\n",
    "    examples=[ \n",
    "        \"입실 시간은 몇 시부터인가요?\",\n",
    "        \"조식은 어디서 먹을 수 있나요?\",\n",
    "        \"수영장은 몇 시까지 이용 가능한가요?\"\n",
    "    ],\n",
    "    theme=\"soft\")\n",
    "\n",
    "# Gradio 데모 실행\n",
    "demo.launch(share=True)"
   ]
  },
  {
   "cell_type": "code",
   "execution_count": null,
   "id": "30a2f4ef",
   "metadata": {},
   "outputs": [],
   "source": []
  },
  {
   "cell_type": "code",
   "execution_count": null,
   "id": "8736085d",
   "metadata": {},
   "outputs": [],
   "source": []
  },
  {
   "cell_type": "code",
   "execution_count": null,
   "id": "6203cb30",
   "metadata": {},
   "outputs": [],
   "source": []
  },
  {
   "cell_type": "code",
   "execution_count": null,
   "id": "9df48a58",
   "metadata": {},
   "outputs": [],
   "source": []
  },
  {
   "cell_type": "code",
   "execution_count": null,
   "id": "31e37abb",
   "metadata": {},
   "outputs": [],
   "source": []
  },
  {
   "cell_type": "code",
   "execution_count": null,
   "id": "00ca8614",
   "metadata": {},
   "outputs": [],
   "source": []
  },
  {
   "cell_type": "code",
   "execution_count": null,
   "id": "94ea6235",
   "metadata": {},
   "outputs": [],
   "source": []
  },
  {
   "cell_type": "code",
   "execution_count": null,
   "id": "991c7fa4",
   "metadata": {},
   "outputs": [],
   "source": []
  },
  {
   "cell_type": "code",
   "execution_count": null,
   "id": "fe332667",
   "metadata": {},
   "outputs": [],
   "source": []
  },
  {
   "cell_type": "code",
   "execution_count": null,
   "id": "792c9823",
   "metadata": {},
   "outputs": [],
   "source": []
  },
  {
   "cell_type": "code",
   "execution_count": null,
   "id": "9faef18b",
   "metadata": {},
   "outputs": [],
   "source": []
  },
  {
   "cell_type": "code",
   "execution_count": null,
   "id": "baa06e4f",
   "metadata": {},
   "outputs": [],
   "source": []
  },
  {
   "cell_type": "code",
   "execution_count": null,
   "id": "2f76d199",
   "metadata": {},
   "outputs": [],
   "source": []
  },
  {
   "cell_type": "code",
   "execution_count": null,
   "id": "64b31a97",
   "metadata": {},
   "outputs": [],
   "source": []
  }
 ],
 "metadata": {
  "kernelspec": {
   "display_name": "Python 3 (ipykernel)",
   "language": "python",
   "name": "python3"
  },
  "language_info": {
   "codemirror_mode": {
    "name": "ipython",
    "version": 3
   },
   "file_extension": ".py",
   "mimetype": "text/x-python",
   "name": "python",
   "nbconvert_exporter": "python",
   "pygments_lexer": "ipython3",
   "version": "3.11.13"
  }
 },
 "nbformat": 4,
 "nbformat_minor": 5
}
