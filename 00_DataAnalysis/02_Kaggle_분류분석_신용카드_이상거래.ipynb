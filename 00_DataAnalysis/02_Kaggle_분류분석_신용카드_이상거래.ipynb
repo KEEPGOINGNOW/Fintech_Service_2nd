{
 "cells": [
  {
   "cell_type": "markdown",
   "id": "4e38838c",
   "metadata": {},
   "source": [
    "# 신용카드_이상거래_예측분석\n",
    "- https://www.kaggle.com/datasets/youssefismail20/fraudsynth-credit-fraud-detection-dataset\n",
    "\n",
    "---\n",
    "\n",
    "### 데이터 분석 과정\n",
    "0. 필요한 라이브러리 불러오기\n",
    "1. 데이터 선택 및 로딩\n",
    "2. 결측값, 이상값 탐지\n",
    "3. EDA(탐색적 데이터 분석)\n",
    "4. 피처 엔지니어링(feature engineering)\n",
    "5. 홀드아웃(훈련데이터, 테스트 데이터로 분리)\n",
    "6. 분석에 맞는 알고리즘 불러와서 모델 생성\n",
    "7. 분석 목적에 맞는 지표를 이용해 모델 성능 검증\n",
    "8. 하이퍼파라미터 튜닝(클래스 불균형 해소(모델에서 소수 클래스 가중치 조절/데이터 증폭 및 축소) 및 최종 모델 선택"
   ]
  },
  {
   "cell_type": "markdown",
   "id": "f416c289",
   "metadata": {},
   "source": [
    "## 필요한 라이브러리 불러오기"
   ]
  },
  {
   "cell_type": "code",
   "execution_count": 5,
   "id": "477ea898",
   "metadata": {},
   "outputs": [],
   "source": [
    "# !pip install koreanize-matplotlib --upgrade pip"
   ]
  },
  {
   "cell_type": "code",
   "execution_count": 157,
   "id": "1595486c",
   "metadata": {},
   "outputs": [],
   "source": [
    "import pandas as pd\n",
    "import numpy as np\n",
    "import matplotlib.pyplot as plt\n",
    "import koreanize_matplotlib\n",
    "import seaborn as sns"
   ]
  },
  {
   "cell_type": "code",
   "execution_count": 158,
   "id": "2543a4bd",
   "metadata": {},
   "outputs": [],
   "source": [
    "pd.set_option('display.max_columns', None)\n",
    "pd.set_option('display.max_rows', 100)\n",
    "pd.set_option('display.float_format', '{:.2f}'.format)"
   ]
  },
  {
   "cell_type": "markdown",
   "id": "f35b1760",
   "metadata": {},
   "source": [
    "## 데이터 불러오기 및 확인\n",
    "------\n",
    "### 컬럼 확인\n",
    "- timestamp : 거래일자\n",
    "- user_id : 고객ID\n",
    "- amount : 총거래금액\n",
    "- location : 거래발생위치(도시)\n",
    "- device_type : 거래발생기기\n",
    "- is_fraud : 이상거래여부\n",
    "- age : 고객나이\n",
    "- income : 고객수입\n",
    "- debt : 고객추정빚\n",
    "- credit_score : 고객신용점수"
   ]
  },
  {
   "cell_type": "code",
   "execution_count": 177,
   "id": "4f3474ac",
   "metadata": {},
   "outputs": [
    {
     "data": {
      "text/html": [
       "<div>\n",
       "<style scoped>\n",
       "    .dataframe tbody tr th:only-of-type {\n",
       "        vertical-align: middle;\n",
       "    }\n",
       "\n",
       "    .dataframe tbody tr th {\n",
       "        vertical-align: top;\n",
       "    }\n",
       "\n",
       "    .dataframe thead th {\n",
       "        text-align: right;\n",
       "    }\n",
       "</style>\n",
       "<table border=\"1\" class=\"dataframe\">\n",
       "  <thead>\n",
       "    <tr style=\"text-align: right;\">\n",
       "      <th></th>\n",
       "      <th>timestamp</th>\n",
       "      <th>user_id</th>\n",
       "      <th>amount</th>\n",
       "      <th>location</th>\n",
       "      <th>device_type</th>\n",
       "      <th>is_fraud</th>\n",
       "      <th>age</th>\n",
       "      <th>income</th>\n",
       "      <th>debt</th>\n",
       "      <th>credit_score</th>\n",
       "    </tr>\n",
       "  </thead>\n",
       "  <tbody>\n",
       "    <tr>\n",
       "      <th>0</th>\n",
       "      <td>2023-12-15 02:48:24</td>\n",
       "      <td>3cbf0b8a-c799-4c0e-9782-89272ab8fa2b</td>\n",
       "      <td>998.99</td>\n",
       "      <td>Grantfurt</td>\n",
       "      <td>Mobile</td>\n",
       "      <td>0</td>\n",
       "      <td>56</td>\n",
       "      <td>42524.98</td>\n",
       "      <td>8394.05</td>\n",
       "      <td>655</td>\n",
       "    </tr>\n",
       "    <tr>\n",
       "      <th>1</th>\n",
       "      <td>2023-10-30 11:08:37</td>\n",
       "      <td>3675ed98-6863-4bae-b089-6f0db2df006b</td>\n",
       "      <td>241.39</td>\n",
       "      <td>Kimberlychester</td>\n",
       "      <td>Tablet</td>\n",
       "      <td>0</td>\n",
       "      <td>52</td>\n",
       "      <td>69884.04</td>\n",
       "      <td>28434.06</td>\n",
       "      <td>395</td>\n",
       "    </tr>\n",
       "  </tbody>\n",
       "</table>\n",
       "</div>"
      ],
      "text/plain": [
       "             timestamp                               user_id  amount  \\\n",
       "0  2023-12-15 02:48:24  3cbf0b8a-c799-4c0e-9782-89272ab8fa2b  998.99   \n",
       "1  2023-10-30 11:08:37  3675ed98-6863-4bae-b089-6f0db2df006b  241.39   \n",
       "\n",
       "          location device_type  is_fraud  age   income     debt  credit_score  \n",
       "0        Grantfurt      Mobile         0   56 42524.98  8394.05           655  \n",
       "1  Kimberlychester      Tablet         0   52 69884.04 28434.06           395  "
      ]
     },
     "execution_count": 177,
     "metadata": {},
     "output_type": "execute_result"
    }
   ],
   "source": [
    "data = pd.read_csv('./data/fraud_detection_dataset.csv')\n",
    "data.head(2)"
   ]
  },
  {
   "cell_type": "code",
   "execution_count": 6,
   "id": "69861563",
   "metadata": {},
   "outputs": [
    {
     "name": "stdout",
     "output_type": "stream",
     "text": [
      "<class 'pandas.core.frame.DataFrame'>\n",
      "RangeIndex: 2000000 entries, 0 to 1999999\n",
      "Data columns (total 10 columns):\n",
      " #   Column        Dtype  \n",
      "---  ------        -----  \n",
      " 0   timestamp     object \n",
      " 1   user_id       object \n",
      " 2   amount        float64\n",
      " 3   location      object \n",
      " 4   device_type   object \n",
      " 5   is_fraud      int64  \n",
      " 6   age           int64  \n",
      " 7   income        float64\n",
      " 8   debt          float64\n",
      " 9   credit_score  int64  \n",
      "dtypes: float64(3), int64(3), object(4)\n",
      "memory usage: 152.6+ MB\n"
     ]
    }
   ],
   "source": [
    "data.info()"
   ]
  },
  {
   "cell_type": "code",
   "execution_count": 7,
   "id": "a491560b",
   "metadata": {},
   "outputs": [
    {
     "data": {
      "text/html": [
       "<div>\n",
       "<style scoped>\n",
       "    .dataframe tbody tr th:only-of-type {\n",
       "        vertical-align: middle;\n",
       "    }\n",
       "\n",
       "    .dataframe tbody tr th {\n",
       "        vertical-align: top;\n",
       "    }\n",
       "\n",
       "    .dataframe thead th {\n",
       "        text-align: right;\n",
       "    }\n",
       "</style>\n",
       "<table border=\"1\" class=\"dataframe\">\n",
       "  <thead>\n",
       "    <tr style=\"text-align: right;\">\n",
       "      <th></th>\n",
       "      <th>amount</th>\n",
       "      <th>is_fraud</th>\n",
       "      <th>age</th>\n",
       "      <th>income</th>\n",
       "      <th>debt</th>\n",
       "      <th>credit_score</th>\n",
       "    </tr>\n",
       "  </thead>\n",
       "  <tbody>\n",
       "    <tr>\n",
       "      <th>count</th>\n",
       "      <td>2000000.00</td>\n",
       "      <td>2000000.00</td>\n",
       "      <td>2000000.00</td>\n",
       "      <td>2000000.00</td>\n",
       "      <td>2000000.00</td>\n",
       "      <td>2000000.00</td>\n",
       "    </tr>\n",
       "    <tr>\n",
       "      <th>mean</th>\n",
       "      <td>1751.68</td>\n",
       "      <td>0.50</td>\n",
       "      <td>44.00</td>\n",
       "      <td>85020.99</td>\n",
       "      <td>24984.04</td>\n",
       "      <td>574.79</td>\n",
       "    </tr>\n",
       "    <tr>\n",
       "      <th>std</th>\n",
       "      <td>1504.16</td>\n",
       "      <td>0.50</td>\n",
       "      <td>15.30</td>\n",
       "      <td>37532.01</td>\n",
       "      <td>14440.05</td>\n",
       "      <td>159.12</td>\n",
       "    </tr>\n",
       "    <tr>\n",
       "      <th>min</th>\n",
       "      <td>10.00</td>\n",
       "      <td>0.00</td>\n",
       "      <td>18.00</td>\n",
       "      <td>20000.09</td>\n",
       "      <td>0.04</td>\n",
       "      <td>300.00</td>\n",
       "    </tr>\n",
       "    <tr>\n",
       "      <th>25%</th>\n",
       "      <td>504.34</td>\n",
       "      <td>0.00</td>\n",
       "      <td>31.00</td>\n",
       "      <td>52530.58</td>\n",
       "      <td>12465.51</td>\n",
       "      <td>437.00</td>\n",
       "    </tr>\n",
       "    <tr>\n",
       "      <th>50%</th>\n",
       "      <td>1000.00</td>\n",
       "      <td>0.50</td>\n",
       "      <td>44.00</td>\n",
       "      <td>85032.87</td>\n",
       "      <td>24980.93</td>\n",
       "      <td>575.00</td>\n",
       "    </tr>\n",
       "    <tr>\n",
       "      <th>75%</th>\n",
       "      <td>2996.71</td>\n",
       "      <td>1.00</td>\n",
       "      <td>57.00</td>\n",
       "      <td>117537.45</td>\n",
       "      <td>37480.29</td>\n",
       "      <td>713.00</td>\n",
       "    </tr>\n",
       "    <tr>\n",
       "      <th>max</th>\n",
       "      <td>4999.99</td>\n",
       "      <td>1.00</td>\n",
       "      <td>70.00</td>\n",
       "      <td>149999.96</td>\n",
       "      <td>49999.98</td>\n",
       "      <td>850.00</td>\n",
       "    </tr>\n",
       "  </tbody>\n",
       "</table>\n",
       "</div>"
      ],
      "text/plain": [
       "          amount   is_fraud        age     income       debt  credit_score\n",
       "count 2000000.00 2000000.00 2000000.00 2000000.00 2000000.00    2000000.00\n",
       "mean     1751.68       0.50      44.00   85020.99   24984.04        574.79\n",
       "std      1504.16       0.50      15.30   37532.01   14440.05        159.12\n",
       "min        10.00       0.00      18.00   20000.09       0.04        300.00\n",
       "25%       504.34       0.00      31.00   52530.58   12465.51        437.00\n",
       "50%      1000.00       0.50      44.00   85032.87   24980.93        575.00\n",
       "75%      2996.71       1.00      57.00  117537.45   37480.29        713.00\n",
       "max      4999.99       1.00      70.00  149999.96   49999.98        850.00"
      ]
     },
     "execution_count": 7,
     "metadata": {},
     "output_type": "execute_result"
    }
   ],
   "source": [
    "data.describe()"
   ]
  },
  {
   "cell_type": "markdown",
   "id": "6bcae60e",
   "metadata": {},
   "source": [
    "## 결측값, 이상값 탐지\n",
    "- 결측치 확인/처리 및 중복값 처리"
   ]
  },
  {
   "cell_type": "code",
   "execution_count": 8,
   "id": "c39fa8b3",
   "metadata": {},
   "outputs": [
    {
     "data": {
      "text/plain": [
       "timestamp       0\n",
       "user_id         0\n",
       "amount          0\n",
       "location        0\n",
       "device_type     0\n",
       "is_fraud        0\n",
       "age             0\n",
       "income          0\n",
       "debt            0\n",
       "credit_score    0\n",
       "dtype: int64"
      ]
     },
     "execution_count": 8,
     "metadata": {},
     "output_type": "execute_result"
    }
   ],
   "source": [
    "data.isna().sum()"
   ]
  },
  {
   "cell_type": "code",
   "execution_count": 9,
   "id": "9fae3344",
   "metadata": {},
   "outputs": [
    {
     "data": {
      "text/plain": [
       "0"
      ]
     },
     "execution_count": 9,
     "metadata": {},
     "output_type": "execute_result"
    }
   ],
   "source": [
    "# 중복값 확인\n",
    "len(data[data.duplicated()])"
   ]
  },
  {
   "cell_type": "markdown",
   "id": "aa86dfd6",
   "metadata": {},
   "source": [
    "### 이상치 탐지 및 처리\n",
    "- 이상치는 없는 것으로 확인"
   ]
  },
  {
   "cell_type": "code",
   "execution_count": 10,
   "id": "da294a31",
   "metadata": {},
   "outputs": [
    {
     "data": {
      "text/plain": [
       "Index(['amount', 'is_fraud', 'age', 'income', 'debt', 'credit_score'], dtype='object')"
      ]
     },
     "execution_count": 10,
     "metadata": {},
     "output_type": "execute_result"
    }
   ],
   "source": [
    "data_num = data.select_dtypes(exclude='object')\n",
    "data_num.columns"
   ]
  },
  {
   "cell_type": "code",
   "execution_count": 15,
   "id": "453be981",
   "metadata": {},
   "outputs": [
    {
     "data": {
      "image/png": "[encoded data removed]",
      "text/plain": [
       "<Figure size 640x480 with 1 Axes>"
      ]
     },
     "metadata": {},
     "output_type": "display_data"
    }
   ],
   "source": [
    "# 박스 플롯 확인\n",
    "# 이상치가 없음을 확인\n",
    "sns.boxplot(data_num)\n",
    "plt.show()"
   ]
  },
  {
   "cell_type": "code",
   "execution_count": 11,
   "id": "ec6a1784",
   "metadata": {},
   "outputs": [
    {
     "name": "stdout",
     "output_type": "stream",
     "text": [
      "============================== amount ==============================\n",
      "count   2000000.00\n",
      "mean       1751.68\n",
      "std        1504.16\n",
      "min          10.00\n",
      "25%         504.34\n",
      "50%        1000.00\n",
      "75%        2996.71\n",
      "max        4999.99\n",
      "Name: amount, dtype: float64\n",
      "\n"
     ]
    },
    {
     "data": {
      "image/png": "[encoded data removed]",
      "text/plain": [
       "<Figure size 640x480 with 1 Axes>"
      ]
     },
     "metadata": {},
     "output_type": "display_data"
    },
    {
     "name": "stdout",
     "output_type": "stream",
     "text": [
      "\n",
      "============================== is_fraud ==============================\n",
      "count   2000000.00\n",
      "mean          0.50\n",
      "std           0.50\n",
      "min           0.00\n",
      "25%           0.00\n",
      "50%           0.50\n",
      "75%           1.00\n",
      "max           1.00\n",
      "Name: is_fraud, dtype: float64\n",
      "\n"
     ]
    },
    {
     "data": {
      "image/png": "[encoded data removed]",
      "text/plain": [
       "<Figure size 640x480 with 1 Axes>"
      ]
     },
     "metadata": {},
     "output_type": "display_data"
    },
    {
     "name": "stdout",
     "output_type": "stream",
     "text": [
      "\n",
      "============================== age ==============================\n",
      "count   2000000.00\n",
      "mean         44.00\n",
      "std          15.30\n",
      "min          18.00\n",
      "25%          31.00\n",
      "50%          44.00\n",
      "75%          57.00\n",
      "max          70.00\n",
      "Name: age, dtype: float64\n",
      "\n"
     ]
    },
    {
     "data": {
      "image/png": "[encoded data removed]",
      "text/plain": [
       "<Figure size 640x480 with 1 Axes>"
      ]
     },
     "metadata": {},
     "output_type": "display_data"
    },
    {
     "name": "stdout",
     "output_type": "stream",
     "text": [
      "\n",
      "============================== income ==============================\n",
      "count   2000000.00\n",
      "mean      85020.99\n",
      "std       37532.01\n",
      "min       20000.09\n",
      "25%       52530.58\n",
      "50%       85032.87\n",
      "75%      117537.45\n",
      "max      149999.96\n",
      "Name: income, dtype: float64\n",
      "\n"
     ]
    },
    {
     "data": {
      "image/png": "[encoded data removed]",
      "text/plain": [
       "<Figure size 640x480 with 1 Axes>"
      ]
     },
     "metadata": {},
     "output_type": "display_data"
    },
    {
     "name": "stdout",
     "output_type": "stream",
     "text": [
      "\n",
      "============================== debt ==============================\n",
      "count   2000000.00\n",
      "mean      24984.04\n",
      "std       14440.05\n",
      "min           0.04\n",
      "25%       12465.51\n",
      "50%       24980.93\n",
      "75%       37480.29\n",
      "max       49999.98\n",
      "Name: debt, dtype: float64\n",
      "\n"
     ]
    },
    {
     "data": {
      "image/png": "[encoded data removed]",
      "text/plain": [
       "<Figure size 640x480 with 1 Axes>"
      ]
     },
     "metadata": {},
     "output_type": "display_data"
    },
    {
     "name": "stdout",
     "output_type": "stream",
     "text": [
      "\n",
      "============================== credit_score ==============================\n",
      "count   2000000.00\n",
      "mean        574.79\n",
      "std         159.12\n",
      "min         300.00\n",
      "25%         437.00\n",
      "50%         575.00\n",
      "75%         713.00\n",
      "max         850.00\n",
      "Name: credit_score, dtype: float64\n",
      "\n"
     ]
    },
    {
     "data": {
      "image/png": "[encoded data removed]",
      "text/plain": [
       "<Figure size 640x480 with 1 Axes>"
      ]
     },
     "metadata": {},
     "output_type": "display_data"
    },
    {
     "name": "stdout",
     "output_type": "stream",
     "text": [
      "\n"
     ]
    }
   ],
   "source": [
    "# 박스 플롯 확인\n",
    "# 각 컬럼별로 확인\n",
    "# 이상치는 없는 것으로 확인\n",
    "\n",
    "for col in data_num:\n",
    "    print('='*30, col, '='*30)\n",
    "    print(data_num[col].describe())\n",
    "    \n",
    "    print()\n",
    "    sns.boxplot(data_num[col])\n",
    "    plt.show()\n",
    "    print()\n",
    "    "
   ]
  },
  {
   "cell_type": "markdown",
   "id": "46629375",
   "metadata": {},
   "source": [
    "## EDA(탐색적 데이터 분석)"
   ]
  },
  {
   "cell_type": "code",
   "execution_count": 181,
   "id": "c85b8d11",
   "metadata": {},
   "outputs": [
    {
     "name": "stdout",
     "output_type": "stream",
     "text": [
      "is_fraud\n",
      "0    1000000\n",
      "1    1000000\n",
      "Name: count, dtype: int64\n"
     ]
    },
    {
     "data": {
      "text/plain": [
       "is_fraud\n",
       "0   0.50\n",
       "1   0.50\n",
       "Name: proportion, dtype: float64"
      ]
     },
     "execution_count": 181,
     "metadata": {},
     "output_type": "execute_result"
    }
   ],
   "source": [
    "# 종속변수(is_fraud)의 데이터 비율 확인\n",
    "print(data['is_fraud'].value_counts())\n",
    "\n",
    "# 이상거래로 판단되는 경우(is_fraud == 1) 전체 데이터셋 중 비율 확인\n",
    "# print('이상거래(1)인 경우의 비율 =', len(data[data['is_fraud'] == 1]) / len(data) * 100)\n",
    "\n",
    "# 클래스 불균형 비율 확인\n",
    "# 클래스 불균형은 없음\n",
    "data['is_fraud'].value_counts(normalize=True)"
   ]
  },
  {
   "cell_type": "code",
   "execution_count": 15,
   "id": "51dff4bc",
   "metadata": {},
   "outputs": [
    {
     "data": {
      "text/plain": [
       "count                 2000000\n",
       "unique                1937890\n",
       "top       2023-07-16 22:02:58\n",
       "freq                        4\n",
       "Name: timestamp, dtype: object"
      ]
     },
     "execution_count": 15,
     "metadata": {},
     "output_type": "execute_result"
    }
   ],
   "source": [
    "data['timestamp'].describe()"
   ]
  },
  {
   "cell_type": "code",
   "execution_count": 182,
   "id": "c50b16ec",
   "metadata": {},
   "outputs": [
    {
     "name": "stdout",
     "output_type": "stream",
     "text": [
      "범주형 데이터 컬럼명 : Index(['location', 'device_type'], dtype='object')\n",
      "숫자형 데이터 컬럼명 : Index(['amount', 'age', 'income', 'debt', 'credit_score'], dtype='object')\n"
     ]
    }
   ],
   "source": [
    "# 범주형\n",
    "obj_cols = data.select_dtypes(include='object')\n",
    "\n",
    "# 고객ID는 독립적인 값(200만개)이므로 user_id 컬럼 제외\n",
    "# 거의 독립적인 값(193만개 이상)이므로 timestamp 컬럼 제외\n",
    "obj_cols = obj_cols.drop(['user_id', 'timestamp'], axis=1)\n",
    "print('범주형 데이터 컬럼명 :', obj_cols.columns)\n",
    "\n",
    "# 숫자형\n",
    "# 의미 없는 것 제거 : 종속변수인 is_fraud도 제거\n",
    "num_cols = data.select_dtypes(exclude=['object', 'category'])\n",
    "num_cols = num_cols.drop(['is_fraud'], axis=1)\n",
    "print('숫자형 데이터 컬럼명 :', num_cols.columns)\n"
   ]
  },
  {
   "cell_type": "code",
   "execution_count": 192,
   "id": "26f6da70",
   "metadata": {
    "scrolled": true
   },
   "outputs": [
    {
     "name": "stdout",
     "output_type": "stream",
     "text": [
      "======================================== amount ========================================\n",
      "count   2000000.00\n",
      "mean       1751.68\n",
      "std        1504.16\n",
      "min          10.00\n",
      "25%         504.34\n",
      "50%        1000.00\n",
      "75%        2996.71\n",
      "max        4999.99\n",
      "Name: amount, dtype: float64\n"
     ]
    },
    {
     "data": {
      "image/png": "[encoded data removed]",
      "text/plain": [
       "<Figure size 600x400 with 1 Axes>"
      ]
     },
     "metadata": {},
     "output_type": "display_data"
    },
    {
     "data": {
      "image/png": "[encoded data removed]",
      "text/plain": [
       "<Figure size 600x400 with 1 Axes>"
      ]
     },
     "metadata": {},
     "output_type": "display_data"
    },
    {
     "name": "stdout",
     "output_type": "stream",
     "text": [
      "amount\n",
      "2459.49   1.00\n",
      "3306.96   1.00\n",
      "3307.25   1.00\n",
      "3307.24   1.00\n",
      "3307.23   1.00\n",
      "          ... \n",
      "670.02    0.00\n",
      "670.03    0.00\n",
      "670.04    0.00\n",
      "670.05    0.00\n",
      "10.00     0.00\n",
      "Name: is_fraud, Length: 466189, dtype: float64\n",
      "\n",
      "\n",
      "\n",
      "======================================== age ========================================\n",
      "count   2000000.00\n",
      "mean         44.00\n",
      "std          15.30\n",
      "min          18.00\n",
      "25%          31.00\n",
      "50%          44.00\n",
      "75%          57.00\n",
      "max          70.00\n",
      "Name: age, dtype: float64\n"
     ]
    },
    {
     "data": {
      "image/png": "[encoded data removed]",
      "text/plain": [
       "<Figure size 600x400 with 1 Axes>"
      ]
     },
     "metadata": {},
     "output_type": "display_data"
    },
    {
     "data": {
      "image/png": "[encoded data removed]",
      "text/plain": [
       "<Figure size 600x400 with 1 Axes>"
      ]
     },
     "metadata": {},
     "output_type": "display_data"
    },
    {
     "name": "stdout",
     "output_type": "stream",
     "text": [
      "age\n",
      "35   0.50\n",
      "21   0.50\n",
      "33   0.50\n",
      "42   0.50\n",
      "24   0.50\n",
      "19   0.50\n",
      "66   0.50\n",
      "62   0.50\n",
      "31   0.50\n",
      "55   0.50\n",
      "32   0.50\n",
      "26   0.50\n",
      "39   0.50\n",
      "37   0.50\n",
      "70   0.50\n",
      "59   0.50\n",
      "38   0.50\n",
      "30   0.50\n",
      "69   0.50\n",
      "60   0.50\n",
      "36   0.50\n",
      "54   0.50\n",
      "52   0.50\n",
      "29   0.50\n",
      "20   0.50\n",
      "67   0.50\n",
      "46   0.50\n",
      "40   0.50\n",
      "47   0.50\n",
      "48   0.50\n",
      "22   0.50\n",
      "51   0.50\n",
      "57   0.50\n",
      "53   0.50\n",
      "34   0.50\n",
      "64   0.50\n",
      "41   0.50\n",
      "23   0.50\n",
      "28   0.50\n",
      "49   0.50\n",
      "50   0.50\n",
      "68   0.50\n",
      "25   0.50\n",
      "18   0.50\n",
      "65   0.50\n",
      "61   0.50\n",
      "63   0.50\n",
      "56   0.50\n",
      "45   0.50\n",
      "44   0.50\n",
      "27   0.50\n",
      "58   0.50\n",
      "43   0.49\n",
      "Name: is_fraud, dtype: float64\n",
      "\n",
      "\n",
      "\n",
      "======================================== income ========================================\n",
      "count   2000000.00\n",
      "mean      85020.99\n",
      "std       37532.01\n",
      "min       20000.09\n",
      "25%       52530.58\n",
      "50%       85032.87\n",
      "75%      117537.45\n",
      "max      149999.96\n",
      "Name: income, dtype: float64\n"
     ]
    },
    {
     "data": {
      "image/png": "[encoded data removed]",
      "text/plain": [
       "<Figure size 600x400 with 1 Axes>"
      ]
     },
     "metadata": {},
     "output_type": "display_data"
    },
    {
     "data": {
      "image/png": "[encoded data removed]",
      "text/plain": [
       "<Figure size 600x400 with 1 Axes>"
      ]
     },
     "metadata": {},
     "output_type": "display_data"
    },
    {
     "name": "stdout",
     "output_type": "stream",
     "text": [
      "income\n",
      "85041.60    1.00\n",
      "124245.02   1.00\n",
      "124245.19   1.00\n",
      "73678.53    1.00\n",
      "73678.60    1.00\n",
      "            ... \n",
      "78527.42    0.00\n",
      "78527.14    0.00\n",
      "78527.10    0.00\n",
      "78526.86    0.00\n",
      "149999.96   0.00\n",
      "Name: is_fraud, Length: 1854147, dtype: float64\n",
      "\n",
      "\n",
      "\n",
      "======================================== debt ========================================\n",
      "count   2000000.00\n",
      "mean      24984.04\n",
      "std       14440.05\n",
      "min           0.04\n",
      "25%       12465.51\n",
      "50%       24980.93\n",
      "75%       37480.29\n",
      "max       49999.98\n",
      "Name: debt, dtype: float64\n"
     ]
    },
    {
     "data": {
      "image/png": "[encoded data removed]",
      "text/plain": [
       "<Figure size 600x400 with 1 Axes>"
      ]
     },
     "metadata": {},
     "output_type": "display_data"
    },
    {
     "data": {
      "image/png": "[encoded data removed]",
      "text/plain": [
       "<Figure size 600x400 with 1 Axes>"
      ]
     },
     "metadata": {},
     "output_type": "display_data"
    },
    {
     "name": "stdout",
     "output_type": "stream",
     "text": [
      "debt\n",
      "0.04       1.00\n",
      "27037.06   1.00\n",
      "27035.79   1.00\n",
      "27035.85   1.00\n",
      "27035.95   1.00\n",
      "           ... \n",
      "29405.54   0.00\n",
      "9258.58    0.00\n",
      "29405.75   0.00\n",
      "29405.77   0.00\n",
      "24984.14   0.00\n",
      "Name: is_fraud, Length: 1649272, dtype: float64\n",
      "\n",
      "\n",
      "\n",
      "======================================== credit_score ========================================\n",
      "count   2000000.00\n",
      "mean        574.79\n",
      "std         159.12\n",
      "min         300.00\n",
      "25%         437.00\n",
      "50%         575.00\n",
      "75%         713.00\n",
      "max         850.00\n",
      "Name: credit_score, dtype: float64\n"
     ]
    },
    {
     "data": {
      "image/png": "[encoded data removed]",
      "text/plain": [
       "<Figure size 600x400 with 1 Axes>"
      ]
     },
     "metadata": {},
     "output_type": "display_data"
    },
    {
     "data": {
      "image/png": "[encoded data removed]",
      "text/plain": [
       "<Figure size 600x400 with 1 Axes>"
      ]
     },
     "metadata": {},
     "output_type": "display_data"
    },
    {
     "name": "stdout",
     "output_type": "stream",
     "text": [
      "credit_score\n",
      "518   0.53\n",
      "446   0.52\n",
      "386   0.52\n",
      "398   0.52\n",
      "755   0.52\n",
      "      ... \n",
      "822   0.48\n",
      "799   0.48\n",
      "315   0.48\n",
      "532   0.47\n",
      "704   0.47\n",
      "Name: is_fraud, Length: 551, dtype: float64\n",
      "\n",
      "\n",
      "\n"
     ]
    }
   ],
   "source": [
    "# 수치형 컬럼 분석\n",
    "\n",
    "important_cols = []\n",
    "for col in num_cols:\n",
    "    print('='*40, col, '='*40)\n",
    "    \n",
    "    # 각 수치형 컬럼의 기초 통계량 확인\n",
    "    print(data[col].describe())\n",
    "    \n",
    "    # 전체 데이터 분포 -> 히스토그램 확인\n",
    "    plt.figure(figsize=(6,4))\n",
    "    sns.histplot(data[col], kde=True)\n",
    "    plt.show()\n",
    "    \n",
    "    # is_fraud 그룹별 분포 -> 박스 플롯 확인\n",
    "    plt.figure(figsize=(6,4))\n",
    "    sns.boxplot(x='is_fraud', y=col, data=data)\n",
    "    plt.show()\n",
    "    \n",
    "    # 그룹별 평균값 확인\n",
    "    print(data.groupby(col)['is_fraud'].mean().sort_values(ascending=False))\n",
    "    result = data.groupby(col)['is_fraud'].mean().sort_values(ascending=False)\n",
    "    if result[result >= 0.4] == True:\n",
    "        \n",
    "    print('\\n\\n')\n",
    "\n"
   ]
  },
  {
   "cell_type": "code",
   "execution_count": 13,
   "id": "f444aa47",
   "metadata": {
    "scrolled": true
   },
   "outputs": [
    {
     "name": "stdout",
     "output_type": "stream",
     "text": [
      "======================================== location ========================================\n",
      "\n",
      "location의 unique값의 수 = 104592\n",
      "\n",
      "location의 상대적 빈도 확인_value_counts 기반\n",
      "location\n",
      "East Michael         0.00\n",
      "Lake Michael         0.00\n",
      "New Michael          0.00\n",
      "Port Michael         0.00\n",
      "West Michael         0.00\n",
      "                     ... \n",
      "South Jaymouth       0.00\n",
      "North Beckytown      0.00\n",
      "New Caitlinshire     0.00\n",
      "North Beckyborough   0.00\n",
      "Port Miguelport      0.00\n",
      "Name: proportion, Length: 104592, dtype: float64\n",
      "\n",
      "location의 사기율 확인\n",
      "location\n",
      "New Sethport          1.00\n",
      "South Isaacburgh      1.00\n",
      "North Tannerchester   1.00\n",
      "South Ianview         1.00\n",
      "North Tannerburgh     1.00\n",
      "                      ... \n",
      "Lake Beverlyhaven     0.00\n",
      "Port Tanyaburgh       0.00\n",
      "Lake Bettytown        0.00\n",
      "Port Tannerport       0.00\n",
      "Port Harryberg        0.00\n",
      "Name: is_fraud, Length: 104592, dtype: float64\n",
      "\n",
      "======================================== device_type ========================================\n",
      "\n",
      "device_type의 unique값의 수 = 3\n",
      "\n",
      "device_type의 상대적 빈도 확인_value_counts 기반\n",
      "device_type\n",
      "Tablet    0.33\n",
      "Desktop   0.33\n",
      "Mobile    0.33\n",
      "Name: proportion, dtype: float64\n",
      "\n",
      "device_type의 사기율 확인\n",
      "device_type\n",
      "Desktop   0.50\n",
      "Tablet    0.50\n",
      "Mobile    0.50\n",
      "Name: is_fraud, dtype: float64\n"
     ]
    },
    {
     "data": {
      "image/png": "[encoded data removed]",
      "text/plain": [
       "<Figure size 600x400 with 1 Axes>"
      ]
     },
     "metadata": {},
     "output_type": "display_data"
    },
    {
     "name": "stdout",
     "output_type": "stream",
     "text": [
      "\n"
     ]
    }
   ],
   "source": [
    "# 범주형 컬럼 분석\n",
    "\n",
    "for col in obj_cols:\n",
    "    print('='*40, col, '='*40, end='\\n\\n')\n",
    "    print(f\"{col}의 unique값의 수 = {data[col].nunique()}\", end='\\n\\n')\n",
    "    \n",
    "    print(f'{col}의 상대적 빈도 확인_value_counts 기반')\n",
    "    print(data[col].value_counts(normalize=True), end='\\n\\n')\n",
    "    \n",
    "    print(f\"{col}의 사기율 확인\")\n",
    "    print(data.groupby(col)['is_fraud'].mean().sort_values(ascending=False))\n",
    "    \n",
    "    if data[col].nunique() <= 20:\n",
    "        plt.figure(figsize=(6,4))\n",
    "        sns.barplot(x=col, y='is_fraud', data=data, order=data[col].value_counts().index)\n",
    "        plt.show()\n",
    "    print()\n",
    "    \n",
    "    "
   ]
  },
  {
   "cell_type": "code",
   "execution_count": 191,
   "id": "15c3601b",
   "metadata": {},
   "outputs": [
    {
     "data": {
      "text/plain": [
       "count   2000000.00\n",
       "mean       1751.68\n",
       "std        1504.16\n",
       "min          10.00\n",
       "25%         504.34\n",
       "50%        1000.00\n",
       "75%        2996.71\n",
       "max        4999.99\n",
       "Name: amount, dtype: float64"
      ]
     },
     "execution_count": 191,
     "metadata": {},
     "output_type": "execute_result"
    }
   ],
   "source": [
    "# 종속변수와 연관성이 있다고 생각되는 컬럼 확인\n"
   ]
  },
  {
   "cell_type": "code",
   "execution_count": null,
   "id": "9c42c97b",
   "metadata": {},
   "outputs": [],
   "source": []
  },
  {
   "cell_type": "code",
   "execution_count": null,
   "id": "114830b2",
   "metadata": {},
   "outputs": [],
   "source": []
  },
  {
   "cell_type": "code",
   "execution_count": null,
   "id": "6257b65d",
   "metadata": {},
   "outputs": [],
   "source": []
  },
  {
   "cell_type": "code",
   "execution_count": null,
   "id": "b874c593",
   "metadata": {},
   "outputs": [],
   "source": []
  },
  {
   "cell_type": "code",
   "execution_count": null,
   "id": "fc50ee2f",
   "metadata": {},
   "outputs": [],
   "source": []
  },
  {
   "cell_type": "code",
   "execution_count": null,
   "id": "7d133071",
   "metadata": {},
   "outputs": [],
   "source": []
  },
  {
   "cell_type": "code",
   "execution_count": null,
   "id": "e91ae34c",
   "metadata": {},
   "outputs": [],
   "source": []
  },
  {
   "cell_type": "code",
   "execution_count": null,
   "id": "4305a7c7",
   "metadata": {},
   "outputs": [],
   "source": []
  },
  {
   "cell_type": "code",
   "execution_count": null,
   "id": "df31c0bf",
   "metadata": {},
   "outputs": [],
   "source": []
  },
  {
   "cell_type": "code",
   "execution_count": null,
   "id": "f8c73918",
   "metadata": {},
   "outputs": [],
   "source": []
  },
  {
   "cell_type": "code",
   "execution_count": null,
   "id": "af9e3370",
   "metadata": {},
   "outputs": [],
   "source": []
  },
  {
   "cell_type": "code",
   "execution_count": null,
   "id": "6f4befe5",
   "metadata": {},
   "outputs": [],
   "source": []
  },
  {
   "cell_type": "markdown",
   "id": "71a89868",
   "metadata": {},
   "source": [
    "## 피처 엔지니어링(Feature Engineering)\n",
    "- amount : 종속변수(is_fraud)와 연관성이 너무 높기 때문에 과도하게 의존할 가능성이 있어 log 처리하여 컬럼 재생성\n",
    "    - amount에 구간화 처리해서 모델 적용하니 정확도가 1이 나와서 log 변환으로 적용 -> 높은 연관성 차지\n",
    "    - 4분위 기반 구간화로 희석 진행 -> 해당 컬럼도 높은 연관성 차지\n",
    "    - `is_fraud`를 과하게 예측하게 하여 **정확도 1.0**이라는 비정상적 결과 유도\n",
    "    - 위와 같은 이유로 **amount 컬럼 제거**를 결정\n",
    "- timestamp : 독립적인 값들이 많고, category 타입으로 년도/월/일/시/분/요일로 분리하여 컬럼 재생성\n",
    "- location : 범주 개수와 희소성이 너무 높으므로 Top N으로 추출하여 유의한 것들을 기준으로 컬럼 재생성"
   ]
  },
  {
   "cell_type": "markdown",
   "id": "6e92c021",
   "metadata": {},
   "source": [
    "### timestamp 컬럼 분할 및 확인"
   ]
  },
  {
   "cell_type": "code",
   "execution_count": 127,
   "id": "059e70cc",
   "metadata": {},
   "outputs": [],
   "source": [
    "# 시간 파생변수 나누어 확인\n",
    "# 일자 및 시간 확인\n",
    "data['timestamp'] = pd.to_datetime(data['timestamp'])\n",
    "\n",
    "# 일자, 시간 요일\n",
    "data['Year'] = data['timestamp'].dt.year\n",
    "data['Month'] = data['timestamp'].dt.month\n",
    "data['Day'] = data['timestamp'].dt.day\n",
    "data['Hour'] = data['timestamp'].dt.hour\n",
    "data['Min'] = data['timestamp'].dt.minute\n",
    "data['Sec'] = data['timestamp'].dt.second\n"
   ]
  },
  {
   "cell_type": "code",
   "execution_count": 128,
   "id": "60828a74",
   "metadata": {},
   "outputs": [
    {
     "data": {
      "text/plain": [
       "Index(['timestamp', 'user_id', 'location', 'device_type', 'is_fraud', 'age',\n",
       "       'income', 'debt', 'credit_score', 'Year', 'Month', 'Day', 'Hour', 'Min',\n",
       "       'Sec'],\n",
       "      dtype='object')"
      ]
     },
     "execution_count": 128,
     "metadata": {},
     "output_type": "execute_result"
    }
   ],
   "source": [
    "data.columns"
   ]
  },
  {
   "cell_type": "code",
   "execution_count": 129,
   "id": "5cbdcee9",
   "metadata": {},
   "outputs": [],
   "source": [
    "data = data[['timestamp', 'Year', 'Month', 'Day', 'Hour','Min', 'Sec',\n",
    "      'user_id', 'location', 'device_type', 'is_fraud',\n",
    "       'age', 'income', 'debt', 'credit_score']]"
   ]
  },
  {
   "cell_type": "code",
   "execution_count": 130,
   "id": "f6156f5a",
   "metadata": {},
   "outputs": [
    {
     "data": {
      "text/html": [
       "<div>\n",
       "<style scoped>\n",
       "    .dataframe tbody tr th:only-of-type {\n",
       "        vertical-align: middle;\n",
       "    }\n",
       "\n",
       "    .dataframe tbody tr th {\n",
       "        vertical-align: top;\n",
       "    }\n",
       "\n",
       "    .dataframe thead th {\n",
       "        text-align: right;\n",
       "    }\n",
       "</style>\n",
       "<table border=\"1\" class=\"dataframe\">\n",
       "  <thead>\n",
       "    <tr style=\"text-align: right;\">\n",
       "      <th></th>\n",
       "      <th>Year</th>\n",
       "      <th>Month</th>\n",
       "      <th>Day</th>\n",
       "      <th>Hour</th>\n",
       "      <th>Min</th>\n",
       "      <th>Sec</th>\n",
       "      <th>user_id</th>\n",
       "      <th>location</th>\n",
       "      <th>device_type</th>\n",
       "      <th>is_fraud</th>\n",
       "      <th>age</th>\n",
       "      <th>income</th>\n",
       "      <th>debt</th>\n",
       "      <th>credit_score</th>\n",
       "    </tr>\n",
       "  </thead>\n",
       "  <tbody>\n",
       "    <tr>\n",
       "      <th>0</th>\n",
       "      <td>2023</td>\n",
       "      <td>12</td>\n",
       "      <td>15</td>\n",
       "      <td>2</td>\n",
       "      <td>48</td>\n",
       "      <td>24</td>\n",
       "      <td>3cbf0b8a-c799-4c0e-9782-89272ab8fa2b</td>\n",
       "      <td>Grantfurt</td>\n",
       "      <td>Mobile</td>\n",
       "      <td>0</td>\n",
       "      <td>56</td>\n",
       "      <td>42524.98</td>\n",
       "      <td>8394.05</td>\n",
       "      <td>655</td>\n",
       "    </tr>\n",
       "    <tr>\n",
       "      <th>1</th>\n",
       "      <td>2023</td>\n",
       "      <td>10</td>\n",
       "      <td>30</td>\n",
       "      <td>11</td>\n",
       "      <td>8</td>\n",
       "      <td>37</td>\n",
       "      <td>3675ed98-6863-4bae-b089-6f0db2df006b</td>\n",
       "      <td>Kimberlychester</td>\n",
       "      <td>Tablet</td>\n",
       "      <td>0</td>\n",
       "      <td>52</td>\n",
       "      <td>69884.04</td>\n",
       "      <td>28434.06</td>\n",
       "      <td>395</td>\n",
       "    </tr>\n",
       "    <tr>\n",
       "      <th>2</th>\n",
       "      <td>2023</td>\n",
       "      <td>11</td>\n",
       "      <td>21</td>\n",
       "      <td>5</td>\n",
       "      <td>19</td>\n",
       "      <td>35</td>\n",
       "      <td>4be1043f-20ee-4ac5-a689-b25c6a1de50c</td>\n",
       "      <td>Gutierrezville</td>\n",
       "      <td>Desktop</td>\n",
       "      <td>0</td>\n",
       "      <td>58</td>\n",
       "      <td>126953.62</td>\n",
       "      <td>39121.78</td>\n",
       "      <td>496</td>\n",
       "    </tr>\n",
       "    <tr>\n",
       "      <th>3</th>\n",
       "      <td>2023</td>\n",
       "      <td>11</td>\n",
       "      <td>7</td>\n",
       "      <td>0</td>\n",
       "      <td>3</td>\n",
       "      <td>25</td>\n",
       "      <td>cad0b3c9-099f-479b-8043-6d5ecb4e1467</td>\n",
       "      <td>Markside</td>\n",
       "      <td>Desktop</td>\n",
       "      <td>0</td>\n",
       "      <td>19</td>\n",
       "      <td>128650.70</td>\n",
       "      <td>39652.48</td>\n",
       "      <td>612</td>\n",
       "    </tr>\n",
       "    <tr>\n",
       "      <th>4</th>\n",
       "      <td>2023</td>\n",
       "      <td>4</td>\n",
       "      <td>2</td>\n",
       "      <td>14</td>\n",
       "      <td>12</td>\n",
       "      <td>23</td>\n",
       "      <td>b6ebea7d-ba62-41d7-b042-3978a23fef8b</td>\n",
       "      <td>Anthonyshire</td>\n",
       "      <td>Tablet</td>\n",
       "      <td>0</td>\n",
       "      <td>59</td>\n",
       "      <td>102020.39</td>\n",
       "      <td>7439.81</td>\n",
       "      <td>302</td>\n",
       "    </tr>\n",
       "  </tbody>\n",
       "</table>\n",
       "</div>"
      ],
      "text/plain": [
       "   Year  Month  Day  Hour  Min  Sec                               user_id  \\\n",
       "0  2023     12   15     2   48   24  3cbf0b8a-c799-4c0e-9782-89272ab8fa2b   \n",
       "1  2023     10   30    11    8   37  3675ed98-6863-4bae-b089-6f0db2df006b   \n",
       "2  2023     11   21     5   19   35  4be1043f-20ee-4ac5-a689-b25c6a1de50c   \n",
       "3  2023     11    7     0    3   25  cad0b3c9-099f-479b-8043-6d5ecb4e1467   \n",
       "4  2023      4    2    14   12   23  b6ebea7d-ba62-41d7-b042-3978a23fef8b   \n",
       "\n",
       "          location device_type  is_fraud  age    income     debt  credit_score  \n",
       "0        Grantfurt      Mobile         0   56  42524.98  8394.05           655  \n",
       "1  Kimberlychester      Tablet         0   52  69884.04 28434.06           395  \n",
       "2   Gutierrezville     Desktop         0   58 126953.62 39121.78           496  \n",
       "3         Markside     Desktop         0   19 128650.70 39652.48           612  \n",
       "4     Anthonyshire      Tablet         0   59 102020.39  7439.81           302  "
      ]
     },
     "execution_count": 130,
     "metadata": {},
     "output_type": "execute_result"
    }
   ],
   "source": [
    "# 재생성된 컬럼들이 존재하므로 timestamp 컬럼은 제외하고 데이터셋 설정\n",
    "data = data.drop('timestamp', axis=1)\n",
    "data.head()"
   ]
  },
  {
   "cell_type": "markdown",
   "id": "33e75322",
   "metadata": {},
   "source": [
    "### location 컬럼 재설정"
   ]
  },
  {
   "cell_type": "code",
   "execution_count": 131,
   "id": "ad46ca3c",
   "metadata": {},
   "outputs": [
    {
     "name": "stdout",
     "output_type": "stream",
     "text": [
      "location\n",
      "East Michael          1713\n",
      "Lake Michael          1702\n",
      "New Michael           1626\n",
      "Port Michael          1624\n",
      "West Michael          1604\n",
      "                      ... \n",
      "South Jaymouth           1\n",
      "North Beckytown          1\n",
      "New Caitlinshire         1\n",
      "North Beckyborough       1\n",
      "Port Miguelport          1\n",
      "Name: count, Length: 104592, dtype: int64\n"
     ]
    }
   ],
   "source": [
    "# location의 데이터를 구분\n",
    "loc_value = data['location'].value_counts()\n",
    "print(loc_value)"
   ]
  },
  {
   "cell_type": "code",
   "execution_count": 132,
   "id": "324491fa",
   "metadata": {},
   "outputs": [
    {
     "data": {
      "text/plain": [
       "39"
      ]
     },
     "execution_count": 132,
     "metadata": {},
     "output_type": "execute_result"
    }
   ],
   "source": [
    "# 갯수가 1000개 이상인 경우 유효할 수 있을 것이라고 생각\n",
    "len(loc_value[loc_value >= 1000])"
   ]
  },
  {
   "cell_type": "code",
   "execution_count": 133,
   "id": "a6f1b28e",
   "metadata": {},
   "outputs": [
    {
     "data": {
      "text/plain": [
       "40"
      ]
     },
     "execution_count": 133,
     "metadata": {},
     "output_type": "execute_result"
    }
   ],
   "source": [
    "# location 컬럼 데이터 변환\n",
    "loc_value = data['location'].value_counts()\n",
    "\n",
    "# 조건에 맞으면 변환\n",
    "data['location'] = data['location'].apply(lambda x:x if loc_value[x] >= 1000 else 'Others')\n",
    "data['location'].nunique()"
   ]
  },
  {
   "cell_type": "code",
   "execution_count": 134,
   "id": "f53ee35d",
   "metadata": {},
   "outputs": [
    {
     "data": {
      "text/plain": [
       "<Axes: >"
      ]
     },
     "execution_count": 134,
     "metadata": {},
     "output_type": "execute_result"
    },
    {
     "data": {
      "image/png": "[encoded data removed]",
      "text/plain": [
       "<Figure size 640x480 with 2 Axes>"
      ]
     },
     "metadata": {},
     "output_type": "display_data"
    }
   ],
   "source": [
    "# 피처 엔지니얼링인 완료된 후 컬럼 간의 연관성 확인\n",
    "# 시간 파생 변수이므로 0.65 정도의 약간 강한 음의 상관은 괜찮음\n",
    "data_num = data.select_dtypes(exclude=['object', 'category'])\n",
    "sns.heatmap(data_num.corr(), annot=True, linewidth=1)"
   ]
  },
  {
   "cell_type": "code",
   "execution_count": 135,
   "id": "e8d52995",
   "metadata": {},
   "outputs": [
    {
     "name": "stdout",
     "output_type": "stream",
     "text": [
      "<class 'pandas.core.frame.DataFrame'>\n",
      "RangeIndex: 2000000 entries, 0 to 1999999\n",
      "Data columns (total 14 columns):\n",
      " #   Column        Dtype  \n",
      "---  ------        -----  \n",
      " 0   Year          int32  \n",
      " 1   Month         int32  \n",
      " 2   Day           int32  \n",
      " 3   Hour          int32  \n",
      " 4   Min           int32  \n",
      " 5   Sec           int32  \n",
      " 6   user_id       object \n",
      " 7   location      object \n",
      " 8   device_type   object \n",
      " 9   is_fraud      int64  \n",
      " 10  age           int64  \n",
      " 11  income        float64\n",
      " 12  debt          float64\n",
      " 13  credit_score  int64  \n",
      "dtypes: float64(2), int32(6), int64(3), object(3)\n",
      "memory usage: 167.8+ MB\n"
     ]
    }
   ],
   "source": [
    "data.info()"
   ]
  },
  {
   "cell_type": "code",
   "execution_count": 136,
   "id": "50ca5701",
   "metadata": {},
   "outputs": [],
   "source": [
    "# 원핫인코딩 적용\n",
    "data = data.drop('user_id', axis=1)\n",
    "final_data = pd.get_dummies(data, drop_first=True)"
   ]
  },
  {
   "cell_type": "code",
   "execution_count": 137,
   "id": "3f5295e1",
   "metadata": {},
   "outputs": [
    {
     "name": "stdout",
     "output_type": "stream",
     "text": [
      "(2000000, 52)\n"
     ]
    },
    {
     "data": {
      "text/html": [
       "<div>\n",
       "<style scoped>\n",
       "    .dataframe tbody tr th:only-of-type {\n",
       "        vertical-align: middle;\n",
       "    }\n",
       "\n",
       "    .dataframe tbody tr th {\n",
       "        vertical-align: top;\n",
       "    }\n",
       "\n",
       "    .dataframe thead th {\n",
       "        text-align: right;\n",
       "    }\n",
       "</style>\n",
       "<table border=\"1\" class=\"dataframe\">\n",
       "  <thead>\n",
       "    <tr style=\"text-align: right;\">\n",
       "      <th></th>\n",
       "      <th>Year</th>\n",
       "      <th>Month</th>\n",
       "      <th>Day</th>\n",
       "      <th>Hour</th>\n",
       "      <th>Min</th>\n",
       "      <th>Sec</th>\n",
       "      <th>is_fraud</th>\n",
       "      <th>age</th>\n",
       "      <th>income</th>\n",
       "      <th>debt</th>\n",
       "      <th>credit_score</th>\n",
       "      <th>location_East James</th>\n",
       "      <th>location_East Jennifer</th>\n",
       "      <th>location_East John</th>\n",
       "      <th>location_East Michael</th>\n",
       "      <th>location_Lake David</th>\n",
       "      <th>location_Lake James</th>\n",
       "      <th>location_Lake Jennifer</th>\n",
       "      <th>location_Lake John</th>\n",
       "      <th>location_Lake Michael</th>\n",
       "      <th>location_Michaelmouth</th>\n",
       "      <th>location_New David</th>\n",
       "      <th>location_New James</th>\n",
       "      <th>location_New Jennifer</th>\n",
       "      <th>location_New John</th>\n",
       "      <th>location_New Michael</th>\n",
       "      <th>location_North Christopher</th>\n",
       "      <th>location_North David</th>\n",
       "      <th>location_North James</th>\n",
       "      <th>location_North John</th>\n",
       "      <th>location_North Michael</th>\n",
       "      <th>location_Others</th>\n",
       "      <th>location_Port David</th>\n",
       "      <th>location_Port James</th>\n",
       "      <th>location_Port Jennifer</th>\n",
       "      <th>location_Port John</th>\n",
       "      <th>location_Port Michael</th>\n",
       "      <th>location_Smithmouth</th>\n",
       "      <th>location_South Christopher</th>\n",
       "      <th>location_South David</th>\n",
       "      <th>location_South James</th>\n",
       "      <th>location_South Jennifer</th>\n",
       "      <th>location_South John</th>\n",
       "      <th>location_South Michael</th>\n",
       "      <th>location_West Christopher</th>\n",
       "      <th>location_West David</th>\n",
       "      <th>location_West James</th>\n",
       "      <th>location_West Jennifer</th>\n",
       "      <th>location_West John</th>\n",
       "      <th>location_West Michael</th>\n",
       "      <th>device_type_Mobile</th>\n",
       "      <th>device_type_Tablet</th>\n",
       "    </tr>\n",
       "  </thead>\n",
       "  <tbody>\n",
       "    <tr>\n",
       "      <th>0</th>\n",
       "      <td>2023</td>\n",
       "      <td>12</td>\n",
       "      <td>15</td>\n",
       "      <td>2</td>\n",
       "      <td>48</td>\n",
       "      <td>24</td>\n",
       "      <td>0</td>\n",
       "      <td>56</td>\n",
       "      <td>42524.98</td>\n",
       "      <td>8394.05</td>\n",
       "      <td>655</td>\n",
       "      <td>False</td>\n",
       "      <td>False</td>\n",
       "      <td>False</td>\n",
       "      <td>False</td>\n",
       "      <td>False</td>\n",
       "      <td>False</td>\n",
       "      <td>False</td>\n",
       "      <td>False</td>\n",
       "      <td>False</td>\n",
       "      <td>False</td>\n",
       "      <td>False</td>\n",
       "      <td>False</td>\n",
       "      <td>False</td>\n",
       "      <td>False</td>\n",
       "      <td>False</td>\n",
       "      <td>False</td>\n",
       "      <td>False</td>\n",
       "      <td>False</td>\n",
       "      <td>False</td>\n",
       "      <td>False</td>\n",
       "      <td>True</td>\n",
       "      <td>False</td>\n",
       "      <td>False</td>\n",
       "      <td>False</td>\n",
       "      <td>False</td>\n",
       "      <td>False</td>\n",
       "      <td>False</td>\n",
       "      <td>False</td>\n",
       "      <td>False</td>\n",
       "      <td>False</td>\n",
       "      <td>False</td>\n",
       "      <td>False</td>\n",
       "      <td>False</td>\n",
       "      <td>False</td>\n",
       "      <td>False</td>\n",
       "      <td>False</td>\n",
       "      <td>False</td>\n",
       "      <td>False</td>\n",
       "      <td>False</td>\n",
       "      <td>True</td>\n",
       "      <td>False</td>\n",
       "    </tr>\n",
       "    <tr>\n",
       "      <th>1</th>\n",
       "      <td>2023</td>\n",
       "      <td>10</td>\n",
       "      <td>30</td>\n",
       "      <td>11</td>\n",
       "      <td>8</td>\n",
       "      <td>37</td>\n",
       "      <td>0</td>\n",
       "      <td>52</td>\n",
       "      <td>69884.04</td>\n",
       "      <td>28434.06</td>\n",
       "      <td>395</td>\n",
       "      <td>False</td>\n",
       "      <td>False</td>\n",
       "      <td>False</td>\n",
       "      <td>False</td>\n",
       "      <td>False</td>\n",
       "      <td>False</td>\n",
       "      <td>False</td>\n",
       "      <td>False</td>\n",
       "      <td>False</td>\n",
       "      <td>False</td>\n",
       "      <td>False</td>\n",
       "      <td>False</td>\n",
       "      <td>False</td>\n",
       "      <td>False</td>\n",
       "      <td>False</td>\n",
       "      <td>False</td>\n",
       "      <td>False</td>\n",
       "      <td>False</td>\n",
       "      <td>False</td>\n",
       "      <td>False</td>\n",
       "      <td>True</td>\n",
       "      <td>False</td>\n",
       "      <td>False</td>\n",
       "      <td>False</td>\n",
       "      <td>False</td>\n",
       "      <td>False</td>\n",
       "      <td>False</td>\n",
       "      <td>False</td>\n",
       "      <td>False</td>\n",
       "      <td>False</td>\n",
       "      <td>False</td>\n",
       "      <td>False</td>\n",
       "      <td>False</td>\n",
       "      <td>False</td>\n",
       "      <td>False</td>\n",
       "      <td>False</td>\n",
       "      <td>False</td>\n",
       "      <td>False</td>\n",
       "      <td>False</td>\n",
       "      <td>False</td>\n",
       "      <td>True</td>\n",
       "    </tr>\n",
       "    <tr>\n",
       "      <th>2</th>\n",
       "      <td>2023</td>\n",
       "      <td>11</td>\n",
       "      <td>21</td>\n",
       "      <td>5</td>\n",
       "      <td>19</td>\n",
       "      <td>35</td>\n",
       "      <td>0</td>\n",
       "      <td>58</td>\n",
       "      <td>126953.62</td>\n",
       "      <td>39121.78</td>\n",
       "      <td>496</td>\n",
       "      <td>False</td>\n",
       "      <td>False</td>\n",
       "      <td>False</td>\n",
       "      <td>False</td>\n",
       "      <td>False</td>\n",
       "      <td>False</td>\n",
       "      <td>False</td>\n",
       "      <td>False</td>\n",
       "      <td>False</td>\n",
       "      <td>False</td>\n",
       "      <td>False</td>\n",
       "      <td>False</td>\n",
       "      <td>False</td>\n",
       "      <td>False</td>\n",
       "      <td>False</td>\n",
       "      <td>False</td>\n",
       "      <td>False</td>\n",
       "      <td>False</td>\n",
       "      <td>False</td>\n",
       "      <td>False</td>\n",
       "      <td>True</td>\n",
       "      <td>False</td>\n",
       "      <td>False</td>\n",
       "      <td>False</td>\n",
       "      <td>False</td>\n",
       "      <td>False</td>\n",
       "      <td>False</td>\n",
       "      <td>False</td>\n",
       "      <td>False</td>\n",
       "      <td>False</td>\n",
       "      <td>False</td>\n",
       "      <td>False</td>\n",
       "      <td>False</td>\n",
       "      <td>False</td>\n",
       "      <td>False</td>\n",
       "      <td>False</td>\n",
       "      <td>False</td>\n",
       "      <td>False</td>\n",
       "      <td>False</td>\n",
       "      <td>False</td>\n",
       "      <td>False</td>\n",
       "    </tr>\n",
       "    <tr>\n",
       "      <th>3</th>\n",
       "      <td>2023</td>\n",
       "      <td>11</td>\n",
       "      <td>7</td>\n",
       "      <td>0</td>\n",
       "      <td>3</td>\n",
       "      <td>25</td>\n",
       "      <td>0</td>\n",
       "      <td>19</td>\n",
       "      <td>128650.70</td>\n",
       "      <td>39652.48</td>\n",
       "      <td>612</td>\n",
       "      <td>False</td>\n",
       "      <td>False</td>\n",
       "      <td>False</td>\n",
       "      <td>False</td>\n",
       "      <td>False</td>\n",
       "      <td>False</td>\n",
       "      <td>False</td>\n",
       "      <td>False</td>\n",
       "      <td>False</td>\n",
       "      <td>False</td>\n",
       "      <td>False</td>\n",
       "      <td>False</td>\n",
       "      <td>False</td>\n",
       "      <td>False</td>\n",
       "      <td>False</td>\n",
       "      <td>False</td>\n",
       "      <td>False</td>\n",
       "      <td>False</td>\n",
       "      <td>False</td>\n",
       "      <td>False</td>\n",
       "      <td>True</td>\n",
       "      <td>False</td>\n",
       "      <td>False</td>\n",
       "      <td>False</td>\n",
       "      <td>False</td>\n",
       "      <td>False</td>\n",
       "      <td>False</td>\n",
       "      <td>False</td>\n",
       "      <td>False</td>\n",
       "      <td>False</td>\n",
       "      <td>False</td>\n",
       "      <td>False</td>\n",
       "      <td>False</td>\n",
       "      <td>False</td>\n",
       "      <td>False</td>\n",
       "      <td>False</td>\n",
       "      <td>False</td>\n",
       "      <td>False</td>\n",
       "      <td>False</td>\n",
       "      <td>False</td>\n",
       "      <td>False</td>\n",
       "    </tr>\n",
       "    <tr>\n",
       "      <th>4</th>\n",
       "      <td>2023</td>\n",
       "      <td>4</td>\n",
       "      <td>2</td>\n",
       "      <td>14</td>\n",
       "      <td>12</td>\n",
       "      <td>23</td>\n",
       "      <td>0</td>\n",
       "      <td>59</td>\n",
       "      <td>102020.39</td>\n",
       "      <td>7439.81</td>\n",
       "      <td>302</td>\n",
       "      <td>False</td>\n",
       "      <td>False</td>\n",
       "      <td>False</td>\n",
       "      <td>False</td>\n",
       "      <td>False</td>\n",
       "      <td>False</td>\n",
       "      <td>False</td>\n",
       "      <td>False</td>\n",
       "      <td>False</td>\n",
       "      <td>False</td>\n",
       "      <td>False</td>\n",
       "      <td>False</td>\n",
       "      <td>False</td>\n",
       "      <td>False</td>\n",
       "      <td>False</td>\n",
       "      <td>False</td>\n",
       "      <td>False</td>\n",
       "      <td>False</td>\n",
       "      <td>False</td>\n",
       "      <td>False</td>\n",
       "      <td>True</td>\n",
       "      <td>False</td>\n",
       "      <td>False</td>\n",
       "      <td>False</td>\n",
       "      <td>False</td>\n",
       "      <td>False</td>\n",
       "      <td>False</td>\n",
       "      <td>False</td>\n",
       "      <td>False</td>\n",
       "      <td>False</td>\n",
       "      <td>False</td>\n",
       "      <td>False</td>\n",
       "      <td>False</td>\n",
       "      <td>False</td>\n",
       "      <td>False</td>\n",
       "      <td>False</td>\n",
       "      <td>False</td>\n",
       "      <td>False</td>\n",
       "      <td>False</td>\n",
       "      <td>False</td>\n",
       "      <td>True</td>\n",
       "    </tr>\n",
       "    <tr>\n",
       "      <th>...</th>\n",
       "      <td>...</td>\n",
       "      <td>...</td>\n",
       "      <td>...</td>\n",
       "      <td>...</td>\n",
       "      <td>...</td>\n",
       "      <td>...</td>\n",
       "      <td>...</td>\n",
       "      <td>...</td>\n",
       "      <td>...</td>\n",
       "      <td>...</td>\n",
       "      <td>...</td>\n",
       "      <td>...</td>\n",
       "      <td>...</td>\n",
       "      <td>...</td>\n",
       "      <td>...</td>\n",
       "      <td>...</td>\n",
       "      <td>...</td>\n",
       "      <td>...</td>\n",
       "      <td>...</td>\n",
       "      <td>...</td>\n",
       "      <td>...</td>\n",
       "      <td>...</td>\n",
       "      <td>...</td>\n",
       "      <td>...</td>\n",
       "      <td>...</td>\n",
       "      <td>...</td>\n",
       "      <td>...</td>\n",
       "      <td>...</td>\n",
       "      <td>...</td>\n",
       "      <td>...</td>\n",
       "      <td>...</td>\n",
       "      <td>...</td>\n",
       "      <td>...</td>\n",
       "      <td>...</td>\n",
       "      <td>...</td>\n",
       "      <td>...</td>\n",
       "      <td>...</td>\n",
       "      <td>...</td>\n",
       "      <td>...</td>\n",
       "      <td>...</td>\n",
       "      <td>...</td>\n",
       "      <td>...</td>\n",
       "      <td>...</td>\n",
       "      <td>...</td>\n",
       "      <td>...</td>\n",
       "      <td>...</td>\n",
       "      <td>...</td>\n",
       "      <td>...</td>\n",
       "      <td>...</td>\n",
       "      <td>...</td>\n",
       "      <td>...</td>\n",
       "      <td>...</td>\n",
       "    </tr>\n",
       "    <tr>\n",
       "      <th>1999995</th>\n",
       "      <td>2023</td>\n",
       "      <td>8</td>\n",
       "      <td>10</td>\n",
       "      <td>9</td>\n",
       "      <td>45</td>\n",
       "      <td>49</td>\n",
       "      <td>1</td>\n",
       "      <td>20</td>\n",
       "      <td>127482.32</td>\n",
       "      <td>6161.07</td>\n",
       "      <td>796</td>\n",
       "      <td>False</td>\n",
       "      <td>False</td>\n",
       "      <td>False</td>\n",
       "      <td>False</td>\n",
       "      <td>False</td>\n",
       "      <td>False</td>\n",
       "      <td>False</td>\n",
       "      <td>False</td>\n",
       "      <td>False</td>\n",
       "      <td>False</td>\n",
       "      <td>False</td>\n",
       "      <td>False</td>\n",
       "      <td>False</td>\n",
       "      <td>False</td>\n",
       "      <td>False</td>\n",
       "      <td>False</td>\n",
       "      <td>False</td>\n",
       "      <td>False</td>\n",
       "      <td>False</td>\n",
       "      <td>False</td>\n",
       "      <td>True</td>\n",
       "      <td>False</td>\n",
       "      <td>False</td>\n",
       "      <td>False</td>\n",
       "      <td>False</td>\n",
       "      <td>False</td>\n",
       "      <td>False</td>\n",
       "      <td>False</td>\n",
       "      <td>False</td>\n",
       "      <td>False</td>\n",
       "      <td>False</td>\n",
       "      <td>False</td>\n",
       "      <td>False</td>\n",
       "      <td>False</td>\n",
       "      <td>False</td>\n",
       "      <td>False</td>\n",
       "      <td>False</td>\n",
       "      <td>False</td>\n",
       "      <td>False</td>\n",
       "      <td>False</td>\n",
       "      <td>False</td>\n",
       "    </tr>\n",
       "    <tr>\n",
       "      <th>1999996</th>\n",
       "      <td>2023</td>\n",
       "      <td>10</td>\n",
       "      <td>17</td>\n",
       "      <td>0</td>\n",
       "      <td>32</td>\n",
       "      <td>20</td>\n",
       "      <td>1</td>\n",
       "      <td>22</td>\n",
       "      <td>94866.98</td>\n",
       "      <td>21614.64</td>\n",
       "      <td>660</td>\n",
       "      <td>False</td>\n",
       "      <td>False</td>\n",
       "      <td>False</td>\n",
       "      <td>False</td>\n",
       "      <td>False</td>\n",
       "      <td>False</td>\n",
       "      <td>False</td>\n",
       "      <td>False</td>\n",
       "      <td>False</td>\n",
       "      <td>False</td>\n",
       "      <td>False</td>\n",
       "      <td>False</td>\n",
       "      <td>False</td>\n",
       "      <td>False</td>\n",
       "      <td>False</td>\n",
       "      <td>False</td>\n",
       "      <td>False</td>\n",
       "      <td>False</td>\n",
       "      <td>False</td>\n",
       "      <td>False</td>\n",
       "      <td>True</td>\n",
       "      <td>False</td>\n",
       "      <td>False</td>\n",
       "      <td>False</td>\n",
       "      <td>False</td>\n",
       "      <td>False</td>\n",
       "      <td>False</td>\n",
       "      <td>False</td>\n",
       "      <td>False</td>\n",
       "      <td>False</td>\n",
       "      <td>False</td>\n",
       "      <td>False</td>\n",
       "      <td>False</td>\n",
       "      <td>False</td>\n",
       "      <td>False</td>\n",
       "      <td>False</td>\n",
       "      <td>False</td>\n",
       "      <td>False</td>\n",
       "      <td>False</td>\n",
       "      <td>True</td>\n",
       "      <td>False</td>\n",
       "    </tr>\n",
       "    <tr>\n",
       "      <th>1999997</th>\n",
       "      <td>2023</td>\n",
       "      <td>5</td>\n",
       "      <td>19</td>\n",
       "      <td>13</td>\n",
       "      <td>17</td>\n",
       "      <td>44</td>\n",
       "      <td>1</td>\n",
       "      <td>51</td>\n",
       "      <td>137229.33</td>\n",
       "      <td>5654.83</td>\n",
       "      <td>432</td>\n",
       "      <td>False</td>\n",
       "      <td>False</td>\n",
       "      <td>False</td>\n",
       "      <td>False</td>\n",
       "      <td>False</td>\n",
       "      <td>False</td>\n",
       "      <td>False</td>\n",
       "      <td>False</td>\n",
       "      <td>False</td>\n",
       "      <td>False</td>\n",
       "      <td>False</td>\n",
       "      <td>False</td>\n",
       "      <td>False</td>\n",
       "      <td>False</td>\n",
       "      <td>False</td>\n",
       "      <td>False</td>\n",
       "      <td>False</td>\n",
       "      <td>False</td>\n",
       "      <td>False</td>\n",
       "      <td>False</td>\n",
       "      <td>True</td>\n",
       "      <td>False</td>\n",
       "      <td>False</td>\n",
       "      <td>False</td>\n",
       "      <td>False</td>\n",
       "      <td>False</td>\n",
       "      <td>False</td>\n",
       "      <td>False</td>\n",
       "      <td>False</td>\n",
       "      <td>False</td>\n",
       "      <td>False</td>\n",
       "      <td>False</td>\n",
       "      <td>False</td>\n",
       "      <td>False</td>\n",
       "      <td>False</td>\n",
       "      <td>False</td>\n",
       "      <td>False</td>\n",
       "      <td>False</td>\n",
       "      <td>False</td>\n",
       "      <td>True</td>\n",
       "      <td>False</td>\n",
       "    </tr>\n",
       "    <tr>\n",
       "      <th>1999998</th>\n",
       "      <td>2023</td>\n",
       "      <td>10</td>\n",
       "      <td>22</td>\n",
       "      <td>14</td>\n",
       "      <td>7</td>\n",
       "      <td>19</td>\n",
       "      <td>1</td>\n",
       "      <td>45</td>\n",
       "      <td>129794.90</td>\n",
       "      <td>34964.36</td>\n",
       "      <td>317</td>\n",
       "      <td>False</td>\n",
       "      <td>False</td>\n",
       "      <td>False</td>\n",
       "      <td>False</td>\n",
       "      <td>False</td>\n",
       "      <td>False</td>\n",
       "      <td>False</td>\n",
       "      <td>False</td>\n",
       "      <td>False</td>\n",
       "      <td>False</td>\n",
       "      <td>False</td>\n",
       "      <td>False</td>\n",
       "      <td>False</td>\n",
       "      <td>False</td>\n",
       "      <td>False</td>\n",
       "      <td>False</td>\n",
       "      <td>False</td>\n",
       "      <td>False</td>\n",
       "      <td>False</td>\n",
       "      <td>False</td>\n",
       "      <td>True</td>\n",
       "      <td>False</td>\n",
       "      <td>False</td>\n",
       "      <td>False</td>\n",
       "      <td>False</td>\n",
       "      <td>False</td>\n",
       "      <td>False</td>\n",
       "      <td>False</td>\n",
       "      <td>False</td>\n",
       "      <td>False</td>\n",
       "      <td>False</td>\n",
       "      <td>False</td>\n",
       "      <td>False</td>\n",
       "      <td>False</td>\n",
       "      <td>False</td>\n",
       "      <td>False</td>\n",
       "      <td>False</td>\n",
       "      <td>False</td>\n",
       "      <td>False</td>\n",
       "      <td>False</td>\n",
       "      <td>False</td>\n",
       "    </tr>\n",
       "    <tr>\n",
       "      <th>1999999</th>\n",
       "      <td>2024</td>\n",
       "      <td>2</td>\n",
       "      <td>16</td>\n",
       "      <td>2</td>\n",
       "      <td>50</td>\n",
       "      <td>25</td>\n",
       "      <td>1</td>\n",
       "      <td>49</td>\n",
       "      <td>81110.21</td>\n",
       "      <td>44744.80</td>\n",
       "      <td>312</td>\n",
       "      <td>False</td>\n",
       "      <td>False</td>\n",
       "      <td>False</td>\n",
       "      <td>False</td>\n",
       "      <td>False</td>\n",
       "      <td>False</td>\n",
       "      <td>False</td>\n",
       "      <td>False</td>\n",
       "      <td>False</td>\n",
       "      <td>False</td>\n",
       "      <td>False</td>\n",
       "      <td>False</td>\n",
       "      <td>False</td>\n",
       "      <td>False</td>\n",
       "      <td>False</td>\n",
       "      <td>False</td>\n",
       "      <td>False</td>\n",
       "      <td>False</td>\n",
       "      <td>False</td>\n",
       "      <td>False</td>\n",
       "      <td>True</td>\n",
       "      <td>False</td>\n",
       "      <td>False</td>\n",
       "      <td>False</td>\n",
       "      <td>False</td>\n",
       "      <td>False</td>\n",
       "      <td>False</td>\n",
       "      <td>False</td>\n",
       "      <td>False</td>\n",
       "      <td>False</td>\n",
       "      <td>False</td>\n",
       "      <td>False</td>\n",
       "      <td>False</td>\n",
       "      <td>False</td>\n",
       "      <td>False</td>\n",
       "      <td>False</td>\n",
       "      <td>False</td>\n",
       "      <td>False</td>\n",
       "      <td>False</td>\n",
       "      <td>False</td>\n",
       "      <td>False</td>\n",
       "    </tr>\n",
       "  </tbody>\n",
       "</table>\n",
       "<p>2000000 rows × 52 columns</p>\n",
       "</div>"
      ],
      "text/plain": [
       "         Year  Month  Day  Hour  Min  Sec  is_fraud  age    income     debt  \\\n",
       "0        2023     12   15     2   48   24         0   56  42524.98  8394.05   \n",
       "1        2023     10   30    11    8   37         0   52  69884.04 28434.06   \n",
       "2        2023     11   21     5   19   35         0   58 126953.62 39121.78   \n",
       "3        2023     11    7     0    3   25         0   19 128650.70 39652.48   \n",
       "4        2023      4    2    14   12   23         0   59 102020.39  7439.81   \n",
       "...       ...    ...  ...   ...  ...  ...       ...  ...       ...      ...   \n",
       "1999995  2023      8   10     9   45   49         1   20 127482.32  6161.07   \n",
       "1999996  2023     10   17     0   32   20         1   22  94866.98 21614.64   \n",
       "1999997  2023      5   19    13   17   44         1   51 137229.33  5654.83   \n",
       "1999998  2023     10   22    14    7   19         1   45 129794.90 34964.36   \n",
       "1999999  2024      2   16     2   50   25         1   49  81110.21 44744.80   \n",
       "\n",
       "         credit_score  location_East James  location_East Jennifer  \\\n",
       "0                 655                False                   False   \n",
       "1                 395                False                   False   \n",
       "2                 496                False                   False   \n",
       "3                 612                False                   False   \n",
       "4                 302                False                   False   \n",
       "...               ...                  ...                     ...   \n",
       "1999995           796                False                   False   \n",
       "1999996           660                False                   False   \n",
       "1999997           432                False                   False   \n",
       "1999998           317                False                   False   \n",
       "1999999           312                False                   False   \n",
       "\n",
       "         location_East John  location_East Michael  location_Lake David  \\\n",
       "0                     False                  False                False   \n",
       "1                     False                  False                False   \n",
       "2                     False                  False                False   \n",
       "3                     False                  False                False   \n",
       "4                     False                  False                False   \n",
       "...                     ...                    ...                  ...   \n",
       "1999995               False                  False                False   \n",
       "1999996               False                  False                False   \n",
       "1999997               False                  False                False   \n",
       "1999998               False                  False                False   \n",
       "1999999               False                  False                False   \n",
       "\n",
       "         location_Lake James  location_Lake Jennifer  location_Lake John  \\\n",
       "0                      False                   False               False   \n",
       "1                      False                   False               False   \n",
       "2                      False                   False               False   \n",
       "3                      False                   False               False   \n",
       "4                      False                   False               False   \n",
       "...                      ...                     ...                 ...   \n",
       "1999995                False                   False               False   \n",
       "1999996                False                   False               False   \n",
       "1999997                False                   False               False   \n",
       "1999998                False                   False               False   \n",
       "1999999                False                   False               False   \n",
       "\n",
       "         location_Lake Michael  location_Michaelmouth  location_New David  \\\n",
       "0                        False                  False               False   \n",
       "1                        False                  False               False   \n",
       "2                        False                  False               False   \n",
       "3                        False                  False               False   \n",
       "4                        False                  False               False   \n",
       "...                        ...                    ...                 ...   \n",
       "1999995                  False                  False               False   \n",
       "1999996                  False                  False               False   \n",
       "1999997                  False                  False               False   \n",
       "1999998                  False                  False               False   \n",
       "1999999                  False                  False               False   \n",
       "\n",
       "         location_New James  location_New Jennifer  location_New John  \\\n",
       "0                     False                  False              False   \n",
       "1                     False                  False              False   \n",
       "2                     False                  False              False   \n",
       "3                     False                  False              False   \n",
       "4                     False                  False              False   \n",
       "...                     ...                    ...                ...   \n",
       "1999995               False                  False              False   \n",
       "1999996               False                  False              False   \n",
       "1999997               False                  False              False   \n",
       "1999998               False                  False              False   \n",
       "1999999               False                  False              False   \n",
       "\n",
       "         location_New Michael  location_North Christopher  \\\n",
       "0                       False                       False   \n",
       "1                       False                       False   \n",
       "2                       False                       False   \n",
       "3                       False                       False   \n",
       "4                       False                       False   \n",
       "...                       ...                         ...   \n",
       "1999995                 False                       False   \n",
       "1999996                 False                       False   \n",
       "1999997                 False                       False   \n",
       "1999998                 False                       False   \n",
       "1999999                 False                       False   \n",
       "\n",
       "         location_North David  location_North James  location_North John  \\\n",
       "0                       False                 False                False   \n",
       "1                       False                 False                False   \n",
       "2                       False                 False                False   \n",
       "3                       False                 False                False   \n",
       "4                       False                 False                False   \n",
       "...                       ...                   ...                  ...   \n",
       "1999995                 False                 False                False   \n",
       "1999996                 False                 False                False   \n",
       "1999997                 False                 False                False   \n",
       "1999998                 False                 False                False   \n",
       "1999999                 False                 False                False   \n",
       "\n",
       "         location_North Michael  location_Others  location_Port David  \\\n",
       "0                         False             True                False   \n",
       "1                         False             True                False   \n",
       "2                         False             True                False   \n",
       "3                         False             True                False   \n",
       "4                         False             True                False   \n",
       "...                         ...              ...                  ...   \n",
       "1999995                   False             True                False   \n",
       "1999996                   False             True                False   \n",
       "1999997                   False             True                False   \n",
       "1999998                   False             True                False   \n",
       "1999999                   False             True                False   \n",
       "\n",
       "         location_Port James  location_Port Jennifer  location_Port John  \\\n",
       "0                      False                   False               False   \n",
       "1                      False                   False               False   \n",
       "2                      False                   False               False   \n",
       "3                      False                   False               False   \n",
       "4                      False                   False               False   \n",
       "...                      ...                     ...                 ...   \n",
       "1999995                False                   False               False   \n",
       "1999996                False                   False               False   \n",
       "1999997                False                   False               False   \n",
       "1999998                False                   False               False   \n",
       "1999999                False                   False               False   \n",
       "\n",
       "         location_Port Michael  location_Smithmouth  \\\n",
       "0                        False                False   \n",
       "1                        False                False   \n",
       "2                        False                False   \n",
       "3                        False                False   \n",
       "4                        False                False   \n",
       "...                        ...                  ...   \n",
       "1999995                  False                False   \n",
       "1999996                  False                False   \n",
       "1999997                  False                False   \n",
       "1999998                  False                False   \n",
       "1999999                  False                False   \n",
       "\n",
       "         location_South Christopher  location_South David  \\\n",
       "0                             False                 False   \n",
       "1                             False                 False   \n",
       "2                             False                 False   \n",
       "3                             False                 False   \n",
       "4                             False                 False   \n",
       "...                             ...                   ...   \n",
       "1999995                       False                 False   \n",
       "1999996                       False                 False   \n",
       "1999997                       False                 False   \n",
       "1999998                       False                 False   \n",
       "1999999                       False                 False   \n",
       "\n",
       "         location_South James  location_South Jennifer  location_South John  \\\n",
       "0                       False                    False                False   \n",
       "1                       False                    False                False   \n",
       "2                       False                    False                False   \n",
       "3                       False                    False                False   \n",
       "4                       False                    False                False   \n",
       "...                       ...                      ...                  ...   \n",
       "1999995                 False                    False                False   \n",
       "1999996                 False                    False                False   \n",
       "1999997                 False                    False                False   \n",
       "1999998                 False                    False                False   \n",
       "1999999                 False                    False                False   \n",
       "\n",
       "         location_South Michael  location_West Christopher  \\\n",
       "0                         False                      False   \n",
       "1                         False                      False   \n",
       "2                         False                      False   \n",
       "3                         False                      False   \n",
       "4                         False                      False   \n",
       "...                         ...                        ...   \n",
       "1999995                   False                      False   \n",
       "1999996                   False                      False   \n",
       "1999997                   False                      False   \n",
       "1999998                   False                      False   \n",
       "1999999                   False                      False   \n",
       "\n",
       "         location_West David  location_West James  location_West Jennifer  \\\n",
       "0                      False                False                   False   \n",
       "1                      False                False                   False   \n",
       "2                      False                False                   False   \n",
       "3                      False                False                   False   \n",
       "4                      False                False                   False   \n",
       "...                      ...                  ...                     ...   \n",
       "1999995                False                False                   False   \n",
       "1999996                False                False                   False   \n",
       "1999997                False                False                   False   \n",
       "1999998                False                False                   False   \n",
       "1999999                False                False                   False   \n",
       "\n",
       "         location_West John  location_West Michael  device_type_Mobile  \\\n",
       "0                     False                  False                True   \n",
       "1                     False                  False               False   \n",
       "2                     False                  False               False   \n",
       "3                     False                  False               False   \n",
       "4                     False                  False               False   \n",
       "...                     ...                    ...                 ...   \n",
       "1999995               False                  False               False   \n",
       "1999996               False                  False                True   \n",
       "1999997               False                  False                True   \n",
       "1999998               False                  False               False   \n",
       "1999999               False                  False               False   \n",
       "\n",
       "         device_type_Tablet  \n",
       "0                     False  \n",
       "1                      True  \n",
       "2                     False  \n",
       "3                     False  \n",
       "4                      True  \n",
       "...                     ...  \n",
       "1999995               False  \n",
       "1999996               False  \n",
       "1999997               False  \n",
       "1999998               False  \n",
       "1999999               False  \n",
       "\n",
       "[2000000 rows x 52 columns]"
      ]
     },
     "execution_count": 137,
     "metadata": {},
     "output_type": "execute_result"
    }
   ],
   "source": [
    "# 최종 데이터셋 확인\n",
    "print(final_data.shape)\n",
    "final_data"
   ]
  },
  {
   "cell_type": "markdown",
   "id": "c37f6e62",
   "metadata": {},
   "source": [
    "## 홀드아웃(훈련데이터, 테스트 데이터로 분리)"
   ]
  },
  {
   "cell_type": "code",
   "execution_count": 38,
   "id": "777f59a6",
   "metadata": {},
   "outputs": [],
   "source": [
    "from sklearn.model_selection import train_test_split"
   ]
  },
  {
   "cell_type": "code",
   "execution_count": 138,
   "id": "be4363c9",
   "metadata": {},
   "outputs": [],
   "source": [
    "X = final_data.drop('is_fraud', axis=1)\n",
    "y = final_data['is_fraud']"
   ]
  },
  {
   "cell_type": "markdown",
   "id": "6bdc6782",
   "metadata": {},
   "source": [
    "### 홀드 아웃_Valid Sets\n",
    "- 훈련용 X, 최종 테스트용X => 중간 평가용(검증 세트) 데이터 분할\n",
    "- 과적합 방지 : 훈련 세트에 너무 과도하게 맞춘 모델은 새로운 데이터에 대한 예측 성능 ↓(일반화 능력 높아야 됨)\n",
    "\n",
    "### 모델 선택(하이퍼파라미터)\n",
    "- 여러 알고리즘을 비교하여, 검증 세트 또는 교차 검증 기반으로 성능이 가장 좋은 모델 선택\n",
    "\n",
    "### 하이퍼파라미터 튜닝 \n",
    "- 모델 중 가장 성능이 좋은 모델 중 더 최적화된 성능을 내기 위해 수행\n",
    "- 학습률, 트리 깊이, 정규화 계수 등 모델 설정을 검증 세트 성능 기준으로 최적화하는 과정\n",
    "- 검증 세트 성능 기준으로 튜닝할 경우, 최종 테스트 세트로는 한 번만 평가해야 함\n"
   ]
  },
  {
   "cell_type": "code",
   "execution_count": 139,
   "id": "47abecc1",
   "metadata": {},
   "outputs": [],
   "source": [
    "# 검증 세트 포함하여 데이터 분리\n",
    "# 전체 데이터 구성 비율 = train(60%) : valid(20%) : test(20%) \n",
    "#  stratify는 분할된 모든 세트에서 클래스 분포가 원본과 동일하게 유지하기 위함(위 데이터는 1:0 = 50%:50% 이므로 적용하지 않아도 됨)\n",
    "\n",
    "X_train, X_valid, y_train, y_valid = train_test_split(X, y, test_size=0.4, random_state=42)\n",
    "X_valid, X_test, y_valid, y_test = train_test_split(X_valid, y_valid, test_size=0.5, random_state=42)\n"
   ]
  },
  {
   "cell_type": "code",
   "execution_count": 140,
   "id": "7d01f2fd",
   "metadata": {},
   "outputs": [
    {
     "name": "stdout",
     "output_type": "stream",
     "text": [
      "1200000 400000 400000\n",
      "1200000 400000 400000\n"
     ]
    }
   ],
   "source": [
    "print(len(X_train), len(X_valid), len(X_test))\n",
    "print(len(y_train), len(y_valid), len(y_test))"
   ]
  },
  {
   "cell_type": "markdown",
   "id": "dd41daa4",
   "metadata": {},
   "source": [
    "## 데이터 분석 모델의 성능평가\n",
    "- accuracy(정확도/정분류율) : 1을 1이라고 맞추고 0을 0이라고 맞춘 비율\n",
    "- False Positive Rate(오분류율) : 1을 0이라고 예측하고 0을 1이라고 예측해서 잘못 예측한 것\n",
    "- precision(정밀도) : 예측한 것 중에서 실제로 맞은 것, 예측 positive 중에서 실제 positive인 비율\n",
    "- Recall(재현율/민감도) : 실제값을 실제값으로 잘 예측한 것, 실제 Positive 중 예측 Positive가 맞은 것\n",
    "- F1-Score : precision과 recall의 조화 평균\n",
    "- Specificity(특이도) : 실제 nagative 중 예측에 성공한 비율"
   ]
  },
  {
   "cell_type": "markdown",
   "id": "34fff87b",
   "metadata": {},
   "source": [
    "-----\n",
    "## Confusion Matrix (혼동행렬)\n",
    "\n",
    "|                 | 예측 Positive | 예측 Negative |\n",
    "|-----------------|----------------|----------------|\n",
    "| **실제 Positive** | TP (True Positive) | FN (False Negative) |\n",
    "| **실제 Negative** | FP (False Positive) | TN (True Negative) |\n",
    "\n",
    "- **TP**: 실제 Positive, 예측도 Positive\n",
    "- **TN**: 실제 Negative, 예측도 Negative\n",
    "- **FP** (1형 오류): 실제 Negative인데 잘못 예측해서 Positive\n",
    "- **FN** (2형 오류): 실제 Positive인데 잘못 예측해서 Negative\n",
    "\n",
    "---\n",
    "\n",
    "## 성능 지표 (Confusion Matrix 기반 수식)\n",
    "\n",
    "- **정확도 (Accuracy)**  \n",
    "  전체 중 맞춘 비율  \n",
    "  $$ \\text{Accuracy} = \\frac{TP + TN}{TP + TN + FP + FN} $$\n",
    "\n",
    "- **오분류율 (FPR, False Positive Rate)**  \n",
    "  실제 Negative 중 Positive로 잘못 예측한 비율  \n",
    "  $$ \\text{FPR} = \\frac{FP}{FP + TN} $$\n",
    "\n",
    "- **정밀도 (Precision)**  \n",
    "  Positive라고 예측한 것 중 실제 Positive인 비율  \n",
    "  $$ \\text{Precision} = \\frac{TP}{TP + FP} $$\n",
    "\n",
    "- **재현율 / 민감도 (Recall / Sensitivity)**  \n",
    "  실제 Positive 중 올바르게 예측한 비율  \n",
    "  $$ \\text{Recall} = \\frac{TP}{TP + FN} $$\n",
    "\n",
    "- **특이도 (Specificity)**  \n",
    "  실제 Negative 중 올바르게 예측한 비율  \n",
    "  $$ \\text{Specificity} = \\frac{TN}{TN + FP} $$\n",
    "\n",
    "- **F1 Score**  \n",
    "  정밀도와 재현율의 조화 평균  \n",
    "  $$ \\text{F1} = 2 \\times \\frac{\\text{Precision} \\times \\text{Recall}}{\\text{Precision} + \\text{Recall}} $$\n",
    "  \n",
    "  "
   ]
  },
  {
   "cell_type": "code",
   "execution_count": 60,
   "id": "caad06fb",
   "metadata": {},
   "outputs": [],
   "source": [
    "from sklearn.tree import DecisionTreeClassifier\n",
    "from sklearn.metrics import classification_report, confusion_matrix, accuracy_score"
   ]
  },
  {
   "cell_type": "code",
   "execution_count": 142,
   "id": "b11091ab",
   "metadata": {},
   "outputs": [
    {
     "name": "stdout",
     "output_type": "stream",
     "text": [
      "[[ 99998  99809]\n",
      " [100384  99809]]\n",
      "\n",
      "정확도 = 0.4995175\n",
      "              precision    recall  f1-score   support\n",
      "\n",
      "           0       0.50      0.50      0.50    199807\n",
      "           1       0.50      0.50      0.50    200193\n",
      "\n",
      "    accuracy                           0.50    400000\n",
      "   macro avg       0.50      0.50      0.50    400000\n",
      "weighted avg       0.50      0.50      0.50    400000\n",
      "\n",
      "CPU times: user 51.2 s, sys: 504 ms, total: 51.7 s\n",
      "Wall time: 51.9 s\n"
     ]
    }
   ],
   "source": [
    "%%time\n",
    "\n",
    "dtc = DecisionTreeClassifier(random_state=42)\n",
    "dtc.fit(X_train, y_train)\n",
    "pred = dtc.predict(X_valid)\n",
    "\n",
    "print('DecisionTreeClassifier 모델 적용 결과')\n",
    "print(confusion_matrix(y_valid, pred), end='\\n\\n')\n",
    "print(f\"정확도 = {accuracy_score(y_valid, pred)}\")\n",
    "print(classification_report(y_valid, pred))\n"
   ]
  },
  {
   "cell_type": "markdown",
   "id": "0092d790",
   "metadata": {},
   "source": [
    "### 배깅(Bagging)\n",
    "- 원본 학습 데이터셋에서 복원추출 방법(중복 허용 랜덤 샘플링)으로 여러 데이터셋(부트스트랩)으로 생성\n",
    "    - 예) 원본 학습 데이터에 10개의 데이터 존재 > 그 중 랜덤하게 중복 가능한 5개 데이터 추출 > 5개의 데이터셋 생성\n",
    "- 생성된 각 데이터셋에 독립적 모델을 학습 시키고 평균(회귀) 또는 다수결(분류) 로 합침\n",
    "- 효과\n",
    "    - 오버피팅 완화\n",
    "    - 랜덤포레스트 모델 등 활용\n",
    "    - 편향(Bias) 자체를 줄일 수 없음"
   ]
  },
  {
   "cell_type": "code",
   "execution_count": 147,
   "id": "a4cd9430",
   "metadata": {},
   "outputs": [],
   "source": [
    "from sklearn.ensemble import BaggingClassifier"
   ]
  },
  {
   "cell_type": "code",
   "execution_count": 150,
   "id": "540eb1c4",
   "metadata": {},
   "outputs": [
    {
     "name": "stdout",
     "output_type": "stream",
     "text": [
      "[[123880  75927]\n",
      " [124022  76171]]\n",
      "\n",
      "정확도 = 0.5001275\n",
      "              precision    recall  f1-score   support\n",
      "\n",
      "           0       0.50      0.62      0.55    199807\n",
      "           1       0.50      0.38      0.43    200193\n",
      "\n",
      "    accuracy                           0.50    400000\n",
      "   macro avg       0.50      0.50      0.49    400000\n",
      "weighted avg       0.50      0.50      0.49    400000\n",
      "\n",
      "CPU times: user 1.76 s, sys: 3.02 s, total: 4.78 s\n",
      "Wall time: 6min 46s\n"
     ]
    }
   ],
   "source": [
    "%%time\n",
    "\n",
    "# n_estimators : 기본 모델(base estimator)의 개수\n",
    "# n_jobs : 병렬로 사용할 CPU 코어 수를 설정\n",
    "\n",
    "bc = BaggingClassifier(n_estimators=100, n_jobs=-1, random_state=42)\n",
    "bc.fit(X_train, y_train)\n",
    "pred = bc.predict(X_valid)\n",
    "\n",
    "print('BaggingClassifier 모델 적용 결과')\n",
    "print(confusion_matrix(y_valid, pred), end='\\n\\n')\n",
    "print(f\"정확도 = {accuracy_score(y_valid, pred)}\")\n",
    "print(classification_report(y_valid, pred))\n"
   ]
  },
  {
   "cell_type": "markdown",
   "id": "61903987",
   "metadata": {},
   "source": [
    "### 부스팅(Boosting)\n",
    "- 여러 약한 학습기를 순차적으로 학습\n",
    "- 이전 모델이 틀린 샘플에 가중치를 높여 다음 모델이 어려운 샘플을 집중적으로 학습시킴\n",
    "- 효과\n",
    "    - 편향(Bias) 감소에 효과적(점진적 오류 보정을 통한 강력한 모델 생성)\n",
    "    - XGBoost, LightGBM 등 활용"
   ]
  },
  {
   "cell_type": "code",
   "execution_count": 152,
   "id": "0708e524",
   "metadata": {},
   "outputs": [],
   "source": [
    "from sklearn.ensemble import AdaBoostClassifier"
   ]
  },
  {
   "cell_type": "code",
   "execution_count": 154,
   "id": "3c44054a",
   "metadata": {},
   "outputs": [
    {
     "name": "stderr",
     "output_type": "stream",
     "text": [
      "/opt/anaconda3/lib/python3.11/site-packages/sklearn/ensemble/_weight_boosting.py:527: FutureWarning: The SAMME.R algorithm (the default) is deprecated and will be removed in 1.6. Use the SAMME algorithm to circumvent this warning.\n",
      "  warnings.warn(\n"
     ]
    },
    {
     "name": "stdout",
     "output_type": "stream",
     "text": [
      "[[ 94719 105088]\n",
      " [ 94863 105330]]\n",
      "\n",
      "정확도 = 0.5001225\n",
      "              precision    recall  f1-score   support\n",
      "\n",
      "           0       0.50      0.47      0.49    199807\n",
      "           1       0.50      0.53      0.51    200193\n",
      "\n",
      "    accuracy                           0.50    400000\n",
      "   macro avg       0.50      0.50      0.50    400000\n",
      "weighted avg       0.50      0.50      0.50    400000\n",
      "\n",
      "CPU times: user 2min 21s, sys: 7.14 s, total: 2min 28s\n",
      "Wall time: 2min 28s\n"
     ]
    }
   ],
   "source": [
    "%%time\n",
    "\n",
    "abc = AdaBoostClassifier(n_estimators=100, random_state=42)\n",
    "abc.fit(X_train, y_train)\n",
    "pred = abc.predict(X_valid)\n",
    "\n",
    "print('AdaBoostClassifier 모델 적용 결과')\n",
    "print(confusion_matrix(y_valid, pred), end='\\n\\n')\n",
    "print(f\"정확도 = {accuracy_score(y_valid, pred)}\")\n",
    "print(classification_report(y_valid, pred))\n"
   ]
  },
  {
   "cell_type": "markdown",
   "id": "f5fdf938",
   "metadata": {},
   "source": []
  },
  {
   "cell_type": "markdown",
   "id": "81e083d4",
   "metadata": {},
   "source": [
    "### 랜덤 배깅(RandomForest)\n",
    "- 배깅 기반으로 다수의 결정 트리를 독립적으로 학습시키고 각 트리의 예측을 평균(회귀) 또는 다수결(분류) 로 합침\n",
    "\n",
    "- 랜덤 포레스트 과정\n",
    "    1. 원본 데이터에서 복원추출 방법으로 통해 랜덤 샘플을 n_estimators 개만큼 생성\n",
    "    2. 트리별 학습 : 각 샘플마다 feature subset(max_feature)을 랜덤 선택 > 선택된 특성만으로 완전 성장/지정 깊이만큼 트리 생성\n",
    "    3. 예측 결합 : 분류(각 트리 예측 결과 중 다수결로 최종 레이블 선택) / 회귀(트리 예측 값의 평균)\n",
    "- 효과\n",
    "    - 분산 감소 : 오버피팅 완화\n",
    "    - 특성 중요도(feature importance) 제공 : 모델 성능에 어떤 컬럼이 기여했는지 확인 가능\n",
    "    - 병렬 처리 가능 : 독립적 학습으로 분산 환경에서 학습 속도 향상"
   ]
  },
  {
   "cell_type": "code",
   "execution_count": 155,
   "id": "c633da6b",
   "metadata": {},
   "outputs": [],
   "source": [
    "from sklearn.ensemble import RandomForestClassifier"
   ]
  },
  {
   "cell_type": "code",
   "execution_count": 156,
   "id": "707c35d5",
   "metadata": {},
   "outputs": [
    {
     "name": "stdout",
     "output_type": "stream",
     "text": [
      "[[106439  93368]\n",
      " [106420  93773]]\n",
      "\n",
      "정확도 = 0.50053\n",
      "              precision    recall  f1-score   support\n",
      "\n",
      "           0       0.50      0.53      0.52    199807\n",
      "           1       0.50      0.47      0.48    200193\n",
      "\n",
      "    accuracy                           0.50    400000\n",
      "   macro avg       0.50      0.50      0.50    400000\n",
      "weighted avg       0.50      0.50      0.50    400000\n",
      "\n",
      "CPU times: user 13min 39s, sys: 22.7 s, total: 14min 1s\n",
      "Wall time: 3min 21s\n"
     ]
    }
   ],
   "source": [
    "%%time\n",
    "\n",
    "rfc = RandomForestClassifier(n_estimators=100, n_jobs=10, random_state=42)\n",
    "rfc.fit(X_train, y_train)\n",
    "pred = rfc.predict(X_valid)\n",
    "\n",
    "print('RandomForestClassifier 모델 적용 결과')\n",
    "print(confusion_matrix(y_valid, pred), end='\\n\\n')\n",
    "print(f\"정확도 = {accuracy_score(y_valid, pred)}\")\n",
    "print(classification_report(y_valid, pred))\n"
   ]
  },
  {
   "cell_type": "code",
   "execution_count": null,
   "id": "afc84944",
   "metadata": {},
   "outputs": [],
   "source": []
  },
  {
   "cell_type": "code",
   "execution_count": null,
   "id": "91159fba",
   "metadata": {},
   "outputs": [],
   "source": []
  },
  {
   "cell_type": "code",
   "execution_count": null,
   "id": "a74ebe88",
   "metadata": {},
   "outputs": [],
   "source": []
  },
  {
   "cell_type": "code",
   "execution_count": null,
   "id": "3bfdf6ca",
   "metadata": {},
   "outputs": [],
   "source": []
  },
  {
   "cell_type": "code",
   "execution_count": null,
   "id": "16d55484",
   "metadata": {},
   "outputs": [],
   "source": []
  },
  {
   "cell_type": "code",
   "execution_count": null,
   "id": "5bbffa93",
   "metadata": {},
   "outputs": [],
   "source": []
  },
  {
   "cell_type": "code",
   "execution_count": null,
   "id": "d9e31e89",
   "metadata": {},
   "outputs": [],
   "source": []
  },
  {
   "cell_type": "code",
   "execution_count": null,
   "id": "6b89fb26",
   "metadata": {},
   "outputs": [],
   "source": []
  }
 ],
 "metadata": {
  "kernelspec": {
   "display_name": "Python 3 (ipykernel)",
   "language": "python",
   "name": "python3"
  },
  "language_info": {
   "codemirror_mode": {
    "name": "ipython",
    "version": 3
   },
   "file_extension": ".py",
   "mimetype": "text/x-python",
   "name": "python",
   "nbconvert_exporter": "python",
   "pygments_lexer": "ipython3",
   "version": "3.11.0rc1"
  }
 },
 "nbformat": 4,
 "nbformat_minor": 5
}
