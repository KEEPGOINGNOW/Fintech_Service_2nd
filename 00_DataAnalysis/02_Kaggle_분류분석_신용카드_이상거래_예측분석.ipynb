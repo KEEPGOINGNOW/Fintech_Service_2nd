{
 "cells": [
  {
   "cell_type": "markdown",
   "id": "4e38838c",
   "metadata": {},
   "source": [
    "# 신용카드_이상거래_예측분석\n",
    "- https://www.kaggle.com/datasets/youssefismail20/fraudsynth-credit-fraud-detection-dataset"
   ]
  },
  {
   "cell_type": "markdown",
   "id": "f416c289",
   "metadata": {},
   "source": [
    "### 필요한 라이브러리 불러오기"
   ]
  },
  {
   "cell_type": "code",
   "execution_count": 2,
   "id": "1595486c",
   "metadata": {},
   "outputs": [],
   "source": [
    "import pandas as pd\n",
    "import numpy as np\n",
    "import matplotlib.pyplot as plt\n",
    "import koreanize_matplotlib\n",
    "import seaborn as sns"
   ]
  },
  {
   "cell_type": "code",
   "execution_count": 3,
   "id": "2543a4bd",
   "metadata": {},
   "outputs": [],
   "source": [
    "pd.set_option('display.max_columns', None)\n",
    "pd.set_option('display.max_rows', 100)\n",
    "pd.set_option('display.float_format', '{:.2f}'.format)"
   ]
  },
  {
   "cell_type": "markdown",
   "id": "f35b1760",
   "metadata": {},
   "source": [
    "### 데이터 불러오기 및 확인"
   ]
  },
  {
   "cell_type": "code",
   "execution_count": 4,
   "id": "4f3474ac",
   "metadata": {},
   "outputs": [
    {
     "data": {
      "text/html": [
       "<div>\n",
       "<style scoped>\n",
       "    .dataframe tbody tr th:only-of-type {\n",
       "        vertical-align: middle;\n",
       "    }\n",
       "\n",
       "    .dataframe tbody tr th {\n",
       "        vertical-align: top;\n",
       "    }\n",
       "\n",
       "    .dataframe thead th {\n",
       "        text-align: right;\n",
       "    }\n",
       "</style>\n",
       "<table border=\"1\" class=\"dataframe\">\n",
       "  <thead>\n",
       "    <tr style=\"text-align: right;\">\n",
       "      <th></th>\n",
       "      <th>timestamp</th>\n",
       "      <th>user_id</th>\n",
       "      <th>amount</th>\n",
       "      <th>location</th>\n",
       "      <th>device_type</th>\n",
       "      <th>is_fraud</th>\n",
       "      <th>age</th>\n",
       "      <th>income</th>\n",
       "      <th>debt</th>\n",
       "      <th>credit_score</th>\n",
       "    </tr>\n",
       "  </thead>\n",
       "  <tbody>\n",
       "    <tr>\n",
       "      <th>0</th>\n",
       "      <td>2023-12-15 02:48:24</td>\n",
       "      <td>3cbf0b8a-c799-4c0e-9782-89272ab8fa2b</td>\n",
       "      <td>998.99</td>\n",
       "      <td>Grantfurt</td>\n",
       "      <td>Mobile</td>\n",
       "      <td>0</td>\n",
       "      <td>56</td>\n",
       "      <td>42524.98</td>\n",
       "      <td>8394.05</td>\n",
       "      <td>655</td>\n",
       "    </tr>\n",
       "    <tr>\n",
       "      <th>1</th>\n",
       "      <td>2023-10-30 11:08:37</td>\n",
       "      <td>3675ed98-6863-4bae-b089-6f0db2df006b</td>\n",
       "      <td>241.39</td>\n",
       "      <td>Kimberlychester</td>\n",
       "      <td>Tablet</td>\n",
       "      <td>0</td>\n",
       "      <td>52</td>\n",
       "      <td>69884.04</td>\n",
       "      <td>28434.06</td>\n",
       "      <td>395</td>\n",
       "    </tr>\n",
       "    <tr>\n",
       "      <th>2</th>\n",
       "      <td>2023-11-21 05:19:35</td>\n",
       "      <td>4be1043f-20ee-4ac5-a689-b25c6a1de50c</td>\n",
       "      <td>836.42</td>\n",
       "      <td>Gutierrezville</td>\n",
       "      <td>Desktop</td>\n",
       "      <td>0</td>\n",
       "      <td>58</td>\n",
       "      <td>126953.62</td>\n",
       "      <td>39121.78</td>\n",
       "      <td>496</td>\n",
       "    </tr>\n",
       "    <tr>\n",
       "      <th>3</th>\n",
       "      <td>2023-11-07 00:03:25</td>\n",
       "      <td>cad0b3c9-099f-479b-8043-6d5ecb4e1467</td>\n",
       "      <td>612.74</td>\n",
       "      <td>Markside</td>\n",
       "      <td>Desktop</td>\n",
       "      <td>0</td>\n",
       "      <td>19</td>\n",
       "      <td>128650.70</td>\n",
       "      <td>39652.48</td>\n",
       "      <td>612</td>\n",
       "    </tr>\n",
       "    <tr>\n",
       "      <th>4</th>\n",
       "      <td>2023-04-02 14:12:23</td>\n",
       "      <td>b6ebea7d-ba62-41d7-b042-3978a23fef8b</td>\n",
       "      <td>135.55</td>\n",
       "      <td>Anthonyshire</td>\n",
       "      <td>Tablet</td>\n",
       "      <td>0</td>\n",
       "      <td>59</td>\n",
       "      <td>102020.39</td>\n",
       "      <td>7439.81</td>\n",
       "      <td>302</td>\n",
       "    </tr>\n",
       "  </tbody>\n",
       "</table>\n",
       "</div>"
      ],
      "text/plain": [
       "             timestamp                               user_id  amount  \\\n",
       "0  2023-12-15 02:48:24  3cbf0b8a-c799-4c0e-9782-89272ab8fa2b  998.99   \n",
       "1  2023-10-30 11:08:37  3675ed98-6863-4bae-b089-6f0db2df006b  241.39   \n",
       "2  2023-11-21 05:19:35  4be1043f-20ee-4ac5-a689-b25c6a1de50c  836.42   \n",
       "3  2023-11-07 00:03:25  cad0b3c9-099f-479b-8043-6d5ecb4e1467  612.74   \n",
       "4  2023-04-02 14:12:23  b6ebea7d-ba62-41d7-b042-3978a23fef8b  135.55   \n",
       "\n",
       "          location device_type  is_fraud  age    income     debt  credit_score  \n",
       "0        Grantfurt      Mobile         0   56  42524.98  8394.05           655  \n",
       "1  Kimberlychester      Tablet         0   52  69884.04 28434.06           395  \n",
       "2   Gutierrezville     Desktop         0   58 126953.62 39121.78           496  \n",
       "3         Markside     Desktop         0   19 128650.70 39652.48           612  \n",
       "4     Anthonyshire      Tablet         0   59 102020.39  7439.81           302  "
      ]
     },
     "execution_count": 4,
     "metadata": {},
     "output_type": "execute_result"
    }
   ],
   "source": [
    "data = pd.read_csv('./data/fraud_detection_dataset.csv')\n",
    "data.head()"
   ]
  },
  {
   "cell_type": "code",
   "execution_count": 5,
   "id": "69861563",
   "metadata": {},
   "outputs": [
    {
     "name": "stdout",
     "output_type": "stream",
     "text": [
      "<class 'pandas.core.frame.DataFrame'>\n",
      "RangeIndex: 2000000 entries, 0 to 1999999\n",
      "Data columns (total 10 columns):\n",
      " #   Column        Dtype  \n",
      "---  ------        -----  \n",
      " 0   timestamp     object \n",
      " 1   user_id       object \n",
      " 2   amount        float64\n",
      " 3   location      object \n",
      " 4   device_type   object \n",
      " 5   is_fraud      int64  \n",
      " 6   age           int64  \n",
      " 7   income        float64\n",
      " 8   debt          float64\n",
      " 9   credit_score  int64  \n",
      "dtypes: float64(3), int64(3), object(4)\n",
      "memory usage: 152.6+ MB\n"
     ]
    }
   ],
   "source": [
    "data.info()"
   ]
  },
  {
   "cell_type": "markdown",
   "id": "5168d1e0",
   "metadata": {},
   "source": [
    "### 컬럼 확인\n",
    "- timestamp : 거래일자\n",
    "- user_id : 고객ID\n",
    "- amount : 총거래금액\n",
    "- location : 거래발생위치(도시)\n",
    "- device_type : 거래발생기기\n",
    "- is_fraud : 이상거래여부\n",
    "- age : 고객나이\n",
    "- income : 고객수입\n",
    "- debt : 고객추정빚\n",
    "- credit_score : 고객신용점수"
   ]
  },
  {
   "cell_type": "code",
   "execution_count": 9,
   "id": "a491560b",
   "metadata": {},
   "outputs": [
    {
     "data": {
      "text/html": [
       "<div>\n",
       "<style scoped>\n",
       "    .dataframe tbody tr th:only-of-type {\n",
       "        vertical-align: middle;\n",
       "    }\n",
       "\n",
       "    .dataframe tbody tr th {\n",
       "        vertical-align: top;\n",
       "    }\n",
       "\n",
       "    .dataframe thead th {\n",
       "        text-align: right;\n",
       "    }\n",
       "</style>\n",
       "<table border=\"1\" class=\"dataframe\">\n",
       "  <thead>\n",
       "    <tr style=\"text-align: right;\">\n",
       "      <th></th>\n",
       "      <th>amount</th>\n",
       "      <th>is_fraud</th>\n",
       "      <th>age</th>\n",
       "      <th>income</th>\n",
       "      <th>debt</th>\n",
       "      <th>credit_score</th>\n",
       "    </tr>\n",
       "  </thead>\n",
       "  <tbody>\n",
       "    <tr>\n",
       "      <th>count</th>\n",
       "      <td>2000000.00</td>\n",
       "      <td>2000000.00</td>\n",
       "      <td>2000000.00</td>\n",
       "      <td>2000000.00</td>\n",
       "      <td>2000000.00</td>\n",
       "      <td>2000000.00</td>\n",
       "    </tr>\n",
       "    <tr>\n",
       "      <th>mean</th>\n",
       "      <td>1751.68</td>\n",
       "      <td>0.50</td>\n",
       "      <td>44.00</td>\n",
       "      <td>85020.99</td>\n",
       "      <td>24984.04</td>\n",
       "      <td>574.79</td>\n",
       "    </tr>\n",
       "    <tr>\n",
       "      <th>std</th>\n",
       "      <td>1504.16</td>\n",
       "      <td>0.50</td>\n",
       "      <td>15.30</td>\n",
       "      <td>37532.01</td>\n",
       "      <td>14440.05</td>\n",
       "      <td>159.12</td>\n",
       "    </tr>\n",
       "    <tr>\n",
       "      <th>min</th>\n",
       "      <td>10.00</td>\n",
       "      <td>0.00</td>\n",
       "      <td>18.00</td>\n",
       "      <td>20000.09</td>\n",
       "      <td>0.04</td>\n",
       "      <td>300.00</td>\n",
       "    </tr>\n",
       "    <tr>\n",
       "      <th>25%</th>\n",
       "      <td>504.34</td>\n",
       "      <td>0.00</td>\n",
       "      <td>31.00</td>\n",
       "      <td>52530.58</td>\n",
       "      <td>12465.51</td>\n",
       "      <td>437.00</td>\n",
       "    </tr>\n",
       "    <tr>\n",
       "      <th>50%</th>\n",
       "      <td>1000.00</td>\n",
       "      <td>0.50</td>\n",
       "      <td>44.00</td>\n",
       "      <td>85032.87</td>\n",
       "      <td>24980.93</td>\n",
       "      <td>575.00</td>\n",
       "    </tr>\n",
       "    <tr>\n",
       "      <th>75%</th>\n",
       "      <td>2996.71</td>\n",
       "      <td>1.00</td>\n",
       "      <td>57.00</td>\n",
       "      <td>117537.45</td>\n",
       "      <td>37480.29</td>\n",
       "      <td>713.00</td>\n",
       "    </tr>\n",
       "    <tr>\n",
       "      <th>max</th>\n",
       "      <td>4999.99</td>\n",
       "      <td>1.00</td>\n",
       "      <td>70.00</td>\n",
       "      <td>149999.96</td>\n",
       "      <td>49999.98</td>\n",
       "      <td>850.00</td>\n",
       "    </tr>\n",
       "  </tbody>\n",
       "</table>\n",
       "</div>"
      ],
      "text/plain": [
       "          amount   is_fraud        age     income       debt  credit_score\n",
       "count 2000000.00 2000000.00 2000000.00 2000000.00 2000000.00    2000000.00\n",
       "mean     1751.68       0.50      44.00   85020.99   24984.04        574.79\n",
       "std      1504.16       0.50      15.30   37532.01   14440.05        159.12\n",
       "min        10.00       0.00      18.00   20000.09       0.04        300.00\n",
       "25%       504.34       0.00      31.00   52530.58   12465.51        437.00\n",
       "50%      1000.00       0.50      44.00   85032.87   24980.93        575.00\n",
       "75%      2996.71       1.00      57.00  117537.45   37480.29        713.00\n",
       "max      4999.99       1.00      70.00  149999.96   49999.98        850.00"
      ]
     },
     "execution_count": 9,
     "metadata": {},
     "output_type": "execute_result"
    }
   ],
   "source": [
    "data.describe()"
   ]
  },
  {
   "cell_type": "markdown",
   "id": "6bcae60e",
   "metadata": {},
   "source": [
    "### 결측치 확인/처리 및 중복값 처리"
   ]
  },
  {
   "cell_type": "code",
   "execution_count": 10,
   "id": "c39fa8b3",
   "metadata": {},
   "outputs": [
    {
     "data": {
      "text/plain": [
       "timestamp       0\n",
       "user_id         0\n",
       "amount          0\n",
       "location        0\n",
       "device_type     0\n",
       "is_fraud        0\n",
       "age             0\n",
       "income          0\n",
       "debt            0\n",
       "credit_score    0\n",
       "dtype: int64"
      ]
     },
     "execution_count": 10,
     "metadata": {},
     "output_type": "execute_result"
    }
   ],
   "source": [
    "data.isna().sum()"
   ]
  },
  {
   "cell_type": "code",
   "execution_count": 11,
   "id": "9fae3344",
   "metadata": {},
   "outputs": [
    {
     "data": {
      "text/plain": [
       "0"
      ]
     },
     "execution_count": 11,
     "metadata": {},
     "output_type": "execute_result"
    }
   ],
   "source": [
    "# 중복값 확인\n",
    "len(data[data.duplicated()])"
   ]
  },
  {
   "cell_type": "markdown",
   "id": "aa86dfd6",
   "metadata": {},
   "source": [
    "### 이상치 탐지 및 처리"
   ]
  },
  {
   "cell_type": "code",
   "execution_count": 12,
   "id": "da294a31",
   "metadata": {},
   "outputs": [
    {
     "data": {
      "text/plain": [
       "Index(['amount', 'is_fraud', 'age', 'income', 'debt', 'credit_score'], dtype='object')"
      ]
     },
     "execution_count": 12,
     "metadata": {},
     "output_type": "execute_result"
    }
   ],
   "source": [
    "data_num = data.select_dtypes(exclude='object')\n",
    "data_num.columns"
   ]
  },
  {
   "cell_type": "code",
   "execution_count": 18,
   "id": "453be981",
   "metadata": {},
   "outputs": [
    {
     "data": {
      "image/png": "[encoded data removed]",
      "text/plain": [
       "<Figure size 640x480 with 1 Axes>"
      ]
     },
     "metadata": {},
     "output_type": "display_data"
    }
   ],
   "source": [
    "# 박스 플롯 확인\n",
    "# 이상치가 없음을 확인\n",
    "sns.boxplot(data_num)\n",
    "plt.show()"
   ]
  },
  {
   "cell_type": "markdown",
   "id": "46629375",
   "metadata": {},
   "source": [
    "### EDA(탐색적 데이터 분석)"
   ]
  },
  {
   "cell_type": "code",
   "execution_count": 7,
   "id": "382ad65f",
   "metadata": {},
   "outputs": [],
   "source": [
    "# 컬럼 데이터 구성 확인\n",
    "data_obj = data.select_dtypes(include='object')"
   ]
  },
  {
   "cell_type": "code",
   "execution_count": 13,
   "id": "83a9b6ce",
   "metadata": {},
   "outputs": [
    {
     "name": "stdout",
     "output_type": "stream",
     "text": [
      "Index(['amount', 'is_fraud', 'age', 'income', 'debt', 'credit_score'], dtype='object')\n",
      "Index(['timestamp', 'user_id', 'location', 'device_type'], dtype='object')\n"
     ]
    }
   ],
   "source": [
    "print(data_num.columns)\n",
    "print(data_obj.columns)"
   ]
  },
  {
   "cell_type": "code",
   "execution_count": 53,
   "id": "01361590",
   "metadata": {
    "scrolled": true
   },
   "outputs": [
    {
     "name": "stdout",
     "output_type": "stream",
     "text": [
      "============================== timestamp ==============================\n",
      "timestamp의 unique 값의 수 = 1937890\n",
      "timestamp\n",
      "2023-08-27 19:23:20    4\n",
      "2024-02-11 09:02:19    4\n",
      "2023-10-10 10:45:13    4\n",
      "2024-02-19 02:24:12    4\n",
      "2023-05-10 03:12:02    4\n",
      "                      ..\n",
      "2023-07-09 01:04:02    1\n",
      "2023-10-07 05:25:05    1\n",
      "2023-06-11 04:03:04    1\n",
      "2023-10-08 12:55:25    1\n",
      "2024-02-16 02:50:25    1\n",
      "Name: count, Length: 1937890, dtype: int64\n",
      "                     is_fraud\n",
      "timestamp                    \n",
      "2024-02-29 20:10:41      1.00\n",
      "2024-02-29 20:07:02      1.00\n",
      "2024-02-29 20:07:18      1.00\n",
      "2024-02-29 20:07:26      1.00\n",
      "2024-02-29 20:07:52      1.00\n",
      "...                       ...\n",
      "2024-02-29 19:50:12      0.00\n",
      "2024-02-29 19:50:17      0.00\n",
      "2024-02-29 19:59:21      0.00\n",
      "2024-02-29 19:59:41      0.00\n",
      "2023-03-01 14:38:04      0.00\n",
      "\n",
      "[1937890 rows x 1 columns]\n",
      "============================== user_id ==============================\n",
      "user_id의 unique 값의 수 = 2000000\n",
      "user_id\n",
      "bf08a2c2-3e8f-464b-92fb-cfd94bee1b34    1\n",
      "19546a11-6dc7-4ea2-a383-7f1d035c3d5e    1\n",
      "f36aa062-cc7c-4380-b217-018f6deead81    1\n",
      "2c50874a-b63d-4944-ad2c-cc848c165fb9    1\n",
      "823e2088-2b51-40ee-96de-8e2f6273b12e    1\n",
      "                                       ..\n",
      "cad0b3c9-099f-479b-8043-6d5ecb4e1467    1\n",
      "b6ebea7d-ba62-41d7-b042-3978a23fef8b    1\n",
      "76bf1858-a7a5-4cb0-92a3-a9194d52d423    1\n",
      "97d575b9-0172-4c14-a631-15da08be642a    1\n",
      "34670567-42ea-414e-979f-134ed4e64d26    1\n",
      "Name: count, Length: 2000000, dtype: int64\n",
      "                                      is_fraud\n",
      "user_id                                       \n",
      "fffe763c-b3df-4f46-850f-2b3df2f0cbee      1.00\n",
      "fffe7e8f-3e45-4bb3-af88-f025154ea2f9      1.00\n",
      "fffe9f2c-c892-4060-abf1-f7818b6de540      1.00\n",
      "fffebb25-6142-47ba-9404-f0563b541f3c      1.00\n",
      "fffec210-71f5-4576-9393-13cedd681e84      1.00\n",
      "...                                        ...\n",
      "00002819-3003-4d85-9f41-80bed09ea838      0.00\n",
      "0000322d-4dcc-46ee-a859-f72befb6200c      0.00\n",
      "00003d8d-25ec-4bce-8696-b2776bf4e15b      0.00\n",
      "000041de-94a7-44fb-a3c5-35b5929ff855      0.00\n",
      "00006a03-336c-4386-8873-22bd850ccd91      0.00\n",
      "\n",
      "[2000000 rows x 1 columns]\n",
      "============================== location ==============================\n",
      "location의 unique 값의 수 = 104592\n",
      "location\n",
      "East Michael        1713\n",
      "Lake Michael        1702\n",
      "New Michael         1626\n",
      "Port Michael        1624\n",
      "West Michael        1604\n",
      "                    ... \n",
      "New Jeanetteport       1\n",
      "South Bradyshire       1\n",
      "Lake Kylieshire        1\n",
      "Lake Tonyastad         1\n",
      "New Clintonview        1\n",
      "Name: count, Length: 104592, dtype: int64\n",
      "                   is_fraud\n",
      "location                   \n",
      "East David             0.54\n",
      "Port James             0.53\n",
      "West Christopher       0.53\n",
      "North Christopher      0.53\n",
      "West James             0.52\n",
      "New David              0.52\n",
      "North David            0.51\n",
      "South David            0.51\n",
      "North James            0.51\n",
      "Lake Jennifer          0.51\n",
      "West Jennifer          0.51\n",
      "Lake John              0.51\n",
      "New Jennifer           0.51\n",
      "Michaelmouth           0.51\n",
      "West John              0.51\n",
      "West David             0.50\n",
      "New Michael            0.50\n",
      "South John             0.50\n",
      "Port Michael           0.50\n",
      "East James             0.50\n",
      "Port Jennifer          0.50\n",
      "Others                 0.50\n",
      "Port David             0.50\n",
      "West Michael           0.50\n",
      "South Jennifer         0.50\n",
      "East Jennifer          0.50\n",
      "North Michael          0.50\n",
      "South James            0.49\n",
      "New James              0.49\n",
      "South Michael          0.49\n",
      "South Christopher      0.49\n",
      "Lake Michael           0.49\n",
      "North John             0.49\n",
      "East John              0.49\n",
      "Smithmouth             0.48\n",
      "New John               0.48\n",
      "East Michael           0.48\n",
      "Lake David             0.48\n",
      "Lake James             0.48\n",
      "Port John              0.47\n",
      "============================== device_type ==============================\n",
      "device_type의 unique 값의 수 = 3\n",
      "device_type\n",
      "Tablet     668072\n",
      "Desktop    666273\n",
      "Mobile     665655\n",
      "Name: count, dtype: int64\n",
      "             is_fraud\n",
      "device_type          \n",
      "Desktop          0.50\n",
      "Tablet           0.50\n",
      "Mobile           0.50\n"
     ]
    }
   ],
   "source": [
    "# 문자형 데이터 확인\n",
    "for col in data_obj:\n",
    "#     print(col)\n",
    "    print('='*30, col, '='*30)\n",
    "    print(f\"{col}의 unique 값의 수 = {data_obj[col].nunique()}\", end='\\n')\n",
    "    print(data_obj[col].value_counts())\n",
    "    \n",
    "    print(data[[col, 'is_fraud']].groupby(col).mean().sort_values(by='is_fraud', ascending=False))\n",
    "    print()\n",
    "    "
   ]
  },
  {
   "cell_type": "markdown",
   "id": "b4ff882d",
   "metadata": {},
   "source": [
    "### location, device_type 이 유의한 컬럼이라고 생각\n",
    "- location은 바로 인코딩하는 경우 10만개 이상의 컬럼이 생성\n",
    "- 상위 50개 지역과 나머지는 others로 묶어서 처리\n",
    "- device_type은 바로 인코딩해도 문제 없음"
   ]
  },
  {
   "cell_type": "code",
   "execution_count": 62,
   "id": "9c6f2b5b",
   "metadata": {
    "scrolled": true
   },
   "outputs": [
    {
     "name": "stdout",
     "output_type": "stream",
     "text": [
      "============================== amount ==============================\n",
      "count   2000000.00\n",
      "mean       1751.68\n",
      "std        1504.16\n",
      "min          10.00\n",
      "25%         504.34\n",
      "50%        1000.00\n",
      "75%        2996.71\n",
      "max        4999.99\n",
      "Name: amount, dtype: float64\n",
      "\n",
      "         is_fraud\n",
      "amount           \n",
      "4999.99      1.00\n",
      "4999.98      1.00\n",
      "4999.97      1.00\n",
      "4999.96      1.00\n",
      "4999.94      1.00\n",
      "...           ...\n",
      "10.31        0.00\n",
      "10.32        0.00\n",
      "10.33        0.00\n",
      "10.34        0.00\n",
      "10.35        0.00\n",
      "\n",
      "[466189 rows x 1 columns]\n",
      "\n",
      "============================== is_fraud ==============================\n",
      "count   2000000.00\n",
      "mean          0.50\n",
      "std           0.50\n",
      "min           0.00\n",
      "25%           0.00\n",
      "50%           0.50\n",
      "75%           1.00\n",
      "max           1.00\n",
      "Name: is_fraud, dtype: float64\n",
      "\n",
      "\n",
      "============================== age ==============================\n",
      "count   2000000.00\n",
      "mean         44.00\n",
      "std          15.30\n",
      "min          18.00\n",
      "25%          31.00\n",
      "50%          44.00\n",
      "75%          57.00\n",
      "max          70.00\n",
      "Name: age, dtype: float64\n",
      "\n",
      "     is_fraud\n",
      "age          \n",
      "35       0.50\n",
      "21       0.50\n",
      "33       0.50\n",
      "42       0.50\n",
      "24       0.50\n",
      "19       0.50\n",
      "66       0.50\n",
      "62       0.50\n",
      "31       0.50\n",
      "55       0.50\n",
      "32       0.50\n",
      "26       0.50\n",
      "39       0.50\n",
      "37       0.50\n",
      "70       0.50\n",
      "59       0.50\n",
      "38       0.50\n",
      "30       0.50\n",
      "69       0.50\n",
      "60       0.50\n",
      "36       0.50\n",
      "54       0.50\n",
      "52       0.50\n",
      "29       0.50\n",
      "20       0.50\n",
      "67       0.50\n",
      "46       0.50\n",
      "40       0.50\n",
      "47       0.50\n",
      "48       0.50\n",
      "22       0.50\n",
      "51       0.50\n",
      "57       0.50\n",
      "53       0.50\n",
      "34       0.50\n",
      "64       0.50\n",
      "41       0.50\n",
      "23       0.50\n",
      "28       0.50\n",
      "49       0.50\n",
      "50       0.50\n",
      "68       0.50\n",
      "25       0.50\n",
      "18       0.50\n",
      "65       0.50\n",
      "61       0.50\n",
      "63       0.50\n",
      "56       0.50\n",
      "45       0.50\n",
      "44       0.50\n",
      "27       0.50\n",
      "58       0.50\n",
      "43       0.49\n",
      "\n",
      "============================== income ==============================\n",
      "count   2000000.00\n",
      "mean      85020.99\n",
      "std       37532.01\n",
      "min       20000.09\n",
      "25%       52530.58\n",
      "50%       85032.87\n",
      "75%      117537.45\n",
      "max      149999.96\n",
      "Name: income, dtype: float64\n",
      "\n",
      "           is_fraud\n",
      "income             \n",
      "20000.80       1.00\n",
      "149999.94      1.00\n",
      "149997.15      1.00\n",
      "149997.27      1.00\n",
      "149997.34      1.00\n",
      "...             ...\n",
      "20003.27       0.00\n",
      "20003.64       0.00\n",
      "20003.74       0.00\n",
      "20003.77       0.00\n",
      "20001.78       0.00\n",
      "\n",
      "[1854147 rows x 1 columns]\n",
      "\n",
      "============================== debt ==============================\n",
      "count   2000000.00\n",
      "mean      24984.04\n",
      "std       14440.05\n",
      "min           0.04\n",
      "25%       12465.51\n",
      "50%       24980.93\n",
      "75%       37480.29\n",
      "max       49999.98\n",
      "Name: debt, dtype: float64\n",
      "\n",
      "          is_fraud\n",
      "debt              \n",
      "0.69          1.00\n",
      "49999.98      1.00\n",
      "0.04          1.00\n",
      "49999.97      1.00\n",
      "49999.90      1.00\n",
      "...            ...\n",
      "1.90          0.00\n",
      "2.17          0.00\n",
      "2.18          0.00\n",
      "2.32          0.00\n",
      "2.42          0.00\n",
      "\n",
      "[1649272 rows x 1 columns]\n",
      "\n",
      "============================== credit_score ==============================\n",
      "count   2000000.00\n",
      "mean        574.79\n",
      "std         159.12\n",
      "min         300.00\n",
      "25%         437.00\n",
      "50%         575.00\n",
      "75%         713.00\n",
      "max         850.00\n",
      "Name: credit_score, dtype: float64\n",
      "\n",
      "              is_fraud\n",
      "credit_score          \n",
      "518               0.53\n",
      "446               0.52\n",
      "386               0.52\n",
      "398               0.52\n",
      "755               0.52\n",
      "...                ...\n",
      "822               0.48\n",
      "799               0.48\n",
      "315               0.48\n",
      "532               0.47\n",
      "704               0.47\n",
      "\n",
      "[551 rows x 1 columns]\n",
      "\n"
     ]
    }
   ],
   "source": [
    "# 숫자형 데이터 확인\n",
    "for col in data_num:\n",
    "#     print(col)\n",
    "    print('='*30, col, '='*30)\n",
    "    print(f\"{data_num[col].describe()}\", end='\\n\\n')\n",
    "    \n",
    "#     sns.histplot(data_num[col])\n",
    "#     plt.show()\n",
    "#     print('\\n\\n')\n",
    "    \n",
    "    if col != 'is_fraud':\n",
    "        print(data[[col, 'is_fraud']].groupby(col).mean().sort_values(by='is_fraud', ascending=False))\n",
    "    print()\n",
    "    "
   ]
  },
  {
   "cell_type": "code",
   "execution_count": 26,
   "id": "77993343",
   "metadata": {},
   "outputs": [
    {
     "data": {
      "text/plain": [
       "<Axes: >"
      ]
     },
     "execution_count": 26,
     "metadata": {},
     "output_type": "execute_result"
    },
    {
     "data": {
      "image/png": "[encoded data removed]",
      "text/plain": [
       "<Figure size 640x480 with 2 Axes>"
      ]
     },
     "metadata": {},
     "output_type": "display_data"
    }
   ],
   "source": [
    "# 각 컬럼의 연관성 확인\n",
    "sns.heatmap(data_num.corr(), annot=True, linewidth=1)"
   ]
  },
  {
   "cell_type": "markdown",
   "id": "6689c845",
   "metadata": {},
   "source": [
    "### is_fraud(종속변수)와 연관성이 있는 컬럼은 amount만 의미 있음"
   ]
  },
  {
   "cell_type": "code",
   "execution_count": 46,
   "id": "ad46ca3c",
   "metadata": {},
   "outputs": [
    {
     "data": {
      "text/plain": [
       "location\n",
       "East Michael         1713\n",
       "Lake Michael         1702\n",
       "New Michael          1626\n",
       "Port Michael         1624\n",
       "West Michael         1604\n",
       "North Michael        1601\n",
       "South Michael        1579\n",
       "North David          1181\n",
       "Michaelmouth         1177\n",
       "Lake David           1158\n",
       "Smithmouth           1118\n",
       "Port David           1117\n",
       "Port Jennifer        1114\n",
       "South David          1104\n",
       "East David           1102\n",
       "West David           1088\n",
       "New David            1085\n",
       "West Jennifer        1084\n",
       "West James           1083\n",
       "Lake John            1083\n",
       "South Jennifer       1080\n",
       "West John            1079\n",
       "Lake James           1067\n",
       "North James          1066\n",
       "East James           1062\n",
       "South John           1058\n",
       "North Christopher    1051\n",
       "East John            1041\n",
       "South James          1041\n",
       "Lake Jennifer        1039\n",
       "New James            1038\n",
       "Port John            1033\n",
       "West Christopher     1033\n",
       "North John           1026\n",
       "East Jennifer        1024\n",
       "New John             1012\n",
       "New Jennifer         1010\n",
       "Port James           1009\n",
       "South Christopher    1009\n",
       "Name: count, dtype: int64"
      ]
     },
     "execution_count": 46,
     "metadata": {},
     "output_type": "execute_result"
    }
   ],
   "source": [
    "# location의 데이터를 구분\n",
    "loc_value = data['location'].value_counts()\n",
    "loc_value[loc_value >= 1000]"
   ]
  },
  {
   "cell_type": "code",
   "execution_count": 48,
   "id": "a6f1b28e",
   "metadata": {},
   "outputs": [
    {
     "data": {
      "text/plain": [
       "40"
      ]
     },
     "execution_count": 48,
     "metadata": {},
     "output_type": "execute_result"
    }
   ],
   "source": [
    "# location 컬럼 데이터 변환\n",
    "loc_value = data['location'].value_counts()\n",
    "\n",
    "# 조건에 맞으면 변환\n",
    "data['location'] = data['location'].apply(lambda x:x if loc_value[x] >= 1000 else 'Others')\n",
    "data['location'].nunique()"
   ]
  },
  {
   "cell_type": "code",
   "execution_count": 49,
   "id": "69cb388d",
   "metadata": {},
   "outputs": [
    {
     "data": {
      "text/plain": [
       "Index(['timestamp', 'user_id', 'amount', 'location', 'device_type', 'is_fraud',\n",
       "       'age', 'income', 'debt', 'credit_score'],\n",
       "      dtype='object')"
      ]
     },
     "execution_count": 49,
     "metadata": {},
     "output_type": "execute_result"
    }
   ],
   "source": [
    "data.columns"
   ]
  },
  {
   "cell_type": "code",
   "execution_count": 52,
   "id": "50ca5701",
   "metadata": {},
   "outputs": [],
   "source": [
    "# 원핫인코딩 진행\n",
    "data_use = data.drop(['timestamp', 'user_id'], axis=1)\n",
    "\n",
    "# 원핫인코딩 적용\n",
    "data_use = pd.get_dummies(data_use, drop_first=True)"
   ]
  },
  {
   "cell_type": "markdown",
   "id": "c37f6e62",
   "metadata": {},
   "source": []
  },
  {
   "cell_type": "code",
   "execution_count": null,
   "id": "be4363c9",
   "metadata": {},
   "outputs": [],
   "source": []
  },
  {
   "cell_type": "code",
   "execution_count": null,
   "id": "20622286",
   "metadata": {},
   "outputs": [],
   "source": []
  },
  {
   "cell_type": "code",
   "execution_count": null,
   "id": "f3131954",
   "metadata": {},
   "outputs": [],
   "source": []
  },
  {
   "cell_type": "code",
   "execution_count": null,
   "id": "47abecc1",
   "metadata": {},
   "outputs": [],
   "source": []
  },
  {
   "cell_type": "code",
   "execution_count": null,
   "id": "04c2c3b8",
   "metadata": {},
   "outputs": [],
   "source": []
  },
  {
   "cell_type": "code",
   "execution_count": null,
   "id": "caad06fb",
   "metadata": {},
   "outputs": [],
   "source": []
  },
  {
   "cell_type": "code",
   "execution_count": null,
   "id": "e9c60f30",
   "metadata": {},
   "outputs": [],
   "source": []
  },
  {
   "cell_type": "code",
   "execution_count": null,
   "id": "a274a8ba",
   "metadata": {},
   "outputs": [],
   "source": []
  },
  {
   "cell_type": "code",
   "execution_count": null,
   "id": "a4cd9430",
   "metadata": {},
   "outputs": [],
   "source": []
  },
  {
   "cell_type": "code",
   "execution_count": null,
   "id": "540eb1c4",
   "metadata": {},
   "outputs": [],
   "source": []
  },
  {
   "cell_type": "code",
   "execution_count": null,
   "id": "ffb178c4",
   "metadata": {},
   "outputs": [],
   "source": []
  },
  {
   "cell_type": "code",
   "execution_count": null,
   "id": "0708e524",
   "metadata": {},
   "outputs": [],
   "source": []
  },
  {
   "cell_type": "code",
   "execution_count": null,
   "id": "615c7c4c",
   "metadata": {},
   "outputs": [],
   "source": []
  },
  {
   "cell_type": "code",
   "execution_count": null,
   "id": "c633da6b",
   "metadata": {},
   "outputs": [],
   "source": []
  },
  {
   "cell_type": "code",
   "execution_count": null,
   "id": "707c35d5",
   "metadata": {},
   "outputs": [],
   "source": []
  },
  {
   "cell_type": "code",
   "execution_count": null,
   "id": "afc84944",
   "metadata": {},
   "outputs": [],
   "source": []
  },
  {
   "cell_type": "code",
   "execution_count": null,
   "id": "91159fba",
   "metadata": {},
   "outputs": [],
   "source": []
  },
  {
   "cell_type": "code",
   "execution_count": null,
   "id": "a74ebe88",
   "metadata": {},
   "outputs": [],
   "source": []
  },
  {
   "cell_type": "code",
   "execution_count": null,
   "id": "3bfdf6ca",
   "metadata": {},
   "outputs": [],
   "source": []
  },
  {
   "cell_type": "code",
   "execution_count": null,
   "id": "16d55484",
   "metadata": {},
   "outputs": [],
   "source": []
  },
  {
   "cell_type": "code",
   "execution_count": null,
   "id": "5bbffa93",
   "metadata": {},
   "outputs": [],
   "source": []
  },
  {
   "cell_type": "code",
   "execution_count": null,
   "id": "d9e31e89",
   "metadata": {},
   "outputs": [],
   "source": []
  },
  {
   "cell_type": "code",
   "execution_count": null,
   "id": "6b89fb26",
   "metadata": {},
   "outputs": [],
   "source": []
  }
 ],
 "metadata": {
  "kernelspec": {
   "display_name": "Python 3 (ipykernel)",
   "language": "python",
   "name": "python3"
  },
  "language_info": {
   "codemirror_mode": {
    "name": "ipython",
    "version": 3
   },
   "file_extension": ".py",
   "mimetype": "text/x-python",
   "name": "python",
   "nbconvert_exporter": "python",
   "pygments_lexer": "ipython3",
   "version": "3.9.21"
  }
 },
 "nbformat": 4,
 "nbformat_minor": 5
}
