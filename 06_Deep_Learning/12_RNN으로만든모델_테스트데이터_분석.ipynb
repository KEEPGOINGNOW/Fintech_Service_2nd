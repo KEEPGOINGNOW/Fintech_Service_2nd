{
 "cells": [
  {
   "cell_type": "markdown",
   "id": "687b7692",
   "metadata": {},
   "source": [
    "# RNN으로만든모델_테스트데이터_분석"
   ]
  },
  {
   "cell_type": "code",
   "execution_count": 23,
   "id": "a8011118",
   "metadata": {},
   "outputs": [],
   "source": [
    "from konlpy.tag import Mecab\n",
    "import pandas as pd\n",
    "import numpy as np\n",
    "from tensorflow.keras.preprocessing.text import Tokenizer, text_to_word_sequence\n",
    "from tensorflow.keras.preprocessing.sequence import pad_sequences\n",
    "from tensorflow.keras.models import Sequential, load_model\n",
    "from tensorflow.keras.layers import Dense, Flatten, Embedding\n",
    "from tensorflow.keras.utils import to_categorical"
   ]
  },
  {
   "cell_type": "code",
   "execution_count": 4,
   "id": "9466e1bd",
   "metadata": {},
   "outputs": [
    {
     "data": {
      "text/html": [
       "<div>\n",
       "<style scoped>\n",
       "    .dataframe tbody tr th:only-of-type {\n",
       "        vertical-align: middle;\n",
       "    }\n",
       "\n",
       "    .dataframe tbody tr th {\n",
       "        vertical-align: top;\n",
       "    }\n",
       "\n",
       "    .dataframe thead th {\n",
       "        text-align: right;\n",
       "    }\n",
       "</style>\n",
       "<table border=\"1\" class=\"dataframe\">\n",
       "  <thead>\n",
       "    <tr style=\"text-align: right;\">\n",
       "      <th></th>\n",
       "      <th>리뷰일</th>\n",
       "      <th>평점</th>\n",
       "      <th>사용자리뷰</th>\n",
       "      <th>업체답변</th>\n",
       "      <th>은행명</th>\n",
       "    </tr>\n",
       "  </thead>\n",
       "  <tbody>\n",
       "    <tr>\n",
       "      <th>0</th>\n",
       "      <td>2024-02-08</td>\n",
       "      <td>5</td>\n",
       "      <td>고경민계장님감사해요</td>\n",
       "      <td>안녕하세요 최순녀 고객님. 칭찬 진심으로 감사드리며, 더욱 편리하고 안정적인 서비스...</td>\n",
       "      <td>우리</td>\n",
       "    </tr>\n",
       "    <tr>\n",
       "      <th>1</th>\n",
       "      <td>2023-07-24</td>\n",
       "      <td>5</td>\n",
       "      <td>저축목표피드 새로 생긴거 너무좋은데 분명 카테고리를 저축으로 했는데 왜 인식이 안되...</td>\n",
       "      <td>신아​ 님, 안녕하세요? 뱅크샐러드 고객감동팀​입니다. 소중한 시간내어 고객센터에 ...</td>\n",
       "      <td>뱅크샐러드</td>\n",
       "    </tr>\n",
       "    <tr>\n",
       "      <th>2</th>\n",
       "      <td>2023-09-25</td>\n",
       "      <td>1</td>\n",
       "      <td>아니 이딴걸 편리하게 사용하는앱이라고 쳐만들엇나 이렇게 불편하게만든건 일부러그런거에...</td>\n",
       "      <td>안녕하세요. 우리은행입니다. 먼저 우리WON뱅킹 이용에 불편을 드려 죄송합니다. 보...</td>\n",
       "      <td>우리</td>\n",
       "    </tr>\n",
       "    <tr>\n",
       "      <th>3</th>\n",
       "      <td>2024-02-15</td>\n",
       "      <td>3</td>\n",
       "      <td>몇 년째 만족하며 사용중이라 조금식 개선되어거는 모습에 만족하며 사용중입니다. 하지...</td>\n",
       "      <td>안녕하세요? 뱅크샐러드 고객감동팀입니다. 뱅크샐러드에 KB pay를 연결해 모든 자...</td>\n",
       "      <td>뱅크샐러드</td>\n",
       "    </tr>\n",
       "    <tr>\n",
       "      <th>4</th>\n",
       "      <td>2023-06-19</td>\n",
       "      <td>5</td>\n",
       "      <td>스타뱅킹을 사용 하고나서부터 편안해서 좋아요</td>\n",
       "      <td>한송림 고객님, 안녕하세요! KB스타뱅킹을 이용해 주셔서 진심으로 감사드립니다. 앞...</td>\n",
       "      <td>국민</td>\n",
       "    </tr>\n",
       "  </tbody>\n",
       "</table>\n",
       "</div>"
      ],
      "text/plain": [
       "          리뷰일  평점                                              사용자리뷰  \\\n",
       "0  2024-02-08   5                                         고경민계장님감사해요   \n",
       "1  2023-07-24   5  저축목표피드 새로 생긴거 너무좋은데 분명 카테고리를 저축으로 했는데 왜 인식이 안되...   \n",
       "2  2023-09-25   1  아니 이딴걸 편리하게 사용하는앱이라고 쳐만들엇나 이렇게 불편하게만든건 일부러그런거에...   \n",
       "3  2024-02-15   3  몇 년째 만족하며 사용중이라 조금식 개선되어거는 모습에 만족하며 사용중입니다. 하지...   \n",
       "4  2023-06-19   5                           스타뱅킹을 사용 하고나서부터 편안해서 좋아요   \n",
       "\n",
       "                                                업체답변    은행명  \n",
       "0  안녕하세요 최순녀 고객님. 칭찬 진심으로 감사드리며, 더욱 편리하고 안정적인 서비스...     우리  \n",
       "1  신아​ 님, 안녕하세요? 뱅크샐러드 고객감동팀​입니다. 소중한 시간내어 고객센터에 ...  뱅크샐러드  \n",
       "2  안녕하세요. 우리은행입니다. 먼저 우리WON뱅킹 이용에 불편을 드려 죄송합니다. 보...     우리  \n",
       "3  안녕하세요? 뱅크샐러드 고객감동팀입니다. 뱅크샐러드에 KB pay를 연결해 모든 자...  뱅크샐러드  \n",
       "4  한송림 고객님, 안녕하세요! KB스타뱅킹을 이용해 주셔서 진심으로 감사드립니다. 앞...     국민  "
      ]
     },
     "execution_count": 4,
     "metadata": {},
     "output_type": "execute_result"
    }
   ],
   "source": [
    "test_data = pd.read_csv(\"./data/bank_app_reviews_test.csv\")\n",
    "test_data.head()"
   ]
  },
  {
   "cell_type": "code",
   "execution_count": 5,
   "id": "884a8924",
   "metadata": {},
   "outputs": [],
   "source": [
    "import re\n",
    "\n",
    "def clean_text(text):\n",
    "    cleaned = re.sub(r'[^가-힣a-zA-Z0-9\\s]','', text) #한글, 영문, 숫자\n",
    "    cleaned = re.sub(r'\\s+', ' ', cleaned) # 연속된 공백을 하나의 공백\n",
    "    return cleaned.strip()"
   ]
  },
  {
   "cell_type": "code",
   "execution_count": 6,
   "id": "6cc6f113",
   "metadata": {},
   "outputs": [
    {
     "data": {
      "text/plain": [
       "0                                              고경민계장님감사해요\n",
       "1       저축목표피드 새로 생긴거 너무좋은데 분명 카테고리를 저축으로 했는데 왜 인식이 안되...\n",
       "2         아니 이딴걸 편리하게 사용하는앱이라고 쳐만들엇나 이렇게 불편하게만든건 일부러그런거에요\n",
       "3       몇 년째 만족하며 사용중이라 조금식 개선되어거는 모습에 만족하며 사용중입니다 하지만...\n",
       "4                                스타뱅킹을 사용 하고나서부터 편안해서 좋아요\n",
       "                              ...                        \n",
       "9529    만보기 이벤트는 실망스러워요 후기 말투 다 똑같고 사기 맞죠 양심이 참 정직하게 확...\n",
       "9530                   기능이 많아 다 사용해보진 못 했지만 대체적으로 편한거 같아요\n",
       "9531                                                편리하네요\n",
       "9532                                            사용하기 편리해요\n",
       "9533    너무 후져서 오랜만에 어플이용하다가 욕했답니다 인증방식이 2010년대에 머물러계심 ...\n",
       "Name: 사용자리뷰, Length: 9534, dtype: object"
      ]
     },
     "execution_count": 6,
     "metadata": {},
     "output_type": "execute_result"
    }
   ],
   "source": [
    "test_data['사용자리뷰'] = test_data['사용자리뷰'].apply(clean_text)\n",
    "test_data['사용자리뷰']"
   ]
  },
  {
   "cell_type": "code",
   "execution_count": 7,
   "id": "1305a524",
   "metadata": {},
   "outputs": [
    {
     "data": {
      "text/plain": [
       "0       1\n",
       "1       1\n",
       "2       0\n",
       "3       0\n",
       "4       1\n",
       "       ..\n",
       "9529    0\n",
       "9530    1\n",
       "9531    1\n",
       "9532    1\n",
       "9533    0\n",
       "Name: is_good, Length: 9534, dtype: int64"
      ]
     },
     "execution_count": 7,
     "metadata": {},
     "output_type": "execute_result"
    }
   ],
   "source": [
    "test_data['is_good'] = test_data['평점'].apply(lambda x: 1 if x >=4 else 0)\n",
    "test_data['is_good']"
   ]
  },
  {
   "cell_type": "markdown",
   "id": "ea73105e",
   "metadata": {},
   "source": [
    "## train에서 사용했던 tokenizer 불러와서 원핫인코딩 수행"
   ]
  },
  {
   "cell_type": "code",
   "execution_count": 8,
   "id": "428843bb",
   "metadata": {},
   "outputs": [],
   "source": [
    "mecab = Mecab()"
   ]
  },
  {
   "cell_type": "code",
   "execution_count": 10,
   "id": "16d86e9a",
   "metadata": {},
   "outputs": [
    {
     "data": {
      "text/plain": [
       "['고경민', '계장', '님', '감사', '해요']"
      ]
     },
     "execution_count": 10,
     "metadata": {},
     "output_type": "execute_result"
    }
   ],
   "source": [
    "tokenized_docs = test_data['사용자리뷰'].apply(mecab.morphs)\n",
    "tokenized_docs[0]"
   ]
  },
  {
   "cell_type": "code",
   "execution_count": 11,
   "id": "b90615e9",
   "metadata": {},
   "outputs": [],
   "source": [
    "import joblib"
   ]
  },
  {
   "cell_type": "code",
   "execution_count": 12,
   "id": "9cc3b11f",
   "metadata": {},
   "outputs": [],
   "source": [
    "token = joblib.load(\"./model/bank_app_tokenizer.joblib\")"
   ]
  },
  {
   "cell_type": "code",
   "execution_count": 14,
   "id": "70b6b707",
   "metadata": {},
   "outputs": [
    {
     "name": "stdout",
     "output_type": "stream",
     "text": [
      "[6248, 327, 111, 71]\n"
     ]
    }
   ],
   "source": [
    "x = token.texts_to_sequences(tokenized_docs)\n",
    "print(x[0])"
   ]
  },
  {
   "cell_type": "markdown",
   "id": "8dcd44f9",
   "metadata": {},
   "source": [
    "## train에서 사용했던 패딩 길이(모델에 넣을 컬럼의 수)"
   ]
  },
  {
   "cell_type": "code",
   "execution_count": 17,
   "id": "1a320a2e",
   "metadata": {},
   "outputs": [
    {
     "name": "stdout",
     "output_type": "stream",
     "text": [
      "302\n"
     ]
    }
   ],
   "source": [
    "max_length = joblib.load(\"./model/bank_app_max_length.joblib\")\n",
    "print(max_length)"
   ]
  },
  {
   "cell_type": "code",
   "execution_count": 18,
   "id": "78f0798d",
   "metadata": {},
   "outputs": [
    {
     "name": "stdout",
     "output_type": "stream",
     "text": [
      "[ 216  717  370 1524   39   44    8  148 1025  724   27 1033   31   43\n",
      "   14   51  117    3    6    9    4  861  117    9  414  224  112    9\n",
      "  164  409 2261 1336   20    0    0    0    0    0    0    0    0    0\n",
      "    0    0    0    0    0    0    0    0    0    0    0    0    0    0\n",
      "    0    0    0    0    0    0    0    0    0    0    0    0    0    0\n",
      "    0    0    0    0    0    0    0    0    0    0    0    0    0    0\n",
      "    0    0    0    0    0    0    0    0    0    0    0    0    0    0\n",
      "    0    0    0    0    0    0    0    0    0    0    0    0    0    0\n",
      "    0    0    0    0    0    0    0    0    0    0    0    0    0    0\n",
      "    0    0    0    0    0    0    0    0    0    0    0    0    0    0\n",
      "    0    0    0    0    0    0    0    0    0    0    0    0    0    0\n",
      "    0    0    0    0    0    0    0    0    0    0    0    0    0    0\n",
      "    0    0    0    0    0    0    0    0    0    0    0    0    0    0\n",
      "    0    0    0    0    0    0    0    0    0    0    0    0    0    0\n",
      "    0    0    0    0    0    0    0    0    0    0    0    0    0    0\n",
      "    0    0    0    0    0    0    0    0    0    0    0    0    0    0\n",
      "    0    0    0    0    0    0    0    0    0    0    0    0    0    0\n",
      "    0    0    0    0    0    0    0    0    0    0    0    0    0    0\n",
      "    0    0    0    0    0    0    0    0    0    0    0    0    0    0\n",
      "    0    0    0    0    0    0    0    0    0    0    0    0    0    0\n",
      "    0    0    0    0    0    0    0    0    0    0    0    0    0    0\n",
      "    0    0    0    0    0    0    0    0]\n"
     ]
    }
   ],
   "source": [
    "X_padded = pad_sequences(x, maxlen=max_length, padding='post')\n",
    "print(X_padded[1])"
   ]
  },
  {
   "cell_type": "code",
   "execution_count": 21,
   "id": "bb74dc13",
   "metadata": {},
   "outputs": [
    {
     "data": {
      "text/plain": [
       "0       1\n",
       "1       1\n",
       "2       0\n",
       "3       0\n",
       "4       1\n",
       "       ..\n",
       "9529    0\n",
       "9530    1\n",
       "9531    1\n",
       "9532    1\n",
       "9533    0\n",
       "Name: is_good, Length: 9534, dtype: int64"
      ]
     },
     "execution_count": 21,
     "metadata": {},
     "output_type": "execute_result"
    }
   ],
   "source": [
    "y = test_data['is_good']\n",
    "y"
   ]
  },
  {
   "cell_type": "markdown",
   "id": "e9da7f96",
   "metadata": {},
   "source": [
    "# 모델 불러와서 예측하고 결과 비교하기"
   ]
  },
  {
   "cell_type": "code",
   "execution_count": 24,
   "id": "4642936a",
   "metadata": {},
   "outputs": [
    {
     "name": "stderr",
     "output_type": "stream",
     "text": [
      "I0000 00:00:1747887871.407992    2944 gpu_device.cc:2019] Created device /job:localhost/replica:0/task:0/device:GPU:0 with 1347 MB memory:  -> device: 0, name: NVIDIA GeForce MX450, pci bus id: 0000:01:00.0, compute capability: 7.5\n"
     ]
    }
   ],
   "source": [
    "birnn_bast = load_model(\"./model/bank_app_review_birnn.keras\")\n",
    "cnn_lstm_best = load_model(\"./model/bank_app_review_lstm_cnn.keras\")\n",
    "attn_best = load_model(\"./model/bank_app_review_attn_model.keras\")\n"
   ]
  },
  {
   "cell_type": "code",
   "execution_count": 25,
   "id": "6b79ab76",
   "metadata": {},
   "outputs": [
    {
     "name": "stderr",
     "output_type": "stream",
     "text": [
      "WARNING: All log messages before absl::InitializeLog() is called are written to STDERR\n",
      "I0000 00:00:1747887942.670112    5796 service.cc:152] XLA service 0x55bc2ba942b0 initialized for platform CUDA (this does not guarantee that XLA will be used). Devices:\n",
      "I0000 00:00:1747887942.670429    5796 service.cc:160]   StreamExecutor device (0): NVIDIA GeForce MX450, Compute Capability 7.5\n",
      "2025-05-22 13:25:42.818737: I tensorflow/compiler/mlir/tensorflow/utils/dump_mlir_util.cc:269] disabling MLIR crash reproducer, set env var `MLIR_CRASH_REPRODUCER_DIRECTORY` to enable.\n",
      "I0000 00:00:1747887943.096111    5796 cuda_dnn.cc:529] Loaded cuDNN version 90300\n"
     ]
    },
    {
     "name": "stdout",
     "output_type": "stream",
     "text": [
      "\u001b[1m  5/298\u001b[0m \u001b[37m━━━━━━━━━━━━━━━━━━━━\u001b[0m \u001b[1m10s\u001b[0m 37ms/step"
     ]
    },
    {
     "name": "stderr",
     "output_type": "stream",
     "text": [
      "I0000 00:00:1747887945.241081    5796 device_compiler.h:188] Compiled cluster using XLA!  This line is logged at most once for the lifetime of the process.\n"
     ]
    },
    {
     "name": "stdout",
     "output_type": "stream",
     "text": [
      "\u001b[1m298/298\u001b[0m \u001b[32m━━━━━━━━━━━━━━━━━━━━\u001b[0m\u001b[37m\u001b[0m \u001b[1m21s\u001b[0m 57ms/step\n",
      "\u001b[1m298/298\u001b[0m \u001b[32m━━━━━━━━━━━━━━━━━━━━\u001b[0m\u001b[37m\u001b[0m \u001b[1m20s\u001b[0m 46ms/step\n",
      "\u001b[1m298/298\u001b[0m \u001b[32m━━━━━━━━━━━━━━━━━━━━\u001b[0m\u001b[37m\u001b[0m \u001b[1m39s\u001b[0m 120ms/step\n"
     ]
    }
   ],
   "source": [
    "birnn_pred = birnn_bast.predict(X_padded)\n",
    "cnn_lstm_pred = cnn_lstm_best.predict(X_padded)\n",
    "attn_pred = attn_best.predict(X_padded)"
   ]
  },
  {
   "cell_type": "code",
   "execution_count": 26,
   "id": "39728831",
   "metadata": {},
   "outputs": [],
   "source": [
    "birnn_pred = pd.DataFrame(birnn_pred)\n",
    "cnn_lstm_pred = pd.DataFrame(cnn_lstm_pred)\n",
    "attn_pred = pd.DataFrame(attn_pred)"
   ]
  },
  {
   "cell_type": "code",
   "execution_count": 32,
   "id": "e8c894ad",
   "metadata": {},
   "outputs": [],
   "source": [
    "y = pd.DataFrame(y)"
   ]
  },
  {
   "cell_type": "code",
   "execution_count": 34,
   "id": "9a5019d2",
   "metadata": {},
   "outputs": [],
   "source": [
    "birnn_result = y.join(birnn_pred)\n",
    "cnn_lstm_result = y.join(cnn_lstm_pred)\n",
    "attn_result = y.join(attn_pred)"
   ]
  },
  {
   "cell_type": "code",
   "execution_count": 37,
   "id": "b8da8db9",
   "metadata": {},
   "outputs": [],
   "source": [
    "birnn_result.loc[:, 0] = birnn_result.loc[:, 0].apply(lambda x: 1 if x>0.5 else 0)\n",
    "cnn_lstm_result.loc[:, 0] = cnn_lstm_result.loc[:, 0].apply(lambda x: 1 if x>0.5 else 0)\n",
    "attn_result.loc[:, 0] = attn_result.loc[:, 0].apply(lambda x: 1 if x>0.5 else 0)"
   ]
  },
  {
   "cell_type": "code",
   "execution_count": 49,
   "id": "337f1f61",
   "metadata": {},
   "outputs": [
    {
     "data": {
      "text/html": [
       "<div>\n",
       "<style scoped>\n",
       "    .dataframe tbody tr th:only-of-type {\n",
       "        vertical-align: middle;\n",
       "    }\n",
       "\n",
       "    .dataframe tbody tr th {\n",
       "        vertical-align: top;\n",
       "    }\n",
       "\n",
       "    .dataframe thead th {\n",
       "        text-align: right;\n",
       "    }\n",
       "</style>\n",
       "<table border=\"1\" class=\"dataframe\">\n",
       "  <thead>\n",
       "    <tr style=\"text-align: right;\">\n",
       "      <th></th>\n",
       "      <th>is_good</th>\n",
       "      <th>0</th>\n",
       "    </tr>\n",
       "  </thead>\n",
       "  <tbody>\n",
       "    <tr>\n",
       "      <th>0</th>\n",
       "      <td>1</td>\n",
       "      <td>1.0</td>\n",
       "    </tr>\n",
       "    <tr>\n",
       "      <th>1</th>\n",
       "      <td>1</td>\n",
       "      <td>1.0</td>\n",
       "    </tr>\n",
       "    <tr>\n",
       "      <th>2</th>\n",
       "      <td>0</td>\n",
       "      <td>0.0</td>\n",
       "    </tr>\n",
       "    <tr>\n",
       "      <th>3</th>\n",
       "      <td>0</td>\n",
       "      <td>1.0</td>\n",
       "    </tr>\n",
       "    <tr>\n",
       "      <th>4</th>\n",
       "      <td>1</td>\n",
       "      <td>1.0</td>\n",
       "    </tr>\n",
       "    <tr>\n",
       "      <th>...</th>\n",
       "      <td>...</td>\n",
       "      <td>...</td>\n",
       "    </tr>\n",
       "    <tr>\n",
       "      <th>9529</th>\n",
       "      <td>0</td>\n",
       "      <td>0.0</td>\n",
       "    </tr>\n",
       "    <tr>\n",
       "      <th>9530</th>\n",
       "      <td>1</td>\n",
       "      <td>1.0</td>\n",
       "    </tr>\n",
       "    <tr>\n",
       "      <th>9531</th>\n",
       "      <td>1</td>\n",
       "      <td>1.0</td>\n",
       "    </tr>\n",
       "    <tr>\n",
       "      <th>9532</th>\n",
       "      <td>1</td>\n",
       "      <td>1.0</td>\n",
       "    </tr>\n",
       "    <tr>\n",
       "      <th>9533</th>\n",
       "      <td>0</td>\n",
       "      <td>0.0</td>\n",
       "    </tr>\n",
       "  </tbody>\n",
       "</table>\n",
       "<p>9534 rows × 2 columns</p>\n",
       "</div>"
      ],
      "text/plain": [
       "      is_good    0\n",
       "0           1  1.0\n",
       "1           1  1.0\n",
       "2           0  0.0\n",
       "3           0  1.0\n",
       "4           1  1.0\n",
       "...       ...  ...\n",
       "9529        0  0.0\n",
       "9530        1  1.0\n",
       "9531        1  1.0\n",
       "9532        1  1.0\n",
       "9533        0  0.0\n",
       "\n",
       "[9534 rows x 2 columns]"
      ]
     },
     "execution_count": 49,
     "metadata": {},
     "output_type": "execute_result"
    }
   ],
   "source": [
    "birnn_result"
   ]
  },
  {
   "cell_type": "code",
   "execution_count": 50,
   "id": "2c193ec1",
   "metadata": {},
   "outputs": [
    {
     "data": {
      "text/html": [
       "<div>\n",
       "<style scoped>\n",
       "    .dataframe tbody tr th:only-of-type {\n",
       "        vertical-align: middle;\n",
       "    }\n",
       "\n",
       "    .dataframe tbody tr th {\n",
       "        vertical-align: top;\n",
       "    }\n",
       "\n",
       "    .dataframe thead th {\n",
       "        text-align: right;\n",
       "    }\n",
       "</style>\n",
       "<table border=\"1\" class=\"dataframe\">\n",
       "  <thead>\n",
       "    <tr style=\"text-align: right;\">\n",
       "      <th></th>\n",
       "      <th>is_good</th>\n",
       "      <th>0</th>\n",
       "    </tr>\n",
       "  </thead>\n",
       "  <tbody>\n",
       "    <tr>\n",
       "      <th>0</th>\n",
       "      <td>1</td>\n",
       "      <td>1.0</td>\n",
       "    </tr>\n",
       "    <tr>\n",
       "      <th>1</th>\n",
       "      <td>1</td>\n",
       "      <td>0.0</td>\n",
       "    </tr>\n",
       "    <tr>\n",
       "      <th>2</th>\n",
       "      <td>0</td>\n",
       "      <td>0.0</td>\n",
       "    </tr>\n",
       "    <tr>\n",
       "      <th>3</th>\n",
       "      <td>0</td>\n",
       "      <td>1.0</td>\n",
       "    </tr>\n",
       "    <tr>\n",
       "      <th>4</th>\n",
       "      <td>1</td>\n",
       "      <td>1.0</td>\n",
       "    </tr>\n",
       "    <tr>\n",
       "      <th>...</th>\n",
       "      <td>...</td>\n",
       "      <td>...</td>\n",
       "    </tr>\n",
       "    <tr>\n",
       "      <th>9529</th>\n",
       "      <td>0</td>\n",
       "      <td>0.0</td>\n",
       "    </tr>\n",
       "    <tr>\n",
       "      <th>9530</th>\n",
       "      <td>1</td>\n",
       "      <td>1.0</td>\n",
       "    </tr>\n",
       "    <tr>\n",
       "      <th>9531</th>\n",
       "      <td>1</td>\n",
       "      <td>1.0</td>\n",
       "    </tr>\n",
       "    <tr>\n",
       "      <th>9532</th>\n",
       "      <td>1</td>\n",
       "      <td>1.0</td>\n",
       "    </tr>\n",
       "    <tr>\n",
       "      <th>9533</th>\n",
       "      <td>0</td>\n",
       "      <td>0.0</td>\n",
       "    </tr>\n",
       "  </tbody>\n",
       "</table>\n",
       "<p>9534 rows × 2 columns</p>\n",
       "</div>"
      ],
      "text/plain": [
       "      is_good    0\n",
       "0           1  1.0\n",
       "1           1  0.0\n",
       "2           0  0.0\n",
       "3           0  1.0\n",
       "4           1  1.0\n",
       "...       ...  ...\n",
       "9529        0  0.0\n",
       "9530        1  1.0\n",
       "9531        1  1.0\n",
       "9532        1  1.0\n",
       "9533        0  0.0\n",
       "\n",
       "[9534 rows x 2 columns]"
      ]
     },
     "execution_count": 50,
     "metadata": {},
     "output_type": "execute_result"
    }
   ],
   "source": [
    "cnn_lstm_result"
   ]
  },
  {
   "cell_type": "code",
   "execution_count": 51,
   "id": "4f9cd7f8",
   "metadata": {},
   "outputs": [
    {
     "data": {
      "text/html": [
       "<div>\n",
       "<style scoped>\n",
       "    .dataframe tbody tr th:only-of-type {\n",
       "        vertical-align: middle;\n",
       "    }\n",
       "\n",
       "    .dataframe tbody tr th {\n",
       "        vertical-align: top;\n",
       "    }\n",
       "\n",
       "    .dataframe thead th {\n",
       "        text-align: right;\n",
       "    }\n",
       "</style>\n",
       "<table border=\"1\" class=\"dataframe\">\n",
       "  <thead>\n",
       "    <tr style=\"text-align: right;\">\n",
       "      <th></th>\n",
       "      <th>is_good</th>\n",
       "      <th>0</th>\n",
       "    </tr>\n",
       "  </thead>\n",
       "  <tbody>\n",
       "    <tr>\n",
       "      <th>0</th>\n",
       "      <td>1</td>\n",
       "      <td>1.0</td>\n",
       "    </tr>\n",
       "    <tr>\n",
       "      <th>1</th>\n",
       "      <td>1</td>\n",
       "      <td>1.0</td>\n",
       "    </tr>\n",
       "    <tr>\n",
       "      <th>2</th>\n",
       "      <td>0</td>\n",
       "      <td>0.0</td>\n",
       "    </tr>\n",
       "    <tr>\n",
       "      <th>3</th>\n",
       "      <td>0</td>\n",
       "      <td>1.0</td>\n",
       "    </tr>\n",
       "    <tr>\n",
       "      <th>4</th>\n",
       "      <td>1</td>\n",
       "      <td>1.0</td>\n",
       "    </tr>\n",
       "    <tr>\n",
       "      <th>...</th>\n",
       "      <td>...</td>\n",
       "      <td>...</td>\n",
       "    </tr>\n",
       "    <tr>\n",
       "      <th>9529</th>\n",
       "      <td>0</td>\n",
       "      <td>0.0</td>\n",
       "    </tr>\n",
       "    <tr>\n",
       "      <th>9530</th>\n",
       "      <td>1</td>\n",
       "      <td>1.0</td>\n",
       "    </tr>\n",
       "    <tr>\n",
       "      <th>9531</th>\n",
       "      <td>1</td>\n",
       "      <td>1.0</td>\n",
       "    </tr>\n",
       "    <tr>\n",
       "      <th>9532</th>\n",
       "      <td>1</td>\n",
       "      <td>1.0</td>\n",
       "    </tr>\n",
       "    <tr>\n",
       "      <th>9533</th>\n",
       "      <td>0</td>\n",
       "      <td>0.0</td>\n",
       "    </tr>\n",
       "  </tbody>\n",
       "</table>\n",
       "<p>9534 rows × 2 columns</p>\n",
       "</div>"
      ],
      "text/plain": [
       "      is_good    0\n",
       "0           1  1.0\n",
       "1           1  1.0\n",
       "2           0  0.0\n",
       "3           0  1.0\n",
       "4           1  1.0\n",
       "...       ...  ...\n",
       "9529        0  0.0\n",
       "9530        1  1.0\n",
       "9531        1  1.0\n",
       "9532        1  1.0\n",
       "9533        0  0.0\n",
       "\n",
       "[9534 rows x 2 columns]"
      ]
     },
     "execution_count": 51,
     "metadata": {},
     "output_type": "execute_result"
    }
   ],
   "source": [
    "attn_result"
   ]
  },
  {
   "cell_type": "code",
   "execution_count": 44,
   "id": "f1cf6968",
   "metadata": {},
   "outputs": [],
   "source": [
    "from sklearn.metrics import classification_report"
   ]
  },
  {
   "cell_type": "code",
   "execution_count": 45,
   "id": "08a47763",
   "metadata": {},
   "outputs": [
    {
     "name": "stdout",
     "output_type": "stream",
     "text": [
      "              precision    recall  f1-score   support\n",
      "\n",
      "           0       0.89      0.85      0.87      3862\n",
      "           1       0.90      0.92      0.91      5672\n",
      "\n",
      "    accuracy                           0.90      9534\n",
      "   macro avg       0.89      0.89      0.89      9534\n",
      "weighted avg       0.90      0.90      0.90      9534\n",
      "\n"
     ]
    }
   ],
   "source": [
    "print(classification_report(birnn_result['is_good'], birnn_result[0]))"
   ]
  },
  {
   "cell_type": "code",
   "execution_count": 52,
   "id": "519d0847",
   "metadata": {},
   "outputs": [
    {
     "name": "stdout",
     "output_type": "stream",
     "text": [
      "              precision    recall  f1-score   support\n",
      "\n",
      "           0       0.86      0.89      0.87      3862\n",
      "           1       0.93      0.90      0.91      5672\n",
      "\n",
      "    accuracy                           0.90      9534\n",
      "   macro avg       0.89      0.90      0.89      9534\n",
      "weighted avg       0.90      0.90      0.90      9534\n",
      "\n"
     ]
    }
   ],
   "source": [
    "# 훈련시간과 예측시간 모두 빨랐음 -> 정확도가 비슷하다고 가정하는 경우 빠르게 처리 가능한 모델 사용하는 것이 맞다\n",
    "print(classification_report(cnn_lstm_result['is_good'], cnn_lstm_result[0]))"
   ]
  },
  {
   "cell_type": "code",
   "execution_count": 47,
   "id": "ec843139",
   "metadata": {},
   "outputs": [
    {
     "name": "stdout",
     "output_type": "stream",
     "text": [
      "              precision    recall  f1-score   support\n",
      "\n",
      "           0       0.87      0.89      0.88      3862\n",
      "           1       0.92      0.91      0.91      5672\n",
      "\n",
      "    accuracy                           0.90      9534\n",
      "   macro avg       0.89      0.90      0.90      9534\n",
      "weighted avg       0.90      0.90      0.90      9534\n",
      "\n"
     ]
    }
   ],
   "source": [
    "print(classification_report(attn_result['is_good'], attn_result[0]))"
   ]
  },
  {
   "cell_type": "markdown",
   "id": "0ff74373",
   "metadata": {},
   "source": [
    "## evaluate"
   ]
  },
  {
   "cell_type": "code",
   "execution_count": 55,
   "id": "4be46d34",
   "metadata": {},
   "outputs": [
    {
     "name": "stdout",
     "output_type": "stream",
     "text": [
      "\u001b[1m298/298\u001b[0m \u001b[32m━━━━━━━━━━━━━━━━━━━━\u001b[0m\u001b[37m\u001b[0m \u001b[1m43s\u001b[0m 103ms/step - accuracy: 0.9002 - auc: 0.9509 - loss: 0.2743\n",
      "CPU times: user 38.2 s, sys: 5.12 s, total: 43.3 s\n",
      "Wall time: 43.9 s\n"
     ]
    },
    {
     "data": {
      "text/plain": [
       "[0.2772158086299896, 0.896265983581543, 0.9501931071281433]"
      ]
     },
     "execution_count": 55,
     "metadata": {},
     "output_type": "execute_result"
    }
   ],
   "source": [
    "%%time\n",
    "birnn_bast.evaluate(X_padded, test_data['is_good'])"
   ]
  },
  {
   "cell_type": "code",
   "execution_count": 56,
   "id": "3c6db6f0",
   "metadata": {},
   "outputs": [
    {
     "name": "stdout",
     "output_type": "stream",
     "text": [
      "\u001b[1m298/298\u001b[0m \u001b[32m━━━━━━━━━━━━━━━━━━━━\u001b[0m\u001b[37m\u001b[0m \u001b[1m41s\u001b[0m 106ms/step - accuracy: 0.8996 - auc: 0.9521 - loss: 0.2677\n",
      "CPU times: user 37.8 s, sys: 9.17 s, total: 47 s\n",
      "Wall time: 41.6 s\n"
     ]
    },
    {
     "data": {
      "text/plain": [
       "[0.26952075958251953, 0.8961610794067383, 0.9519997835159302]"
      ]
     },
     "execution_count": 56,
     "metadata": {},
     "output_type": "execute_result"
    }
   ],
   "source": [
    "%%time\n",
    "cnn_lstm_best.evaluate(X_padded, test_data['is_good'])"
   ]
  },
  {
   "cell_type": "code",
   "execution_count": 57,
   "id": "96d86e60",
   "metadata": {},
   "outputs": [
    {
     "name": "stdout",
     "output_type": "stream",
     "text": [
      "\u001b[1m298/298\u001b[0m \u001b[32m━━━━━━━━━━━━━━━━━━━━\u001b[0m\u001b[37m\u001b[0m \u001b[1m46s\u001b[0m 135ms/step - accuracy: 0.9022 - auc: 0.9586 - loss: 0.2488\n",
      "CPU times: user 37.2 s, sys: 7.64 s, total: 44.8 s\n",
      "Wall time: 46.4 s\n"
     ]
    },
    {
     "data": {
      "text/plain": [
       "[0.25195175409317017, 0.8985735177993774, 0.9580655097961426]"
      ]
     },
     "execution_count": 57,
     "metadata": {},
     "output_type": "execute_result"
    }
   ],
   "source": [
    "%%time\n",
    "attn_best.evaluate(X_padded, test_data['is_good'])"
   ]
  },
  {
   "cell_type": "code",
   "execution_count": null,
   "id": "9a71984b",
   "metadata": {},
   "outputs": [],
   "source": []
  },
  {
   "cell_type": "code",
   "execution_count": null,
   "id": "9c2af405",
   "metadata": {},
   "outputs": [],
   "source": []
  }
 ],
 "metadata": {
  "kernelspec": {
   "display_name": "Python 3 (ipykernel)",
   "language": "python",
   "name": "python3"
  },
  "language_info": {
   "codemirror_mode": {
    "name": "ipython",
    "version": 3
   },
   "file_extension": ".py",
   "mimetype": "text/x-python",
   "name": "python",
   "nbconvert_exporter": "python",
   "pygments_lexer": "ipython3",
   "version": "3.10.17"
  }
 },
 "nbformat": 4,
 "nbformat_minor": 5
}
