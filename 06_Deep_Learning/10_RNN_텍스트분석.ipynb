{
 "cells": [
  {
   "cell_type": "markdown",
   "id": "ec66cb04",
   "metadata": {},
   "source": [
    "# RNN_텍스트분석"
   ]
  },
  {
   "cell_type": "code",
   "execution_count": 2,
   "id": "3d5a0316",
   "metadata": {},
   "outputs": [],
   "source": [
    "from tensorflow.keras.preprocessing.text import Tokenizer, text_to_word_sequence\n",
    "from tensorflow.keras.preprocessing.sequence import pad_sequences\n",
    "from tensorflow.keras.models import Sequential\n",
    "from tensorflow.keras.layers import Dense, Flatten, Embedding\n",
    "from tensorflow.keras.utils import to_categorical\n",
    "import pandas as pd\n",
    "import numpy as np"
   ]
  },
  {
   "cell_type": "markdown",
   "id": "16dbfa6d",
   "metadata": {},
   "source": [
    "# Tensorflow에서 텍스트 전처리\n",
    "- 토큰화 : 문장을 단어 혹은 형태소로 쪼개는 것\n",
    "- 원핫인코딩 : 문자를 벡터화\n",
    "- 임베딩(Embedding) : 벡터화 -> 원핫인코딩을 더 축소\n"
   ]
  },
  {
   "cell_type": "code",
   "execution_count": 3,
   "id": "0e0b65df",
   "metadata": {},
   "outputs": [],
   "source": [
    "text = \"해보지 않으면 해낼 수 없다\""
   ]
  },
  {
   "cell_type": "code",
   "execution_count": 4,
   "id": "edc9bb90",
   "metadata": {},
   "outputs": [
    {
     "data": {
      "text/plain": [
       "['해보지', '않으면', '해낼', '수', '없다']"
      ]
     },
     "execution_count": 4,
     "metadata": {},
     "output_type": "execute_result"
    }
   ],
   "source": [
    "result = text_to_word_sequence(text)\n",
    "result"
   ]
  },
  {
   "cell_type": "markdown",
   "id": "7cf830c8",
   "metadata": {},
   "source": [
    "### 단어 빈도수 세기"
   ]
  },
  {
   "cell_type": "code",
   "execution_count": 5,
   "id": "8c3fdd40",
   "metadata": {},
   "outputs": [],
   "source": [
    "docs = ['먼저 텍스트의 각 단어를 나누어 토큰화 합니다.',\n",
    "       '텍스트의 단어로 트큰화해야 딥러닝에서 인식됩니다.',\n",
    "       '토근화한 결과는 딥러닝에서 사용할 수 있습니다.',\n",
    "       '텍스트 전처리에는 벡터화 원핫인코딩 패딩으로 길이 맞추기 등이 필요합니다.',\n",
    "       '딥러닝 쉽지 않네요.']"
   ]
  },
  {
   "cell_type": "code",
   "execution_count": 7,
   "id": "dcfa5624",
   "metadata": {},
   "outputs": [
    {
     "name": "stdout",
     "output_type": "stream",
     "text": [
      "단어 count:  OrderedDict([('먼저', 1), ('텍스트의', 2), ('각', 1), ('단어를', 1), ('나누어', 1), ('토큰화', 1), ('합니다', 1), ('단어로', 1), ('트큰화해야', 1), ('딥러닝에서', 2), ('인식됩니다', 1), ('토근화한', 1), ('결과는', 1), ('사용할', 1), ('수', 1), ('있습니다', 1), ('텍스트', 1), ('전처리에는', 1), ('벡터화', 1), ('원핫인코딩', 1), ('패딩으로', 1), ('길이', 1), ('맞추기', 1), ('등이', 1), ('필요합니다', 1), ('딥러닝', 1), ('쉽지', 1), ('않네요', 1)])\n",
      "\n",
      "문장 count:  5\n",
      "\n",
      "각 단어가 몇 개의 문장에 포함되어 있는지 계산:  defaultdict(<class 'int'>, {'합니다': 1, '텍스트의': 2, '먼저': 1, '각': 1, '나누어': 1, '토큰화': 1, '단어를': 1, '딥러닝에서': 2, '인식됩니다': 1, '트큰화해야': 1, '단어로': 1, '토근화한': 1, '있습니다': 1, '결과는': 1, '수': 1, '사용할': 1, '등이': 1, '필요합니다': 1, '맞추기': 1, '벡터화': 1, '패딩으로': 1, '길이': 1, '텍스트': 1, '원핫인코딩': 1, '전처리에는': 1, '않네요': 1, '딥러닝': 1, '쉽지': 1})\n",
      "\n",
      "각 단어에 매겨진 인덱스값:  {'텍스트의': 1, '딥러닝에서': 2, '먼저': 3, '각': 4, '단어를': 5, '나누어': 6, '토큰화': 7, '합니다': 8, '단어로': 9, '트큰화해야': 10, '인식됩니다': 11, '토근화한': 12, '결과는': 13, '사용할': 14, '수': 15, '있습니다': 16, '텍스트': 17, '전처리에는': 18, '벡터화': 19, '원핫인코딩': 20, '패딩으로': 21, '길이': 22, '맞추기': 23, '등이': 24, '필요합니다': 25, '딥러닝': 26, '쉽지': 27, '않네요': 28}\n",
      "\n"
     ]
    }
   ],
   "source": [
    "token = Tokenizer()\n",
    "token.fit_on_texts(docs)\n",
    "\n",
    "print('단어 count: ', token.word_counts, end='\\n\\n')\n",
    "print('문장 count: ', token.document_count, end='\\n\\n')\n",
    "print('각 단어가 몇 개의 문장에 포함되어 있는지 계산: ', token.word_docs, end='\\n\\n')\n",
    "print('각 단어에 매겨진 인덱스값: ', token.word_index, end='\\n\\n')"
   ]
  },
  {
   "cell_type": "code",
   "execution_count": 8,
   "id": "1e9d72b7",
   "metadata": {},
   "outputs": [
    {
     "name": "stdout",
     "output_type": "stream",
     "text": [
      "[[3, 1, 4, 5, 6, 7, 8], [1, 9, 10, 2, 11], [12, 13, 2, 14, 15, 16], [17, 18, 19, 20, 21, 22, 23, 24, 25], [26, 27, 28]]\n"
     ]
    }
   ],
   "source": [
    "x = token.texts_to_sequences(docs)\n",
    "print(x)"
   ]
  },
  {
   "cell_type": "markdown",
   "id": "1f06719d",
   "metadata": {},
   "source": [
    "### 가장 긴 벡터의 길이 추출"
   ]
  },
  {
   "cell_type": "code",
   "execution_count": 10,
   "id": "1d629a70",
   "metadata": {},
   "outputs": [
    {
     "data": {
      "text/plain": [
       "9"
      ]
     },
     "execution_count": 10,
     "metadata": {},
     "output_type": "execute_result"
    }
   ],
   "source": [
    "# doc에서 가장 긴 길이를 가진 문장\n",
    "max([len(i) for i in x])"
   ]
  },
  {
   "cell_type": "markdown",
   "id": "143ff810",
   "metadata": {},
   "source": [
    "## 가장 긴 길이의 문장에 맞추어 패딩 수행\n",
    "- 가장 긴 문장 길이 + 1 의 길이로 패딩 진행\n",
    "- 문장의 시작에는 반드시 0이 있어야 함\n",
    "    "
   ]
  },
  {
   "cell_type": "code",
   "execution_count": 12,
   "id": "997f4bc8",
   "metadata": {},
   "outputs": [
    {
     "data": {
      "text/plain": [
       "array([[ 0,  0,  0,  3,  1,  4,  5,  6,  7,  8],\n",
       "       [ 0,  0,  0,  0,  0,  1,  9, 10,  2, 11],\n",
       "       [ 0,  0,  0,  0, 12, 13,  2, 14, 15, 16],\n",
       "       [ 0, 17, 18, 19, 20, 21, 22, 23, 24, 25],\n",
       "       [ 0,  0,  0,  0,  0,  0,  0, 26, 27, 28]])"
      ]
     },
     "execution_count": 12,
     "metadata": {},
     "output_type": "execute_result"
    }
   ],
   "source": [
    "padded_x = pad_sequences(x, max([len(i) for i in x])+1)\n",
    "padded_x"
   ]
  },
  {
   "cell_type": "code",
   "execution_count": 13,
   "id": "9de01ffe",
   "metadata": {},
   "outputs": [
    {
     "data": {
      "text/plain": [
       "(5, 10)"
      ]
     },
     "execution_count": 13,
     "metadata": {},
     "output_type": "execute_result"
    }
   ],
   "source": [
    "padded_x.shape"
   ]
  },
  {
   "cell_type": "markdown",
   "id": "1bb56a36",
   "metadata": {},
   "source": [
    "# 텍스트를 읽고 긍정, 부정 예측\n"
   ]
  },
  {
   "cell_type": "code",
   "execution_count": null,
   "id": "2f074b67",
   "metadata": {},
   "outputs": [],
   "source": [
    "docs2 = ['너무 재밌있네요','최고에요.', '참 신기한 디러닝이네요.', \n",
    "         '인공지능 칭찬합니다', '변화가 너무 빨라요', 'GPT 성능이 생각보다 별로네요.',\n",
    "        '제미나이보다는 낫죠', '나는 차라리 라마를 쓴다.', '유료 결제는 싫어요.']"
   ]
  },
  {
   "cell_type": "code",
   "execution_count": null,
   "id": "dfa3e590",
   "metadata": {},
   "outputs": [],
   "source": []
  },
  {
   "cell_type": "code",
   "execution_count": null,
   "id": "de761a4d",
   "metadata": {},
   "outputs": [],
   "source": []
  },
  {
   "cell_type": "code",
   "execution_count": null,
   "id": "1407733a",
   "metadata": {},
   "outputs": [],
   "source": []
  }
 ],
 "metadata": {
  "kernelspec": {
   "display_name": "Python 3 (ipykernel)",
   "language": "python",
   "name": "python3"
  },
  "language_info": {
   "codemirror_mode": {
    "name": "ipython",
    "version": 3
   },
   "file_extension": ".py",
   "mimetype": "text/x-python",
   "name": "python",
   "nbconvert_exporter": "python",
   "pygments_lexer": "ipython3",
   "version": "3.10.17"
  }
 },
 "nbformat": 4,
 "nbformat_minor": 5
}
