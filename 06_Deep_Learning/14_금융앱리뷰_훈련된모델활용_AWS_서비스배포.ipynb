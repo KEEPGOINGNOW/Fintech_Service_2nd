{
 "cells": [
  {
   "cell_type": "markdown",
   "id": "c807f8bf",
   "metadata": {},
   "source": [
    "## 금융앱리뷰_훈련된모델활용_AWS_서비스배포"
   ]
  },
  {
   "cell_type": "code",
   "execution_count": 1,
   "id": "8c2908d9",
   "metadata": {},
   "outputs": [
    {
     "data": {
      "text/plain": [
       "['형태소', '분석', '기', '테스트']"
      ]
     },
     "execution_count": 1,
     "metadata": {},
     "output_type": "execute_result"
    }
   ],
   "source": [
    "from konlpy.tag import Okt\n",
    "okt = Okt()\n",
    "okt.nouns('형태소 분석기 테스트')"
   ]
  },
  {
   "cell_type": "markdown",
   "id": "b32af3d4",
   "metadata": {},
   "source": [
    "# 서비스 베포\n",
    "베포할 폴더를 따로 생성\n",
    "- 서비스 파일에 다 넣어서 로컬호스트로 실행 확인\n",
    "- 깃헙에서 새로운 레포지터리 생성(review_service)\n",
    "    - 깃헙에 올리고 싶은 파일 위치에서 cmd > git init\n",
    "    - git add . > git status > git commit -m \"review_service_test\"\n",
    "    - git remote add origin git@github.com:KEEPGOINGNOW/review_service.git\n",
    "    - git push -u origin main\n",
    "---\n",
    "\n",
    "- AWS 가입하고 세팅 \n",
    "    - **EC2** : 아마존 리눅스로 선택, t2.medium, 키 페어 생성 : review_service\n",
    "        - 서버 -> 서버 비용 걔산할 때 활용 가능\n",
    "------\n",
    "- MobaXterm 다운로드\n",
    "- MobaXterm > session > Remote host : AWS 퍼블릭 IPv4 주소 > Specify username : ec2-user > Adnaced private key : pem 키 불러오기\n",
    "\n",
    "- 아마존 서버 접속되면 설치 진행\n",
    "    - sudo yum install -y git\n",
    "    - sudo yum install -y docker\n",
    "    - sudo usermod -a -G docker ec2-user : 바로 적용됨docker --version\n",
    "    - exit > press R버튼\n",
    "    - docker --version : 도커 설치되었는지 확인\n",
    "    - sudo curl -L \"https://github.com/docker/compose/releases/latest/download/docker-compose-$(uname -s)-$(uname -m)\" -o /usr/local/bin/docker-compose(그대로 복붙)\n",
    "    - sudo chmod +x /usr/local/bin/docker-compose\n",
    "    - docker-compose --version\n",
    "    \n",
    "----\n",
    "\n",
    "- 깃헙에 연결\n",
    "    - git clone [깃헙의 Code의 HTTPS 복붙]\n",
    "    - git clone https://github.com/KEEPGOINGNOW/review_service.git\n",
    "    - ls : 깃헙의 파일이 바로 연결되었는지 확인\n",
    "    - cd review_service > ls : 파일 확인\n",
    "    - docker-compose up --build -d\n",
    "    - 안되면 sudo service docker start > docker-compose up --build -d\n",
    "    - docker container ls : 현재 도커가 실행되고 있는지 확인\n",
    "    \n",
    "----\n",
    "\n",
    "- 아마존에 들어가서 EC2 > 인스턴스 > 보안그룹 ID > 인바운드 규칙 편집 > 규칙 추가 > 포트범위:7860 > 돋보기:0.0.0.0/0 선택 > 규칙 저장\n",
    "- AWS 퍼블릭 IPv4 주소:포트범위 > 주소창에 쳐서 서비스 실행된다면 베포 된 것\n",
    "- 아마존 인스턴스 > 인스턴스 상태 > 인스턴스 중지 > 인스턴스 상태:중지됨 확인 > 중지된 인스턴스 선택 > 중지 및 삭제 진행 > 인스턴스 제거됨(오래걸림)"
   ]
  },
  {
   "cell_type": "code",
   "execution_count": null,
   "id": "c7e0854d",
   "metadata": {},
   "outputs": [],
   "source": []
  },
  {
   "cell_type": "code",
   "execution_count": null,
   "id": "1918605e",
   "metadata": {},
   "outputs": [],
   "source": []
  },
  {
   "cell_type": "code",
   "execution_count": null,
   "id": "11b64f67",
   "metadata": {},
   "outputs": [],
   "source": []
  },
  {
   "cell_type": "code",
   "execution_count": null,
   "id": "bce3e355",
   "metadata": {},
   "outputs": [],
   "source": []
  },
  {
   "cell_type": "code",
   "execution_count": null,
   "id": "980cc5fa",
   "metadata": {},
   "outputs": [],
   "source": []
  },
  {
   "cell_type": "code",
   "execution_count": null,
   "id": "1ed9fbd3",
   "metadata": {},
   "outputs": [],
   "source": []
  }
 ],
 "metadata": {
  "kernelspec": {
   "display_name": "Python 3 (ipykernel)",
   "language": "python",
   "name": "python3"
  },
  "language_info": {
   "codemirror_mode": {
    "name": "ipython",
    "version": 3
   },
   "file_extension": ".py",
   "mimetype": "text/x-python",
   "name": "python",
   "nbconvert_exporter": "python",
   "pygments_lexer": "ipython3",
   "version": "3.10.17"
  }
 },
 "nbformat": 4,
 "nbformat_minor": 5
}
