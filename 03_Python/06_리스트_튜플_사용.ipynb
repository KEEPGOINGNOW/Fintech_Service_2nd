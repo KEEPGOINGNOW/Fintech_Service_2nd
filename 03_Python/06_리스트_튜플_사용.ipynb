{
 "cells": [
  {
   "cell_type": "markdown",
   "id": "84b072b6",
   "metadata": {},
   "source": [
    "# 리스트와 튜플 사용(초급)"
   ]
  },
  {
   "cell_type": "code",
   "execution_count": 1,
   "id": "3ed0f124",
   "metadata": {},
   "outputs": [],
   "source": [
    "# 정수 할당\n",
    "a = 1\n",
    "b = 2\n",
    "c = 3\n",
    "d = 4\n",
    "e = 5\n"
   ]
  },
  {
   "cell_type": "code",
   "execution_count": 2,
   "id": "a2bbcab2",
   "metadata": {},
   "outputs": [
    {
     "name": "stdout",
     "output_type": "stream",
     "text": [
      "[1, 2, '파이썬', 3.0, [4, 5, 6], (7, 8, '리스트'), True, False] <class 'list'>\n"
     ]
    }
   ],
   "source": [
    "# 리스트 할당 및 확인\n",
    "l = [1,2, \"파이썬\", 3.0,[4,5,6],(7,8,\"리스트\"), True, False]\n",
    "print(l, type(l))\n"
   ]
  },
  {
   "cell_type": "markdown",
   "id": "9df3b038",
   "metadata": {},
   "source": [
    "## 리스트 생성\n",
    "- 대괄호 안에 자료를 나열해서 생성\n",
    "- 내용이 비어있는 리스트 생성 가능 : []\n",
    "- 자료가 1개만 있는 리스트도 생성 가능"
   ]
  },
  {
   "cell_type": "code",
   "execution_count": 1,
   "id": "d0a73c99",
   "metadata": {},
   "outputs": [
    {
     "name": "stdout",
     "output_type": "stream",
     "text": [
      "[1, 2, '파이썬', 3.0, [4, 5, 6], (7, 8, '리스트'), True, False] <class 'list'>\n"
     ]
    }
   ],
   "source": [
    "# 리스트 할당 및 확인\n",
    "l = [1,2, \"파이썬\", 3.0,[4,5,6],(7,8,\"리스트\"), True, False]\n",
    "print(l, type(l))"
   ]
  },
  {
   "cell_type": "code",
   "execution_count": 2,
   "id": "66656564",
   "metadata": {},
   "outputs": [
    {
     "name": "stdout",
     "output_type": "stream",
     "text": [
      "[] <class 'list'>\n",
      "[1] <class 'list'>\n"
     ]
    }
   ],
   "source": [
    "# 비어 있는 리스트 할당 및 확인\n",
    "l2 = []\n",
    "print(l2, type(l2))\n",
    "\n",
    "# 리스트 할당 및 확인\n",
    "l3 = [1]\n",
    "print(l3, type(l3))\n"
   ]
  },
  {
   "cell_type": "markdown",
   "id": "fd568056",
   "metadata": {},
   "source": [
    "## list() : 리스트 형변환 함수"
   ]
  },
  {
   "cell_type": "code",
   "execution_count": 3,
   "id": "515152f0",
   "metadata": {},
   "outputs": [
    {
     "data": {
      "text/plain": [
       "range"
      ]
     },
     "execution_count": 3,
     "metadata": {},
     "output_type": "execute_result"
    }
   ],
   "source": [
    "type(range(1,10))"
   ]
  },
  {
   "cell_type": "code",
   "execution_count": 4,
   "id": "817d0c83",
   "metadata": {},
   "outputs": [
    {
     "name": "stdout",
     "output_type": "stream",
     "text": [
      "[1, 2, 3, 4, 5, 6, 7, 8, 9] <class 'range'>\n"
     ]
    },
    {
     "data": {
      "text/plain": [
       "[1, 2, 3, 4]"
      ]
     },
     "execution_count": 4,
     "metadata": {},
     "output_type": "execute_result"
    }
   ],
   "source": [
    "# 리스트 적용\n",
    "print(list(range(1,10)), type(range(1,10)))\n",
    "\n",
    "# 리스트 적용\n",
    "list((1,2,3,4))"
   ]
  },
  {
   "cell_type": "markdown",
   "id": "84c69f43",
   "metadata": {},
   "source": [
    "## 숫자를 생성해주는 range\n",
    "- range(시작번호, 끝번호+1, step)\n"
   ]
  },
  {
   "cell_type": "code",
   "execution_count": 5,
   "id": "15f8d049",
   "metadata": {},
   "outputs": [
    {
     "name": "stdout",
     "output_type": "stream",
     "text": [
      "[1, 3, 5, 7, 9]\n",
      "[4, 14, 24, 34, 44, 54, 64, 74, 84, 94]\n"
     ]
    },
    {
     "data": {
      "text/plain": [
       "[100, 90, 80, 70, 60, 50, 40, 30, 20, 10]"
      ]
     },
     "execution_count": 5,
     "metadata": {},
     "output_type": "execute_result"
    }
   ],
   "source": [
    "# 시작부터 +2씩 리스트 적용\n",
    "print(list(range(1,11,2)))\n",
    "\n",
    "# 시작부터 +10씩 리스트 적용\n",
    "print(list(range(4,100,10)))\n",
    "\n",
    "# 시작부터 -10씩 1까지 리스트 적용\n",
    "list(range(100,1,-10))"
   ]
  },
  {
   "cell_type": "markdown",
   "id": "5ec8a764",
   "metadata": {},
   "source": [
    "## .append() : 리스트 자료 추가"
   ]
  },
  {
   "cell_type": "code",
   "execution_count": 6,
   "id": "d7c62a66",
   "metadata": {},
   "outputs": [
    {
     "name": "stdout",
     "output_type": "stream",
     "text": [
      "[1, 2, '파이썬', 3.0, [4, 5, 6], (7, 8, '리스트'), True, False, 3, 5.0, 'append', [1, 2, 3], (4, 5, 6), {'key': 'value'}]\n"
     ]
    }
   ],
   "source": [
    "# 리스트 자료 추가\n",
    "l.append(3)\n",
    "l.append(5.0)\n",
    "l.append('append')\n",
    "l.append([1,2,3])\n",
    "l.append((4,5,6))\n",
    "l.append({'key':'value'})\n",
    "print(l)"
   ]
  },
  {
   "cell_type": "markdown",
   "id": "a3161fcb",
   "metadata": {},
   "source": [
    "## insert() : 특정 위치에 자료 추가\n",
    "- insert(추가할 위치의 자료 인덱스, 추가할 값)"
   ]
  },
  {
   "cell_type": "code",
   "execution_count": 7,
   "id": "2c2741a0",
   "metadata": {},
   "outputs": [
    {
     "data": {
      "text/plain": [
       "[1,\n",
       " 2,\n",
       " 3,\n",
       " '파이썬',\n",
       " 3.0,\n",
       " [4, 5, 6],\n",
       " (7, 8, '리스트'),\n",
       " True,\n",
       " False,\n",
       " 3,\n",
       " 5.0,\n",
       " 'append',\n",
       " [1, 2, 3],\n",
       " (4, 5, 6),\n",
       " {'key': 'value'}]"
      ]
     },
     "execution_count": 7,
     "metadata": {},
     "output_type": "execute_result"
    }
   ],
   "source": [
    "# 인덱스 2번에 정수 3 넣기\n",
    "l.insert(2,3)\n",
    "l"
   ]
  },
  {
   "cell_type": "code",
   "execution_count": 8,
   "id": "62439102",
   "metadata": {},
   "outputs": [
    {
     "data": {
      "text/plain": [
       "[1,\n",
       " 2,\n",
       " '삼번',\n",
       " 3,\n",
       " '파이썬',\n",
       " 3.0,\n",
       " [4, 5, 6],\n",
       " (7, 8, '리스트'),\n",
       " True,\n",
       " False,\n",
       " 3,\n",
       " 5.0,\n",
       " 'append',\n",
       " [1, 2, 3],\n",
       " (4, 5, 6),\n",
       " {'key': 'value'}]"
      ]
     },
     "execution_count": 8,
     "metadata": {},
     "output_type": "execute_result"
    }
   ],
   "source": [
    "# 인덱스 2번에 문자열 '삼번' 넣기\n",
    "l.insert(2,'삼번')\n",
    "l"
   ]
  },
  {
   "cell_type": "markdown",
   "id": "d9c98b18",
   "metadata": {},
   "source": [
    "## 리스트의 자료 삭제\n",
    "- del 변수명[인덱스 번호] : 해당 인덱스 번호의 자료 삭제\n",
    "- pop() : 리스트의 가장 끝 자료가 출력되면서 삭제\n",
    "- remove(값) : 리스트의 앞부터 일치하는 값 1개 찾아서 삭제\n"
   ]
  },
  {
   "cell_type": "code",
   "execution_count": 9,
   "id": "a40e2c9a",
   "metadata": {},
   "outputs": [
    {
     "data": {
      "text/plain": [
       "[1,\n",
       " 2,\n",
       " '삼번',\n",
       " 3,\n",
       " '파이썬',\n",
       " 3.0,\n",
       " [4, 5, 6],\n",
       " True,\n",
       " False,\n",
       " 3,\n",
       " 5.0,\n",
       " 'append',\n",
       " [1, 2, 3],\n",
       " (4, 5, 6),\n",
       " {'key': 'value'}]"
      ]
     },
     "execution_count": 9,
     "metadata": {},
     "output_type": "execute_result"
    }
   ],
   "source": [
    "# del 적용\n",
    "del l[7]\n",
    "l"
   ]
  },
  {
   "cell_type": "code",
   "execution_count": 10,
   "id": "1a123522",
   "metadata": {},
   "outputs": [
    {
     "data": {
      "text/plain": [
       "[1,\n",
       " 2,\n",
       " '삼번',\n",
       " 3,\n",
       " '파이썬',\n",
       " 3.0,\n",
       " [4, 5, 6],\n",
       " True,\n",
       " False,\n",
       " 3,\n",
       " 5.0,\n",
       " 'append',\n",
       " [1, 2, 3],\n",
       " (4, 5, 6)]"
      ]
     },
     "execution_count": 10,
     "metadata": {},
     "output_type": "execute_result"
    }
   ],
   "source": [
    "# 맨 마지막 값 pop 적용\n",
    "l.pop()\n",
    "l"
   ]
  },
  {
   "cell_type": "code",
   "execution_count": 11,
   "id": "8e2fd329",
   "metadata": {},
   "outputs": [
    {
     "data": {
      "text/plain": [
       "[1,\n",
       " 2,\n",
       " '삼번',\n",
       " '파이썬',\n",
       " 3.0,\n",
       " [4, 5, 6],\n",
       " True,\n",
       " False,\n",
       " 3,\n",
       " 5.0,\n",
       " 'append',\n",
       " [1, 2, 3],\n",
       " (4, 5, 6)]"
      ]
     },
     "execution_count": 11,
     "metadata": {},
     "output_type": "execute_result"
    }
   ],
   "source": [
    "# remove 적용\n",
    "l.remove(3)\n",
    "l"
   ]
  },
  {
   "cell_type": "markdown",
   "id": "e759422b",
   "metadata": {},
   "source": [
    "## .extend : 리스트 확장\n",
    "- 리스트에 자료를 추가하되, 요소만 추가"
   ]
  },
  {
   "cell_type": "code",
   "execution_count": 12,
   "id": "dcec39de",
   "metadata": {},
   "outputs": [
    {
     "name": "stdout",
     "output_type": "stream",
     "text": [
      "[1, 2, 3, [4, 5, 6]]\n"
     ]
    }
   ],
   "source": [
    "# 리스트 할당\n",
    "a = [1,2,3]\n",
    "b = [4,5,6]\n",
    "\n",
    "# 리스트 자료 추가\n",
    "# 리스트에 리스트 자료 추가하면 리스트 상태로 추가됨\n",
    "a.append(b)\n",
    "print(a)"
   ]
  },
  {
   "cell_type": "code",
   "execution_count": 13,
   "id": "78e7b80d",
   "metadata": {},
   "outputs": [
    {
     "name": "stdout",
     "output_type": "stream",
     "text": [
      "4\n",
      "5\n"
     ]
    }
   ],
   "source": [
    "# 리스트 길이 확인\n",
    "print(len(a))\n",
    "\n",
    "# 리스트 인덱싱\n",
    "print(a[3][1])"
   ]
  },
  {
   "cell_type": "code",
   "execution_count": 14,
   "id": "c3bbfa1e",
   "metadata": {},
   "outputs": [
    {
     "name": "stdout",
     "output_type": "stream",
     "text": [
      "[1, 2, 3, [4, 5, 6], [4, 5, 6]]\n"
     ]
    }
   ],
   "source": [
    "# insert 적용\n",
    "a.insert(4,b)\n",
    "print(a)"
   ]
  },
  {
   "cell_type": "code",
   "execution_count": 16,
   "id": "af1b32b1",
   "metadata": {},
   "outputs": [
    {
     "name": "stdout",
     "output_type": "stream",
     "text": [
      "[1, 2, 3, [4, 5, 6], [4, 5, 6], 7, 8, 9]\n"
     ]
    }
   ],
   "source": [
    "# extend 적용\n",
    "a.extend([7,8,9])\n",
    "print(a)\n"
   ]
  },
  {
   "cell_type": "code",
   "execution_count": 17,
   "id": "06161999",
   "metadata": {},
   "outputs": [
    {
     "name": "stdout",
     "output_type": "stream",
     "text": [
      "[4, 5, 6, 7, 8, 9]\n"
     ]
    }
   ],
   "source": [
    "# 리스트 할당\n",
    "b = [4,5,6]\n",
    "c = [7,8,9]\n",
    "\n",
    "# extend 적용\n",
    "b.extend(c)\n",
    "print(b)"
   ]
  },
  {
   "cell_type": "markdown",
   "id": "029d9cdf",
   "metadata": {},
   "source": [
    "### list + list = .extend() 한 것과 동일한 결과 도출"
   ]
  },
  {
   "cell_type": "code",
   "execution_count": 18,
   "id": "0bbacc1a",
   "metadata": {},
   "outputs": [
    {
     "name": "stdout",
     "output_type": "stream",
     "text": [
      "[4, 5, 6, 7, 8, 9, 7, 8, 9]\n"
     ]
    }
   ],
   "source": [
    "# 리스트 연산 수행\n",
    "b = b + c\n",
    "print(b)"
   ]
  },
  {
   "cell_type": "markdown",
   "id": "4d8a14d4",
   "metadata": {},
   "source": [
    "## 리스트 안에서 원하는 값의 인덱스 찾기\n",
    "- in, not in : 리스트 안에 원하는 값이 있는지 확인\n",
    "- 원하는 값이 있는 위치를 찾을 때 .index(찾을 값)\n",
    "- 동일한 값이 여러 개 있는 경우 가장 앞의 인덱스 반환\n",
    "- 2번째 이상의 자료를 찾기 위해서는 옵션에 시작 인데스 지정\n",
    "- index(찾는 값, 시작인덱스 번호)"
   ]
  },
  {
   "cell_type": "code",
   "execution_count": 15,
   "id": "a401940c",
   "metadata": {},
   "outputs": [
    {
     "name": "stdout",
     "output_type": "stream",
     "text": [
      "[1, 2, 3, [4, 5, 6], [4, 5, 6], 7, 8, 9]\n"
     ]
    }
   ],
   "source": [
    "# a 확인\n",
    "print(a)"
   ]
  },
  {
   "cell_type": "code",
   "execution_count": 16,
   "id": "f1cf122c",
   "metadata": {},
   "outputs": [
    {
     "name": "stdout",
     "output_type": "stream",
     "text": [
      "2\n",
      "0\n"
     ]
    }
   ],
   "source": [
    "# index 적용\n",
    "print(a.index(3))\n",
    "\n",
    "# 인덱싱 후 인덱스 적용\n",
    "print(a[3].index(4))"
   ]
  },
  {
   "cell_type": "code",
   "execution_count": 17,
   "id": "3ba409b6",
   "metadata": {},
   "outputs": [
    {
     "name": "stdout",
     "output_type": "stream",
     "text": [
      "2\n",
      "10\n"
     ]
    }
   ],
   "source": [
    "# extend 적용\n",
    "a.extend([1,2,3])\n",
    "\n",
    "# index 적용(리스트 순서대로 같은 값 중 가장 가까이 있는 값 찾음)\n",
    "print(a.index(3))\n",
    "\n",
    "# index(찾을값, 찾을 시작 위치)\n",
    "print(a.index(3,5))"
   ]
  },
  {
   "cell_type": "code",
   "execution_count": 18,
   "id": "223435de",
   "metadata": {},
   "outputs": [
    {
     "name": "stdout",
     "output_type": "stream",
     "text": [
      "11\n"
     ]
    }
   ],
   "source": [
    "# 리스트 자료 추가 및 인덱스 확인\n",
    "a.append('파이썬')\n",
    "print(a.index('파이썬'))\n"
   ]
  },
  {
   "cell_type": "markdown",
   "id": "ed567bc0",
   "metadata": {},
   "source": [
    "## .count() : 리스트 안에서 특정 값의 개수 구하기"
   ]
  },
  {
   "cell_type": "code",
   "execution_count": 19,
   "id": "6efeae54",
   "metadata": {},
   "outputs": [
    {
     "data": {
      "text/plain": [
       "[1, 2, 3, [4, 5, 6], [4, 5, 6], 7, 8, 9, 1, 2, 3, '파이썬']"
      ]
     },
     "execution_count": 19,
     "metadata": {},
     "output_type": "execute_result"
    }
   ],
   "source": [
    "a"
   ]
  },
  {
   "cell_type": "code",
   "execution_count": 21,
   "id": "625c0379",
   "metadata": {},
   "outputs": [
    {
     "data": {
      "text/plain": [
       "0"
      ]
     },
     "execution_count": 21,
     "metadata": {},
     "output_type": "execute_result"
    }
   ],
   "source": [
    "# count 적용\n",
    "a.count(4)"
   ]
  },
  {
   "cell_type": "markdown",
   "id": "5d4148fd",
   "metadata": {},
   "source": [
    "## .reverse() : 리스트 순서 뒤집기\n",
    "- 실행 즉시 원본 데이터가 변경"
   ]
  },
  {
   "cell_type": "code",
   "execution_count": 22,
   "id": "05bb5cb8",
   "metadata": {},
   "outputs": [
    {
     "name": "stdout",
     "output_type": "stream",
     "text": [
      "[1, 2, 3, [4, 5, 6], [4, 5, 6], 7, 8, 9, 1, 2, 3, '파이썬']\n",
      "--------------------------------------------------\n",
      "['파이썬', 3, 2, 1, 9, 8, 7, [4, 5, 6], [4, 5, 6], 3, 2, 1]\n",
      "--------------------------------------------------\n",
      "[1, 2, 3, [4, 5, 6], [4, 5, 6], 7, 8, 9, 1, 2, 3, '파이썬']\n",
      "--------------------------------------------------\n",
      "['파이썬', 3, 2, 1, 9, 8, 7, [4, 5, 6], [4, 5, 6], 3, 2, 1]\n",
      "[1, 2, 3, [4, 5, 6], [4, 5, 6], 7, 8, 9, 1, 2, 3, '파이썬']\n"
     ]
    }
   ],
   "source": [
    "# a 확인\n",
    "print(a)"
   ]
  },
  {
   "cell_type": "code",
   "execution_count": 162,
   "id": "2d5ea9c7",
   "metadata": {},
   "outputs": [
    {
     "data": {
      "text/plain": [
       "['파이썬', 3, 2, 1, 9, 8, 7, [4, 5, 6], [4, 5, 6], 3, 2, 1]"
      ]
     },
     "execution_count": 162,
     "metadata": {},
     "output_type": "execute_result"
    }
   ],
   "source": [
    "# reverse 적용\n",
    "a.reverse()\n",
    "a"
   ]
  },
  {
   "cell_type": "code",
   "execution_count": 163,
   "id": "cb0d5d90",
   "metadata": {},
   "outputs": [
    {
     "data": {
      "text/plain": [
       "[1, 2, 3, [4, 5, 6], [4, 5, 6], 7, 8, 9, 1, 2, 3, '파이썬']"
      ]
     },
     "execution_count": 163,
     "metadata": {},
     "output_type": "execute_result"
    }
   ],
   "source": [
    "# reverse 적용 -> 복구\n",
    "a.reverse()\n",
    "a"
   ]
  },
  {
   "cell_type": "code",
   "execution_count": 165,
   "id": "74dedc6e",
   "metadata": {},
   "outputs": [
    {
     "name": "stdout",
     "output_type": "stream",
     "text": [
      "['파이썬', 3, 2, 1, 9, 8, 7, [4, 5, 6], [4, 5, 6], 3, 2, 1]\n"
     ]
    },
    {
     "data": {
      "text/plain": [
       "[1, 2, 3, [4, 5, 6], [4, 5, 6], 7, 8, 9, 1, 2, 3, '파이썬']"
      ]
     },
     "execution_count": 165,
     "metadata": {},
     "output_type": "execute_result"
    }
   ],
   "source": [
    "print(a[::-1])\n",
    "a"
   ]
  },
  {
   "cell_type": "markdown",
   "id": "a35d5fa9",
   "metadata": {},
   "source": [
    "## 리스트 정렬\n",
    "- .sort() : 오름차순\n",
    "- .sort(reverse=True) : 내림차순\n",
    "- 실행 즉시 원본 데이터 바꿈\n"
   ]
  },
  {
   "cell_type": "code",
   "execution_count": 169,
   "id": "22d8c21d",
   "metadata": {},
   "outputs": [
    {
     "name": "stdout",
     "output_type": "stream",
     "text": [
      "[1, 4, 4, 5, 5, 6, 7, 7, 9, 9, 754]\n",
      "[754, 9, 9, 7, 7, 6, 5, 5, 4, 4, 1]\n"
     ]
    }
   ],
   "source": [
    "# 리스트 할당\n",
    "a = [1,6,7,4,5,7,9,4,5,754,9]\n",
    "\n",
    "# 오름차순 정렬 적용\n",
    "a.sort()\n",
    "print(a)\n",
    "\n",
    "# 내림차순 정렬 적용\n",
    "a.sort(reverse=True)\n",
    "print(a)\n"
   ]
  },
  {
   "cell_type": "markdown",
   "id": "18abf5e1",
   "metadata": {},
   "source": [
    "### sorted(리스트) 오름차순\n",
    "### sorted(리스트, reverse=True) 내림차순"
   ]
  },
  {
   "cell_type": "code",
   "execution_count": 174,
   "id": "9cb81dcd",
   "metadata": {},
   "outputs": [],
   "source": [
    "# 리스트 할당\n",
    "b = [1,6,7,4,5,7,9,4,5,754,9]"
   ]
  },
  {
   "cell_type": "code",
   "execution_count": 23,
   "id": "a40dc283",
   "metadata": {},
   "outputs": [
    {
     "name": "stdout",
     "output_type": "stream",
     "text": [
      "[4, 5, 6, 7, 7, 8, 8, 9, 9]\n",
      "[9, 9, 8, 8, 7, 7, 6, 5, 4]\n"
     ]
    }
   ],
   "source": [
    "# 오름차순 정렬 적용\n",
    "b = sorted(b)\n",
    "print(b)\n",
    "\n",
    "# 내림차순 정렬 적용\n",
    "b = sorted(b, reverse=True)\n",
    "print(b)"
   ]
  },
  {
   "cell_type": "markdown",
   "id": "222578ed",
   "metadata": {},
   "source": [
    "# 튜플 tuple\n",
    "- 튜플은 리스트처럼 모든 자료형을 넣어 만들 수 있음\n",
    "- 순서가 있는 자료형, 인덱스 존재\n",
    "- 인덱싱, 슬라이싱 가능\n",
    "- 자료의 추가 및 삭제 X\n",
    "- () 안에 자료를 넣어 생성\n",
    "- 튜플 형변환 함수는 tuple()\n",
    "- 자료 1개만 넣어서 만들 수 있음(1,)형식이어야 한다.\n",
    "- 튜플 생성 시 자료가 2개 이상인 경우 ()는 생략 가능\n"
   ]
  },
  {
   "cell_type": "code",
   "execution_count": 25,
   "id": "ae9856b4",
   "metadata": {},
   "outputs": [
    {
     "data": {
      "text/plain": [
       "(1, 2, 3)"
      ]
     },
     "execution_count": 25,
     "metadata": {},
     "output_type": "execute_result"
    }
   ],
   "source": [
    "# 튜플 할당 및 확인\n",
    "t = (1,2,3)\n",
    "t"
   ]
  },
  {
   "cell_type": "code",
   "execution_count": 26,
   "id": "0b306737",
   "metadata": {},
   "outputs": [
    {
     "ename": "AttributeError",
     "evalue": "'tuple' object has no attribute 'append'",
     "output_type": "error",
     "traceback": [
      "\u001b[1;31m---------------------------------------------------------------------------\u001b[0m",
      "\u001b[1;31mAttributeError\u001b[0m                            Traceback (most recent call last)",
      "Cell \u001b[1;32mIn[26], line 2\u001b[0m\n\u001b[0;32m      1\u001b[0m \u001b[38;5;66;03m# 자료 추가 X\u001b[39;00m\n\u001b[1;32m----> 2\u001b[0m \u001b[43mt\u001b[49m\u001b[38;5;241;43m.\u001b[39;49m\u001b[43mappend\u001b[49m()\n",
      "\u001b[1;31mAttributeError\u001b[0m: 'tuple' object has no attribute 'append'"
     ]
    }
   ],
   "source": [
    "# 자료 추가 X\n",
    "t.append()"
   ]
  },
  {
   "cell_type": "code",
   "execution_count": 28,
   "id": "35f6a1d0",
   "metadata": {},
   "outputs": [
    {
     "name": "stdout",
     "output_type": "stream",
     "text": [
      "(4, 5, 6)\n"
     ]
    }
   ],
   "source": [
    "# 튜플 할당 및 확인\n",
    "t2 = (4,5,6)\n",
    "print(t2)\n"
   ]
  },
  {
   "cell_type": "markdown",
   "id": "3f679783",
   "metadata": {},
   "source": [
    "### 튜플 + 튜플 = 두 개의 튜플이 1개로 합쳐짐"
   ]
  },
  {
   "cell_type": "code",
   "execution_count": 30,
   "id": "64b4ef2b",
   "metadata": {},
   "outputs": [
    {
     "name": "stdout",
     "output_type": "stream",
     "text": [
      "(1, 2, 3, 4, 5, 6)\n"
     ]
    }
   ],
   "source": [
    "# 튜플 + 튜플\n",
    "print(t + t2)\n"
   ]
  },
  {
   "cell_type": "code",
   "execution_count": 189,
   "id": "e3b97ca6",
   "metadata": {},
   "outputs": [
    {
     "data": {
      "text/plain": [
       "(1, 2, 3, 4, 5)"
      ]
     },
     "execution_count": 189,
     "metadata": {},
     "output_type": "execute_result"
    }
   ],
   "source": [
    "# 튜플 변환 적용\n",
    "tuple([1,2,3,4,5])"
   ]
  },
  {
   "cell_type": "code",
   "execution_count": 191,
   "id": "e3aa2769",
   "metadata": {},
   "outputs": [
    {
     "ename": "AttributeError",
     "evalue": "'tuple' object has no attribute 'insert'",
     "output_type": "error",
     "traceback": [
      "\u001b[1;31m---------------------------------------------------------------------------\u001b[0m",
      "\u001b[1;31mAttributeError\u001b[0m                            Traceback (most recent call last)",
      "Cell \u001b[1;32mIn[191], line 2\u001b[0m\n\u001b[0;32m      1\u001b[0m \u001b[38;5;66;03m# 자료의 수정 X\u001b[39;00m\n\u001b[1;32m----> 2\u001b[0m \u001b[43mt\u001b[49m\u001b[38;5;241;43m.\u001b[39;49m\u001b[43minsert\u001b[49m(\u001b[38;5;241m2\u001b[39m,\u001b[38;5;241m4\u001b[39m)\n",
      "\u001b[1;31mAttributeError\u001b[0m: 'tuple' object has no attribute 'insert'"
     ]
    }
   ],
   "source": [
    "# 자료의 수정 X\n",
    "t.insert(2,4)"
   ]
  },
  {
   "cell_type": "markdown",
   "id": "1405f848",
   "metadata": {},
   "source": [
    "- list와 같이 특정 값의 인덱스를 찾는 것은 가능\n",
    "- list와 같이 특정 값의 개수를 세는 것도 가능\n",
    "- 튜플에 자료를 추가하고 싶은 경우 list 변환하여 자료 추가 후 tuple 형변환"
   ]
  },
  {
   "cell_type": "code",
   "execution_count": 194,
   "id": "bb8a086f",
   "metadata": {},
   "outputs": [
    {
     "name": "stdout",
     "output_type": "stream",
     "text": [
      "1\n"
     ]
    },
    {
     "data": {
      "text/plain": [
       "1"
      ]
     },
     "execution_count": 194,
     "metadata": {},
     "output_type": "execute_result"
    }
   ],
   "source": [
    "# 특정 값의 인덱스 찾음\n",
    "print(t.index(2))\n",
    "\n",
    "# 특정 값의 개수 확인\n",
    "t.count(1)\n"
   ]
  },
  {
   "cell_type": "code",
   "execution_count": 31,
   "id": "e250829c",
   "metadata": {},
   "outputs": [
    {
     "name": "stdout",
     "output_type": "stream",
     "text": [
      "[1, 2, 3]\n",
      "[1, 2, 3, 4, 5, 6]\n",
      "(1, 2, 3, 4, 5, 6)\n"
     ]
    }
   ],
   "source": [
    "# 리스트 변환\n",
    "t = (1,2,3)\n",
    "t = list(t)\n",
    "print(t)\n",
    "\n",
    "# 리스트 자료 추가\n",
    "t.extend([4,5,6])\n",
    "print(t)\n",
    "\n",
    "# 튜플 변환 적용\n",
    "t = tuple(t)\n",
    "print(t)"
   ]
  },
  {
   "cell_type": "markdown",
   "id": "b777f1ed",
   "metadata": {},
   "source": [
    "-  튜플에 자료를 1개만 넣고 싶은 경우 : (자료,)"
   ]
  },
  {
   "cell_type": "code",
   "execution_count": 205,
   "id": "067233f6",
   "metadata": {},
   "outputs": [
    {
     "name": "stdout",
     "output_type": "stream",
     "text": [
      "튜플 <class 'str'>\n",
      "('튜플',) <class 'tuple'>\n"
     ]
    }
   ],
   "source": [
    "# 문자열 할당\n",
    "t3 = ('튜플')\n",
    "print(t3, type(t3))\n",
    "\n",
    "# 튜플 할당(자료,)\n",
    "t4 = ('튜플',)\n",
    "print(t4, type(t4))\n"
   ]
  },
  {
   "cell_type": "code",
   "execution_count": 207,
   "id": "ef548155",
   "metadata": {},
   "outputs": [
    {
     "data": {
      "text/plain": [
       "('튜플', '괄호 없이', '만들기', 222)"
      ]
     },
     "execution_count": 207,
     "metadata": {},
     "output_type": "execute_result"
    }
   ],
   "source": [
    "# 괄호 없이 튜플 생성\n",
    "t5 = '튜플', '괄호 없이', '만들기', 222\n",
    "t5\n"
   ]
  },
  {
   "cell_type": "code",
   "execution_count": 210,
   "id": "c030c499",
   "metadata": {},
   "outputs": [
    {
     "name": "stdout",
     "output_type": "stream",
     "text": [
      "('튜플',) <class 'tuple'>\n"
     ]
    }
   ],
   "source": [
    "# 튜플 할당\n",
    "t6 = '튜플',\n",
    "print(t6, type(t6))"
   ]
  },
  {
   "cell_type": "markdown",
   "id": "d7d84022",
   "metadata": {},
   "source": [
    "# 시퀀스 객체(자료형)\n",
    "- 문자열, 리스트, 튜플 같은 순서가 있는 자료형 = 시퀀스 자료형\n",
    "- 순서가 있고, 인덱스 번호가 부여되며 인덱싱, 슬라이싱이 가능\n",
    "- 반복문에 시퀀스 자료형을 그대로 넣어서 반복시키는 것이 가능\n"
   ]
  },
  {
   "cell_type": "code",
   "execution_count": 216,
   "id": "d8daa254",
   "metadata": {},
   "outputs": [
    {
     "name": "stdout",
     "output_type": "stream",
     "text": [
      "(4, 5, 6)\n",
      "True\n",
      "False\n"
     ]
    }
   ],
   "source": [
    "# t2 확인\n",
    "print(t2)\n",
    "\n",
    "# in 적용\n",
    "print(4 in t2)\n",
    "\n",
    "# in 적용\n",
    "print(7 in t2)\n"
   ]
  },
  {
   "cell_type": "code",
   "execution_count": 33,
   "id": "b854520f",
   "metadata": {},
   "outputs": [
    {
     "name": "stdout",
     "output_type": "stream",
     "text": [
      "시퀀스 자료형은 in, not in을 자료가 내부에 있는지 확인 가능하다,\n",
      "True\n",
      "True\n"
     ]
    }
   ],
   "source": [
    "c = '시퀀스 자료형은 in, not in을 자료가 내부에 있는지 확인 가능하다,'\n",
    "print(c)\n",
    "\n",
    "# in 적용\n",
    "print('자료' in c)\n",
    "print('확인' in c)\n"
   ]
  },
  {
   "cell_type": "code",
   "execution_count": 227,
   "id": "0cc73ea7",
   "metadata": {},
   "outputs": [
    {
     "data": {
      "text/plain": [
       "True"
      ]
     },
     "execution_count": 227,
     "metadata": {},
     "output_type": "execute_result"
    }
   ],
   "source": [
    "# 리스트 할당\n",
    "list_01 = [0,1,2,3,4,5]\n",
    "\n",
    "# in 적용\n",
    "3 in list_01\n"
   ]
  },
  {
   "cell_type": "markdown",
   "id": "8395d771",
   "metadata": {},
   "source": [
    "- 시퀀스 객체는 + 연산자를 이용해 서로 연결 가능\n",
    "- 시퀀스 객체는 * 연산자를 이용해 반복 가능\n"
   ]
  },
  {
   "cell_type": "code",
   "execution_count": 34,
   "id": "56647aa2",
   "metadata": {},
   "outputs": [
    {
     "name": "stdout",
     "output_type": "stream",
     "text": [
      "시퀀스자료형\n",
      "[1, 2, 3, 4, 5, 6, 7, 8]\n"
     ]
    }
   ],
   "source": [
    "# 문자열 + 문자열\n",
    "print('시퀀스' + '자료형')\n",
    "\n",
    "# 리스트 + 리스트\n",
    "print([1,2,3,4] + [5,6,7,8])"
   ]
  },
  {
   "cell_type": "code",
   "execution_count": 229,
   "id": "2105f957",
   "metadata": {},
   "outputs": [
    {
     "data": {
      "text/plain": [
       "(1, 2, 3, 4, 5, 6, 7, 8)"
      ]
     },
     "execution_count": 229,
     "metadata": {},
     "output_type": "execute_result"
    }
   ],
   "source": [
    "# 튜플 + 튜플\n",
    "(1,2,3,4) + (5,6,7,8)"
   ]
  },
  {
   "cell_type": "code",
   "execution_count": 35,
   "id": "d184586b",
   "metadata": {},
   "outputs": [
    {
     "name": "stdout",
     "output_type": "stream",
     "text": [
      "==================================================\n",
      "[1, 2, 3, 1, 2, 3, 1, 2, 3]\n"
     ]
    },
    {
     "data": {
      "text/plain": [
       "(4, 5, 6, 4, 5, 6, 4, 5, 6)"
      ]
     },
     "execution_count": 35,
     "metadata": {},
     "output_type": "execute_result"
    }
   ],
   "source": [
    "# 문자 * -> 반복\n",
    "print('='*50)\n",
    "\n",
    "# 리스트 * -> 반복\n",
    "print([1,2,3]*3)\n",
    "\n",
    "# 튜플 * 숫자 -> 숫자만큼 반복\n",
    "(4,5,6)*3\n"
   ]
  },
  {
   "cell_type": "code",
   "execution_count": 236,
   "id": "3113eabe",
   "metadata": {},
   "outputs": [
    {
     "name": "stdout",
     "output_type": "stream",
     "text": [
      "문\n",
      "자\n",
      "열\n",
      "은\n",
      " \n",
      "반\n",
      "복\n",
      "문\n",
      "에\n",
      "서\n",
      " \n",
      "사\n",
      "용\n",
      "가\n",
      "능\n"
     ]
    }
   ],
   "source": [
    "# for문 확인\n",
    "for i in '문자열은 반복문에서 사용가능':\n",
    "    print(i)"
   ]
  },
  {
   "cell_type": "code",
   "execution_count": 239,
   "id": "1772b8d2",
   "metadata": {},
   "outputs": [
    {
     "name": "stdout",
     "output_type": "stream",
     "text": [
      "1\n",
      "2\n",
      "3\n",
      "4\n"
     ]
    }
   ],
   "source": [
    "# 순서가 있는 리스트 for문\n",
    "for i in [1,2,3,4]:\n",
    "    print(i)"
   ]
  },
  {
   "cell_type": "code",
   "execution_count": 38,
   "id": "464d3e4b",
   "metadata": {
    "scrolled": true
   },
   "outputs": [
    {
     "name": "stdout",
     "output_type": "stream",
     "text": [
      "1\n",
      "2\n",
      "3\n",
      "4\n",
      "5\n"
     ]
    }
   ],
   "source": [
    "# 순서가 있는 튜플 for문\n",
    "t1 = (1,2,3,4,5)\n",
    "for i in t1:\n",
    "    print(i)"
   ]
  },
  {
   "cell_type": "code",
   "execution_count": 40,
   "id": "819359f7",
   "metadata": {},
   "outputs": [
    {
     "name": "stdout",
     "output_type": "stream",
     "text": [
      "1\n",
      "2\n",
      "3\n",
      "4\n",
      "--------------------------------------------------\n",
      "1\n",
      "2\n",
      "3\n",
      "4\n",
      "5\n"
     ]
    }
   ],
   "source": [
    "# 순서가 있는 리스트 for문\n",
    "for i in [1,2,3,4]:\n",
    "    print(i)\n",
    "    \n",
    "print('-'*50)\n",
    "\n",
    "# 순서가 있는 튜플 for문\n",
    "t1 = (1,2,3,4,5)\n",
    "for i in t1:\n",
    "    print(i)"
   ]
  },
  {
   "cell_type": "markdown",
   "id": "dc7fad8c",
   "metadata": {},
   "source": [
    "- 리스트, 튜플은 연산 가능\n",
    "    - sum()\n",
    "    - max()\n",
    "    - min()"
   ]
  },
  {
   "cell_type": "code",
   "execution_count": 41,
   "id": "f2a90f48",
   "metadata": {},
   "outputs": [
    {
     "name": "stdout",
     "output_type": "stream",
     "text": [
      "(1, 2, 3, 4, 5)\n",
      "15\n",
      "5\n",
      "1\n"
     ]
    }
   ],
   "source": [
    "# t1 확인\n",
    "print(t1)\n",
    "\n",
    "# sum 적용\n",
    "print(sum(t1))\n",
    "\n",
    "# max 적용\n",
    "print(max(t1))\n",
    "\n",
    "# min 적용\n",
    "print(min(t1))\n"
   ]
  },
  {
   "cell_type": "code",
   "execution_count": null,
   "id": "89f8307f",
   "metadata": {},
   "outputs": [],
   "source": []
  },
  {
   "cell_type": "code",
   "execution_count": null,
   "id": "46472c60",
   "metadata": {},
   "outputs": [],
   "source": []
  }
 ],
 "metadata": {
  "kernelspec": {
   "display_name": "Python 3 (ipykernel)",
   "language": "python",
   "name": "python3"
  },
  "language_info": {
   "codemirror_mode": {
    "name": "ipython",
    "version": 3
   },
   "file_extension": ".py",
   "mimetype": "text/x-python",
   "name": "python",
   "nbconvert_exporter": "python",
   "pygments_lexer": "ipython3",
   "version": "3.9.21"
  }
 },
 "nbformat": 4,
 "nbformat_minor": 5
}
