{
 "cells": [
  {
   "cell_type": "markdown",
   "id": "25f0e036",
   "metadata": {},
   "source": [
    "# 문자열과 문자열 함수"
   ]
  },
  {
   "cell_type": "markdown",
   "id": "7910a197",
   "metadata": {},
   "source": [
    "## 1. 문자열 사용하기의 기본\n",
    "- \"\", '' 따옴표 안에 문자를 넣어서 문자열 생성\n",
    "- 여러 줄로 된 문자열은 \"\"\"  \"\"\" 나 ''' ''' 로 생성\n",
    "- 자동으로 \\n 과 \" \" 이 적용되어 입력한 그대로 출력"
   ]
  },
  {
   "cell_type": "code",
   "execution_count": 4,
   "id": "00a59d97",
   "metadata": {},
   "outputs": [
    {
     "data": {
      "text/plain": [
       "'hello world'"
      ]
     },
     "execution_count": 4,
     "metadata": {},
     "output_type": "execute_result"
    }
   ],
   "source": [
    "# 문자열 변수 할당 및 확인\n",
    "a = \"hello world\"\n",
    "a"
   ]
  },
  {
   "cell_type": "code",
   "execution_count": 5,
   "id": "c9f6e7ed",
   "metadata": {},
   "outputs": [
    {
     "name": "stdout",
     "output_type": "stream",
     "text": [
      "\n",
      "안녕하세요.\n",
      "python 수업입니다.\n",
      "잘 부탁드립니다.\n",
      "\n"
     ]
    }
   ],
   "source": [
    "# 문자열 변수 할당 및 확인\n",
    "a2 = \"\"\"\n",
    "안녕하세요.\n",
    "python 수업입니다.\n",
    "잘 부탁드립니다.\n",
    "\"\"\"\n",
    "\n",
    "print(a2)"
   ]
  },
  {
   "cell_type": "markdown",
   "id": "58208788",
   "metadata": {},
   "source": [
    "### 이스케이프 문자\n",
    "- \\n 줄바꿈\n",
    "- \\t tap\n",
    "- \\r carrige return\n",
    "- 문자열 안에서 특수문자를 출력하고 싶을 때 \\+특수문자 형태로 입력"
   ]
  },
  {
   "cell_type": "code",
   "execution_count": 6,
   "id": "49f829e5",
   "metadata": {},
   "outputs": [
    {
     "name": "stdout",
     "output_type": "stream",
     "text": [
      "파이썬에서 줄바꿈은 \\n으로 합니다. \n",
      "\n",
      "\n",
      "3줄 줄바꿈\n"
     ]
    }
   ],
   "source": [
    "# 문자열 변수 할당 및 확인\n",
    "# \\n 활용\n",
    "h1 = \"파이썬에서 줄바꿈은 \\\\n으로 합니다. \\n\\n\\n3줄 줄바꿈\"\n",
    "print(h1)\n"
   ]
  },
  {
   "cell_type": "code",
   "execution_count": 10,
   "id": "afa5880d",
   "metadata": {},
   "outputs": [
    {
     "name": "stdout",
     "output_type": "stream",
     "text": [
      "탭으로 공간을 띄우는 것은 \\t \t로 합니다.\n"
     ]
    }
   ],
   "source": [
    "# 문자열 변수 할당 및 확인\n",
    "# \\t 활용\n",
    "h2 = \"탭으로 공간을 띄우는 것은 \\\\t \\t로 합니다.\"\n",
    "print(h2)\n"
   ]
  },
  {
   "cell_type": "code",
   "execution_count": 9,
   "id": "64ac6f0c",
   "metadata": {},
   "outputs": [
    {
     "name": "stdout",
     "output_type": "stream",
     "text": [
      "캐리지 리턴은 \\r입니다. \n",
      " 커서가 같은 줄 가장 앞으로 이동하기 때문에 \r",
      " 글자가 겹쳐져서 지워졌습니다.\n"
     ]
    }
   ],
   "source": [
    "# 문자열 변수 할당 및 확인\n",
    "# \\r 활용\n",
    "h3 = \"캐리지 리턴은 \\\\r입니다. \\n 커서가 같은 줄 가장 앞으로 이동하기 때문에 \\r 글자가 겹쳐져서 지워졌습니다.\"\n",
    "print(h3)\n"
   ]
  },
  {
   "cell_type": "markdown",
   "id": "6c0f8d79",
   "metadata": {},
   "source": [
    "## 인덱스와 문자열\n",
    "- 문자 : 글자 1개\n",
    "- 문자열 : 글자가 여러개 => 순서 존재 => 앞에서부터 0번~n번 순으로 번호가 매겨짐\n",
    "- 순서가 있는 자료는 번호를 붙여서 그 번호에 해당하는 자료 추출 가능"
   ]
  },
  {
   "cell_type": "code",
   "execution_count": 11,
   "id": "c5b647ea",
   "metadata": {},
   "outputs": [
    {
     "name": "stdout",
     "output_type": "stream",
     "text": [
      "문자열은 외쪽부터 번호를 매길 수 있으며 시작은 0번부터 입니다.\n"
     ]
    }
   ],
   "source": [
    "# 문자열 변수 할당 및 확인\n",
    "h4 = \"문자열은 외쪽부터 번호를 매길 수 있으며 시작은 0번부터 입니다.\"\n",
    "print(h4)"
   ]
  },
  {
   "cell_type": "code",
   "execution_count": 15,
   "id": "98c318f6",
   "metadata": {},
   "outputs": [
    {
     "data": {
      "text/plain": [
       "'문'"
      ]
     },
     "execution_count": 15,
     "metadata": {},
     "output_type": "execute_result"
    }
   ],
   "source": [
    "# h4 문자열에서 첫번째 글자를 추출하세요.\n",
    "h4[0]"
   ]
  },
  {
   "cell_type": "code",
   "execution_count": 16,
   "id": "1d8150d6",
   "metadata": {},
   "outputs": [
    {
     "data": {
      "text/plain": [
       "'문자열은 '"
      ]
     },
     "execution_count": 16,
     "metadata": {},
     "output_type": "execute_result"
    }
   ],
   "source": [
    "# h4 문자열에서 앞에서부터 5글자를 추출하세요.\n",
    "h4[0:5]"
   ]
  },
  {
   "cell_type": "code",
   "execution_count": 17,
   "id": "3a095bc6",
   "metadata": {},
   "outputs": [
    {
     "data": {
      "text/plain": [
       "'번호를 매길 수 있으며'"
      ]
     },
     "execution_count": 17,
     "metadata": {},
     "output_type": "execute_result"
    }
   ],
   "source": [
    "# 인덱스 10번부터 21번까지 추출하세요\n",
    "h4[10:22]"
   ]
  },
  {
   "cell_type": "code",
   "execution_count": 18,
   "id": "d2bfbc07",
   "metadata": {},
   "outputs": [
    {
     "data": {
      "text/plain": [
       "36"
      ]
     },
     "execution_count": 18,
     "metadata": {},
     "output_type": "execute_result"
    }
   ],
   "source": [
    "# len() : 문자열의 길이 재는 경우 사용\n",
    "len(h4)"
   ]
  },
  {
   "cell_type": "markdown",
   "id": "f5c85840",
   "metadata": {},
   "source": [
    "- 순서가 있는 자료의 인덱스는 앞에서부터 0번~n번\n",
    "- 뒤에서부터 -1~-n번\n",
    "-  슬라이싱 시 시작과 끝은 생략가능"
   ]
  },
  {
   "cell_type": "code",
   "execution_count": 24,
   "id": "48e1c13a",
   "metadata": {},
   "outputs": [
    {
     "name": "stdout",
     "output_type": "stream",
     "text": [
      "은 0번부터 입니다\n"
     ]
    },
    {
     "data": {
      "text/plain": [
       "'문자열은 외쪽부터 번'"
      ]
     },
     "execution_count": 24,
     "metadata": {},
     "output_type": "execute_result"
    }
   ],
   "source": [
    "# 문자열의 끝에서 10개를 가져오고 싶은 경우\n",
    "print(h4[-11:-1])\n",
    "\n",
    "# 문자열 앞에서 10개를 가져오고 싶은 경우\n",
    "# h4[0:11] = h4[:11]\n",
    "h4[:11]\n"
   ]
  },
  {
   "cell_type": "code",
   "execution_count": 25,
   "id": "b6de371f",
   "metadata": {},
   "outputs": [
    {
     "name": "stdout",
     "output_type": "stream",
     "text": [
      "은 0번부터 입니다.\n"
     ]
    },
    {
     "data": {
      "text/plain": [
       "'문자열은 외쪽부터 번호를 매길 수 있으며 시작은 0번부터 입니다.'"
      ]
     },
     "execution_count": 25,
     "metadata": {},
     "output_type": "execute_result"
    }
   ],
   "source": [
    "# 뒤에서부터 10개 가져올 때\n",
    "print(h4[-11:])\n",
    "\n",
    "# 시작인덱스와 끝 인덱스를 모두 생략한 경우\n",
    "h4[:]"
   ]
  },
  {
   "cell_type": "markdown",
   "id": "dd7a5dab",
   "metadata": {},
   "source": [
    "## 슬라이싱 [시작인덱스:끝인덱스+1:step]"
   ]
  },
  {
   "cell_type": "code",
   "execution_count": 26,
   "id": "bcd2d672",
   "metadata": {
    "scrolled": true
   },
   "outputs": [
    {
     "name": "stdout",
     "output_type": "stream",
     "text": [
      "문자열은 외쪽부터 번호를 매길 수 있으며 시작은 0번부터 입니다.\n"
     ]
    },
    {
     "data": {
      "text/plain": [
       "'.다니입 터부번0 은작시 며으있 수 길매 를호번 터부쪽외 은열자문'"
      ]
     },
     "execution_count": 26,
     "metadata": {},
     "output_type": "execute_result"
    }
   ],
   "source": [
    "# h4 확인\n",
    "print(h4)\n",
    "\n",
    "# h4 뒤에서부터 확인\n",
    "h4[::-1] \n"
   ]
  },
  {
   "cell_type": "markdown",
   "id": "21c671d9",
   "metadata": {},
   "source": [
    "## 문자열 함수\n",
    "- .replace(): 값을 찾아서 바꾸는 함수\n",
    "- .split(): 공백을 기준으로 자료를 나눠서 리스트로 변환\n",
    "- .join(): 기준자를 통해서 리스트를 하나의 문자열로 변환\n",
    "- .strip(): 문자열 외부의 공백제거, 공백+특수문자 제거"
   ]
  },
  {
   "cell_type": "markdown",
   "id": "0e48c491",
   "metadata": {},
   "source": [
    "## 문자열 바꾸기 replace(찾을 값, 바꿀값)\n",
    "* replace 함수는 사용 후 결과를 활용하기 위해 재할당 필요"
   ]
  },
  {
   "cell_type": "code",
   "execution_count": 28,
   "id": "dd46f965",
   "metadata": {},
   "outputs": [
    {
     "data": {
      "text/plain": [
       "'Hello Python'"
      ]
     },
     "execution_count": 28,
     "metadata": {},
     "output_type": "execute_result"
    }
   ],
   "source": [
    "# 문자열 변수 할당 및 확인\n",
    "h5 = \"Hello Python\"\n",
    "h5"
   ]
  },
  {
   "cell_type": "code",
   "execution_count": 30,
   "id": "c5249b5e",
   "metadata": {},
   "outputs": [
    {
     "data": {
      "text/plain": [
       "'Hello World'"
      ]
     },
     "execution_count": 30,
     "metadata": {},
     "output_type": "execute_result"
    }
   ],
   "source": [
    "# replace 활용\n",
    "h5 = h5.replace(\"Python\", 'World')\n",
    "h5"
   ]
  },
  {
   "cell_type": "markdown",
   "id": "03f995df",
   "metadata": {},
   "source": [
    "##  split()\n",
    "- 공백을 기준으로 자료를 나눠서 list로 생성\n",
    "- 구분자를 따로 지정해서 사용 가능"
   ]
  },
  {
   "cell_type": "code",
   "execution_count": 55,
   "id": "33be34d7",
   "metadata": {},
   "outputs": [
    {
     "name": "stdout",
     "output_type": "stream",
     "text": [
      "문자열은, 왼쪽부터, 번호를, 매길, 수, 있으며, 시작은, 0번부터, 입니다. <class 'str'>\n"
     ]
    }
   ],
   "source": [
    "# 문자열 변수 할당 및 데이터와 타입 확인\n",
    "h6 = \"문자열은, 왼쪽부터, 번호를, 매길, 수, 있으며, 시작은, 0번부터, 입니다.\"\n",
    "print(h6, type(h6))"
   ]
  },
  {
   "cell_type": "code",
   "execution_count": 91,
   "id": "1a53f416",
   "metadata": {},
   "outputs": [
    {
     "name": "stdout",
     "output_type": "stream",
     "text": [
      "['문자열은', '왼쪽부터', '번호를', '매길', '수', '있으며', '시작은', '0번부터', '입니다.']\n"
     ]
    },
    {
     "data": {
      "text/plain": [
       "'문자열은'"
      ]
     },
     "execution_count": 91,
     "metadata": {},
     "output_type": "execute_result"
    }
   ],
   "source": [
    "# split 적용\n",
    "splited_h6 = h6.split()\n",
    "print(splited_h6)\n",
    "\n",
    "# split된 문자열 인덱싱 \n",
    "splited_h6[0]"
   ]
  },
  {
   "cell_type": "code",
   "execution_count": 57,
   "id": "897d147b",
   "metadata": {},
   "outputs": [
    {
     "name": "stdout",
     "output_type": "stream",
     "text": [
      "['문자열은', '왼쪽부터', '번호를', '매길', '수', '있으며', '시작은', '0번부터', '입니다.'] <class 'list'>\n"
     ]
    }
   ],
   "source": [
    "# split 적용 : (\", \")\n",
    "h6 = h6.split(\", \")\n",
    "print(h6, type(h6))\n"
   ]
  },
  {
   "cell_type": "markdown",
   "id": "d206eca3",
   "metadata": {},
   "source": [
    "## join()\n",
    "- 리스트, 튜플을 하나의 문자열로 합치는 함수\n",
    "- 합칠기준.join(list/tuple)"
   ]
  },
  {
   "cell_type": "code",
   "execution_count": 58,
   "id": "455bd4c2",
   "metadata": {},
   "outputs": [
    {
     "name": "stdout",
     "output_type": "stream",
     "text": [
      "['문자열은', '왼쪽부터', '번호를', '매길', '수', '있으며', '시작은', '0번부터', '입니다.'] \n",
      "\n",
      "문자열은 왼쪽부터 번호를 매길 수 있으며 시작은 0번부터 입니다.\n"
     ]
    }
   ],
   "source": [
    "# h6 확인\n",
    "print(h6,'\\n')\n",
    "\n",
    "# join 적용\n",
    "print(\" \".join(h6))\n"
   ]
  },
  {
   "cell_type": "code",
   "execution_count": 59,
   "id": "1953b058",
   "metadata": {},
   "outputs": [
    {
     "name": "stdout",
     "output_type": "stream",
     "text": [
      "문자열은, 왼쪽부터, 번호를, 매길, 수, 있으며, 시작은, 0번부터, 입니다. \n",
      "\n",
      "문자열은 : 왼쪽부터 : 번호를 : 매길 : 수 : 있으며 : 시작은 : 0번부터 : 입니다. \n",
      "\n",
      "문자열은 $$ 왼쪽부터 $$ 번호를 $$ 매길 $$ 수 $$ 있으며 $$ 시작은 $$ 0번부터 $$ 입니다.\n"
     ]
    }
   ],
   "source": [
    "# join 적용\n",
    "print(\", \".join(h6),'\\n')\n",
    "print(\" : \".join(h6),'\\n')\n",
    "print(\" $$ \".join(h6))\n"
   ]
  },
  {
   "cell_type": "code",
   "execution_count": 60,
   "id": "23c9192d",
   "metadata": {},
   "outputs": [
    {
     "name": "stdout",
     "output_type": "stream",
     "text": [
      "문자열은 왼쪽부터 번호를 매길 수 있으며 시작은 0번부터 입니다. <class 'str'>\n"
     ]
    }
   ],
   "source": [
    "# h6 재할당 및 데이터와 데이터 타입 확인\n",
    "h6 = \" \".join(h6)\n",
    "print(h6, type(h6))\n"
   ]
  },
  {
   "cell_type": "markdown",
   "id": "0bcdc16f",
   "metadata": {},
   "source": [
    "## 소문자 / 대문자 변환 함수\n",
    "- upper() : 소문자를 대문자로\n",
    "- lower() : 대문자를 소문자로\n"
   ]
  },
  {
   "cell_type": "code",
   "execution_count": 63,
   "id": "41c5caf1",
   "metadata": {},
   "outputs": [
    {
     "data": {
      "text/plain": [
       "'iron-man spider-man hulk'"
      ]
     },
     "execution_count": 63,
     "metadata": {},
     "output_type": "execute_result"
    }
   ],
   "source": [
    "# 문자열 변수 할당 및 확인\n",
    "h7 = \"iron-man spider-man hulk\"\n",
    "h7"
   ]
  },
  {
   "cell_type": "code",
   "execution_count": 66,
   "id": "3f8aca96",
   "metadata": {},
   "outputs": [
    {
     "data": {
      "text/plain": [
       "'IRON-MAN SPIDER-MAN HULK'"
      ]
     },
     "execution_count": 66,
     "metadata": {},
     "output_type": "execute_result"
    }
   ],
   "source": [
    "# upper 적용\n",
    "h7.upper()\n",
    "\n",
    "# h7 재할당 및 확인\n",
    "h7 = h7.upper()\n",
    "h7"
   ]
  },
  {
   "cell_type": "code",
   "execution_count": 68,
   "id": "18d6a2e0",
   "metadata": {},
   "outputs": [
    {
     "data": {
      "text/plain": [
       "'iron-man spider-man hulk'"
      ]
     },
     "execution_count": 68,
     "metadata": {},
     "output_type": "execute_result"
    }
   ],
   "source": [
    "# lower 적용\n",
    "h7.lower()\n",
    "\n",
    "# h7 재할당\n",
    "h7 = h7.lower()\n",
    "h7\n"
   ]
  },
  {
   "cell_type": "markdown",
   "id": "5979f58d",
   "metadata": {},
   "source": [
    "## 왼쪽, 오른쪽, 양쪽 공백/특정 문자 제거\n",
    "- lstrip(): 왼쪽 공백 삭제\n",
    "- rstrip(): 오른쪽 공백 삭제\n",
    "- strip(): 양쪽 공백 삭제"
   ]
  },
  {
   "cell_type": "code",
   "execution_count": 70,
   "id": "c1b7eabf",
   "metadata": {},
   "outputs": [
    {
     "data": {
      "text/plain": [
       "'    공백이 있는 문자열    '"
      ]
     },
     "execution_count": 70,
     "metadata": {},
     "output_type": "execute_result"
    }
   ],
   "source": [
    "# 공백이 있는 문자열 할당\n",
    "h8 = \"    공백이 있는 문자열    \"\n",
    "h8"
   ]
  },
  {
   "cell_type": "code",
   "execution_count": 71,
   "id": "6f41c0e2",
   "metadata": {},
   "outputs": [
    {
     "data": {
      "text/plain": [
       "'공백이 있는 문자열    '"
      ]
     },
     "execution_count": 71,
     "metadata": {},
     "output_type": "execute_result"
    }
   ],
   "source": [
    "# 왼쪽 공백 제거\n",
    "h8.lstrip()"
   ]
  },
  {
   "cell_type": "code",
   "execution_count": 72,
   "id": "436424a0",
   "metadata": {},
   "outputs": [
    {
     "data": {
      "text/plain": [
       "'    공백이 있는 문자열'"
      ]
     },
     "execution_count": 72,
     "metadata": {},
     "output_type": "execute_result"
    }
   ],
   "source": [
    "# 오른쪽 공백 제거\n",
    "h8.rstrip()"
   ]
  },
  {
   "cell_type": "code",
   "execution_count": 78,
   "id": "a8c7a053",
   "metadata": {},
   "outputs": [
    {
     "name": "stdout",
     "output_type": "stream",
     "text": [
      "공백이 있는 문자열 \n",
      "\n",
      "공백이있는문자열 \n",
      "\n"
     ]
    },
    {
     "data": {
      "text/plain": [
       "' 공백이 있는 문자열 '"
      ]
     },
     "execution_count": 78,
     "metadata": {},
     "output_type": "execute_result"
    }
   ],
   "source": [
    "# 양쪽 공백 제거\n",
    "print(h8.strip(),'\\n')\n",
    "\n",
    "# replace : 공백1칸 -> 공백X\n",
    "print(h8.strip().replace(\" \", \"\"),'\\n')\n",
    "\n",
    "# replace : 공백2칸 -> 1칸\n",
    "h8.replace(\"   \",\"\")"
   ]
  },
  {
   "cell_type": "code",
   "execution_count": 83,
   "id": "96c00c3d",
   "metadata": {},
   "outputs": [
    {
     "data": {
      "text/plain": [
       "'... ,   공백과 특수문자가 같이 있는 문자열 !! ^^ ㅋㅋㅋㅋ  '"
      ]
     },
     "execution_count": 83,
     "metadata": {},
     "output_type": "execute_result"
    }
   ],
   "source": [
    "# 공백과 특수문자 동시에 있는 문자열 할당\n",
    "h9 = \"... ,   공백과 특수문자가 같이 있는 문자열 !! ^^ ㅋㅋㅋㅋ  \"\n",
    "h9"
   ]
  },
  {
   "cell_type": "code",
   "execution_count": 80,
   "id": "1fe13c4c",
   "metadata": {},
   "outputs": [
    {
     "data": {
      "text/plain": [
       "'공백과 특수문자가 같이 있는 문자열 !! ^^ ㅋㅋㅋㅋ  '"
      ]
     },
     "execution_count": 80,
     "metadata": {},
     "output_type": "execute_result"
    }
   ],
   "source": [
    "# 왼쪽 공백 및 특수문자 제거\n",
    "h9.lstrip(\"., \")"
   ]
  },
  {
   "cell_type": "code",
   "execution_count": 81,
   "id": "daba8101",
   "metadata": {},
   "outputs": [
    {
     "data": {
      "text/plain": [
       "'... ,   공백과 특수문자가 같이 있는 문자열'"
      ]
     },
     "execution_count": 81,
     "metadata": {},
     "output_type": "execute_result"
    }
   ],
   "source": [
    "# 오른쪽 공백 및 특수문자 제거\n",
    "h9.rstrip(\"!^ㅋ \")"
   ]
  },
  {
   "cell_type": "code",
   "execution_count": 82,
   "id": "0eebe74e",
   "metadata": {},
   "outputs": [
    {
     "data": {
      "text/plain": [
       "'공백과 특수문자가 같이 있는 문자열'"
      ]
     },
     "execution_count": 82,
     "metadata": {},
     "output_type": "execute_result"
    }
   ],
   "source": [
    "# 양쪽 공백 및 특수문자 제거\n",
    "h9.strip(\".,!^ㅋ \")"
   ]
  },
  {
   "cell_type": "markdown",
   "id": "1260ced0",
   "metadata": {},
   "source": [
    "## method chaining (메서드 체이닝)\n",
    "- 여러개의 함수를 연결하여 사용"
   ]
  },
  {
   "cell_type": "code",
   "execution_count": 86,
   "id": "bd1131a4",
   "metadata": {},
   "outputs": [
    {
     "data": {
      "text/plain": [
       "'... ,   공백과 특수문자가\\n 같이 있는\\t 문자열 !! ^^ ㅋㅋㅋㅋ  '"
      ]
     },
     "execution_count": 86,
     "metadata": {},
     "output_type": "execute_result"
    }
   ],
   "source": [
    "# 공백과 특수문자, 이스캐이프 문자 동시에 있는 문자열 할당\n",
    "h10 = \"... ,   공백과 특수문자가\\n 같이 있는\\t 문자열 !! ^^ ㅋㅋㅋㅋ  \"\n",
    "h10"
   ]
  },
  {
   "cell_type": "code",
   "execution_count": 87,
   "id": "622db643",
   "metadata": {
    "scrolled": true
   },
   "outputs": [
    {
     "data": {
      "text/plain": [
       "'공백과 특수문자가 같이 있는 문자열'"
      ]
     },
     "execution_count": 87,
     "metadata": {},
     "output_type": "execute_result"
    }
   ],
   "source": [
    "# 양쪽 공백 제거 및 이스캐이프 문자 replace 적용\n",
    "h10.strip(\".,!^ㅋ \").replace(\"\\n\",\"\").replace(\"\\t\", \"\")\n"
   ]
  },
  {
   "cell_type": "markdown",
   "id": "36a782d8",
   "metadata": {},
   "source": [
    "## 문자열 처리 연습문제\n",
    "- 리뷰 글 부분만 추출\n",
    "- 1개의 문장으로 만들기\n",
    "- 문자열 함수를 이용해 특수문자와 불필요한 공백 지우기"
   ]
  },
  {
   "cell_type": "code",
   "execution_count": 106,
   "id": "68534fa3",
   "metadata": {},
   "outputs": [
    {
     "data": {
      "text/plain": [
       "'344,622642,더 호텔 수 (THE HOTEL SOO),family,1박 가족 여행,2018년 5월 21일,8.0,\"위치 : 이순신 광장과는 반대편이라 차량으로 이동해야 합니다. 루프탑에서의\\n바다 경치는 좋습니다.\\n시설 : 깔끔하고 좋습니다. 패밀리룸을 사용 했는데 저녁6시쯤 갔더니 마지막 방이라며 2층을 배정 받았습니다. 창문을 여니 약간 쓰레기 냄새가 났고 바다가 보이지 않습니다.        \\n루프탑 : 바베큐 세트가 저렴 했던거 같고 경치가 좋습니다. 수영장도 있었는데 계절이 아닌지.... \\n    하지만 여름이면 좋을것 같습니다. 주차장은 장소가 넓지 않았던거 같고, 저녁에 나갔다 왔더니 야외 공터에 차를 대라고 하였습니다.    \\n주말 저녁이라 그런지 가격을 제법 비싸게 준거 같은데... 2층이라 마음에 들지 않았습니다. 옆에 조선소 같은게 있어 쫌 보기에 좋지 않았습니다......................................'"
      ]
     },
     "execution_count": 106,
     "metadata": {},
     "output_type": "execute_result"
    }
   ],
   "source": [
    "## 가장 빠른 풀이법\n",
    "test1 = '''344,622642,더 호텔 수 (THE HOTEL SOO),family,1박 가족 여행,2018년 5월 21일,8.0,\"위치 : 이순신 광장과는 반대편이라 차량으로 이동해야 합니다. 루프탑에서의\n",
    "바다 경치는 좋습니다.\n",
    "시설 : 깔끔하고 좋습니다. 패밀리룸을 사용 했는데 저녁6시쯤 갔더니 마지막 방이라며 2층을 배정 받았습니다. 창문을 여니 약간 쓰레기 냄새가 났고 바다가 보이지 않습니다.        \n",
    "루프탑 : 바베큐 세트가 저렴 했던거 같고 경치가 좋습니다. 수영장도 있었는데 계절이 아닌지.... \n",
    "    하지만 여름이면 좋을것 같습니다. 주차장은 장소가 넓지 않았던거 같고, 저녁에 나갔다 왔더니 야외 공터에 차를 대라고 하였습니다.    \n",
    "주말 저녁이라 그런지 가격을 제법 비싸게 준거 같은데... 2층이라 마음에 들지 않았습니다. 옆에 조선소 같은게 있어 쫌 보기에 좋지 않았습니다......................................'''\n",
    "\n",
    "test1"
   ]
  },
  {
   "cell_type": "code",
   "execution_count": 107,
   "id": "ad7c5d1b",
   "metadata": {},
   "outputs": [
    {
     "data": {
      "text/plain": [
       "['344',\n",
       " '622642',\n",
       " '더 호텔 수 (THE HOTEL SOO)',\n",
       " 'family',\n",
       " '1박 가족 여행',\n",
       " '2018년 5월 21일',\n",
       " '8.0',\n",
       " '\"위치 : 이순신 광장과는 반대편이라 차량으로 이동해야 합니다. 루프탑에서의\\n바다 경치는 좋습니다.\\n시설 : 깔끔하고 좋습니다. 패밀리룸을 사용 했는데 저녁6시쯤 갔더니 마지막 방이라며 2층을 배정 받았습니다. 창문을 여니 약간 쓰레기 냄새가 났고 바다가 보이지 않습니다.        \\n루프탑 : 바베큐 세트가 저렴 했던거 같고 경치가 좋습니다. 수영장도 있었는데 계절이 아닌지.... \\n    하지만 여름이면 좋을것 같습니다. 주차장은 장소가 넓지 않았던거 같고',\n",
       " ' 저녁에 나갔다 왔더니 야외 공터에 차를 대라고 하였습니다.    \\n주말 저녁이라 그런지 가격을 제법 비싸게 준거 같은데... 2층이라 마음에 들지 않았습니다. 옆에 조선소 같은게 있어 쫌 보기에 좋지 않았습니다......................................']"
      ]
     },
     "execution_count": 107,
     "metadata": {},
     "output_type": "execute_result"
    }
   ],
   "source": [
    "# split 적용(공백이 있는 경우를 나눠 list 생성) 및 재할당 \n",
    "test1 = test1.split(\",\")\n",
    "test1"
   ]
  },
  {
   "cell_type": "code",
   "execution_count": 108,
   "id": "5fc3776d",
   "metadata": {},
   "outputs": [
    {
     "name": "stdout",
     "output_type": "stream",
     "text": [
      "9 \n",
      "\n"
     ]
    },
    {
     "data": {
      "text/plain": [
       "['\"위치 : 이순신 광장과는 반대편이라 차량으로 이동해야 합니다. 루프탑에서의\\n바다 경치는 좋습니다.\\n시설 : 깔끔하고 좋습니다. 패밀리룸을 사용 했는데 저녁6시쯤 갔더니 마지막 방이라며 2층을 배정 받았습니다. 창문을 여니 약간 쓰레기 냄새가 났고 바다가 보이지 않습니다.        \\n루프탑 : 바베큐 세트가 저렴 했던거 같고 경치가 좋습니다. 수영장도 있었는데 계절이 아닌지.... \\n    하지만 여름이면 좋을것 같습니다. 주차장은 장소가 넓지 않았던거 같고',\n",
       " ' 저녁에 나갔다 왔더니 야외 공터에 차를 대라고 하였습니다.    \\n주말 저녁이라 그런지 가격을 제법 비싸게 준거 같은데... 2층이라 마음에 들지 않았습니다. 옆에 조선소 같은게 있어 쫌 보기에 좋지 않았습니다......................................']"
      ]
     },
     "execution_count": 108,
     "metadata": {},
     "output_type": "execute_result"
    }
   ],
   "source": [
    "# test1의 len 확인\n",
    "print(len(test1),'\\n')\n",
    "\n",
    "# 필요한 부분만 추출하여 재할당 및 확인\n",
    "test1 = test1[7:]\n",
    "test1"
   ]
  },
  {
   "cell_type": "code",
   "execution_count": 109,
   "id": "82e376cb",
   "metadata": {},
   "outputs": [
    {
     "data": {
      "text/plain": [
       "'\"위치 : 이순신 광장과는 반대편이라 차량으로 이동해야 합니다. 루프탑에서의\\n바다 경치는 좋습니다.\\n시설 : 깔끔하고 좋습니다. 패밀리룸을 사용 했는데 저녁6시쯤 갔더니 마지막 방이라며 2층을 배정 받았습니다. 창문을 여니 약간 쓰레기 냄새가 났고 바다가 보이지 않습니다.        \\n루프탑 : 바베큐 세트가 저렴 했던거 같고 경치가 좋습니다. 수영장도 있었는데 계절이 아닌지.... \\n    하지만 여름이면 좋을것 같습니다. 주차장은 장소가 넓지 않았던거 같고  저녁에 나갔다 왔더니 야외 공터에 차를 대라고 하였습니다.    \\n주말 저녁이라 그런지 가격을 제법 비싸게 준거 같은데... 2층이라 마음에 들지 않았습니다. 옆에 조선소 같은게 있어 쫌 보기에 좋지 않았습니다......................................'"
      ]
     },
     "execution_count": 109,
     "metadata": {},
     "output_type": "execute_result"
    }
   ],
   "source": [
    "# test1에서 len 확인 \n",
    "len(test1)\n",
    "\n",
    "# join 적용하여 재할당 및 확인\n",
    "test1 = \" \".join(test1)\n",
    "test1"
   ]
  },
  {
   "cell_type": "code",
   "execution_count": 114,
   "id": "51e00d98",
   "metadata": {
    "scrolled": true
   },
   "outputs": [
    {
     "data": {
      "text/plain": [
       "'위치 이순신 광장과는 반대편이라 차량으로 이동해야 합니다 루프탑에서의바다 경치는 좋습니다시설 깔끔하고 좋습니다 패밀리룸을 사용 했는데 저녁6시쯤 갔더니 마지막 방이라며 2층을 배정 받았습니다 창문을 여니 약간 쓰레기 냄새가 났고 바다가 보이지 않습니다루프탑 바베큐 세트가 저렴 했던거 같고 경치가 좋습니다 수영장도 있었는데 계절이 아닌지 하지만 여름이면 좋을것 같습니다 주차장은 장소가 넓지 않았던거 같고 저녁에 나갔다 왔더니 야외 공터에 차를 대라고 하였습니다주말 저녁이라 그런지 가격을 제법 비싸게 준거 같은데 2층이라 마음에 들지 않았습니다 옆에 조선소 같은게 있어 쫌 보기에 좋지 않았습니다'"
      ]
     },
     "execution_count": 114,
     "metadata": {},
     "output_type": "execute_result"
    }
   ],
   "source": [
    "# 공백 및 특수문자 처리 및 replace 적용하여 재할당 및 확인\n",
    "test1 = test1.strip(\".'\\\" \").replace(\":\", \"\").replace(\"\\n\", \"\").replace(\".\", \"\").replace(\"  \", \" \").replace(\"  \", \"\")\n",
    "test1"
   ]
  },
  {
   "cell_type": "markdown",
   "id": "4c70770a",
   "metadata": {},
   "source": [
    "# translate + str.maketrans + string.punctuation\n",
    "- translate(str.maketrans(찾을문자, 대체문자, 그 외 없앨 문자))"
   ]
  },
  {
   "cell_type": "code",
   "execution_count": 111,
   "id": "9f2860e7",
   "metadata": {},
   "outputs": [],
   "source": [
    "import string"
   ]
  },
  {
   "cell_type": "code",
   "execution_count": 112,
   "id": "ddbb131d",
   "metadata": {},
   "outputs": [
    {
     "data": {
      "text/plain": [
       "'!\"#$%&\\'()*+,-./:;<=>?@[\\\\]^_`{|}~'"
      ]
     },
     "execution_count": 112,
     "metadata": {},
     "output_type": "execute_result"
    }
   ],
   "source": [
    "# 불필요한 문자 모음\n",
    "string.punctuation"
   ]
  },
  {
   "cell_type": "code",
   "execution_count": 115,
   "id": "ea3649f0",
   "metadata": {},
   "outputs": [
    {
     "data": {
      "text/plain": [
       "'18062,427535,파크 하얏트 부산 (Park Hyatt Busan),family,2박 가족 여행,2019년 12월 29일,10.0,결혼 1주년 기념으로 아이랑 신랑이랑 다녀왔어요~ 룸컨디션 너무 좋았고 뷰가 최고였습니다! 2박 머물렀는데 청소도 깔끔하게 해주시고 애기가 이불에 살짝 토했는데도 바로 갈아주시고 좋았습니다~ 대신 창가쪽 커튼 한쪽이 떨어져있어서 조금 거슬렸구요... 창가에 침실이 있다보니 암막커튼을 치지 않으면 조금 쌀쌀한 느낌은 있었어요! 아 그리고 아기때문에 침대에 가드를 부탁드렸는데 가드가 너무 별로였습니다... 가드 구실을 못하고 넘 허술하게 매트리스 아래 그냥 끼워진거라 아기가 밤새 두번이나 가드사이에 빠졌습니다... 이점 좀 아쉬워요 ! 그 외에는 다이닝룸 리빙룸, 바까지 모두 이용했는데 서비스 좋았습니다~~!'"
      ]
     },
     "execution_count": 115,
     "metadata": {},
     "output_type": "execute_result"
    }
   ],
   "source": [
    "# test2 : 호텔 리뷰 데이터 할당 및 확인\n",
    "test2= \"18062,427535,파크 하얏트 부산 (Park Hyatt Busan),family,2박 가족 여행,2019년 12월 29일,10.0,결혼 1주년 기념으로 아이랑 신랑이랑 다녀왔어요~ 룸컨디션 너무 좋았고 뷰가 최고였습니다! 2박 머물렀는데 청소도 깔끔하게 해주시고 애기가 이불에 살짝 토했는데도 바로 갈아주시고 좋았습니다~ 대신 창가쪽 커튼 한쪽이 떨어져있어서 조금 거슬렸구요... 창가에 침실이 있다보니 암막커튼을 치지 않으면 조금 쌀쌀한 느낌은 있었어요! 아 그리고 아기때문에 침대에 가드를 부탁드렸는데 가드가 너무 별로였습니다... 가드 구실을 못하고 넘 허술하게 매트리스 아래 그냥 끼워진거라 아기가 밤새 두번이나 가드사이에 빠졌습니다... 이점 좀 아쉬워요 ! 그 외에는 다이닝룸 리빙룸, 바까지 모두 이용했는데 서비스 좋았습니다~~!\"\n",
    "test2 "
   ]
  },
  {
   "cell_type": "code",
   "execution_count": 116,
   "id": "35224de3",
   "metadata": {
    "scrolled": true
   },
   "outputs": [
    {
     "data": {
      "text/plain": [
       "'결혼 1주년 기념으로 아이랑 신랑이랑 다녀왔어요~ 룸컨디션 너무 좋았고 뷰가 최고였습니다! 2박 머물렀는데 청소도 깔끔하게 해주시고 애기가 이불에 살짝 토했는데도 바로 갈아주시고 좋았습니다~ 대신 창가쪽 커튼 한쪽이 떨어져있어서 조금 거슬렸구요... 창가에 침실이 있다보니 암막커튼을 치지 않으면 조금 쌀쌀한 느낌은 있었어요! 아 그리고 아기때문에 침대에 가드를 부탁드렸는데 가드가 너무 별로였습니다... 가드 구실을 못하고 넘 허술하게 매트리스 아래 그냥 끼워진거라 아기가 밤새 두번이나 가드사이에 빠졌습니다... 이점 좀 아쉬워요 ! 그 외에는 다이닝룸 리빙룸  바까지 모두 이용했는데 서비스 좋았습니다~~!'"
      ]
     },
     "execution_count": 116,
     "metadata": {},
     "output_type": "execute_result"
    }
   ],
   "source": [
    "# split 및 인덱싱 적용하여 join 적용하여 재할당\n",
    "test2 = \" \".join(test2.split(\",\")[7:])\n",
    "test2"
   ]
  },
  {
   "cell_type": "code",
   "execution_count": 117,
   "id": "b4ebef59",
   "metadata": {},
   "outputs": [
    {
     "data": {
      "text/plain": [
       "'결혼 1주년 기념으로 아이랑 신랑이랑 다녀왔어요 룸컨디션 너무 좋았고 뷰가 최고였습니다 2박 머물렀는데 청소도 깔끔하게 해주시고 애기가 이불에 살짝 토했는데도 바로 갈아주시고 좋았습니다 대신 창가쪽 커튼 한쪽이 떨어져있어서 조금 거슬렸구요 창가에 침실이 있다보니 암막커튼을 치지 않으면 조금 쌀쌀한 느낌은 있었어요 아 그리고 아기때문에 침대에 가드를 부탁드렸는데 가드가 너무 별로였습니다 가드 구실을 못하고 넘 허술하게 매트리스 아래 그냥 끼워진거라 아기가 밤새 두번이나 가드사이에 빠졌습니다 이점 좀 아쉬워요 그 외에는 다이닝룸 리빙룸 바까지 모두 이용했는데 서비스 좋았습니다'"
      ]
     },
     "execution_count": 117,
     "metadata": {},
     "output_type": "execute_result"
    }
   ],
   "source": [
    "# 불필요 문자 모음 활용하여 필요 없는 문자 제거 및 replace 적용하여 재할당 및 확인\n",
    "test2 = test2.translate(str.maketrans(\"\",\"\",string.punctuation)).replace(\"  \", \" \")\n",
    "test2"
   ]
  },
  {
   "cell_type": "code",
   "execution_count": 121,
   "id": "7874ec97",
   "metadata": {},
   "outputs": [
    {
     "name": "stdout",
     "output_type": "stream",
     "text": [
      "abcde \n",
      "\n"
     ]
    },
    {
     "data": {
      "text/plain": [
       "'zbydf'"
      ]
     },
     "execution_count": 121,
     "metadata": {},
     "output_type": "execute_result"
    }
   ],
   "source": [
    "# 문자열 할당\n",
    "h10 = \"abcde\"\n",
    "print(h10,'\\n')\n",
    "# translate 적용하여 재할당 및 확인\n",
    "h10 = h10.translate(str.maketrans('ace','zyf'))\n",
    "h10"
   ]
  },
  {
   "cell_type": "code",
   "execution_count": 122,
   "id": "f4c27c4a",
   "metadata": {},
   "outputs": [
    {
     "data": {
      "text/plain": [
       "'zyf'"
      ]
     },
     "execution_count": 122,
     "metadata": {},
     "output_type": "execute_result"
    }
   ],
   "source": [
    "# translate 적용하여 뒤에 문자는 제거됨\n",
    "h10.translate(str.maketrans('ace','zyf', 'bd'))"
   ]
  },
  {
   "cell_type": "markdown",
   "id": "3c1e36d8",
   "metadata": {},
   "source": [
    "# 정규표현식"
   ]
  },
  {
   "cell_type": "code",
   "execution_count": 125,
   "id": "3c094c61",
   "metadata": {},
   "outputs": [],
   "source": [
    "import re"
   ]
  },
  {
   "cell_type": "code",
   "execution_count": 126,
   "id": "05298605",
   "metadata": {},
   "outputs": [
    {
     "data": {
      "text/plain": [
       "'안녕하세요! This is a test. 1234 #$%^&*&()'"
      ]
     },
     "execution_count": 126,
     "metadata": {},
     "output_type": "execute_result"
    }
   ],
   "source": [
    "# 한글, 영어, 숫자, 특수문자 적용된 문자열 할당 및 확인\n",
    "text = \"안녕하세요! This is a test. 1234 #$%^&*&()\"\n",
    "text"
   ]
  },
  {
   "cell_type": "code",
   "execution_count": 128,
   "id": "2612f327",
   "metadata": {},
   "outputs": [
    {
     "data": {
      "text/plain": [
       "'안녕하세요 This is a test 1234'"
      ]
     },
     "execution_count": 128,
     "metadata": {},
     "output_type": "execute_result"
    }
   ],
   "source": [
    "# 한글, 영어 소문자, 영어 대문자, 숫자만 정규화 적용하여 재할당\n",
    "text = re.sub(r'[^가-힣a-zA-Z0-9]', ' ', text)\n",
    "\n",
    "# 양쪽 공백 제거와 replace 적용하여 재할당 및 확인\n",
    "text = text.replace(\"  \", \" \").strip()\n",
    "text"
   ]
  },
  {
   "cell_type": "code",
   "execution_count": 129,
   "id": "00827472",
   "metadata": {},
   "outputs": [
    {
     "data": {
      "text/plain": [
       "'112731,239840,서귀포 칼 호텔 (Seogwipo KAL Hotel),family,3박 가족 여행,2020년 11월 19일,8.0,넓디넓은 정원과 산책로 덕분에 코로나 시대 언택트 여행에 좋았구요. 조용하고 한적하게 잘 쉬었어요.\\n아무래도 서귀포가 제주시쪽보단 사람도 적어서 오히려 편하면서, 주변에 식당이나 까페, 편의점 갈때도 걸어서도 다녀올 입지라 좋습니다.\\n실내 수영장은 생각만큼? 작은 규모라 오히려 사람 없이 잘 놀았어요ㅎㅎ \\n라운지바가 넓고 층고도 높아서 커피나 맥주 먹으며 쉬기에 좋고요.\\n매일 주시는 1.5리터 생수ㅎㅎ별거 아닐수 있지만 매우 감사했구요.\\n다만 층수가 낮은 방이어서 그런가 모기가 있었어요^^;; 그외에는 다 깨끗했구요. \\n매트리스가 오래됐는지 묘하게 불편해서 허리가 아프긴 하더라고요;; 다행히? 세미온돌이라 바닥에서 자는게 오히려 나았고요\\n조식은...최근 후기가 다 별로라길래 하루만 가봤는데 역시;;ㅎ 뭐 저렴하기도 하지만.. 저는 나가서 먹었습니다.'"
      ]
     },
     "execution_count": 129,
     "metadata": {},
     "output_type": "execute_result"
    }
   ],
   "source": [
    "test3 = \"\"\"112731,239840,서귀포 칼 호텔 (Seogwipo KAL Hotel),family,3박 가족 여행,2020년 11월 19일,8.0,넓디넓은 정원과 산책로 덕분에 코로나 시대 언택트 여행에 좋았구요. 조용하고 한적하게 잘 쉬었어요.\n",
    "아무래도 서귀포가 제주시쪽보단 사람도 적어서 오히려 편하면서, 주변에 식당이나 까페, 편의점 갈때도 걸어서도 다녀올 입지라 좋습니다.\n",
    "실내 수영장은 생각만큼? 작은 규모라 오히려 사람 없이 잘 놀았어요ㅎㅎ \n",
    "라운지바가 넓고 층고도 높아서 커피나 맥주 먹으며 쉬기에 좋고요.\n",
    "매일 주시는 1.5리터 생수ㅎㅎ별거 아닐수 있지만 매우 감사했구요.\n",
    "다만 층수가 낮은 방이어서 그런가 모기가 있었어요^^;; 그외에는 다 깨끗했구요. \n",
    "매트리스가 오래됐는지 묘하게 불편해서 허리가 아프긴 하더라고요;; 다행히? 세미온돌이라 바닥에서 자는게 오히려 나았고요\n",
    "조식은...최근 후기가 다 별로라길래 하루만 가봤는데 역시;;ㅎ 뭐 저렴하기도 하지만.. 저는 나가서 먹었습니다.\"\"\"\n",
    "\n",
    "test3"
   ]
  },
  {
   "cell_type": "code",
   "execution_count": 130,
   "id": "115df149",
   "metadata": {},
   "outputs": [
    {
     "data": {
      "text/plain": [
       "'넓디넓은 정원과 산책로 덕분에 코로나 시대 언택트 여행에 좋았구요. 조용하고 한적하게 잘 쉬었어요.\\n아무래도 서귀포가 제주시쪽보단 사람도 적어서 오히려 편하면서  주변에 식당이나 까페  편의점 갈때도 걸어서도 다녀올 입지라 좋습니다.\\n실내 수영장은 생각만큼? 작은 규모라 오히려 사람 없이 잘 놀았어요ㅎㅎ \\n라운지바가 넓고 층고도 높아서 커피나 맥주 먹으며 쉬기에 좋고요.\\n매일 주시는 1.5리터 생수ㅎㅎ별거 아닐수 있지만 매우 감사했구요.\\n다만 층수가 낮은 방이어서 그런가 모기가 있었어요^^;; 그외에는 다 깨끗했구요. \\n매트리스가 오래됐는지 묘하게 불편해서 허리가 아프긴 하더라고요;; 다행히? 세미온돌이라 바닥에서 자는게 오히려 나았고요\\n조식은...최근 후기가 다 별로라길래 하루만 가봤는데 역시;;ㅎ 뭐 저렴하기도 하지만.. 저는 나가서 먹었습니다.'"
      ]
     },
     "execution_count": 130,
     "metadata": {},
     "output_type": "execute_result"
    }
   ],
   "source": [
    "# split 적용 및 인덱싱하여 join 적용하고 재할당 및 확인\n",
    "test3 = \" \".join(test3.split(\",\")[7:])\n",
    "test3"
   ]
  },
  {
   "cell_type": "code",
   "execution_count": 131,
   "id": "199006de",
   "metadata": {},
   "outputs": [
    {
     "data": {
      "text/plain": [
       "'넓디넓은 정원과 산책로 덕분에 코로나 시대 언택트 여행에 좋았구요 조용하고 한적하게 잘 쉬었어요 아무래도 서귀포가 제주시쪽보단 사람도 적어서 오히려 편하면서 주변에 식당이나 까페 편의점 갈때도 걸어서도 다녀올 입지라 좋습니다 실내 수영장은 생각만큼 작은 규모라 오히려 사람 없이 잘 놀았어요 라운지바가 넓고 층고도 높아서 커피나 맥주 먹으며 쉬기에 좋고요 매일 주시는 1 5리터 생수 별거 아닐수 있지만 매우 감사했구요 다만 층수가 낮은 방이어서 그런가 모기가 있었어요  그외에는 다 깨끗했구요 매트리스가 오래됐는지 묘하게 불편해서 허리가 아프긴 하더라고요 다행히 세미온돌이라 바닥에서 자는게 오히려 나았고요 조식은 최근 후기가 다 별로라길래 하루만 가봤는데 역시 뭐 저렴하기도 하지만 저는 나가서 먹었습니다 '"
      ]
     },
     "execution_count": 131,
     "metadata": {},
     "output_type": "execute_result"
    }
   ],
   "source": [
    "# 정규화 및 replace 적용하여 재할당 및 확인\n",
    "test3 = re.sub(r'[^가-힣a-zA-Z0-9]', ' ', test3).replace(\"  \", \" \",-1).replace(\"  \", \" \")\n",
    "test3"
   ]
  },
  {
   "cell_type": "code",
   "execution_count": null,
   "id": "12e339a0",
   "metadata": {},
   "outputs": [],
   "source": []
  }
 ],
 "metadata": {
  "kernelspec": {
   "display_name": "Python 3 (ipykernel)",
   "language": "python",
   "name": "python3"
  },
  "language_info": {
   "codemirror_mode": {
    "name": "ipython",
    "version": 3
   },
   "file_extension": ".py",
   "mimetype": "text/x-python",
   "name": "python",
   "nbconvert_exporter": "python",
   "pygments_lexer": "ipython3",
   "version": "3.9.21"
  }
 },
 "nbformat": 4,
 "nbformat_minor": 5
}
