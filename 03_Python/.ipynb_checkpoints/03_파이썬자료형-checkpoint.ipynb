{
 "cells": [
  {
   "cell_type": "markdown",
   "id": "4a7236f8",
   "metadata": {},
   "source": [
    "# 파이썬의 자료형(data type)\n",
    "### 파이썬의 자료형은 동적으로 변화\n",
    "\n",
    "- int : 정수형(소수점이 없는 숫자)\n",
    "- float : 실수(소수점이 있는 숫자)\n",
    "- str : 문자 / 문자열\n",
    "- list : 여러 개의 자료가 순서대로 저장된 자료형(모든 자료형 넣을 수 있음)\n",
    "- tuple : list와 비슷하나 한 번 만들면 수정이 안됨(모든 자료형 넣을 수 있음)\n",
    "- dict(dictionary) : key: value 쌍으로 이루어진 자료형(모든 자료형 넣을 수 있음)\n"
   ]
  },
  {
   "cell_type": "markdown",
   "id": "b4d0c1ad",
   "metadata": {},
   "source": [
    "# type(변수) : 데이터 타입을 출력하는 함수"
   ]
  },
  {
   "cell_type": "markdown",
   "id": "a26001aa",
   "metadata": {},
   "source": [
    "## 정수형 변수(int)"
   ]
  },
  {
   "cell_type": "code",
   "execution_count": 4,
   "id": "e3489da6",
   "metadata": {},
   "outputs": [
    {
     "name": "stdout",
     "output_type": "stream",
     "text": [
      "10 <class 'int'>\n"
     ]
    }
   ],
   "source": [
    "# 정수형 변수 할당\n",
    "a = 10\n",
    "print(a, type(a))\n"
   ]
  },
  {
   "cell_type": "code",
   "execution_count": 6,
   "id": "9f569591",
   "metadata": {},
   "outputs": [
    {
     "name": "stdout",
     "output_type": "stream",
     "text": [
      "10 <class 'str'>\n"
     ]
    }
   ],
   "source": [
    "# 문자형 변수 할당\n",
    "aa = '10'\n",
    "print(aa, type(aa))\n"
   ]
  },
  {
   "cell_type": "code",
   "execution_count": 7,
   "id": "1b0fdb77",
   "metadata": {},
   "outputs": [
    {
     "name": "stdout",
     "output_type": "stream",
     "text": [
      "3.14 <class 'float'>\n"
     ]
    }
   ],
   "source": [
    "# 실수형 변수 할당\n",
    "a = 3.14\n",
    "print(a, type(a))\n"
   ]
  },
  {
   "cell_type": "code",
   "execution_count": 192,
   "id": "6d3b3bbd",
   "metadata": {},
   "outputs": [
    {
     "name": "stdout",
     "output_type": "stream",
     "text": [
      "삼쩜일 <class 'str'> 5 <class 'int'>\n"
     ]
    },
    {
     "data": {
      "text/plain": [
       "'삼쩜일삼쩜일삼쩜일삼쩜일삼쩜일'"
      ]
     },
     "execution_count": 192,
     "metadata": {},
     "output_type": "execute_result"
    }
   ],
   "source": [
    "# 변수 할당\n",
    "a = '삼쩜일'\n",
    "b = 5\n",
    "\n",
    "# 문자 * 숫자\n",
    "print(a, type(a), b, type(b))\n",
    "a * b\n"
   ]
  },
  {
   "cell_type": "markdown",
   "id": "20012ee6",
   "metadata": {},
   "source": [
    "## 실수형 변수(float)\n"
   ]
  },
  {
   "cell_type": "code",
   "execution_count": 194,
   "id": "60e438ea",
   "metadata": {},
   "outputs": [
    {
     "name": "stdout",
     "output_type": "stream",
     "text": [
      "3.14 <class 'float'>\n"
     ]
    }
   ],
   "source": [
    "# 실수형 변수 할당\n",
    "f = 3.14\n",
    "print(f, type(f))\n"
   ]
  },
  {
   "cell_type": "markdown",
   "id": "7714663a",
   "metadata": {},
   "source": [
    "## 정수형 변수 +, -, * / 실수형 변수\n",
    "- 정수형 변수(int)와 실수형 변수(float)을 연산하면 모두 실수(float)"
   ]
  },
  {
   "cell_type": "code",
   "execution_count": 195,
   "id": "952c18ab",
   "metadata": {},
   "outputs": [
    {
     "name": "stdout",
     "output_type": "stream",
     "text": [
      "4 <class 'int'>\n",
      "-2 <class 'int'>\n",
      "3 <class 'int'>\n",
      "0.3333333333333333 <class 'float'>\n"
     ]
    }
   ],
   "source": [
    "# 정수형 변수 할당\n",
    "a = 1\n",
    "b = 3\n",
    "\n",
    "# 정수형 변수 연산 수행\n",
    "print(a+b, type(a+b))\n",
    "print(a-b, type(a-b))\n",
    "print(a*b, type(a*b))\n",
    "print(a/b, type(a/b)) # 나눗셈의 결과는 실수\n"
   ]
  },
  {
   "cell_type": "code",
   "execution_count": 196,
   "id": "c03cc331",
   "metadata": {},
   "outputs": [
    {
     "name": "stdout",
     "output_type": "stream",
     "text": [
      "4.140000000000001\n",
      "-2.14\n",
      "3.14\n",
      "0.3184713375796178\n"
     ]
    }
   ],
   "source": [
    "# 정수형과 실수형 변수 연산 수행\n",
    "print(a + f)\n",
    "print(a - f)\n",
    "print(a * f)\n",
    "print(a / f)\n"
   ]
  },
  {
   "cell_type": "code",
   "execution_count": 197,
   "id": "fa9e8794",
   "metadata": {},
   "outputs": [
    {
     "name": "stdout",
     "output_type": "stream",
     "text": [
      "a_plus_f =  4.140000000000001 <class 'float'>\n",
      "a_minus_f =  -2.14 <class 'float'>\n",
      "a_mul_f =  3.14 <class 'float'>\n",
      "a_div_f =  0.3184713375796178 <class 'float'>\n"
     ]
    }
   ],
   "source": [
    "# 정수와 실수형 변수 연산 수행 결과 및 데이터 타입 확인\n",
    "print('a_plus_f = ', a_plus_f, type(a_plus_f))\n",
    "print('a_minus_f = ', a_minus_f, type(a_minus_f))\n",
    "print('a_mul_f = ', a_mul_f, type(a_mul_f))\n",
    "print('a_div_f = ', a_div_f, type(a_div_f))\n"
   ]
  },
  {
   "cell_type": "markdown",
   "id": "aab0cdb0",
   "metadata": {},
   "source": [
    "# 문자형(str)"
   ]
  },
  {
   "cell_type": "code",
   "execution_count": 198,
   "id": "a0a9c033",
   "metadata": {},
   "outputs": [
    {
     "name": "stdout",
     "output_type": "stream",
     "text": [
      "문 <class 'str'>\n",
      "자 <class 'str'>\n",
      "문자열 <class 'str'>\n"
     ]
    }
   ],
   "source": [
    "# 문자 변수 할당 및 확인\n",
    "c = '문'\n",
    "d = \"자\"\n",
    "e = \"문자열\"\n",
    "\n",
    "print(c,type(c))\n",
    "print(d,type(d))\n",
    "print(e,type(e))\n"
   ]
  },
  {
   "cell_type": "code",
   "execution_count": 142,
   "id": "c78d0733",
   "metadata": {},
   "outputs": [
    {
     "name": "stdout",
     "output_type": "stream",
     "text": [
      "문자열은 아무리 길이가 길어도 한 줄로 되어 있어야 하고 줄바꿈이 안된다.\n",
      "<class 'str'>\n"
     ]
    }
   ],
   "source": [
    "# 문자열 할당\n",
    "long_char = '문자열은 아무리 길이가 길어도 한 줄로 되어 있어야 하고 줄바꿈이 안된다.'\n",
    "print(long_char)\n",
    "print(type(long_char))"
   ]
  },
  {
   "cell_type": "code",
   "execution_count": 143,
   "id": "a3f087d9",
   "metadata": {},
   "outputs": [
    {
     "name": "stdout",
     "output_type": "stream",
     "text": [
      "문자열은 아무리 길이가 길어도한 줄로 되어 있어야 한다. 줄바꿈이 안된다.줄바꿈을 하고 싶으면 \"\"\"\"\"\" 안에 넣으면 된다.\n"
     ]
    }
   ],
   "source": [
    "long_char2 = '문자열은 아무리 길이가 길어도한 줄로 되어 있어야 한다. 줄바꿈이 안된다.줄바꿈을 하고 싶으면 \\\"\\\"\\\"\\\"\\\"\\\" 안에 넣으면 된다.'\n",
    "print(long_char2)"
   ]
  },
  {
   "cell_type": "code",
   "execution_count": 144,
   "id": "c9465952",
   "metadata": {},
   "outputs": [
    {
     "name": "stdout",
     "output_type": "stream",
     "text": [
      "문자열은 아무리 길이가 길어도한 줄로 되어 있어야 한다, 줄바꿈이 안된다. 줄바굼을 하고 싶으면 \"\"\"\"\"\" 안에 넣으면 된다.\n"
     ]
    }
   ],
   "source": [
    "long_char3 = '문자열은 아무리 길이가 길어도\\\n",
    "한 줄로 되어 있어야 한다, \\\n",
    "줄바꿈이 안된다. \\\n",
    "줄바굼을 하고 싶으면 \\\n",
    "\\\"\\\"\\\"\\\"\\\"\\\" 안에 넣으면 된다.'\n",
    "print(long_char3)"
   ]
  },
  {
   "cell_type": "code",
   "execution_count": 145,
   "id": "1d92d052",
   "metadata": {},
   "outputs": [
    {
     "name": "stdout",
     "output_type": "stream",
     "text": [
      "문자열은 아무리 길이가 길어도\n",
      " 한 줄로 되어 있어야 한다, \n",
      " 줄바꿈이 안된다. \n",
      " 줄바굼을 하고 싶으면 \n",
      " \"\"\" \"\"\" 안에 넣으면 된다.\n"
     ]
    }
   ],
   "source": [
    "long_char4 = '문자열은 아무리 길이가 길어도\\n \\\n",
    "한 줄로 되어 있어야 한다, \\n \\\n",
    "줄바꿈이 안된다. \\n \\\n",
    "줄바굼을 하고 싶으면 \\n \\\n",
    "\\\"\\\"\\\" \\\"\\\"\\\" 안에 넣으면 된다.'\n",
    "print(long_char4)"
   ]
  },
  {
   "cell_type": "code",
   "execution_count": 62,
   "id": "9a1cfe8a",
   "metadata": {},
   "outputs": [
    {
     "name": "stdout",
     "output_type": "stream",
     "text": [
      "따옴표 3개로 문자열을 감싸면\n",
      "줄바꿈을 해도 모두 그대로 출력된다.\n",
      "쌍따옴표 3개나 홀따옴표 3개로 감싸면 된다.\n"
     ]
    }
   ],
   "source": [
    "# 쌍따옴표 3개 : 작성한 그대로 나옴(들여쓰기도 적용됨)\n",
    "long_char5 = \"\"\"따옴표 3개로 문자열을 감싸면\n",
    "줄바꿈을 해도 모두 그대로 출력된다.\n",
    "쌍따옴표 3개나 홀따옴표 3개로 감싸면 된다.\"\"\"\n",
    "print(long_char5)\n"
   ]
  },
  {
   "cell_type": "code",
   "execution_count": 64,
   "id": "62f9950e",
   "metadata": {},
   "outputs": [
    {
     "name": "stdout",
     "output_type": "stream",
     "text": [
      "따옴표 3개로 문자열을 감싸면\n",
      "    줄바꿈을 해도 모두 그대로 출력된다.\n",
      "        쌍따옴표 3개나 홀따옴표 3개로 감싸면 된다.\n"
     ]
    }
   ],
   "source": [
    "# 홀따옴표 3개 : 작성한 그대로 나옴(들여쓰기도 적용됨)\n",
    "long_char6 = '''따옴표 3개로 문자열을 감싸면\n",
    "    줄바꿈을 해도 모두 그대로 출력된다.\n",
    "        쌍따옴표 3개나 홀따옴표 3개로 감싸면 된다.'''\n",
    "print(long_char6)\n"
   ]
  },
  {
   "cell_type": "markdown",
   "id": "e908e229",
   "metadata": {},
   "source": [
    "# 문자 덧셈 +, 문자 반복 *\n"
   ]
  },
  {
   "cell_type": "markdown",
   "id": "74307704",
   "metadata": {},
   "source": [
    "- 문자변수1 + 문자변수2 = 문자가 합쳐짐(뺄셈은 성립하지 않음)\n"
   ]
  },
  {
   "cell_type": "code",
   "execution_count": 73,
   "id": "2c5b6e18",
   "metadata": {},
   "outputs": [
    {
     "data": {
      "text/plain": [
       "'문자'"
      ]
     },
     "execution_count": 73,
     "metadata": {},
     "output_type": "execute_result"
    }
   ],
   "source": [
    "# 문자 확인 및 덧셈\n",
    "print(c,d)\n",
    "print(c + d)\n"
   ]
  },
  {
   "cell_type": "code",
   "execution_count": 74,
   "id": "4b5cb560",
   "metadata": {},
   "outputs": [
    {
     "ename": "TypeError",
     "evalue": "unsupported operand type(s) for -: 'str' and 'str'",
     "output_type": "error",
     "traceback": [
      "\u001b[1;31m---------------------------------------------------------------------------\u001b[0m",
      "\u001b[1;31mTypeError\u001b[0m                                 Traceback (most recent call last)",
      "Cell \u001b[1;32mIn[74], line 1\u001b[0m\n\u001b[1;32m----> 1\u001b[0m \u001b[43me\u001b[49m\u001b[38;5;241;43m-\u001b[39;49m\u001b[43mc\u001b[49m\n",
      "\u001b[1;31mTypeError\u001b[0m: unsupported operand type(s) for -: 'str' and 'str'"
     ]
    }
   ],
   "source": [
    "# 문자변수끼리의 뺄셈은 성립하지 않음\n",
    "e-c"
   ]
  },
  {
   "cell_type": "markdown",
   "id": "d0f94567",
   "metadata": {},
   "source": [
    "- 문자변수 * 숫자 : 문자나 문자열을 반복"
   ]
  },
  {
   "cell_type": "code",
   "execution_count": 128,
   "id": "2d7a28d5",
   "metadata": {},
   "outputs": [
    {
     "name": "stdout",
     "output_type": "stream",
     "text": [
      "문자열문자열문자열\n",
      "--------------------------------------------------\n",
      "문자열\n",
      "==================================================\n"
     ]
    }
   ],
   "source": [
    "#  문자변수*숫자\n",
    "print(e * 3)\n",
    "\n",
    "# 문자 * 숫자\n",
    "print('-'*50)\n",
    "print(e)\n",
    "print('='*50)\n"
   ]
  },
  {
   "cell_type": "markdown",
   "id": "c767886b",
   "metadata": {},
   "source": [
    "# 문자열은 순서 존재\n",
    "### 가장 앞글자가 0번, 0번부터 순서대로 증가\n",
    "\n",
    "- len : 길이를 재는 함수 "
   ]
  },
  {
   "cell_type": "code",
   "execution_count": 127,
   "id": "91c7a3fe",
   "metadata": {},
   "outputs": [
    {
     "name": "stdout",
     "output_type": "stream",
     "text": [
      "문자열은 아무리 길이가 길어도 한 줄로 되어 있어야 하고 줄바꿈이 안된다.\n"
     ]
    },
    {
     "data": {
      "text/plain": [
       "41"
      ]
     },
     "execution_count": 127,
     "metadata": {},
     "output_type": "execute_result"
    }
   ],
   "source": [
    "# 문자열 확인\n",
    "print(long_char)\n",
    "\n",
    "# 문자열 길이 확인\n",
    "len(long_char)"
   ]
  },
  {
   "cell_type": "markdown",
   "id": "46848ebe",
   "metadata": {},
   "source": [
    "- 인덱싱 : 변수명[인덱스번호]\n",
    "- 슬라이싱 : 변수명[시작번호:끝번호+1]\n"
   ]
  },
  {
   "cell_type": "code",
   "execution_count": 99,
   "id": "40e78866",
   "metadata": {},
   "outputs": [
    {
     "name": "stdout",
     "output_type": "stream",
     "text": [
      "다\n",
      "줄바꿈이 안된다\n"
     ]
    },
    {
     "data": {
      "text/plain": [
       "'줄바꿈이 안된다'"
      ]
     },
     "execution_count": 99,
     "metadata": {},
     "output_type": "execute_result"
    }
   ],
   "source": [
    "# 인덱싱 확인\n",
    "print(long_char[39])\n",
    "\n",
    "# 슬라이싱 확인\n",
    "print(long_char[32:40])\n",
    "long_char[-9:40]\n"
   ]
  },
  {
   "cell_type": "markdown",
   "id": "4628bd11",
   "metadata": {},
   "source": [
    "# 리스트(list)\n",
    "- 리스트는 [정수, 실수,  문자, 리스트, 튜플, 디셔너리] 모두 넣을 수 있음\n",
    "- 리스트는 여러 자료가 같이 나열된 형태이므로 순서가 존재\n",
    "- 인덱싱, 슬라이싱 가능\n",
    "- 자료의 추가/삭제 가능\n"
   ]
  },
  {
   "cell_type": "code",
   "execution_count": 130,
   "id": "5ab9cd72",
   "metadata": {},
   "outputs": [
    {
     "name": "stdout",
     "output_type": "stream",
     "text": [
      "[1, 2.0, '삼', [1, 2, 3], (4, 5, 6), {'key': 'value'}] <class 'list'>\n"
     ]
    }
   ],
   "source": [
    "# 리스트 할당\n",
    "L = [1, 2.0, '삼', [1,2,3], (4,5,6), {'key':'value'}]\n",
    "print(L, type(L))\n"
   ]
  },
  {
   "cell_type": "code",
   "execution_count": 129,
   "id": "58160560",
   "metadata": {},
   "outputs": [
    {
     "name": "stdout",
     "output_type": "stream",
     "text": [
      "1 2.0 삼 [1, 2, 3]\n",
      "[1, 2.0, '삼', [1, 2, 3]]\n",
      "3\n"
     ]
    }
   ],
   "source": [
    "# 리스트 인덱싱\n",
    "print(L[0], L[1], L[2], L[3])\n",
    "\n",
    "# 리스트 슬라이싱\n",
    "print(L[0:4])\n",
    "\n",
    "# 중첩리스트 인덱싱\n",
    "print(L[3][2])"
   ]
  },
  {
   "cell_type": "code",
   "execution_count": 146,
   "id": "73ee20a7",
   "metadata": {},
   "outputs": [
    {
     "name": "stdout",
     "output_type": "stream",
     "text": [
      "[1, 2, 3, [4, 5, [6, 7, 8, [9, 10]]]]\n",
      "[4, 5, [6, 7, 8, [9, 10]]]\n",
      "[6, 7, 8, [9, 10]]\n",
      "[9, 10]\n",
      "10\n"
     ]
    }
   ],
   "source": [
    "#중첩 리스트\n",
    "L2 = [1,2,3,[4,5,[6,7,8,[9,10]]]]\n",
    "\n",
    "# 10 구하기 위한 인덱싱\n",
    "print(L2)\n",
    "print(L2[3])\n",
    "print(L2[3][2])\n",
    "print(L2[3][2][3])\n",
    "print(L2[3][2][3][1])"
   ]
  },
  {
   "cell_type": "markdown",
   "id": "e9a404ab",
   "metadata": {},
   "source": [
    "- 리스트명.append('데이터') : 리스트 자료 추가\n",
    "- del 리스트명[인덱스번호] : 리스트 자료 제거 "
   ]
  },
  {
   "cell_type": "code",
   "execution_count": 148,
   "id": "2e3948db",
   "metadata": {},
   "outputs": [
    {
     "data": {
      "text/plain": [
       "[1, 2, 3, [4, 5, [6, 7, 8, [9, 10]]], 'append', 'append', [11, 12, 13]]"
      ]
     },
     "execution_count": 148,
     "metadata": {},
     "output_type": "execute_result"
    }
   ],
   "source": [
    "# 리스트 자료 추가\n",
    "L2.append('append')\n",
    "L2.append([11,12,13])\n",
    "L2"
   ]
  },
  {
   "cell_type": "code",
   "execution_count": 151,
   "id": "535d1ec1",
   "metadata": {},
   "outputs": [
    {
     "data": {
      "text/plain": [
       "[1, 2, 3, [4, 5, [6, 7, 8, [9, 10]]]]"
      ]
     },
     "execution_count": 151,
     "metadata": {},
     "output_type": "execute_result"
    }
   ],
   "source": [
    "# 리스트 자료 제거\n",
    "del L2[-1]\n",
    "L2"
   ]
  },
  {
   "cell_type": "markdown",
   "id": "44ffc180",
   "metadata": {},
   "source": [
    "# 튜플(Tuple)\n",
    "- 여러가지 자료를 ()안에 넣어서 만드는 자료형\n",
    "- 모든 data type을 자료로 받을 수 있음\n",
    "- 한 번 생성되면 수정 X\n",
    "- 튜플이 리스트보다 코드 실행 시 더 빠르게 처리\n"
   ]
  },
  {
   "cell_type": "code",
   "execution_count": 153,
   "id": "ed212121",
   "metadata": {},
   "outputs": [
    {
     "name": "stdout",
     "output_type": "stream",
     "text": [
      "(1,) <class 'tuple'>\n"
     ]
    }
   ],
   "source": [
    "# 튜플 할당\n",
    "t = (1,)\n",
    "print(t, type(t))\n"
   ]
  },
  {
   "cell_type": "code",
   "execution_count": 154,
   "id": "1466bd71",
   "metadata": {},
   "outputs": [
    {
     "name": "stdout",
     "output_type": "stream",
     "text": [
      "(10, 34.5, 'tuple', [1, 2, 3], (4, 5, 6), {'key': 'value'}) <class 'tuple'>\n"
     ]
    }
   ],
   "source": [
    "# 모든 자료형 넣은 튜플 할당\n",
    "t2 = (10, 34.5, 'tuple', [1,2,3], (4,5,6), {'key': 'value'})\n",
    "print(t2, type(t2))\n"
   ]
  },
  {
   "cell_type": "code",
   "execution_count": 158,
   "id": "5ffc6dff",
   "metadata": {},
   "outputs": [
    {
     "name": "stdout",
     "output_type": "stream",
     "text": [
      "5\n",
      "(10, 34.5, 'tuple', [1, 2, 3])\n"
     ]
    }
   ],
   "source": [
    "# 튜플의 인덱싱\n",
    "print(t2[4][1])\n",
    "\n",
    "#튜플의 슬라이싱\n",
    "print(t2[0:4])\n"
   ]
  },
  {
   "cell_type": "code",
   "execution_count": 162,
   "id": "7ff56a98",
   "metadata": {},
   "outputs": [
    {
     "data": {
      "text/plain": [
       "(10, 11, 12)"
      ]
     },
     "execution_count": 162,
     "metadata": {},
     "output_type": "execute_result"
    }
   ],
   "source": [
    "t3 = (1,2,3,(4,5,6,[7,8,9,(10,11,12)]))\n",
    "t3[3][3][3]"
   ]
  },
  {
   "cell_type": "code",
   "execution_count": 164,
   "id": "1a4d9d06",
   "metadata": {},
   "outputs": [
    {
     "name": "stdout",
     "output_type": "stream",
     "text": [
      "(1, 2, 3, (4, 5, 6, [7, 8, 9, (10, 11, 12)])) <class 'tuple'>\n",
      "(4, 5, 6, [7, 8, 9, (10, 11, 12)]) <class 'tuple'>\n",
      "[7, 8, 9, (10, 11, 12)] <class 'list'>\n",
      "(10, 11, 12) <class 'tuple'>\n",
      "10 <class 'int'>\n"
     ]
    }
   ],
   "source": [
    "# 튜플의 데이터 타입 확인\n",
    "print(t3, type(t3))\n",
    "print(t3[3], type(t3[3]))\n",
    "print(t3[3][3], type(t3[3][3]))\n",
    "print(t3[3][3][3], type(t3[3][3][3]))\n",
    "print(t3[3][3][3][0], type(t3[3][3][3][0]))\n"
   ]
  },
  {
   "cell_type": "code",
   "execution_count": 165,
   "id": "25d40685",
   "metadata": {},
   "outputs": [
    {
     "ename": "AttributeError",
     "evalue": "'tuple' object has no attribute 'append'",
     "output_type": "error",
     "traceback": [
      "\u001b[1;31m---------------------------------------------------------------------------\u001b[0m",
      "\u001b[1;31mAttributeError\u001b[0m                            Traceback (most recent call last)",
      "Cell \u001b[1;32mIn[165], line 2\u001b[0m\n\u001b[0;32m      1\u001b[0m \u001b[38;5;66;03m# 튜플 자료 추가/제거 X\u001b[39;00m\n\u001b[1;32m----> 2\u001b[0m \u001b[43mt3\u001b[49m\u001b[38;5;241;43m.\u001b[39;49m\u001b[43mappend\u001b[49m(\u001b[38;5;124m'\u001b[39m\u001b[38;5;124m2\u001b[39m\u001b[38;5;124m'\u001b[39m)\n",
      "\u001b[1;31mAttributeError\u001b[0m: 'tuple' object has no attribute 'append'"
     ]
    }
   ],
   "source": [
    "# 튜플 자료 추가/제거 X\n",
    "t3.append('2')"
   ]
  },
  {
   "cell_type": "markdown",
   "id": "90a1ce76",
   "metadata": {},
   "source": [
    "# 딕셔너리형(dict)\n",
    "### JSON{\"key\": \"value\"}\n",
    "- key와 value로 이루어진 데이터형\n",
    "- json이라고 불리며 웹 상에서 데이터 주고 받을때 주로 사용\n",
    "- 딕셔너리의 value에는 모든 자료형이 올 수 있음\n",
    "- 딕셔너리는 순서가 없는 자료형\n",
    "- key를 호출하면 value가 출력\n"
   ]
  },
  {
   "cell_type": "code",
   "execution_count": 1,
   "id": "df476517",
   "metadata": {},
   "outputs": [
    {
     "name": "stdout",
     "output_type": "stream",
     "text": [
      "{'이름': '고길동', '나이': 33, '키': 175.4, '가족': ['둘리', '또치', '도우너']}\n",
      "<class 'dict'>\n"
     ]
    }
   ],
   "source": [
    "# 딕셔너리 할당\n",
    "dic1 = {'이름': '고길동', '나이': 33, '키': 175.4, '가족':['둘리', '또치', '도우너']}\n",
    "print(dic1)\n",
    "print(type(dic1))"
   ]
  },
  {
   "cell_type": "markdown",
   "id": "03763e44",
   "metadata": {},
   "source": [
    "- 딕셔너리의 길이는 key의 갯수"
   ]
  },
  {
   "cell_type": "code",
   "execution_count": 2,
   "id": "0a6773e5",
   "metadata": {},
   "outputs": [
    {
     "data": {
      "text/plain": [
       "4"
      ]
     },
     "execution_count": 2,
     "metadata": {},
     "output_type": "execute_result"
    }
   ],
   "source": [
    "# 딕셔너리의 길이\n",
    "len(dic1)"
   ]
  },
  {
   "cell_type": "code",
   "execution_count": 3,
   "id": "c1a9dbfe",
   "metadata": {},
   "outputs": [
    {
     "name": "stdout",
     "output_type": "stream",
     "text": [
      "{'이름': '고길동', '나이': 33, '키': 175.4, '가족': ['둘리', '또치', '도우너', {'신장': [130, 120, 150]}]}\n"
     ]
    }
   ],
   "source": [
    "# 딕셔너리 추가하여 할당\n",
    "dic2 = {'이름': '고길동', '나이': 33, '키': 175.4, '가족':['둘리', '또치', '도우너',{'신장':[130,120,150]}]}\n",
    "print(dic2)"
   ]
  },
  {
   "cell_type": "code",
   "execution_count": 177,
   "id": "35b6faf1",
   "metadata": {},
   "outputs": [
    {
     "name": "stdout",
     "output_type": "stream",
     "text": [
      "['둘리', '또치', '도우너', {'신장': [130, 120, 150]}] <class 'list'>\n",
      "{'신장': [130, 120, 150]}\n",
      "[130, 120, 150]\n",
      "120\n"
     ]
    }
   ],
   "source": [
    "# 딕셔너리 인덱싱\n",
    "print(dic2['가족'], type(dic2['가족']))\n",
    "print(dic2['가족'][3])\n",
    "print(dic2['가족'][3]['신장'])\n",
    "print(dic2['가족'][3]['신장'][1])\n"
   ]
  },
  {
   "cell_type": "markdown",
   "id": "39cb4b0f",
   "metadata": {},
   "source": [
    "- 딕셔너리명[새로운 키값]= value값 : 딕셔너리 자료 추가\n",
    "- del 딕셔너리명['삭제할 키값'] : 딕셔너리 자료 제거\n"
   ]
  },
  {
   "cell_type": "code",
   "execution_count": 179,
   "id": "ba0c980c",
   "metadata": {},
   "outputs": [
    {
     "data": {
      "text/plain": [
       "{'이름': '고길동',\n",
       " '나이': 33,\n",
       " '키': 175.4,\n",
       " '가족': ['둘리', '또치', '도우너', {'신장': [130, 120, 150]}],\n",
       " '새자료': (1, 2, 3)}"
      ]
     },
     "execution_count": 179,
     "metadata": {},
     "output_type": "execute_result"
    }
   ],
   "source": [
    "# 딕셔너리 자표 추가\n",
    "dic2['새자료'] = (1,2,3)\n",
    "dic2"
   ]
  },
  {
   "cell_type": "code",
   "execution_count": 181,
   "id": "2c39a5b6",
   "metadata": {},
   "outputs": [
    {
     "ename": "KeyError",
     "evalue": "'가족'",
     "output_type": "error",
     "traceback": [
      "\u001b[1;31m---------------------------------------------------------------------------\u001b[0m",
      "\u001b[1;31mKeyError\u001b[0m                                  Traceback (most recent call last)",
      "Cell \u001b[1;32mIn[181], line 2\u001b[0m\n\u001b[0;32m      1\u001b[0m \u001b[38;5;66;03m# 딕셔너리 자료 제거\u001b[39;00m\n\u001b[1;32m----> 2\u001b[0m \u001b[38;5;28;01mdel\u001b[39;00m dic2[\u001b[38;5;124m'\u001b[39m\u001b[38;5;124m가족\u001b[39m\u001b[38;5;124m'\u001b[39m]\n\u001b[0;32m      3\u001b[0m dic2\n",
      "\u001b[1;31mKeyError\u001b[0m: '가족'"
     ]
    }
   ],
   "source": [
    "# 딕셔너리 자료 제거\n",
    "del dic2['가족']\n",
    "dic2"
   ]
  },
  {
   "cell_type": "code",
   "execution_count": 186,
   "id": "3f542400",
   "metadata": {},
   "outputs": [
    {
     "data": {
      "text/plain": [
       "{'이름': ['홍길동', '둘리', '또치'],\n",
       " '나이': (33, 12, 14),\n",
       " '성별': ('남', '여', '남'),\n",
       " '주소': ['서울', '뉴욕', '프랑스']}"
      ]
     },
     "execution_count": 186,
     "metadata": {},
     "output_type": "execute_result"
    }
   ],
   "source": [
    "# 딕셔너리 할당\n",
    "dic3 = {\n",
    "    '이름': ['홍길동', '둘리', '또치'],\n",
    "    '나이': (33, 12, 14),\n",
    "    '성별': ('남', '여', '남'),\n",
    "    '주소': ['서울', '뉴욕', '프랑스']\n",
    "}\n",
    "\n",
    "# 딕셔너리 확인\n",
    "dic3"
   ]
  },
  {
   "cell_type": "code",
   "execution_count": 190,
   "id": "c0f9b4e1",
   "metadata": {},
   "outputs": [
    {
     "data": {
      "text/html": [
       "<div>\n",
       "<style scoped>\n",
       "    .dataframe tbody tr th:only-of-type {\n",
       "        vertical-align: middle;\n",
       "    }\n",
       "\n",
       "    .dataframe tbody tr th {\n",
       "        vertical-align: top;\n",
       "    }\n",
       "\n",
       "    .dataframe thead th {\n",
       "        text-align: right;\n",
       "    }\n",
       "</style>\n",
       "<table border=\"1\" class=\"dataframe\">\n",
       "  <thead>\n",
       "    <tr style=\"text-align: right;\">\n",
       "      <th></th>\n",
       "      <th>이름</th>\n",
       "      <th>나이</th>\n",
       "      <th>성별</th>\n",
       "      <th>주소</th>\n",
       "    </tr>\n",
       "  </thead>\n",
       "  <tbody>\n",
       "    <tr>\n",
       "      <th>0</th>\n",
       "      <td>홍길동</td>\n",
       "      <td>33</td>\n",
       "      <td>남</td>\n",
       "      <td>서울</td>\n",
       "    </tr>\n",
       "    <tr>\n",
       "      <th>1</th>\n",
       "      <td>둘리</td>\n",
       "      <td>12</td>\n",
       "      <td>여</td>\n",
       "      <td>뉴욕</td>\n",
       "    </tr>\n",
       "    <tr>\n",
       "      <th>2</th>\n",
       "      <td>또치</td>\n",
       "      <td>14</td>\n",
       "      <td>남</td>\n",
       "      <td>프랑스</td>\n",
       "    </tr>\n",
       "  </tbody>\n",
       "</table>\n",
       "</div>"
      ],
      "text/plain": [
       "    이름  나이 성별   주소\n",
       "0  홍길동  33  남   서울\n",
       "1   둘리  12  여   뉴욕\n",
       "2   또치  14  남  프랑스"
      ]
     },
     "execution_count": 190,
     "metadata": {},
     "output_type": "execute_result"
    }
   ],
   "source": [
    "# pandas 라이브러리 활용\n",
    "import pandas as pd\n",
    "\n",
    "# 데이터프레임 할당\n",
    "df = pd.DataFrame(dic3)\n",
    "df"
   ]
  },
  {
   "cell_type": "markdown",
   "id": "211ebf4f",
   "metadata": {},
   "source": [
    "# 형 변환\n",
    "#### 형변환: data type을 다른 data type으로 바꾸는 것\n"
   ]
  },
  {
   "cell_type": "code",
   "execution_count": 19,
   "id": "99a50483",
   "metadata": {},
   "outputs": [
    {
     "name": "stdout",
     "output_type": "stream",
     "text": [
      "3 3\n"
     ]
    }
   ],
   "source": [
    "# 숫자와 문자 할당\n",
    "a = 3\n",
    "b = '3'\n",
    "print(a,b)"
   ]
  },
  {
   "cell_type": "code",
   "execution_count": 14,
   "id": "83da1599",
   "metadata": {},
   "outputs": [
    {
     "data": {
      "text/plain": [
       "6"
      ]
     },
     "execution_count": 14,
     "metadata": {},
     "output_type": "execute_result"
    }
   ],
   "source": [
    "# 정수와 문자는 연산 X\n",
    "a+b"
   ]
  },
  {
   "cell_type": "markdown",
   "id": "1947f43f",
   "metadata": {},
   "source": [
    "- int() : 정수로 형변환\n",
    "- float() : 실수로 형변환\n",
    "- str() : 문자열로 형변환\n",
    "- list() : 리스트로 형변환\n",
    "- tuple() : 튜플로 형변환"
   ]
  },
  {
   "cell_type": "code",
   "execution_count": 20,
   "id": "1e9b9c9e",
   "metadata": {},
   "outputs": [
    {
     "data": {
      "text/plain": [
       "6"
      ]
     },
     "execution_count": 20,
     "metadata": {},
     "output_type": "execute_result"
    }
   ],
   "source": [
    "# 정수로 형변환\n",
    "b = int(b)\n",
    "\n",
    "# 정수 형변환 -> 정수 + 정수\n",
    "a+b"
   ]
  },
  {
   "cell_type": "code",
   "execution_count": 21,
   "id": "8b0b811b",
   "metadata": {},
   "outputs": [
    {
     "data": {
      "text/plain": [
       "6.0"
      ]
     },
     "execution_count": 21,
     "metadata": {},
     "output_type": "execute_result"
    }
   ],
   "source": [
    "# 실수로 형변환\n",
    "b = float(b)\n",
    "\n",
    "# 정수 + 실수\n",
    "a+b"
   ]
  },
  {
   "cell_type": "code",
   "execution_count": 25,
   "id": "d0fc0e56",
   "metadata": {},
   "outputs": [
    {
     "data": {
      "text/plain": [
       "'33'"
      ]
     },
     "execution_count": 25,
     "metadata": {},
     "output_type": "execute_result"
    }
   ],
   "source": [
    "# 문자열로 형변환 및 b 재할당\n",
    "a = str(a)\n",
    "b = '3'\n",
    "\n",
    "# 문자 + 문자 = 나열\n",
    "a + b"
   ]
  },
  {
   "cell_type": "code",
   "execution_count": 32,
   "id": "2a64489f",
   "metadata": {},
   "outputs": [
    {
     "name": "stdout",
     "output_type": "stream",
     "text": [
      "[1, 2, 3, 4] <class 'list'>\n"
     ]
    }
   ],
   "source": [
    "# 리스트로 형변환\n",
    "t = (1,2,3,4)\n",
    "t2 = list(t)\n",
    "print(t2, type(t2))"
   ]
  },
  {
   "cell_type": "code",
   "execution_count": 33,
   "id": "55a581bd",
   "metadata": {},
   "outputs": [
    {
     "data": {
      "text/plain": [
       "[1, 2, 3, 4, 5]"
      ]
     },
     "execution_count": 33,
     "metadata": {},
     "output_type": "execute_result"
    }
   ],
   "source": [
    "# 리스트 자료 추가\n",
    "t2.append(5)\n",
    "t2"
   ]
  },
  {
   "cell_type": "code",
   "execution_count": 57,
   "id": "cd12f2bd",
   "metadata": {},
   "outputs": [
    {
     "name": "stdout",
     "output_type": "stream",
     "text": [
      "(1, 2, 3, 4, 5) <class 'tuple'>\n"
     ]
    }
   ],
   "source": [
    "# 튜플로 형변환\n",
    "t3 = tuple(t2)\n",
    "print(t3, type(t3))"
   ]
  },
  {
   "cell_type": "markdown",
   "id": "b2ff2fc1",
   "metadata": {},
   "source": [
    "# input() : 키보드 입력을 받는 함수\n",
    "- input(\"화면에 표시될 메시지\")\n",
    "- 입력 받는 값은 \" \"으로 구분해서 여러개를 받을 수 있음\n",
    "- 입력 받는 값은 모두 str 타입의 문자열"
   ]
  },
  {
   "cell_type": "code",
   "execution_count": 36,
   "id": "befb4b2d",
   "metadata": {},
   "outputs": [
    {
     "name": "stdout",
     "output_type": "stream",
     "text": [
      "이름을 입력해 주세요홍길동\n",
      "홍길동\n"
     ]
    }
   ],
   "source": [
    "input_name = input(\"이름을 입력해 주세요\")\n",
    "print(input_name)"
   ]
  },
  {
   "cell_type": "code",
   "execution_count": 51,
   "id": "528aa8fd",
   "metadata": {},
   "outputs": [
    {
     "name": "stdout",
     "output_type": "stream",
     "text": [
      "숫자를 3개 입력해 주세요40 52 65\n",
      "40 52 65 <class 'str'>\n"
     ]
    }
   ],
   "source": [
    "data = input(\"숫자를 3개 입력해 주세요\")\n",
    "print(data, type(data))"
   ]
  },
  {
   "cell_type": "code",
   "execution_count": 44,
   "id": "5ca4e25e",
   "metadata": {},
   "outputs": [
    {
     "name": "stdout",
     "output_type": "stream",
     "text": [
      "숫자를 3개 입력해 주세요10 20 30\n",
      "['10', '20', '30'] <class 'list'>\n"
     ]
    }
   ],
   "source": [
    "# split 적용(리스트)\n",
    "data2 = input(\"숫자를 3개 입력해 주세요\").split()\n",
    "print(data2, type(data2))"
   ]
  },
  {
   "cell_type": "code",
   "execution_count": 49,
   "id": "d4e4f433",
   "metadata": {},
   "outputs": [
    {
     "name": "stdout",
     "output_type": "stream",
     "text": [
      "30 <class 'str'>\n"
     ]
    }
   ],
   "source": [
    "# 리스트 인덱싱\n",
    "print(data2[2], type(data2[2]))"
   ]
  },
  {
   "cell_type": "code",
   "execution_count": 53,
   "id": "40cbc2b0",
   "metadata": {},
   "outputs": [
    {
     "data": {
      "text/plain": [
       "30"
      ]
     },
     "execution_count": 53,
     "metadata": {},
     "output_type": "execute_result"
    }
   ],
   "source": [
    "# 정수 형변환 적용 및 연산\n",
    "int(data2[0]) + int(data2[1])"
   ]
  },
  {
   "cell_type": "code",
   "execution_count": 56,
   "id": "a5abdc81",
   "metadata": {},
   "outputs": [
    {
     "name": "stdout",
     "output_type": "stream",
     "text": [
      "숫자를 4개 입력해 주세요10 20 30 40\n",
      "10 <class 'str'>\n",
      "20 <class 'str'>\n",
      "30 <class 'str'>\n",
      "40 <class 'str'>\n"
     ]
    }
   ],
   "source": [
    "a, b, c, d = input(\"숫자를 4개 입력해 주세요\").split()\n",
    "print(a, type(a))\n",
    "print(b, type(b))\n",
    "print(c, type(c))\n",
    "print(d, type(d))"
   ]
  },
  {
   "cell_type": "code",
   "execution_count": null,
   "id": "17cbdf1a",
   "metadata": {},
   "outputs": [],
   "source": []
  },
  {
   "cell_type": "code",
   "execution_count": null,
   "id": "4784c064",
   "metadata": {},
   "outputs": [],
   "source": []
  }
 ],
 "metadata": {
  "kernelspec": {
   "display_name": "Python 3 (ipykernel)",
   "language": "python",
   "name": "python3"
  },
  "language_info": {
   "codemirror_mode": {
    "name": "ipython",
    "version": 3
   },
   "file_extension": ".py",
   "mimetype": "text/x-python",
   "name": "python",
   "nbconvert_exporter": "python",
   "pygments_lexer": "ipython3",
   "version": "3.9.21"
  }
 },
 "nbformat": 4,
 "nbformat_minor": 5
}
