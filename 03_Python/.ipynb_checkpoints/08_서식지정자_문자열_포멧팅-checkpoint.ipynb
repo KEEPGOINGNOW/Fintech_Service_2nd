{
 "cells": [
  {
   "cell_type": "markdown",
   "id": "d6d1a39b",
   "metadata": {},
   "source": [
    "# 서식지정자, format 메서드\n",
    "- 문자열로만 입력해야 하는 상황에서 같은 위치에 문자를 여러번 바꿔야 하는 경우 사용\n",
    "- 문자의 자릿수 맞춤, 위치 정렬에도 사용\n"
   ]
  },
  {
   "cell_type": "markdown",
   "id": "148cdf51",
   "metadata": {},
   "source": [
    "## 1. 서식지정자\n",
    "- %d : 정수를 입력하는 경우\n",
    "- %s : 문자를 입력하는 경우\n",
    "- %f : 실수를 입력하는 경우\n",
    "- %길이s : 길이만큼의 자리수 확보하는 경우\n",
    "------"
   ]
  },
  {
   "cell_type": "markdown",
   "id": "b9d3115f",
   "metadata": {},
   "source": [
    "### 1) %s : 문자(열) 입력"
   ]
  },
  {
   "cell_type": "code",
   "execution_count": 11,
   "id": "1be03a4e",
   "metadata": {},
   "outputs": [
    {
     "name": "stdout",
     "output_type": "stream",
     "text": [
      "이 수업의 이름은 국어 입니다.\n",
      "이 수업의 이름은 수학 입니다.\n"
     ]
    }
   ],
   "source": [
    "# 문자열 확인\n",
    "print('이 수업의 이름은 국어 입니다.')\n",
    "print('이 수업의 이름은 수학 입니다.')"
   ]
  },
  {
   "cell_type": "code",
   "execution_count": 12,
   "id": "3ee4da8e",
   "metadata": {},
   "outputs": [
    {
     "name": "stdout",
     "output_type": "stream",
     "text": [
      "이 수업의 이름은 국어 입니다.\n"
     ]
    }
   ],
   "source": [
    "# %s 적용 및 확인\n",
    "print('이 수업의 이름은 %s 입니다.' % '국어')"
   ]
  },
  {
   "cell_type": "code",
   "execution_count": 10,
   "id": "8fa6afde",
   "metadata": {},
   "outputs": [
    {
     "name": "stdout",
     "output_type": "stream",
     "text": [
      "이 수업의 이름은 국어 입니다.\n",
      "이 수업의 이름은 수학 입니다.\n",
      "이 수업의 이름은 사회 입니다.\n",
      "이 수업의 이름은 영어 입니다.\n"
     ]
    }
   ],
   "source": [
    "# for문 적용 및 확인\n",
    "for i in ['국어','수학','사회','영어']:\n",
    "    print('이 수업의 이름은 %s 입니다.' % i)"
   ]
  },
  {
   "cell_type": "markdown",
   "id": "1f29ea24",
   "metadata": {},
   "source": [
    "### 2) %d : 정수 입력"
   ]
  },
  {
   "cell_type": "code",
   "execution_count": 15,
   "id": "e38f5e65",
   "metadata": {},
   "outputs": [
    {
     "name": "stdout",
     "output_type": "stream",
     "text": [
      "올해는 2025년 입니다.\n",
      "올해는 2025년 입니다.\n"
     ]
    }
   ],
   "source": [
    "# %d 적용 및 확인\n",
    "print('올해는 %d년 입니다.' % 2025)\n",
    "\n",
    "# %d에 실수를 작성해도 정수로 표시\n",
    "print('올해는 %d년 입니다.' % 2025.55)"
   ]
  },
  {
   "cell_type": "markdown",
   "id": "bfde1442",
   "metadata": {},
   "source": [
    "### 3) %f : 실수 입력(기본 소숫점 6자리로 표시)"
   ]
  },
  {
   "cell_type": "code",
   "execution_count": 26,
   "id": "d4920d14",
   "metadata": {},
   "outputs": [
    {
     "name": "stdout",
     "output_type": "stream",
     "text": [
      "사람의 정상 체온은 약 36.500000도 입니다.\n"
     ]
    }
   ],
   "source": [
    "# %f 적용 및 확인\n",
    "print('사람의 정상 체온은 약 %f도 입니다.'% 36.5)"
   ]
  },
  {
   "cell_type": "code",
   "execution_count": 27,
   "id": "3598fdb2",
   "metadata": {},
   "outputs": [
    {
     "name": "stdout",
     "output_type": "stream",
     "text": [
      "사람의 정상 체온은 약 36.50도 입니다.\n",
      "사람의 정상 체온은 약 36.5000000000도 입니다.\n"
     ]
    }
   ],
   "source": [
    "# 소수점 표기를 조절 -> %소수점자리수f\n",
    "# 예) 소수점 2자리까지 표시 = %.2f\n",
    "print('사람의 정상 체온은 약 %.2f도 입니다.'% 36.5)\n",
    "print('사람의 정상 체온은 약 %.10f도 입니다.'% 36.5)"
   ]
  },
  {
   "cell_type": "markdown",
   "id": "971483d5",
   "metadata": {},
   "source": [
    "### 4) %길이s : 서식지정자로 문자열 자리수 확보"
   ]
  },
  {
   "cell_type": "code",
   "execution_count": 35,
   "id": "2da77ac8",
   "metadata": {},
   "outputs": [
    {
     "name": "stdout",
     "output_type": "stream",
     "text": [
      "10자리의 자리수!!!!!!!!!!!\n",
      " 01\n"
     ]
    }
   ],
   "source": [
    "# %길이s 적용 및 확인\n",
    "print('%10s' % '10자리의 자리수!!!!!!!!!!!')\n",
    "print('%3s' % '01')\n"
   ]
  },
  {
   "cell_type": "code",
   "execution_count": 43,
   "id": "64ad16c7",
   "metadata": {},
   "outputs": [
    {
     "name": "stdout",
     "output_type": "stream",
     "text": [
      "가격은 150000 입니다.\n",
      "가격은 15000 입니다.\n",
      "가격은     150000 입니다.\n",
      "가격은       1500 입니다.\n"
     ]
    }
   ],
   "source": [
    "# 숫자 표시하는 경우\n",
    "print('가격은', 150000, '입니다.')\n",
    "print('가격은', 15000, '입니다.')\n",
    "print('가격은 %10d 입니다.' % 150000)\n",
    "print('가격은 %10d 입니다.' % 1500)"
   ]
  },
  {
   "cell_type": "markdown",
   "id": "16ae6a45",
   "metadata": {},
   "source": [
    "### 5) 여러 항목 동시에 넣기\n"
   ]
  },
  {
   "cell_type": "code",
   "execution_count": 44,
   "id": "8d8a8f4e",
   "metadata": {},
   "outputs": [
    {
     "name": "stdout",
     "output_type": "stream",
     "text": [
      "오늘은 2025년  3월 17일 입니다.\n"
     ]
    }
   ],
   "source": [
    "# 여러 항목 적용 및 확인\n",
    "print('오늘은 %4d년 %2d월 %2d일 입니다.' % (2025, 3, 17))"
   ]
  },
  {
   "cell_type": "code",
   "execution_count": 46,
   "id": "bccbb2b3",
   "metadata": {},
   "outputs": [],
   "source": [
    "# a, b, c = (2025, 3, 17)\n",
    "# print(a, b, c)"
   ]
  },
  {
   "cell_type": "code",
   "execution_count": 49,
   "id": "4cdd6093",
   "metadata": {},
   "outputs": [
    {
     "name": "stdout",
     "output_type": "stream",
     "text": [
      "삼성전자의 주가는 71800 입니다.\n",
      "LG전자의 주가는 121000 입니다.\n",
      "현대차의 주가는 195000 입니다.\n",
      "대한항공의 주가는 31900 입니다.\n",
      "하나투어의 주가는 86600 입니다.\n"
     ]
    }
   ],
   "source": [
    "# 리스트 할당\n",
    "company = ['삼성전자', 'LG전자', '현대차', '대한항공', '하나투어']\n",
    "stock = [71800, 121000, 195000, 31900, 86600]\n",
    "\n",
    "\n",
    "# for문 적용 및 확인\n",
    "for com, st in zip(company, stock):\n",
    "    print('%s의 주가는 %d 입니다.' % (com,st))\n",
    "    "
   ]
  },
  {
   "cell_type": "markdown",
   "id": "da0024ef",
   "metadata": {},
   "source": [
    "## 2. format 메서드 사용 및 f-sting 문자열 포멧팅"
   ]
  },
  {
   "cell_type": "markdown",
   "id": "1bedabd0",
   "metadata": {},
   "source": [
    "### 1) format  메서드 사용\n",
    "- \"문자열 {인덱스} 문자열끝\".format(값)\n"
   ]
  },
  {
   "cell_type": "code",
   "execution_count": 65,
   "id": "fc3bbd5d",
   "metadata": {},
   "outputs": [
    {
     "name": "stdout",
     "output_type": "stream",
     "text": [
      "삼성전자의 주가는 71800입니다.\n",
      "삼성전자의 주가는 71800입니다.\n"
     ]
    }
   ],
   "source": [
    "# format 적용 및 확인\n",
    "print('{}의 주가는 {}입니다.'.format('삼성전자',71800))\n",
    "print('{0}의 주가는 {1}입니다.'.format('삼성전자',71800))\n"
   ]
  },
  {
   "cell_type": "code",
   "execution_count": 66,
   "id": "1d18b138",
   "metadata": {},
   "outputs": [
    {
     "name": "stdout",
     "output_type": "stream",
     "text": [
      "삼성전자의 주가는 71500원입니다. \n",
      "삼성전자의 상한가는 93000 \n",
      "삼성전자의 하한가는 50200입니다.\n"
     ]
    }
   ],
   "source": [
    "# format 인덱싱하여 적용 및 확인\n",
    "print('{0}의 주가는 {1}원입니다. \\n{0}의 상한가는 {3} \\n{0}의 하한가는 {2}입니다.'.format('삼성전자', 71500, 50200, 93000))"
   ]
  },
  {
   "cell_type": "code",
   "execution_count": 67,
   "id": "2816eef3",
   "metadata": {},
   "outputs": [
    {
     "name": "stdout",
     "output_type": "stream",
     "text": [
      "삼성전자의 주가는 71800입니다.\n",
      "LG전자의 주가는 121000입니다.\n",
      "현대차의 주가는 195000입니다.\n",
      "대한항공의 주가는 31900입니다.\n",
      "하나투어의 주가는 86600입니다.\n"
     ]
    }
   ],
   "source": [
    "# for문 적용\n",
    "for com, sto in zip(company, stock):\n",
    "    print('{}의 주가는 {}입니다.'.format(com,sto))"
   ]
  },
  {
   "cell_type": "markdown",
   "id": "35422c4b",
   "metadata": {},
   "source": [
    "### 2) f-sting으로 값 넣기(python 3.6 이하 사용 가능)"
   ]
  },
  {
   "cell_type": "code",
   "execution_count": 63,
   "id": "b82d26d3",
   "metadata": {},
   "outputs": [
    {
     "name": "stdout",
     "output_type": "stream",
     "text": [
      "['삼성전자', 'LG전자', '현대차', '대한항공', '하나투어']\n",
      "[71800, 121000, 195000, 31900, 86600]\n",
      "삼성전자의 주가는 71800입니다.\n",
      "삼성전자의 주가는 71800입니다.\n"
     ]
    }
   ],
   "source": [
    "# company, stock 확인\n",
    "print(company)\n",
    "print(stock)\n",
    "\n",
    "# f-sting 적용 및 확인\n",
    "print(f\"{company[0]}의 주가는 {stock[0]}입니다.\")\n",
    "\n",
    "# 변수 할당하여 f-sting 적용 및 확인\n",
    "sam ='삼성전자'\n",
    "sto = 71800\n",
    "print(f\"{sam}의 주가는 {sto}입니다.\")\n"
   ]
  },
  {
   "cell_type": "code",
   "execution_count": 68,
   "id": "585093aa",
   "metadata": {},
   "outputs": [
    {
     "name": "stdout",
     "output_type": "stream",
     "text": [
      "삼성전자의 주가는 71800입니다.\n",
      "LG전자의 주가는 121000입니다.\n",
      "현대차의 주가는 195000입니다.\n",
      "대한항공의 주가는 31900입니다.\n",
      "하나투어의 주가는 86600입니다.\n"
     ]
    }
   ],
   "source": [
    "# for문 적용 및 호가인\n",
    "for com, sto in zip(company, stock):\n",
    "    print(f\"{com}의 주가는 {sto}입니다.\")"
   ]
  },
  {
   "cell_type": "markdown",
   "id": "067a1a9d",
   "metadata": {},
   "source": [
    "## 3. format 메서드 및 f-sting으로 문자열 정렬, 자리수 지정 출력\n",
    "- \"{인덱스:<길이}\".format(값)\n",
    "- f\"{값:>길이}\""
   ]
  },
  {
   "cell_type": "code",
   "execution_count": 72,
   "id": "b7fe19de",
   "metadata": {},
   "outputs": [
    {
     "data": {
      "text/plain": [
       "'삼성전자      '"
      ]
     },
     "execution_count": 72,
     "metadata": {},
     "output_type": "execute_result"
    }
   ],
   "source": [
    "# 공간을 10칸 확보하고 글자를 왼쪽 정렬\n",
    "\"{0:<10}\".format('삼성전자')"
   ]
  },
  {
   "cell_type": "code",
   "execution_count": 73,
   "id": "cdb28893",
   "metadata": {},
   "outputs": [
    {
     "data": {
      "text/plain": [
       "'      삼성전자'"
      ]
     },
     "execution_count": 73,
     "metadata": {},
     "output_type": "execute_result"
    }
   ],
   "source": [
    "# 반대로 정렬\n",
    "# 공간을 10칸 확보하고 글자를 왼쪽 정렬\n",
    "\"{0:>10}\".format('삼성전자')"
   ]
  },
  {
   "cell_type": "code",
   "execution_count": 74,
   "id": "38403b5a",
   "metadata": {},
   "outputs": [
    {
     "data": {
      "text/plain": [
       "'      삼성전자'"
      ]
     },
     "execution_count": 74,
     "metadata": {},
     "output_type": "execute_result"
    }
   ],
   "source": [
    "# 공간을 10칸만 확보\n",
    "'%10s' % '삼성전자'"
   ]
  },
  {
   "cell_type": "code",
   "execution_count": 82,
   "id": "89fa2b8f",
   "metadata": {},
   "outputs": [
    {
     "data": {
      "text/plain": [
       "'삼성전자      '"
      ]
     },
     "execution_count": 82,
     "metadata": {},
     "output_type": "execute_result"
    }
   ],
   "source": [
    "# f-sting 적용하여 공간 10칸 확보하고 글자 왼쪽 정렬\n",
    "f\"{'삼성전자':<10}\""
   ]
  },
  {
   "cell_type": "code",
   "execution_count": 81,
   "id": "197c2f91",
   "metadata": {},
   "outputs": [
    {
     "data": {
      "text/plain": [
       "'      삼성전자'"
      ]
     },
     "execution_count": 81,
     "metadata": {},
     "output_type": "execute_result"
    }
   ],
   "source": [
    "# f-sting 적용하여 공간 10칸 확보하고 글자 오른쪽 정렬\n",
    "f\"{'삼성전자':>10}\""
   ]
  },
  {
   "cell_type": "markdown",
   "id": "23c10d63",
   "metadata": {},
   "source": [
    "- 숫자 표기시 숫자 자리수 맞추고 기본 값 지정\n",
    "- \"{인덱스:채울숫자 길이 서식지정자}\".format(값), 단 서식지정자에서 %는 빼고 작성\n",
    "- f\"{값:채울숫자/길이/서식지정}\" %는 빼고 작성"
   ]
  },
  {
   "cell_type": "code",
   "execution_count": 88,
   "id": "25c95b4f",
   "metadata": {},
   "outputs": [
    {
     "name": "stdout",
     "output_type": "stream",
     "text": [
      "1월\n",
      "01월\n",
      "12월\n"
     ]
    }
   ],
   "source": [
    "print(\"{0}월\".format(1))\n",
    "\n",
    "# 0으로 2자리를 채워서 정수로 표시 \n",
    "print('{0:02d}월'.format(1))\n",
    "\n",
    "# 2자리수가 채워져 있는 경우에는 그대로 표시\n",
    "print('{0:02d}월'.format(12))"
   ]
  },
  {
   "cell_type": "code",
   "execution_count": 92,
   "id": "88b2031b",
   "metadata": {},
   "outputs": [
    {
     "name": "stdout",
     "output_type": "stream",
     "text": [
      "10월\n"
     ]
    }
   ],
   "source": [
    "# f-sting 적용하여 2자리를 0으로 채워서 10표시\n",
    "print(f'{10:02d}월')"
   ]
  },
  {
   "cell_type": "markdown",
   "id": "ac2276b6",
   "metadata": {},
   "source": [
    "- 실수의 정수 자리수와 소수점 자리수 지정\n",
    "- \"{인덱스:기본값/자리수/서식지정자}\".format(값)\n",
    "- f\"{값:기본값/자리수/서식지정자}\"\n",
    "- 실수에서 자리수는 정수 + . + 소수점 "
   ]
  },
  {
   "cell_type": "code",
   "execution_count": 93,
   "id": "6c98891b",
   "metadata": {},
   "outputs": [
    {
     "name": "stdout",
     "output_type": "stream",
     "text": [
      "2.246\n"
     ]
    }
   ],
   "source": [
    "# 실수 자리수와 소수점 지정 적용\n",
    "print('{0:03.3f}'.format(2.245678))"
   ]
  },
  {
   "cell_type": "code",
   "execution_count": 100,
   "id": "91639504",
   "metadata": {},
   "outputs": [
    {
     "name": "stdout",
     "output_type": "stream",
     "text": [
      "02.246\n",
      "002.246\n",
      "2.245678\n"
     ]
    }
   ],
   "source": [
    "# 실수 자리수와 소수점 지정 적용\n",
    "print('{0:06.3f}'.format(2.245678))\n",
    "print('{0:07.3f}'.format(2.245678))\n",
    "print('{0:07.6f}'.format(2.245678))"
   ]
  },
  {
   "cell_type": "code",
   "execution_count": 106,
   "id": "810f3d12",
   "metadata": {},
   "outputs": [
    {
     "name": "stdout",
     "output_type": "stream",
     "text": [
      "11시 59분\r"
     ]
    }
   ],
   "source": [
    "import time\n",
    "# 00시 00분부터 11시 59분까지 출력, 1자리는 01 형식으로 출력\n",
    "for si in range(0,12):\n",
    "    #print(f\"{si:02d}시\")\n",
    "     for bun in range(0,60):\n",
    "            print(f\"{si:02d}시 {bun:02d}분\", end = '\\r')\n",
    "            time.sleep(0.002)"
   ]
  },
  {
   "cell_type": "markdown",
   "id": "40434022",
   "metadata": {},
   "source": [
    "- 공백을 원하는 문자로 채우고 자리수 맞추는 경우\n",
    "- {인덱스:원하는 숫자/문자><자리수}.format(값)\n",
    "- f\"{값:원하는 숫자/문자><자리수}\""
   ]
  },
  {
   "cell_type": "code",
   "execution_count": 107,
   "id": "bc756d9c",
   "metadata": {},
   "outputs": [
    {
     "data": {
      "text/plain": [
       "'0001'"
      ]
     },
     "execution_count": 107,
     "metadata": {},
     "output_type": "execute_result"
    }
   ],
   "source": [
    "\"{0:0>4}\".format(1)"
   ]
  },
  {
   "cell_type": "code",
   "execution_count": 109,
   "id": "157928b3",
   "metadata": {},
   "outputs": [
    {
     "data": {
      "text/plain": [
       "'$1달러'"
      ]
     },
     "execution_count": 109,
     "metadata": {},
     "output_type": "execute_result"
    }
   ],
   "source": [
    "\"{0:$>4}\".format('1달러')"
   ]
  },
  {
   "cell_type": "code",
   "execution_count": 114,
   "id": "be9bc79e",
   "metadata": {},
   "outputs": [
    {
     "data": {
      "text/plain": [
       "'$1000000달러'"
      ]
     },
     "execution_count": 114,
     "metadata": {},
     "output_type": "execute_result"
    }
   ],
   "source": [
    "f\"{'1000000달러':$>10}\""
   ]
  },
  {
   "cell_type": "code",
   "execution_count": 120,
   "id": "69becb5d",
   "metadata": {},
   "outputs": [
    {
     "data": {
      "text/plain": [
       "'https://finance.naver.com/sise/sise_trans_style.naver?sosok=03'"
      ]
     },
     "execution_count": 120,
     "metadata": {},
     "output_type": "execute_result"
    }
   ],
   "source": [
    "url = 'https://finance.naver.com/sise/sise_trans_style.naver?sosok='\n",
    "url + '03'"
   ]
  },
  {
   "cell_type": "code",
   "execution_count": 125,
   "id": "e63adf49",
   "metadata": {},
   "outputs": [
    {
     "name": "stdout",
     "output_type": "stream",
     "text": [
      "https://finance.naver.com/sise/sise_trans_style.naver?sosok=01\n",
      "https://finance.naver.com/sise/sise_trans_style.naver?sosok=02\n",
      "https://finance.naver.com/sise/sise_trans_style.naver?sosok=03\n",
      "https://finance.naver.com/sise/sise_trans_style.naver?sosok=04\n",
      "https://finance.naver.com/sise/sise_trans_style.naver?sosok=05\n",
      "https://finance.naver.com/sise/sise_trans_style.naver?sosok=06\n",
      "https://finance.naver.com/sise/sise_trans_style.naver?sosok=07\n",
      "https://finance.naver.com/sise/sise_trans_style.naver?sosok=08\n",
      "https://finance.naver.com/sise/sise_trans_style.naver?sosok=09\n",
      "https://finance.naver.com/sise/sise_trans_style.naver?sosok=10\n"
     ]
    }
   ],
   "source": [
    "# for문 적용하여 url 확인\n",
    "for i in range(1,11):\n",
    "    print(f\"{url}{i:02d}\")"
   ]
  },
  {
   "cell_type": "code",
   "execution_count": null,
   "id": "51a630d6",
   "metadata": {},
   "outputs": [],
   "source": []
  }
 ],
 "metadata": {
  "kernelspec": {
   "display_name": "Python 3 (ipykernel)",
   "language": "python",
   "name": "python3"
  },
  "language_info": {
   "codemirror_mode": {
    "name": "ipython",
    "version": 3
   },
   "file_extension": ".py",
   "mimetype": "text/x-python",
   "name": "python",
   "nbconvert_exporter": "python",
   "pygments_lexer": "ipython3",
   "version": "3.9.21"
  }
 },
 "nbformat": 4,
 "nbformat_minor": 5
}
