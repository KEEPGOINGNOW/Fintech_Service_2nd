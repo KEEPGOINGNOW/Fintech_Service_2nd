{
 "cells": [
  {
   "cell_type": "markdown",
   "id": "6cc59895",
   "metadata": {},
   "source": [
    "# 연산자의 종류\n",
    "- 산술연산자\n",
    "- 할당연산자\n",
    "- 비교연산자\n",
    "- 논리연산자\n",
    "- 식별연산자\n",
    "- 멤버연산자\n"
   ]
  },
  {
   "cell_type": "markdown",
   "id": "14591389",
   "metadata": {},
   "source": [
    "## 산술연산자 +, -, *, /, %, //, **"
   ]
  },
  {
   "cell_type": "code",
   "execution_count": 5,
   "id": "80d74049",
   "metadata": {},
   "outputs": [
    {
     "name": "stdout",
     "output_type": "stream",
     "text": [
      "2\n",
      "4.1\n",
      "15\n",
      "2.0\n"
     ]
    }
   ],
   "source": [
    "# 사칙연산\n",
    "print(1 + 1)\n",
    "print(3 + 1.1)\n",
    "print(5 * 3)\n",
    "print(4 / 2)\n"
   ]
  },
  {
   "cell_type": "markdown",
   "id": "588ae101",
   "metadata": {},
   "source": [
    "- % : 나누기 수행 후 나머지 구하는 연산자(%2가 0이면 짝수, 1이면 홀수)\n",
    "- // : 나누기 수행 후 몫을 구하는 연산자\n",
    "- ** : 제곱 구하는 연산자"
   ]
  },
  {
   "cell_type": "code",
   "execution_count": 1,
   "id": "64f7fa38",
   "metadata": {},
   "outputs": [
    {
     "name": "stdout",
     "output_type": "stream",
     "text": [
      "1\n",
      "0\n"
     ]
    }
   ],
   "source": [
    "# % 연산\n",
    "print(3 % 2)\n",
    "print(15 % 3)"
   ]
  },
  {
   "cell_type": "code",
   "execution_count": 2,
   "id": "bb283f5b",
   "metadata": {},
   "outputs": [
    {
     "name": "stdout",
     "output_type": "stream",
     "text": [
      "2\n",
      "5\n"
     ]
    }
   ],
   "source": [
    "# // 연산\n",
    "print(7 // 3)\n",
    "print(17 // 3)"
   ]
  },
  {
   "cell_type": "code",
   "execution_count": 3,
   "id": "e020eaef",
   "metadata": {},
   "outputs": [
    {
     "name": "stdout",
     "output_type": "stream",
     "text": [
      "8\n"
     ]
    }
   ],
   "source": [
    "# ** 연산\n",
    "print(2 ** 3)"
   ]
  },
  {
   "cell_type": "markdown",
   "id": "3e27badb",
   "metadata": {},
   "source": [
    "## 할당연산자\n",
    "- = : 할당\n",
    "- += : 더하고 할당\n",
    "- -= : 빼고 할당\n",
    "- *= : 곱하고 할당\n",
    "- /= : 나누고 할당\n",
    "- %= : 나머지를 할당\n"
   ]
  },
  {
   "cell_type": "code",
   "execution_count": 5,
   "id": "b74d0d2b",
   "metadata": {},
   "outputs": [
    {
     "name": "stdout",
     "output_type": "stream",
     "text": [
      "15\n",
      "10\n"
     ]
    }
   ],
   "source": [
    "# 변수 할당\n",
    "a = 10\n",
    "b = 5\n",
    "\n",
    "# += 연산\n",
    "a += b\n",
    "print(a)\n",
    "\n",
    "# -= 연산\n",
    "a -= b\n",
    "print(a)\n"
   ]
  },
  {
   "cell_type": "code",
   "execution_count": 6,
   "id": "626b9042",
   "metadata": {},
   "outputs": [
    {
     "name": "stdout",
     "output_type": "stream",
     "text": [
      "50\n"
     ]
    }
   ],
   "source": [
    "# *= 연산\n",
    "a *= b\n",
    "print(a)\n"
   ]
  },
  {
   "cell_type": "code",
   "execution_count": 7,
   "id": "4a8ded32",
   "metadata": {},
   "outputs": [
    {
     "name": "stdout",
     "output_type": "stream",
     "text": [
      "10.0\n",
      "0.0\n"
     ]
    }
   ],
   "source": [
    "# /= 연산\n",
    "a /= b\n",
    "print(a)\n",
    "\n",
    "# %= 연산\n",
    "a %= b\n",
    "print(a)"
   ]
  },
  {
   "cell_type": "markdown",
   "id": "77679869",
   "metadata": {},
   "source": [
    "## 비교연산자\n",
    "- 같다 : ==\n",
    "- 다르다 : !=\n",
    "- 초과 : >\n",
    "- 미만 : <\n",
    "- 이상 : >=\n",
    "- 이하 : <=\n"
   ]
  },
  {
   "cell_type": "code",
   "execution_count": 5,
   "id": "1c0e1f7c",
   "metadata": {},
   "outputs": [],
   "source": [
    "# 변수 할당\n",
    "a = 3\n",
    "b = 3.0\n",
    "c = 5\n",
    "d = 'Python'\n",
    "e = 'python'\n",
    "f = True\n",
    "g = False\n"
   ]
  },
  {
   "cell_type": "markdown",
   "id": "aa6c4a07",
   "metadata": {},
   "source": [
    "- == 같으면 True, 다르면 False 나옴\n",
    "- != 다르면 True, 같으면 False 나옴"
   ]
  },
  {
   "cell_type": "code",
   "execution_count": 11,
   "id": "c0391fd3",
   "metadata": {},
   "outputs": [
    {
     "name": "stdout",
     "output_type": "stream",
     "text": [
      "True\n",
      "False\n",
      "False\n",
      "False\n"
     ]
    }
   ],
   "source": [
    "# == 비교\n",
    "print(a == b)\n",
    "print(a == c)\n",
    "print(d == e)\n",
    "print(f == g)\n",
    "\n"
   ]
  },
  {
   "cell_type": "code",
   "execution_count": 15,
   "id": "7d4aed82",
   "metadata": {},
   "outputs": [
    {
     "name": "stdout",
     "output_type": "stream",
     "text": [
      "False\n",
      "True\n",
      "True\n",
      "True\n"
     ]
    }
   ],
   "source": [
    "# != 비교\n",
    "print(a != b)\n",
    "print(a != c)\n",
    "print(d != e)\n",
    "print(f != g)"
   ]
  },
  {
   "cell_type": "code",
   "execution_count": 21,
   "id": "5c602969",
   "metadata": {},
   "outputs": [
    {
     "name": "stdout",
     "output_type": "stream",
     "text": [
      "3 5 False\n",
      "3 3.0 True\n"
     ]
    }
   ],
   "source": [
    "# >, <, >=, <= 비교\n",
    "print(a, c, a > c)\n",
    "print(a, b, a >= b)\n"
   ]
  },
  {
   "cell_type": "markdown",
   "id": "6b5cf8ab",
   "metadata": {},
   "source": [
    "## 논리연산자\n",
    "- and : 두 값 모두 참이어야 함\n",
    "- or : 두 값 중 하나라도 참이면 참, 두 값 모두가 거짓이어야 거짓\n",
    "- not : 값을 반대로 뒤집음 True => False, False => True\n",
    "-------\n",
    "- and, or, not 우선순위 : not > and > or\n",
    "- 조건문에 활용"
   ]
  },
  {
   "cell_type": "code",
   "execution_count": 27,
   "id": "7a4b64cf",
   "metadata": {},
   "outputs": [
    {
     "name": "stdout",
     "output_type": "stream",
     "text": [
      "True\n",
      "False\n",
      "False\n",
      "False\n"
     ]
    }
   ],
   "source": [
    "# and 연산\n",
    "print(True and True)\n",
    "print(True and False)\n",
    "print(False and True)\n",
    "print(False and False)\n"
   ]
  },
  {
   "cell_type": "code",
   "execution_count": 28,
   "id": "3d55a874",
   "metadata": {},
   "outputs": [
    {
     "name": "stdout",
     "output_type": "stream",
     "text": [
      "True\n",
      "True\n",
      "True\n",
      "False\n"
     ]
    }
   ],
   "source": [
    "# or 연산\n",
    "print(True or True)\n",
    "print(True or False)\n",
    "print(False or True)\n",
    "print(False or False)\n"
   ]
  },
  {
   "cell_type": "code",
   "execution_count": 34,
   "id": "0c6cffb0",
   "metadata": {},
   "outputs": [
    {
     "name": "stdout",
     "output_type": "stream",
     "text": [
      "False\n",
      "True\n",
      "True\n",
      "True\n"
     ]
    }
   ],
   "source": [
    "# not 연산\n",
    "print(not True)\n",
    "print(not False)\n",
    "print(not False and True or not False)\n",
    "# True and True = True\n",
    "# True or True = True\n",
    "\n",
    "# 조건문을 활용하는데 사용\n",
    "print(10 == 10 and 10 != 5)\n"
   ]
  },
  {
   "cell_type": "markdown",
   "id": "f4036506",
   "metadata": {},
   "source": [
    "## 식별연산자\n",
    "- is \n",
    "- is not\n",
    "- (object, data type)이 동일한지 비교\n"
   ]
  },
  {
   "cell_type": "code",
   "execution_count": 9,
   "id": "e7047099",
   "metadata": {},
   "outputs": [
    {
     "name": "stdout",
     "output_type": "stream",
     "text": [
      "3\n",
      "3.0\n",
      "5\n",
      "True\n",
      "False\n",
      "--------------------------------------------------\n",
      "3\n",
      "True\n"
     ]
    }
   ],
   "source": [
    "# 변수 확인\n",
    "print(a)\n",
    "print(b)\n",
    "print(c)\n",
    "\n",
    "# a는 정수, b는 실수라 값이 같음\n",
    "print(a == b)\n",
    "\n",
    "# 데이터 타입이 달라서\n",
    "print(a is b)\n",
    "\n",
    "print('-'*50)\n",
    "\n",
    "# 변수 할당\n",
    "d = 3\n",
    "print(d)\n",
    "\n",
    "# a와 d는 모두 int 타입의 3이기 때문에 True\n",
    "print(a is d)"
   ]
  },
  {
   "cell_type": "code",
   "execution_count": 44,
   "id": "fb18b323",
   "metadata": {},
   "outputs": [
    {
     "name": "stdout",
     "output_type": "stream",
     "text": [
      "True\n",
      "False\n"
     ]
    }
   ],
   "source": [
    "# is not 연산\n",
    "print(a is not b)\n",
    "print(a is not d)"
   ]
  },
  {
   "cell_type": "markdown",
   "id": "af547c4a",
   "metadata": {},
   "source": [
    "## 멤버연산자\n",
    "- in\n",
    "- not in\n"
   ]
  },
  {
   "cell_type": "code",
   "execution_count": 8,
   "id": "502585d1",
   "metadata": {},
   "outputs": [
    {
     "name": "stdout",
     "output_type": "stream",
     "text": [
      "True\n",
      "False\n"
     ]
    }
   ],
   "source": [
    "# 변수 할당\n",
    "mem=[1,2,3,4,5]\n",
    "\n",
    "# mem에 존재하면 True,  아니면 False\n",
    "print(3 in mem)\n",
    "print(10 in mem)"
   ]
  },
  {
   "cell_type": "code",
   "execution_count": null,
   "id": "3907db0e",
   "metadata": {},
   "outputs": [],
   "source": []
  },
  {
   "cell_type": "code",
   "execution_count": null,
   "id": "05937d53",
   "metadata": {},
   "outputs": [],
   "source": []
  }
 ],
 "metadata": {
  "kernelspec": {
   "display_name": "Python 3 (ipykernel)",
   "language": "python",
   "name": "python3"
  },
  "language_info": {
   "codemirror_mode": {
    "name": "ipython",
    "version": 3
   },
   "file_extension": ".py",
   "mimetype": "text/x-python",
   "name": "python",
   "nbconvert_exporter": "python",
   "pygments_lexer": "ipython3",
   "version": "3.9.21"
  }
 },
 "nbformat": 4,
 "nbformat_minor": 5
}
