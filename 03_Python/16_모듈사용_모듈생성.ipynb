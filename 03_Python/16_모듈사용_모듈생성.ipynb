{
 "cells": [
  {
   "cell_type": "markdown",
   "id": "29ccc5d3",
   "metadata": {},
   "source": [
    "# 모듈 사용\n",
    "- 누군가가 미리 사용하기 평하게 만들어 놓은 함수, 클래스\n",
    "- import 명령을 통해 프로그램 가장 위에서 모듈을 불러와 사용 가능\n",
    "- 모듈에 너무 많은 기능이 있는 경우 from 모듈명 import 함수/메서드 형식으로 일부 기능만 불러올 수 있음\n",
    "- 모듈은 사용자가 직접 만들 수도 있음\n",
    "- 사용자 모듈을 불러올 때는 실행하는 파일과 같은 위치에 있어야 함\n"
   ]
  },
  {
   "cell_type": "markdown",
   "id": "2f99b8b6",
   "metadata": {},
   "source": [
    "# datetime 모듈\n"
   ]
  },
  {
   "cell_type": "code",
   "execution_count": 2,
   "id": "7d5d0598",
   "metadata": {},
   "outputs": [],
   "source": [
    "from datetime import datetime "
   ]
  },
  {
   "cell_type": "code",
   "execution_count": 4,
   "id": "d3866a8e",
   "metadata": {},
   "outputs": [
    {
     "name": "stdout",
     "output_type": "stream",
     "text": [
      "현재 년도:  2025\n",
      "현재 월:  4\n",
      "현재 일:  1\n",
      "현재 시간:  9\n",
      "현재 분:  19\n",
      "현재 초:  7\n"
     ]
    }
   ],
   "source": [
    "from datetime import datetime\n",
    "\n",
    "# datetime 모듈 사용\n",
    "now = datetime.now()\n",
    "\n",
    "print('현재 년도: ', now.year)\n",
    "print('현재 월: ', now.month)\n",
    "print('현재 일: ', now.day)\n",
    "print('현재 시간: ', now.hour)\n",
    "print('현재 분: ', now.minute)\n",
    "print('현재 초: ', now.second)"
   ]
  },
  {
   "cell_type": "code",
   "execution_count": 5,
   "id": "d9cd7b51",
   "metadata": {},
   "outputs": [
    {
     "data": {
      "text/plain": [
       "'2025.04.01 09:19:07'"
      ]
     },
     "execution_count": 5,
     "metadata": {},
     "output_type": "execute_result"
    }
   ],
   "source": [
    "now.strftime('%Y.%m.%d %H:%M:%S')"
   ]
  },
  {
   "cell_type": "markdown",
   "id": "95c937be",
   "metadata": {},
   "source": [
    "# OS 모듈"
   ]
  },
  {
   "cell_type": "code",
   "execution_count": 7,
   "id": "63203d99",
   "metadata": {},
   "outputs": [],
   "source": [
    "import os"
   ]
  },
  {
   "cell_type": "code",
   "execution_count": 5,
   "id": "8915ec24",
   "metadata": {},
   "outputs": [
    {
     "name": "stdout",
     "output_type": "stream",
     "text": [
      "운영체제:  nt\n",
      "현재 사용하는 폴더:  C:\\fintech\\03_Python\n",
      "현재 폴더 내부의 파일 리스트:  ['.ipynb_checkpoints', '01_주피터노트북사용법.ipynb', '02_파이썬문법기초.ipynb', '03_파이썬자료형.ipynb', '04_연산자의_종류_활용.ipynb', '05_문자열_문자열함수.ipynb', '06_리스트_튜플_사용.ipynb', '07_딕셔너리_사용.ipynb', '08_서식지정자_문자열_포멧팅.ipynb', '09_if_elseif_조건문.ipynb', '10_반복문_for_while.ipynb', '11_리스트표현식_파일읽기쓰기.ipynb', '12_JSON데이터언패킹_csv파일생성.ipynb', '13_함수생성_예외처리.ipynb', '14_JSON언패킹_호텔스닷컴리뷰_자료정리.ipynb', '15_클래스생성.ipynb', '16_모듈사용_모듈생성.ipynb', 'data', 'myfunc.py', 'new.txt', 'testdir', 'text.txt', 'text2.txt', 'text_utf-8.txt', '__pycache__', '연습문제_00_JSON파일_데이터프레임 변환.ipynb', '연습문제_01_print_자료형_연산자.ipynb', '연습문제_02_문자열_리스트.ipynb', '연습문제_03_리스트_튜플_20문제.ipynb', '연습문제_04_딕셔너리_30문제.ipynb', '연습문제_05_딕셔너리_조건문_반복문연습문제.ipynb', '초보자를 위한 파이썬 300제.ipynb']\n"
     ]
    }
   ],
   "source": [
    "# 내가 사용하는 컴퓨터의 기본 정보 출력\n",
    "print('운영체제: ', os.name)\n",
    "print('현재 사용하는 폴더: ', os.getcwd())\n",
    "print('현재 폴더 내부의 파일 리스트: ', os.listdir())"
   ]
  },
  {
   "cell_type": "code",
   "execution_count": 27,
   "id": "482cfde2",
   "metadata": {},
   "outputs": [],
   "source": [
    "# 현재 위치에서 폴더 만들기\n",
    "os.mkdir('testdir')"
   ]
  },
  {
   "cell_type": "code",
   "execution_count": 28,
   "id": "85c73f77",
   "metadata": {},
   "outputs": [],
   "source": [
    "# 현재 위치에서 폴더 삭제하기\n",
    "os.rmdir('testdir')"
   ]
  },
  {
   "cell_type": "code",
   "execution_count": 29,
   "id": "b1b23a02",
   "metadata": {},
   "outputs": [
    {
     "data": {
      "text/plain": [
       "0"
      ]
     },
     "execution_count": 29,
     "metadata": {},
     "output_type": "execute_result"
    }
   ],
   "source": [
    "# cmd 명령어 실행하기\n",
    "os.system('dir')"
   ]
  },
  {
   "cell_type": "code",
   "execution_count": 31,
   "id": "23cf0476",
   "metadata": {},
   "outputs": [],
   "source": [
    "# 파일을 생성하고 파일이름 변경하기\n",
    "with open('original.txt', 'w') as file:\n",
    "    file.write('안녕하세요')"
   ]
  },
  {
   "cell_type": "code",
   "execution_count": 32,
   "id": "ea906dfe",
   "metadata": {},
   "outputs": [],
   "source": [
    "os.rename('original.txt', 'new.txt')"
   ]
  },
  {
   "cell_type": "code",
   "execution_count": 10,
   "id": "2efd16b7",
   "metadata": {},
   "outputs": [
    {
     "name": "stdout",
     "output_type": "stream",
     "text": [
      "폴더가 생성되었습니다.\n"
     ]
    }
   ],
   "source": [
    "#폴더가 있는지 확인하고 없으면 폴더 생성\n",
    "if not os.path.exists('./testdir'):\n",
    "    os.mkdir('testdir')\n",
    "    print(\"폴더가 생성되었습니다.\")\n",
    "else:\n",
    "    print('testdir이 이미 있습니다.')"
   ]
  },
  {
   "cell_type": "code",
   "execution_count": 9,
   "id": "58c0cf24",
   "metadata": {},
   "outputs": [
    {
     "name": "stdout",
     "output_type": "stream",
     "text": [
      "testdir가 삭제되었습니다.\n"
     ]
    }
   ],
   "source": [
    "if os.path.exists('./testdir'):\n",
    "    os.rmdir('testdir')\n",
    "    print('testdir가 삭제되었습니다.')"
   ]
  },
  {
   "cell_type": "code",
   "execution_count": 12,
   "id": "253b217f",
   "metadata": {},
   "outputs": [],
   "source": [
    "# 시스템 환경변수에 변수와 값 추가하기\n",
    "# os.environ['key'] = 'value'\n",
    "# print(os.environ.get('key'))"
   ]
  },
  {
   "cell_type": "code",
   "execution_count": 13,
   "id": "24c27775",
   "metadata": {},
   "outputs": [
    {
     "name": "stdout",
     "output_type": "stream",
     "text": [
      "C:\\Users\\Admin\\miniforge3\\envs\\fintech;C:\\Users\\Admin\\miniforge3\\envs\\fintech\\Library\\mingw-w64\\bin;C:\\Users\\Admin\\miniforge3\\envs\\fintech\\Library\\usr\\bin;C:\\Users\\Admin\\miniforge3\\envs\\fintech\\Library\\bin;C:\\Users\\Admin\\miniforge3\\envs\\fintech\\Scripts;C:\\Users\\Admin\\miniforge3\\envs\\fintech\\bin;C:\\Users\\Admin\\miniforge3\\condabin;C:\\Windows\\system32;C:\\Windows;C:\\Windows\\System32\\Wbem;C:\\Windows\\System32\\WindowsPowerShell\\v1.0;C:\\Windows\\System32\\OpenSSH;C:\\Program Files\\Bandizip;C:\\Program Files\\Git\\cmd;C:\\Users\\Admin\\AppData\\Local\\Microsoft\\WindowsApps;C:\\Users\\Admin\\AppData\\Local\\Programs\\Microsoft VS Code\\bin\n"
     ]
    }
   ],
   "source": [
    "print(os.environ.get('Path'))"
   ]
  },
  {
   "cell_type": "code",
   "execution_count": 14,
   "id": "267a699b",
   "metadata": {},
   "outputs": [],
   "source": [
    "from myfunc import *"
   ]
  },
  {
   "cell_type": "code",
   "execution_count": 15,
   "id": "2bded01e",
   "metadata": {},
   "outputs": [
    {
     "data": {
      "text/plain": [
       "4"
      ]
     },
     "execution_count": 15,
     "metadata": {},
     "output_type": "execute_result"
    }
   ],
   "source": [
    "add(1,3)"
   ]
  },
  {
   "cell_type": "code",
   "execution_count": 16,
   "id": "eebd0f5b",
   "metadata": {},
   "outputs": [],
   "source": [
    "sam = Cal(3,4) "
   ]
  },
  {
   "cell_type": "code",
   "execution_count": 17,
   "id": "0ecefe55",
   "metadata": {},
   "outputs": [
    {
     "name": "stdout",
     "output_type": "stream",
     "text": [
      "7\n",
      "-1\n"
     ]
    }
   ],
   "source": [
    "print(sam.add())\n",
    "print(sam.sub())"
   ]
  },
  {
   "cell_type": "code",
   "execution_count": 26,
   "id": "56d1c051",
   "metadata": {},
   "outputs": [
    {
     "data": {
      "text/plain": [
       "7"
      ]
     },
     "execution_count": 26,
     "metadata": {},
     "output_type": "execute_result"
    }
   ],
   "source": [
    "from myfunc import Cal, add\n",
    "add(3,4)"
   ]
  },
  {
   "cell_type": "code",
   "execution_count": null,
   "id": "0b6b1c48",
   "metadata": {},
   "outputs": [],
   "source": []
  },
  {
   "cell_type": "code",
   "execution_count": null,
   "id": "174dc788",
   "metadata": {},
   "outputs": [],
   "source": []
  }
 ],
 "metadata": {
  "kernelspec": {
   "display_name": "Python 3 (ipykernel)",
   "language": "python",
   "name": "python3"
  },
  "language_info": {
   "codemirror_mode": {
    "name": "ipython",
    "version": 3
   },
   "file_extension": ".py",
   "mimetype": "text/x-python",
   "name": "python",
   "nbconvert_exporter": "python",
   "pygments_lexer": "ipython3",
   "version": "3.9.21"
  }
 },
 "nbformat": 4,
 "nbformat_minor": 5
}
