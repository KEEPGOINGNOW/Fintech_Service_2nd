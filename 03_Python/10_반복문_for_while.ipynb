{
 "cells": [
  {
   "cell_type": "markdown",
   "id": "18c55d2f",
   "metadata": {},
   "source": [
    "# 반복문 : for, while\n",
    "- 반복문은 동일한 작업을 여러 번 반복해야 할 경우 사용\n",
    "- for, while 두 종류의 반복문 존재\n",
    "- for문 : **반복 횟수가 정해져 있는 경우** 사용\n",
    "- while문 : 반복 횟수가 정해져 있지 않은 경우(**무한 반복**) 사용"
   ]
  },
  {
   "cell_type": "markdown",
   "id": "20d3baab",
   "metadata": {},
   "source": [
    "## for 반복문 : 반복할 횟수가 정해져 있는 경우\n",
    "for 뱐수1, 변수2 in 반복할 객체/자료:<br>\n",
    "___반복할 코드"
   ]
  },
  {
   "cell_type": "code",
   "execution_count": 4,
   "id": "03252f76",
   "metadata": {},
   "outputs": [
    {
     "name": "stdout",
     "output_type": "stream",
     "text": [
      "range(1, 11) <class 'range'>\n"
     ]
    }
   ],
   "source": [
    "# 숫자 생성 함수 range(시작, 끝, step)\n",
    "print(range(1,11), type(range(1,11)))"
   ]
  },
  {
   "cell_type": "code",
   "execution_count": 3,
   "id": "98eebfbc",
   "metadata": {},
   "outputs": [
    {
     "name": "stdout",
     "output_type": "stream",
     "text": [
      "1 2 3 4 5 6 7 8 9 10 "
     ]
    }
   ],
   "source": [
    "# for문을 이용해서 숫자 1-10 출력\n",
    "for num in range(1,11):\n",
    "    print(num, end=' ')"
   ]
  },
  {
   "cell_type": "markdown",
   "id": "f19ca2ca",
   "metadata": {},
   "source": [
    "- 순서가 있는 자료형(문자열, 리스트, 튜플) + 순서는 없지만 dict도 반복문 사용 가능\n"
   ]
  },
  {
   "cell_type": "code",
   "execution_count": 17,
   "id": "73a93fc9",
   "metadata": {},
   "outputs": [
    {
     "name": "stdout",
     "output_type": "stream",
     "text": [
      "파이썬은 문자열을 반복문에 넣어 출력 가능"
     ]
    }
   ],
   "source": [
    "# 문자열 for문 적용\n",
    "for char in '파이썬은 문자열을 반복문에 넣어 출력 가능':\n",
    "    print(char, end = '')"
   ]
  },
  {
   "cell_type": "code",
   "execution_count": 18,
   "id": "d3f85e40",
   "metadata": {},
   "outputs": [
    {
     "name": "stdout",
     "output_type": "stream",
     "text": [
      "1 2 3 사 오 [6, 7, 8] (8, 9, 10) {'key': 'value'} "
     ]
    }
   ],
   "source": [
    "# 리스트 for문 적용\n",
    "for l_item in [1,2,3,'사','오',[6,7,8], (8,9,10),{'key':'value'}]:\n",
    "    print(l_item, end = ' ')"
   ]
  },
  {
   "cell_type": "code",
   "execution_count": 21,
   "id": "9a797946",
   "metadata": {},
   "outputs": [
    {
     "name": "stdout",
     "output_type": "stream",
     "text": [
      "1 2 3 사 오 [6, 7, 8] (8, 9, 10) {'key': 'value'} "
     ]
    }
   ],
   "source": [
    "# 튜플 for문 적용\n",
    "for t_item in (1,2,3,'사','오',[6,7,8], (8,9,10),{'key':'value'}):\n",
    "    print(t_item, end = ' ')"
   ]
  },
  {
   "cell_type": "code",
   "execution_count": 29,
   "id": "48e3850d",
   "metadata": {},
   "outputs": [
    {
     "name": "stdout",
     "output_type": "stream",
     "text": [
      "{'이름': '홍길동', '나이': 40, '주소': '서울', '전화번호': '010-0000-0000'}\n"
     ]
    }
   ],
   "source": [
    "# 딕셔너리 for문 적용\n",
    "d = dict(이름='홍길동', 나이=40, 주소='서울', 전화번호='010-0000-0000')\n",
    "print(d)"
   ]
  },
  {
   "cell_type": "code",
   "execution_count": 42,
   "id": "73b48ae6",
   "metadata": {},
   "outputs": [
    {
     "name": "stdout",
     "output_type": "stream",
     "text": [
      "이름\n",
      "나이\n",
      "주소\n",
      "전화번호\n",
      "--------------------------------------------------\n",
      "이름 홍길동\n",
      "나이 40\n",
      "주소 서울\n",
      "전화번호 010-0000-0000\n"
     ]
    }
   ],
   "source": [
    "# for문 적용\n",
    "for item in d:\n",
    "    #print(d.get(item, 'key 없음'), end= ' ')\n",
    "    print(item)\n",
    "\n",
    "print('-'*50)\n",
    "\n",
    "# key 값 출력\n",
    "for key, value in d.items():\n",
    "    #print(d.get(item, 'key 없음'), end= ' ')\n",
    "    print(key, value)"
   ]
  },
  {
   "cell_type": "markdown",
   "id": "debc5714",
   "metadata": {},
   "source": [
    "#### 반복문 예제 만들기\n",
    "- for문을 사용하여 1부터 10까지 정수를 더한 합을 출력\n",
    "    - 1부터 10까지 숫자를 만들어서 반복문에 넣음\n",
    "    - 1부터 10까지 누적 덧셈 수행\n",
    "    - 누적 덧셈을 한 결과를 출력"
   ]
  },
  {
   "cell_type": "code",
   "execution_count": 59,
   "id": "558cfa71",
   "metadata": {},
   "outputs": [
    {
     "name": "stdout",
     "output_type": "stream",
     "text": [
      "0 + 1  = 1\n",
      "1 + 2  = 3\n",
      "3 + 3  = 6\n",
      "6 + 4  = 10\n",
      "10 + 5  = 15\n",
      "15 + 6  = 21\n",
      "21 + 7  = 28\n",
      "28 + 8  = 36\n",
      "36 + 9  = 45\n",
      "45 + 10  = 55\n"
     ]
    }
   ],
   "source": [
    "total = 0\n",
    "for num in range(1,11):\n",
    "#     print(num, end=' ')\n",
    "    print(f\"{total} + {num}\", end=' ')\n",
    "    total += num # total + num = total\n",
    "    print(f' = {total}')"
   ]
  },
  {
   "cell_type": "code",
   "execution_count": null,
   "id": "8d231d1b",
   "metadata": {},
   "outputs": [],
   "source": []
  },
  {
   "cell_type": "code",
   "execution_count": null,
   "id": "2ed569af",
   "metadata": {},
   "outputs": [],
   "source": []
  }
 ],
 "metadata": {
  "kernelspec": {
   "display_name": "Python 3 (ipykernel)",
   "language": "python",
   "name": "python3"
  },
  "language_info": {
   "codemirror_mode": {
    "name": "ipython",
    "version": 3
   },
   "file_extension": ".py",
   "mimetype": "text/x-python",
   "name": "python",
   "nbconvert_exporter": "python",
   "pygments_lexer": "ipython3",
   "version": "3.9.21"
  }
 },
 "nbformat": 4,
 "nbformat_minor": 5
}
