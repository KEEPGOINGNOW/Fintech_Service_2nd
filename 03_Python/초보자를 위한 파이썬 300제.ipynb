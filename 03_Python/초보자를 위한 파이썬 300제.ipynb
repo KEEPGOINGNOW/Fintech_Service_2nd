{
 "cells": [
  {
   "cell_type": "markdown",
   "id": "90eafbc7",
   "metadata": {},
   "source": [
    "# 초보자를 위한 파이썬 300제\n",
    "[초보자를 위한 파이썬 300제](https://wikidocs.net/book/922)"
   ]
  },
  {
   "cell_type": "markdown",
   "id": "492acf6b",
   "metadata": {},
   "source": [
    "## 1 - 10"
   ]
  },
  {
   "cell_type": "code",
   "execution_count": 37,
   "id": "d596ca27",
   "metadata": {},
   "outputs": [
    {
     "name": "stdout",
     "output_type": "stream",
     "text": [
      "Hello World\n"
     ]
    }
   ],
   "source": [
    "print('Hello World')"
   ]
  },
  {
   "cell_type": "code",
   "execution_count": 24,
   "id": "90ef7dbf",
   "metadata": {},
   "outputs": [
    {
     "name": "stdout",
     "output_type": "stream",
     "text": [
      "Mary's cosmetics\n"
     ]
    }
   ],
   "source": [
    "print(\"Mary's cosmetics\")"
   ]
  },
  {
   "cell_type": "code",
   "execution_count": 25,
   "id": "f63c333e",
   "metadata": {},
   "outputs": [
    {
     "name": "stdout",
     "output_type": "stream",
     "text": [
      "신씨가 소리를 질렀다. \"도둑이야\".\n"
     ]
    }
   ],
   "source": [
    "print('신씨가 소리를 질렀다. \"도둑이야\".')"
   ]
  },
  {
   "cell_type": "code",
   "execution_count": 27,
   "id": "5660817b",
   "metadata": {},
   "outputs": [
    {
     "name": "stdout",
     "output_type": "stream",
     "text": [
      "C:\\Windows\n"
     ]
    }
   ],
   "source": [
    "print('C:\\Windows')"
   ]
  },
  {
   "cell_type": "code",
   "execution_count": 40,
   "id": "be2c6c20",
   "metadata": {},
   "outputs": [
    {
     "name": "stdout",
     "output_type": "stream",
     "text": [
      "안녕하세요.\n",
      "만나서\t\t반갑습니다.\n"
     ]
    }
   ],
   "source": [
    "print(\"안녕하세요.\\n만나서\\t\\t반갑습니다.\")\n",
    "\n",
    "# \\n : 줄바꿈 역할\n",
    "#'\\t : 들여쓰기 역할'"
   ]
  },
  {
   "cell_type": "code",
   "execution_count": 29,
   "id": "3e029a60",
   "metadata": {},
   "outputs": [
    {
     "name": "stdout",
     "output_type": "stream",
     "text": [
      "오늘은 일요일\n"
     ]
    }
   ],
   "source": [
    "print('오늘은', '일요일')"
   ]
  },
  {
   "cell_type": "code",
   "execution_count": 32,
   "id": "9a53ee8e",
   "metadata": {},
   "outputs": [
    {
     "name": "stdout",
     "output_type": "stream",
     "text": [
      "naver;kakao;sk;samsung\n"
     ]
    }
   ],
   "source": [
    "print('naver','kakao','sk','samsung',sep=';')"
   ]
  },
  {
   "cell_type": "code",
   "execution_count": 33,
   "id": "d2be5712",
   "metadata": {},
   "outputs": [
    {
     "name": "stdout",
     "output_type": "stream",
     "text": [
      "naver/kakao/sk/samsung\n"
     ]
    }
   ],
   "source": [
    "print('naver','kakao','sk','samsung',sep='/')"
   ]
  },
  {
   "cell_type": "code",
   "execution_count": 35,
   "id": "c35b7a4f",
   "metadata": {},
   "outputs": [
    {
     "name": "stdout",
     "output_type": "stream",
     "text": [
      "first second\n"
     ]
    }
   ],
   "source": [
    "print(\"first\", end=' ');print(\"second\")"
   ]
  },
  {
   "cell_type": "code",
   "execution_count": 36,
   "id": "123277e7",
   "metadata": {},
   "outputs": [
    {
     "name": "stdout",
     "output_type": "stream",
     "text": [
      "1.6666666666666667\n"
     ]
    }
   ],
   "source": [
    "print(5/3)"
   ]
  },
  {
   "cell_type": "markdown",
   "id": "4f286aff",
   "metadata": {},
   "source": [
    "## 11 - 20"
   ]
  },
  {
   "cell_type": "code",
   "execution_count": 41,
   "id": "d0d38d1b",
   "metadata": {},
   "outputs": [
    {
     "name": "stdout",
     "output_type": "stream",
     "text": [
      "삼성전자 주식 10주를 가지고 있다면 총 평가금액은 500000\n"
     ]
    }
   ],
   "source": [
    "# 주식 수와 삼성전자 할당\n",
    "stock = 10\n",
    "삼성전자 = 50000\n",
    "\n",
    "# 해당 문장 출력\n",
    "print(f'삼성전자 주식 {stock}주를 가지고 있다면 총 평가금액은 {stock * 삼성전자}')"
   ]
  },
  {
   "cell_type": "code",
   "execution_count": 42,
   "id": "7d6d81ac",
   "metadata": {},
   "outputs": [
    {
     "name": "stdout",
     "output_type": "stream",
     "text": [
      "삼성전자 시총 :  298000000000000\n",
      "삼성전자 현재가 :  50000\n",
      "삼성전자 PER :  15.79\n"
     ]
    }
   ],
   "source": [
    "시가총액 = 298000000000000\n",
    "현재가 = 50000\n",
    "PER = 15.79\n",
    "\n",
    "print('삼성전자 시총 : ',  시가총액)\n",
    "print('삼성전자 현재가 : ',  현재가)\n",
    "print('삼성전자 PER : ',  PER)"
   ]
  },
  {
   "cell_type": "code",
   "execution_count": 48,
   "id": "eb5f4a9d",
   "metadata": {},
   "outputs": [
    {
     "name": "stdout",
     "output_type": "stream",
     "text": [
      "hello! python\n"
     ]
    }
   ],
   "source": [
    "s = \"hello\"\n",
    "t = \"python\"\n",
    "print(s, t, sep=\"! \")"
   ]
  },
  {
   "cell_type": "code",
   "execution_count": 50,
   "id": "6b1b3ce6",
   "metadata": {},
   "outputs": [
    {
     "name": "stdout",
     "output_type": "stream",
     "text": [
      "8\n"
     ]
    }
   ],
   "source": [
    "print(2 + 2 * 3)"
   ]
  },
  {
   "cell_type": "code",
   "execution_count": 47,
   "id": "ab022297",
   "metadata": {},
   "outputs": [
    {
     "name": "stdout",
     "output_type": "stream",
     "text": [
      "132 <class 'str'>\n"
     ]
    }
   ],
   "source": [
    "a = \"132\"\n",
    "print(a, type(a))"
   ]
  },
  {
   "cell_type": "code",
   "execution_count": 52,
   "id": "14198f64",
   "metadata": {},
   "outputs": [
    {
     "name": "stdout",
     "output_type": "stream",
     "text": [
      "720 <class 'int'>\n"
     ]
    }
   ],
   "source": [
    "num_str = \"720\"\n",
    "num_str = int(num_str)\n",
    "print(num_str, type(num_str))"
   ]
  },
  {
   "cell_type": "code",
   "execution_count": 53,
   "id": "01791e1a",
   "metadata": {},
   "outputs": [
    {
     "name": "stdout",
     "output_type": "stream",
     "text": [
      "100 <class 'str'>\n"
     ]
    }
   ],
   "source": [
    "num = 100\n",
    "num = str(num)\n",
    "print(num,type(num))"
   ]
  },
  {
   "cell_type": "code",
   "execution_count": null,
   "id": "72885847",
   "metadata": {},
   "outputs": [],
   "source": []
  },
  {
   "cell_type": "code",
   "execution_count": null,
   "id": "3262443f",
   "metadata": {},
   "outputs": [],
   "source": []
  },
  {
   "cell_type": "code",
   "execution_count": null,
   "id": "8df470e5",
   "metadata": {},
   "outputs": [],
   "source": []
  },
  {
   "cell_type": "code",
   "execution_count": null,
   "id": "446702d9",
   "metadata": {},
   "outputs": [],
   "source": []
  }
 ],
 "metadata": {
  "kernelspec": {
   "display_name": "Python 3 (ipykernel)",
   "language": "python",
   "name": "python3"
  },
  "language_info": {
   "codemirror_mode": {
    "name": "ipython",
    "version": 3
   },
   "file_extension": ".py",
   "mimetype": "text/x-python",
   "name": "python",
   "nbconvert_exporter": "python",
   "pygments_lexer": "ipython3",
   "version": "3.9.21"
  }
 },
 "nbformat": 4,
 "nbformat_minor": 5
}
