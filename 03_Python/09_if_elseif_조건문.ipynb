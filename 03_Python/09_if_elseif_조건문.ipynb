{
 "cells": [
  {
   "cell_type": "markdown",
   "id": "2b889d83",
   "metadata": {},
   "source": [
    "# if else 조건문\n"
   ]
  },
  {
   "cell_type": "markdown",
   "id": "1e7d5251",
   "metadata": {},
   "source": [
    "## 1. 조건문 : 특정 조건을 판별하여 작업을 분기 시키는 문법\n",
    "- if 조건식:<br> \n",
    "____조건이 참일 때 실행할 코드<br> \n",
    "else:<br> \n",
    "____조건이 거짓일 때 실행할 코드 "
   ]
  },
  {
   "cell_type": "code",
   "execution_count": 3,
   "id": "117ab029",
   "metadata": {},
   "outputs": [
    {
     "name": "stdout",
     "output_type": "stream",
     "text": [
      "13은, 10이 아닙니다.\n"
     ]
    }
   ],
   "source": [
    "# 정수 할당\n",
    "x = 13\n",
    "\n",
    "# if문 적용\n",
    "if x==10:\n",
    "    print(f\"{x}은, 10입니다.\")\n",
    "else:\n",
    "    print(f\"{x}은, 10이 아닙니다.\")\n",
    "    "
   ]
  },
  {
   "cell_type": "code",
   "execution_count": 5,
   "id": "c53f8f72",
   "metadata": {},
   "outputs": [
    {
     "data": {
      "text/plain": [
       "['파이썬', '조건문', 10, 15.3, True, [1, 2, 3], (4, 5, 6), {'key': 365}]"
      ]
     },
     "execution_count": 5,
     "metadata": {},
     "output_type": "execute_result"
    }
   ],
   "source": [
    "# 리스트 할당\n",
    "l1 = ['파이썬', '조건문', 10, 15.3, True, [1,2,3], (4,5,6), {'key':365}]\n",
    "l1"
   ]
  },
  {
   "cell_type": "code",
   "execution_count": 13,
   "id": "6f1e6eda",
   "metadata": {},
   "outputs": [
    {
     "name": "stdout",
     "output_type": "stream",
     "text": [
      "l1 안에 파이썬이 없습니다\n"
     ]
    }
   ],
   "source": [
    "# if문 적용\n",
    "if '파이썬1' in l1:\n",
    "    print(f\"l1 안에 파이썬이 있습니다\")\n",
    "else:\n",
    "    print(f\"l1 안에 파이썬이 없습니다\")"
   ]
  },
  {
   "cell_type": "code",
   "execution_count": 15,
   "id": "925b89eb",
   "metadata": {},
   "outputs": [
    {
     "name": "stdout",
     "output_type": "stream",
     "text": [
      "숫자를 입력하세요4\n",
      "입력한 숫자 4는 짝수입니다\n"
     ]
    }
   ],
   "source": [
    "# 숫자를 입력받아 홀수인지 짝수인지 판단하는 프로그램\n",
    "x = input('숫자를 입력하세요')\n",
    "if int(x) % 2 ==0:\n",
    "    print(f\"입력한 숫자 {x}는 짝수입니다\")\n",
    "else:\n",
    "    print(f\"입력한 숫자 {x}는 홀수입니다\")"
   ]
  },
  {
   "cell_type": "code",
   "execution_count": 22,
   "id": "0cdf873a",
   "metadata": {},
   "outputs": [
    {
     "name": "stdout",
     "output_type": "stream",
     "text": [
      "숫자를 1개만 입력하세요: 4\n",
      "4는 0에서 10 사이에 있는 숫자 입니다.\n"
     ]
    }
   ],
   "source": [
    "# 숫자를 입력받아 범위에 존재하는지 판단하는 프로그램\n",
    "x = input('숫자를 1개만 입력하세요: ')\n",
    "\n",
    "if 0 <= int(x) <= 10:\n",
    "    print(f\"{x}는 0에서 10 사이에 있는 숫자 입니다.\")\n",
    "else:\n",
    "    print(f\"{x}는 0에서 10 사이에 있는 숫자 아닙니다.\")\n",
    "    "
   ]
  },
  {
   "cell_type": "code",
   "execution_count": 27,
   "id": "80cae13e",
   "metadata": {},
   "outputs": [
    {
     "name": "stdout",
     "output_type": "stream",
     "text": [
      "숫자를 1개 입력하세요9\n",
      "입력한 숫자 9는 0에서 10사이에 있는 숫자 아니고 홀수입니다\n"
     ]
    }
   ],
   "source": [
    "# 숫자를 입력받아 범위 안에 있고 홀수인지 짝수인지 판단하는 프로그램\n",
    "x = input('숫자를 1개 입력하세요')\n",
    "if 0 <= int(x) <= 10 and int(x) % 2 ==0:\n",
    "    print(f\"입력한 숫자 {x}는 0에서 10사이에 있는 숫자이고 짝수입니다\")\n",
    "else:\n",
    "    print(f\"입력한 숫자 {x}는 0에서 10사이에 있는 숫자 아니고 홀수입니다\")"
   ]
  },
  {
   "cell_type": "markdown",
   "id": "ca038123",
   "metadata": {},
   "source": [
    "## 2. elif : 다중 조건문 사용\n",
    "if 조건식1:<br>\n",
    "____조건식1이 참일 때 실행할 코드<br>\n",
    "elif 조건식2:<br>\n",
    "____조건식2가 참일 때 실행할 코드<br>\n",
    "elif 조건식3:<br>\n",
    "____조건식3가 참일 때 실행할 코드<br>\n",
    "else:<br>\n",
    "____조건식 1,2,3이 모두 거짓일 때 실행할 코드 "
   ]
  },
  {
   "cell_type": "code",
   "execution_count": 43,
   "id": "500a9bbb",
   "metadata": {},
   "outputs": [
    {
     "name": "stdout",
     "output_type": "stream",
     "text": [
      "점수를 입력하세요(0~100): 55\n",
      "55는 C등급 입니다.\n"
     ]
    }
   ],
   "source": [
    "# 점수를 입력받아서 81-100 A, 61-80 B, 41-60 C, 21-40 D, 0-20 F 등급\n",
    "score = int(input('점수를 입력하세요(0~100): '))\n",
    "if 0 <= score <= 100:\n",
    "    if 0 <= score <= 20:\n",
    "        print(f'{score}는 F등급 입니다.')\n",
    "    elif 20 < score <= 40:\n",
    "        print(f'{score}는 D등급 입니다.')\n",
    "    elif 40 < score <= 60:\n",
    "        print(f'{score}는 C등급 입니다.')\n",
    "    elif 60 < score <= 80:\n",
    "        print(f'{score}는 B등급 입니다.')\n",
    "    elif 80 < score <= 100:\n",
    "        print(f'{score}는 A등급 입니다.')\n",
    "else:\n",
    "    print('숫자를 0-100 사이로 입력해 주세요')"
   ]
  },
  {
   "cell_type": "markdown",
   "id": "6d293eee",
   "metadata": {},
   "source": [
    "- 1-50 사이의 숫자를 입력받아서 3의 배수면 3의 배수입니다.\n",
    "-  3의 배수가 아니면 3의 배수가 아닙니다\n",
    "    - 입력받기, 정수변환\n",
    "    - 1-50 사이의 숫자인가?\n",
    "    - 3의 배수인가?\n",
    "    - 출력\n",
    "    "
   ]
  },
  {
   "cell_type": "code",
   "execution_count": 69,
   "id": "93305eae",
   "metadata": {},
   "outputs": [
    {
     "name": "stdout",
     "output_type": "stream",
     "text": [
      "정수로 숫자를 입력하세요(0~50): 56\n",
      "숫자를 0-50 사이의 정수로 입력해 주세요\n"
     ]
    }
   ],
   "source": [
    "# 1-50 사이의 숫자를 입력받아서 3의 배수인 경우를 판단하는 프로그램\n",
    "num = int(input('정수로 숫자를 입력하세요(0~50): '))\n",
    "if 0 <= num <= 50 and type(num) == int:\n",
    "    if num % 3 == 0:\n",
    "        print(f'{num}은 3의 배수입니다.')\n",
    "    else:\n",
    "        print(f'{num}은 3의 배수가 아닙니다.')\n",
    "else:\n",
    "    print('숫자를 0-50 사이의 정수로 입력해 주세요')"
   ]
  },
  {
   "cell_type": "markdown",
   "id": "d80bb771",
   "metadata": {},
   "source": [
    "## 3. 조건 표현식\n",
    "- 참일 때 실행코드 if 조건 else 거짓일 때 실행 코드\n"
   ]
  },
  {
   "cell_type": "code",
   "execution_count": 60,
   "id": "ab13d6b1",
   "metadata": {},
   "outputs": [
    {
     "name": "stdout",
     "output_type": "stream",
     "text": [
      "숫자를 입력하세요: 12\n",
      "짝수\n"
     ]
    }
   ],
   "source": [
    "# 일반적인 if else문\n",
    "num = int(input('숫자를 입력하세요: '))\n",
    "# print(num, type(num))\n",
    "if num % 2 == 0:\n",
    "    print('짝수')\n",
    "else:\n",
    "    print('홀수')"
   ]
  },
  {
   "cell_type": "code",
   "execution_count": 66,
   "id": "8a927d71",
   "metadata": {},
   "outputs": [
    {
     "name": "stdout",
     "output_type": "stream",
     "text": [
      "숫자를 입력하세요: 89\n",
      "홀수\n"
     ]
    }
   ],
   "source": [
    "# 조건 표현식\n",
    "num = int(input('숫자를 입력하세요: '))\n",
    "# print(num, type(num))\n",
    "print('짝수') if num % 2 == 0 else print('홀수')\n"
   ]
  },
  {
   "cell_type": "code",
   "execution_count": null,
   "id": "7a94d501",
   "metadata": {},
   "outputs": [],
   "source": []
  }
 ],
 "metadata": {
  "kernelspec": {
   "display_name": "Python 3 (ipykernel)",
   "language": "python",
   "name": "python3"
  },
  "language_info": {
   "codemirror_mode": {
    "name": "ipython",
    "version": 3
   },
   "file_extension": ".py",
   "mimetype": "text/x-python",
   "name": "python",
   "nbconvert_exporter": "python",
   "pygments_lexer": "ipython3",
   "version": "3.9.21"
  }
 },
 "nbformat": 4,
 "nbformat_minor": 5
}
