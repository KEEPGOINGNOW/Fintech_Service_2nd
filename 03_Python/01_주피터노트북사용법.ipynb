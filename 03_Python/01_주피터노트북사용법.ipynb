{
 "cells": [
  {
   "cell_type": "markdown",
   "id": "1a474485",
   "metadata": {},
   "source": [
    "## cmd 명령어 확인\n",
    "\n",
    "- conda 활성화 : conda activate <가상환경명>\n",
    "- conda 비활성화 : conda deactivate <가상환경명>\n",
    "- 가상환경 만들기 : create -n 가상환경명 python=버전\n",
    "- 패키지 설치 : conda install 패키지명\n",
    "- 설치된 패키지 확인 : conda list\n",
    "- 가상환경 목록 보기 : conda info --envs\n",
    "- 가상환경 삭제하기 : conda remove -n 삭제할 가상환경명 -all\n",
    "- 파일 들어가기 : cd 파일위치 / cd ..\n",
    "\n",
    "\n",
    "---------\n",
    "\n",
    "- jupyter notebook 작업 폴더 설정\n",
    "    - jupyter notebook --generate-config\n",
    "    - jupyter_notebook_config.py 파일 열기(_dir 부분 찾아 경로 입력)\n",
    "\n",
    "- mamba 설치 : conda install mamba\n",
    "- mamba 통해 pandas 설치 : mamba install pandas\n",
    "----------\n",
    "\n"
   ]
  },
  {
   "cell_type": "code",
   "execution_count": null,
   "id": "5e8fb816",
   "metadata": {},
   "outputs": [],
   "source": []
  },
  {
   "cell_type": "code",
   "execution_count": null,
   "id": "cc3d283d",
   "metadata": {},
   "outputs": [],
   "source": []
  },
  {
   "cell_type": "code",
   "execution_count": null,
   "id": "f86093a1",
   "metadata": {},
   "outputs": [],
   "source": []
  },
  {
   "cell_type": "code",
   "execution_count": null,
   "id": "efc04e10",
   "metadata": {},
   "outputs": [],
   "source": []
  },
  {
   "cell_type": "markdown",
   "id": "7fac5234",
   "metadata": {},
   "source": [
    "# h1\n",
    "\n",
    "## h2\n",
    "\n",
    "### h3\n",
    "\n",
    "--------\n",
    "\n",
    "* 목록\n",
    "* 목록2\n",
    "    - 목록2의 세부목록1\n",
    "    - 목록2의 세부목록2\n",
    "<ul>\n",
    "    <li>세부목록1</li>\n",
    "    <li>세부목록2</li>\n",
    "</ul>\n",
    "-------\n",
    "\n"
   ]
  },
  {
   "cell_type": "markdown",
   "id": "3a5853c8",
   "metadata": {},
   "source": [
    "**내용 굵게 나타내기**\n",
    "\n",
    "### 링크 걸기\n",
    "[네이버링크](https://www.naver.com)\n",
    "\n",
    "###  이미지 넣기\n",
    "![너구리](data:image/jpeg;base64,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)\n",
    "\n",
    "---------\n"
   ]
  },
  {
   "cell_type": "markdown",
   "id": "b311c079",
   "metadata": {},
   "source": [
    "### 수식 넣기\n",
    "$$ A \\over B $$\n",
    "[위키백과 마크다운 수식 종류](https://ko.wikipedia.org/wiki/%EC%9C%84%ED%82%A4%EB%B0%B1%EA%B3%BC:TeX_%EB%AC%B8%EB%B2%95)\n"
   ]
  },
  {
   "cell_type": "markdown",
   "id": "f75b017a",
   "metadata": {},
   "source": [
    "### 표 생성\n",
    "간단한 표 생성해서 넣어보기\n",
    "\n",
    "------"
   ]
  },
  {
   "cell_type": "code",
   "execution_count": 8,
   "id": "d0021eab",
   "metadata": {},
   "outputs": [
    {
     "data": {
      "text/plain": [
       "3"
      ]
     },
     "execution_count": 8,
     "metadata": {},
     "output_type": "execute_result"
    }
   ],
   "source": [
    "a = 1\n",
    "b = 2\n",
    "a + b"
   ]
  },
  {
   "cell_type": "code",
   "execution_count": 6,
   "id": "335e3e7e",
   "metadata": {},
   "outputs": [],
   "source": []
  },
  {
   "cell_type": "code",
   "execution_count": null,
   "id": "7dd4870e",
   "metadata": {},
   "outputs": [],
   "source": []
  }
 ],
 "metadata": {
  "kernelspec": {
   "display_name": "Python 3 (ipykernel)",
   "language": "python",
   "name": "python3"
  },
  "language_info": {
   "codemirror_mode": {
    "name": "ipython",
    "version": 3
   },
   "file_extension": ".py",
   "mimetype": "text/x-python",
   "name": "python",
   "nbconvert_exporter": "python",
   "pygments_lexer": "ipython3",
   "version": "3.9.21"
  }
 },
 "nbformat": 4,
 "nbformat_minor": 5
}
