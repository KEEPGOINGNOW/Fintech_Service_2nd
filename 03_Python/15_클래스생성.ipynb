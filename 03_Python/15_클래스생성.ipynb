{
 "cells": [
  {
   "cell_type": "markdown",
   "id": "cdde9f61",
   "metadata": {},
   "source": [
    "# 프로그래밍 방법\n",
    "\n",
    "1. 절차적 프로그래밍\n",
    "    - 프로그래밍을 순차적으로 하는 것\n",
    "    - 코드가 위에서 아래로 절차적으로 실행\n",
    "```python\n",
    "a = 1\n",
    "b = 2\n",
    "print(a+b)\n",
    "```\n",
    "-----\n",
    "\n",
    "2. 함수형 프로그래밍\n",
    "    - 여러 개의 함수를 작성해서 함수에 기반해 프로그래밍이 실행\n",
    "    - 코드의 재사용 가능\n",
    "    - 유지보수 용이\n",
    "    - 버그 발생률이 낮고 예측 가능성이 높음\n",
    "    - 병렬 처리, 동시성 처리에 강함 - 멀티 코어를 이용하는 경우 유리\n",
    "```python\n",
    "# 리스트의 제곱합 구하기\n",
    "nums = [1,2,3,4]\n",
    "squares = list(map(lambda x: x**2, nums))\n",
    "print(squares)\n",
    "```\n",
    "\n",
    "------\n",
    "\n",
    "3. 객체지향 프로그래밍\n",
    "    - JAVA, C++ 등\n",
    "    - 클래스 기반으로 프로그래밍\n",
    "    - 캡슐화, 상속, 다향성 같은 개념 사용\n",
    "    - 코드를 재사용하는데 특화\n",
    "    - 여러 사람이 이용할 때 같은 코드를 독립적으로 사용 가능\n",
    "    "
   ]
  },
  {
   "cell_type": "code",
   "execution_count": 6,
   "id": "97a74153",
   "metadata": {},
   "outputs": [
    {
     "name": "stdout",
     "output_type": "stream",
     "text": [
      "[1, 4, 9, 16]\n"
     ]
    }
   ],
   "source": [
    "# 함수형 프로그래밍\n",
    "# 리스트의 제곱합 구하기\n",
    "nums = [1,2,3,4]\n",
    "squares = list(map(lambda x: x**2, nums))\n",
    "print(squares)"
   ]
  },
  {
   "cell_type": "code",
   "execution_count": 7,
   "id": "bd6d3cf0",
   "metadata": {},
   "outputs": [
    {
     "data": {
      "text/plain": [
       "3"
      ]
     },
     "execution_count": 7,
     "metadata": {},
     "output_type": "execute_result"
    }
   ],
   "source": [
    "# 함수형 프로그래밍\n",
    "# 함수 생성\n",
    "def add(a, b):\n",
    "    return a+b\n",
    "\n",
    "add(1,2)"
   ]
  },
  {
   "cell_type": "markdown",
   "id": "e851adfc",
   "metadata": {},
   "source": [
    "# 클래스 생성\n",
    "- 클래스는 객체지향 프로그래밍의 핵심\n",
    "- 클래스 하나에 여러 개의 함수(메서드)를 포함\n",
    "- 클래스 = 공장(커피머신 공장) - 커피머신\n",
    "- 메서드 = 커피머신의 기능(에스프레소, 아메리카노, 카페라떼, 스팀 등)"
   ]
  },
  {
   "cell_type": "markdown",
   "id": "56c89dbb",
   "metadata": {},
   "source": [
    "- 더하기 함수\n"
   ]
  },
  {
   "cell_type": "code",
   "execution_count": 8,
   "id": "67aff7a8",
   "metadata": {},
   "outputs": [],
   "source": [
    "def add(num1, num2):\n",
    "    result = num1 + num2\n",
    "    return result"
   ]
  },
  {
   "cell_type": "code",
   "execution_count": 9,
   "id": "66c8f9f8",
   "metadata": {},
   "outputs": [
    {
     "data": {
      "text/plain": [
       "8"
      ]
     },
     "execution_count": 9,
     "metadata": {},
     "output_type": "execute_result"
    }
   ],
   "source": [
    "add(3, 5)"
   ]
  },
  {
   "cell_type": "markdown",
   "id": "60c16a87",
   "metadata": {},
   "source": [
    "- 이전에 계산한 결과 기억하는 계산기"
   ]
  },
  {
   "cell_type": "code",
   "execution_count": 1,
   "id": "438f9843",
   "metadata": {},
   "outputs": [],
   "source": [
    "result_cal = 0\n",
    "def add(num, result_cal):\n",
    "    print('result_cal: ',result_cal)\n",
    "    result_cal += num\n",
    "    return result_cal"
   ]
  },
  {
   "cell_type": "code",
   "execution_count": 3,
   "id": "14ad0bd7",
   "metadata": {},
   "outputs": [
    {
     "name": "stdout",
     "output_type": "stream",
     "text": [
      "result_cal:  0\n"
     ]
    },
    {
     "data": {
      "text/plain": [
       "10"
      ]
     },
     "execution_count": 3,
     "metadata": {},
     "output_type": "execute_result"
    }
   ],
   "source": [
    "add(10, result_cal)"
   ]
  },
  {
   "cell_type": "code",
   "execution_count": 16,
   "id": "9ef4811e",
   "metadata": {},
   "outputs": [],
   "source": [
    "result_cal = 0\n",
    "def mul10(num):\n",
    "    global result_cal\n",
    "    print('mul10의 id(result_cal): ', id(result_cal))\n",
    "    result_cal += num * 10\n",
    "    return result_cal"
   ]
  },
  {
   "cell_type": "code",
   "execution_count": 17,
   "id": "42e51db1",
   "metadata": {},
   "outputs": [
    {
     "name": "stdout",
     "output_type": "stream",
     "text": [
      "2776338884880\n"
     ]
    }
   ],
   "source": [
    "# 지역변수 result_cal의 주소\n",
    "print(id(result_cal))"
   ]
  },
  {
   "cell_type": "code",
   "execution_count": 18,
   "id": "6e122120",
   "metadata": {},
   "outputs": [
    {
     "name": "stdout",
     "output_type": "stream",
     "text": [
      "mul10의 id(result_cal):  2776338884880\n"
     ]
    },
    {
     "data": {
      "text/plain": [
       "100"
      ]
     },
     "execution_count": 18,
     "metadata": {},
     "output_type": "execute_result"
    }
   ],
   "source": [
    "mul10(10)"
   ]
  },
  {
   "cell_type": "markdown",
   "id": "f409d8e0",
   "metadata": {},
   "source": [
    "- 만약 mul함수를 길동이와 둘리 동시에 같이 쓰고 있다면?\n",
    "- 각각 사용할 수 있도록 함수를 여러 개 생성하면 된다\n",
    "- 하지만 이용자가 많을 경우 매우 비효율적\n",
    "- 하나의 코드로 여러 사람이 이용해도 독립적으로 작동하게 하는 것 = class"
   ]
  },
  {
   "cell_type": "code",
   "execution_count": 89,
   "id": "9ff69215",
   "metadata": {},
   "outputs": [
    {
     "name": "stdout",
     "output_type": "stream",
     "text": [
      "150\n",
      "500\n"
     ]
    }
   ],
   "source": [
    "# 길동이가 먼저 사용하고 있는데\n",
    "# 둘리 사용하기 위해서는 초기화가 필요\n",
    "print(mul10_gil(1))\n",
    "print(mul10_dul(5))"
   ]
  },
  {
   "cell_type": "markdown",
   "id": "879d71e3",
   "metadata": {},
   "source": [
    "# 클래스 만들기\n",
    "- pytorch 활용하는데 중요한 요소<br>\n",
    "- 메소드 = 함수 : 클래스 안에 정의한 함수를 메소드라고 지칭<br>\n",
    "- 클래스의 이름은 카멜표기법으로 생성<br>\n",
    "class 클래스명():<br>\n",
    "____def 메소드명1():<br>\n",
    "________실행할 코드<br>\n",
    "________return<br>\n",
    "____def 메소드명2():<br>\n",
    "________실행할 코드<br>\n",
    "________return<br>\n"
   ]
  },
  {
   "cell_type": "markdown",
   "id": "c0b03e0f",
   "metadata": {},
   "source": [
    "- 클래스로 계산기 생성"
   ]
  },
  {
   "cell_type": "code",
   "execution_count": 7,
   "id": "8cb1ebdc",
   "metadata": {},
   "outputs": [],
   "source": [
    "class Calculator():\n",
    "    # self : 생성자\n",
    "    def __init__(self):  # self Calculator()\n",
    "        self.result = 0\n",
    "    # 메소드 생성\n",
    "    def add(self, num):\n",
    "        self.result += num\n",
    "        return self.result\n"
   ]
  },
  {
   "cell_type": "code",
   "execution_count": 13,
   "id": "7a58efb3",
   "metadata": {},
   "outputs": [
    {
     "data": {
      "text/plain": [
       "10"
      ]
     },
     "execution_count": 13,
     "metadata": {},
     "output_type": "execute_result"
    }
   ],
   "source": [
    "cal = Calculator()\n",
    "cal.add(10)"
   ]
  },
  {
   "cell_type": "markdown",
   "id": "7bf10fee",
   "metadata": {},
   "source": [
    "# 인스턴스\n",
    "- 만들어진 클래스를 변수에 담는 것\n",
    "- 사용자 등록"
   ]
  },
  {
   "cell_type": "code",
   "execution_count": 20,
   "id": "cc634f2e",
   "metadata": {},
   "outputs": [
    {
     "name": "stdout",
     "output_type": "stream",
     "text": [
      "5\n",
      "1\n"
     ]
    }
   ],
   "source": [
    "# 길동과 둘리 따로 할당해서 클래스 활용\n",
    "gil = Calculator()\n",
    "dul = Calculator()\n",
    "\n",
    "print(gil.add(5))\n",
    "print(dul.add(1))"
   ]
  },
  {
   "cell_type": "code",
   "execution_count": 21,
   "id": "0f748883",
   "metadata": {},
   "outputs": [
    {
     "name": "stdout",
     "output_type": "stream",
     "text": [
      "15\n",
      "23\n"
     ]
    }
   ],
   "source": [
    "print(gil.add(10))\n",
    "print(dul.add(22))"
   ]
  },
  {
   "cell_type": "code",
   "execution_count": 22,
   "id": "44497ee5",
   "metadata": {},
   "outputs": [
    {
     "name": "stdout",
     "output_type": "stream",
     "text": [
      "10\n",
      "20\n",
      "30\n"
     ]
    }
   ],
   "source": [
    "# 사용자에 따라 따로 할당해서 클래스 활용\n",
    "user1 = Calculator()\n",
    "user2 = Calculator()\n",
    "user3 = Calculator()\n",
    "\n",
    "# 더하기 연산 결과 확인\n",
    "print(user1.add(10))\n",
    "print(user2.add(20))\n",
    "print(user3.add(30))"
   ]
  },
  {
   "cell_type": "markdown",
   "id": "9496a04e",
   "metadata": {},
   "source": [
    "# 인스턴스를 활용한 클래스 사용 방법\n",
    "- 변수에 클래스를 담아서 인스턴스 생성\n",
    "- 공장에서 만든 커피머신을 사용자에게 배송\n",
    "- 인스턴스 변수명 = 클래스명()\n",
    "- 인스턴스를 생성하고 나면 인스턴스변수명.메소드 형식으로 클래스에 정의한 메소드 사용 가능\n"
   ]
  },
  {
   "cell_type": "code",
   "execution_count": 92,
   "id": "33cc6414",
   "metadata": {},
   "outputs": [
    {
     "data": {
      "text/plain": [
       "10"
      ]
     },
     "execution_count": 92,
     "metadata": {},
     "output_type": "execute_result"
    }
   ],
   "source": [
    "clac = (lambda x: x + 5)\n",
    "clac(5)"
   ]
  },
  {
   "cell_type": "code",
   "execution_count": 99,
   "id": "f31a8d11",
   "metadata": {},
   "outputs": [],
   "source": [
    "sally = Calculator()"
   ]
  },
  {
   "cell_type": "code",
   "execution_count": 101,
   "id": "f968d15b",
   "metadata": {},
   "outputs": [
    {
     "data": {
      "text/plain": [
       "10"
      ]
     },
     "execution_count": 101,
     "metadata": {},
     "output_type": "execute_result"
    }
   ],
   "source": [
    "sally.add(5)"
   ]
  },
  {
   "cell_type": "code",
   "execution_count": 102,
   "id": "6dfc0305",
   "metadata": {},
   "outputs": [],
   "source": [
    "john = Calculator()"
   ]
  },
  {
   "cell_type": "code",
   "execution_count": 104,
   "id": "3c44ebe6",
   "metadata": {},
   "outputs": [
    {
     "data": {
      "text/plain": [
       "20"
      ]
     },
     "execution_count": 104,
     "metadata": {},
     "output_type": "execute_result"
    }
   ],
   "source": [
    "john.add(10)"
   ]
  },
  {
   "cell_type": "markdown",
   "id": "0c00bee6",
   "metadata": {},
   "source": [
    "# 메소드(method)\n",
    "- 클래스 안에 정의하는 함수\n",
    "- 클래스에 기능을 만들어줌\n",
    "- def 메소드명(self, 매개변수1, *매개변수2='', **kwargs):<br>\n",
    "____self.매개변수 = 매개변수\n"
   ]
  },
  {
   "cell_type": "markdown",
   "id": "e53852d3",
   "metadata": {},
   "source": [
    "- 사칙연산이 가능한 FourCal 계산기 생성"
   ]
  },
  {
   "cell_type": "code",
   "execution_count": 23,
   "id": "00a7fd5c",
   "metadata": {},
   "outputs": [],
   "source": [
    "class FourCal():\n",
    "    # self = 인스턴스\n",
    "    # 데이터를 입력받는 역할의 setdata method\n",
    "    def setdata(self, num1, num2):\n",
    "        self.num1 = num1\n",
    "        self.num2 = num2\n",
    "        print('self.num1: ', self.num1)\n",
    "        print('self.num2: ', self.num2)\n",
    "    "
   ]
  },
  {
   "cell_type": "code",
   "execution_count": 24,
   "id": "9b773bcb",
   "metadata": {},
   "outputs": [
    {
     "name": "stdout",
     "output_type": "stream",
     "text": [
      "self.num1:  1\n",
      "self.num2:  5\n"
     ]
    }
   ],
   "source": [
    "sam = FourCal()\n",
    "\n",
    "# 매개변수에 맞지 않게 넣는다면 오류 발생\n",
    "sam.setdata(1,5)"
   ]
  },
  {
   "cell_type": "markdown",
   "id": "cbda56ed",
   "metadata": {},
   "source": [
    "### 클래스에 기능 추가"
   ]
  },
  {
   "cell_type": "code",
   "execution_count": 27,
   "id": "9fc784bd",
   "metadata": {},
   "outputs": [],
   "source": [
    "class FourCal():\n",
    "    # self = 인스턴스\n",
    "    # 데이터를 입력받는 역할의 setdata method\n",
    "    def setdata(self, num1, num2):\n",
    "        self.num1 = num1\n",
    "        self.num2 = num2\n",
    "        print('self.num1: ', self.num1)\n",
    "        print('self.num2: ', self.num2)\n",
    "    \n",
    "    # 덧셈\n",
    "    def add(self):\n",
    "        result = self.num1 + self.num2\n",
    "        return result\n",
    "    \n",
    "    # 뺄셈\n",
    "    def minus(self):\n",
    "        result = self.num1 - self.num2\n",
    "        return result\n",
    "    \n",
    "    # 곱셈\n",
    "    def mul(self):\n",
    "        result = self.num1 * self.num2\n",
    "        return result\n",
    "    \n",
    "    # 나눗셈\n",
    "    def div(self):\n",
    "        result = self.num1 / self.num2\n",
    "        return result\n",
    "    "
   ]
  },
  {
   "cell_type": "code",
   "execution_count": 26,
   "id": "eeb26a73",
   "metadata": {},
   "outputs": [
    {
     "name": "stdout",
     "output_type": "stream",
     "text": [
      "self.num1:  3\n",
      "self.num2:  5\n"
     ]
    }
   ],
   "source": [
    "# 인스턴스 할당\n",
    "sam = FourCal()\n",
    "\n",
    "# 입력값 확인\n",
    "sam.setdata(3,5)"
   ]
  },
  {
   "cell_type": "code",
   "execution_count": 29,
   "id": "0c2645bf",
   "metadata": {},
   "outputs": [
    {
     "name": "stdout",
     "output_type": "stream",
     "text": [
      "self.num1:  3\n",
      "self.num2:  5\n",
      "\n",
      "8\n",
      "\n",
      "-2\n",
      "\n",
      "15\n",
      "\n",
      "0.6\n"
     ]
    }
   ],
   "source": [
    "# 인스턴스 할당\n",
    "sam = FourCal()\n",
    "\n",
    "# 입력값 확인\n",
    "sam.setdata(3,5)\n",
    "print()\n",
    "\n",
    "# setdata에 데이터가 입력되지 않으면 수행되지 않음\n",
    "# 덧셈 확인\n",
    "print(sam.add())\n",
    "print()\n",
    "\n",
    "# 뺄셈 확인\n",
    "print(sam.minus())\n",
    "print()\n",
    "\n",
    "# 곱셈 확인\n",
    "print(sam.mul())\n",
    "print()\n",
    "\n",
    "# 나눗셈 확인\n",
    "print(sam.div())"
   ]
  },
  {
   "cell_type": "markdown",
   "id": "efba41d9",
   "metadata": {},
   "source": [
    "------\n",
    "\n",
    "# 생성자\n",
    "- 클래스를 실행해서 인스턴스를 만들 때 자동으로 실행되고 초기값을 받도록 해주는 메소드\n",
    "- 생성자(constructor)는 객체(인스턴스)가 생성되는 경우 자동으로 호출되는 메소드(주로 초기값 받을 때 사용)\n",
    "- 클래스 내에서 메소드명으로 **\\_\\_init\\_\\_** 를 사용하면 생성자가 된다"
   ]
  },
  {
   "cell_type": "markdown",
   "id": "5afcfe3a",
   "metadata": {},
   "source": [
    "- 생성자를 이용해 초기값을 입력받는 FourCal2"
   ]
  },
  {
   "cell_type": "code",
   "execution_count": 167,
   "id": "8a305b54",
   "metadata": {},
   "outputs": [],
   "source": [
    "class FourCal2():\n",
    "    \n",
    "    def __init__(self, num1, num2):\n",
    "        self.num1 = num1\n",
    "        self.num2 = num2\n",
    "    \n",
    "    def add(self):\n",
    "        result = self.num1 + self.num2\n",
    "        return result\n",
    "\n",
    "    def sub(self):\n",
    "        result = self.num1 - self.num2\n",
    "        return result\n",
    "\n",
    "    def mul(self):\n",
    "        result = self.num1 * self.num2\n",
    "        return result\n",
    "\n",
    "    def div(self):\n",
    "        result = self.num1 / self.num2\n",
    "        return result\n",
    "    "
   ]
  },
  {
   "cell_type": "code",
   "execution_count": 170,
   "id": "717b9fca",
   "metadata": {},
   "outputs": [],
   "source": [
    "gildong = FourCal2(10,5)"
   ]
  },
  {
   "cell_type": "code",
   "execution_count": 173,
   "id": "b9911a18",
   "metadata": {},
   "outputs": [
    {
     "name": "stdout",
     "output_type": "stream",
     "text": [
      "15\n",
      "\n",
      "5\n",
      "\n",
      "50\n",
      "\n",
      "2.0\n"
     ]
    }
   ],
   "source": [
    "# 덧셈 확인\n",
    "print(gildong.add())\n",
    "print()\n",
    "\n",
    "# 뺄셈 확인\n",
    "print(gildong.sub())\n",
    "print()\n",
    "\n",
    "# 곱셈 확인\n",
    "print(gildong.mul())\n",
    "print()\n",
    "\n",
    "# 나눗셈 확인\n",
    "print(gildong.div())"
   ]
  },
  {
   "cell_type": "code",
   "execution_count": 31,
   "id": "cd43c27f",
   "metadata": {},
   "outputs": [],
   "source": [
    "class FourCal3():\n",
    "    \n",
    "    def __init__(self, num1, num2):\n",
    "        self.num1 = 0\n",
    "        self.num2 = 0\n",
    "    \n",
    "    def add(self):\n",
    "        result = self.num1 + self.num2\n",
    "        return result\n",
    "\n",
    "    def sub(self):\n",
    "        result = self.num1 - self.num2\n",
    "        return result\n",
    "\n",
    "    def mul(self):\n",
    "        result = self.num1 * self.num2\n",
    "        return result\n",
    "\n",
    "    def div(self):\n",
    "        result = self.num1 / self.num2\n",
    "        return result"
   ]
  },
  {
   "cell_type": "code",
   "execution_count": 32,
   "id": "ceb8baa9",
   "metadata": {},
   "outputs": [],
   "source": [
    "sally = FourCal3(4,6)"
   ]
  },
  {
   "cell_type": "code",
   "execution_count": 33,
   "id": "658596d5",
   "metadata": {},
   "outputs": [
    {
     "name": "stdout",
     "output_type": "stream",
     "text": [
      "0\n",
      "\n"
     ]
    },
    {
     "ename": "ZeroDivisionError",
     "evalue": "division by zero",
     "output_type": "error",
     "traceback": [
      "\u001b[1;31m---------------------------------------------------------------------------\u001b[0m",
      "\u001b[1;31mZeroDivisionError\u001b[0m                         Traceback (most recent call last)",
      "Cell \u001b[1;32mIn[33], line 9\u001b[0m\n\u001b[0;32m      6\u001b[0m \u001b[38;5;28mprint\u001b[39m()\n\u001b[0;32m      8\u001b[0m \u001b[38;5;66;03m# 0이 들어가서 나눠지지 않음\u001b[39;00m\n\u001b[1;32m----> 9\u001b[0m \u001b[43msally\u001b[49m\u001b[38;5;241;43m.\u001b[39;49m\u001b[43mdiv\u001b[49m\u001b[43m(\u001b[49m\u001b[43m)\u001b[49m\n",
      "Cell \u001b[1;32mIn[31], line 20\u001b[0m, in \u001b[0;36mFourCal3.div\u001b[1;34m(self)\u001b[0m\n\u001b[0;32m     19\u001b[0m \u001b[38;5;28;01mdef\u001b[39;00m\u001b[38;5;250m \u001b[39m\u001b[38;5;21mdiv\u001b[39m(\u001b[38;5;28mself\u001b[39m):\n\u001b[1;32m---> 20\u001b[0m     result \u001b[38;5;241m=\u001b[39m \u001b[38;5;28;43mself\u001b[39;49m\u001b[38;5;241;43m.\u001b[39;49m\u001b[43mnum1\u001b[49m\u001b[43m \u001b[49m\u001b[38;5;241;43m/\u001b[39;49m\u001b[43m \u001b[49m\u001b[38;5;28;43mself\u001b[39;49m\u001b[38;5;241;43m.\u001b[39;49m\u001b[43mnum2\u001b[49m\n\u001b[0;32m     21\u001b[0m     \u001b[38;5;28;01mreturn\u001b[39;00m result\n",
      "\u001b[1;31mZeroDivisionError\u001b[0m: division by zero"
     ]
    }
   ],
   "source": [
    "# 결과 확인\n",
    "sally = FourCal3(4,6)\n",
    "\n",
    "# 더하기 등의 연산은 수행 = 0\n",
    "print(sally.add())\n",
    "print()\n",
    "\n",
    "# 0이 들어가서 나눠지지 않음\n",
    "sally.div()"
   ]
  },
  {
   "cell_type": "code",
   "execution_count": 200,
   "id": "84361d82",
   "metadata": {},
   "outputs": [
    {
     "data": {
      "text/plain": [
       "0"
      ]
     },
     "execution_count": 200,
     "metadata": {},
     "output_type": "execute_result"
    }
   ],
   "source": [
    "# 0이 들어가서 나눠지지 않음\n",
    "# sally.div()\n",
    "sally.add()"
   ]
  },
  {
   "cell_type": "markdown",
   "id": "73921d07",
   "metadata": {},
   "source": [
    "# 클래스의 상속\n",
    "- 어떤 클래스를 만드는 경우 다른 클래스의 기능을 물려받는 것\n",
    "- 기존의 클래스에 기능을 추가하는 경우\n",
    "- A 클래스를 상속받아 B 클래스를 생성하는 경우 B 클래스는 A클래스의 모든 기능 사용 가능"
   ]
  },
  {
   "cell_type": "markdown",
   "id": "eeda86d7",
   "metadata": {},
   "source": [
    "- FourCal2을 상속받아 제곱 기능을 추가한 MoreFourCal 생성"
   ]
  },
  {
   "cell_type": "code",
   "execution_count": 208,
   "id": "51071d0f",
   "metadata": {},
   "outputs": [],
   "source": [
    "# FourCal2를 상속받아 모든 기능 사용 가능\n",
    "# FourCal2 = 부모 클래스\n",
    "# MorefourCal = 자식 클래스\n",
    "\n",
    "class MorefourCal(FourCal2):\n",
    "    def pow(self):\n",
    "        result = self.num1 ** self.num2\n",
    "        return result"
   ]
  },
  {
   "cell_type": "code",
   "execution_count": 206,
   "id": "3304940b",
   "metadata": {},
   "outputs": [],
   "source": [
    "dul = MorefourCal(2,3)"
   ]
  },
  {
   "cell_type": "code",
   "execution_count": 207,
   "id": "7b54b801",
   "metadata": {},
   "outputs": [
    {
     "data": {
      "text/plain": [
       "8"
      ]
     },
     "execution_count": 207,
     "metadata": {},
     "output_type": "execute_result"
    }
   ],
   "source": [
    "dul.pow()"
   ]
  },
  {
   "cell_type": "markdown",
   "id": "92f1e445",
   "metadata": {},
   "source": [
    "# 메소드 오버라이딩\n",
    "- 부모 클래스에서 상속한 메서드를 자식 클래스에서 동일한 이름으로 재정의\n"
   ]
  },
  {
   "cell_type": "code",
   "execution_count": 226,
   "id": "e411c6ff",
   "metadata": {},
   "outputs": [],
   "source": [
    "kim = FourCal2(4,0)"
   ]
  },
  {
   "cell_type": "code",
   "execution_count": 225,
   "id": "19bdfb43",
   "metadata": {},
   "outputs": [
    {
     "name": "stdout",
     "output_type": "stream",
     "text": [
      "4\n",
      "4\n",
      "0\n"
     ]
    }
   ],
   "source": [
    "print(kim.add())\n",
    "print(kim.sub())\n",
    "print(kim.mul())\n",
    "# 에러 발생 -> 0으로 나눗셈은 진행되지 않음\n",
    "# print(kim.div())"
   ]
  },
  {
   "cell_type": "markdown",
   "id": "3d5f7901",
   "metadata": {},
   "source": [
    "- FourCal2는 num2에 0이 입력될 경우 div 메서드 실행 시 0으로 나누게 되기 때문에 에러 발생\n",
    "- SafeFourCal를 만들고 FourCal2 상속받은 후 div 함수를 제정의하여 에러 X"
   ]
  },
  {
   "cell_type": "code",
   "execution_count": 220,
   "id": "900a0af0",
   "metadata": {},
   "outputs": [],
   "source": [
    "class SafeFourCal(FourCal2):\n",
    "    def div(self):\n",
    "        if self.num2 == 0:\n",
    "            return 0\n",
    "        else:\n",
    "            return self.num1 / self.num2"
   ]
  },
  {
   "cell_type": "code",
   "execution_count": 223,
   "id": "6c313063",
   "metadata": {},
   "outputs": [],
   "source": [
    "kim = SafeFourCal(4,0)"
   ]
  },
  {
   "cell_type": "code",
   "execution_count": 224,
   "id": "4c4c3c14",
   "metadata": {},
   "outputs": [
    {
     "name": "stdout",
     "output_type": "stream",
     "text": [
      "4\n",
      "4\n",
      "0\n",
      "0\n"
     ]
    }
   ],
   "source": [
    "print(kim.add())\n",
    "print(kim.sub())\n",
    "print(kim.mul())\n",
    "# 에러 발생 -> 0으로 나눗셈은 진행되지 않음\n",
    "# SafeFourCal 적용 후 문제 없이 수행됨\n",
    "print(kim.div())"
   ]
  },
  {
   "cell_type": "markdown",
   "id": "654d9188",
   "metadata": {},
   "source": [
    "# 메서드 오버로딩\n",
    "- 한 클래스 안에서 동일 메서드의 기능을 다르게 재정의\n",
    "- 동일한 이름의 메서드가 가능이 약간 변경된 채로 여러 개 존재\n",
    "- def add(num1, num2)\n",
    "- def add(num1, num2, num3)\n",
    "- def add(num1, num2, num3, num4)"
   ]
  },
  {
   "cell_type": "code",
   "execution_count": 227,
   "id": "a47445f6",
   "metadata": {},
   "outputs": [],
   "source": [
    "class OverloadingEx():\n",
    "    def add(self, x, y):\n",
    "        return x + y\n",
    "    def add(self, x, y, z):\n",
    "        return x + y + z\n",
    "    def add(self, x, y, z, a):\n",
    "        return x + y + z + a"
   ]
  },
  {
   "cell_type": "code",
   "execution_count": 228,
   "id": "1a641806",
   "metadata": {},
   "outputs": [],
   "source": [
    "sam = OverloadingEx()"
   ]
  },
  {
   "cell_type": "code",
   "execution_count": 232,
   "id": "f8e99ac8",
   "metadata": {},
   "outputs": [
    {
     "data": {
      "text/plain": [
       "100"
      ]
     },
     "execution_count": 232,
     "metadata": {},
     "output_type": "execute_result"
    }
   ],
   "source": [
    "# 파이썬의 경우 가장 나중에 정의한 add 수행됨\n",
    "sam.add(10,20,30,40)"
   ]
  },
  {
   "cell_type": "markdown",
   "id": "41e070bf",
   "metadata": {},
   "source": [
    "multipledispatch 패키지를 통한 오버로딩"
   ]
  },
  {
   "cell_type": "code",
   "execution_count": 234,
   "id": "3cabfce2",
   "metadata": {},
   "outputs": [],
   "source": [
    "# !pip install multipledispatch"
   ]
  },
  {
   "cell_type": "code",
   "execution_count": 238,
   "id": "f475328d",
   "metadata": {},
   "outputs": [],
   "source": [
    "from multipledispatch import dispatch\n",
    "\n",
    "class OverloadingEx2():\n",
    "    @dispatch(int, int)\n",
    "    def add(self, x, y):\n",
    "        return x + y\n",
    "    @dispatch(int, int, int)\n",
    "    def add(self, x, y, z):\n",
    "        return x + y + z\n",
    "    @dispatch(int, int, int, int)\n",
    "    def add(self, x, y, z, a):\n",
    "        return x + y + z - a\n",
    "    @dispatch(float, float, float, float)\n",
    "    def add(self, x, y, z, a):\n",
    "        return (x + y) - (z * a)\n"
   ]
  },
  {
   "cell_type": "code",
   "execution_count": 239,
   "id": "15304733",
   "metadata": {},
   "outputs": [],
   "source": [
    "sam = OverloadingEx2()"
   ]
  },
  {
   "cell_type": "code",
   "execution_count": 246,
   "id": "b1d52348",
   "metadata": {},
   "outputs": [
    {
     "name": "stdout",
     "output_type": "stream",
     "text": [
      "3\n",
      "\n",
      "6\n",
      "\n",
      "2\n",
      "\n",
      "5.279999999999999\n",
      "\n"
     ]
    }
   ],
   "source": [
    "print(sam.add(1,2))\n",
    "print()\n",
    "\n",
    "print(sam.add(1,2,3))\n",
    "print()\n",
    "\n",
    "print(sam.add(1,2,3,4))\n",
    "print()\n",
    "\n",
    "print(sam.add(3.3, 4.4, 1.1, 2.2))\n",
    "print()"
   ]
  },
  {
   "cell_type": "markdown",
   "id": "8ccb0f67",
   "metadata": {},
   "source": [
    "# 클래스 속성과 인스턴스 속성\n",
    "- 클래스 속성 : 클래스 전체에서 공유하는 속성(변수), 모든 인스턴스에서 공유\n",
    "- 인스턴스 속성 : 인스턴스에서만 사용하는 속성, 인스턴스 간 공유 불가"
   ]
  },
  {
   "cell_type": "code",
   "execution_count": 35,
   "id": "f8b5cdf8",
   "metadata": {},
   "outputs": [],
   "source": [
    "class Family():\n",
    "    password = '0000' # 클래스 속성"
   ]
  },
  {
   "cell_type": "code",
   "execution_count": 36,
   "id": "5f3e5f18",
   "metadata": {},
   "outputs": [],
   "source": [
    "kim = Family()"
   ]
  },
  {
   "cell_type": "code",
   "execution_count": 37,
   "id": "5bd2e503",
   "metadata": {},
   "outputs": [
    {
     "data": {
      "text/plain": [
       "'0000'"
      ]
     },
     "execution_count": 37,
     "metadata": {},
     "output_type": "execute_result"
    }
   ],
   "source": [
    "kim.password"
   ]
  },
  {
   "cell_type": "code",
   "execution_count": 38,
   "id": "5497dcaf",
   "metadata": {},
   "outputs": [],
   "source": [
    "park = Family()\n",
    "park.password = '1234' # 인스턴스 속성"
   ]
  },
  {
   "cell_type": "code",
   "execution_count": 39,
   "id": "7947edd4",
   "metadata": {},
   "outputs": [
    {
     "data": {
      "text/plain": [
       "'1234'"
      ]
     },
     "execution_count": 39,
     "metadata": {},
     "output_type": "execute_result"
    }
   ],
   "source": [
    "park.password"
   ]
  },
  {
   "cell_type": "code",
   "execution_count": 40,
   "id": "6e858bdc",
   "metadata": {},
   "outputs": [
    {
     "name": "stdout",
     "output_type": "stream",
     "text": [
      "1234\n"
     ]
    },
    {
     "data": {
      "text/plain": [
       "'0000'"
      ]
     },
     "execution_count": 40,
     "metadata": {},
     "output_type": "execute_result"
    }
   ],
   "source": [
    "park = Family()\n",
    "park.password = '1234' # 인스턴스 속성\n",
    "print(park.password)\n",
    "\n",
    "# 현재 할당된 1234는 다시 클래스를 불러오면 0000으로 변경된 password가 나타남\n",
    "park = Family()\n",
    "park.password"
   ]
  },
  {
   "cell_type": "code",
   "execution_count": 266,
   "id": "67732533",
   "metadata": {},
   "outputs": [],
   "source": [
    "sally = Family()\n",
    "sally.password = '6789'"
   ]
  },
  {
   "cell_type": "code",
   "execution_count": 267,
   "id": "08d3e436",
   "metadata": {},
   "outputs": [
    {
     "data": {
      "text/plain": [
       "'6789'"
      ]
     },
     "execution_count": 267,
     "metadata": {},
     "output_type": "execute_result"
    }
   ],
   "source": [
    "sally.password"
   ]
  },
  {
   "cell_type": "markdown",
   "id": "79385643",
   "metadata": {},
   "source": [
    "# 비공개 클래스 속성\n",
    "- \\_\\_변수명 : 비공개 속성\n",
    "- 보안이 필요해서 남들에게 정보를 노출하고 싶지 않은 경우 사용"
   ]
  },
  {
   "cell_type": "code",
   "execution_count": 42,
   "id": "6193e9f5",
   "metadata": {},
   "outputs": [],
   "source": [
    "class Plnfo():\n",
    "    lastname = '홍'\n",
    "    __first_name = '길동'\n",
    "    __password = '9513'"
   ]
  },
  {
   "cell_type": "code",
   "execution_count": 43,
   "id": "9d6c8360",
   "metadata": {},
   "outputs": [
    {
     "data": {
      "text/plain": [
       "'홍'"
      ]
     },
     "execution_count": 43,
     "metadata": {},
     "output_type": "execute_result"
    }
   ],
   "source": [
    "kim = Plnfo()\n",
    "kim.lastname"
   ]
  },
  {
   "cell_type": "code",
   "execution_count": 45,
   "id": "e3ac60bc",
   "metadata": {},
   "outputs": [
    {
     "name": "stdout",
     "output_type": "stream",
     "text": [
      "홍\n"
     ]
    },
    {
     "ename": "AttributeError",
     "evalue": "'Plnfo' object has no attribute '__password'",
     "output_type": "error",
     "traceback": [
      "\u001b[1;31m---------------------------------------------------------------------------\u001b[0m",
      "\u001b[1;31mAttributeError\u001b[0m                            Traceback (most recent call last)",
      "Cell \u001b[1;32mIn[45], line 11\u001b[0m\n\u001b[0;32m      8\u001b[0m \u001b[38;5;28mprint\u001b[39m(kim\u001b[38;5;241m.\u001b[39mlastname)\n\u001b[0;32m     10\u001b[0m \u001b[38;5;66;03m# 비공개 클래스 속성을 확인하는 경우 에러 발생\u001b[39;00m\n\u001b[1;32m---> 11\u001b[0m \u001b[43mkim\u001b[49m\u001b[38;5;241;43m.\u001b[39;49m\u001b[43m__password\u001b[49m\n",
      "\u001b[1;31mAttributeError\u001b[0m: 'Plnfo' object has no attribute '__password'"
     ]
    }
   ],
   "source": [
    "class Plnfo():\n",
    "    lastname = '홍'\n",
    "    __first_name = '길동'\n",
    "    __password = '9513'\n",
    "\n",
    "# 결과 확인\n",
    "kim = Plnfo()\n",
    "print(kim.lastname)\n",
    "\n",
    "# 비공개 클래스 속성을 확인하는 경우 에러 발생\n",
    "kim.__password"
   ]
  },
  {
   "cell_type": "markdown",
   "id": "b6e97f11",
   "metadata": {},
   "source": [
    "- 비공개 클래스 속성을 직접 출력하려고 하면 에러\n",
    "- 클래스 내에서 메서드를 만들어서 출력하면 출력 가능"
   ]
  },
  {
   "cell_type": "code",
   "execution_count": 46,
   "id": "fd8d6f54",
   "metadata": {},
   "outputs": [],
   "source": [
    "class Plnfo():\n",
    "    lastname = '홍'\n",
    "    __first_name = '길동'\n",
    "    __password = '9513'\n",
    "    \n",
    "    def print_name(self):\n",
    "        print(self.__first_name)\n",
    "        \n",
    "    def print_password(self):\n",
    "        print(self.__password)"
   ]
  },
  {
   "cell_type": "code",
   "execution_count": 283,
   "id": "af16ad73",
   "metadata": {},
   "outputs": [],
   "source": [
    "sam = Plnfo()"
   ]
  },
  {
   "cell_type": "code",
   "execution_count": 284,
   "id": "3b612e24",
   "metadata": {},
   "outputs": [
    {
     "name": "stdout",
     "output_type": "stream",
     "text": [
      "길동\n"
     ]
    }
   ],
   "source": [
    "sam.print_name()"
   ]
  },
  {
   "cell_type": "code",
   "execution_count": 285,
   "id": "89476d2b",
   "metadata": {},
   "outputs": [
    {
     "name": "stdout",
     "output_type": "stream",
     "text": [
      "9513\n"
     ]
    }
   ],
   "source": [
    "sam.print_password()"
   ]
  },
  {
   "cell_type": "markdown",
   "id": "8694f6df",
   "metadata": {},
   "source": [
    "# 정적메서드 (static method)\n",
    "- 인스턴스를 만들지 않고 클래스의 메서드를 바로 사용할 수 있는 메서드\n",
    "- 메서드 위에 @staticmethod라는 데코레이터 붙여서 생성\n",
    "- static method는 self를 받지 않으므로 인스턴스 속성, 인스턴스 메서드가 필요하지 않을 때 사용"
   ]
  },
  {
   "cell_type": "code",
   "execution_count": 48,
   "id": "4249b4a1",
   "metadata": {},
   "outputs": [],
   "source": [
    "class Cal():\n",
    "    \n",
    "    @staticmethod\n",
    "    def add(a, b):\n",
    "        print(a+b)\n",
    "    \n",
    "    @staticmethod\n",
    "    def sub(a,b):\n",
    "        print(a-b)"
   ]
  },
  {
   "cell_type": "code",
   "execution_count": 287,
   "id": "e49091d1",
   "metadata": {},
   "outputs": [],
   "source": [
    "sam = Cal()"
   ]
  },
  {
   "cell_type": "code",
   "execution_count": 289,
   "id": "8dcaaf31",
   "metadata": {},
   "outputs": [
    {
     "name": "stdout",
     "output_type": "stream",
     "text": [
      "9\n"
     ]
    }
   ],
   "source": [
    "sam.add(4,5)"
   ]
  },
  {
   "cell_type": "code",
   "execution_count": 290,
   "id": "6828f1ec",
   "metadata": {},
   "outputs": [
    {
     "name": "stdout",
     "output_type": "stream",
     "text": [
      "13\n"
     ]
    }
   ],
   "source": [
    "sally = Cal()\n",
    "sally.add(10,3)"
   ]
  },
  {
   "cell_type": "code",
   "execution_count": 292,
   "id": "3046327c",
   "metadata": {},
   "outputs": [
    {
     "name": "stdout",
     "output_type": "stream",
     "text": [
      "15\n"
     ]
    }
   ],
   "source": [
    "# self 없이 바로 사용 가능\n",
    "Cal.add(10,5)"
   ]
  },
  {
   "cell_type": "markdown",
   "id": "66d18c72",
   "metadata": {},
   "source": [
    "# 클래스 메서드 (class method)\n",
    "- 메서드 위에 @classmethod를 붙여서 생성\n",
    "- 클래스 메서드의 첫 번째 매개변수에는 cls 지정해야 함\n",
    "- 클래스 메서드도 staticmethod처럼 인스턴스 생성 없이 호출이 가능하다\n",
    "- 클래스 메서드는 메서드 안에서 클래스 속성, 클래스 메서드에 접근해야 할 때 사용"
   ]
  },
  {
   "cell_type": "code",
   "execution_count": 51,
   "id": "e30bd932",
   "metadata": {},
   "outputs": [],
   "source": [
    "class Factory():\n",
    "    n_coffee_machine = 0 # 클래스 속성\n",
    "    \n",
    "    def __init__(self):\n",
    "        # 인스턴스가 생성될 때 클래스 속성에 1을 더함\n",
    "        self.n_coffee_machine += 1\n",
    "    @classmethod\n",
    "    def print_n_coffee_machine(cls):\n",
    "        print(f\"{cls.n_coffee_machine}개가 제조되었습니다.\")"
   ]
  },
  {
   "cell_type": "code",
   "execution_count": 55,
   "id": "d221265a",
   "metadata": {},
   "outputs": [
    {
     "name": "stdout",
     "output_type": "stream",
     "text": [
      "0개가 제조되었습니다.\n",
      "2개가 제조되었습니다.\n"
     ]
    }
   ],
   "source": [
    "class Factory():\n",
    "    n_coffee_machine = 0  # 클래스 속성\n",
    "    \n",
    "    def __init__(self):\n",
    "        # 클래스 속성에 직접 접근\n",
    "        Factory.n_coffee_machine += 1\n",
    "        \n",
    "    @classmethod\n",
    "    def print_n_coffee_machine(cls):\n",
    "        print(f\"{cls.n_coffee_machine}개가 제조되었습니다.\")\n",
    "\n",
    "# 결과 확인\n",
    "Factory.print_n_coffee_machine()  # print() 분리\n",
    "\n",
    "# 인스턴스 생성\n",
    "sam = Factory()\n",
    "sally = Factory()\n",
    "Factory.print_n_coffee_machine()"
   ]
  },
  {
   "cell_type": "code",
   "execution_count": 307,
   "id": "92abd3b6",
   "metadata": {},
   "outputs": [
    {
     "name": "stdout",
     "output_type": "stream",
     "text": [
      "0개가 제조되었습니다.\n"
     ]
    }
   ],
   "source": [
    "Factory.print_n_coffee_machine()"
   ]
  },
  {
   "cell_type": "code",
   "execution_count": 305,
   "id": "9fa96be9",
   "metadata": {},
   "outputs": [],
   "source": [
    "sam = Factory()"
   ]
  },
  {
   "cell_type": "code",
   "execution_count": 306,
   "id": "0e224add",
   "metadata": {},
   "outputs": [],
   "source": [
    "sally = Factory()"
   ]
  },
  {
   "cell_type": "markdown",
   "id": "b62b8ee0",
   "metadata": {},
   "source": [
    "# 추상 클래스 abc(abstract base class)\n",
    "- abs 모듈 필요\n",
    "- 추상클래스는 추상클래스를 상속받아 클래스를 만들 때 반드시 만들어야 하는 메서드를 지정해주는 클래스\n",
    "- 인터페이스\n",
    "- 규칙을 부여하여 그 규칙에 따라 클래스를 만들도록 강제함\n",
    "- 추상 클래스를 상속받은 클래스는 반드시 추상클래스에서 정의한 메소드를 overriding으로 구현\n",
    "- 이력서 양식에 맞추어 내용적기"
   ]
  },
  {
   "cell_type": "code",
   "execution_count": 58,
   "id": "e08a5407",
   "metadata": {},
   "outputs": [],
   "source": [
    "from abc import *"
   ]
  },
  {
   "cell_type": "code",
   "execution_count": 59,
   "id": "63b12707",
   "metadata": {},
   "outputs": [],
   "source": [
    "class CoffeeBase(metaclass=ABCMeta):\n",
    "    @abstractmethod\n",
    "    def bean_input(self):\n",
    "        pass\n",
    "    \n",
    "    @abstractmethod\n",
    "    def grind(self):\n",
    "        pass\n",
    "    "
   ]
  },
  {
   "cell_type": "code",
   "execution_count": 60,
   "id": "0e7bb6c4",
   "metadata": {},
   "outputs": [
    {
     "ename": "TypeError",
     "evalue": "Can't instantiate abstract class CoffeeBase with abstract methods bean_input, grind",
     "output_type": "error",
     "traceback": [
      "\u001b[1;31m---------------------------------------------------------------------------\u001b[0m",
      "\u001b[1;31mTypeError\u001b[0m                                 Traceback (most recent call last)",
      "Cell \u001b[1;32mIn[60], line 2\u001b[0m\n\u001b[0;32m      1\u001b[0m \u001b[38;5;66;03m# 추상 클래스는 인스턴스 생성 불가\u001b[39;00m\n\u001b[1;32m----> 2\u001b[0m sam \u001b[38;5;241m=\u001b[39m \u001b[43mCoffeeBase\u001b[49m\u001b[43m(\u001b[49m\u001b[43m)\u001b[49m\n",
      "\u001b[1;31mTypeError\u001b[0m: Can't instantiate abstract class CoffeeBase with abstract methods bean_input, grind"
     ]
    }
   ],
   "source": [
    "# 추상 클래스는 인스턴스 생성 불가\n",
    "sam = CoffeeBase()"
   ]
  },
  {
   "cell_type": "code",
   "execution_count": 61,
   "id": "ca429c3a",
   "metadata": {},
   "outputs": [],
   "source": [
    "# grind가 없음\n",
    "class CoffeeMachine(CoffeeBase):\n",
    "    def bean_input(self):\n",
    "        print('커피 원두 넣기')"
   ]
  },
  {
   "cell_type": "code",
   "execution_count": 62,
   "id": "45b81733",
   "metadata": {},
   "outputs": [
    {
     "ename": "TypeError",
     "evalue": "Can't instantiate abstract class CoffeeMachine with abstract method grind",
     "output_type": "error",
     "traceback": [
      "\u001b[1;31m---------------------------------------------------------------------------\u001b[0m",
      "\u001b[1;31mTypeError\u001b[0m                                 Traceback (most recent call last)",
      "Cell \u001b[1;32mIn[62], line 1\u001b[0m\n\u001b[1;32m----> 1\u001b[0m sam \u001b[38;5;241m=\u001b[39m \u001b[43mCoffeeMachine\u001b[49m\u001b[43m(\u001b[49m\u001b[43m)\u001b[49m\n",
      "\u001b[1;31mTypeError\u001b[0m: Can't instantiate abstract class CoffeeMachine with abstract method grind"
     ]
    }
   ],
   "source": [
    "sam = CoffeeMachine()"
   ]
  },
  {
   "cell_type": "code",
   "execution_count": 63,
   "id": "e31e846e",
   "metadata": {},
   "outputs": [],
   "source": [
    "class CoffeeMachine2(CoffeeBase):\n",
    "    def bean_input(self):\n",
    "        print('커피 원두 넣기')\n",
    "        \n",
    "    def grind(self):\n",
    "        print('커피 원두 갈기')"
   ]
  },
  {
   "cell_type": "code",
   "execution_count": 64,
   "id": "02a646eb",
   "metadata": {},
   "outputs": [],
   "source": [
    "#  클래스에 대한 개념 이해\n",
    "sam = CoffeeMachine2()"
   ]
  },
  {
   "cell_type": "code",
   "execution_count": 65,
   "id": "f3ef4d4f",
   "metadata": {},
   "outputs": [
    {
     "name": "stdout",
     "output_type": "stream",
     "text": [
      "커피 원두 넣기\n"
     ]
    }
   ],
   "source": [
    "sam.bean_input()"
   ]
  },
  {
   "cell_type": "code",
   "execution_count": 66,
   "id": "db577875",
   "metadata": {},
   "outputs": [
    {
     "name": "stdout",
     "output_type": "stream",
     "text": [
      "커피 원두 갈기\n"
     ]
    }
   ],
   "source": [
    "sam.grind()"
   ]
  },
  {
   "cell_type": "code",
   "execution_count": null,
   "id": "e64483f8",
   "metadata": {},
   "outputs": [],
   "source": []
  },
  {
   "cell_type": "code",
   "execution_count": null,
   "id": "10190d1a",
   "metadata": {},
   "outputs": [],
   "source": []
  }
 ],
 "metadata": {
  "kernelspec": {
   "display_name": "Python 3 (ipykernel)",
   "language": "python",
   "name": "python3"
  },
  "language_info": {
   "codemirror_mode": {
    "name": "ipython",
    "version": 3
   },
   "file_extension": ".py",
   "mimetype": "text/x-python",
   "name": "python",
   "nbconvert_exporter": "python",
   "pygments_lexer": "ipython3",
   "version": "3.9.21"
  }
 },
 "nbformat": 4,
 "nbformat_minor": 5
}
