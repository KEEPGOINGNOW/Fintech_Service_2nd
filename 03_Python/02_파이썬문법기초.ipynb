{
 "cells": [
  {
   "cell_type": "markdown",
   "id": "700a6ef6",
   "metadata": {},
   "source": [
    "# 파이썬 기초 문법\n",
    "- 파이썬 주석은 문장 앞에 #을 붙여서 만든다\n",
    "- 파이썬은 들여쓰기를 사용해서 코드를 구분해 작성\n",
    "- 들여쓰기는 4칸이 기본, google colab은 2칸으로 설정\n",
    "- 변수를 만들때 스네이크 표기법을 사용\n",
    "    - 예) user_name\n",
    "- 클래스 만드는 경우 카멜 표기법을 사용 \n",
    "    - 예) UserName, userName(js)\n"
   ]
  },
  {
   "cell_type": "markdown",
   "id": "78e170fa",
   "metadata": {},
   "source": [
    "# print 문\n",
    "- print함수 안에 있는 내용을 출려해주는 함수\n",
    "- print('출력할 내용') : 출력할 내용이 문자, 문자열인 경우 반드시 따옴표 필요\n",
    "- print(출력할 내용) : 출력할 내용이 숫자, 변수인 경우 따옴표 X\n"
   ]
  },
  {
   "cell_type": "code",
   "execution_count": 3,
   "id": "5d3276d6",
   "metadata": {},
   "outputs": [
    {
     "name": "stdout",
     "output_type": "stream",
     "text": [
      "Hello World!\n",
      "3.14\n",
      "Hello\n"
     ]
    }
   ],
   "source": [
    "print('Hello World!')\n",
    "print(3.14)\n",
    "\n",
    "a='Hello'\n",
    "print(a)\n"
   ]
  },
  {
   "cell_type": "code",
   "execution_count": 5,
   "id": "35ac772e",
   "metadata": {},
   "outputs": [
    {
     "name": "stdout",
     "output_type": "stream",
     "text": [
      "이것은 '파이썬'이다.\n",
      "이것은 \"파이썬\"이다.\n"
     ]
    }
   ],
   "source": [
    "# 따옴표까지 같이 출력하고 싶은 경우 섞어서 사용\n",
    "print(\"이것은 '파이썬'이다.\")\n",
    "print('이것은 \"파이썬\"이다.')\n"
   ]
  },
  {
   "cell_type": "markdown",
   "id": "296c4fab",
   "metadata": {},
   "source": [
    "# print문의 옵션\n",
    "- sep : 구분자 - print문 안에 여러 개의 자료를 출력하는 경우 자료 구분 문자\n",
    "- 기본값은 \" \" - 공백\n"
   ]
  },
  {
   "cell_type": "code",
   "execution_count": 1,
   "id": "fb729756",
   "metadata": {},
   "outputs": [
    {
     "name": "stdout",
     "output_type": "stream",
     "text": [
      "이것은 파이썬 입니다.\n",
      "이것은_파이썬_입니다.\n",
      "헐크vs 아이언맨vs 스파이더맨\n"
     ]
    }
   ],
   "source": [
    "#공백으로 표시됨\n",
    "print(\"이것은\", '파이썬', \"입니다.\")\n",
    "\n",
    "\n",
    "#공백 자리에 sep에서 정한 값이 들어가게됨\n",
    "print(\"이것은\", '파이썬', \"입니다.\", sep='_')\n",
    "print(\"헐크\", '아이언맨', \"스파이더맨\", sep='vs ')"
   ]
  },
  {
   "cell_type": "markdown",
   "id": "09281239",
   "metadata": {},
   "source": [
    "- end 옵션 - print가 끝나고 실행될 옵션\n",
    "- 기본값\n",
    "    - \" \"(공백)\n",
    "    - \\t\n",
    "    - \\r : carrige return\n",
    "    - \\n : new line 새줄\n"
   ]
  },
  {
   "cell_type": "code",
   "execution_count": 25,
   "id": "c31ad4ac",
   "metadata": {},
   "outputs": [
    {
     "name": "stdout",
     "output_type": "stream",
     "text": [
      "헐크vs 아이언맨vs 스파이더맨\n",
      "헐크vs 아이언맨vs 스파이더맨 헐크vs 아이언맨vs 스파이더맨\n",
      "--------------------------------------------------------------------------------\n",
      "헐크vs 아이언맨vs 스파이더맨\t헐크vs 아이언맨vs 스파이더맨\n",
      "--------------------------------------------------------------------------------\n",
      "헐크vs 아이언맨vs 스파이더맨\r",
      "헐크vs 아이언맨vs 스파이더맨\n",
      "--------------------------------------------------------------------------------\n",
      "헐크vs 아이언맨vs 스파이더맨\n",
      "헐크vs 아이언맨vs 스파이더맨\n"
     ]
    }
   ],
   "source": [
    "print(\"헐크\", '아이언맨', \"스파이더맨\", sep='vs ')\n",
    "\n",
    "# end=\" \" (공백)\n",
    "print(\"헐크\", '아이언맨', \"스파이더맨\", sep='vs ', end=\" \")\n",
    "print(\"헐크\", '아이언맨', \"스파이더맨\", sep='vs ')\n",
    "print('-'*80)\n",
    "\n",
    "# end=\"\\t\"(tab)\n",
    "print(\"헐크\", '아이언맨', \"스파이더맨\", sep='vs ', end=\"\\t\")\n",
    "print(\"헐크\", '아이언맨', \"스파이더맨\", sep='vs ')\n",
    "print('-'*80)\n",
    "\n",
    "# end=\"\\r\"(carrige return)\n",
    "print(\"헐크\", '아이언맨', \"스파이더맨\", sep='vs ', end=\"\\r\")\n",
    "print(\"헐크\", '아이언맨', \"스파이더맨\", sep='vs ')\n",
    "print('-'*80)\n",
    "\n",
    "# end=\"\\n\"(new line)\n",
    "print(\"헐크\", '아이언맨', \"스파이더맨\", sep='vs ', end=\"\\n\")\n",
    "print(\"헐크\", '아이언맨', \"스파이더맨\", sep='vs ')\n"
   ]
  },
  {
   "cell_type": "markdown",
   "id": "19b957c1",
   "metadata": {},
   "source": [
    "# 함수의 옵션 보기\n",
    "- 함수의 옵션은 괄호 안에 커서를 놓고 shift+tap으로 확인 가능"
   ]
  },
  {
   "cell_type": "code",
   "execution_count": 5,
   "id": "053d6ef7",
   "metadata": {},
   "outputs": [
    {
     "name": "stdout",
     "output_type": "stream",
     "text": [
      "\n"
     ]
    }
   ],
   "source": [
    "# shift + tap\n",
    "print()"
   ]
  },
  {
   "cell_type": "markdown",
   "id": "ddb432cc",
   "metadata": {},
   "source": [
    "# 변수\n",
    "- 자료를 담는 상자\n",
    "- 상자는 1개만 넣을 수 있음\n",
    "- 변수는 영문과 숫자를 조합하여 생성 가능\n",
    "- 변수명의 시작은 반드시 영문자로 지정\n",
    "- 변수명이 숫자나 '-' 등의 특수문자로 시작하면 오류 발생\n",
    "- 예약어(이미 파이썬에서 사용하고 있는 함수명, 문법용 단어)는 변수명으로 사용X\n",
    "    - for\n",
    "    - list\n",
    "    - if ...\n",
    "    - 예약어를 써도 파이썬에서는 변수 생성 가능(주의!!!)\n",
    "    - 예약어를 잘 기억하여 겹치지 않도록 노력"
   ]
  },
  {
   "cell_type": "code",
   "execution_count": 1,
   "id": "71551d22",
   "metadata": {},
   "outputs": [
    {
     "data": {
      "text/plain": [
       "2364602870064"
      ]
     },
     "execution_count": 1,
     "metadata": {},
     "output_type": "execute_result"
    }
   ],
   "source": [
    "a = 1\n",
    "id(a)\n"
   ]
  },
  {
   "cell_type": "code",
   "execution_count": 30,
   "id": "aadcfe6c",
   "metadata": {},
   "outputs": [
    {
     "ename": "TypeError",
     "evalue": "'int' object is not callable",
     "output_type": "error",
     "traceback": [
      "\u001b[1;31m---------------------------------------------------------------------------\u001b[0m",
      "\u001b[1;31mTypeError\u001b[0m                                 Traceback (most recent call last)",
      "Cell \u001b[1;32mIn[30], line 2\u001b[0m\n\u001b[0;32m      1\u001b[0m \u001b[38;5;66;03m# 예약어를 사용X\u001b[39;00m\n\u001b[1;32m----> 2\u001b[0m \u001b[38;5;28;43mid\u001b[39;49m\u001b[43m(\u001b[49m\u001b[38;5;28;43mid\u001b[39;49m\u001b[43m)\u001b[49m\n",
      "\u001b[1;31mTypeError\u001b[0m: 'int' object is not callable"
     ]
    }
   ],
   "source": [
    "# id = 3\n",
    "# print(id)\n",
    "\n",
    "# 예약어를 사용X\n",
    "#id(id)\n"
   ]
  },
  {
   "cell_type": "markdown",
   "id": "e013d740",
   "metadata": {},
   "source": [
    "- 변수명은 스네이크 표기법으로 생성\n",
    "- 변수명 = 자료\n",
    "- =는 같다라는 표시가 X, 등호 오른쪽의 자료를 왼쪽 변수에 할당 의미\n"
   ]
  },
  {
   "cell_type": "markdown",
   "id": "a7f6974b",
   "metadata": {},
   "source": [
    "# 변수에는 자료가 1개만 삽입 가능\n"
   ]
  },
  {
   "cell_type": "code",
   "execution_count": 3,
   "id": "8ab5eb75",
   "metadata": {},
   "outputs": [
    {
     "name": "stdout",
     "output_type": "stream",
     "text": [
      "1\n",
      "3\n",
      "문자열은 길이에 상관없이 삽입 가능\n"
     ]
    }
   ],
   "source": [
    "a = 1\n",
    "print(a)\n",
    "\n",
    "a = 3\n",
    "print(a)\n",
    "\n",
    "c = \"문자열은 길이에 상관없이 삽입 가능\"\n",
    "print(c)\n"
   ]
  },
  {
   "cell_type": "code",
   "execution_count": 11,
   "id": "66cc0e43",
   "metadata": {},
   "outputs": [
    {
     "name": "stdout",
     "output_type": "stream",
     "text": [
      "핀테크님\n",
      "3\n",
      "3 3\n",
      "24\n"
     ]
    }
   ],
   "source": [
    "# 변수명은 스네이크 표기법으로 생성\n",
    "user_name = \"핀테크님\"\n",
    "print(user_name)\n",
    "\n",
    "# 문자로 입력\n",
    "b = \"3\"\n",
    "print(b)\n",
    "\n",
    "# 숫자와 문자 구분 X\n",
    "print(a,b)\n",
    "\n",
    "# 스네이크 표기법( _ 사용 가능) \n",
    "b_ = 24\n",
    "print(b_)"
   ]
  },
  {
   "cell_type": "markdown",
   "id": "0fe512ef",
   "metadata": {},
   "source": [
    "# 변수를 여러 개 한 번에 생성"
   ]
  },
  {
   "cell_type": "code",
   "execution_count": 18,
   "id": "0f4dfd48",
   "metadata": {},
   "outputs": [
    {
     "name": "stdout",
     "output_type": "stream",
     "text": [
      "1 3\n"
     ]
    }
   ],
   "source": [
    "a = 1\n",
    "b = 3\n",
    "print(a,b)"
   ]
  },
  {
   "cell_type": "code",
   "execution_count": 19,
   "id": "ef6db2dd",
   "metadata": {},
   "outputs": [
    {
     "name": "stdout",
     "output_type": "stream",
     "text": [
      "1 3 오\n"
     ]
    }
   ],
   "source": [
    "a, b, c = 1,3,'오'\n",
    "print(a,b,c)"
   ]
  },
  {
   "cell_type": "markdown",
   "id": "0bd402e0",
   "metadata": {},
   "source": [
    "# del 변수명 : 변수 삭제"
   ]
  },
  {
   "cell_type": "code",
   "execution_count": 12,
   "id": "5010f477",
   "metadata": {},
   "outputs": [
    {
     "name": "stdout",
     "output_type": "stream",
     "text": [
      "24\n"
     ]
    }
   ],
   "source": [
    "print(b_)\n",
    "del b_"
   ]
  },
  {
   "cell_type": "code",
   "execution_count": 13,
   "id": "95963b4c",
   "metadata": {},
   "outputs": [
    {
     "ename": "NameError",
     "evalue": "name 'b_' is not defined",
     "output_type": "error",
     "traceback": [
      "\u001b[1;31m---------------------------------------------------------------------------\u001b[0m",
      "\u001b[1;31mNameError\u001b[0m                                 Traceback (most recent call last)",
      "Cell \u001b[1;32mIn[13], line 2\u001b[0m\n\u001b[0;32m      1\u001b[0m \u001b[38;5;66;03m# 삭제되어 정의되지 않는다고 나옴\u001b[39;00m\n\u001b[1;32m----> 2\u001b[0m \u001b[43mb_\u001b[49m\n",
      "\u001b[1;31mNameError\u001b[0m: name 'b_' is not defined"
     ]
    }
   ],
   "source": [
    "# 삭제되어 정의되지 않는다고 나옴\n",
    "b_"
   ]
  },
  {
   "cell_type": "code",
   "execution_count": null,
   "id": "99af76c5",
   "metadata": {},
   "outputs": [],
   "source": []
  },
  {
   "cell_type": "code",
   "execution_count": null,
   "id": "065d3461",
   "metadata": {},
   "outputs": [],
   "source": []
  }
 ],
 "metadata": {
  "kernelspec": {
   "display_name": "Python 3 (ipykernel)",
   "language": "python",
   "name": "python3"
  },
  "language_info": {
   "codemirror_mode": {
    "name": "ipython",
    "version": 3
   },
   "file_extension": ".py",
   "mimetype": "text/x-python",
   "name": "python",
   "nbconvert_exporter": "python",
   "pygments_lexer": "ipython3",
   "version": "3.9.21"
  }
 },
 "nbformat": 4,
 "nbformat_minor": 5
}
