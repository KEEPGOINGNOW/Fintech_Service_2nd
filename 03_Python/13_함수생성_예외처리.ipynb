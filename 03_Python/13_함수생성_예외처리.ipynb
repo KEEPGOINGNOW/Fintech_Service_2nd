{
 "cells": [
  {
   "cell_type": "markdown",
   "id": "4fa5edba",
   "metadata": {},
   "source": [
    "# 함수 생성\n",
    "- print(), split(), input() => 함수\n",
    "- 함수의 괄호 안에 값을 넣으면 출력하거나 입력받거나 변환 수행\n",
    "- 만들어져 있는 도구\n",
    "- function 기능\n",
    "- 자주 사용하는 기능을 미리 만들어서 **반복 재사용**을 할 수 있게 만든 것\n"
   ]
  },
  {
   "cell_type": "code",
   "execution_count": 4,
   "id": "2c9be97b",
   "metadata": {},
   "outputs": [
    {
     "name": "stdout",
     "output_type": "stream",
     "text": [
      "[10, 20, 30, 40]\n"
     ]
    }
   ],
   "source": [
    "# 리스트의 자료에 10을 곱해서 다시 리스트로 출력\n",
    "# result = [10,20,30,40]\n",
    "l = [1,2,3,4]\n",
    "result = []\n",
    "for i in l:\n",
    "    result.append(i*10)\n",
    "print(result)\n"
   ]
  },
  {
   "cell_type": "code",
   "execution_count": 29,
   "id": "81db8b52",
   "metadata": {},
   "outputs": [
    {
     "data": {
      "text/plain": [
       "[10, 20, 30, 40]"
      ]
     },
     "execution_count": 29,
     "metadata": {},
     "output_type": "execute_result"
    }
   ],
   "source": [
    "# 매번 코드를 작성을 하는 것이 쉽지 않음\n",
    "# 자주 사용하는 기능 미리 생성\n",
    "\n",
    "def mul10(num):\n",
    "    result_in_func = []\n",
    "    for i in num:\n",
    "        result_in_func.append(i*10)\n",
    "    return result_in_func\n",
    "\n",
    "mul10(l)"
   ]
  },
  {
   "cell_type": "code",
   "execution_count": 9,
   "id": "088326f7",
   "metadata": {},
   "outputs": [
    {
     "name": "stdout",
     "output_type": "stream",
     "text": [
      "[1, 2, 3, 4, 5, 6, 7, 8, 9, 10, 11, 12, 13, 14, 15, 16, 17, 18, 19, 20, 21, 22, 23, 24, 25, 26, 27, 28, 29, 30, 31, 32, 33, 34, 35, 36, 37, 38, 39, 40, 41, 42, 43, 44, 45, 46, 47, 48, 49, 50] "
     ]
    }
   ],
   "source": [
    "# 리스트 할당\n",
    "l2 = list(range(1,51))\n",
    "print(l2, end=' ')"
   ]
  },
  {
   "cell_type": "code",
   "execution_count": 27,
   "id": "680e54fd",
   "metadata": {},
   "outputs": [
    {
     "name": "stdout",
     "output_type": "stream",
     "text": [
      "[10, 20, 30, 40, 50, 60, 70, 80, 90, 100, 110, 120, 130, 140, 150, 160, 170, 180, 190, 200, 210, 220, 230, 240, 250, 260, 270, 280, 290, 300, 310, 320, 330, 340, 350, 360, 370, 380, 390, 400, 410, 420, 430, 440, 450, 460, 470, 480, 490, 500] "
     ]
    }
   ],
   "source": [
    "# 결과 확인\n",
    "print(mul10(l2), end=' ')"
   ]
  },
  {
   "cell_type": "markdown",
   "id": "040db2f7",
   "metadata": {},
   "source": [
    "# 함수 생성 방법\n",
    "- def 함수이름(변수명1, 변수명2,...):<br>\n",
    "____ 실행코드<br>\n",
    "____return 반환할 값(결과)<br>\n"
   ]
  },
  {
   "cell_type": "code",
   "execution_count": 25,
   "id": "31958c94",
   "metadata": {},
   "outputs": [
    {
     "name": "stdout",
     "output_type": "stream",
     "text": [
      "Hello Python 함수 만들기 반갑습니다\n"
     ]
    }
   ],
   "source": [
    "# 함수 정의\n",
    "def hello(string):\n",
    "        print('Hello Python 함수 만들기',string)\n",
    "hello('반갑습니다')"
   ]
  },
  {
   "cell_type": "markdown",
   "id": "a553cc78",
   "metadata": {},
   "source": [
    "# 함수 호출 순서\n",
    "- 함수는 호출하기 전에 반드시 먼저 정의해야 함\n",
    "- 함수 정의가 함수 실행보다 위에 있어야 함\n",
    "- VScode에서는 위에서 밑으로 코드(명령)가 실행되므로 함수 실행이 먼저 있으면 실행 X"
   ]
  },
  {
   "cell_type": "code",
   "execution_count": 23,
   "id": "77877bf6",
   "metadata": {},
   "outputs": [
    {
     "name": "stdout",
     "output_type": "stream",
     "text": [
      "Helo2 파이썬 함수 생성\n"
     ]
    }
   ],
   "source": [
    "# 함수 정의 전에 사용 X\n",
    "# 함수를 정의하고 실행하면 사용 가능\n",
    "# 셀 단위로 실행이 되기 때문에 가능\n",
    "hello2()\n"
   ]
  },
  {
   "cell_type": "code",
   "execution_count": 28,
   "id": "f1d791cf",
   "metadata": {},
   "outputs": [
    {
     "name": "stdout",
     "output_type": "stream",
     "text": [
      "Helo2 파이썬 함수 생성\n"
     ]
    }
   ],
   "source": [
    "# 함수 정의\n",
    "def hello2():\n",
    "    print('Helo2 파이썬 함수 생성')\n",
    "hello2()"
   ]
  },
  {
   "cell_type": "markdown",
   "id": "8b237394",
   "metadata": {},
   "source": [
    "# 함수의 매개변수\n",
    "- 함수의 () 안에 받는 값을 저장하는 변수\n",
    "- () 안에 값을 받아서 함수 내에서 처리할 때 사용"
   ]
  },
  {
   "cell_type": "markdown",
   "id": "cc514d47",
   "metadata": {},
   "source": [
    "- 매개 변수 1개짜리 함수"
   ]
  },
  {
   "cell_type": "code",
   "execution_count": 34,
   "id": "4cd5de47",
   "metadata": {},
   "outputs": [],
   "source": [
    "# 원의 넓이를 구하는 함수 - 반지름 * 반지름 * 3.14((반지금 ** 2)*3.14 )\n",
    "def circle(c):\n",
    "    print(f\"반지름 길이가 {c}인 원의 넓이 = {(c**2)*3.14} 입니다.\")\n"
   ]
  },
  {
   "cell_type": "code",
   "execution_count": 36,
   "id": "692cf22b",
   "metadata": {},
   "outputs": [
    {
     "name": "stdout",
     "output_type": "stream",
     "text": [
      "반지름 길이가 10인 원의 넓이 = 314.0 입니다.\n"
     ]
    }
   ],
   "source": [
    " # 함수 사용\n",
    "circle(10)"
   ]
  },
  {
   "cell_type": "markdown",
   "id": "e8932304",
   "metadata": {},
   "source": [
    "- 변수를 2개 적용하는 경우\n",
    "- 덧셈 함수 생성"
   ]
  },
  {
   "cell_type": "code",
   "execution_count": 37,
   "id": "6186471e",
   "metadata": {},
   "outputs": [],
   "source": [
    "def add(a, b):\n",
    "    return a+b\n"
   ]
  },
  {
   "cell_type": "code",
   "execution_count": 40,
   "id": "06ee2eb3",
   "metadata": {},
   "outputs": [
    {
     "name": "stdout",
     "output_type": "stream",
     "text": [
      "5\n"
     ]
    }
   ],
   "source": [
    "print(add(2,3))"
   ]
  },
  {
   "cell_type": "markdown",
   "id": "5e8b9e4d",
   "metadata": {},
   "source": [
    "- 매개변수 3개짜리 함수\n",
    "- num_maker라는 함수를 매개변수 3개를 이용해서 생성\n",
    "- 숫자를 3개 입력받아 첫번째 숫자는 시작숫자, 두번째 숫자는 끝숫자, 마지막 숫자는 step으로 작동\n",
    "- num_maker(1,11,2)\n",
    "    -  결과 : 1,3,5,7,9"
   ]
  },
  {
   "cell_type": "code",
   "execution_count": 52,
   "id": "cc5de12d",
   "metadata": {},
   "outputs": [],
   "source": [
    "def  num_maker(a,b,c):\n",
    "    result = list(range(a,b,c))\n",
    "    return result\n"
   ]
  },
  {
   "cell_type": "code",
   "execution_count": 50,
   "id": "f312a5e0",
   "metadata": {},
   "outputs": [
    {
     "data": {
      "text/plain": [
       "[1, 3, 5, 7, 9]"
      ]
     },
     "execution_count": 50,
     "metadata": {},
     "output_type": "execute_result"
    }
   ],
   "source": [
    "num_maker(1,11,2)"
   ]
  },
  {
   "cell_type": "code",
   "execution_count": 53,
   "id": "7df226d6",
   "metadata": {},
   "outputs": [],
   "source": [
    "def num_maker2(a,b,c):\n",
    "    result = list(range(a,b,c))\n",
    "    result2 = []\n",
    "    print(result)\n",
    "    for i in result:\n",
    "        result2.append(i*10)\n",
    "    print(result2)\n",
    "    return result, result2\n"
   ]
  },
  {
   "cell_type": "code",
   "execution_count": 54,
   "id": "a9ea705f",
   "metadata": {},
   "outputs": [
    {
     "name": "stdout",
     "output_type": "stream",
     "text": [
      "[1, 3, 5, 7, 9]\n",
      "[10, 30, 50, 70, 90]\n"
     ]
    },
    {
     "data": {
      "text/plain": [
       "([1, 3, 5, 7, 9], [10, 30, 50, 70, 90])"
      ]
     },
     "execution_count": 54,
     "metadata": {},
     "output_type": "execute_result"
    }
   ],
   "source": [
    "num_maker2(1,11,2)"
   ]
  },
  {
   "cell_type": "markdown",
   "id": "6a6a6853",
   "metadata": {},
   "source": [
    "# 리턴 값이 여러 개인 함수\n"
   ]
  },
  {
   "cell_type": "code",
   "execution_count": 55,
   "id": "ce9b7985",
   "metadata": {},
   "outputs": [],
   "source": [
    "# 덧셈/뺄셈 함수\n",
    "def add_sub(a,b):\n",
    "    add = a + b\n",
    "    sub = a - b\n",
    "    return add, sub"
   ]
  },
  {
   "cell_type": "code",
   "execution_count": 58,
   "id": "7c4aa6a6",
   "metadata": {},
   "outputs": [
    {
     "name": "stdout",
     "output_type": "stream",
     "text": [
      "8\n",
      "-2\n"
     ]
    }
   ],
   "source": [
    "# 각각의 리턴 값을 따로 저장 및 확인\n",
    "add_result, sub_result = add_sub(3, 5)\n",
    "print(add_result)\n",
    "print(sub_result)"
   ]
  },
  {
   "cell_type": "code",
   "execution_count": 61,
   "id": "9f71f57c",
   "metadata": {},
   "outputs": [
    {
     "name": "stdout",
     "output_type": "stream",
     "text": [
      "(9, -3) <class 'tuple'>\n",
      "9 -3\n"
     ]
    }
   ],
   "source": [
    "# 리턴 값이 여러 개인 경우 튜플로 할당\n",
    "result = add_sub(3,6)\n",
    "print(result,type(result)) \n",
    "print(result[0], result[1])"
   ]
  },
  {
   "cell_type": "markdown",
   "id": "dbfbb757",
   "metadata": {},
   "source": [
    "- num_maker2 : 정방향, 역방향 리스트가 출력되는 함수\n",
    "- 3개의 숫자를 입력받아서 숫자 리스트를 만듦\n",
    "- 리스트 + 3을 한 결과를 리스트로 반환\n",
    "- 한 번은 정방향으로 출력\n",
    "- 또 한 번은 역방향으로 출력\n"
   ]
  },
  {
   "cell_type": "code",
   "execution_count": 80,
   "id": "1e415d1b",
   "metadata": {},
   "outputs": [],
   "source": [
    "def num_maker2(start, end, step):\n",
    "    list_result = list(range(start, end, step))\n",
    "    list_result_reverse = list_result[::-1]\n",
    "#     print(list_result, list_reseult_reverse)\n",
    "    return list_result, list_result_reverse"
   ]
  },
  {
   "cell_type": "code",
   "execution_count": 157,
   "id": "75853151",
   "metadata": {},
   "outputs": [
    {
     "name": "stdout",
     "output_type": "stream",
     "text": [
      "[]\n",
      "[]\n"
     ]
    }
   ],
   "source": [
    "result = num_maker2(30, 10, 3)\n",
    "print(result[0])\n",
    "print(result[1])"
   ]
  },
  {
   "cell_type": "code",
   "execution_count": 86,
   "id": "a98e9075",
   "metadata": {},
   "outputs": [
    {
     "name": "stdout",
     "output_type": "stream",
     "text": [
      "1 2 3 4 5 6 7 8 9 9 8 7 6 5 4 3 2 1 "
     ]
    }
   ],
   "source": [
    "for i in result:\n",
    "#     print(i)\n",
    "    for j in i:\n",
    "        print(j, end = ' ')"
   ]
  },
  {
   "cell_type": "markdown",
   "id": "daf81865",
   "metadata": {},
   "source": [
    "# 중간에 함수를 종료시키는 용도의  return\n",
    "- 반복문에서 break 처럼 활용 가능\n",
    "- 함수 내에서 return이 실행되면 함수는 종료\n"
   ]
  },
  {
   "cell_type": "markdown",
   "id": "cb96e085",
   "metadata": {},
   "source": [
    "- 1에서 100까지 숫자 중에서 짝수만 더해서 출력\n",
    "- 단, 숫자가 50 이상이 되면 멈추시오\n"
   ]
  },
  {
   "cell_type": "code",
   "execution_count": 131,
   "id": "980381c5",
   "metadata": {},
   "outputs": [],
   "source": [
    "def even(num):\n",
    "#     print(num)\n",
    "    hap = 0\n",
    "    for i in num:\n",
    "#         print(i)\n",
    "        if i < 50:\n",
    "            if i % 2 == 0:\n",
    "                print(f\"{i} + {hap} =\", end='')\n",
    "                hap += i\n",
    "                print(f\" {hap}\", end='\\n')\n",
    "#             print(hap)\n",
    "        else:\n",
    "            return hap"
   ]
  },
  {
   "cell_type": "code",
   "execution_count": 132,
   "id": "8a6f287e",
   "metadata": {},
   "outputs": [
    {
     "name": "stdout",
     "output_type": "stream",
     "text": [
      "2 + 0 = 2\n",
      "4 + 2 = 6\n",
      "6 + 6 = 12\n",
      "8 + 12 = 20\n",
      "10 + 20 = 30\n",
      "12 + 30 = 42\n",
      "14 + 42 = 56\n",
      "16 + 56 = 72\n",
      "18 + 72 = 90\n",
      "20 + 90 = 110\n",
      "22 + 110 = 132\n",
      "24 + 132 = 156\n",
      "26 + 156 = 182\n",
      "28 + 182 = 210\n",
      "30 + 210 = 240\n",
      "32 + 240 = 272\n",
      "34 + 272 = 306\n",
      "36 + 306 = 342\n",
      "38 + 342 = 380\n",
      "40 + 380 = 420\n",
      "42 + 420 = 462\n",
      "44 + 462 = 506\n",
      "46 + 506 = 552\n",
      "48 + 552 = 600\n"
     ]
    },
    {
     "data": {
      "text/plain": [
       "600"
      ]
     },
     "execution_count": 132,
     "metadata": {},
     "output_type": "execute_result"
    }
   ],
   "source": [
    "even(list(range(1,101)))"
   ]
  },
  {
   "cell_type": "markdown",
   "id": "09601bfe",
   "metadata": {},
   "source": [
    "- 점수를 입력 받아서 91-100 : A학점, 81-90 : B학점, 71-80 : C학점, 61-70 : D학점, 60점 이하 : F학점\n",
    "- 각 점수에 따른 학점 출력하는 student_grade 함수 생성\n",
    "- 점수를 입력받음 : input()\n",
    "- student_grade 함수에 입력받은 값을 넣어줌\n",
    "- student_grade 함수에서는 입력받은 값을 비교하여 학점 출력\n"
   ]
  },
  {
   "cell_type": "code",
   "execution_count": 149,
   "id": "401da26d",
   "metadata": {},
   "outputs": [],
   "source": [
    "def student_geade(score):\n",
    "    if 90 < score <= 100:\n",
    "        return f'{score} 점수는 A 학점'\n",
    "    elif 80 < score <= 90:\n",
    "        return f'{score} 점수는 B 학점'\n",
    "    elif 70 < score <= 80:\n",
    "        return f'{score} 점수는 C 학점'\n",
    "    elif 60 < score <= 70:\n",
    "        return f'{score} 점수는 D 학점'\n",
    "    else:\n",
    "        return f'{score} 점수는 F 학점'\n"
   ]
  },
  {
   "cell_type": "code",
   "execution_count": 150,
   "id": "b8893593",
   "metadata": {},
   "outputs": [
    {
     "name": "stdout",
     "output_type": "stream",
     "text": [
      "점수를 입력하세요: 56\n"
     ]
    },
    {
     "data": {
      "text/plain": [
       "'56 점수는 F 학점'"
      ]
     },
     "execution_count": 150,
     "metadata": {},
     "output_type": "execute_result"
    }
   ],
   "source": [
    "score = int(input('점수를 입력하세요: '))\n",
    "student_geade(score)"
   ]
  },
  {
   "cell_type": "markdown",
   "id": "4653b2bb",
   "metadata": {},
   "source": [
    "**----------------------------------------------------------------------------------------------------------------------------------------------------**\n"
   ]
  },
  {
   "cell_type": "markdown",
   "id": "9d26ef13",
   "metadata": {},
   "source": [
    "# 인수 : 함수에 집어넣는 자료(매개변수에 넣는 자료)\n",
    "#### 위치인수(positional argument)\n",
    "    - 위치가 고정된 인수\n",
    "#### 가변위치인수(args, Variable-length Arguments)\n",
    "    - 여러 개의 자료를 넣을 수 있는 인수\n",
    "#### 키워드 인수(keyword arguments)\n",
    "    - 매개변수에 이름을 명시하여 인수를 넣어주는 것\n",
    "#### 가변 키워드 인수(kwargs, Variable-lenght keyword arguments)\n",
    "    - 키워드 인수를 숫자 제한 없이 넣는 경우"
   ]
  },
  {
   "cell_type": "markdown",
   "id": "9e63ee51",
   "metadata": {},
   "source": [
    "#### 위치인수(positional argument)\n",
    "- 넣는 순서와 개수를 일치시켜야 함\n",
    "- 리스트 / 튜플 언패킹으로 여러 개의 자료를 풀어서 넣기"
   ]
  },
  {
   "cell_type": "code",
   "execution_count": 158,
   "id": "eb489640",
   "metadata": {},
   "outputs": [],
   "source": [
    "def print_nums(a, b, c):\n",
    "    print(a, b, c)\n"
   ]
  },
  {
   "cell_type": "code",
   "execution_count": 170,
   "id": "aac05954",
   "metadata": {},
   "outputs": [],
   "source": [
    "# 입력받는 변수보다 적거나 많으면 오류 발생\n",
    "# print_nums(1, 5)\n",
    "\n",
    "# 변수 혹은 자료를 3개를 넣어줘야 오류 발생 X\n",
    "# l1 = [1,2,3]\n",
    "# print_nums(l1)"
   ]
  },
  {
   "cell_type": "code",
   "execution_count": 173,
   "id": "a8b92bab",
   "metadata": {},
   "outputs": [
    {
     "name": "stdout",
     "output_type": "stream",
     "text": [
      "1 2 3\n"
     ]
    }
   ],
   "source": [
    "print(*l1)"
   ]
  },
  {
   "cell_type": "code",
   "execution_count": 169,
   "id": "9f6b41c5",
   "metadata": {},
   "outputs": [
    {
     "name": "stdout",
     "output_type": "stream",
     "text": [
      "1 2 3\n"
     ]
    }
   ],
   "source": [
    "# *list명 : 리스트 언패킹되어 리스트 안의 자료들이 삽입됨\n",
    "print_nums(*l1)"
   ]
  },
  {
   "cell_type": "markdown",
   "id": "a8bd626e",
   "metadata": {},
   "source": [
    "#### 가변위치인수(args)\n",
    "- 자료의 개수의 제한 없이 넣을 수 있는 인수\n"
   ]
  },
  {
   "cell_type": "code",
   "execution_count": 178,
   "id": "b0f8b572",
   "metadata": {},
   "outputs": [],
   "source": [
    "def print_nums(*nums):\n",
    "    print(nums) ## 튜플로 할당\n",
    "    for i in nums:\n",
    "        print(i, end=' ')"
   ]
  },
  {
   "cell_type": "code",
   "execution_count": 177,
   "id": "2e0d94bf",
   "metadata": {},
   "outputs": [
    {
     "name": "stdout",
     "output_type": "stream",
     "text": [
      "(1, 2, 3, 4, 5, 6, 7, 8, 9, 10)\n",
      "1 2 3 4 5 6 7 8 9 10 "
     ]
    }
   ],
   "source": [
    "print_nums(1,2,3,4,5,6,7,8,9,10)"
   ]
  },
  {
   "cell_type": "markdown",
   "id": "e4398c34",
   "metadata": {},
   "source": [
    "- my_sum 함수 생성\n",
    "- 여러 개의 숫자를 입력받으면 합계를 구해주는 함수"
   ]
  },
  {
   "cell_type": "code",
   "execution_count": 186,
   "id": "595b8228",
   "metadata": {},
   "outputs": [],
   "source": [
    "def my_sum(*args):\n",
    "    hap = 0\n",
    "    for i in args:\n",
    "#         print(i)\n",
    "        hap += i\n",
    "    return hap"
   ]
  },
  {
   "cell_type": "code",
   "execution_count": 187,
   "id": "0caede0b",
   "metadata": {},
   "outputs": [
    {
     "name": "stdout",
     "output_type": "stream",
     "text": [
      "55\n"
     ]
    }
   ],
   "source": [
    "result = my_sum(1,2,3,4,5,6,7,8,9,10)\n",
    "print(result)"
   ]
  },
  {
   "cell_type": "code",
   "execution_count": 191,
   "id": "c74d4216",
   "metadata": {},
   "outputs": [
    {
     "data": {
      "text/plain": [
       "500500"
      ]
     },
     "execution_count": 191,
     "metadata": {},
     "output_type": "execute_result"
    }
   ],
   "source": [
    "my_sum(*list(range(1,1001)))"
   ]
  },
  {
   "cell_type": "markdown",
   "id": "5e19483d",
   "metadata": {},
   "source": [
    "- 위치인수와 가변인수 동시에 받기\n",
    "- 위치인수와 가변인수를 동시에 받는 경우 반드시 위치인수가 먼저 와야 한다"
   ]
  },
  {
   "cell_type": "code",
   "execution_count": 245,
   "id": "2d043583",
   "metadata": {},
   "outputs": [],
   "source": [
    "# 정수와 리스트를 입력받아 리스트의 요소에 입력받은 정수를 곱하는 함수\n",
    "def muls(a, *args):\n",
    "    print(a, args)\n",
    "    result = []\n",
    "    for num in args:\n",
    "#         print(num)\n",
    "        result.append(a*num)\n",
    "    return result"
   ]
  },
  {
   "cell_type": "code",
   "execution_count": 247,
   "id": "4d01a97c",
   "metadata": {},
   "outputs": [
    {
     "name": "stdout",
     "output_type": "stream",
     "text": [
      "2 (1, 2, 3, 4, 5)\n"
     ]
    },
    {
     "data": {
      "text/plain": [
       "[2, 4, 6, 8, 10]"
      ]
     },
     "execution_count": 247,
     "metadata": {},
     "output_type": "execute_result"
    }
   ],
   "source": [
    "l2 = [1,2,3,4,5]\n",
    "# muls(2, *l2)\n",
    "muls(2, *l2)"
   ]
  },
  {
   "cell_type": "markdown",
   "id": "9ea2d1c9",
   "metadata": {},
   "source": [
    "#### 키워드 인수\n",
    "- 매개변수 이름을 직접 입력하고 자료 할당\n",
    "- 키워드 인수는 기본값 설정 가능"
   ]
  },
  {
   "cell_type": "code",
   "execution_count": 212,
   "id": "f280ff50",
   "metadata": {},
   "outputs": [
    {
     "name": "stdout",
     "output_type": "stream",
     "text": [
      "1 vs 2 vs 3 !!"
     ]
    }
   ],
   "source": [
    "print(1,2,3, sep=' vs ', end=' !!')\n"
   ]
  },
  {
   "cell_type": "markdown",
   "id": "2171eb64",
   "metadata": {},
   "source": [
    "- 개인 정보를 출력하는 함수\n"
   ]
  },
  {
   "cell_type": "code",
   "execution_count": 221,
   "id": "35199d57",
   "metadata": {},
   "outputs": [],
   "source": [
    "def personal_info(name='이름 입력되지 않음', age='나이 입력되지 않음', address='주소 입력되지 않음'):\n",
    "    print('이름: ', name)\n",
    "    print('나이: ', age)\n",
    "    print('주소: ', address)"
   ]
  },
  {
   "cell_type": "code",
   "execution_count": 223,
   "id": "d1dca8d5",
   "metadata": {},
   "outputs": [
    {
     "name": "stdout",
     "output_type": "stream",
     "text": [
      "이름:  홍길동\n",
      "나이:  30\n",
      "주소:  주소 입력되지 않음\n",
      "\n",
      "이름:  이름 입력되지 않음\n",
      "나이:  나이 입력되지 않음\n",
      "주소:  주소 입력되지 않음\n"
     ]
    }
   ],
   "source": [
    "personal_info(name = '홍길동', age = 30)\n",
    "print()\n",
    "personal_info()"
   ]
  },
  {
   "cell_type": "markdown",
   "id": "06fc78a3",
   "metadata": {},
   "source": [
    "- 딕셔너리 언패킹\n",
    "- 딕셔너리 앞에 **을 붙여서 딕셔너리 언패킹 가능\n",
    "- **{'address':'서울시 강남구','name':'홍길동','age':30}"
   ]
  },
  {
   "cell_type": "code",
   "execution_count": 225,
   "id": "b21dd9fa",
   "metadata": {},
   "outputs": [
    {
     "name": "stdout",
     "output_type": "stream",
     "text": [
      "이름:  홍길동\n",
      "나이:  30\n",
      "주소:  서울시 강남구\n"
     ]
    }
   ],
   "source": [
    "# 딕셔너리 언패킹하여 함수 활용\n",
    "personal_info(**{'address':'서울시 강남구','name':'홍길동','age':30})"
   ]
  },
  {
   "cell_type": "markdown",
   "id": "264e876c",
   "metadata": {},
   "source": [
    "- 키워드가변인수\n",
    "\n",
    "def 함수명(**kwargs)<br>\n"
   ]
  },
  {
   "cell_type": "code",
   "execution_count": 233,
   "id": "1197d5a9",
   "metadata": {},
   "outputs": [],
   "source": [
    "def personal_info2(**kwargs):\n",
    "    print(kwargs)\n",
    "    key = list(kwargs.keys())\n",
    "    value = list(kwargs.values())\n",
    "    print(key)\n",
    "    print(value)"
   ]
  },
  {
   "cell_type": "code",
   "execution_count": 234,
   "id": "8696010c",
   "metadata": {},
   "outputs": [
    {
     "name": "stdout",
     "output_type": "stream",
     "text": [
      "{'address': '서울시', 'name': '홍길동'}\n",
      "['address', 'name']\n",
      "['서울시', '홍길동']\n"
     ]
    }
   ],
   "source": [
    "personal_info2(address='서울시', name='홍길동')\n"
   ]
  },
  {
   "cell_type": "markdown",
   "id": "5d434373",
   "metadata": {},
   "source": [
    "- 위치인수와 키워드 가변인수 같이 사용\n",
    "- 위치인수 다음에 키워드 가변인수가 와야 한다"
   ]
  },
  {
   "cell_type": "code",
   "execution_count": 243,
   "id": "174b45b4",
   "metadata": {},
   "outputs": [],
   "source": [
    "def personal_info3(num, **kwargs):\n",
    "    print(kwargs)\n",
    "    key = list(kwargs.keys())\n",
    "    value = list(kwargs.values())\n",
    "    print(num)\n",
    "    print(key)\n",
    "    print(value)"
   ]
  },
  {
   "cell_type": "code",
   "execution_count": 244,
   "id": "04dbdf6a",
   "metadata": {},
   "outputs": [
    {
     "name": "stdout",
     "output_type": "stream",
     "text": [
      "{'address': '서울시', 'name': '홍길동'}\n",
      "1\n",
      "['address', 'name']\n",
      "['서울시', '홍길동']\n"
     ]
    }
   ],
   "source": [
    "personal_info3(1, address='서울시', name='홍길동')"
   ]
  },
  {
   "cell_type": "markdown",
   "id": "0a5b200b",
   "metadata": {},
   "source": [
    "- 가변인수와 키워드 가변인수 함께 사용\n",
    "- 가변인수 -> 키워드 가변인수 순으로 작성\n",
    "- def 함수명(*args, **kwargs)\n"
   ]
  },
  {
   "cell_type": "code",
   "execution_count": 259,
   "id": "552f1060",
   "metadata": {},
   "outputs": [],
   "source": [
    "def custom_print(*args, **kwargs):\n",
    "#     print(args, kwargs)\n",
    "    # *args = 1,2,3\n",
    "    # **kwargs = sep='||', end='!!'\n",
    "    print(*args, **kwargs)"
   ]
  },
  {
   "cell_type": "code",
   "execution_count": 260,
   "id": "74e72f81",
   "metadata": {},
   "outputs": [
    {
     "name": "stdout",
     "output_type": "stream",
     "text": [
      "1||2||3!!"
     ]
    }
   ],
   "source": [
    "custom_print(1,2,3, sep='||', end='!!')"
   ]
  },
  {
   "cell_type": "code",
   "execution_count": 261,
   "id": "5fcaffa0",
   "metadata": {},
   "outputs": [
    {
     "name": "stdout",
     "output_type": "stream",
     "text": [
      "1||2||3!!"
     ]
    }
   ],
   "source": [
    "print(1,2,3, sep='||', end='!!')"
   ]
  },
  {
   "cell_type": "markdown",
   "id": "8772e620",
   "metadata": {},
   "source": [
    "#### 매개변수 = 함수에서 자료를 받는 경우 사용하는 변수\n",
    "- 위치인수(a) : 위치가 고정된 인수, 위치인수는 키워드 인수로 사용 가능(변수명=값)\n",
    "- 가변인수(*args) : 여러 개의 자료를 동시에 받을 수 있는 인수, tuple로 변환되어 반환\n",
    "- 키워드 가변인수(**kwargs) : 여러 개의 자료를 동시에 받을 수 있는데 key=vlaue형태(dict)로 받는 인수"
   ]
  },
  {
   "cell_type": "markdown",
   "id": "656aaa22",
   "metadata": {},
   "source": [
    "- 매개변수에 초기값 지정\n",
    "- 초기값이 지정된 매개변수는 반드시 마지막에 위치\n",
    "- 위치인수,  키워드 인수, 가변인수, 키워드 가변인수 동시에 다 사용하는 경우\n",
    "    - 위치인수 => 키워드 인수(기본값), 가변인수, 키워드 가변인수 순서로 사용\n",
    "    "
   ]
  },
  {
   "cell_type": "code",
   "execution_count": 285,
   "id": "8670ac53",
   "metadata": {},
   "outputs": [],
   "source": [
    "def personal_info6(idx, address='비공개', *args, **kwargs):\n",
    "    print(f\"idx: {idx}\" )\n",
    "    print(f\"address: {address}\" )\n",
    "    print(f\"*args: {args}\" )\n",
    "    print(f\"**kwargs: {kwargs}\" )"
   ]
  },
  {
   "cell_type": "code",
   "execution_count": 287,
   "id": "b8059152",
   "metadata": {},
   "outputs": [
    {
     "name": "stdout",
     "output_type": "stream",
     "text": [
      "idx: 1\n",
      "address: 비공개\n",
      "*args: (30, 40, 50, '서울')\n",
      "**kwargs: {'이름': '홍길동', '성별': '남자'}\n"
     ]
    }
   ],
   "source": [
    "personal_info6(1, 30, 40, 50,이름='홍길동', 성별='남자')"
   ]
  },
  {
   "cell_type": "markdown",
   "id": "863d0b89",
   "metadata": {},
   "source": [
    "- 함수 dec스트링 사용\n",
    "- 함수의 기능을 설명하거나 사용법을 함수 내에 적어 놓는 것<br>\n",
    "- def 함수이름(매개변수):<br>\n",
    "  \"\"\"독스트링으로 설명\"\"\"<br>\n",
    "-  docstring : 함수 실행시에는 출력되지 않음\n",
    "- print(함수이름.__doc__)\n",
    "- help(함수이름)"
   ]
  },
  {
   "cell_type": "code",
   "execution_count": 291,
   "id": "ff724687",
   "metadata": {},
   "outputs": [
    {
     "name": "stdout",
     "output_type": "stream",
     "text": [
      "Help on function personal_info6 in module __main__:\n",
      "\n",
      "personal_info6(idx, *args, address='비공개', **kwargs)\n",
      "\n",
      "None\n"
     ]
    }
   ],
   "source": [
    "help(personal_info6)\n",
    "print(personal_info6.__doc__)"
   ]
  },
  {
   "cell_type": "code",
   "execution_count": 292,
   "id": "a327b279",
   "metadata": {},
   "outputs": [],
   "source": [
    "def add(a,b):\n",
    "    \"\"\"\n",
    "    이 함수는 a와 b를 더한 뒤 결과를 반환하는 함수입니다.\n",
    "    \"\"\"\n",
    "    result = a+b\n",
    "    return result\n"
   ]
  },
  {
   "cell_type": "code",
   "execution_count": 294,
   "id": "a8e018f1",
   "metadata": {},
   "outputs": [
    {
     "name": "stdout",
     "output_type": "stream",
     "text": [
      "Help on function add in module __main__:\n",
      "\n",
      "add(a, b)\n",
      "    이 함수는 a와 b를 더한 뒤 결과를 반환하는 함수입니다.\n",
      "\n"
     ]
    }
   ],
   "source": [
    "help(add)"
   ]
  },
  {
   "cell_type": "markdown",
   "id": "ce8f4b3d",
   "metadata": {},
   "source": [
    "# 람다 표현식(lambda expression)\n",
    "- 익명함수(함수 이름이 없음)\n",
    "- 간단한 함수를 작성하거나 다른 함수의 인수로 함수를 넣을 때 사용\n",
    "- 사용 후 메모리에서 삭제\n",
    "- lambda 매개변수: return할 값, 계산\n",
    "- (lambda x: x + 10)(5)\n",
    "- plus_ten = lambda x: x + 10\n",
    "- plus_ten(5)"
   ]
  },
  {
   "cell_type": "code",
   "execution_count": 296,
   "id": "ccac1a99",
   "metadata": {},
   "outputs": [],
   "source": [
    "# 지금까지 메모리에 저장된 작업 내용을 확인 가능\n",
    "# print(globals()) "
   ]
  },
  {
   "cell_type": "code",
   "execution_count": 297,
   "id": "e3b104cc",
   "metadata": {},
   "outputs": [],
   "source": [
    "# 자료 1개를 입력받아 10을 더해 리턴하는 함수\n",
    "def plus_ten(x):\n",
    "    return x + 10"
   ]
  },
  {
   "cell_type": "code",
   "execution_count": 300,
   "id": "3b256b77",
   "metadata": {},
   "outputs": [
    {
     "data": {
      "text/plain": [
       "15"
      ]
     },
     "execution_count": 300,
     "metadata": {},
     "output_type": "execute_result"
    }
   ],
   "source": [
    "plus_ten(5)"
   ]
  },
  {
   "cell_type": "code",
   "execution_count": 303,
   "id": "41a3b02e",
   "metadata": {},
   "outputs": [
    {
     "data": {
      "text/plain": [
       "15"
      ]
     },
     "execution_count": 303,
     "metadata": {},
     "output_type": "execute_result"
    }
   ],
   "source": [
    "# 람다 함수 사용\n",
    "(lambda x: x + 10)(5)"
   ]
  },
  {
   "cell_type": "code",
   "execution_count": 304,
   "id": "bd7d61fa",
   "metadata": {},
   "outputs": [
    {
     "data": {
      "text/plain": [
       "15"
      ]
     },
     "execution_count": 304,
     "metadata": {},
     "output_type": "execute_result"
    }
   ],
   "source": [
    "# 람다 함수를 변수 할당 -> 잘 사용하지는 않음\n",
    "plus_ten = lambda x: x + 10\n",
    "plus_ten(5)"
   ]
  },
  {
   "cell_type": "code",
   "execution_count": 307,
   "id": "2f5af16b",
   "metadata": {},
   "outputs": [
    {
     "data": {
      "text/plain": [
       "'홀수'"
      ]
     },
     "execution_count": 307,
     "metadata": {},
     "output_type": "execute_result"
    }
   ],
   "source": [
    "# 숫자를 넣어서 홀짝 구분하는 람다 함수\n",
    "(lambda x: '짝수' if x % 2 == 0 else '홀수')(11)"
   ]
  },
  {
   "cell_type": "markdown",
   "id": "c4325cf2",
   "metadata": {},
   "source": [
    "- 1에서 10까지 수 중에서 3의 배수만 문자열로 변경\n"
   ]
  },
  {
   "cell_type": "code",
   "execution_count": 314,
   "id": "3684371e",
   "metadata": {},
   "outputs": [],
   "source": [
    "def tostr(x):\n",
    "    result = []\n",
    "    for i in x:\n",
    "        if i % 3 == 0:\n",
    "            result.append(str(i))\n",
    "        else:\n",
    "            result.append(i)\n",
    "    return result"
   ]
  },
  {
   "cell_type": "code",
   "execution_count": 321,
   "id": "1e84534e",
   "metadata": {},
   "outputs": [
    {
     "data": {
      "text/plain": [
       "[1, 2, '3', 4, 5, '6', 7, 8, '9', 10]"
      ]
     },
     "execution_count": 321,
     "metadata": {},
     "output_type": "execute_result"
    }
   ],
   "source": [
    "tostr(list(range(1,11)))"
   ]
  },
  {
   "cell_type": "code",
   "execution_count": 329,
   "id": "57646cf2",
   "metadata": {},
   "outputs": [],
   "source": [
    "# 람다함수 \n",
    "tostr2 = (lambda x: str(x) if x % 3 == 0 else x)"
   ]
  },
  {
   "cell_type": "code",
   "execution_count": 332,
   "id": "b84381ed",
   "metadata": {},
   "outputs": [
    {
     "name": "stdout",
     "output_type": "stream",
     "text": [
      "<class 'int'>\n"
     ]
    },
    {
     "data": {
      "text/plain": [
       "[1, 2, '3', 4, 5, '6', 7, 8, '9', 10]"
      ]
     },
     "execution_count": 332,
     "metadata": {},
     "output_type": "execute_result"
    }
   ],
   "source": [
    "# 람다함수 적용\n",
    "a = list(map((lambda x: str(x) if x % 3 == 0 else x), range(1,11)))\n",
    "print(type(a[0]))\n",
    "a"
   ]
  },
  {
   "cell_type": "code",
   "execution_count": 333,
   "id": "5a7d822c",
   "metadata": {},
   "outputs": [],
   "source": [
    "# 간단하게 반복문 작성하는 경우 적용\n",
    "# .apply(lambda x: str(x) if x % 3 == 0 else x)"
   ]
  },
  {
   "cell_type": "code",
   "execution_count": 338,
   "id": "4333122f",
   "metadata": {},
   "outputs": [],
   "source": [
    "a = [1,2,3,4,5]\n",
    "b = [2,4,6,8,10]\n",
    "c = [3,6,9,12,15]"
   ]
  },
  {
   "cell_type": "code",
   "execution_count": 341,
   "id": "26768dd5",
   "metadata": {},
   "outputs": [
    {
     "data": {
      "text/plain": [
       "[6, 48, 162, 384, 750]"
      ]
     },
     "execution_count": 341,
     "metadata": {},
     "output_type": "execute_result"
    }
   ],
   "source": [
    "result = []\n",
    "for x, y, z in zip(a, b, c):\n",
    "    result.append(x * y * z)\n",
    "result"
   ]
  },
  {
   "cell_type": "code",
   "execution_count": 344,
   "id": "242d2546",
   "metadata": {},
   "outputs": [
    {
     "data": {
      "text/plain": [
       "[6, 48, 162, 384, 750]"
      ]
     },
     "execution_count": 344,
     "metadata": {},
     "output_type": "execute_result"
    }
   ],
   "source": [
    "# map() 함수 활용법 공부\n",
    "list(map(lambda x, y, z: x*y*z, a,b,c))"
   ]
  },
  {
   "cell_type": "code",
   "execution_count": null,
   "id": "a2df3b0b",
   "metadata": {},
   "outputs": [],
   "source": []
  },
  {
   "cell_type": "code",
   "execution_count": null,
   "id": "22aaf9bb",
   "metadata": {},
   "outputs": [],
   "source": []
  }
 ],
 "metadata": {
  "kernelspec": {
   "display_name": "Python 3 (ipykernel)",
   "language": "python",
   "name": "python3"
  },
  "language_info": {
   "codemirror_mode": {
    "name": "ipython",
    "version": 3
   },
   "file_extension": ".py",
   "mimetype": "text/x-python",
   "name": "python",
   "nbconvert_exporter": "python",
   "pygments_lexer": "ipython3",
   "version": "3.9.21"
  }
 },
 "nbformat": 4,
 "nbformat_minor": 5
}
