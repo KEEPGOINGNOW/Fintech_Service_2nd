{
 "cells": [
  {
   "cell_type": "markdown",
   "id": "2b520d0f",
   "metadata": {},
   "source": [
    "# 딕셔너리 사용\n",
    "- dict 타입, JSON형이라고도 함\n",
    "- web에서 자료를 주고 받을 때 주로 사용하는 형식\n",
    "- key : value 쌍으로 이루어진 자료형\n",
    "- key 호출하면 value가 나옴\n",
    "- key에는 list, dict를 제외한 자료형이 올 수 있음\n",
    "- value에는 모든 자료형의 자료가 들어갈 수 있음\n"
   ]
  },
  {
   "cell_type": "markdown",
   "id": "c8f9a229",
   "metadata": {},
   "source": [
    "## 딕셔너리 생성\n",
    "- 중괄호 안에 key : value 쌍으로 생성\n",
    "- 빈 딕셔너리 생성 가능 : {}\n",
    "- dict() 함수 이용해 대량의 딕셔너리 생성 가능"
   ]
  },
  {
   "cell_type": "code",
   "execution_count": 1,
   "id": "8d69713a",
   "metadata": {},
   "outputs": [
    {
     "name": "stdout",
     "output_type": "stream",
     "text": [
      "{'년월': '20250314', '국가': '미국', '방문자수': 1000}\n"
     ]
    },
    {
     "data": {
      "text/plain": [
       "'미국'"
      ]
     },
     "execution_count": 1,
     "metadata": {},
     "output_type": "execute_result"
    }
   ],
   "source": [
    "# 딕셔너리 할당\n",
    "d = {'년월': '20250314', '국가':'미국', '방문자수': 1000}\n",
    "print(d)\n",
    "\n",
    "# 딕셔너리 인덱싱\n",
    "d['국가']\n"
   ]
  },
  {
   "cell_type": "code",
   "execution_count": 2,
   "id": "437f7cb1",
   "metadata": {},
   "outputs": [
    {
     "name": "stdout",
     "output_type": "stream",
     "text": [
      "{} <class 'dict'>\n"
     ]
    }
   ],
   "source": [
    "# 빈 딕셔너리 생성 및 확인\n",
    "d2 = {}\n",
    "print(d2, type(d2))"
   ]
  },
  {
   "cell_type": "markdown",
   "id": "7d9bfe14",
   "metadata": {},
   "source": [
    "## dict key의 자료형\n",
    "- 문자열, 정수, 실수, boolen(True, False), 튜플\n",
    "- dict, list는 key가 될 수 없음\n"
   ]
  },
  {
   "cell_type": "code",
   "execution_count": 3,
   "id": "7673be76",
   "metadata": {},
   "outputs": [
    {
     "name": "stdout",
     "output_type": "stream",
     "text": [
      "{'백': 100, 100: '백', 3.5: [3.5, 3.7], False: 0, (0, '서울'): '종로구'}\n"
     ]
    }
   ],
   "source": [
    "# 여러 key 자료형을 적용해 딕셔너리 생성 및 확인\n",
    "d3 = {'백':100, 100:'백', 3.5:[3.5, 3.7], False:0, (0,'서울'):'종로구'}\n",
    "print(d3)"
   ]
  },
  {
   "cell_type": "code",
   "execution_count": 4,
   "id": "2f4f8bff",
   "metadata": {},
   "outputs": [
    {
     "ename": "TypeError",
     "evalue": "unhashable type: 'list'",
     "output_type": "error",
     "traceback": [
      "\u001b[1;31m---------------------------------------------------------------------------\u001b[0m",
      "\u001b[1;31mTypeError\u001b[0m                                 Traceback (most recent call last)",
      "Cell \u001b[1;32mIn[4], line 2\u001b[0m\n\u001b[0;32m      1\u001b[0m \u001b[38;5;66;03m# 리스트는 키값에 들어갈 수 없으므로 오류 발생\u001b[39;00m\n\u001b[1;32m----> 2\u001b[0m d4 \u001b[38;5;241m=\u001b[39m {\u001b[38;5;124m'\u001b[39m\u001b[38;5;124m백\u001b[39m\u001b[38;5;124m'\u001b[39m:\u001b[38;5;241m100\u001b[39m, \u001b[38;5;241m100\u001b[39m:\u001b[38;5;124m'\u001b[39m\u001b[38;5;124m백\u001b[39m\u001b[38;5;124m'\u001b[39m, \u001b[38;5;241m3.5\u001b[39m:[\u001b[38;5;241m3.5\u001b[39m, \u001b[38;5;241m3.7\u001b[39m], \u001b[38;5;28;01mFalse\u001b[39;00m:\u001b[38;5;241m0\u001b[39m, (\u001b[38;5;241m0\u001b[39m,\u001b[38;5;124m'\u001b[39m\u001b[38;5;124m서울\u001b[39m\u001b[38;5;124m'\u001b[39m):\u001b[38;5;124m'\u001b[39m\u001b[38;5;124m종로구\u001b[39m\u001b[38;5;124m'\u001b[39m,[\u001b[38;5;241m1\u001b[39m,\u001b[38;5;241m2\u001b[39m]:\u001b[38;5;124m'\u001b[39m\u001b[38;5;124m리스트\u001b[39m\u001b[38;5;124m'\u001b[39m}\n\u001b[0;32m      3\u001b[0m d4\n",
      "\u001b[1;31mTypeError\u001b[0m: unhashable type: 'list'"
     ]
    }
   ],
   "source": [
    "# 리스트는 키값에 들어갈 수 없으므로 오류 발생\n",
    "d4 = {'백':100, 100:'백', 3.5:[3.5, 3.7], False:0, (0,'서울'):'종로구',[1,2]:'리스트'}\n",
    "d4"
   ]
  },
  {
   "cell_type": "code",
   "execution_count": null,
   "id": "e9c0e98c",
   "metadata": {},
   "outputs": [],
   "source": [
    "# 딕셔너리 인덱싱\n",
    "print(d3[100])\n",
    "print(d3[3.5])\n",
    "print(d3[False])\n",
    "print(d3[(0,'서울')])"
   ]
  },
  {
   "cell_type": "markdown",
   "id": "8dbfd781",
   "metadata": {},
   "source": [
    "## 딕셔너리 value의 자료형\n",
    "- value는 모든 자료형이 올 수 있다\n"
   ]
  },
  {
   "cell_type": "code",
   "execution_count": null,
   "id": "cfa94f22",
   "metadata": {},
   "outputs": [],
   "source": [
    "# 여러 자료형을 value에 적용한 딕셔너리 할당 및 확인\n",
    "d4 = {'정수':100, '실수':3.5, '문자열':'딕셔너리의 값', '리스트':[1,2,3,4], \n",
    "      '튜플':(1,2,3,4), '딕셔너리':{'키':'값'}, '블린':True}\n",
    "d4"
   ]
  },
  {
   "cell_type": "code",
   "execution_count": null,
   "id": "7d0dfdd7",
   "metadata": {},
   "outputs": [],
   "source": [
    "# 딕셔너리 인덱싱\n",
    "print(d4['정수'])\n",
    "print(d4['실수'])\n",
    "print(d4['문자열'])\n",
    "print(d4['리스트'])\n",
    "print(d4['튜플'])\n",
    "print(d4['딕셔너리'])\n",
    "print(d4['블린'])\n"
   ]
  },
  {
   "cell_type": "markdown",
   "id": "1ee19b56",
   "metadata": {},
   "source": [
    "## 빈 딕셔너리 생성\n",
    "- 변수 = {}\n",
    "- 변수 = dict()\n"
   ]
  },
  {
   "cell_type": "code",
   "execution_count": null,
   "id": "7526110a",
   "metadata": {},
   "outputs": [],
   "source": [
    "# 빈 딕셔너리 할당 및 확인\n",
    "d5 = {}\n",
    "print(d5, type(d5))\n"
   ]
  },
  {
   "cell_type": "code",
   "execution_count": null,
   "id": "1f9fe58d",
   "metadata": {},
   "outputs": [],
   "source": [
    "# 빈 딕셔너리 할당 및 확인\n",
    "d6 = dict()\n",
    "print(d6, type(d6))"
   ]
  },
  {
   "cell_type": "markdown",
   "id": "ea85724e",
   "metadata": {},
   "source": [
    "## 딕셔너리에 자료 추가\n",
    "- 변수['key'] = value\n",
    "- 이미 key가 있는 경우에는 자료가 수정됨"
   ]
  },
  {
   "cell_type": "code",
   "execution_count": null,
   "id": "5c3e2dad",
   "metadata": {},
   "outputs": [],
   "source": [
    "# 빈 딕셔너리 자료 추가\n",
    "d5['번호'] = 0\n",
    "print(d5)\n"
   ]
  },
  {
   "cell_type": "code",
   "execution_count": null,
   "id": "95abdec2",
   "metadata": {},
   "outputs": [],
   "source": [
    "# 빈 딕셔너리 자료 추가\n",
    "d5['리스트'] = [1,2,3]\n",
    "d5"
   ]
  },
  {
   "cell_type": "code",
   "execution_count": null,
   "id": "896e8d2b",
   "metadata": {},
   "outputs": [],
   "source": [
    "# 이미 key가 있는 경우 다른 자료를 넣을면 자료가 수정됨\n",
    "d5['번호'] = 5\n",
    "d5"
   ]
  },
  {
   "cell_type": "markdown",
   "id": "a13b6eba",
   "metadata": {},
   "source": [
    "### 딕셔너리에서 key가 중복되면 나중에 들어온 key로 내용으로 변경됨\n"
   ]
  },
  {
   "cell_type": "code",
   "execution_count": null,
   "id": "9aac7d58",
   "metadata": {},
   "outputs": [],
   "source": [
    "# 딕셔너리 할당 및 확인\n",
    "# 나중에 입력한 자료가 나타남\n",
    "d7 = {'번호': 0, '이름': '홍길동', '나이':30, \n",
    "      '번호': 1, '이름': '둘리', '나이': 15 }\n",
    "d7"
   ]
  },
  {
   "cell_type": "markdown",
   "id": "f97d32a8",
   "metadata": {},
   "source": [
    "## dict 함수를 사용해서 dict 생성\n",
    "- dict(key1:value1, key2:value2, key3:value3, ...)\n",
    "- key에 ', \"\"를 사용하지 않음\n",
    "- key는 모두 문자형으로 반환\n",
    "- vlaue가 문자형 자료면 반드시 \"\"가 필요"
   ]
  },
  {
   "cell_type": "code",
   "execution_count": null,
   "id": "8592a020",
   "metadata": {},
   "outputs": [],
   "source": [
    "# dict 적용 딕셔너리 할당 및 확인\n",
    "dict_ex1 = dict(정수=100, 실수=3.5, 문자='문자열',\n",
    "               리스트=[1,2,3], 튜플=(1,2,3), 딕셔너리={'key':'value'})\n",
    "print(dict_ex1)"
   ]
  },
  {
   "cell_type": "markdown",
   "id": "32c42458",
   "metadata": {},
   "source": [
    "- dict([(key1,value1), (key2,value2)])\n",
    "- 리스트 안에 key, value 쌍으로 된 튜플 넣어서 생성\n"
   ]
  },
  {
   "cell_type": "code",
   "execution_count": 5,
   "id": "e7c24c14",
   "metadata": {},
   "outputs": [
    {
     "name": "stdout",
     "output_type": "stream",
     "text": [
      "{'정수': 3, '실수': 3.5, '문자열': '문자열입니다.', 'list': [1, 2, 3], 'tuple': (1, 2, 3), 'dict': {'key': 'value'}}\n"
     ]
    },
    {
     "data": {
      "text/plain": [
       "3.5"
      ]
     },
     "execution_count": 5,
     "metadata": {},
     "output_type": "execute_result"
    }
   ],
   "source": [
    "# dict 활용 딕셔너리 할당 및 확인\n",
    "dict_ex2 = dict([('정수',3), ('실수',3.5), \n",
    "                 ('문자열','문자열입니다.'), ('list',[1,2,3]),\n",
    "                ('tuple',(1,2,3)), ('dict',{'key':'value'})])\n",
    "print(dict_ex2)\n",
    "\n",
    "# 딕셔너리 인덱싱\n",
    "dict_ex2['실수']"
   ]
  },
  {
   "cell_type": "code",
   "execution_count": 6,
   "id": "3f90d29d",
   "metadata": {},
   "outputs": [
    {
     "data": {
      "text/plain": [
       "3.5"
      ]
     },
     "execution_count": 6,
     "metadata": {},
     "output_type": "execute_result"
    }
   ],
   "source": [
    "# 딕셔너리 인덱싱\n",
    "dict_ex2['실수']"
   ]
  },
  {
   "cell_type": "markdown",
   "id": "c1758fdf",
   "metadata": {},
   "source": [
    "- dict(zip([key1,key2,key3,key4], [value1,value2,value3,value4]))\n",
    "- key 묶음 리스트와 value 묶음 리스트를 zip 함수로 합친 후 dict 생성\n",
    "- key 묶음의 요소 개수와 value 묶음의 요소 개수가 일치해야 가능"
   ]
  },
  {
   "cell_type": "code",
   "execution_count": 7,
   "id": "fc713159",
   "metadata": {},
   "outputs": [
    {
     "name": "stdout",
     "output_type": "stream",
     "text": [
      "1\n",
      "2\n",
      "3\n"
     ]
    }
   ],
   "source": [
    "# for문 확인\n",
    "for a in [1,2,3]:\n",
    "    print(a)"
   ]
  },
  {
   "cell_type": "code",
   "execution_count": 8,
   "id": "f90178f4",
   "metadata": {},
   "outputs": [
    {
     "name": "stdout",
     "output_type": "stream",
     "text": [
      "1 5 9\n",
      "2 6 10\n",
      "3 7 11\n",
      "4 8 12\n"
     ]
    }
   ],
   "source": [
    "# zip함수 적용하여 for문 확인\n",
    "for a, b, c in zip([1,2,3,4], [5,6,7,8], [9,10,11,12]):\n",
    "    print(a,b,c)\n"
   ]
  },
  {
   "cell_type": "code",
   "execution_count": 9,
   "id": "30df31da",
   "metadata": {},
   "outputs": [
    {
     "name": "stdout",
     "output_type": "stream",
     "text": [
      "{'정수': 10, '실수': 13.5, '문자열': '문자열 입니다.', '리스트': [1, 2, 3], '튜플': (1, 2, 3), '딕셔너리': {10: 30}}\n"
     ]
    }
   ],
   "source": [
    "# zip 함수 적용 딕셔너리 할당 및 확인\n",
    "dict_ex3 = dict(zip(['정수','실수','문자열','리스트','튜플','딕셔너리'],\n",
    "               [10, 13.5, '문자열 입니다.', [1,2,3], (1,2,3), {10:30}]))\n",
    "print(dict_ex3)\n"
   ]
  },
  {
   "cell_type": "markdown",
   "id": "3a0f41de",
   "metadata": {},
   "source": [
    "## 딕셔너리에서 값 삭제\n",
    "- del 변수명['key'] : key와 value 쌍이 모두 제거"
   ]
  },
  {
   "cell_type": "code",
   "execution_count": 10,
   "id": "3ed23fc4",
   "metadata": {},
   "outputs": [
    {
     "name": "stdout",
     "output_type": "stream",
     "text": [
      "{'정수': 10, '실수': 13.5, '문자열': '문자열 입니다.', '리스트': [1, 2, 3], '튜플': (1, 2, 3), '딕셔너리': {10: 30}}\n"
     ]
    }
   ],
   "source": [
    "# 딕셔너리 확인\n",
    "print(dict_ex3)"
   ]
  },
  {
   "cell_type": "code",
   "execution_count": 11,
   "id": "5b73ccae",
   "metadata": {},
   "outputs": [
    {
     "data": {
      "text/plain": [
       "{'정수': 10, '실수': 13.5, '문자열': '문자열 입니다.', '리스트': [1, 2, 3], '튜플': (1, 2, 3)}"
      ]
     },
     "execution_count": 11,
     "metadata": {},
     "output_type": "execute_result"
    }
   ],
   "source": [
    "# del 적용 딕셔너리 값 삭제 및 확인\n",
    "del dict_ex3['딕셔너리']\n",
    "dict_ex3"
   ]
  },
  {
   "cell_type": "code",
   "execution_count": 12,
   "id": "5a767cf5",
   "metadata": {},
   "outputs": [
    {
     "name": "stdout",
     "output_type": "stream",
     "text": [
      "[1, 2]\n"
     ]
    }
   ],
   "source": [
    "# pop 적용 딕셔너리 값 삭제 및 확인\n",
    "dict_ex3['리스트'].pop()\n",
    "print(dict_ex3['리스트'])\n"
   ]
  },
  {
   "cell_type": "code",
   "execution_count": 13,
   "id": "2cefd69a",
   "metadata": {},
   "outputs": [
    {
     "data": {
      "text/plain": [
       "{'정수': 10, '실수': 13.5, '문자열': '문자열 입니다.', '리스트': [1, 2], '튜플': (1, 2, 3)}"
      ]
     },
     "execution_count": 13,
     "metadata": {},
     "output_type": "execute_result"
    }
   ],
   "source": [
    "# 딕셔너리 확인\n",
    "dict_ex3"
   ]
  },
  {
   "cell_type": "markdown",
   "id": "5f10ca45",
   "metadata": {},
   "source": [
    "## 딕셔너리 안에 특정 key가 있는지 확인\n"
   ]
  },
  {
   "cell_type": "code",
   "execution_count": 14,
   "id": "dae7c0cb",
   "metadata": {},
   "outputs": [
    {
     "name": "stdout",
     "output_type": "stream",
     "text": [
      "True\n"
     ]
    },
    {
     "data": {
      "text/plain": [
       "False"
      ]
     },
     "execution_count": 14,
     "metadata": {},
     "output_type": "execute_result"
    }
   ],
   "source": [
    "# in은 딕셔너리의 키 값만 확인 가능\n",
    "print('리스트' in dict_ex3)\n",
    "\n",
    "# 값을 확인하는 것은 불가능\n",
    "10 in dict_ex3"
   ]
  },
  {
   "cell_type": "markdown",
   "id": "f924c2d5",
   "metadata": {},
   "source": [
    "### 딕셔너리 안에 key가 몇 개 있는지 확인"
   ]
  },
  {
   "cell_type": "code",
   "execution_count": 15,
   "id": "6c53c075",
   "metadata": {},
   "outputs": [
    {
     "name": "stdout",
     "output_type": "stream",
     "text": [
      "{'정수': 10, '실수': 13.5, '문자열': '문자열 입니다.', '리스트': [1, 2], '튜플': (1, 2, 3)}\n"
     ]
    },
    {
     "data": {
      "text/plain": [
       "5"
      ]
     },
     "execution_count": 15,
     "metadata": {},
     "output_type": "execute_result"
    }
   ],
   "source": [
    "# 딕셔너리 확인\n",
    "print(dict_ex3)\n",
    "\n",
    "# len : 딕셔너리 키의 수 확인\n",
    "len(dict_ex3)\n"
   ]
  },
  {
   "cell_type": "code",
   "execution_count": 16,
   "id": "2ea89878",
   "metadata": {},
   "outputs": [
    {
     "name": "stdout",
     "output_type": "stream",
     "text": [
      "{'info': [{'name': 'Alice', 'scores': (95, 88, 92)}, {'name': 'Bob', 'scores': (78, 85, 89)}], 'extra': {'hobbies': ['reading', 'coding'], 'location': ('Seoul', 'Busan')}}\n"
     ]
    },
    {
     "data": {
      "text/plain": [
       "2"
      ]
     },
     "execution_count": 16,
     "metadata": {},
     "output_type": "execute_result"
    }
   ],
   "source": [
    "# 딕셔너리 할당 및 확인\n",
    "data = {'info': [{'name': 'Alice', 'scores': (95, 88, 92)},\n",
    "                {'name': 'Bob', 'scores': (78, 85, 89)}],\n",
    "         'extra': {'hobbies': ['reading', 'coding'], \n",
    "                   'location': ('Seoul', 'Busan')}}\n",
    "print(data)\n",
    "\n",
    "# 딕셔너리 키의 개수 확인\n",
    "len(data)"
   ]
  },
  {
   "cell_type": "markdown",
   "id": "291bb72e",
   "metadata": {},
   "source": [
    "## 딕셔너리 함수 사용\n",
    "### setdafault(key, value)\n",
    "- 딕셔너리에 key와 value를 추가\n",
    "- key가 중복되면 나중에 추가하는 값을 무시(원래 자료 보존)\n",
    "- key만 넣고 value를 생략하면 자동으로 'None'이 입력\n"
   ]
  },
  {
   "cell_type": "code",
   "execution_count": 17,
   "id": "9317e89c",
   "metadata": {},
   "outputs": [
    {
     "name": "stdout",
     "output_type": "stream",
     "text": [
      "{'년월': '20250314', '국가': '미국', '방문자수': 1000}\n",
      "{'년월': 2020412, '국가': '미국', '방문자수': 1000}\n"
     ]
    }
   ],
   "source": [
    "# d 확인\n",
    "print(d)\n",
    "\n",
    "# 자료를 잘못 입력했다고 가정\n",
    "d['년월'] = 2020412\n",
    "print(d)"
   ]
  },
  {
   "cell_type": "code",
   "execution_count": 18,
   "id": "9d936d3c",
   "metadata": {},
   "outputs": [
    {
     "name": "stdout",
     "output_type": "stream",
     "text": [
      "{'년월': 2020412, '국가': '미국', '방문자수': 1000, '날씨': '맑음'}\n"
     ]
    }
   ],
   "source": [
    "# setdefault 적용 안됨 : 이미 존재하는 key값은 적용 X\n",
    "d.setdefault('년월',20250314)\n",
    "\n",
    "# setdefault 적용 및 확인\n",
    "d.setdefault('날씨','맑음')\n",
    "print(d)"
   ]
  },
  {
   "cell_type": "markdown",
   "id": "281797c8",
   "metadata": {},
   "source": [
    "### update(key=value)\n",
    "- 기존에 key가 있는 경우 값을 새로운 값으로 update\n",
    "- 기존에 key가 없는 경우 새로운 key, value 생성\n",
    "- key 부분은 ',\" 사용하지 않음\n"
   ]
  },
  {
   "cell_type": "code",
   "execution_count": 19,
   "id": "56e2ce61",
   "metadata": {},
   "outputs": [
    {
     "name": "stdout",
     "output_type": "stream",
     "text": [
      "{'년월': 2020412, '국가': '미국', '방문자수': 500, '날씨': '맑음'}\n"
     ]
    }
   ],
   "source": [
    "# update 적용하여 값 변경\n",
    "d.update(방문자수=500)\n",
    "print(d)"
   ]
  },
  {
   "cell_type": "code",
   "execution_count": 20,
   "id": "eac245a6",
   "metadata": {},
   "outputs": [
    {
     "name": "stdout",
     "output_type": "stream",
     "text": [
      "{'년월': 2020412, '국가': '미국', '방문자수': 500, '날씨': '맑음', '바람': '강함'}\n"
     ]
    }
   ],
   "source": [
    "# update 적용 새로운 키, 값 생상\n",
    "d.update(바람='강함')\n",
    "print(d)"
   ]
  },
  {
   "cell_type": "markdown",
   "id": "301fbc75",
   "metadata": {},
   "source": [
    "## .get() : 딕셔너리에서 value를 가져오는 함수\n",
    "- .get(key, key가 없을 때 기본 값)\n",
    "- 딕셔너리 내에 key가 있다가 없다가를 반복하는 경우 오류 방지"
   ]
  },
  {
   "cell_type": "code",
   "execution_count": 21,
   "id": "9007f822",
   "metadata": {},
   "outputs": [
    {
     "name": "stdout",
     "output_type": "stream",
     "text": [
      "{'년월': 2020412, '국가': '미국', '방문자수': 500, '날씨': '맑음', '바람': '강함'}\n",
      "강함\n",
      "--------------------------------------------------\n",
      "{'년월': 2020412, '국가': '미국', '방문자수': 500, '날씨': '맑음', '바람': '강함'}\n"
     ]
    }
   ],
   "source": [
    "# d 확인\n",
    "print(d)\n",
    "\n",
    "# 딕셔너리 인덱싱\n",
    "print(d['바람'])\n",
    "\n",
    "print('-'*50)\n",
    "\n",
    "# key값이 없기 때문에 오류 발생\n",
    "# d['강수량']\n",
    "\n",
    "# get 적용\n",
    "# 딕셔너리에 보이지는 않지만 값 적용\n",
    "d.get('강수량', '해당 키 없음')\n",
    "\n",
    "# d 확인\n",
    "print(d)"
   ]
  },
  {
   "cell_type": "code",
   "execution_count": 149,
   "id": "0acbacd0",
   "metadata": {},
   "outputs": [
    {
     "name": "stdout",
     "output_type": "stream",
     "text": [
      "{'년월': 2020412, '국가': '미국', '방문자수': 500, '날씨': '맑음', '바람': '강함'}\n"
     ]
    },
    {
     "data": {
      "text/plain": [
       "'강함'"
      ]
     },
     "execution_count": 149,
     "metadata": {},
     "output_type": "execute_result"
    }
   ],
   "source": [
    "# d 확인\n",
    "print(d)\n",
    "\n",
    "# 딕셔너리 인덱싱\n",
    "d['바람']\n"
   ]
  },
  {
   "cell_type": "code",
   "execution_count": 150,
   "id": "278a8d55",
   "metadata": {},
   "outputs": [
    {
     "ename": "KeyError",
     "evalue": "'강수량'",
     "output_type": "error",
     "traceback": [
      "\u001b[1;31m---------------------------------------------------------------------------\u001b[0m",
      "\u001b[1;31mKeyError\u001b[0m                                  Traceback (most recent call last)",
      "Cell \u001b[1;32mIn[150], line 2\u001b[0m\n\u001b[0;32m      1\u001b[0m \u001b[38;5;66;03m# key값이 없기 때문에 오류 발생\u001b[39;00m\n\u001b[1;32m----> 2\u001b[0m \u001b[43md\u001b[49m\u001b[43m[\u001b[49m\u001b[38;5;124;43m'\u001b[39;49m\u001b[38;5;124;43m강수량\u001b[39;49m\u001b[38;5;124;43m'\u001b[39;49m\u001b[43m]\u001b[49m\n",
      "\u001b[1;31mKeyError\u001b[0m: '강수량'"
     ]
    }
   ],
   "source": [
    "# key값이 없기 때문에 오류 발생\n",
    "d['강수량']"
   ]
  },
  {
   "cell_type": "code",
   "execution_count": 151,
   "id": "a5ee95a6",
   "metadata": {},
   "outputs": [
    {
     "data": {
      "text/plain": [
       "{'년월': 2020412, '국가': '미국', '방문자수': 500, '날씨': '맑음', '바람': '강함'}"
      ]
     },
     "execution_count": 151,
     "metadata": {},
     "output_type": "execute_result"
    }
   ],
   "source": [
    "# get 적용\n",
    "d.get('강수량', '해당 키 없음')\n",
    "d"
   ]
  },
  {
   "cell_type": "code",
   "execution_count": 152,
   "id": "02585676",
   "metadata": {},
   "outputs": [
    {
     "name": "stdout",
     "output_type": "stream",
     "text": [
      "{'info': [{'name': 'Alice', 'scores': (95, 88, 92)}, {'name': 'Bob', 'scores': (78, 85, 89)}], 'extra': {'hobbies': ['reading', 'coding'], 'location': ('Seoul', 'Busan')}}\n"
     ]
    },
    {
     "data": {
      "text/plain": [
       "(95, 88, 92)"
      ]
     },
     "execution_count": 152,
     "metadata": {},
     "output_type": "execute_result"
    }
   ],
   "source": [
    "# data 확인\n",
    "print(data)\n",
    "\n",
    "# 딕셔너리 인덱싱\n",
    "data['info'][0]['scores']"
   ]
  },
  {
   "cell_type": "markdown",
   "id": "07e15dcf",
   "metadata": {},
   "source": [
    "## 딕셔너리에서 key, value, (key, value)를 가져오는 함수\n",
    "- keys() :  딕셔너리에서 key만 출력\n",
    "- list() 함수로 형변환하면 list처럼 사용 가능\n"
   ]
  },
  {
   "cell_type": "code",
   "execution_count": 24,
   "id": "5cd0d7db",
   "metadata": {},
   "outputs": [
    {
     "name": "stdout",
     "output_type": "stream",
     "text": [
      "dict_keys(['info', 'extra']) <class 'dict_keys'>\n",
      "['info', 'extra'] <class 'list'>\n",
      "info\n"
     ]
    }
   ],
   "source": [
    "# keys 적용 : 딕셔너리의 키 확인\n",
    "print(data.keys(),type(data.keys()))\n",
    "\n",
    "# 리스트 형변환 적용 및 인덱싱 확인\n",
    "print(list(data.keys()),type(list(data.keys())))\n",
    "print(list(data.keys())[0])\n"
   ]
  },
  {
   "cell_type": "code",
   "execution_count": 154,
   "id": "416ae80c",
   "metadata": {},
   "outputs": [
    {
     "name": "stdout",
     "output_type": "stream",
     "text": [
      "info\n",
      "extra\n"
     ]
    }
   ],
   "source": [
    "# for문으로 반복 가능한지 확인\n",
    "for i in data.keys():\n",
    "    print(i)"
   ]
  },
  {
   "cell_type": "markdown",
   "id": "450d24ec",
   "metadata": {},
   "source": [
    "- values() : 딕셔너리에서 value만 출력\n",
    "- list() 형변환 통해서 list처럼 사용 가능\n",
    "- 반복문에서 사용 가능"
   ]
  },
  {
   "cell_type": "code",
   "execution_count": 155,
   "id": "c6c688b0",
   "metadata": {},
   "outputs": [
    {
     "data": {
      "text/plain": [
       "'Alice'"
      ]
     },
     "execution_count": 155,
     "metadata": {},
     "output_type": "execute_result"
    }
   ],
   "source": [
    "# values 적용 : 딕셔너리의 값 확인\n",
    "data.values()\n",
    "\n",
    "# 리스트 형변환 적용 및 인덱싱 확인\n",
    "list(data.values())[0][0]['name']\n"
   ]
  },
  {
   "cell_type": "code",
   "execution_count": 156,
   "id": "7c92c93b",
   "metadata": {},
   "outputs": [
    {
     "name": "stdout",
     "output_type": "stream",
     "text": [
      "[{'name': 'Alice', 'scores': (95, 88, 92)}, {'name': 'Bob', 'scores': (78, 85, 89)}]\n",
      "\n",
      "{'hobbies': ['reading', 'coding'], 'location': ('Seoul', 'Busan')}\n",
      "\n"
     ]
    }
   ],
   "source": [
    "# for문에서 확인\n",
    "for i in data.values():\n",
    "    print(i, end='\\n\\n')"
   ]
  },
  {
   "cell_type": "markdown",
   "id": "0d846ae1",
   "metadata": {},
   "source": [
    "- items() : key, value를 튜플 형태의 쌍으로 출력\n",
    "- list() 형변환 통해서 list처럼 사용 가능"
   ]
  },
  {
   "cell_type": "code",
   "execution_count": 157,
   "id": "636c1e51",
   "metadata": {},
   "outputs": [
    {
     "data": {
      "text/plain": [
       "dict_items([('info', [{'name': 'Alice', 'scores': (95, 88, 92)}, {'name': 'Bob', 'scores': (78, 85, 89)}]), ('extra', {'hobbies': ['reading', 'coding'], 'location': ('Seoul', 'Busan')})])"
      ]
     },
     "execution_count": 157,
     "metadata": {},
     "output_type": "execute_result"
    }
   ],
   "source": [
    "# items 적용\n",
    "data.items()"
   ]
  },
  {
   "cell_type": "code",
   "execution_count": 158,
   "id": "b1aef4e2",
   "metadata": {},
   "outputs": [
    {
     "name": "stdout",
     "output_type": "stream",
     "text": [
      "('info', [{'name': 'Alice', 'scores': (95, 88, 92)}, {'name': 'Bob', 'scores': (78, 85, 89)}])\n",
      "\n",
      "('extra', {'hobbies': ['reading', 'coding'], 'location': ('Seoul', 'Busan')})\n",
      "\n"
     ]
    }
   ],
   "source": [
    "# for문에서 확인\n",
    "for item in data.items():\n",
    "    print(item, end='\\n\\n')"
   ]
  },
  {
   "cell_type": "code",
   "execution_count": 159,
   "id": "d7665747",
   "metadata": {},
   "outputs": [
    {
     "data": {
      "text/plain": [
       "[('년월', 2020412), ('국가', '미국')]"
      ]
     },
     "execution_count": 159,
     "metadata": {},
     "output_type": "execute_result"
    }
   ],
   "source": [
    "# d 딕셔너리의 items 적용\n",
    "d.items()\n",
    "\n",
    "# 리스트 형변환 적용 및 인덱싱 확인\n",
    "list(d.items())[0:2]"
   ]
  },
  {
   "cell_type": "code",
   "execution_count": 160,
   "id": "630fc677",
   "metadata": {},
   "outputs": [
    {
     "name": "stdout",
     "output_type": "stream",
     "text": [
      "('년월', 2020412)\n",
      "\n",
      "('국가', '미국')\n",
      "\n",
      "('방문자수', 500)\n",
      "\n",
      "('날씨', '맑음')\n",
      "\n",
      "('바람', '강함')\n",
      "\n"
     ]
    }
   ],
   "source": [
    "# for문으로 확인\n",
    "for item in d.items():\n",
    "    print(item, end='\\n\\n')"
   ]
  },
  {
   "cell_type": "markdown",
   "id": "dbcd70ed",
   "metadata": {},
   "source": [
    "- pop() : 딕셔너리에서 데이터 삭제"
   ]
  },
  {
   "cell_type": "code",
   "execution_count": 28,
   "id": "41a3c60f",
   "metadata": {},
   "outputs": [
    {
     "name": "stdout",
     "output_type": "stream",
     "text": [
      "{'국가': '미국', '방문자수': 500, '날씨': '맑음', '바람': '강함'}\n",
      "--------------------------------------------------\n",
      "{'국가': '미국', '방문자수': 500, '날씨': '맑음'}\n"
     ]
    }
   ],
   "source": [
    "# del 적용 및 확인\n",
    "del d['년월']\n",
    "print(d)\n",
    "\n",
    "print('-'*50)\n",
    "\n",
    "# pop 적용 및 확인\n",
    "d.pop('바람')\n",
    "print(d)"
   ]
  },
  {
   "cell_type": "code",
   "execution_count": 161,
   "id": "7f6a1d86",
   "metadata": {},
   "outputs": [
    {
     "data": {
      "text/plain": [
       "{'국가': '미국', '방문자수': 500, '날씨': '맑음', '바람': '강함'}"
      ]
     },
     "execution_count": 161,
     "metadata": {},
     "output_type": "execute_result"
    }
   ],
   "source": [
    "# del 적용 및 확인\n",
    "del d['년월']\n",
    "print(d)"
   ]
  },
  {
   "cell_type": "code",
   "execution_count": 162,
   "id": "cdf7490a",
   "metadata": {},
   "outputs": [
    {
     "data": {
      "text/plain": [
       "{'국가': '미국', '방문자수': 500, '날씨': '맑음'}"
      ]
     },
     "execution_count": 162,
     "metadata": {},
     "output_type": "execute_result"
    }
   ],
   "source": [
    "# pop 적용 및 확인\n",
    "d.pop('바람')\n",
    "print(d)"
   ]
  },
  {
   "cell_type": "code",
   "execution_count": null,
   "id": "3069961a",
   "metadata": {},
   "outputs": [],
   "source": []
  },
  {
   "cell_type": "code",
   "execution_count": null,
   "id": "56ddabf7",
   "metadata": {},
   "outputs": [],
   "source": []
  }
 ],
 "metadata": {
  "kernelspec": {
   "display_name": "Python 3 (ipykernel)",
   "language": "python",
   "name": "python3"
  },
  "language_info": {
   "codemirror_mode": {
    "name": "ipython",
    "version": 3
   },
   "file_extension": ".py",
   "mimetype": "text/x-python",
   "name": "python",
   "nbconvert_exporter": "python",
   "pygments_lexer": "ipython3",
   "version": "3.9.21"
  }
 },
 "nbformat": 4,
 "nbformat_minor": 5
}
